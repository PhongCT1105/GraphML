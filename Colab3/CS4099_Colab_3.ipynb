{
 "cells": [
  {
   "cell_type": "markdown",
   "metadata": {},
   "source": [
    "**CS 4099: ST: Graph Machine Learning**\n",
    "\n",
    "Before you turn this problem in, make sure everything runs as expected. First, **restart the kernel** (in the menubar, select Kernel $\\rightarrow$ Restart) and then **run all cells** (in the menubar, select Cell $\\rightarrow$ Run All).\n",
    "\n",
    "Make sure you fill in any place that says `YOUR CODE HERE` or \"YOUR ANSWER HERE\", and to delete the line `raise NotImplementedError()` (which are included to remind you in case you forget to solve one of the coding questions).\n",
    "\n",
    "Do not forget to include your name below:"
   ]
  },
  {
   "cell_type": "code",
   "execution_count": 9,
   "metadata": {},
   "outputs": [],
   "source": [
    "NAME = \"Phong Cao\""
   ]
  },
  {
   "cell_type": "markdown",
   "metadata": {},
   "source": [
    "---"
   ]
  },
  {
   "cell_type": "markdown",
   "metadata": {
    "id": "XuXWJLEm2UWS"
   },
   "source": [
    "# **CS4099 - Colab 3**\n",
    "\n",
    "<font color='fucsia'>DUE: 11:59pm ET Thursday February 27</font>"
   ]
  },
  {
   "cell_type": "markdown",
   "metadata": {
    "id": "JwN7oATwUtMi"
   },
   "source": [
    "Credits: This Colab is based on:\n",
    "* MIT's 6.S191's Pytorch Intro Part 1.\n",
    "* Stanford CS224W's Colabs 1 and 2."
   ]
  },
  {
   "cell_type": "markdown",
   "metadata": {
    "id": "YRv76RzfUwJm"
   },
   "source": [
    "# Copyright Information"
   ]
  },
  {
   "cell_type": "code",
   "execution_count": null,
   "metadata": {
    "id": "PQEPldBZU31I"
   },
   "outputs": [],
   "source": [
    "# Copyright 2025 MIT Introduction to Deep Learning. All Rights Reserved.\n",
    "#\n",
    "# Licensed under the MIT License. You may not use this file except in compliance\n",
    "# with the License. Use and/or modification of this code outside of MIT Introduction\n",
    "# to Deep Learning must reference:\n",
    "#\n",
    "# © MIT Introduction to Deep Learning\n",
    "# http://introtodeeplearning.com\n",
    "#"
   ]
  },
  {
   "cell_type": "markdown",
   "metadata": {
    "id": "gYr6eYuQU_XR"
   },
   "source": [
    "# Part I: Intro to PyTorch\n",
    "\n",
    "In this lab, you'll get exposure to using PyTorch and learn how it can be used for deep learning. Go through the code and run each cell. Along the way, you'll encounter several ***TODO*** blocks -- follow the instructions to fill them out before running those cells and continuing."
   ]
  },
  {
   "cell_type": "markdown",
   "metadata": {
    "id": "OFFG37nBVYk3"
   },
   "source": [
    "## 0.1 Load PyTorch and other packages\n",
    "\n",
    "[PyTorch](https://pytorch.org/) is a popular deep learning library known for its flexibility and ease of use. Here we'll learn how computations are represented and how to define a simple neural network in PyTorch."
   ]
  },
  {
   "cell_type": "code",
   "execution_count": 10,
   "metadata": {
    "id": "ZbG6-rmbVYI8"
   },
   "outputs": [],
   "source": [
    "import torch\n",
    "import torch.nn as nn\n",
    "\n",
    "# # Download and import the MIT Introduction to Deep Learning package\n",
    "# !pip install mitdeeplearning --quiet\n",
    "# import mitdeeplearning as mdl\n",
    "\n",
    "import numpy as np\n",
    "import matplotlib.pyplot as plt"
   ]
  },
  {
   "cell_type": "markdown",
   "metadata": {
    "id": "ztZ9qzKmWCvM"
   },
   "source": [
    "## 0.2 What is PyTorch?\n",
    "\n",
    "PyTorch is a machine learning library, like TensorFlow. At its core, PyTorch provides an interface for creating and manipulating [tensors](https://pytorch.org/docs/stable/tensors.html), which are data structures that you can think of as multi-dimensional arrays. Tensors are represented as n-dimensional arrays of base datatypes such as a string or integer -- they provide a way to generalize vectors and matrices to higher dimensions. PyTorch provides the ability to perform computation on these tensors, define neural networks, and train them efficiently.\n",
    "\n",
    "The [```shape```](https://pytorch.org/docs/stable/generated/torch.Tensor.shape.html#torch.Tensor.shape) of a PyTorch tensor defines its number of dimensions and the size of each dimension. The `ndim` or [```dim```](https://pytorch.org/docs/stable/generated/torch.Tensor.dim.html#torch.Tensor.dim) of a PyTorch tensor provides the number of dimensions (n-dimensions) -- this is equivalent to the tensor's rank (as is used in TensorFlow), and you can also think of this as the tensor's order or degree.\n",
    "\n",
    "Let’s start by creating some tensors and inspecting their properties:"
   ]
  },
  {
   "cell_type": "code",
   "execution_count": 11,
   "metadata": {
    "id": "ZEHQmbQ7WFs1"
   },
   "outputs": [
    {
     "name": "stdout",
     "output_type": "stream",
     "text": [
      "`integer` is a 0-d Tensor: 1234\n",
      "`decimal` is a 0-d Tensor: 3.1415927410125732\n"
     ]
    }
   ],
   "source": [
    "integer = torch.tensor(1234)\n",
    "decimal = torch.tensor(3.14159265359)\n",
    "\n",
    "print(f\"`integer` is a {integer.ndim}-d Tensor: {integer}\")\n",
    "print(f\"`decimal` is a {decimal.ndim}-d Tensor: {decimal}\")"
   ]
  },
  {
   "cell_type": "markdown",
   "metadata": {
    "id": "TvuBQW3yWNGz"
   },
   "source": [
    "Vectors and lists can be used to create 1-d tensors:\n"
   ]
  },
  {
   "cell_type": "code",
   "execution_count": 12,
   "metadata": {
    "id": "7LvFoW55WQ0c"
   },
   "outputs": [
    {
     "name": "stdout",
     "output_type": "stream",
     "text": [
      "`fibonacci` is a 1-d Tensor with shape: torch.Size([6])\n",
      "`count_to_100` is a 1-d Tensor with shape: torch.Size([100])\n"
     ]
    }
   ],
   "source": [
    "fibonacci = torch.tensor([1, 1, 2, 3, 5, 8])\n",
    "count_to_100 = torch.tensor(range(100))\n",
    "\n",
    "print(f\"`fibonacci` is a {fibonacci.ndim}-d Tensor with shape: {fibonacci.shape}\")\n",
    "print(f\"`count_to_100` is a {count_to_100.ndim}-d Tensor with shape: {count_to_100.shape}\")\n"
   ]
  },
  {
   "cell_type": "markdown",
   "metadata": {
    "id": "D2zF7oI_WUr1"
   },
   "source": [
    "## Question 1.1: Defining Tensors (1 point)\n",
    "\n",
    "Next, let’s create 2-d (i.e., matrices) and higher-rank tensors. In image processing and computer vision, we will use 4-d Tensors with dimensions corresponding to batch size, number of color channels, image height, and image width."
   ]
  },
  {
   "cell_type": "code",
   "execution_count": 13,
   "metadata": {
    "deletable": false,
    "id": "jB3QQdNXWWtK",
    "nbgrader": {
     "cell_type": "code",
     "checksum": "90dbf521318ba7527beec5db1c7f4498",
     "grade": true,
     "grade_id": "q1_1",
     "locked": false,
     "points": 1,
     "schema_version": 3,
     "solution": true,
     "task": false
    }
   },
   "outputs": [
    {
     "name": "stdout",
     "output_type": "stream",
     "text": [
      "matrix is a 2-d Tensor with shape: torch.Size([2, 2])\n",
      "images is a 4-d Tensor with shape: torch.Size([10, 3, 256, 256])\n"
     ]
    }
   ],
   "source": [
    "### Defining higher-order Tensors ###\n",
    "\n",
    "'''TODO: Define a 2-d Tensor. (1 line)'''\n",
    "matrix = None\n",
    "matrix = torch.tensor([[1,2], [3,4]])\n",
    "\n",
    "assert isinstance(matrix, torch.Tensor), \"matrix must be a torch Tensor object\"\n",
    "assert matrix.ndim == 2\n",
    "print(f\"matrix is a {matrix.ndim}-d Tensor with shape: {matrix.shape}\")\n",
    "\n",
    "'''TODO: Define a 4-d Tensor. (1 line)'''\n",
    "# Use torch.zeros to initialize a 4-d Tensor of zeros with size 10 x 3 x 256 x 256.\n",
    "#   You can think of this as 10 images where each image is RGB 256 x 256.\n",
    "images = None\n",
    "# YOUR CODE HERE\n",
    "images = torch.zeros(10, 3, 256, 256)\n",
    "\n",
    "assert isinstance(images, torch.Tensor), \"images must be a torch Tensor object\"\n",
    "assert images.ndim == 4, \"images must have 4 dimensions\"\n",
    "assert images.shape == (10, 3, 256, 256), \"images is incorrect shape\"\n",
    "print(f\"images is a {images.ndim}-d Tensor with shape: {images.shape}\")"
   ]
  },
  {
   "cell_type": "markdown",
   "metadata": {
    "id": "uDRAz1sYXA1-"
   },
   "source": [
    "As you have seen, the `shape` of a tensor provides the number of elements in each tensor dimension. The `shape` is quite useful, and we'll use it often. You can also use slicing to access subtensors within a higher-rank tensor:"
   ]
  },
  {
   "cell_type": "code",
   "execution_count": 14,
   "metadata": {
    "id": "Yft2WyfJXdoy"
   },
   "outputs": [
    {
     "name": "stdout",
     "output_type": "stream",
     "text": [
      "`row_vector`: tensor([3, 4])\n",
      "`column_vector`: tensor([2, 4])\n",
      "`scalar`: 2\n"
     ]
    }
   ],
   "source": [
    "row_vector = matrix[1]\n",
    "column_vector = matrix[:, 1]\n",
    "scalar = matrix[0, 1]\n",
    "\n",
    "print(f\"`row_vector`: {row_vector}\")\n",
    "print(f\"`column_vector`: {column_vector}\")\n",
    "print(f\"`scalar`: {scalar}\")"
   ]
  },
  {
   "cell_type": "markdown",
   "metadata": {
    "id": "to_eT2GzXu79"
   },
   "source": [
    "## 1.2: Initializing Tensors\n",
    "\n",
    "In some cases, we don't have to initialize tensors if all their values will be replaced (e.g., if this is a matrix that will store gradient values). This provides some small time savings.\n",
    "\n",
    "In other cases, we may want to randomly initialize tensors. In particular, for parameter initialization, it is common to use the Gaussian Distribution."
   ]
  },
  {
   "cell_type": "markdown",
   "metadata": {
    "id": "h_MVOqZOU2b9"
   },
   "source": [
    "## Question 1.2a: Non-initialized tensors (1 point).\n",
    "\n",
    "First, you will create a matrix `grad` that has the same shape as `matrix`, but the parameters are not initialized (check documentation of `torch.empty` and `torch.empty_like`). FOR FULL MARKS, do not hard-code the shape."
   ]
  },
  {
   "cell_type": "code",
   "execution_count": 16,
   "metadata": {
    "deletable": false,
    "id": "z7DtPKhfXuU8",
    "nbgrader": {
     "cell_type": "code",
     "checksum": "0491e20c87c9dfe18c114f35ae30d2d4",
     "grade": true,
     "grade_id": "q1_2a",
     "locked": false,
     "points": 1,
     "schema_version": 3,
     "solution": true,
     "task": false
    }
   },
   "outputs": [
    {
     "name": "stdout",
     "output_type": "stream",
     "text": [
      "tensor([[4452450961952,             0],\n",
      "        [            0,             0]])\n"
     ]
    }
   ],
   "source": [
    "'''TODO: Define a Tensor with the same shape as `matrix`. (1-2 lines)'''\n",
    "grad = None\n",
    "# YOUR CODE HERE\n",
    "grad = torch.empty_like(matrix)\n",
    "print(grad)\n",
    "assert matrix.shape == grad.shape, \"grad must have the same shape as matrix\""
   ]
  },
  {
   "cell_type": "markdown",
   "metadata": {
    "id": "pym1EkBKZ9Y3"
   },
   "source": [
    "## Question 1.2b: Randomly initialized tensors (1 point).\n",
    "\n",
    "Initialize a matrix `W` with shape (20, 10) where each element is sampled from a Standard Gaussian distribution. Find the appropriate function in the documentation."
   ]
  },
  {
   "cell_type": "code",
   "execution_count": 17,
   "metadata": {
    "deletable": false,
    "id": "6CrAcSCPatef",
    "nbgrader": {
     "cell_type": "code",
     "checksum": "a36b9951e31d59b94c5488773ca3433c",
     "grade": true,
     "grade_id": "q1_2b",
     "locked": false,
     "points": 1,
     "schema_version": 3,
     "solution": true,
     "task": false
    }
   },
   "outputs": [
    {
     "name": "stdout",
     "output_type": "stream",
     "text": [
      "tensor([[ 0.7437, -2.0438, -1.2827, -1.4402, -0.1276, -0.1882,  1.6163, -1.0897,\n",
      "          0.0101,  0.8362],\n",
      "        [ 1.2051, -0.0683, -0.4875, -0.4971,  1.4690,  0.0375,  0.4210, -1.7431,\n",
      "         -1.6584,  1.7252],\n",
      "        [ 1.3536,  1.6513, -0.0177, -1.2269,  0.6357, -0.7775, -0.0557, -0.0443,\n",
      "          2.0859,  0.1051],\n",
      "        [ 0.0199, -0.6802,  1.1557, -1.0234,  0.9199,  1.3019,  0.9390,  0.8462,\n",
      "          0.2809, -1.3055],\n",
      "        [ 1.6396, -1.9154, -1.8657, -0.6708,  0.0423, -0.5353,  0.6595,  0.3424,\n",
      "         -2.1762, -1.2711],\n",
      "        [ 0.3710, -0.2658, -0.1624,  1.7706,  2.3947, -1.0720, -1.2375,  1.1541,\n",
      "          0.8352,  1.7608],\n",
      "        [ 0.0344,  1.1384,  1.6472, -0.3850,  0.5188,  0.0342,  1.0575,  0.1753,\n",
      "         -1.0062,  0.8582],\n",
      "        [ 0.4574, -0.6303,  0.3388, -0.7186, -0.5009,  0.7134,  2.3605, -0.1826,\n",
      "          0.5411, -0.7188],\n",
      "        [-0.1218,  0.3274, -1.0497,  0.2502,  1.7113,  0.9126, -0.2896, -0.1995,\n",
      "         -0.4237, -0.0769],\n",
      "        [ 0.5362,  0.6485,  0.1329, -0.1203, -1.1499, -0.7116, -1.3204, -0.2781,\n",
      "         -1.4720,  1.2683],\n",
      "        [ 0.7452, -0.3816, -1.8310, -0.5801,  0.1274,  1.6439, -0.3111, -1.0572,\n",
      "         -1.6718,  1.2436],\n",
      "        [ 1.4090, -1.7305,  0.8807,  2.5288,  0.8601, -0.7065,  1.1362, -0.2430,\n",
      "          0.2402,  0.3004],\n",
      "        [ 1.2476,  1.0366, -1.4057, -1.2862,  0.7881, -0.0458, -0.8374, -1.2328,\n",
      "         -0.0116,  0.0693],\n",
      "        [-1.1396, -0.3602, -0.3941,  0.0948,  0.6839,  0.9906, -2.5049,  0.8457,\n",
      "          1.1252,  0.2618],\n",
      "        [ 0.9992,  0.6267, -0.7549, -1.4456, -2.0304,  0.3135, -0.5517,  0.8091,\n",
      "         -0.4110,  0.5568],\n",
      "        [ 0.5924,  0.4504, -0.9303,  0.6424, -1.9281,  0.4494,  0.8918,  0.7742,\n",
      "         -0.9697, -0.6761],\n",
      "        [-0.3466, -0.7104,  1.6007, -0.9435, -1.1967, -0.4981, -0.4123,  0.6369,\n",
      "          0.3095,  0.1036],\n",
      "        [-1.8252, -1.0886, -1.5124, -0.0048,  1.5546,  1.7334,  1.7762,  0.1760,\n",
      "          0.5085, -0.0357],\n",
      "        [ 0.4532,  1.0994,  0.4149,  0.4207,  1.1489, -1.2374,  1.8231,  0.0075,\n",
      "         -1.6363, -1.0782],\n",
      "        [-0.6049, -0.8409,  0.2039, -0.4010, -0.5088,  1.3090,  1.0709,  0.2065,\n",
      "         -1.0187, -2.0848]])\n"
     ]
    }
   ],
   "source": [
    "'''TODO: Initialize a Tensor from a Standard Gaussian. (1 line)'''\n",
    "W = None\n",
    "# YOUR CODE HERE\n",
    "\n",
    "# Way 1:\n",
    "W = torch.randn(20, 10)\n",
    "\n",
    "# Way 2:\n",
    "# W = torch.normal(mean=0, std=1, size=(20, 10))\n",
    "\n",
    "assert W.shape == (20, 10), \"W must have the correct shape\"\n",
    "print(W)"
   ]
  },
  {
   "cell_type": "markdown",
   "metadata": {
    "id": "zc9pWBxAbFWa"
   },
   "source": [
    "## Question 1.2c [ISU ONLY]: Scaling the standard deviation by the number of inputs (1 point).\n",
    "\n",
    "In deep learning, we try to control the magnitude of the elements resulting from multiplications such as $\\mathbf{h}^\\top \\mathbf{W}$ by adjusting the standard deviation of the Gaussian used for initializing $\\mathbf{W}$.\n",
    "\n",
    "In particular, an effective weight matrix initialization strategy is to set the standard deviation to be $1/\\sqrt{d_{h}}$ where $d_{h}$ is the dimension of the inputs $h$ passed to this neural net layer.\n",
    "\n",
    "Hint: When you divide a random variable by a real-value $c$, its standard deviation is reduced by a factor of $c$.\n",
    "\n",
    "Once again, you will initialize a matrix `W`, but now you need to account for the shape of the other operands being used in the computation $\\mathbf{h}^\\top \\mathbf{W} + \\mathbf{b}$."
   ]
  },
  {
   "cell_type": "code",
   "execution_count": null,
   "metadata": {
    "deletable": false,
    "id": "UBowk8urca_y",
    "nbgrader": {
     "cell_type": "code",
     "checksum": "e5b9f99d96c06e761760a6852081fec9",
     "grade": true,
     "grade_id": "q1_2c",
     "locked": false,
     "points": 1,
     "schema_version": 3,
     "solution": true,
     "task": false
    }
   },
   "outputs": [],
   "source": [
    "'''TODO: Initialize a Tensor using the strategy above. (1 line)'''\n",
    "W = None\n",
    "# YOUR CODE HERE\n",
    "raise NotImplementedError()"
   ]
  },
  {
   "cell_type": "code",
   "execution_count": null,
   "metadata": {
    "id": "TIPU0SZhdHLs"
   },
   "outputs": [],
   "source": [
    "h = torch.ones((16,1))\n",
    "b = torch.zeros((1,8))\n",
    "\n",
    "z = torch.matmul(W, h) + b"
   ]
  },
  {
   "cell_type": "markdown",
   "metadata": {
    "id": "J8MMKWzndW_v"
   },
   "source": [
    "## Question 1.3 [ISU ONLY]: Indexing with boolean (2 points)\n",
    "\n",
    "In some cases, we need to slice a Tensor based on a given criterion. The rows that satify this criterion can be indicated by a Boolean Tensor.\n",
    "\n",
    "In the following example, find the rows of Tensor W whose sum is positive. Next, create a new Tensor containing only these rows."
   ]
  },
  {
   "cell_type": "code",
   "execution_count": null,
   "metadata": {
    "deletable": false,
    "id": "uMFaK0VWeeE9",
    "nbgrader": {
     "cell_type": "code",
     "checksum": "17e0ad1c86bef4ef624ba597023e0d9f",
     "grade": true,
     "grade_id": "q1_3",
     "locked": false,
     "points": 2,
     "schema_version": 3,
     "solution": true,
     "task": false
    }
   },
   "outputs": [],
   "source": [
    "''' TODO: find the rows of Tensor W whose sum is positive. (1 line)'''\n",
    "\n",
    "ind_pos_rows = None\n",
    "# YOUR CODE HERE\n",
    "raise NotImplementedError()\n",
    "\n",
    "'''Next, create a new Tensor containing only these rows. (1 line)'''\n",
    "pos_rows = None\n",
    "# YOUR CODE HERE\n",
    "raise NotImplementedError()\n",
    "\n",
    "print(f\"The number of positive rows of W is:\\n{pos_rows.shape[0]}\")"
   ]
  },
  {
   "cell_type": "markdown",
   "metadata": {
    "id": "XdQ6pNaXfPDR"
   },
   "source": [
    "## 1.4 Computations on Tensors\n",
    "\n",
    "A convenient way to think about and visualize computations in a machine learning framework like PyTorch is in terms of graphs. We can define this graph in terms of tensors, which hold data, and the mathematical operations that act on these tensors in some order. Let's look at a simple example, and define this computation using PyTorch:\n",
    "\n",
    "![alt text](https://raw.githubusercontent.com/MITDeepLearning/introtodeeplearning/2025/lab1/img/add-graph.png)"
   ]
  },
  {
   "cell_type": "code",
   "execution_count": 18,
   "metadata": {
    "id": "WvvSKpAifhkf"
   },
   "outputs": [
    {
     "name": "stdout",
     "output_type": "stream",
     "text": [
      "c1: 76\n",
      "c2: 76\n"
     ]
    }
   ],
   "source": [
    "# Create the nodes in the graph and initialize values\n",
    "a = torch.tensor(15)\n",
    "b = torch.tensor(61)\n",
    "\n",
    "# Add them!\n",
    "c1 = torch.add(a, b)\n",
    "c2 = a + b  # PyTorch overrides the \"+\" operation so that it is able to act on Tensors\n",
    "print(f\"c1: {c1}\")\n",
    "print(f\"c2: {c2}\")\n"
   ]
  },
  {
   "cell_type": "markdown",
   "metadata": {
    "id": "vE_mkThIffuE"
   },
   "source": [
    "Notice how we've created a computation graph consisting of PyTorch operations, and how the output is a tensor with value 76 -- we've just created a computation graph consisting of operations, and it's executed them and given us back the result.\n",
    "\n",
    "Now let's consider a slightly more complicated example:\n",
    "\n",
    "![alt text](https://raw.githubusercontent.com/MITDeepLearning/introtodeeplearning/2025/lab1/img/computation-graph.png)\n",
    "\n",
    "Here, we take two inputs, `a, b`, and compute an output `e`. Each node in the graph represents an operation that takes some input, does some computation, and passes its output to another node."
   ]
  },
  {
   "cell_type": "markdown",
   "metadata": {
    "id": "b1GT-gkaVpyC"
   },
   "source": [
    "## Question 1.4: Let's define a simple function in PyTorch to construct this computation function: (1 point)"
   ]
  },
  {
   "cell_type": "code",
   "execution_count": 19,
   "metadata": {
    "deletable": false,
    "id": "fmGiM9OWfqtD",
    "nbgrader": {
     "cell_type": "code",
     "checksum": "4c2973399c8bda88f6840c6b518ad8c6",
     "grade": true,
     "grade_id": "q1_4",
     "locked": false,
     "points": 1,
     "schema_version": 3,
     "solution": true,
     "task": false
    }
   },
   "outputs": [],
   "source": [
    "### Defining Tensor computations ###\n",
    "\n",
    "# Construct a simple computation function\n",
    "def func(a, b):\n",
    "    '''TODO: Define the operation for c, d, e. (3 lines)'''\n",
    "    # YOUR CODE HERE\n",
    "    c = torch.add(a, b)\n",
    "    d = torch.subtract(b, 1)\n",
    "    e = torch.multiply(c, d)\n",
    "    \n",
    "    return e\n"
   ]
  },
  {
   "cell_type": "markdown",
   "metadata": {
    "id": "JghmedizgAmz"
   },
   "source": [
    "Now, we can call this function to execute the computation graph"
   ]
  },
  {
   "cell_type": "code",
   "execution_count": 20,
   "metadata": {
    "id": "VpRMqQiwf_w9"
   },
   "outputs": [
    {
     "name": "stdout",
     "output_type": "stream",
     "text": [
      "e_out: 6.0\n"
     ]
    }
   ],
   "source": [
    "# Consider example values for a,b\n",
    "a, b = 1.5, 2.5\n",
    "# Execute the computation\n",
    "e_out = func(a, b)\n",
    "print(f\"e_out: {e_out}\")"
   ]
  },
  {
   "cell_type": "markdown",
   "metadata": {
    "id": "-e8at3LZgUCR"
   },
   "source": [
    "## 1.5 Neural networks in PyTorch\n",
    "We can also define neural networks in PyTorch. PyTorch uses [``torch.nn.Module``](https://pytorch.org/docs/stable/generated/torch.nn.Module.html), which serves as a base class for all neural network modules in PyTorch and thus provides a framework for building and training neural networks.\n",
    "\n",
    "Let's consider the example of a simple perceptron defined by just one dense (aka fully-connected or linear) layer: $ y = \\sigma(Wx + b) $, where $W$ represents a matrix of weights, $b$ is a bias, $x$ is the input, $\\sigma$ is the sigmoid activation function, and $y$ is the output.\n",
    "\n",
    "![alt text](https://raw.githubusercontent.com/MITDeepLearning/introtodeeplearning/2025/lab1/img/computation-graph-2.png)\n",
    "\n",
    "We will use `torch.nn.Module` to define layers -- the building blocks of neural networks. Layers implement common neural networks operations. In PyTorch, when we implement a layer, we subclass `nn.Module` and define the parameters of the layer as attributes of our new class. We also define and override a function [``forward``](https://pytorch.org/docs/stable/generated/torch.nn.Module.html#torch.nn.Module.forward), which will define the forward pass computation that is performed at every step. All classes subclassing `nn.Module` should override the `forward` function."
   ]
  },
  {
   "cell_type": "markdown",
   "metadata": {
    "id": "PCIc8ACNV3Ks"
   },
   "source": [
    "## Question 1.5a: Defining a Dense Layer class. (2 points)\n",
    "\n",
    "Let's write a dense layer class to implement a perceptron defined above."
   ]
  },
  {
   "cell_type": "code",
   "execution_count": 21,
   "metadata": {
    "deletable": false,
    "id": "sctUzldOgTgY",
    "nbgrader": {
     "cell_type": "code",
     "checksum": "64dc95463efe9665b159f89f1c15578b",
     "grade": true,
     "grade_id": "q1_5a",
     "locked": false,
     "points": 2,
     "schema_version": 3,
     "solution": true,
     "task": false
    }
   },
   "outputs": [],
   "source": [
    "### Defining a dense layer ###\n",
    "\n",
    "# num_inputs: number of input nodes\n",
    "# num_outputs: number of output nodes\n",
    "# x: input to the layer\n",
    "\n",
    "class OurDenseLayer(torch.nn.Module):\n",
    "    def __init__(self, num_inputs, num_outputs):\n",
    "        super(OurDenseLayer, self).__init__()\n",
    "        # Define and initialize parameters: a weight matrix W and bias b\n",
    "        # Note that the parameter initialize is random!\n",
    "        self.W = torch.nn.Parameter(torch.randn(num_inputs, num_outputs))\n",
    "        self.bias = torch.nn.Parameter(torch.randn(num_outputs))\n",
    "\n",
    "    def forward(self, x):\n",
    "        '''TODO: define the operation for z (hint: use torch.matmul). (1 line)'''\n",
    "        # YOUR CODE HERE\n",
    "        z = torch.matmul(x, self.W) + self.bias\n",
    "        \n",
    "        '''TODO: define the operation for out (hint: use torch.sigmoid). (1 line)'''\n",
    "        # YOUR CODE HERE\n",
    "        \n",
    "        y = torch.sigmoid(z)\n",
    "        \n",
    "        return y\n"
   ]
  },
  {
   "cell_type": "markdown",
   "metadata": {
    "id": "g87EdoNohoMp"
   },
   "source": [
    "Now, let's test the output of our layer."
   ]
  },
  {
   "cell_type": "code",
   "execution_count": 22,
   "metadata": {
    "id": "5fzu_OPehpMj"
   },
   "outputs": [
    {
     "name": "stdout",
     "output_type": "stream",
     "text": [
      "input shape: torch.Size([1, 2])\n",
      "output shape: torch.Size([1, 3])\n",
      "output result: tensor([[0.1021, 0.2257, 0.9884]], grad_fn=<SigmoidBackward0>)\n"
     ]
    }
   ],
   "source": [
    "# Define a layer and test the output!\n",
    "num_inputs = 2\n",
    "num_outputs = 3\n",
    "layer = OurDenseLayer(num_inputs, num_outputs)\n",
    "x_input = torch.tensor([[1, 2.]])\n",
    "\n",
    "y = layer(x_input)\n",
    "\n",
    "print(f\"input shape: {x_input.shape}\")\n",
    "\n",
    "print(f\"output shape: {y.shape}\")\n",
    "print(f\"output result: {y}\")\n"
   ]
  },
  {
   "cell_type": "markdown",
   "metadata": {
    "id": "xiCOmysphvgd"
   },
   "source": [
    "Conveniently, PyTorch has defined a number of ```nn.Modules``` (or Layers) that are commonly used in neural networks, for example a [```nn.Linear```](https://pytorch.org/docs/stable/generated/torch.nn.Linear.html) or [`nn.Sigmoid`](https://pytorch.org/docs/stable/generated/torch.nn.Sigmoid.html) module."
   ]
  },
  {
   "cell_type": "markdown",
   "metadata": {
    "id": "Yuo_vr75VyYW"
   },
   "source": [
    "## Question 1.5b: Using the `Sequential` API. (2 points)\n",
    "\n",
    "Now, instead of using a single ```Module``` to define our simple neural network, we'll use the  [`nn.Sequential`](https://pytorch.org/docs/stable/generated/torch.nn.Sequential.html) module from PyTorch and a single [`nn.Linear` ](https://pytorch.org/docs/stable/generated/torch.nn.Linear.html) layer to define our network. With the `Sequential` API, you can readily create neural networks by stacking together layers like building blocks."
   ]
  },
  {
   "cell_type": "code",
   "execution_count": 23,
   "metadata": {
    "deletable": false,
    "id": "2W9BvQ9fhy7j",
    "nbgrader": {
     "cell_type": "code",
     "checksum": "b74044ab4c60b09fb9084b5776252405",
     "grade": true,
     "grade_id": "q1_5b",
     "locked": false,
     "points": 2,
     "schema_version": 3,
     "solution": true,
     "task": false
    }
   },
   "outputs": [],
   "source": [
    "### Defining a neural network using the PyTorch Sequential API ###\n",
    "\n",
    "# define the number of inputs and outputs\n",
    "n_input_nodes = 2\n",
    "n_output_nodes = 3\n",
    "\n",
    "# Define the model\n",
    "'''TODO: Use the Sequential API to define a neural network with a\n",
    "    single linear (dense!) layer, followed by non-linearity to compute z (2-4 lines)'''\n",
    "model = None\n",
    "# YOUR CODE HERE\n",
    "\n",
    "model = (\n",
    "    torch.nn.Sequential(\n",
    "        torch.nn.Linear(n_input_nodes, n_output_nodes),\n",
    "        torch.nn.Sigmoid()\n",
    "    )\n",
    ")"
   ]
  },
  {
   "cell_type": "code",
   "execution_count": 24,
   "metadata": {
    "id": "BZHlH9bZihyG"
   },
   "outputs": [
    {
     "name": "stdout",
     "output_type": "stream",
     "text": [
      "input shape: torch.Size([1, 2])\n",
      "output shape: torch.Size([1, 3])\n",
      "output result: tensor([[0.1021, 0.2257, 0.9884]], grad_fn=<SigmoidBackward0>)\n"
     ]
    }
   ],
   "source": [
    "# Test the model with example input\n",
    "x_input = torch.tensor([[1, 2.]])\n",
    "model_output = model(x_input)\n",
    "print(f\"input shape: {x_input.shape}\")\n",
    "print(f\"output shape: {y.shape}\")\n",
    "print(f\"output result: {y}\")"
   ]
  },
  {
   "cell_type": "markdown",
   "metadata": {
    "id": "LbjE1WuqirZU"
   },
   "source": [
    "## Question 1.5c: Subclassing `nn.Module` (2 points)\n",
    "\n",
    "With PyTorch, we can create more flexible models by subclassing [`nn.Module`](https://pytorch.org/docs/stable/generated/torch.nn.Module.html). The `nn.Module` class allows us to group layers together flexibly to define new architectures.\n",
    "\n",
    "As we saw earlier with `OurDenseLayer`, we can subclass `nn.Module` to create a class for our model, and then define the forward pass through the network using the `forward` function. Subclassing affords the flexibility to define custom layers, custom training loops, custom activation functions, and custom models. Let's define the same neural network model as above (i.e., Linear layer with an activation function after it), now using subclassing and using PyTorch's built in linear layer from `nn.Linear`."
   ]
  },
  {
   "cell_type": "code",
   "execution_count": 25,
   "metadata": {
    "deletable": false,
    "id": "6l5AeF_ri0qF",
    "nbgrader": {
     "cell_type": "code",
     "checksum": "4c7eb85bff444160aa5f0f2b494ad79d",
     "grade": true,
     "grade_id": "q1_5c",
     "locked": false,
     "points": 2,
     "schema_version": 3,
     "solution": true,
     "task": false
    }
   },
   "outputs": [],
   "source": [
    "### Defining a model using subclassing ###\n",
    "\n",
    "class LinearWithSigmoidActivation(nn.Module):\n",
    "    def __init__(self, num_inputs, num_outputs):\n",
    "        super(LinearWithSigmoidActivation, self).__init__()\n",
    "        '''TODO: define a model with a single Linear layer and sigmoid activation. (2 lines)'''\n",
    "        self.linear = nn.Linear(num_inputs, num_outputs)\n",
    "        self.activation = nn.Sigmoid()\n",
    "\n",
    "    def forward(self, inputs):\n",
    "        linear_output = self.linear(inputs)\n",
    "        output = self.activation(linear_output)\n",
    "        return output\n"
   ]
  },
  {
   "cell_type": "markdown",
   "metadata": {
    "id": "yMP99SGJjJIa"
   },
   "source": [
    "Let's test out our new model, using an example input, setting `n_input_nodes=2` and `n_output_nodes=3` as before."
   ]
  },
  {
   "cell_type": "code",
   "execution_count": 26,
   "metadata": {
    "id": "d2towHiZjP5m"
   },
   "outputs": [
    {
     "name": "stdout",
     "output_type": "stream",
     "text": [
      "input shape: torch.Size([1, 2])\n",
      "output shape: torch.Size([1, 3])\n",
      "output result: tensor([[0.4365, 0.6479, 0.3188]], grad_fn=<SigmoidBackward0>)\n"
     ]
    }
   ],
   "source": [
    "n_input_nodes = 2\n",
    "n_output_nodes = 3\n",
    "model = LinearWithSigmoidActivation(n_input_nodes, n_output_nodes)\n",
    "x_input = torch.tensor([[1, 2.]])\n",
    "y = model(x_input)\n",
    "print(f\"input shape: {x_input.shape}\")\n",
    "print(f\"output shape: {y.shape}\")\n",
    "print(f\"output result: {y}\")"
   ]
  },
  {
   "cell_type": "markdown",
   "metadata": {
    "id": "HBxueFR0jcpr"
   },
   "source": [
    "## Question 1.5d: Custom Layers (3 points)\n",
    "\n",
    "Importantly, `nn.Module` affords us a lot of flexibility to define custom models. For example, we can use boolean arguments in the `forward` function to specify different network behaviors, for example different behaviors during training and inference. Let's suppose under some instances we want our network to simply output the input, without any perturbation. We define a boolean argument `isidentity` to control this behavior:"
   ]
  },
  {
   "cell_type": "code",
   "execution_count": 27,
   "metadata": {
    "deletable": false,
    "id": "NK6S2RwCjoR6",
    "nbgrader": {
     "cell_type": "code",
     "checksum": "1afbe9183781e63b628d6cd88c380e75",
     "grade": true,
     "grade_id": "q1_5d",
     "locked": false,
     "points": 3,
     "schema_version": 3,
     "solution": true,
     "task": false
    }
   },
   "outputs": [],
   "source": [
    "### Custom behavior with subclassing nn.Module ###\n",
    "\n",
    "class LinearButSometimesIdentity(nn.Module):\n",
    "    def __init__(self, num_inputs, num_outputs):\n",
    "        super(LinearButSometimesIdentity, self).__init__()\n",
    "        self.linear = nn.Linear(num_inputs, num_outputs)\n",
    "\n",
    "    '''TODO: Implement the behavior where the network outputs the input, unchanged,\n",
    "        under control of the isidentity argument. (3-4 lines)'''\n",
    "    def forward(self, inputs, isidentity=False):\n",
    "      # YOUR CODE HERE\n",
    "      if isidentity == True:\n",
    "        return inputs\n",
    "      else:\n",
    "        return self.linear(inputs)"
   ]
  },
  {
   "cell_type": "markdown",
   "metadata": {
    "id": "k43Tjtmlj1C2"
   },
   "source": [
    "## Question 1.5e: Let's test this behavior: (2 points)"
   ]
  },
  {
   "cell_type": "code",
   "execution_count": 28,
   "metadata": {
    "deletable": false,
    "id": "i8jUeaBBj4L1",
    "nbgrader": {
     "cell_type": "code",
     "checksum": "080d544f7b5ca38aae1e9ec3efb6201f",
     "grade": true,
     "grade_id": "q1_5e",
     "locked": false,
     "points": 2,
     "schema_version": 3,
     "solution": true,
     "task": false
    }
   },
   "outputs": [
    {
     "name": "stdout",
     "output_type": "stream",
     "text": [
      "input: tensor([[1., 2.]])\n",
      "Network linear output: tensor([[-0.9206, -1.1795, -0.1477]], grad_fn=<AddmmBackward0>); network identity output: tensor([[1., 2.]])\n"
     ]
    }
   ],
   "source": [
    "# Test the IdentityModel\n",
    "model = LinearButSometimesIdentity(num_inputs=2, num_outputs=3)\n",
    "x_input = torch.tensor([[1, 2.]])\n",
    "\n",
    "out_with_linear = None\n",
    "out_with_identity = None\n",
    "\n",
    "'''TODO: pass the input into the model and call with and without the input identity option. (2 lines)'''\n",
    "# YOUR CODE HERE\n",
    "out_with_linear = model(x_input)\n",
    "out_with_identity = model(x_input, isidentity=True)\n",
    "\n",
    "print(f\"input: {x_input}\")\n",
    "print(\"Network linear output: {}; network identity output: {}\".format(out_with_linear, out_with_identity))"
   ]
  },
  {
   "cell_type": "markdown",
   "metadata": {
    "id": "F7Naz61HkOHU"
   },
   "source": [
    "## [ISU STUDENTS ONLY] Question 1.6: Debugging (3 points)\n",
    "\n",
    "What is the problem with the code below? Explain in writting one way to fix it (2-3 sentences; edits to the code won't be checked)."
   ]
  },
  {
   "cell_type": "markdown",
   "metadata": {
    "deletable": false,
    "id": "VkUveA41mD8K",
    "nbgrader": {
     "cell_type": "markdown",
     "checksum": "fa78c390089a11ade55bd51bc84e0956",
     "grade": true,
     "grade_id": "q1_6",
     "locked": false,
     "points": 3,
     "schema_version": 3,
     "solution": true,
     "task": false
    }
   },
   "source": [
    "YOUR ANSWER HERE"
   ]
  },
  {
   "cell_type": "code",
   "execution_count": null,
   "metadata": {
    "id": "nGqc_YJ3kuNv"
   },
   "outputs": [],
   "source": [
    "class TwoLayerModel(nn.Module):\n",
    "    def __init__(self, num_inputs, num_hidden, num_outputs):\n",
    "        super(TwoLayerModel, self).__init__()\n",
    "        self.layer1 = LinearButSometimesIdentity(num_inputs, num_hidden)\n",
    "        self.layer2 = LinearButSometimesIdentity(num_hidden, num_outputs)\n",
    "        self.activation = nn.Sigmoid()\n",
    "\n",
    "    def forward(self, inputs):\n",
    "        x = self.layer1(inputs, isidentity=True)\n",
    "        x = self.activation(x)\n",
    "        x = self.layer2(x)\n",
    "        return x\n",
    "\n",
    "model = TwoLayerModel(2, 3, 1)\n",
    "x_input = torch.tensor([[1, 2.]])\n",
    "out = model(x_input)\n",
    "\n",
    "\n",
    "print(f\"input: {x_input}\")\n",
    "print(\"Network linear output: {}\".format(out))"
   ]
  },
  {
   "cell_type": "markdown",
   "metadata": {
    "id": "z6iUZNJbU6Nu"
   },
   "source": [
    "# Part II: Node Embeddings\n"
   ]
  },
  {
   "cell_type": "markdown",
   "metadata": {
    "id": "8gzsP50bF6Gb"
   },
   "source": [
    "\n",
    "\n",
    "In this Colab, we will write a full pipeline for **learning node embeddings**.\n",
    "We will go through the following 3 steps.\n",
    "\n",
    "To start, we will load a classic graph in network science, the [Karate Club Network](https://en.wikipedia.org/wiki/Zachary%27s_karate_club). We will explore multiple graph statistics for that graph.\n",
    "\n",
    "We will then work together to transform the graph structure into a PyTorch tensor, so that we can perform machine learning over the graph.\n",
    "\n",
    "Finally, we will finish the first learning algorithm on graphs: a node embedding model. For simplicity, our model here is simpler than DeepWalk / node2vec algorithms taught in the lecture. But it's still rewarding and challenging, as we will write it from scratch via PyTorch.\n",
    "\n",
    "Now let's get started! This Colab should take 1-2 hours to complete.\n",
    "\n",
    "**Note**: Make sure to **restart and run all** before submission, so that the intermediate variables / packages will carry over to the next cell"
   ]
  },
  {
   "cell_type": "markdown",
   "metadata": {
    "id": "FDkpByYYfSzb"
   },
   "source": [
    "## Setup\n",
    "We will heavily use NetworkX in this Colab."
   ]
  },
  {
   "cell_type": "code",
   "execution_count": 29,
   "metadata": {
    "id": "VWPkJjPAfVNW"
   },
   "outputs": [],
   "source": [
    "import networkx as nx"
   ]
  },
  {
   "cell_type": "markdown",
   "metadata": {
    "id": "VqUnYT5qUZYh"
   },
   "source": [
    "## Zachary's karate club network\n",
    "\n",
    "The [Karate Club Network](https://en.wikipedia.org/wiki/Zachary%27s_karate_club) is a graph which describes a social network of 34 members of a karate club and documents links between members who interacted outside the club."
   ]
  },
  {
   "cell_type": "code",
   "execution_count": 30,
   "metadata": {
    "id": "VIETqEfrfy5Y"
   },
   "outputs": [
    {
     "data": {
      "text/plain": [
       "networkx.classes.graph.Graph"
      ]
     },
     "execution_count": 30,
     "metadata": {},
     "output_type": "execute_result"
    }
   ],
   "source": [
    "G = nx.karate_club_graph()\n",
    "\n",
    "# G is an undirected graph\n",
    "type(G)"
   ]
  },
  {
   "cell_type": "code",
   "execution_count": 31,
   "metadata": {
    "id": "hDvf3nm-ors4"
   },
   "outputs": [
    {
     "data": {
      "image/png": "[encoded data removed]",
      "text/plain": [
       "<Figure size 640x480 with 1 Axes>"
      ]
     },
     "metadata": {},
     "output_type": "display_data"
    }
   ],
   "source": [
    "# Visualize the graph\n",
    "nx.draw(G, with_labels = True)"
   ]
  },
  {
   "cell_type": "markdown",
   "metadata": {
    "id": "-MxvowibYl4x"
   },
   "source": [
    "## 2.1 Graph to Tensor\n",
    "We will then work together to transform the graph $G$ into a PyTorch tensor, so that we can perform machine learning over the graph."
   ]
  },
  {
   "cell_type": "markdown",
   "metadata": {
    "id": "eDA8PosrA-9V"
   },
   "source": [
    "### Setup\n",
    "Check if PyTorch is properly installed"
   ]
  },
  {
   "cell_type": "code",
   "execution_count": 32,
   "metadata": {
    "id": "ntuPVat_BAf1"
   },
   "outputs": [
    {
     "name": "stdout",
     "output_type": "stream",
     "text": [
      "2.5.1+cu121\n"
     ]
    }
   ],
   "source": [
    "import torch\n",
    "print(torch.__version__)"
   ]
  },
  {
   "cell_type": "markdown",
   "metadata": {
    "id": "fko_2wSKYlun"
   },
   "source": [
    "### PyTorch tensor basics\n",
    "\n",
    "We can generate PyTorch tensor with all zeros, ones or random values."
   ]
  },
  {
   "cell_type": "code",
   "execution_count": 33,
   "metadata": {
    "id": "W2ySw3m-A9qF"
   },
   "outputs": [
    {
     "name": "stdout",
     "output_type": "stream",
     "text": [
      "tensor([[1., 1., 1., 1.],\n",
      "        [1., 1., 1., 1.],\n",
      "        [1., 1., 1., 1.]])\n",
      "tensor([[0., 0., 0., 0.],\n",
      "        [0., 0., 0., 0.],\n",
      "        [0., 0., 0., 0.]])\n",
      "tensor([[0.2958, 0.1898, 0.3947, 0.9712],\n",
      "        [0.4389, 0.0791, 0.8923, 0.6217],\n",
      "        [0.5868, 0.5858, 0.8488, 0.2723]])\n",
      "torch.Size([3, 4])\n"
     ]
    }
   ],
   "source": [
    "# Generate 3 x 4 tensor with all ones\n",
    "ones = torch.ones(3, 4)\n",
    "print(ones)\n",
    "\n",
    "# Generate 3 x 4 tensor with all zeros\n",
    "zeros = torch.zeros(3, 4)\n",
    "print(zeros)\n",
    "\n",
    "# Generate 3 x 4 tensor with random values on the interval [0, 1)\n",
    "random_tensor = torch.rand(3, 4)\n",
    "print(random_tensor)\n",
    "\n",
    "# Get the shape of the tensor\n",
    "print(ones.shape)"
   ]
  },
  {
   "cell_type": "markdown",
   "metadata": {
    "id": "x8mp66eHBxWC"
   },
   "source": [
    "PyTorch tensor contains elements for a single data type, the `dtype`."
   ]
  },
  {
   "cell_type": "code",
   "execution_count": 34,
   "metadata": {
    "id": "rQiOvKJJBwq4"
   },
   "outputs": [
    {
     "name": "stdout",
     "output_type": "stream",
     "text": [
      "torch.float32\n",
      "torch.int64\n"
     ]
    }
   ],
   "source": [
    "# Create a 3 x 4 tensor with all 32-bit floating point zeros\n",
    "zeros = torch.zeros(3, 4, dtype=torch.float32)\n",
    "print(zeros.dtype)\n",
    "\n",
    "# Change the tensor dtype to long (64-bit integer)\n",
    "zeros = zeros.type(torch.long)\n",
    "print(zeros.dtype)"
   ]
  },
  {
   "cell_type": "markdown",
   "metadata": {
    "id": "I9EfegIRDkk2"
   },
   "source": [
    "## Question 2.1a: Get the edge list of the karate club network and transform it into `torch.LongTensor` named `pos_edge_index` (for 'positive' edge list). What is the `torch.sum` value of `pos_edge_index` tensor? (2 points)\n",
    "\n",
    "Note: The sum in this case does not have interpretation. We ask this just to make grading easier."
   ]
  },
  {
   "cell_type": "code",
   "execution_count": 35,
   "metadata": {
    "deletable": false,
    "id": "kEtVxMFID3ZT",
    "nbgrader": {
     "cell_type": "code",
     "checksum": "a9c503f6dd2afd1bb90310532501a78e",
     "grade": true,
     "grade_id": "q2_1a",
     "locked": false,
     "points": 2,
     "schema_version": 3,
     "solution": true,
     "task": false
    }
   },
   "outputs": [
    {
     "name": "stdout",
     "output_type": "stream",
     "text": [
      "The pos_edge_index tensor has shape torch.Size([2, 78])\n",
      "The pos_edge_index tensor has sum value 2535\n"
     ]
    }
   ],
   "source": [
    "def graph_to_edge_list(G):\n",
    "  # TODO: Implement the function that returns the edge list of\n",
    "  # an nx.Graph. The returned edge_list should be a list of tuples\n",
    "  # where each tuple is a tuple representing an edge connected\n",
    "  # by two nodes (1-2 lines)\n",
    "\n",
    "  edge_list = []\n",
    "\n",
    "\n",
    "# YOUR CODE HERE\n",
    "  edge_list = list(G.edges())\n",
    "\n",
    "  return edge_list\n",
    "\n",
    "def edge_list_to_tensor(edge_list):\n",
    "  # TODO: Implement the function that transforms the edge_list to\n",
    "  # tensor. The input edge_list is a list of tuples and the resulting\n",
    "  # tensor should have the shape [2, len(edge_list)] (1-2 lines).\n",
    "\n",
    "  # Note 1: You don't need to iteratively fill in the entries,\n",
    "  # you can overwrite the variable\n",
    "\n",
    "  edge_index = torch.tensor([])\n",
    "\n",
    "# YOUR CODE HERE\n",
    "  edge_index = torch.tensor(edge_list, dtype=torch.long).T\n",
    "\n",
    "  return edge_index\n",
    "\n",
    "pos_edge_list = graph_to_edge_list(G)\n",
    "pos_edge_index = edge_list_to_tensor(pos_edge_list)\n",
    "print(\"The pos_edge_index tensor has shape {}\".format(pos_edge_index.shape))\n",
    "print(\"The pos_edge_index tensor has sum value {}\".format(torch.sum(pos_edge_index)))"
   ]
  },
  {
   "cell_type": "markdown",
   "metadata": {
    "id": "UBL-ZmdHWqIu"
   },
   "source": [
    "## Question 2.1b: Please implement following function that samples negative edges. Then answer which edges (edge_1 to edge_5) are the negative edges in the karate club network? (8 points)\n",
    "\n",
    "\"Negative\" edges refer to the edges/links that do not exist in the graph. The term \"negative\" is borrowed from \"negative sampling\" in link prediction. It has nothing to do with the edge weights.\n",
    "\n",
    "For example, given an edge (src, dst), you should check that neither (src, dst) nor (dst, src) are edges in the Graph. If these hold true, then it is a negative edge.\n",
    "\n",
    "Hint: it is easier to use G than pos_edge_list."
   ]
  },
  {
   "cell_type": "code",
   "execution_count": 36,
   "metadata": {
    "deletable": false,
    "id": "4Ol4mWt-zr4u",
    "nbgrader": {
     "cell_type": "code",
     "checksum": "9f9aea5e56b03bdeae27066815249051",
     "grade": true,
     "grade_id": "q2_1b",
     "locked": false,
     "points": 8,
     "schema_version": 3,
     "solution": true,
     "task": false
    }
   },
   "outputs": [
    {
     "name": "stdout",
     "output_type": "stream",
     "text": [
      "Edge 1 can be a negative edge: False\n",
      "Edge 2 can be a negative edge: True\n",
      "Edge 3 can be a negative edge: False\n",
      "Edge 4 can be a negative edge: False\n",
      "Edge 5 can be a negative edge: True\n",
      "The neg_edge_index tensor has shape torch.Size([2, 78])\n"
     ]
    }
   ],
   "source": [
    "import random\n",
    "random.seed(4099)\n",
    "\n",
    "# Which of following edges can be negative ones?\n",
    "edge_1 = (7, 1)\n",
    "edge_2 = (1, 33)\n",
    "edge_3 = (33, 22)\n",
    "edge_4 = (0, 4)\n",
    "edge_5 = (4, 2)\n",
    "\n",
    "def can_be_negative(G, edge):\n",
    "  # TODO: Implement the function that tests if an edge is a negative\n",
    "  # edge in graph G (2-4 lines).\n",
    "\n",
    "  is_negative = False\n",
    "# YOUR CODE HERE\n",
    "  if not G.has_edge(edge[0], edge[1]):\n",
    "    is_negative = True\n",
    "  else:\n",
    "    is_negative = False\n",
    "  return is_negative\n",
    "\n",
    "print(f\"Edge 1 can be a negative edge: {can_be_negative(G, edge_1)}\")\n",
    "print(f\"Edge 2 can be a negative edge: {can_be_negative(G, edge_2)}\")\n",
    "print(f\"Edge 3 can be a negative edge: {can_be_negative(G, edge_3)}\")\n",
    "print(f\"Edge 4 can be a negative edge: {can_be_negative(G, edge_4)}\")\n",
    "print(f\"Edge 5 can be a negative edge: {can_be_negative(G, edge_5)}\")\n",
    "\n",
    "def sample_negative_edges(G, num_neg_samples):\n",
    "  # TODO: Implement the function that returns a list of negative edges.\n",
    "  # The number of sampled negative edges is num_neg_samples. DIFFERENTLY than\n",
    "  # what we saw in class, we will not sample a fixed number of edges k for each\n",
    "  # node. Rather, you will sample uniformly from the set of non-edges. You don't\n",
    "  # need to consider the corner case when the number of possible negative edges\n",
    "  # is less than num_neg_samples. It should be ok as long as your implementation\n",
    "  # works on the karate club network. In this implementation, self loops should\n",
    "  # not be considered as either a positive or negative edge. Also, notice that\n",
    "  # the karate club network is an undirected graph, if (0, 1) is a positive\n",
    "  # edge, do you think (1, 0) can be a negative one? (6-10 lines)\n",
    "\n",
    "  neg_edge_list = []\n",
    "\n",
    "# YOUR CODE HERE\n",
    "  while len(neg_edge_list) < num_neg_samples:\n",
    "    node_1 = random.randint(0, G.number_of_nodes()-1)\n",
    "    node_2 = random.randint(0, G.number_of_nodes()-1)\n",
    "    edge = (node_1, node_2)\n",
    "\n",
    "    if can_be_negative(G, edge):\n",
    "      neg_edge_list.append(edge)\n",
    "  return neg_edge_list\n",
    "\n",
    "# Sample 78 negative edges\n",
    "neg_edge_list = sample_negative_edges(G, len(pos_edge_list))\n",
    "\n",
    "\n",
    "# Transform the negative edge list to tensor\n",
    "neg_edge_index = edge_list_to_tensor(neg_edge_list)\n",
    "print(\"The neg_edge_index tensor has shape {}\".format(neg_edge_index.shape))"
   ]
  },
  {
   "cell_type": "markdown",
   "metadata": {
    "id": "zIRoqmnLonv_"
   },
   "source": [
    "## Question 2.2 [ISU STUDENTS ONLY]: Reimplement the function `sample_negative_edges` so that the node selection probability is proportional to its degree (for one of the end points). (7 points)"
   ]
  },
  {
   "cell_type": "code",
   "execution_count": null,
   "metadata": {
    "deletable": false,
    "id": "_emnEqPitOIR",
    "nbgrader": {
     "cell_type": "code",
     "checksum": "340dcd588db6f841eff706246868e000",
     "grade": true,
     "grade_id": "q2_2",
     "locked": false,
     "points": 7,
     "schema_version": 3,
     "solution": true,
     "task": false
    }
   },
   "outputs": [],
   "source": [
    "def sample_negative_edges_propto_degree(G, num_neg_samples):\n",
    "  # Q2.2 (7-10 lines)\n",
    "  neg_edge_list = []\n",
    "\n",
    "# YOUR CODE HERE\n",
    "raise NotImplementedError()\n",
    "\n",
    "  return neg_edge_list\n",
    "\n",
    "# Sample 78 negative edges\n",
    "neg_edge_list = sample_negative_edges_propto_degree(G, len(pos_edge_list))\n"
   ]
  },
  {
   "cell_type": "markdown",
   "metadata": {
    "id": "Wk9Q-a-9qGsw"
   },
   "source": [
    "## 2.3 Node Emebedding Learning\n",
    "\n",
    "Finally, we will finish the first learning algorithm on graphs: a node embedding model.\n"
   ]
  },
  {
   "cell_type": "markdown",
   "metadata": {
    "id": "NDBxRQcZ_dUH"
   },
   "source": [
    "### Setup"
   ]
  },
  {
   "cell_type": "code",
   "execution_count": 37,
   "metadata": {
    "id": "Lnqn9H6s_ehX"
   },
   "outputs": [
    {
     "name": "stdout",
     "output_type": "stream",
     "text": [
      "2.5.1+cu121\n"
     ]
    }
   ],
   "source": [
    "import torch\n",
    "import torch.nn as nn\n",
    "import matplotlib.pyplot as plt\n",
    "from sklearn.decomposition import PCA\n",
    "\n",
    "print(torch.__version__)"
   ]
  },
  {
   "cell_type": "markdown",
   "metadata": {
    "id": "6gomAf8vxq0R"
   },
   "source": [
    "To write our own node embedding learning methods, we'll heavily use the [`nn.Embedding`](https://pytorch.org/docs/stable/generated/torch.nn.Embedding.html) module in PyTorch. Let's see how to use `nn.Embedding`:"
   ]
  },
  {
   "cell_type": "code",
   "execution_count": 38,
   "metadata": {
    "id": "aRiWGuLAx5yx"
   },
   "outputs": [
    {
     "name": "stdout",
     "output_type": "stream",
     "text": [
      "Sample embedding layer: Embedding(4, 8)\n"
     ]
    }
   ],
   "source": [
    "# Initialize an embedding layer\n",
    "# Suppose we want to have embedding for 4 items (e.g., nodes)\n",
    "# Each item is represented with 8 dimensional vector\n",
    "\n",
    "emb_sample = nn.Embedding(num_embeddings=4, embedding_dim=8)\n",
    "print('Sample embedding layer: {}'.format(emb_sample))\n"
   ]
  },
  {
   "cell_type": "markdown",
   "metadata": {
    "id": "bS9qQfeujEVh"
   },
   "source": [
    "We can select items from the embedding matrix, by using Tensor indices"
   ]
  },
  {
   "cell_type": "code",
   "execution_count": 39,
   "metadata": {
    "id": "9AGIfP4QEDr8"
   },
   "outputs": [
    {
     "name": "stdout",
     "output_type": "stream",
     "text": [
      "tensor([[ 1.8376,  2.3723, -0.1036, -0.2067, -0.1620, -1.8258, -0.3009, -0.0459]],\n",
      "       grad_fn=<EmbeddingBackward0>)\n",
      "tensor([[ 1.8376,  2.3723, -0.1036, -0.2067, -0.1620, -1.8258, -0.3009, -0.0459],\n",
      "        [-1.0552, -0.8953,  1.0290,  0.6037,  1.5467,  0.9817, -0.1557,  0.2671]],\n",
      "       grad_fn=<EmbeddingBackward0>)\n",
      "torch.Size([4, 8])\n",
      "tensor([[1., 1., 1., 1., 1., 1., 1., 1.],\n",
      "        [1., 1., 1., 1., 1., 1., 1., 1.]], grad_fn=<EmbeddingBackward0>)\n"
     ]
    }
   ],
   "source": [
    "# Select an embedding in emb_sample\n",
    "id = torch.LongTensor([1])\n",
    "print(emb_sample(id))\n",
    "\n",
    "# Select multiple embeddings\n",
    "ids = torch.LongTensor([1, 3])\n",
    "print(emb_sample(ids))\n",
    "\n",
    "# Get the shape of the embedding weight matrix\n",
    "shape = emb_sample.weight.data.shape\n",
    "print(shape)\n",
    "\n",
    "# Overwrite the weight to tensor with all ones\n",
    "emb_sample.weight.data = torch.ones(shape)\n",
    "\n",
    "# Let's check if the emb is indeed initialized\n",
    "ids = torch.LongTensor([0, 3])\n",
    "print(emb_sample(ids))"
   ]
  },
  {
   "cell_type": "markdown",
   "metadata": {
    "id": "8MjBuDKaKIsM"
   },
   "source": [
    "## Question 2.3a: Now, it's your time to create node embedding matrix for the graph we have! (2 points)\n",
    "- We want to have **16 dimensional** vector for each node in the karate club network.\n",
    "- We want to initalize the matrix under **uniform distribution**, in the range of $[0, 1)$. We suggest you using [`torch.rand`](https://pytorch.org/docs/stable/generated/torch.rand.html)."
   ]
  },
  {
   "cell_type": "code",
   "execution_count": 41,
   "metadata": {
    "deletable": false,
    "id": "hMszSwRPKGn1",
    "nbgrader": {
     "cell_type": "code",
     "checksum": "e2697dc6224f58dce4fa3c329bffd1f1",
     "grade": true,
     "grade_id": "q2_3a",
     "locked": false,
     "points": 2,
     "schema_version": 3,
     "solution": true,
     "task": false
    }
   },
   "outputs": [
    {
     "name": "stdout",
     "output_type": "stream",
     "text": [
      "Embedding: Embedding(34, 16)\n",
      "tensor([[0.2114, 0.7335, 0.1433, 0.9647, 0.2933, 0.7951, 0.5170, 0.2801, 0.8339,\n",
      "         0.1185, 0.2355, 0.5599, 0.8966, 0.2858, 0.1955, 0.1808],\n",
      "        [0.7486, 0.6546, 0.3843, 0.9820, 0.6012, 0.3710, 0.4929, 0.9915, 0.8358,\n",
      "         0.4629, 0.9902, 0.7196, 0.2338, 0.0450, 0.7906, 0.9689]],\n",
      "       grad_fn=<EmbeddingBackward0>)\n"
     ]
    }
   ],
   "source": [
    "# Please do not change / reset the random seed\n",
    "torch.manual_seed(1)\n",
    "\n",
    "def create_node_emb(num_node=34, embedding_dim=16):\n",
    "  # TODO: Implement this function that will create the node embedding matrix.\n",
    "  # A torch.nn.Embedding layer will be returned. You do not need to change\n",
    "  # the values of num_node and embedding_dim. The weight matrix of returned\n",
    "  # layer should be initialized under uniform distribution (2 lines)\n",
    "  emb = None\n",
    "\n",
    "# YOUR CODE HERE\n",
    "  emb = nn.Embedding(num_embeddings=num_node, embedding_dim=embedding_dim)\n",
    "  emb.weight.data = torch.rand(num_node, embedding_dim)\n",
    "  \n",
    "  return emb\n",
    "\n",
    "emb = create_node_emb()\n",
    "ids = torch.LongTensor([0, 3])\n",
    "\n",
    "# Print the embedding layer\n",
    "print(\"Embedding: {}\".format(emb))\n",
    "\n",
    "# An example that gets the embeddings for node 0 and 3\n",
    "print(emb(ids))"
   ]
  },
  {
   "cell_type": "markdown",
   "metadata": {
    "id": "4QfoANibTzyh"
   },
   "source": [
    "## Visualize the initial node embeddings\n",
    "One good way to understand an embedding matrix, is to visualize it in a 2D space.\n",
    "Here, we have implemented an embedding visualization function for you.\n",
    "We first do PCA to reduce the dimensionality of embeddings to a 2D space.\n",
    "Then we visualize each point, colored by the community it belongs to."
   ]
  },
  {
   "cell_type": "code",
   "execution_count": 42,
   "metadata": {
    "id": "_LCoIkarhfYD"
   },
   "outputs": [
    {
     "data": {
      "image/png": "[encoded data removed]",
      "text/plain": [
       "<Figure size 600x600 with 1 Axes>"
      ]
     },
     "metadata": {},
     "output_type": "display_data"
    }
   ],
   "source": [
    "def visualize_emb(emb):\n",
    "  X = emb.weight.data.numpy()\n",
    "  pca = PCA(n_components=2)\n",
    "  components = pca.fit_transform(X)\n",
    "  plt.figure(figsize=(6, 6))\n",
    "  club1_x = []\n",
    "  club1_y = []\n",
    "  club2_x = []\n",
    "  club2_y = []\n",
    "  for node in G.nodes(data=True):\n",
    "    if node[1]['club'] == 'Mr. Hi':\n",
    "      club1_x.append(components[node[0]][0])\n",
    "      club1_y.append(components[node[0]][1])\n",
    "    else:\n",
    "      club2_x.append(components[node[0]][0])\n",
    "      club2_y.append(components[node[0]][1])\n",
    "  plt.scatter(club1_x, club1_y, color=\"red\", label=\"Mr. Hi\")\n",
    "  plt.scatter(club2_x, club2_y, color=\"blue\", label=\"Officer\")\n",
    "  plt.legend()\n",
    "  plt.show()\n",
    "\n",
    "# Visualize the initial random embeddding\n",
    "visualize_emb(emb)"
   ]
  },
  {
   "cell_type": "markdown",
   "metadata": {
    "id": "bQIyuEz9ANb2"
   },
   "source": [
    "## Question 2.3b: Training the embedding! What is the best performance you can get? (6 points)\n",
    "\n",
    "We want to optimize our embeddings for the task of classifying edges as positive or negative. Given an edge and the embeddings for each node, the dot product of the embeddings, followed by a sigmoid, should give us the likelihood of that edge being either positive (output of sigmoid > 0.5) or negative (output of sigmoid < 0.5).\n",
    "\n",
    "Note that we're using the functions you wrote in the previous questions, _as well as the variables initialized in previous cells_. If you're running into issues, make sure your answers to questions 1-6 are correct."
   ]
  },
  {
   "cell_type": "code",
   "execution_count": 46,
   "metadata": {
    "deletable": false,
    "id": "RDeQTNNxqH0j",
    "nbgrader": {
     "cell_type": "code",
     "checksum": "186c314ea616c7a01919b0d8d808d4a5",
     "grade": true,
     "grade_id": "q2_3b",
     "locked": false,
     "points": 6,
     "schema_version": 3,
     "solution": true,
     "task": false
    }
   },
   "outputs": [
    {
     "name": "stdout",
     "output_type": "stream",
     "text": [
      "torch.Size([2, 78])\n",
      "torch.Size([2, 156])\n",
      "Epoch 1/500, Loss: 2.1942, Accuracy: 0.5\n",
      "Epoch 2/500, Loss: 2.1791, Accuracy: 0.5\n",
      "Epoch 3/500, Loss: 2.1506, Accuracy: 0.5\n",
      "Epoch 4/500, Loss: 2.1105, Accuracy: 0.5\n",
      "Epoch 5/500, Loss: 2.0605, Accuracy: 0.5\n",
      "Epoch 6/500, Loss: 2.0023, Accuracy: 0.5\n",
      "Epoch 7/500, Loss: 1.9375, Accuracy: 0.5\n",
      "Epoch 8/500, Loss: 1.8677, Accuracy: 0.5\n",
      "Epoch 9/500, Loss: 1.7943, Accuracy: 0.5\n",
      "Epoch 10/500, Loss: 1.7186, Accuracy: 0.5\n",
      "Epoch 11/500, Loss: 1.6417, Accuracy: 0.5\n",
      "Epoch 12/500, Loss: 1.5648, Accuracy: 0.5\n",
      "Epoch 13/500, Loss: 1.4889, Accuracy: 0.5\n",
      "Epoch 14/500, Loss: 1.4146, Accuracy: 0.5\n",
      "Epoch 15/500, Loss: 1.3429, Accuracy: 0.5\n",
      "Epoch 16/500, Loss: 1.2742, Accuracy: 0.5\n",
      "Epoch 17/500, Loss: 1.2090, Accuracy: 0.5\n",
      "Epoch 18/500, Loss: 1.1477, Accuracy: 0.5\n",
      "Epoch 19/500, Loss: 1.0905, Accuracy: 0.5\n",
      "Epoch 20/500, Loss: 1.0375, Accuracy: 0.5\n",
      "Epoch 21/500, Loss: 0.9887, Accuracy: 0.5\n",
      "Epoch 22/500, Loss: 0.9441, Accuracy: 0.5\n",
      "Epoch 23/500, Loss: 0.9034, Accuracy: 0.5\n",
      "Epoch 24/500, Loss: 0.8666, Accuracy: 0.5\n",
      "Epoch 25/500, Loss: 0.8333, Accuracy: 0.5\n",
      "Epoch 26/500, Loss: 0.8034, Accuracy: 0.5\n",
      "Epoch 27/500, Loss: 0.7765, Accuracy: 0.5128\n",
      "Epoch 28/500, Loss: 0.7524, Accuracy: 0.5128\n",
      "Epoch 29/500, Loss: 0.7308, Accuracy: 0.5192\n",
      "Epoch 30/500, Loss: 0.7114, Accuracy: 0.5321\n",
      "Epoch 31/500, Loss: 0.6941, Accuracy: 0.5513\n",
      "Epoch 32/500, Loss: 0.6785, Accuracy: 0.5513\n",
      "Epoch 33/500, Loss: 0.6645, Accuracy: 0.5577\n",
      "Epoch 34/500, Loss: 0.6519, Accuracy: 0.5833\n",
      "Epoch 35/500, Loss: 0.6406, Accuracy: 0.6282\n",
      "Epoch 36/500, Loss: 0.6303, Accuracy: 0.6282\n",
      "Epoch 37/500, Loss: 0.6209, Accuracy: 0.6474\n",
      "Epoch 38/500, Loss: 0.6124, Accuracy: 0.6603\n",
      "Epoch 39/500, Loss: 0.6046, Accuracy: 0.6731\n",
      "Epoch 40/500, Loss: 0.5974, Accuracy: 0.6859\n",
      "Epoch 41/500, Loss: 0.5908, Accuracy: 0.6859\n",
      "Epoch 42/500, Loss: 0.5847, Accuracy: 0.7051\n",
      "Epoch 43/500, Loss: 0.5790, Accuracy: 0.7051\n",
      "Epoch 44/500, Loss: 0.5736, Accuracy: 0.6987\n",
      "Epoch 45/500, Loss: 0.5686, Accuracy: 0.7051\n",
      "Epoch 46/500, Loss: 0.5639, Accuracy: 0.7115\n",
      "Epoch 47/500, Loss: 0.5595, Accuracy: 0.7244\n",
      "Epoch 48/500, Loss: 0.5552, Accuracy: 0.7372\n",
      "Epoch 49/500, Loss: 0.5511, Accuracy: 0.7372\n",
      "Epoch 50/500, Loss: 0.5473, Accuracy: 0.75\n",
      "Epoch 51/500, Loss: 0.5435, Accuracy: 0.7564\n",
      "Epoch 52/500, Loss: 0.5399, Accuracy: 0.7756\n",
      "Epoch 53/500, Loss: 0.5364, Accuracy: 0.7821\n",
      "Epoch 54/500, Loss: 0.5331, Accuracy: 0.7821\n",
      "Epoch 55/500, Loss: 0.5298, Accuracy: 0.7756\n",
      "Epoch 56/500, Loss: 0.5266, Accuracy: 0.7821\n",
      "Epoch 57/500, Loss: 0.5235, Accuracy: 0.7821\n",
      "Epoch 58/500, Loss: 0.5204, Accuracy: 0.7821\n",
      "Epoch 59/500, Loss: 0.5174, Accuracy: 0.7885\n",
      "Epoch 60/500, Loss: 0.5145, Accuracy: 0.7885\n",
      "Epoch 61/500, Loss: 0.5116, Accuracy: 0.7885\n",
      "Epoch 62/500, Loss: 0.5088, Accuracy: 0.8013\n",
      "Epoch 63/500, Loss: 0.5060, Accuracy: 0.8013\n",
      "Epoch 64/500, Loss: 0.5032, Accuracy: 0.8013\n",
      "Epoch 65/500, Loss: 0.5005, Accuracy: 0.8077\n",
      "Epoch 66/500, Loss: 0.4978, Accuracy: 0.8077\n",
      "Epoch 67/500, Loss: 0.4952, Accuracy: 0.8205\n",
      "Epoch 68/500, Loss: 0.4925, Accuracy: 0.8205\n",
      "Epoch 69/500, Loss: 0.4899, Accuracy: 0.8205\n",
      "Epoch 70/500, Loss: 0.4874, Accuracy: 0.8205\n",
      "Epoch 71/500, Loss: 0.4848, Accuracy: 0.8269\n",
      "Epoch 72/500, Loss: 0.4823, Accuracy: 0.8269\n",
      "Epoch 73/500, Loss: 0.4798, Accuracy: 0.8269\n",
      "Epoch 74/500, Loss: 0.4773, Accuracy: 0.8333\n",
      "Epoch 75/500, Loss: 0.4749, Accuracy: 0.8333\n",
      "Epoch 76/500, Loss: 0.4724, Accuracy: 0.8397\n",
      "Epoch 77/500, Loss: 0.4700, Accuracy: 0.8397\n",
      "Epoch 78/500, Loss: 0.4676, Accuracy: 0.8462\n",
      "Epoch 79/500, Loss: 0.4652, Accuracy: 0.8526\n",
      "Epoch 80/500, Loss: 0.4628, Accuracy: 0.8526\n",
      "Epoch 81/500, Loss: 0.4605, Accuracy: 0.8526\n",
      "Epoch 82/500, Loss: 0.4582, Accuracy: 0.8526\n",
      "Epoch 83/500, Loss: 0.4558, Accuracy: 0.8654\n",
      "Epoch 84/500, Loss: 0.4535, Accuracy: 0.8654\n",
      "Epoch 85/500, Loss: 0.4513, Accuracy: 0.8718\n",
      "Epoch 86/500, Loss: 0.4490, Accuracy: 0.8718\n",
      "Epoch 87/500, Loss: 0.4467, Accuracy: 0.8718\n",
      "Epoch 88/500, Loss: 0.4445, Accuracy: 0.8782\n",
      "Epoch 89/500, Loss: 0.4423, Accuracy: 0.8782\n",
      "Epoch 90/500, Loss: 0.4400, Accuracy: 0.8782\n",
      "Epoch 91/500, Loss: 0.4378, Accuracy: 0.8782\n",
      "Epoch 92/500, Loss: 0.4357, Accuracy: 0.8782\n",
      "Epoch 93/500, Loss: 0.4335, Accuracy: 0.8846\n",
      "Epoch 94/500, Loss: 0.4313, Accuracy: 0.8846\n",
      "Epoch 95/500, Loss: 0.4292, Accuracy: 0.8846\n",
      "Epoch 96/500, Loss: 0.4271, Accuracy: 0.8846\n",
      "Epoch 97/500, Loss: 0.4249, Accuracy: 0.8846\n",
      "Epoch 98/500, Loss: 0.4228, Accuracy: 0.8846\n",
      "Epoch 99/500, Loss: 0.4207, Accuracy: 0.8846\n",
      "Epoch 100/500, Loss: 0.4187, Accuracy: 0.8846\n",
      "Epoch 101/500, Loss: 0.4166, Accuracy: 0.8846\n",
      "Epoch 102/500, Loss: 0.4145, Accuracy: 0.8846\n",
      "Epoch 103/500, Loss: 0.4125, Accuracy: 0.8846\n",
      "Epoch 104/500, Loss: 0.4105, Accuracy: 0.8846\n",
      "Epoch 105/500, Loss: 0.4084, Accuracy: 0.8846\n",
      "Epoch 106/500, Loss: 0.4064, Accuracy: 0.8846\n",
      "Epoch 107/500, Loss: 0.4045, Accuracy: 0.8846\n",
      "Epoch 108/500, Loss: 0.4025, Accuracy: 0.891\n",
      "Epoch 109/500, Loss: 0.4005, Accuracy: 0.891\n",
      "Epoch 110/500, Loss: 0.3986, Accuracy: 0.8974\n",
      "Epoch 111/500, Loss: 0.3966, Accuracy: 0.8974\n",
      "Epoch 112/500, Loss: 0.3947, Accuracy: 0.8974\n",
      "Epoch 113/500, Loss: 0.3928, Accuracy: 0.8974\n",
      "Epoch 114/500, Loss: 0.3909, Accuracy: 0.8974\n",
      "Epoch 115/500, Loss: 0.3890, Accuracy: 0.8974\n",
      "Epoch 116/500, Loss: 0.3871, Accuracy: 0.8974\n",
      "Epoch 117/500, Loss: 0.3852, Accuracy: 0.8974\n",
      "Epoch 118/500, Loss: 0.3834, Accuracy: 0.8974\n",
      "Epoch 119/500, Loss: 0.3815, Accuracy: 0.9038\n",
      "Epoch 120/500, Loss: 0.3797, Accuracy: 0.9038\n",
      "Epoch 121/500, Loss: 0.3779, Accuracy: 0.9038\n",
      "Epoch 122/500, Loss: 0.3761, Accuracy: 0.9038\n",
      "Epoch 123/500, Loss: 0.3743, Accuracy: 0.9103\n",
      "Epoch 124/500, Loss: 0.3725, Accuracy: 0.9103\n",
      "Epoch 125/500, Loss: 0.3707, Accuracy: 0.9103\n",
      "Epoch 126/500, Loss: 0.3689, Accuracy: 0.9103\n",
      "Epoch 127/500, Loss: 0.3672, Accuracy: 0.9103\n",
      "Epoch 128/500, Loss: 0.3655, Accuracy: 0.9103\n",
      "Epoch 129/500, Loss: 0.3637, Accuracy: 0.9103\n",
      "Epoch 130/500, Loss: 0.3620, Accuracy: 0.9103\n",
      "Epoch 131/500, Loss: 0.3603, Accuracy: 0.9103\n",
      "Epoch 132/500, Loss: 0.3586, Accuracy: 0.9103\n",
      "Epoch 133/500, Loss: 0.3569, Accuracy: 0.9167\n",
      "Epoch 134/500, Loss: 0.3553, Accuracy: 0.9167\n",
      "Epoch 135/500, Loss: 0.3536, Accuracy: 0.9167\n",
      "Epoch 136/500, Loss: 0.3520, Accuracy: 0.9167\n",
      "Epoch 137/500, Loss: 0.3503, Accuracy: 0.9167\n",
      "Epoch 138/500, Loss: 0.3487, Accuracy: 0.9167\n",
      "Epoch 139/500, Loss: 0.3471, Accuracy: 0.9167\n",
      "Epoch 140/500, Loss: 0.3455, Accuracy: 0.9167\n",
      "Epoch 141/500, Loss: 0.3439, Accuracy: 0.9167\n",
      "Epoch 142/500, Loss: 0.3424, Accuracy: 0.9167\n",
      "Epoch 143/500, Loss: 0.3408, Accuracy: 0.9167\n",
      "Epoch 144/500, Loss: 0.3392, Accuracy: 0.9167\n",
      "Epoch 145/500, Loss: 0.3377, Accuracy: 0.9167\n",
      "Epoch 146/500, Loss: 0.3362, Accuracy: 0.9167\n",
      "Epoch 147/500, Loss: 0.3346, Accuracy: 0.9167\n",
      "Epoch 148/500, Loss: 0.3331, Accuracy: 0.9167\n",
      "Epoch 149/500, Loss: 0.3316, Accuracy: 0.9167\n",
      "Epoch 150/500, Loss: 0.3302, Accuracy: 0.9231\n",
      "Epoch 151/500, Loss: 0.3287, Accuracy: 0.9231\n",
      "Epoch 152/500, Loss: 0.3272, Accuracy: 0.9231\n",
      "Epoch 153/500, Loss: 0.3258, Accuracy: 0.9231\n",
      "Epoch 154/500, Loss: 0.3243, Accuracy: 0.9231\n",
      "Epoch 155/500, Loss: 0.3229, Accuracy: 0.9231\n",
      "Epoch 156/500, Loss: 0.3215, Accuracy: 0.9231\n",
      "Epoch 157/500, Loss: 0.3201, Accuracy: 0.9231\n",
      "Epoch 158/500, Loss: 0.3186, Accuracy: 0.9231\n",
      "Epoch 159/500, Loss: 0.3173, Accuracy: 0.9231\n",
      "Epoch 160/500, Loss: 0.3159, Accuracy: 0.9231\n",
      "Epoch 161/500, Loss: 0.3145, Accuracy: 0.9231\n",
      "Epoch 162/500, Loss: 0.3132, Accuracy: 0.9231\n",
      "Epoch 163/500, Loss: 0.3118, Accuracy: 0.9231\n",
      "Epoch 164/500, Loss: 0.3105, Accuracy: 0.9231\n",
      "Epoch 165/500, Loss: 0.3091, Accuracy: 0.9231\n",
      "Epoch 166/500, Loss: 0.3078, Accuracy: 0.9231\n",
      "Epoch 167/500, Loss: 0.3065, Accuracy: 0.9295\n",
      "Epoch 168/500, Loss: 0.3052, Accuracy: 0.9295\n",
      "Epoch 169/500, Loss: 0.3039, Accuracy: 0.9295\n",
      "Epoch 170/500, Loss: 0.3027, Accuracy: 0.9295\n",
      "Epoch 171/500, Loss: 0.3014, Accuracy: 0.9295\n",
      "Epoch 172/500, Loss: 0.3001, Accuracy: 0.9295\n",
      "Epoch 173/500, Loss: 0.2989, Accuracy: 0.9295\n",
      "Epoch 174/500, Loss: 0.2976, Accuracy: 0.9295\n",
      "Epoch 175/500, Loss: 0.2964, Accuracy: 0.9295\n",
      "Epoch 176/500, Loss: 0.2952, Accuracy: 0.9295\n",
      "Epoch 177/500, Loss: 0.2940, Accuracy: 0.9295\n",
      "Epoch 178/500, Loss: 0.2928, Accuracy: 0.9295\n",
      "Epoch 179/500, Loss: 0.2916, Accuracy: 0.9295\n",
      "Epoch 180/500, Loss: 0.2904, Accuracy: 0.9359\n",
      "Epoch 181/500, Loss: 0.2893, Accuracy: 0.9359\n",
      "Epoch 182/500, Loss: 0.2881, Accuracy: 0.9359\n",
      "Epoch 183/500, Loss: 0.2870, Accuracy: 0.9423\n",
      "Epoch 184/500, Loss: 0.2858, Accuracy: 0.9423\n",
      "Epoch 185/500, Loss: 0.2847, Accuracy: 0.9423\n",
      "Epoch 186/500, Loss: 0.2836, Accuracy: 0.9423\n",
      "Epoch 187/500, Loss: 0.2825, Accuracy: 0.9423\n",
      "Epoch 188/500, Loss: 0.2814, Accuracy: 0.9423\n",
      "Epoch 189/500, Loss: 0.2803, Accuracy: 0.9423\n",
      "Epoch 190/500, Loss: 0.2792, Accuracy: 0.9423\n",
      "Epoch 191/500, Loss: 0.2781, Accuracy: 0.9423\n",
      "Epoch 192/500, Loss: 0.2770, Accuracy: 0.9551\n",
      "Epoch 193/500, Loss: 0.2760, Accuracy: 0.9551\n",
      "Epoch 194/500, Loss: 0.2749, Accuracy: 0.9551\n",
      "Epoch 195/500, Loss: 0.2739, Accuracy: 0.9551\n",
      "Epoch 196/500, Loss: 0.2729, Accuracy: 0.9551\n",
      "Epoch 197/500, Loss: 0.2719, Accuracy: 0.9551\n",
      "Epoch 198/500, Loss: 0.2709, Accuracy: 0.9551\n",
      "Epoch 199/500, Loss: 0.2699, Accuracy: 0.9551\n",
      "Epoch 200/500, Loss: 0.2689, Accuracy: 0.9551\n",
      "Epoch 201/500, Loss: 0.2679, Accuracy: 0.9551\n",
      "Epoch 202/500, Loss: 0.2669, Accuracy: 0.9551\n",
      "Epoch 203/500, Loss: 0.2659, Accuracy: 0.9551\n",
      "Epoch 204/500, Loss: 0.2650, Accuracy: 0.9551\n",
      "Epoch 205/500, Loss: 0.2640, Accuracy: 0.9551\n",
      "Epoch 206/500, Loss: 0.2631, Accuracy: 0.9551\n",
      "Epoch 207/500, Loss: 0.2622, Accuracy: 0.9551\n",
      "Epoch 208/500, Loss: 0.2612, Accuracy: 0.9551\n",
      "Epoch 209/500, Loss: 0.2603, Accuracy: 0.9551\n",
      "Epoch 210/500, Loss: 0.2594, Accuracy: 0.9551\n",
      "Epoch 211/500, Loss: 0.2585, Accuracy: 0.9551\n",
      "Epoch 212/500, Loss: 0.2576, Accuracy: 0.9551\n",
      "Epoch 213/500, Loss: 0.2567, Accuracy: 0.9551\n",
      "Epoch 214/500, Loss: 0.2559, Accuracy: 0.9551\n",
      "Epoch 215/500, Loss: 0.2550, Accuracy: 0.9551\n",
      "Epoch 216/500, Loss: 0.2541, Accuracy: 0.9551\n",
      "Epoch 217/500, Loss: 0.2533, Accuracy: 0.9551\n",
      "Epoch 218/500, Loss: 0.2525, Accuracy: 0.9551\n",
      "Epoch 219/500, Loss: 0.2516, Accuracy: 0.9551\n",
      "Epoch 220/500, Loss: 0.2508, Accuracy: 0.9551\n",
      "Epoch 221/500, Loss: 0.2500, Accuracy: 0.9551\n",
      "Epoch 222/500, Loss: 0.2492, Accuracy: 0.9551\n",
      "Epoch 223/500, Loss: 0.2484, Accuracy: 0.9551\n",
      "Epoch 224/500, Loss: 0.2476, Accuracy: 0.9551\n",
      "Epoch 225/500, Loss: 0.2468, Accuracy: 0.9551\n",
      "Epoch 226/500, Loss: 0.2460, Accuracy: 0.9551\n",
      "Epoch 227/500, Loss: 0.2452, Accuracy: 0.9551\n",
      "Epoch 228/500, Loss: 0.2445, Accuracy: 0.9551\n",
      "Epoch 229/500, Loss: 0.2437, Accuracy: 0.9551\n",
      "Epoch 230/500, Loss: 0.2430, Accuracy: 0.9551\n",
      "Epoch 231/500, Loss: 0.2422, Accuracy: 0.9551\n",
      "Epoch 232/500, Loss: 0.2415, Accuracy: 0.9551\n",
      "Epoch 233/500, Loss: 0.2407, Accuracy: 0.9551\n",
      "Epoch 234/500, Loss: 0.2400, Accuracy: 0.9551\n",
      "Epoch 235/500, Loss: 0.2393, Accuracy: 0.9551\n",
      "Epoch 236/500, Loss: 0.2386, Accuracy: 0.9551\n",
      "Epoch 237/500, Loss: 0.2379, Accuracy: 0.9551\n",
      "Epoch 238/500, Loss: 0.2372, Accuracy: 0.9551\n",
      "Epoch 239/500, Loss: 0.2365, Accuracy: 0.9551\n",
      "Epoch 240/500, Loss: 0.2358, Accuracy: 0.9551\n",
      "Epoch 241/500, Loss: 0.2351, Accuracy: 0.9551\n",
      "Epoch 242/500, Loss: 0.2345, Accuracy: 0.9551\n",
      "Epoch 243/500, Loss: 0.2338, Accuracy: 0.9551\n",
      "Epoch 244/500, Loss: 0.2332, Accuracy: 0.9551\n",
      "Epoch 245/500, Loss: 0.2325, Accuracy: 0.9551\n",
      "Epoch 246/500, Loss: 0.2319, Accuracy: 0.9551\n",
      "Epoch 247/500, Loss: 0.2312, Accuracy: 0.9551\n",
      "Epoch 248/500, Loss: 0.2306, Accuracy: 0.9551\n",
      "Epoch 249/500, Loss: 0.2300, Accuracy: 0.9551\n",
      "Epoch 250/500, Loss: 0.2293, Accuracy: 0.9551\n",
      "Epoch 251/500, Loss: 0.2287, Accuracy: 0.9551\n",
      "Epoch 252/500, Loss: 0.2281, Accuracy: 0.9551\n",
      "Epoch 253/500, Loss: 0.2275, Accuracy: 0.9551\n",
      "Epoch 254/500, Loss: 0.2269, Accuracy: 0.9551\n",
      "Epoch 255/500, Loss: 0.2263, Accuracy: 0.9551\n",
      "Epoch 256/500, Loss: 0.2257, Accuracy: 0.9551\n",
      "Epoch 257/500, Loss: 0.2252, Accuracy: 0.9551\n",
      "Epoch 258/500, Loss: 0.2246, Accuracy: 0.9551\n",
      "Epoch 259/500, Loss: 0.2240, Accuracy: 0.9551\n",
      "Epoch 260/500, Loss: 0.2234, Accuracy: 0.9551\n",
      "Epoch 261/500, Loss: 0.2229, Accuracy: 0.9551\n",
      "Epoch 262/500, Loss: 0.2223, Accuracy: 0.9551\n",
      "Epoch 263/500, Loss: 0.2218, Accuracy: 0.9551\n",
      "Epoch 264/500, Loss: 0.2212, Accuracy: 0.9551\n",
      "Epoch 265/500, Loss: 0.2207, Accuracy: 0.9551\n",
      "Epoch 266/500, Loss: 0.2202, Accuracy: 0.9551\n",
      "Epoch 267/500, Loss: 0.2196, Accuracy: 0.9551\n",
      "Epoch 268/500, Loss: 0.2191, Accuracy: 0.9551\n",
      "Epoch 269/500, Loss: 0.2186, Accuracy: 0.9551\n",
      "Epoch 270/500, Loss: 0.2181, Accuracy: 0.9551\n",
      "Epoch 271/500, Loss: 0.2176, Accuracy: 0.9551\n",
      "Epoch 272/500, Loss: 0.2171, Accuracy: 0.9551\n",
      "Epoch 273/500, Loss: 0.2166, Accuracy: 0.9551\n",
      "Epoch 274/500, Loss: 0.2161, Accuracy: 0.9551\n",
      "Epoch 275/500, Loss: 0.2156, Accuracy: 0.9551\n",
      "Epoch 276/500, Loss: 0.2151, Accuracy: 0.9551\n",
      "Epoch 277/500, Loss: 0.2146, Accuracy: 0.9551\n",
      "Epoch 278/500, Loss: 0.2141, Accuracy: 0.9551\n",
      "Epoch 279/500, Loss: 0.2136, Accuracy: 0.9551\n",
      "Epoch 280/500, Loss: 0.2132, Accuracy: 0.9551\n",
      "Epoch 281/500, Loss: 0.2127, Accuracy: 0.9551\n",
      "Epoch 282/500, Loss: 0.2123, Accuracy: 0.9551\n",
      "Epoch 283/500, Loss: 0.2118, Accuracy: 0.9551\n",
      "Epoch 284/500, Loss: 0.2113, Accuracy: 0.9551\n",
      "Epoch 285/500, Loss: 0.2109, Accuracy: 0.9551\n",
      "Epoch 286/500, Loss: 0.2104, Accuracy: 0.9551\n",
      "Epoch 287/500, Loss: 0.2100, Accuracy: 0.9551\n",
      "Epoch 288/500, Loss: 0.2096, Accuracy: 0.9551\n",
      "Epoch 289/500, Loss: 0.2091, Accuracy: 0.9551\n",
      "Epoch 290/500, Loss: 0.2087, Accuracy: 0.9551\n",
      "Epoch 291/500, Loss: 0.2083, Accuracy: 0.9551\n",
      "Epoch 292/500, Loss: 0.2078, Accuracy: 0.9551\n",
      "Epoch 293/500, Loss: 0.2074, Accuracy: 0.9551\n",
      "Epoch 294/500, Loss: 0.2070, Accuracy: 0.9551\n",
      "Epoch 295/500, Loss: 0.2066, Accuracy: 0.9551\n",
      "Epoch 296/500, Loss: 0.2062, Accuracy: 0.9551\n",
      "Epoch 297/500, Loss: 0.2058, Accuracy: 0.9551\n",
      "Epoch 298/500, Loss: 0.2054, Accuracy: 0.9551\n",
      "Epoch 299/500, Loss: 0.2050, Accuracy: 0.9551\n",
      "Epoch 300/500, Loss: 0.2046, Accuracy: 0.9551\n",
      "Epoch 301/500, Loss: 0.2042, Accuracy: 0.9551\n",
      "Epoch 302/500, Loss: 0.2038, Accuracy: 0.9551\n",
      "Epoch 303/500, Loss: 0.2034, Accuracy: 0.9551\n",
      "Epoch 304/500, Loss: 0.2030, Accuracy: 0.9551\n",
      "Epoch 305/500, Loss: 0.2027, Accuracy: 0.9551\n",
      "Epoch 306/500, Loss: 0.2023, Accuracy: 0.9551\n",
      "Epoch 307/500, Loss: 0.2019, Accuracy: 0.9551\n",
      "Epoch 308/500, Loss: 0.2015, Accuracy: 0.9551\n",
      "Epoch 309/500, Loss: 0.2012, Accuracy: 0.9551\n",
      "Epoch 310/500, Loss: 0.2008, Accuracy: 0.9551\n",
      "Epoch 311/500, Loss: 0.2005, Accuracy: 0.9551\n",
      "Epoch 312/500, Loss: 0.2001, Accuracy: 0.9551\n",
      "Epoch 313/500, Loss: 0.1997, Accuracy: 0.9551\n",
      "Epoch 314/500, Loss: 0.1994, Accuracy: 0.9551\n",
      "Epoch 315/500, Loss: 0.1990, Accuracy: 0.9551\n",
      "Epoch 316/500, Loss: 0.1987, Accuracy: 0.9551\n",
      "Epoch 317/500, Loss: 0.1983, Accuracy: 0.9551\n",
      "Epoch 318/500, Loss: 0.1980, Accuracy: 0.9551\n",
      "Epoch 319/500, Loss: 0.1977, Accuracy: 0.9551\n",
      "Epoch 320/500, Loss: 0.1973, Accuracy: 0.9551\n",
      "Epoch 321/500, Loss: 0.1970, Accuracy: 0.9551\n",
      "Epoch 322/500, Loss: 0.1967, Accuracy: 0.9551\n",
      "Epoch 323/500, Loss: 0.1963, Accuracy: 0.9551\n",
      "Epoch 324/500, Loss: 0.1960, Accuracy: 0.9551\n",
      "Epoch 325/500, Loss: 0.1957, Accuracy: 0.9551\n",
      "Epoch 326/500, Loss: 0.1954, Accuracy: 0.9551\n",
      "Epoch 327/500, Loss: 0.1950, Accuracy: 0.9551\n",
      "Epoch 328/500, Loss: 0.1947, Accuracy: 0.9551\n",
      "Epoch 329/500, Loss: 0.1944, Accuracy: 0.9551\n",
      "Epoch 330/500, Loss: 0.1941, Accuracy: 0.9551\n",
      "Epoch 331/500, Loss: 0.1938, Accuracy: 0.9551\n",
      "Epoch 332/500, Loss: 0.1935, Accuracy: 0.9551\n",
      "Epoch 333/500, Loss: 0.1932, Accuracy: 0.9551\n",
      "Epoch 334/500, Loss: 0.1929, Accuracy: 0.9551\n",
      "Epoch 335/500, Loss: 0.1926, Accuracy: 0.9551\n",
      "Epoch 336/500, Loss: 0.1923, Accuracy: 0.9551\n",
      "Epoch 337/500, Loss: 0.1920, Accuracy: 0.9551\n",
      "Epoch 338/500, Loss: 0.1917, Accuracy: 0.9551\n",
      "Epoch 339/500, Loss: 0.1914, Accuracy: 0.9551\n",
      "Epoch 340/500, Loss: 0.1911, Accuracy: 0.9551\n",
      "Epoch 341/500, Loss: 0.1908, Accuracy: 0.9551\n",
      "Epoch 342/500, Loss: 0.1905, Accuracy: 0.9551\n",
      "Epoch 343/500, Loss: 0.1902, Accuracy: 0.9551\n",
      "Epoch 344/500, Loss: 0.1900, Accuracy: 0.9551\n",
      "Epoch 345/500, Loss: 0.1897, Accuracy: 0.9551\n",
      "Epoch 346/500, Loss: 0.1894, Accuracy: 0.9551\n",
      "Epoch 347/500, Loss: 0.1891, Accuracy: 0.9551\n",
      "Epoch 348/500, Loss: 0.1889, Accuracy: 0.9551\n",
      "Epoch 349/500, Loss: 0.1886, Accuracy: 0.9551\n",
      "Epoch 350/500, Loss: 0.1883, Accuracy: 0.9551\n",
      "Epoch 351/500, Loss: 0.1880, Accuracy: 0.9551\n",
      "Epoch 352/500, Loss: 0.1878, Accuracy: 0.9551\n",
      "Epoch 353/500, Loss: 0.1875, Accuracy: 0.9551\n",
      "Epoch 354/500, Loss: 0.1873, Accuracy: 0.9551\n",
      "Epoch 355/500, Loss: 0.1870, Accuracy: 0.9551\n",
      "Epoch 356/500, Loss: 0.1867, Accuracy: 0.9551\n",
      "Epoch 357/500, Loss: 0.1865, Accuracy: 0.9551\n",
      "Epoch 358/500, Loss: 0.1862, Accuracy: 0.9551\n",
      "Epoch 359/500, Loss: 0.1860, Accuracy: 0.9551\n",
      "Epoch 360/500, Loss: 0.1857, Accuracy: 0.9551\n",
      "Epoch 361/500, Loss: 0.1855, Accuracy: 0.9551\n",
      "Epoch 362/500, Loss: 0.1852, Accuracy: 0.9551\n",
      "Epoch 363/500, Loss: 0.1850, Accuracy: 0.9551\n",
      "Epoch 364/500, Loss: 0.1847, Accuracy: 0.9551\n",
      "Epoch 365/500, Loss: 0.1845, Accuracy: 0.9551\n",
      "Epoch 366/500, Loss: 0.1842, Accuracy: 0.9551\n",
      "Epoch 367/500, Loss: 0.1840, Accuracy: 0.9551\n",
      "Epoch 368/500, Loss: 0.1838, Accuracy: 0.9551\n",
      "Epoch 369/500, Loss: 0.1835, Accuracy: 0.9551\n",
      "Epoch 370/500, Loss: 0.1833, Accuracy: 0.9551\n",
      "Epoch 371/500, Loss: 0.1830, Accuracy: 0.9551\n",
      "Epoch 372/500, Loss: 0.1828, Accuracy: 0.9551\n",
      "Epoch 373/500, Loss: 0.1826, Accuracy: 0.9551\n",
      "Epoch 374/500, Loss: 0.1823, Accuracy: 0.9551\n",
      "Epoch 375/500, Loss: 0.1821, Accuracy: 0.9551\n",
      "Epoch 376/500, Loss: 0.1819, Accuracy: 0.9551\n",
      "Epoch 377/500, Loss: 0.1817, Accuracy: 0.9551\n",
      "Epoch 378/500, Loss: 0.1814, Accuracy: 0.9551\n",
      "Epoch 379/500, Loss: 0.1812, Accuracy: 0.9551\n",
      "Epoch 380/500, Loss: 0.1810, Accuracy: 0.9551\n",
      "Epoch 381/500, Loss: 0.1808, Accuracy: 0.9551\n",
      "Epoch 382/500, Loss: 0.1806, Accuracy: 0.9551\n",
      "Epoch 383/500, Loss: 0.1803, Accuracy: 0.9551\n",
      "Epoch 384/500, Loss: 0.1801, Accuracy: 0.9551\n",
      "Epoch 385/500, Loss: 0.1799, Accuracy: 0.9551\n",
      "Epoch 386/500, Loss: 0.1797, Accuracy: 0.9551\n",
      "Epoch 387/500, Loss: 0.1795, Accuracy: 0.9551\n",
      "Epoch 388/500, Loss: 0.1793, Accuracy: 0.9551\n",
      "Epoch 389/500, Loss: 0.1791, Accuracy: 0.9551\n",
      "Epoch 390/500, Loss: 0.1788, Accuracy: 0.9551\n",
      "Epoch 391/500, Loss: 0.1786, Accuracy: 0.9551\n",
      "Epoch 392/500, Loss: 0.1784, Accuracy: 0.9551\n",
      "Epoch 393/500, Loss: 0.1782, Accuracy: 0.9551\n",
      "Epoch 394/500, Loss: 0.1780, Accuracy: 0.9551\n",
      "Epoch 395/500, Loss: 0.1778, Accuracy: 0.9551\n",
      "Epoch 396/500, Loss: 0.1776, Accuracy: 0.9551\n",
      "Epoch 397/500, Loss: 0.1774, Accuracy: 0.9551\n",
      "Epoch 398/500, Loss: 0.1772, Accuracy: 0.9551\n",
      "Epoch 399/500, Loss: 0.1770, Accuracy: 0.9551\n",
      "Epoch 400/500, Loss: 0.1768, Accuracy: 0.9551\n",
      "Epoch 401/500, Loss: 0.1766, Accuracy: 0.9551\n",
      "Epoch 402/500, Loss: 0.1764, Accuracy: 0.9551\n",
      "Epoch 403/500, Loss: 0.1762, Accuracy: 0.9551\n",
      "Epoch 404/500, Loss: 0.1760, Accuracy: 0.9551\n",
      "Epoch 405/500, Loss: 0.1758, Accuracy: 0.9551\n",
      "Epoch 406/500, Loss: 0.1757, Accuracy: 0.9551\n",
      "Epoch 407/500, Loss: 0.1755, Accuracy: 0.9551\n",
      "Epoch 408/500, Loss: 0.1753, Accuracy: 0.9551\n",
      "Epoch 409/500, Loss: 0.1751, Accuracy: 0.9551\n",
      "Epoch 410/500, Loss: 0.1749, Accuracy: 0.9551\n",
      "Epoch 411/500, Loss: 0.1747, Accuracy: 0.9551\n",
      "Epoch 412/500, Loss: 0.1745, Accuracy: 0.9551\n",
      "Epoch 413/500, Loss: 0.1743, Accuracy: 0.9551\n",
      "Epoch 414/500, Loss: 0.1742, Accuracy: 0.9551\n",
      "Epoch 415/500, Loss: 0.1740, Accuracy: 0.9551\n",
      "Epoch 416/500, Loss: 0.1738, Accuracy: 0.9551\n",
      "Epoch 417/500, Loss: 0.1736, Accuracy: 0.9551\n",
      "Epoch 418/500, Loss: 0.1734, Accuracy: 0.9551\n",
      "Epoch 419/500, Loss: 0.1733, Accuracy: 0.9551\n",
      "Epoch 420/500, Loss: 0.1731, Accuracy: 0.9551\n",
      "Epoch 421/500, Loss: 0.1729, Accuracy: 0.9551\n",
      "Epoch 422/500, Loss: 0.1727, Accuracy: 0.9551\n",
      "Epoch 423/500, Loss: 0.1726, Accuracy: 0.9551\n",
      "Epoch 424/500, Loss: 0.1724, Accuracy: 0.9551\n",
      "Epoch 425/500, Loss: 0.1722, Accuracy: 0.9551\n",
      "Epoch 426/500, Loss: 0.1720, Accuracy: 0.9551\n",
      "Epoch 427/500, Loss: 0.1719, Accuracy: 0.9551\n",
      "Epoch 428/500, Loss: 0.1717, Accuracy: 0.9551\n",
      "Epoch 429/500, Loss: 0.1715, Accuracy: 0.9551\n",
      "Epoch 430/500, Loss: 0.1714, Accuracy: 0.9551\n",
      "Epoch 431/500, Loss: 0.1712, Accuracy: 0.9551\n",
      "Epoch 432/500, Loss: 0.1710, Accuracy: 0.9551\n",
      "Epoch 433/500, Loss: 0.1709, Accuracy: 0.9551\n",
      "Epoch 434/500, Loss: 0.1707, Accuracy: 0.9551\n",
      "Epoch 435/500, Loss: 0.1705, Accuracy: 0.9551\n",
      "Epoch 436/500, Loss: 0.1704, Accuracy: 0.9551\n",
      "Epoch 437/500, Loss: 0.1702, Accuracy: 0.9551\n",
      "Epoch 438/500, Loss: 0.1701, Accuracy: 0.9551\n",
      "Epoch 439/500, Loss: 0.1699, Accuracy: 0.9551\n",
      "Epoch 440/500, Loss: 0.1697, Accuracy: 0.9551\n",
      "Epoch 441/500, Loss: 0.1696, Accuracy: 0.9551\n",
      "Epoch 442/500, Loss: 0.1694, Accuracy: 0.9551\n",
      "Epoch 443/500, Loss: 0.1693, Accuracy: 0.9551\n",
      "Epoch 444/500, Loss: 0.1691, Accuracy: 0.9551\n",
      "Epoch 445/500, Loss: 0.1689, Accuracy: 0.9551\n",
      "Epoch 446/500, Loss: 0.1688, Accuracy: 0.9551\n",
      "Epoch 447/500, Loss: 0.1686, Accuracy: 0.9551\n",
      "Epoch 448/500, Loss: 0.1685, Accuracy: 0.9551\n",
      "Epoch 449/500, Loss: 0.1683, Accuracy: 0.9551\n",
      "Epoch 450/500, Loss: 0.1682, Accuracy: 0.9551\n",
      "Epoch 451/500, Loss: 0.1680, Accuracy: 0.9551\n",
      "Epoch 452/500, Loss: 0.1679, Accuracy: 0.9551\n",
      "Epoch 453/500, Loss: 0.1677, Accuracy: 0.9551\n",
      "Epoch 454/500, Loss: 0.1676, Accuracy: 0.9551\n",
      "Epoch 455/500, Loss: 0.1674, Accuracy: 0.9551\n",
      "Epoch 456/500, Loss: 0.1673, Accuracy: 0.9551\n",
      "Epoch 457/500, Loss: 0.1671, Accuracy: 0.9551\n",
      "Epoch 458/500, Loss: 0.1670, Accuracy: 0.9551\n",
      "Epoch 459/500, Loss: 0.1668, Accuracy: 0.9551\n",
      "Epoch 460/500, Loss: 0.1667, Accuracy: 0.9551\n",
      "Epoch 461/500, Loss: 0.1665, Accuracy: 0.9551\n",
      "Epoch 462/500, Loss: 0.1664, Accuracy: 0.9551\n",
      "Epoch 463/500, Loss: 0.1663, Accuracy: 0.9551\n",
      "Epoch 464/500, Loss: 0.1661, Accuracy: 0.9551\n",
      "Epoch 465/500, Loss: 0.1660, Accuracy: 0.9551\n",
      "Epoch 466/500, Loss: 0.1658, Accuracy: 0.9551\n",
      "Epoch 467/500, Loss: 0.1657, Accuracy: 0.9551\n",
      "Epoch 468/500, Loss: 0.1656, Accuracy: 0.9551\n",
      "Epoch 469/500, Loss: 0.1654, Accuracy: 0.9551\n",
      "Epoch 470/500, Loss: 0.1653, Accuracy: 0.9551\n",
      "Epoch 471/500, Loss: 0.1651, Accuracy: 0.9551\n",
      "Epoch 472/500, Loss: 0.1650, Accuracy: 0.9551\n",
      "Epoch 473/500, Loss: 0.1649, Accuracy: 0.9551\n",
      "Epoch 474/500, Loss: 0.1647, Accuracy: 0.9551\n",
      "Epoch 475/500, Loss: 0.1646, Accuracy: 0.9551\n",
      "Epoch 476/500, Loss: 0.1645, Accuracy: 0.9551\n",
      "Epoch 477/500, Loss: 0.1643, Accuracy: 0.9551\n",
      "Epoch 478/500, Loss: 0.1642, Accuracy: 0.9551\n",
      "Epoch 479/500, Loss: 0.1641, Accuracy: 0.9551\n",
      "Epoch 480/500, Loss: 0.1639, Accuracy: 0.9551\n",
      "Epoch 481/500, Loss: 0.1638, Accuracy: 0.9551\n",
      "Epoch 482/500, Loss: 0.1637, Accuracy: 0.9551\n",
      "Epoch 483/500, Loss: 0.1635, Accuracy: 0.9551\n",
      "Epoch 484/500, Loss: 0.1634, Accuracy: 0.9551\n",
      "Epoch 485/500, Loss: 0.1633, Accuracy: 0.9551\n",
      "Epoch 486/500, Loss: 0.1631, Accuracy: 0.9551\n",
      "Epoch 487/500, Loss: 0.1630, Accuracy: 0.9551\n",
      "Epoch 488/500, Loss: 0.1629, Accuracy: 0.9551\n",
      "Epoch 489/500, Loss: 0.1628, Accuracy: 0.9551\n",
      "Epoch 490/500, Loss: 0.1626, Accuracy: 0.9551\n",
      "Epoch 491/500, Loss: 0.1625, Accuracy: 0.9551\n",
      "Epoch 492/500, Loss: 0.1624, Accuracy: 0.9551\n",
      "Epoch 493/500, Loss: 0.1623, Accuracy: 0.9551\n",
      "Epoch 494/500, Loss: 0.1621, Accuracy: 0.9551\n",
      "Epoch 495/500, Loss: 0.1620, Accuracy: 0.9551\n",
      "Epoch 496/500, Loss: 0.1619, Accuracy: 0.9551\n",
      "Epoch 497/500, Loss: 0.1618, Accuracy: 0.9551\n",
      "Epoch 498/500, Loss: 0.1616, Accuracy: 0.9551\n",
      "Epoch 499/500, Loss: 0.1615, Accuracy: 0.9551\n",
      "Epoch 500/500, Loss: 0.1614, Accuracy: 0.9551\n"
     ]
    },
    {
     "data": {
      "text/plain": [
       "Embedding(34, 16)"
      ]
     },
     "execution_count": 46,
     "metadata": {},
     "output_type": "execute_result"
    }
   ],
   "source": [
    "from torch.optim import SGD\n",
    "import torch.nn as nn\n",
    "\n",
    "def accuracy(pred, label):\n",
    "  # TODO: Implement the accuracy function. This function takes the\n",
    "  # pred tensor (the resulting tensor after sigmoid) and the label\n",
    "  # tensor (torch.LongTensor). Predicted value greater than 0.5 will\n",
    "  # be classified as label 1. Else it will be classified as label 0.\n",
    "  # The returned accuracy should be rounded to 4 decimal places.\n",
    "  # For example, accuracy 0.82956 will be rounded to 0.8296. (3-4 lines)\n",
    "  \n",
    "\n",
    "# YOUR CODE HERE\n",
    "  pred = (pred > 0.5).long() # It got boolean type if pred > 0.5 and then convert to 0 and 1\n",
    "  correct = (pred == label).sum().item()\n",
    "  accu = (correct / len(label))\n",
    "  \n",
    "  \n",
    "  return round(accu, 4)\n",
    "\n",
    "def train(emb, loss_fn, train_label, train_edge):\n",
    "  # TODO: Train the embedding layer here. You can also change epochs and\n",
    "  # learning rate. In general, you need to implement (12+ lines):\n",
    "  # (1) Get the embeddings of the nodes in train_edge\n",
    "  # (2) Dot product the embeddings between each node pair\n",
    "  # (3) Feed the dot product result into sigmoid\n",
    "  # (4) Feed the sigmoid output into the loss_fn\n",
    "  # (5) Print both loss and accuracy of each epoch\n",
    "  # (6) Update the embeddings using the loss and optimizer\n",
    "  # (as a sanity check, the loss should decrease during training)\n",
    "\n",
    "  epochs = 500\n",
    "  learning_rate = 0.1\n",
    "\n",
    "  optimizer = SGD(emb.parameters(), lr=learning_rate, momentum=0.9)\n",
    "\n",
    "  for i in range(epochs):\n",
    "\n",
    "# YOUR CODE HERE\n",
    "    optimizer.zero_grad()\n",
    "    \n",
    "    node_emb = emb(train_edge)\n",
    "    dot_product = (node_emb[0] * node_emb[1]).sum(dim=1)\n",
    "    pred = torch.sigmoid(dot_product)\n",
    "    loss = loss_fn(pred, train_label)\n",
    "    acc = accuracy(pred, train_label)\n",
    "    \n",
    "    loss.backward()\n",
    "    optimizer.step()\n",
    "    \n",
    "    print(f\"Epoch {i+1}/{epochs}, Loss: {loss.item():.4f}, Accuracy: {acc}\")\n",
    "    \n",
    "  return emb\n",
    "\n",
    "loss_fn = nn.BCELoss()\n",
    "\n",
    "print(pos_edge_index.shape)\n",
    "\n",
    "# Generate the positive and negative labels\n",
    "pos_label = torch.ones(pos_edge_index.shape[1], )\n",
    "neg_label = torch.zeros(neg_edge_index.shape[1], )\n",
    "\n",
    "# Concat positive and negative labels into one tensor\n",
    "train_label = torch.cat([pos_label, neg_label], dim=0)\n",
    "\n",
    "# Concat positive and negative edges into one tensor\n",
    "# Since the network is very small, we do not split the edges into val/test sets\n",
    "train_edge = torch.cat([pos_edge_index, neg_edge_index], dim=1)\n",
    "print(train_edge.shape)\n",
    "\n",
    "train(emb, loss_fn, train_label, train_edge)"
   ]
  },
  {
   "cell_type": "markdown",
   "metadata": {
    "id": "4bh0Mz_nkPtA"
   },
   "source": [
    "## 2.4. Interpreting the training progress\n",
    "\n",
    "In the previous question, you should see the accuracy should be 1.0 around epoch 150. Yet, the loss will continue to decrease after that. Based on this observation answer the questions below."
   ]
  },
  {
   "cell_type": "markdown",
   "metadata": {
    "id": "HQf3gu8LlLi1"
   },
   "source": [
    "## Question 2.4a: Why does the loss continues to decrease after the accuracy converges to 1.0? (1-3 sentences; 2 points)."
   ]
  },
  {
   "cell_type": "markdown",
   "metadata": {
    "deletable": false,
    "id": "R4Q7i2qglfwV",
    "nbgrader": {
     "cell_type": "markdown",
     "checksum": "c8be8967545e0cdfc26710f5e0248d1c",
     "grade": true,
     "grade_id": "q2_4a",
     "locked": false,
     "points": 2,
     "schema_version": 3,
     "solution": true,
     "task": false
    }
   },
   "source": [
    "Accuracy reaching 1.0 means the model is classifying all edges correctly, but it only considers thresholded outputs > 0.5 is 1 and < 0.5 is 0. This does not fully reflect the quality of the learned embeddings. BCE Loss, on the other hand, evaluates confidence in predictions. Even after accuracy converges, the model continues improving embeddings, leading to a continued decrease in loss."
   ]
  },
  {
   "cell_type": "markdown",
   "metadata": {
    "id": "gNLRJs6emEGR"
   },
   "source": [
    "## Question 2.4b: Typically, an accuracy of 1.0 in training indicates overfitting. Why is this not a problem here? Think about the type of training or our goal in obtaining these embeddings. (1-2 sentences; 1 point)."
   ]
  },
  {
   "cell_type": "markdown",
   "metadata": {
    "deletable": false,
    "id": "W4mV8N7VmkeL",
    "nbgrader": {
     "cell_type": "markdown",
     "checksum": "c5d1549ec75dfddf3679b026cdc35a04",
     "grade": true,
     "grade_id": "q2_4b",
     "locked": false,
     "points": 1,
     "schema_version": 3,
     "solution": true,
     "task": false
    }
   },
   "source": [
    "Overfitting is not a problem here because our goal is to learn meaningful node embeddings, not just classify training edges. These embeddings capture structural relationships between nodes, allowing them to generalize beyond the training set for tasks like link prediction and clustering."
   ]
  },
  {
   "cell_type": "markdown",
   "metadata": {
    "id": "WX2PSXnTDiNi"
   },
   "source": [
    "## Visualize the final node embeddings\n",
    "Visualize your final embedding here!\n",
    "You can visually compare the figure with the previous embedding figure.\n",
    "After training, you should oberserve that the two classes are more evidently separated.\n",
    "This is a great sanitity check for your implementation as well."
   ]
  },
  {
   "cell_type": "code",
   "execution_count": 47,
   "metadata": {
    "id": "MtNgl4VhYKow"
   },
   "outputs": [
    {
     "data": {
      "image/png": "[encoded data removed]",
      "text/plain": [
       "<Figure size 600x600 with 1 Axes>"
      ]
     },
     "metadata": {},
     "output_type": "display_data"
    }
   ],
   "source": [
    "# Visualize the final learned embedding\n",
    "visualize_emb(emb)"
   ]
  },
  {
   "cell_type": "markdown",
   "metadata": {
    "id": "HjYzwI76AyIx"
   },
   "source": [
    "# Part III: GCN and PyTorch Geometric\n",
    "\n",
    "In Part III, we will work to construct our own graph neural network using PyTorch Geometric (PyG) and then apply that model on two Open Graph Benchmark (OGB) datasets. These two datasets will be used to benchmark your model's performance on one graph-based tasks: node property prediction, predicting properties of single nodes.\n",
    "\n",
    "First, we will learn how PyTorch Geometric stores graphs as PyTorch tensors.\n",
    "\n",
    "Then, we will load and inspect one of the Open Graph Benchmark (OGB) datasets by using the `ogb` package. OGB is a collection of realistic, large-scale, and diverse benchmark datasets for machine learning on graphs. The `ogb` package not only provides data loaders for each dataset but also model evaluators.\n",
    "\n",
    "Lastly, we will build our own graph neural network using PyTorch Geometric. We will then train and evaluate our model on the OGB node property prediction and graph property prediction tasks.\n",
    "\n",
    "**Note**: Make sure to **sequentially run all the cells in each section**, so that the intermediate variables / packages will carry over to the next cell\n",
    "\n",
    "We recommend you save a copy of this colab in your drive so you don't lose progress!"
   ]
  },
  {
   "cell_type": "markdown",
   "metadata": {
    "id": "6hXeaBn5Pdsd"
   },
   "source": [
    "## Device\n",
    "You might need to use a GPU for this Colab to run quickly. HOWEVER, you should start with a CPU node and make sure everything is working before you switch.\n",
    "\n",
    "Please click `Runtime` and then `Change runtime type`. Then set the `hardware accelerator` to **GPU**."
   ]
  },
  {
   "cell_type": "markdown",
   "metadata": {
    "id": "KcWrgnf-PtOh"
   },
   "source": [
    "## Setup\n",
    "The installation of PyG on Colab can be a little bit tricky. First let us check which version of PyTorch you are running:"
   ]
  },
  {
   "cell_type": "code",
   "execution_count": 48,
   "metadata": {
    "id": "nSbFgM9oPv1H"
   },
   "outputs": [
    {
     "name": "stdout",
     "output_type": "stream",
     "text": [
      "PyTorch has version 2.5.1+cu121\n"
     ]
    }
   ],
   "source": [
    "import torch\n",
    "import os\n",
    "print(\"PyTorch has version {}\".format(torch.__version__))"
   ]
  },
  {
   "cell_type": "code",
   "execution_count": 49,
   "metadata": {
    "id": "RqDINsvFPx40"
   },
   "outputs": [
    {
     "name": "stdout",
     "output_type": "stream",
     "text": [
      "Collecting torch==2.4.0\n",
      "  Downloading torch-2.4.0-cp312-cp312-win_amd64.whl.metadata (27 kB)\n",
      "Requirement already satisfied: filelock in c:\\study\\graph ml\\graphml\\.venv\\lib\\site-packages (from torch==2.4.0) (3.13.1)\n",
      "Requirement already satisfied: typing-extensions>=4.8.0 in c:\\study\\graph ml\\graphml\\.venv\\lib\\site-packages (from torch==2.4.0) (4.12.2)\n",
      "Requirement already satisfied: sympy in c:\\study\\graph ml\\graphml\\.venv\\lib\\site-packages (from torch==2.4.0) (1.13.1)\n",
      "Requirement already satisfied: networkx in c:\\study\\graph ml\\graphml\\.venv\\lib\\site-packages (from torch==2.4.0) (3.3)\n",
      "Requirement already satisfied: jinja2 in c:\\study\\graph ml\\graphml\\.venv\\lib\\site-packages (from torch==2.4.0) (3.1.4)\n",
      "Requirement already satisfied: fsspec in c:\\study\\graph ml\\graphml\\.venv\\lib\\site-packages (from torch==2.4.0) (2024.6.1)\n",
      "Requirement already satisfied: setuptools in c:\\study\\graph ml\\graphml\\.venv\\lib\\site-packages (from torch==2.4.0) (70.2.0)\n",
      "Requirement already satisfied: MarkupSafe>=2.0 in c:\\study\\graph ml\\graphml\\.venv\\lib\\site-packages (from jinja2->torch==2.4.0) (2.1.5)\n",
      "Requirement already satisfied: mpmath<1.4,>=1.1.0 in c:\\study\\graph ml\\graphml\\.venv\\lib\\site-packages (from sympy->torch==2.4.0) (1.3.0)\n",
      "Downloading torch-2.4.0-cp312-cp312-win_amd64.whl (197.8 MB)\n",
      "   ---------------------------------------- 0.0/197.8 MB ? eta -:--:--\n",
      "    --------------------------------------- 4.7/197.8 MB 28.4 MB/s eta 0:00:07\n",
      "   -- ------------------------------------- 10.7/197.8 MB 28.0 MB/s eta 0:00:07\n",
      "   --- ------------------------------------ 16.5/197.8 MB 28.1 MB/s eta 0:00:07\n",
      "   ---- ----------------------------------- 21.8/197.8 MB 27.5 MB/s eta 0:00:07\n",
      "   ----- ---------------------------------- 26.7/197.8 MB 26.5 MB/s eta 0:00:07\n",
      "   ------ --------------------------------- 32.0/197.8 MB 26.4 MB/s eta 0:00:07\n",
      "   ------- -------------------------------- 37.7/197.8 MB 26.4 MB/s eta 0:00:07\n",
      "   -------- ------------------------------- 42.7/197.8 MB 25.9 MB/s eta 0:00:06\n",
      "   --------- ------------------------------ 46.7/197.8 MB 24.9 MB/s eta 0:00:07\n",
      "   ---------- ----------------------------- 50.9/197.8 MB 24.5 MB/s eta 0:00:06\n",
      "   ----------- ---------------------------- 55.3/197.8 MB 24.3 MB/s eta 0:00:06\n",
      "   ------------ --------------------------- 59.5/197.8 MB 23.7 MB/s eta 0:00:06\n",
      "   ------------ --------------------------- 63.2/197.8 MB 23.3 MB/s eta 0:00:06\n",
      "   ------------- -------------------------- 66.6/197.8 MB 22.8 MB/s eta 0:00:06\n",
      "   -------------- ------------------------- 70.8/197.8 MB 22.6 MB/s eta 0:00:06\n",
      "   --------------- ------------------------ 75.2/197.8 MB 22.4 MB/s eta 0:00:06\n",
      "   ---------------- ----------------------- 79.7/197.8 MB 22.4 MB/s eta 0:00:06\n",
      "   ----------------- ---------------------- 84.1/197.8 MB 22.3 MB/s eta 0:00:06\n",
      "   ----------------- ---------------------- 88.3/197.8 MB 22.3 MB/s eta 0:00:05\n",
      "   ------------------ --------------------- 92.0/197.8 MB 22.0 MB/s eta 0:00:05\n",
      "   ------------------- -------------------- 95.4/197.8 MB 21.8 MB/s eta 0:00:05\n",
      "   ------------------- -------------------- 98.6/197.8 MB 21.3 MB/s eta 0:00:05\n",
      "   -------------------- ------------------ 102.5/197.8 MB 21.2 MB/s eta 0:00:05\n",
      "   -------------------- ------------------ 106.2/197.8 MB 21.0 MB/s eta 0:00:05\n",
      "   --------------------- ----------------- 110.4/197.8 MB 21.0 MB/s eta 0:00:05\n",
      "   ---------------------- ---------------- 113.8/197.8 MB 20.8 MB/s eta 0:00:05\n",
      "   ----------------------- --------------- 116.9/197.8 MB 20.7 MB/s eta 0:00:04\n",
      "   ----------------------- --------------- 120.3/197.8 MB 20.5 MB/s eta 0:00:04\n",
      "   ------------------------ -------------- 123.2/197.8 MB 20.3 MB/s eta 0:00:04\n",
      "   ------------------------ -------------- 126.6/197.8 MB 20.2 MB/s eta 0:00:04\n",
      "   ------------------------- ------------- 129.8/197.8 MB 20.0 MB/s eta 0:00:04\n",
      "   -------------------------- ------------ 132.4/197.8 MB 19.8 MB/s eta 0:00:04\n",
      "   -------------------------- ------------ 135.8/197.8 MB 19.8 MB/s eta 0:00:04\n",
      "   --------------------------- ----------- 138.9/197.8 MB 19.6 MB/s eta 0:00:03\n",
      "   ---------------------------- ---------- 142.6/197.8 MB 19.5 MB/s eta 0:00:03\n",
      "   ---------------------------- ---------- 145.8/197.8 MB 19.4 MB/s eta 0:00:03\n",
      "   ----------------------------- --------- 148.6/197.8 MB 19.3 MB/s eta 0:00:03\n",
      "   ----------------------------- --------- 151.5/197.8 MB 19.2 MB/s eta 0:00:03\n",
      "   ------------------------------ -------- 154.7/197.8 MB 19.0 MB/s eta 0:00:03\n",
      "   ------------------------------- ------- 158.1/197.8 MB 18.9 MB/s eta 0:00:03\n",
      "   ------------------------------- ------- 161.0/197.8 MB 18.9 MB/s eta 0:00:02\n",
      "   -------------------------------- ------ 164.4/197.8 MB 18.8 MB/s eta 0:00:02\n",
      "   --------------------------------- ----- 168.0/197.8 MB 18.8 MB/s eta 0:00:02\n",
      "   --------------------------------- ----- 172.0/197.8 MB 18.8 MB/s eta 0:00:02\n",
      "   ---------------------------------- ---- 176.2/197.8 MB 18.8 MB/s eta 0:00:02\n",
      "   ----------------------------------- --- 180.4/197.8 MB 18.8 MB/s eta 0:00:01\n",
      "   ------------------------------------ -- 184.0/197.8 MB 18.8 MB/s eta 0:00:01\n",
      "   ------------------------------------ -- 186.6/197.8 MB 18.7 MB/s eta 0:00:01\n",
      "   ------------------------------------- - 188.7/197.8 MB 18.5 MB/s eta 0:00:01\n",
      "   ------------------------------------- - 190.6/197.8 MB 18.3 MB/s eta 0:00:01\n",
      "   ------------------------------------- - 192.4/197.8 MB 18.1 MB/s eta 0:00:01\n",
      "   --------------------------------------  194.8/197.8 MB 17.9 MB/s eta 0:00:01\n",
      "   --------------------------------------  196.9/197.8 MB 17.8 MB/s eta 0:00:01\n",
      "   --------------------------------------  197.7/197.8 MB 17.8 MB/s eta 0:00:01\n",
      "   --------------------------------------- 197.8/197.8 MB 17.3 MB/s eta 0:00:00\n",
      "Installing collected packages: torch\n",
      "  Attempting uninstall: torch\n",
      "    Found existing installation: torch 2.5.1+cu121\n",
      "    Uninstalling torch-2.5.1+cu121:\n",
      "      Successfully uninstalled torch-2.5.1+cu121\n",
      "Successfully installed torch-2.4.0\n"
     ]
    },
    {
     "name": "stderr",
     "output_type": "stream",
     "text": [
      "  WARNING: Failed to remove contents in a temporary directory 'C:\\Study\\Graph ML\\GraphML\\.venv\\Lib\\site-packages\\~orch'.\n",
      "  You can safely remove it manually.\n",
      "ERROR: pip's dependency resolver does not currently take into account all the packages that are installed. This behaviour is the source of the following dependency conflicts.\n",
      "torchaudio 2.5.1+cu121 requires torch==2.5.1+cu121, but you have torch 2.4.0 which is incompatible.\n",
      "torchvision 0.20.1+cu121 requires torch==2.5.1+cu121, but you have torch 2.4.0 which is incompatible.\n"
     ]
    }
   ],
   "source": [
    "!pip install torch==2.4.0"
   ]
  },
  {
   "cell_type": "markdown",
   "metadata": {
    "id": "cpyj3MsNP1Q5"
   },
   "source": [
    "Download the necessary packages for PyG. Make sure that your version of torch matches the output from the cell above. In case of any issues, more information can be found on the [PyG's installation page](https://pytorch-geometric.readthedocs.io/en/latest/notes/installation.html)."
   ]
  },
  {
   "cell_type": "code",
   "execution_count": 50,
   "metadata": {
    "id": "D55hRXLgP7Xx"
   },
   "outputs": [
    {
     "name": "stdout",
     "output_type": "stream",
     "text": [
      "Looking in links: https://pytorch-geometric.com/whl/torch-2.5.1+cu121.html\n",
      "Collecting torch-scatter\n",
      "  Downloading https://data.pyg.org/whl/torch-2.5.0%2Bcu121/torch_scatter-2.1.2%2Bpt25cu121-cp312-cp312-win_amd64.whl (3.5 MB)\n",
      "     ---------------------------------------- 0.0/3.5 MB ? eta -:--:--\n",
      "     ---------------------------------------- 0.0/3.5 MB ? eta -:--:--\n",
      "     ----------------------- ---------------- 2.1/3.5 MB 9.8 MB/s eta 0:00:01\n",
      "     ---------------------------------------- 3.5/3.5 MB 13.0 MB/s eta 0:00:00\n",
      "Installing collected packages: torch-scatter\n",
      "Successfully installed torch-scatter-2.1.2+pt25cu121\n",
      "Looking in links: https://pytorch-geometric.com/whl/torch-2.5.1+cu121.html\n",
      "Collecting torch-sparse\n",
      "  Downloading https://data.pyg.org/whl/torch-2.5.0%2Bcu121/torch_sparse-0.6.18%2Bpt25cu121-cp312-cp312-win_amd64.whl (2.1 MB)\n",
      "     ---------------------------------------- 0.0/2.1 MB ? eta -:--:--\n",
      "     ---------------------------------------- 0.0/2.1 MB ? eta -:--:--\n",
      "     --------------- ------------------------ 0.8/2.1 MB 11.2 MB/s eta 0:00:01\n",
      "     ---------------------------------------- 2.1/2.1 MB 14.6 MB/s eta 0:00:00\n",
      "Requirement already satisfied: scipy in c:\\study\\graph ml\\graphml\\.venv\\lib\\site-packages (from torch-sparse) (1.15.1)\n",
      "Requirement already satisfied: numpy<2.5,>=1.23.5 in c:\\study\\graph ml\\graphml\\.venv\\lib\\site-packages (from scipy->torch-sparse) (2.2.2)\n",
      "Installing collected packages: torch-sparse\n",
      "Successfully installed torch-sparse-0.6.18+pt25cu121\n",
      "Collecting torch-geometric\n",
      "  Downloading torch_geometric-2.6.1-py3-none-any.whl.metadata (63 kB)\n",
      "Collecting aiohttp (from torch-geometric)\n",
      "  Downloading aiohttp-3.11.13-cp312-cp312-win_amd64.whl.metadata (8.0 kB)\n",
      "Requirement already satisfied: fsspec in c:\\study\\graph ml\\graphml\\.venv\\lib\\site-packages (from torch-geometric) (2024.6.1)\n",
      "Requirement already satisfied: jinja2 in c:\\study\\graph ml\\graphml\\.venv\\lib\\site-packages (from torch-geometric) (3.1.4)\n",
      "Requirement already satisfied: numpy in c:\\study\\graph ml\\graphml\\.venv\\lib\\site-packages (from torch-geometric) (2.2.2)\n",
      "Requirement already satisfied: psutil>=5.8.0 in c:\\study\\graph ml\\graphml\\.venv\\lib\\site-packages (from torch-geometric) (6.1.1)\n",
      "Requirement already satisfied: pyparsing in c:\\study\\graph ml\\graphml\\.venv\\lib\\site-packages (from torch-geometric) (3.2.1)\n",
      "Collecting requests (from torch-geometric)\n",
      "  Using cached requests-2.32.3-py3-none-any.whl.metadata (4.6 kB)\n",
      "Collecting tqdm (from torch-geometric)\n",
      "  Using cached tqdm-4.67.1-py3-none-any.whl.metadata (57 kB)\n",
      "Collecting aiohappyeyeballs>=2.3.0 (from aiohttp->torch-geometric)\n",
      "  Downloading aiohappyeyeballs-2.4.6-py3-none-any.whl.metadata (5.9 kB)\n",
      "Collecting aiosignal>=1.1.2 (from aiohttp->torch-geometric)\n",
      "  Using cached aiosignal-1.3.2-py2.py3-none-any.whl.metadata (3.8 kB)\n",
      "Collecting attrs>=17.3.0 (from aiohttp->torch-geometric)\n",
      "  Downloading attrs-25.1.0-py3-none-any.whl.metadata (10 kB)\n",
      "Collecting frozenlist>=1.1.1 (from aiohttp->torch-geometric)\n",
      "  Using cached frozenlist-1.5.0-cp312-cp312-win_amd64.whl.metadata (14 kB)\n",
      "Collecting multidict<7.0,>=4.5 (from aiohttp->torch-geometric)\n",
      "  Using cached multidict-6.1.0-cp312-cp312-win_amd64.whl.metadata (5.1 kB)\n",
      "Collecting propcache>=0.2.0 (from aiohttp->torch-geometric)\n",
      "  Downloading propcache-0.3.0-cp312-cp312-win_amd64.whl.metadata (10 kB)\n",
      "Collecting yarl<2.0,>=1.17.0 (from aiohttp->torch-geometric)\n",
      "  Using cached yarl-1.18.3-cp312-cp312-win_amd64.whl.metadata (71 kB)\n",
      "Requirement already satisfied: MarkupSafe>=2.0 in c:\\study\\graph ml\\graphml\\.venv\\lib\\site-packages (from jinja2->torch-geometric) (2.1.5)\n",
      "Collecting charset-normalizer<4,>=2 (from requests->torch-geometric)\n",
      "  Using cached charset_normalizer-3.4.1-cp312-cp312-win_amd64.whl.metadata (36 kB)\n",
      "Collecting idna<4,>=2.5 (from requests->torch-geometric)\n",
      "  Using cached idna-3.10-py3-none-any.whl.metadata (10 kB)\n",
      "Collecting urllib3<3,>=1.21.1 (from requests->torch-geometric)\n",
      "  Using cached urllib3-2.3.0-py3-none-any.whl.metadata (6.5 kB)\n",
      "Collecting certifi>=2017.4.17 (from requests->torch-geometric)\n",
      "  Downloading certifi-2025.1.31-py3-none-any.whl.metadata (2.5 kB)\n",
      "Requirement already satisfied: colorama in c:\\study\\graph ml\\graphml\\.venv\\lib\\site-packages (from tqdm->torch-geometric) (0.4.6)\n",
      "Downloading torch_geometric-2.6.1-py3-none-any.whl (1.1 MB)\n",
      "   ---------------------------------------- 0.0/1.1 MB ? eta -:--:--\n",
      "   ---------------------------------------- 1.1/1.1 MB 18.6 MB/s eta 0:00:00\n",
      "Downloading aiohttp-3.11.13-cp312-cp312-win_amd64.whl (438 kB)\n",
      "Using cached requests-2.32.3-py3-none-any.whl (64 kB)\n",
      "Using cached tqdm-4.67.1-py3-none-any.whl (78 kB)\n",
      "Downloading aiohappyeyeballs-2.4.6-py3-none-any.whl (14 kB)\n",
      "Using cached aiosignal-1.3.2-py2.py3-none-any.whl (7.6 kB)\n",
      "Downloading attrs-25.1.0-py3-none-any.whl (63 kB)\n",
      "Downloading certifi-2025.1.31-py3-none-any.whl (166 kB)\n",
      "Using cached charset_normalizer-3.4.1-cp312-cp312-win_amd64.whl (102 kB)\n",
      "Using cached frozenlist-1.5.0-cp312-cp312-win_amd64.whl (51 kB)\n",
      "Using cached idna-3.10-py3-none-any.whl (70 kB)\n",
      "Using cached multidict-6.1.0-cp312-cp312-win_amd64.whl (28 kB)\n",
      "Downloading propcache-0.3.0-cp312-cp312-win_amd64.whl (44 kB)\n",
      "Using cached urllib3-2.3.0-py3-none-any.whl (128 kB)\n",
      "Using cached yarl-1.18.3-cp312-cp312-win_amd64.whl (90 kB)\n",
      "Installing collected packages: urllib3, tqdm, propcache, multidict, idna, frozenlist, charset-normalizer, certifi, attrs, aiohappyeyeballs, yarl, requests, aiosignal, aiohttp, torch-geometric\n",
      "Successfully installed aiohappyeyeballs-2.4.6 aiohttp-3.11.13 aiosignal-1.3.2 attrs-25.1.0 certifi-2025.1.31 charset-normalizer-3.4.1 frozenlist-1.5.0 idna-3.10 multidict-6.1.0 propcache-0.3.0 requests-2.32.3 torch-geometric-2.6.1 tqdm-4.67.1 urllib3-2.3.0 yarl-1.18.3\n",
      "Collecting ogb\n",
      "  Downloading ogb-1.3.6-py3-none-any.whl.metadata (6.2 kB)\n",
      "Requirement already satisfied: torch>=1.6.0 in c:\\study\\graph ml\\graphml\\.venv\\lib\\site-packages (from ogb) (2.4.0)\n",
      "Requirement already satisfied: numpy>=1.16.0 in c:\\study\\graph ml\\graphml\\.venv\\lib\\site-packages (from ogb) (2.2.2)\n",
      "Requirement already satisfied: tqdm>=4.29.0 in c:\\study\\graph ml\\graphml\\.venv\\lib\\site-packages (from ogb) (4.67.1)\n",
      "Requirement already satisfied: scikit-learn>=0.20.0 in c:\\study\\graph ml\\graphml\\.venv\\lib\\site-packages (from ogb) (1.6.1)\n",
      "Collecting pandas>=0.24.0 (from ogb)\n",
      "  Using cached pandas-2.2.3-cp312-cp312-win_amd64.whl.metadata (19 kB)\n",
      "Requirement already satisfied: six>=1.12.0 in c:\\study\\graph ml\\graphml\\.venv\\lib\\site-packages (from ogb) (1.17.0)\n",
      "Requirement already satisfied: urllib3>=1.24.0 in c:\\study\\graph ml\\graphml\\.venv\\lib\\site-packages (from ogb) (2.3.0)\n",
      "Collecting outdated>=0.2.0 (from ogb)\n",
      "  Downloading outdated-0.2.2-py2.py3-none-any.whl.metadata (4.7 kB)\n",
      "Requirement already satisfied: setuptools>=44 in c:\\study\\graph ml\\graphml\\.venv\\lib\\site-packages (from outdated>=0.2.0->ogb) (70.2.0)\n",
      "Collecting littleutils (from outdated>=0.2.0->ogb)\n",
      "  Downloading littleutils-0.2.4-py3-none-any.whl.metadata (679 bytes)\n",
      "Requirement already satisfied: requests in c:\\study\\graph ml\\graphml\\.venv\\lib\\site-packages (from outdated>=0.2.0->ogb) (2.32.3)\n",
      "Requirement already satisfied: python-dateutil>=2.8.2 in c:\\study\\graph ml\\graphml\\.venv\\lib\\site-packages (from pandas>=0.24.0->ogb) (2.9.0.post0)\n",
      "Collecting pytz>=2020.1 (from pandas>=0.24.0->ogb)\n",
      "  Downloading pytz-2025.1-py2.py3-none-any.whl.metadata (22 kB)\n",
      "Collecting tzdata>=2022.7 (from pandas>=0.24.0->ogb)\n",
      "  Using cached tzdata-2025.1-py2.py3-none-any.whl.metadata (1.4 kB)\n",
      "Requirement already satisfied: scipy>=1.6.0 in c:\\study\\graph ml\\graphml\\.venv\\lib\\site-packages (from scikit-learn>=0.20.0->ogb) (1.15.1)\n",
      "Requirement already satisfied: joblib>=1.2.0 in c:\\study\\graph ml\\graphml\\.venv\\lib\\site-packages (from scikit-learn>=0.20.0->ogb) (1.4.2)\n",
      "Requirement already satisfied: threadpoolctl>=3.1.0 in c:\\study\\graph ml\\graphml\\.venv\\lib\\site-packages (from scikit-learn>=0.20.0->ogb) (3.5.0)\n",
      "Requirement already satisfied: filelock in c:\\study\\graph ml\\graphml\\.venv\\lib\\site-packages (from torch>=1.6.0->ogb) (3.13.1)\n",
      "Requirement already satisfied: typing-extensions>=4.8.0 in c:\\study\\graph ml\\graphml\\.venv\\lib\\site-packages (from torch>=1.6.0->ogb) (4.12.2)\n",
      "Requirement already satisfied: sympy in c:\\study\\graph ml\\graphml\\.venv\\lib\\site-packages (from torch>=1.6.0->ogb) (1.13.1)\n",
      "Requirement already satisfied: networkx in c:\\study\\graph ml\\graphml\\.venv\\lib\\site-packages (from torch>=1.6.0->ogb) (3.3)\n",
      "Requirement already satisfied: jinja2 in c:\\study\\graph ml\\graphml\\.venv\\lib\\site-packages (from torch>=1.6.0->ogb) (3.1.4)\n",
      "Requirement already satisfied: fsspec in c:\\study\\graph ml\\graphml\\.venv\\lib\\site-packages (from torch>=1.6.0->ogb) (2024.6.1)\n",
      "Requirement already satisfied: colorama in c:\\study\\graph ml\\graphml\\.venv\\lib\\site-packages (from tqdm>=4.29.0->ogb) (0.4.6)\n",
      "Requirement already satisfied: MarkupSafe>=2.0 in c:\\study\\graph ml\\graphml\\.venv\\lib\\site-packages (from jinja2->torch>=1.6.0->ogb) (2.1.5)\n",
      "Requirement already satisfied: charset-normalizer<4,>=2 in c:\\study\\graph ml\\graphml\\.venv\\lib\\site-packages (from requests->outdated>=0.2.0->ogb) (3.4.1)\n",
      "Requirement already satisfied: idna<4,>=2.5 in c:\\study\\graph ml\\graphml\\.venv\\lib\\site-packages (from requests->outdated>=0.2.0->ogb) (3.10)\n",
      "Requirement already satisfied: certifi>=2017.4.17 in c:\\study\\graph ml\\graphml\\.venv\\lib\\site-packages (from requests->outdated>=0.2.0->ogb) (2025.1.31)\n",
      "Requirement already satisfied: mpmath<1.4,>=1.1.0 in c:\\study\\graph ml\\graphml\\.venv\\lib\\site-packages (from sympy->torch>=1.6.0->ogb) (1.3.0)\n",
      "Downloading ogb-1.3.6-py3-none-any.whl (78 kB)\n",
      "Downloading outdated-0.2.2-py2.py3-none-any.whl (7.5 kB)\n",
      "Using cached pandas-2.2.3-cp312-cp312-win_amd64.whl (11.5 MB)\n",
      "Downloading pytz-2025.1-py2.py3-none-any.whl (507 kB)\n",
      "Using cached tzdata-2025.1-py2.py3-none-any.whl (346 kB)\n",
      "Downloading littleutils-0.2.4-py3-none-any.whl (8.1 kB)\n",
      "Installing collected packages: pytz, tzdata, littleutils, pandas, outdated, ogb\n",
      "Successfully installed littleutils-0.2.4 ogb-1.3.6 outdated-0.2.2 pandas-2.2.3 pytz-2025.1 tzdata-2025.1\n"
     ]
    }
   ],
   "source": [
    "# Install torch geometric\n",
    "torch_version = str(torch.__version__)\n",
    "scatter_src = f\"https://pytorch-geometric.com/whl/torch-{torch_version}.html\"\n",
    "sparse_src = f\"https://pytorch-geometric.com/whl/torch-{torch_version}.html\"\n",
    "!pip install torch-scatter -f $scatter_src\n",
    "!pip install torch-sparse -f $sparse_src\n",
    "!pip install torch-geometric\n",
    "!pip install ogb"
   ]
  },
  {
   "cell_type": "markdown",
   "metadata": {
    "id": "a0z7L72HQALZ"
   },
   "source": [
    "## 3.1 PyTorch Geometric (Datasets and Data)\n"
   ]
  },
  {
   "cell_type": "markdown",
   "metadata": {
    "id": "0K4nNi_pQFsg"
   },
   "source": [
    "PyTorch Geometric has two classes for storing and/or transforming graphs into tensor format. One is `torch_geometric.datasets`, which contains a variety of common graph datasets. Another is `torch_geometric.data`, which provides the data handling of graphs in PyTorch tensors.\n",
    "\n",
    "In this section, we will learn how to use `torch_geometric.datasets` and `torch_geometric.data` together."
   ]
  },
  {
   "cell_type": "markdown",
   "metadata": {
    "id": "cau69UimQJR4"
   },
   "source": [
    "## PyG Datasets\n",
    "\n",
    "The `torch_geometric.datasets` class has many common graph datasets. Here we will explore its usage through one example dataset."
   ]
  },
  {
   "cell_type": "code",
   "execution_count": 61,
   "metadata": {
    "id": "AQDtNFQsQLwE"
   },
   "outputs": [
    {
     "name": "stdout",
     "output_type": "stream",
     "text": [
      "ENZYMES(600)\n"
     ]
    }
   ],
   "source": [
    "from torch_geometric.datasets import TUDataset\n",
    "\n",
    "root = './enzymes'\n",
    "name = 'ENZYMES'\n",
    "\n",
    "# The ENZYMES dataset\n",
    "pyg_dataset= TUDataset(root, name)\n",
    "\n",
    "# You will find that there are 600 graphs in this dataset\n",
    "print(pyg_dataset)"
   ]
  },
  {
   "cell_type": "markdown",
   "metadata": {
    "id": "wZ7GoJSxQQF0"
   },
   "source": [
    "## Question 3.1a: What is the number of classes and number of features in the ENZYMES dataset? (2 points)"
   ]
  },
  {
   "cell_type": "code",
   "execution_count": 56,
   "metadata": {
    "deletable": false,
    "id": "VAzAwqyQQS5S",
    "nbgrader": {
     "cell_type": "code",
     "checksum": "245ca70171cec761895c5fea2eb4fe13",
     "grade": true,
     "grade_id": "q3_1a",
     "locked": false,
     "points": 2,
     "schema_version": 3,
     "solution": true,
     "task": false
    }
   },
   "outputs": [
    {
     "name": "stdout",
     "output_type": "stream",
     "text": [
      "ENZYMES dataset has 6 classes\n",
      "ENZYMES dataset has 3 features\n"
     ]
    }
   ],
   "source": [
    "def get_num_classes(pyg_dataset):\n",
    "  # TODO: Implement a function that takes a PyG dataset object\n",
    "  # and returns the number of classes for that dataset.\n",
    "\n",
    "  num_classes = 0\n",
    "\n",
    "  ############# Your code here ############\n",
    "  ## (~1 line of code)\n",
    "  ## Note\n",
    "  ## 1. Colab autocomplete functionality might be useful.\n",
    "  # YOUR CODE HERE\n",
    "  \n",
    "  #########################################\n",
    "  num_classes = pyg_dataset.num_classes\n",
    "  return num_classes\n",
    "\n",
    "def get_num_features(pyg_dataset):\n",
    "  # TODO: Implement a function that takes a PyG dataset object\n",
    "  # and returns the number of features for that dataset.\n",
    "\n",
    "  num_features = 0\n",
    "\n",
    "  ############# Your code here ############\n",
    "  ## (~1 line of code)\n",
    "  ## Note\n",
    "  ## 1. Colab autocomplete functionality might be useful.\n",
    "  # YOUR CODE HERE\n",
    "  num_features = pyg_dataset.num_features\n",
    "  #########################################\n",
    "\n",
    "  return num_features\n",
    "\n",
    "if 'IS_GRADESCOPE_ENV' not in os.environ:\n",
    "  num_classes = get_num_classes(pyg_dataset)\n",
    "  num_features = get_num_features(pyg_dataset)\n",
    "  print(\"{} dataset has {} classes\".format(name, num_classes))\n",
    "  print(\"{} dataset has {} features\".format(name, num_features))"
   ]
  },
  {
   "cell_type": "markdown",
   "metadata": {
    "id": "tjPW-cVQQcyw"
   },
   "source": [
    "## PyG Data\n",
    "\n",
    "Each PyG dataset stores a list of `torch_geometric.data.Data` objects, where each `torch_geometric.data.Data` object represents a graph. We can easily get the `Data` object by indexing into the dataset.\n",
    "\n",
    "For more information such as what is stored in the `Data` object, please refer to the [documentation](https://pytorch-geometric.readthedocs.io/en/latest/modules/data.html#torch_geometric.data.Data)."
   ]
  },
  {
   "cell_type": "markdown",
   "metadata": {
    "id": "nvIc1hrqQid-"
   },
   "source": [
    "## Question 3.1b: What is the label of the graph with index 100 in the ENZYMES dataset? (1 point)"
   ]
  },
  {
   "cell_type": "code",
   "execution_count": 64,
   "metadata": {
    "deletable": false,
    "id": "u3Ncf4YZQkLF",
    "nbgrader": {
     "cell_type": "code",
     "checksum": "3c3653d899b77de5b9599c0ccc12d1ee",
     "grade": true,
     "grade_id": "q3_1b",
     "locked": false,
     "points": 1,
     "schema_version": 3,
     "solution": true,
     "task": false
    }
   },
   "outputs": [
    {
     "name": "stdout",
     "output_type": "stream",
     "text": [
      "4\n"
     ]
    }
   ],
   "source": [
    "# YOUR CODE HERE\n",
    "graph_label = pyg_dataset[100].y.item()\n",
    "print(graph_label)"
   ]
  },
  {
   "cell_type": "markdown",
   "metadata": {
    "id": "Tqvhxp1YQoVT"
   },
   "source": [
    "## Question 3.1c: How many edges does the graph with index 200 have? (3 points)"
   ]
  },
  {
   "cell_type": "code",
   "execution_count": 66,
   "metadata": {
    "deletable": false,
    "id": "FaNHkFIgQv6G",
    "nbgrader": {
     "cell_type": "code",
     "checksum": "9c38368fbca5f62542f4f0530f226791",
     "grade": true,
     "grade_id": "q3_1c",
     "locked": false,
     "points": 3,
     "schema_version": 3,
     "solution": true,
     "task": false
    }
   },
   "outputs": [
    {
     "name": "stdout",
     "output_type": "stream",
     "text": [
      "Graph with index 200 has 53 edges\n"
     ]
    }
   ],
   "source": [
    "def get_graph_num_edges(pyg_dataset, idx):\n",
    "  # TODO: Implement a function that takes a PyG dataset object,\n",
    "  # the index of a graph in the dataset, and returns the number of\n",
    "  # edges in the graph (as an integer). You should not count an edge\n",
    "  # twice if the graph is undirected. For example, in an undirected\n",
    "  # graph G, if two nodes v and u are connected by an edge, this edge\n",
    "  # should only be counted once.\n",
    "\n",
    "  num_edges = 0\n",
    "\n",
    "  ############# Your code here ############\n",
    "  ## Note:\n",
    "  ## 1. You can't return the data.num_edges directly\n",
    "  ## 2. We assume the graph is undirected\n",
    "  ## 3. Look at the PyG dataset built in functions\n",
    "  ## (~3-4 lines of code)\n",
    "  # YOUR CODE HERE\n",
    "  data = pyg_dataset[idx]\n",
    "  num_edges = data.edge_index.shape[1] // 2\n",
    "  #########################################\n",
    "\n",
    "  return num_edges\n",
    "\n",
    "idx = 200\n",
    "num_edges = get_graph_num_edges(pyg_dataset, idx)\n",
    "print('Graph with index {} has {} edges'.format(idx, num_edges))"
   ]
  },
  {
   "cell_type": "markdown",
   "metadata": {
    "id": "X30uDdyNQ4db"
   },
   "source": [
    "## 3.2 Open Graph Benchmark (OGB)\n",
    "\n",
    "The Open Graph Benchmark (OGB) is a collection of realistic, large-scale, and diverse benchmark datasets for machine learning on graphs. Its datasets are automatically downloaded, processed, and split using the OGB Data Loader. The model performance can then be evaluated by using the OGB Evaluator in a unified manner."
   ]
  },
  {
   "cell_type": "markdown",
   "metadata": {
    "id": "5v0FdSCqRGBr"
   },
   "source": [
    "### Dataset and Data\n",
    "\n",
    "OGB also supports PyG dataset and data classes. Here we take a look on the `ogbn-arxiv` dataset."
   ]
  },
  {
   "cell_type": "code",
   "execution_count": 67,
   "metadata": {
    "id": "sm79TsRvRFGX"
   },
   "outputs": [
    {
     "name": "stdout",
     "output_type": "stream",
     "text": [
      "Downloading http://snap.stanford.edu/ogb/data/nodeproppred/arxiv.zip\n"
     ]
    },
    {
     "name": "stderr",
     "output_type": "stream",
     "text": [
      "Downloaded 0.08 GB: 100%|██████████| 81/81 [00:25<00:00,  3.22it/s]\n",
      "Processing...\n"
     ]
    },
    {
     "name": "stdout",
     "output_type": "stream",
     "text": [
      "Extracting dataset\\arxiv.zip\n",
      "Loading necessary files...\n",
      "This might take a while.\n",
      "Processing graphs...\n"
     ]
    },
    {
     "name": "stderr",
     "output_type": "stream",
     "text": [
      "100%|██████████| 1/1 [00:00<?, ?it/s]\n"
     ]
    },
    {
     "name": "stdout",
     "output_type": "stream",
     "text": [
      "Converting graphs into PyG objects...\n"
     ]
    },
    {
     "name": "stderr",
     "output_type": "stream",
     "text": [
      "100%|██████████| 1/1 [00:00<00:00, 331.78it/s]"
     ]
    },
    {
     "name": "stdout",
     "output_type": "stream",
     "text": [
      "Saving...\n",
      "The ogbn-arxiv dataset has 1 graph\n"
     ]
    },
    {
     "name": "stderr",
     "output_type": "stream",
     "text": [
      "\n",
      "Done!\n",
      "c:\\Study\\Graph ML\\GraphML\\.venv\\Lib\\site-packages\\ogb\\nodeproppred\\dataset_pyg.py:69: FutureWarning: You are using `torch.load` with `weights_only=False` (the current default value), which uses the default pickle module implicitly. It is possible to construct malicious pickle data which will execute arbitrary code during unpickling (See https://github.com/pytorch/pytorch/blob/main/SECURITY.md#untrusted-models for more details). In a future release, the default value for `weights_only` will be flipped to `True`. This limits the functions that could be executed during unpickling. Arbitrary objects will no longer be allowed to be loaded via this mode unless they are explicitly allowlisted by the user via `torch.serialization.add_safe_globals`. We recommend you start setting `weights_only=True` for any use case where you don't have full control of the loaded file. Please open an issue on GitHub for any issues related to this experimental feature.\n",
      "  self.data, self.slices = torch.load(self.processed_paths[0])\n"
     ]
    },
    {
     "name": "stdout",
     "output_type": "stream",
     "text": [
      "Data(num_nodes=169343, x=[169343, 128], node_year=[169343, 1], y=[169343, 1], adj_t=[169343, 169343, nnz=1166243])\n"
     ]
    }
   ],
   "source": [
    "import torch_geometric.transforms as T\n",
    "from ogb.nodeproppred import PygNodePropPredDataset\n",
    "\n",
    "if 'IS_GRADESCOPE_ENV' not in os.environ:\n",
    "  dataset_name = 'ogbn-arxiv'\n",
    "  # Load the dataset and transform it to sparse tensor\n",
    "  dataset = PygNodePropPredDataset(name=dataset_name,\n",
    "                                  transform=T.ToSparseTensor())\n",
    "  print('The {} dataset has {} graph'.format(dataset_name, len(dataset)))\n",
    "\n",
    "  # Extract the graph\n",
    "  data = dataset[0]\n",
    "  print(data)"
   ]
  },
  {
   "cell_type": "markdown",
   "metadata": {
    "id": "3FPWa-kzRLnQ"
   },
   "source": [
    "## Question 3.2: How many features are in the ogbn-arxiv graph? (1 point)"
   ]
  },
  {
   "cell_type": "code",
   "execution_count": 68,
   "metadata": {
    "deletable": false,
    "id": "SCqCSeNXRUcI",
    "nbgrader": {
     "cell_type": "code",
     "checksum": "fb24a839605c53253aca0e29f4e0e3de",
     "grade": true,
     "grade_id": "q3_2",
     "locked": false,
     "points": 1,
     "schema_version": 3,
     "solution": true,
     "task": false
    }
   },
   "outputs": [
    {
     "name": "stdout",
     "output_type": "stream",
     "text": [
      "The graph has 128 features\n"
     ]
    }
   ],
   "source": [
    "def graph_num_features(data):\n",
    "  # TODO: Implement a function that takes a PyG data object,\n",
    "  # and returns the number of features in the graph (as an integer).\n",
    "\n",
    "  num_features = 0\n",
    "\n",
    "  ############# Your code here ############\n",
    "  ## (~1 line of code)\n",
    "  # YOUR CODE HERE\n",
    "  num_features = data.x.shape[1]\n",
    "  \n",
    "  #########################################\n",
    "\n",
    "  return num_features\n",
    "\n",
    "if 'IS_GRADESCOPE_ENV' not in os.environ:\n",
    "  num_features = graph_num_features(data)\n",
    "  print('The graph has {} features'.format(num_features))"
   ]
  },
  {
   "cell_type": "markdown",
   "metadata": {
    "id": "Dufp-swsRe8_"
   },
   "source": [
    "## 3.3 GNN: Node Property Prediction\n",
    "\n",
    "In this section we will build our first graph neural network using PyTorch Geometric. Then we will apply it to the task of node property prediction (node classification).\n",
    "\n",
    "Specifically, we will use GCN as the foundation for your graph neural network ([Kipf et al. (2017)](https://arxiv.org/pdf/1609.02907.pdf)). To do so, we will work with PyG's built-in `GCNConv` layer."
   ]
  },
  {
   "cell_type": "markdown",
   "metadata": {
    "id": "JJcQyvHfRTVP"
   },
   "source": [
    "## Setup"
   ]
  },
  {
   "cell_type": "code",
   "execution_count": 70,
   "metadata": {
    "id": "wSDGnZ9IRlrQ"
   },
   "outputs": [
    {
     "name": "stdout",
     "output_type": "stream",
     "text": [
      "2.5.1+cu121\n"
     ]
    }
   ],
   "source": [
    "import torch\n",
    "import pandas as pd\n",
    "import torch.nn.functional as F\n",
    "print(torch.__version__)\n",
    "\n",
    "# The PyG built-in GCNConv\n",
    "from torch_geometric.nn import GCNConv\n",
    "\n",
    "import torch_geometric.transforms as T\n",
    "from ogb.nodeproppred import PygNodePropPredDataset, Evaluator"
   ]
  },
  {
   "cell_type": "markdown",
   "metadata": {
    "id": "hUDHWMDjRrOB"
   },
   "source": [
    "## Load and Preprocess the Dataset"
   ]
  },
  {
   "cell_type": "code",
   "execution_count": 71,
   "metadata": {
    "id": "lDbFOtoxRr6k"
   },
   "outputs": [
    {
     "name": "stderr",
     "output_type": "stream",
     "text": [
      "c:\\Study\\Graph ML\\GraphML\\.venv\\Lib\\site-packages\\ogb\\nodeproppred\\dataset_pyg.py:69: FutureWarning: You are using `torch.load` with `weights_only=False` (the current default value), which uses the default pickle module implicitly. It is possible to construct malicious pickle data which will execute arbitrary code during unpickling (See https://github.com/pytorch/pytorch/blob/main/SECURITY.md#untrusted-models for more details). In a future release, the default value for `weights_only` will be flipped to `True`. This limits the functions that could be executed during unpickling. Arbitrary objects will no longer be allowed to be loaded via this mode unless they are explicitly allowlisted by the user via `torch.serialization.add_safe_globals`. We recommend you start setting `weights_only=True` for any use case where you don't have full control of the loaded file. Please open an issue on GitHub for any issues related to this experimental feature.\n",
      "  self.data, self.slices = torch.load(self.processed_paths[0])\n"
     ]
    },
    {
     "name": "stdout",
     "output_type": "stream",
     "text": [
      "Device: cuda\n"
     ]
    }
   ],
   "source": [
    "if 'IS_GRADESCOPE_ENV' not in os.environ:\n",
    "  dataset_name = 'ogbn-arxiv'\n",
    "  dataset = PygNodePropPredDataset(name=dataset_name,\n",
    "                                  transform=T.Compose(\n",
    "                                      [T.ToUndirected(),\n",
    "                                       T.ToSparseTensor()]))\n",
    "  data = dataset[0]\n",
    "\n",
    "  # # Make the adjacency matrix to symmetric\n",
    "  # data.adj_t = data.adj_t.to_symmetric()\n",
    "\n",
    "  device = 'cuda' if torch.cuda.is_available() else 'cpu'\n",
    "\n",
    "  # If you use GPU, the device should be cuda\n",
    "  print('Device: {}'.format(device))\n",
    "\n",
    "  data = data.to(device)\n",
    "  split_idx = dataset.get_idx_split()\n",
    "  train_idx = split_idx['train'].to(device)"
   ]
  },
  {
   "cell_type": "code",
   "execution_count": 158,
   "metadata": {},
   "outputs": [
    {
     "name": "stdout",
     "output_type": "stream",
     "text": [
      "Dataset Name: ogbn-arxiv\n",
      "Number of graphs: 1\n",
      "Graph Structure:\n",
      "Data(num_nodes=169343, x=[169343, 128], node_year=[169343, 1], y=[169343, 1], adj_t=[169343, 169343, nnz=2315598])\n",
      "Graph Features:\n",
      "tensor([[-0.0579, -0.0525, -0.0726,  ...,  0.1734, -0.1728, -0.1401],\n",
      "        [-0.1245, -0.0707, -0.3252,  ...,  0.0685, -0.3721, -0.3010],\n",
      "        [-0.0802, -0.0233, -0.1838,  ...,  0.1099,  0.1176, -0.1399],\n",
      "        ...,\n",
      "        [-0.2205, -0.0366, -0.4022,  ...,  0.1134, -0.1614, -0.1452],\n",
      "        [-0.1382,  0.0409, -0.2518,  ..., -0.0893, -0.0413, -0.3761],\n",
      "        [-0.0299,  0.2684, -0.1611,  ...,  0.1208,  0.0776, -0.0910]],\n",
      "       device='cuda:0')\n",
      "Graph Labels:\n",
      "tensor([[ 4],\n",
      "        [ 5],\n",
      "        [28],\n",
      "        ...,\n",
      "        [10],\n",
      "        [ 4],\n",
      "        [ 1]], device='cuda:0')\n",
      "Graph Edge Index:\n",
      "None\n"
     ]
    }
   ],
   "source": [
    "print(f\"Dataset Name: {dataset_name}\")\n",
    "print(f\"Number of graphs: {len(dataset)}\")  # Should be 1 since OGB datasets are usually one large graph\n",
    "print(f\"Graph Structure:\\n{data}\")  # Print dataset object\n",
    "print(f\"Graph Features:\\n{data.x}\")  # Print node features\n",
    "print(f\"Graph Labels:\\n{data.y}\")  # Print node labels\n",
    "print(f\"Graph Edge Index:\\n{data.edge_index}\")  # Print edge indices\n"
   ]
  },
  {
   "cell_type": "markdown",
   "metadata": {
    "id": "pFiTpkhfR05E"
   },
   "source": [
    "## Question 3.3a: GCN Model (7 points)\n",
    "\n",
    "Now we will implement our GCN model!\n",
    "\n",
    "Please follow the figure below to implement the `forward` function.\n",
    "\n",
    "\n",
    "![test](https://drive.google.com/uc?id=128AuYAXNXGg7PIhJJ7e420DoPWKb-RtL)"
   ]
  },
  {
   "cell_type": "code",
   "execution_count": null,
   "metadata": {
    "deletable": false,
    "id": "RmQ1U90iR3TI",
    "nbgrader": {
     "cell_type": "code",
     "checksum": "59fc219e85e9960186683a4a79ca358c",
     "grade": true,
     "grade_id": "q3_3aa",
     "locked": false,
     "points": 5,
     "schema_version": 3,
     "solution": true,
     "task": false
    }
   },
   "outputs": [],
   "source": [
    "from torch_geometric.nn import GraphNorm\n",
    "\n",
    "class GCN(torch.nn.Module):\n",
    "    def __init__(self, input_dim, hidden_dim, output_dim, num_layers,\n",
    "                 dropout, return_embeds=False):\n",
    "        # TODO: Implement a function that initializes self.convs,\n",
    "        # self.bns, and self.softmax.\n",
    "\n",
    "        super(GCN, self).__init__()\n",
    "\n",
    "        # A list of GCNConv layers\n",
    "        self.convs = None\n",
    "\n",
    "        # A list of 1D batch normalization layers\n",
    "        self.bns = None\n",
    "\n",
    "        # The log softmax layer\n",
    "        self.softmax = None\n",
    "\n",
    "        ############# Your code here ############\n",
    "        ## Note:\n",
    "        ## 1. You should use torch.nn.ModuleList for self.convs and self.bns\n",
    "        ## 2. self.convs has num_layers GCNConv layers\n",
    "        ## 3. self.bns has num_layers - 1 BatchNorm1d layers\n",
    "        ## 4. You should use torch.nn.LogSoftmax for self.softmax\n",
    "        ## 5. The parameters you can set for GCNConv include 'in_channels' and\n",
    "        ## 'out_channels'. For more information please refer to the documentation:\n",
    "        ## https://pytorch-geometric.readthedocs.io/en/latest/modules/nn.html#torch_geometric.nn.conv.GCNConv\n",
    "        ## 6. The only parameter you need to set for BatchNorm1d is 'num_features'\n",
    "        ## For more information please refer to the documentation:\n",
    "        ## https://pytorch.org/docs/stable/generated/torch.nn.BatchNorm1d.html\n",
    "        ## (~10 lines of code)\n",
    "        # YOUR CODE HERE\n",
    "        self.convs = torch.nn.ModuleList()\n",
    "        self.convs.append(GCNConv(input_dim, hidden_dim))\n",
    "        for i in range (num_layers - 2):\n",
    "            self.convs.append(GCNConv(hidden_dim, hidden_dim))\n",
    "        self.convs.append(GCNConv(hidden_dim, output_dim))\n",
    "        #########################################\n",
    "        \n",
    "        # Old nomralization\n",
    "        # self.bns = torch.nn.ModuleList([torch.nn.BatchNorm1d(hidden_dim) for _ in range(num_layers - 1)])\n",
    "        \n",
    "        # New normalization using GraphNorm\n",
    "        self.bns = torch.nn.ModuleList([GraphNorm(hidden_dim) for _ in range(num_layers - 1)])\n",
    "\n",
    "        \n",
    "\n",
    "        self.softmax = torch.nn.LogSoftmax(dim=1)\n",
    "\n",
    "        # Probability of an element getting zeroed\n",
    "        self.dropout = dropout\n",
    "\n",
    "        # Skip classification layer and return node embeddings\n",
    "        self.return_embeds = return_embeds\n",
    "\n",
    "    def reset_parameters(self):\n",
    "        for conv in self.convs:\n",
    "            conv.reset_parameters()\n",
    "        for bn in self.bns:\n",
    "            bn.reset_parameters()\n",
    "\n",
    "    def forward(self, adj_t, x):\n",
    "        # TODO: Implement a function that takes the feature tensor x and\n",
    "        # edge_index tensor adj_t and returns the output tensor as\n",
    "        # shown in the figure.\n",
    "\n",
    "        out = None\n",
    "\n",
    "        ############# Your code here ############\n",
    "        ## Note:\n",
    "        ## 1. Construct the network as shown in the figure\n",
    "        ## 2. torch.nn.functional.relu and torch.nn.functional.dropout are useful\n",
    "        ## For more information please refer to the documentation:\n",
    "        ## https://pytorch.org/docs/stable/nn.functional.html\n",
    "        ## 3. Don't forget to set F.dropout training to self.training\n",
    "        ## 4. If return_embeds is True, then skip the last softmax layer\n",
    "        ## (~8 lines of code; Colab auto-complete will make 1 mistake)\n",
    "        # YOUR CODE HERE\n",
    "        for i, conv in enumerate(self.convs[:-1]):\n",
    "            x = conv(x, adj_t)\n",
    "            x = self.bns[i](x)\n",
    "            \n",
    "            # Old activation\n",
    "            x = F.leaky_relu(x)\n",
    "            \n",
    "            x = F.dropout(x, p=self.dropout, training=self.training)\n",
    "            \n",
    "        x = self.convs[-1](x, adj_t)\n",
    "        \n",
    "        if self.return_embeds:\n",
    "            return x\n",
    "        \n",
    "        out = self.softmax(x)\n",
    "        #########################################\n",
    "\n",
    "        return out"
   ]
  },
  {
   "cell_type": "code",
   "execution_count": 188,
   "metadata": {
    "deletable": false,
    "id": "E-GQFfwtR5q6",
    "nbgrader": {
     "cell_type": "code",
     "checksum": "e6bd0ef9767f0bca4f0a1e9c51e792b7",
     "grade": true,
     "grade_id": "q3_3ab",
     "locked": false,
     "points": 1,
     "schema_version": 3,
     "solution": true,
     "task": false
    }
   },
   "outputs": [],
   "source": [
    "def train(model, data, train_idx, optimizer, loss_fn):\n",
    "    # TODO: Implement a function that trains the model by\n",
    "    # using the given optimizer and loss_fn.\n",
    "    model.train()\n",
    "    loss = 0\n",
    "\n",
    "    ############# Your code here ############\n",
    "    ## Note:\n",
    "    ## 1. Zero grad the optimizer\n",
    "    ## 2. Feed the data into the model\n",
    "    ## 3. Slice the model output and label by train_idx\n",
    "    ## 4. Feed the sliced output and label to loss_fn\n",
    "    ## (~3-5 lines of code)\n",
    "    # YOUR CODE HERE\n",
    "    optimizer.zero_grad()\n",
    "    out = model(data.adj_t, data.x)\n",
    "    loss = loss_fn(out[train_idx], data.y[train_idx].view(-1))\n",
    "\n",
    "    #########################################\n",
    "\n",
    "    loss.backward()\n",
    "    optimizer.step()\n",
    "\n",
    "    return loss.item()"
   ]
  },
  {
   "cell_type": "code",
   "execution_count": 189,
   "metadata": {
    "deletable": false,
    "id": "XHYve7TAR7SG",
    "nbgrader": {
     "cell_type": "code",
     "checksum": "ce3a77e587d6486cb4339ae75aadbfaf",
     "grade": true,
     "grade_id": "q3_3ac",
     "locked": false,
     "points": 1,
     "schema_version": 3,
     "solution": true,
     "task": false
    }
   },
   "outputs": [],
   "source": [
    "# Test function here\n",
    "@torch.no_grad()\n",
    "def test(model, data, split_idx, evaluator, save_model_results=False):\n",
    "    # TODO: Implement a function that tests the model by\n",
    "    # using the given split_idx and evaluator.\n",
    "    model.eval()\n",
    "\n",
    "    # The output of model on all data\n",
    "    out = None\n",
    "\n",
    "    ############# Your code here ############\n",
    "    ## (~1 line of code)\n",
    "    ## Note:\n",
    "    ## 1. No index slicing here\n",
    "    # YOUR CODE HERE\n",
    "    out = model(data.adj_t, data.x)\n",
    "    #########################################\n",
    "\n",
    "    y_pred = out.argmax(dim=-1, keepdim=True)\n",
    "\n",
    "    train_acc = evaluator.eval({\n",
    "        'y_true': data.y[split_idx['train']],\n",
    "        'y_pred': y_pred[split_idx['train']],\n",
    "    })['acc']\n",
    "    valid_acc = evaluator.eval({\n",
    "        'y_true': data.y[split_idx['valid']],\n",
    "        'y_pred': y_pred[split_idx['valid']],\n",
    "    })['acc']\n",
    "    test_acc = evaluator.eval({\n",
    "        'y_true': data.y[split_idx['test']],\n",
    "        'y_pred': y_pred[split_idx['test']],\n",
    "    })['acc']\n",
    "\n",
    "    if save_model_results:\n",
    "      print (\"Saving Model Predictions\")\n",
    "\n",
    "      data = {}\n",
    "      data['y_pred'] = y_pred.view(-1).cpu().detach().numpy()\n",
    "\n",
    "      df = pd.DataFrame(data=data)\n",
    "      # Save locally as csv\n",
    "      df.to_csv('ogbn-arxiv_node.csv', sep=',', index=False)\n",
    "\n",
    "\n",
    "    return train_acc, valid_acc, test_acc"
   ]
  },
  {
   "cell_type": "code",
   "execution_count": 190,
   "metadata": {
    "id": "tav11h7QR9hg"
   },
   "outputs": [],
   "source": [
    "# Old args\n",
    "# Please do not change the args\n",
    "if 'IS_GRADESCOPE_ENV' not in os.environ:\n",
    "  args = {\n",
    "      'device': device,\n",
    "      'num_layers': 3,\n",
    "      'hidden_dim': 256,\n",
    "      'dropout': 0.3,\n",
    "      'lr': 0.007,\n",
    "      'epochs': 150,\n",
    "  }\n",
    "  args\n",
    "  \n",
    "  \n",
    "# # New Optimize args\n",
    "# if 'IS_GRADESCOPE_ENV' not in os.environ:\n",
    "#   args = {\n",
    "#       'device': device,\n",
    "#       'num_layers': 4,      # Increase layers from 3 → 4\n",
    "#       'hidden_dim': 512,    # Increase hidden dim from 256 → 512\n",
    "#       'dropout': 0.3,       # Reduce dropout from 0.5 → 0.3\n",
    "#       'lr': 0.005,          # Reduce learning rate from 0.01 → 0.005\n",
    "#       'epochs': 150,        # Increase training epochs from 100 → 150\n",
    "#   }\n",
    "#   args\n"
   ]
  },
  {
   "cell_type": "code",
   "execution_count": 191,
   "metadata": {
    "id": "gxlwCsdpR-0K"
   },
   "outputs": [],
   "source": [
    "if 'IS_GRADESCOPE_ENV' not in os.environ:\n",
    "  model = GCN(data.num_features, args['hidden_dim'],\n",
    "              dataset.num_classes, args['num_layers'],\n",
    "              args['dropout']).to(device)\n",
    "  evaluator = Evaluator(name='ogbn-arxiv')"
   ]
  },
  {
   "cell_type": "code",
   "execution_count": 192,
   "metadata": {
    "id": "XGgFRFAKSAqv"
   },
   "outputs": [
    {
     "name": "stdout",
     "output_type": "stream",
     "text": [
      "Epoch: 01, Loss: 3.9642, Train: 46.04%, Valid: 44.32% Test: 40.33%\n",
      "Epoch: 02, Loss: 2.2864, Train: 54.59%, Valid: 55.82% Test: 53.49%\n",
      "Epoch: 03, Loss: 1.9018, Train: 58.70%, Valid: 58.37% Test: 56.04%\n",
      "Epoch: 04, Loss: 1.6974, Train: 60.85%, Valid: 60.00% Test: 57.85%\n",
      "Epoch: 05, Loss: 1.5782, Train: 62.08%, Valid: 62.49% Test: 61.53%\n",
      "Epoch: 06, Loss: 1.4949, Train: 63.35%, Valid: 64.35% Test: 64.29%\n",
      "Epoch: 07, Loss: 1.4279, Train: 64.18%, Valid: 65.19% Test: 65.36%\n",
      "Epoch: 08, Loss: 1.3817, Train: 65.01%, Valid: 65.79% Test: 65.43%\n",
      "Epoch: 09, Loss: 1.3371, Train: 65.76%, Valid: 65.91% Test: 64.84%\n",
      "Epoch: 10, Loss: 1.2987, Train: 66.09%, Valid: 65.65% Test: 63.96%\n",
      "Epoch: 11, Loss: 1.2746, Train: 66.37%, Valid: 65.68% Test: 63.92%\n",
      "Epoch: 12, Loss: 1.2547, Train: 66.81%, Valid: 66.39% Test: 64.98%\n",
      "Epoch: 13, Loss: 1.2333, Train: 67.30%, Valid: 67.21% Test: 66.37%\n",
      "Epoch: 14, Loss: 1.2091, Train: 67.70%, Valid: 67.74% Test: 67.22%\n",
      "Epoch: 15, Loss: 1.1890, Train: 68.03%, Valid: 68.08% Test: 67.56%\n",
      "Epoch: 16, Loss: 1.1741, Train: 68.35%, Valid: 68.28% Test: 67.68%\n",
      "Epoch: 17, Loss: 1.1607, Train: 68.54%, Valid: 68.36% Test: 67.56%\n",
      "Epoch: 18, Loss: 1.1477, Train: 68.80%, Valid: 68.42% Test: 67.62%\n",
      "Epoch: 19, Loss: 1.1355, Train: 69.09%, Valid: 68.67% Test: 67.89%\n",
      "Epoch: 20, Loss: 1.1220, Train: 69.31%, Valid: 69.00% Test: 68.33%\n",
      "Epoch: 21, Loss: 1.1110, Train: 69.45%, Valid: 69.40% Test: 68.65%\n",
      "Epoch: 22, Loss: 1.1007, Train: 69.58%, Valid: 69.49% Test: 68.83%\n",
      "Epoch: 23, Loss: 1.0928, Train: 69.70%, Valid: 69.63% Test: 68.83%\n",
      "Epoch: 24, Loss: 1.0838, Train: 69.90%, Valid: 69.58% Test: 68.70%\n",
      "Epoch: 25, Loss: 1.0765, Train: 69.98%, Valid: 69.55% Test: 68.48%\n",
      "Epoch: 26, Loss: 1.0676, Train: 70.04%, Valid: 69.59% Test: 68.41%\n",
      "Epoch: 27, Loss: 1.0618, Train: 70.12%, Valid: 69.69% Test: 68.46%\n",
      "Epoch: 28, Loss: 1.0576, Train: 70.24%, Valid: 69.83% Test: 68.71%\n",
      "Epoch: 29, Loss: 1.0496, Train: 70.40%, Valid: 69.92% Test: 69.03%\n",
      "Epoch: 30, Loss: 1.0435, Train: 70.52%, Valid: 70.11% Test: 69.29%\n",
      "Epoch: 31, Loss: 1.0383, Train: 70.63%, Valid: 70.14% Test: 69.36%\n",
      "Epoch: 32, Loss: 1.0309, Train: 70.75%, Valid: 70.12% Test: 69.25%\n",
      "Epoch: 33, Loss: 1.0264, Train: 70.93%, Valid: 70.08% Test: 69.12%\n",
      "Epoch: 34, Loss: 1.0233, Train: 71.04%, Valid: 70.20% Test: 69.20%\n",
      "Epoch: 35, Loss: 1.0162, Train: 71.06%, Valid: 70.34% Test: 69.33%\n",
      "Epoch: 36, Loss: 1.0130, Train: 71.16%, Valid: 70.47% Test: 69.62%\n",
      "Epoch: 37, Loss: 1.0106, Train: 71.25%, Valid: 70.44% Test: 69.69%\n",
      "Epoch: 38, Loss: 1.0051, Train: 71.33%, Valid: 70.53% Test: 69.57%\n",
      "Epoch: 39, Loss: 0.9987, Train: 71.46%, Valid: 70.59% Test: 69.59%\n",
      "Epoch: 40, Loss: 0.9971, Train: 71.58%, Valid: 70.74% Test: 69.77%\n",
      "Epoch: 41, Loss: 0.9922, Train: 71.64%, Valid: 70.79% Test: 69.84%\n",
      "Epoch: 42, Loss: 0.9873, Train: 71.74%, Valid: 70.86% Test: 69.78%\n",
      "Epoch: 43, Loss: 0.9836, Train: 71.82%, Valid: 70.89% Test: 69.88%\n",
      "Epoch: 44, Loss: 0.9819, Train: 71.85%, Valid: 70.97% Test: 69.86%\n",
      "Epoch: 45, Loss: 0.9789, Train: 71.96%, Valid: 71.00% Test: 69.76%\n",
      "Epoch: 46, Loss: 0.9736, Train: 72.01%, Valid: 70.99% Test: 69.75%\n",
      "Epoch: 47, Loss: 0.9718, Train: 72.13%, Valid: 71.15% Test: 70.00%\n",
      "Epoch: 48, Loss: 0.9681, Train: 72.22%, Valid: 71.12% Test: 70.24%\n",
      "Epoch: 49, Loss: 0.9626, Train: 72.31%, Valid: 71.20% Test: 70.31%\n",
      "Epoch: 50, Loss: 0.9603, Train: 72.38%, Valid: 71.31% Test: 70.39%\n",
      "Epoch: 51, Loss: 0.9573, Train: 72.45%, Valid: 71.22% Test: 70.16%\n",
      "Epoch: 52, Loss: 0.9550, Train: 72.58%, Valid: 71.28% Test: 70.06%\n",
      "Epoch: 53, Loss: 0.9505, Train: 72.66%, Valid: 71.28% Test: 70.08%\n",
      "Epoch: 54, Loss: 0.9497, Train: 72.75%, Valid: 71.31% Test: 70.18%\n",
      "Epoch: 55, Loss: 0.9458, Train: 72.82%, Valid: 71.40% Test: 70.51%\n",
      "Epoch: 56, Loss: 0.9427, Train: 72.87%, Valid: 71.33% Test: 70.39%\n",
      "Epoch: 57, Loss: 0.9388, Train: 73.00%, Valid: 71.31% Test: 70.41%\n",
      "Epoch: 58, Loss: 0.9363, Train: 72.99%, Valid: 71.46% Test: 70.64%\n",
      "Epoch: 59, Loss: 0.9353, Train: 73.14%, Valid: 71.48% Test: 70.51%\n",
      "Epoch: 60, Loss: 0.9294, Train: 73.13%, Valid: 71.30% Test: 70.25%\n",
      "Epoch: 61, Loss: 0.9276, Train: 73.18%, Valid: 71.46% Test: 70.53%\n",
      "Epoch: 62, Loss: 0.9280, Train: 73.38%, Valid: 71.49% Test: 70.68%\n",
      "Epoch: 63, Loss: 0.9245, Train: 73.45%, Valid: 71.51% Test: 70.52%\n",
      "Epoch: 64, Loss: 0.9204, Train: 73.40%, Valid: 71.51% Test: 70.54%\n",
      "Epoch: 65, Loss: 0.9184, Train: 73.47%, Valid: 71.51% Test: 70.78%\n",
      "Epoch: 66, Loss: 0.9147, Train: 73.61%, Valid: 71.31% Test: 70.10%\n",
      "Epoch: 67, Loss: 0.9141, Train: 73.62%, Valid: 71.68% Test: 71.02%\n",
      "Epoch: 68, Loss: 0.9127, Train: 73.69%, Valid: 71.58% Test: 70.57%\n",
      "Epoch: 69, Loss: 0.9093, Train: 73.73%, Valid: 71.48% Test: 70.48%\n",
      "Epoch: 70, Loss: 0.9049, Train: 73.74%, Valid: 71.75% Test: 71.13%\n",
      "Epoch: 71, Loss: 0.9063, Train: 73.80%, Valid: 71.27% Test: 69.87%\n",
      "Epoch: 72, Loss: 0.9038, Train: 73.88%, Valid: 71.82% Test: 71.20%\n",
      "Epoch: 73, Loss: 0.9025, Train: 73.88%, Valid: 71.67% Test: 70.51%\n",
      "Epoch: 74, Loss: 0.9002, Train: 73.96%, Valid: 71.59% Test: 70.63%\n",
      "Epoch: 75, Loss: 0.8969, Train: 74.10%, Valid: 71.72% Test: 70.71%\n",
      "Epoch: 76, Loss: 0.8920, Train: 74.09%, Valid: 71.85% Test: 70.78%\n",
      "Epoch: 77, Loss: 0.8932, Train: 74.07%, Valid: 71.71% Test: 70.93%\n",
      "Epoch: 78, Loss: 0.8937, Train: 73.68%, Valid: 71.10% Test: 69.55%\n",
      "Epoch: 79, Loss: 0.8986, Train: 73.56%, Valid: 71.58% Test: 71.14%\n",
      "Epoch: 80, Loss: 0.9119, Train: 74.04%, Valid: 70.89% Test: 69.14%\n",
      "Epoch: 81, Loss: 0.8927, Train: 73.60%, Valid: 71.51% Test: 70.56%\n",
      "Epoch: 82, Loss: 0.9002, Train: 74.12%, Valid: 71.81% Test: 71.01%\n",
      "Epoch: 83, Loss: 0.8926, Train: 74.08%, Valid: 71.32% Test: 70.12%\n",
      "Epoch: 84, Loss: 0.8907, Train: 74.24%, Valid: 71.81% Test: 70.73%\n",
      "Epoch: 85, Loss: 0.8848, Train: 74.18%, Valid: 71.72% Test: 70.67%\n",
      "Epoch: 86, Loss: 0.8836, Train: 74.52%, Valid: 71.85% Test: 70.85%\n",
      "Epoch: 87, Loss: 0.8797, Train: 74.39%, Valid: 71.74% Test: 70.80%\n",
      "Epoch: 88, Loss: 0.8779, Train: 74.48%, Valid: 71.65% Test: 70.14%\n",
      "Epoch: 89, Loss: 0.8757, Train: 74.53%, Valid: 72.18% Test: 71.51%\n",
      "Epoch: 90, Loss: 0.8758, Train: 74.63%, Valid: 71.68% Test: 70.22%\n",
      "Epoch: 91, Loss: 0.8723, Train: 74.48%, Valid: 71.53% Test: 70.63%\n",
      "Epoch: 92, Loss: 0.8754, Train: 74.29%, Valid: 70.53% Test: 68.51%\n",
      "Epoch: 93, Loss: 0.8878, Train: 74.42%, Valid: 71.81% Test: 71.13%\n",
      "Epoch: 94, Loss: 0.8749, Train: 74.57%, Valid: 71.19% Test: 69.50%\n",
      "Epoch: 95, Loss: 0.8705, Train: 74.66%, Valid: 71.73% Test: 70.69%\n",
      "Epoch: 96, Loss: 0.8728, Train: 74.69%, Valid: 71.75% Test: 70.46%\n",
      "Epoch: 97, Loss: 0.8669, Train: 74.94%, Valid: 71.56% Test: 70.03%\n",
      "Epoch: 98, Loss: 0.8608, Train: 74.85%, Valid: 72.14% Test: 71.21%\n",
      "Epoch: 99, Loss: 0.8623, Train: 74.99%, Valid: 71.75% Test: 70.53%\n",
      "Epoch: 100, Loss: 0.8570, Train: 74.97%, Valid: 71.91% Test: 70.66%\n",
      "Epoch: 101, Loss: 0.8536, Train: 75.06%, Valid: 72.03% Test: 71.20%\n",
      "Epoch: 102, Loss: 0.8556, Train: 75.20%, Valid: 71.81% Test: 70.24%\n",
      "Epoch: 103, Loss: 0.8522, Train: 75.26%, Valid: 72.28% Test: 71.37%\n",
      "Epoch: 104, Loss: 0.8493, Train: 75.29%, Valid: 72.07% Test: 70.61%\n",
      "Epoch: 105, Loss: 0.8482, Train: 75.28%, Valid: 72.28% Test: 71.36%\n",
      "Epoch: 106, Loss: 0.8468, Train: 75.19%, Valid: 71.90% Test: 70.70%\n",
      "Epoch: 107, Loss: 0.8481, Train: 75.03%, Valid: 72.07% Test: 71.11%\n",
      "Epoch: 108, Loss: 0.8580, Train: 75.13%, Valid: 71.86% Test: 70.57%\n",
      "Epoch: 109, Loss: 0.8520, Train: 75.24%, Valid: 72.25% Test: 71.27%\n",
      "Epoch: 110, Loss: 0.8503, Train: 75.00%, Valid: 71.00% Test: 68.92%\n",
      "Epoch: 111, Loss: 0.8595, Train: 75.07%, Valid: 72.21% Test: 72.01%\n",
      "Epoch: 112, Loss: 0.8531, Train: 74.88%, Valid: 70.33% Test: 67.99%\n",
      "Epoch: 113, Loss: 0.8580, Train: 75.10%, Valid: 71.20% Test: 70.16%\n",
      "Epoch: 114, Loss: 0.8505, Train: 75.05%, Valid: 71.73% Test: 70.39%\n",
      "Epoch: 115, Loss: 0.8574, Train: 75.38%, Valid: 71.91% Test: 70.65%\n",
      "Epoch: 116, Loss: 0.8395, Train: 75.32%, Valid: 71.59% Test: 70.26%\n",
      "Epoch: 117, Loss: 0.8422, Train: 75.30%, Valid: 71.67% Test: 70.82%\n",
      "Epoch: 118, Loss: 0.8501, Train: 75.32%, Valid: 72.23% Test: 71.20%\n",
      "Epoch: 119, Loss: 0.8400, Train: 75.26%, Valid: 71.84% Test: 70.77%\n",
      "Epoch: 120, Loss: 0.8431, Train: 75.30%, Valid: 71.39% Test: 69.75%\n",
      "Epoch: 121, Loss: 0.8488, Train: 75.66%, Valid: 72.29% Test: 71.64%\n",
      "Epoch: 122, Loss: 0.8329, Train: 75.55%, Valid: 71.54% Test: 69.94%\n",
      "Epoch: 123, Loss: 0.8347, Train: 75.68%, Valid: 72.16% Test: 71.11%\n",
      "Epoch: 124, Loss: 0.8313, Train: 75.74%, Valid: 72.10% Test: 70.43%\n",
      "Epoch: 125, Loss: 0.8288, Train: 75.96%, Valid: 72.07% Test: 70.58%\n",
      "Epoch: 126, Loss: 0.8207, Train: 76.00%, Valid: 72.28% Test: 71.24%\n",
      "Epoch: 127, Loss: 0.8220, Train: 76.07%, Valid: 72.27% Test: 70.86%\n",
      "Epoch: 128, Loss: 0.8241, Train: 76.01%, Valid: 72.21% Test: 70.90%\n",
      "Epoch: 129, Loss: 0.8199, Train: 76.13%, Valid: 72.18% Test: 70.78%\n",
      "Epoch: 130, Loss: 0.8181, Train: 76.15%, Valid: 72.38% Test: 71.14%\n",
      "Epoch: 131, Loss: 0.8174, Train: 76.27%, Valid: 72.30% Test: 70.52%\n",
      "Epoch: 132, Loss: 0.8169, Train: 75.91%, Valid: 72.13% Test: 71.65%\n",
      "Epoch: 133, Loss: 0.8228, Train: 75.29%, Valid: 69.53% Test: 66.62%\n",
      "Epoch: 134, Loss: 0.8450, Train: 74.57%, Valid: 70.89% Test: 71.19%\n",
      "Epoch: 135, Loss: 0.8642, Train: 74.12%, Valid: 68.24% Test: 65.10%\n",
      "Epoch: 136, Loss: 0.8831, Train: 74.22%, Valid: 69.57% Test: 66.92%\n",
      "Epoch: 137, Loss: 0.8740, Train: 72.57%, Valid: 70.14% Test: 70.72%\n",
      "Epoch: 138, Loss: 0.9559, Train: 74.73%, Valid: 71.36% Test: 69.83%\n",
      "Epoch: 139, Loss: 0.8585, Train: 73.48%, Valid: 69.17% Test: 65.98%\n",
      "Epoch: 140, Loss: 0.8977, Train: 74.61%, Valid: 70.95% Test: 69.81%\n",
      "Epoch: 141, Loss: 0.8747, Train: 74.54%, Valid: 71.80% Test: 71.08%\n",
      "Epoch: 142, Loss: 0.8688, Train: 74.68%, Valid: 71.96% Test: 70.40%\n",
      "Epoch: 143, Loss: 0.8647, Train: 74.74%, Valid: 71.56% Test: 69.95%\n",
      "Epoch: 144, Loss: 0.8608, Train: 75.04%, Valid: 71.55% Test: 70.84%\n",
      "Epoch: 145, Loss: 0.8527, Train: 75.23%, Valid: 71.89% Test: 70.91%\n",
      "Epoch: 146, Loss: 0.8516, Train: 75.27%, Valid: 72.14% Test: 71.11%\n",
      "Epoch: 147, Loss: 0.8437, Train: 75.41%, Valid: 71.90% Test: 70.78%\n",
      "Epoch: 148, Loss: 0.8423, Train: 75.54%, Valid: 72.30% Test: 70.91%\n",
      "Epoch: 149, Loss: 0.8367, Train: 75.63%, Valid: 71.91% Test: 70.75%\n",
      "Epoch: 150, Loss: 0.8323, Train: 75.69%, Valid: 71.97% Test: 70.85%\n"
     ]
    }
   ],
   "source": [
    "# Please do not change these args\n",
    "# Training should take <10min using GPU runtime\n",
    "import copy\n",
    "if 'IS_GRADESCOPE_ENV' not in os.environ:\n",
    "  # reset the parameters to initial random value\n",
    "  model.reset_parameters()\n",
    "\n",
    "  # Old optimizer\n",
    "  # optimizer = torch.optim.Adam(model.parameters(), lr=args['lr'])\n",
    "  \n",
    "  # New optimizer\n",
    "  # Add weight decay\n",
    "  optimizer = torch.optim.Adam(model.parameters(), lr=args['lr'], weight_decay=5e-4)\n",
    "\n",
    "  loss_fn = F.nll_loss\n",
    "\n",
    "  best_model = None\n",
    "  best_valid_acc = 0\n",
    "\n",
    "  for epoch in range(1, 1 + args[\"epochs\"]):\n",
    "    loss = train(model, data, train_idx, optimizer, loss_fn)\n",
    "    result = test(model, data, split_idx, evaluator)\n",
    "    train_acc, valid_acc, test_acc = result\n",
    "    if valid_acc > best_valid_acc:\n",
    "        best_valid_acc = valid_acc\n",
    "        best_model = copy.deepcopy(model)\n",
    "    print(f'Epoch: {epoch:02d}, '\n",
    "          f'Loss: {loss:.4f}, '\n",
    "          f'Train: {100 * train_acc:.2f}%, '\n",
    "          f'Valid: {100 * valid_acc:.2f}% '\n",
    "          f'Test: {100 * test_acc:.2f}%')"
   ]
  },
  {
   "cell_type": "markdown",
   "metadata": {
    "id": "asRwyh9LSsQD"
   },
   "source": [
    "## Question 3.3b: What are your `best_model` validation and test accuracies? (5 extra points)\n",
    "\n",
    "Run the cell below to see the results of your best of model and save your model's predictions to a file named *ogbn-arxiv_node.csv*. You can view this file by clicking on the *Folder* icon on the left side pannel.\n",
    "\n",
    "You can get up to 5 extra points for each percentual point of accuracy above 70% on the test set. For example: if you get 70.8%, this will be rounded to 71%, and you will get 1 extra point.\n",
    "\n",
    "It is ALLOWED to change the hypers and the network architecture, as long as you are only using GCN, BatchNormalization and Dropout layers/ If you change any of these, write the corresponding code in a new cell below."
   ]
  },
  {
   "cell_type": "code",
   "execution_count": 193,
   "metadata": {
    "deletable": false,
    "id": "nRnTCVX3TcwF",
    "nbgrader": {
     "cell_type": "code",
     "checksum": "e7726a15d17f4ed13ecfea84952b8f90",
     "grade": true,
     "grade_id": "q3_3b",
     "locked": false,
     "points": 5,
     "schema_version": 3,
     "solution": true,
     "task": false
    }
   },
   "outputs": [
    {
     "name": "stdout",
     "output_type": "stream",
     "text": [
      "Saving Model Predictions\n",
      "Best Model Validation Accuracy: 72.38%\n",
      "Best Model Test Accuracy: 71.14%\n"
     ]
    }
   ],
   "source": [
    "# YOUR CODE HERE\n",
    "# Evaluate the best model on validation and test sets\n",
    "best_train_acc, best_valid_acc, best_test_acc = test(best_model, data, split_idx, evaluator, save_model_results=True)\n",
    "\n",
    "print(f\"Best Model Validation Accuracy: {100 * best_valid_acc:.2f}%\")\n",
    "print(f\"Best Model Test Accuracy: {100 * best_test_acc:.2f}%\")\n",
    "\n"
   ]
  },
  {
   "cell_type": "code",
   "execution_count": 194,
   "metadata": {},
   "outputs": [
    {
     "name": "stdout",
     "output_type": "stream",
     "text": [
      "✅ Model parameters saved successfully!\n"
     ]
    }
   ],
   "source": [
    "torch.save(best_model.state_dict(), \"best_model.pt\")\n",
    "print(\"✅ Model parameters saved successfully!\")\n"
   ]
  },
  {
   "cell_type": "markdown",
   "metadata": {
    "id": "R1I2Tfm1SZhB"
   },
   "source": [
    "## Question 3.3c [ISU ONLY] : Reimplement the training loop with Early Stopping with a `patience` parameter (6 points)\n",
    "\n",
    "In slide 67 of this [lecture](https://canvas.wpi.edu/courses/70386/files/folder/slides?preview=7291159) we covered the Early Stopping algorithm.\n",
    "\n",
    "Instead of just stopping the training immediately after the validation loss goes up, use a variable `patience` to set the number of consecutive rounds in which the loss must increase before the training is stopped."
   ]
  },
  {
   "cell_type": "code",
   "execution_count": null,
   "metadata": {
    "colab": {
     "base_uri": "https://localhost:8080/",
     "height": 203
    },
    "deletable": false,
    "id": "ItH1Sm_VSiD1",
    "nbgrader": {
     "cell_type": "code",
     "checksum": "4a56f31fa66eba6839d4f378feed11be",
     "grade": true,
     "grade_id": "q3_3c",
     "locked": false,
     "points": 6,
     "schema_version": 3,
     "solution": true,
     "task": false
    },
    "outputId": "cd262f94-7b19-4785-8be9-8df6fde6a344"
   },
   "outputs": [],
   "source": [
    "# Please do not change these args\n",
    "# Training should take <10min using GPU runtime\n",
    "import copy\n",
    "\n",
    "patience = 3\n",
    "\n",
    "if 'IS_GRADESCOPE_ENV' not in os.environ:\n",
    "  # reset the parameters to initial random value\n",
    "  model.reset_parameters()\n",
    "\n",
    "  optimizer = torch.optim.Adam(model.parameters(), lr=args['lr'])\n",
    "  loss_fn = F.nll_loss\n",
    "\n",
    "  best_model = None\n",
    "  best_valid_acc = 0\n",
    "\n",
    "  # TODO: start by copying the for loop from previous cell\n",
    "  # Implement Early Stopping with patience (~6 new lines)\n",
    "  # YOUR CODE HERE\n",
    "  raise NotImplementedError()"
   ]
  },
  {
   "cell_type": "markdown",
   "metadata": {
    "id": "FTNyrAoSVeq9"
   },
   "source": [
    "# Submission"
   ]
  },
  {
   "cell_type": "markdown",
   "metadata": {
    "id": "E_E7J_GkVhY_"
   },
   "source": [
    "When you submit your assignment, you will have to download this file as an `.ipynb` file. Please name this file `CS4099_Colab_3.ipynb`."
   ]
  }
 ],
 "metadata": {
  "colab": {
   "machine_shape": "hm",
   "provenance": [],
   "toc_visible": true
  },
  "kernelspec": {
   "display_name": ".venv",
   "language": "python",
   "name": "python3"
  },
  "language_info": {
   "codemirror_mode": {
    "name": "ipython",
    "version": 3
   },
   "file_extension": ".py",
   "mimetype": "text/x-python",
   "name": "python",
   "nbconvert_exporter": "python",
   "pygments_lexer": "ipython3",
   "version": "3.12.0"
  }
 },
 "nbformat": 4,
 "nbformat_minor": 4
}
