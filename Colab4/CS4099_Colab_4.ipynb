{
 "cells": [
  {
   "cell_type": "markdown",
   "metadata": {},
   "source": [
    "**CS 4099: ST: Graph Machine Learning**\n",
    "\n",
    "Before you turn this problem in, make sure everything runs as expected. First, **restart the kernel** (in the menubar, select Kernel $\\rightarrow$ Restart) and then **run all cells** (in the menubar, select Cell $\\rightarrow$ Run All).\n",
    "\n",
    "Make sure you fill in any place that says `YOUR CODE HERE` or \"YOUR ANSWER HERE\", and to delete the line `raise NotImplementedError()` (which are included to remind you in case you forget to solve one of the coding questions).\n",
    "\n",
    "Do not forget to include your name below:"
   ]
  },
  {
   "cell_type": "code",
   "execution_count": 1,
   "metadata": {},
   "outputs": [],
   "source": [
    "NAME = \"Phong Cao\""
   ]
  },
  {
   "cell_type": "markdown",
   "metadata": {},
   "source": [
    "---"
   ]
  },
  {
   "cell_type": "markdown",
   "metadata": {
    "id": "XuXWJLEm2UWS"
   },
   "source": [
    "# **CS4099 - Colab 4**\n",
    "\n",
    "<font color='fucsia'>DUE: 11:59pm ET Thursday March 6</font>"
   ]
  },
  {
   "cell_type": "markdown",
   "metadata": {
    "id": "8gzsP50bF6Gb"
   },
   "source": [
    "In Colab 3 we constructed GNN models by using PyTorch Geometric's built in GCN layer, `GCNConv`. In this Colab we will go a step deeper and implement the **GraphSAGE** ([Hamilton et al. (2017)](https://arxiv.org/abs/1706.02216)) layer directly. Then we will run our models on the CORA dataset, which is a standard citation network benchmark dataset.\n",
    "\n",
    "**Note**: Make sure to **sequentially run all the cells in each section** so that the intermediate variables / packages will carry over to the next cell\n",
    "\n",
    "Have fun and good luck on Colab 4 :)"
   ]
  },
  {
   "cell_type": "markdown",
   "metadata": {
    "id": "MSaetj53YnT6"
   },
   "source": [
    "# Device\n",
    "We recommend using a GPU for this Colab.\n",
    "\n",
    "Please click `Runtime` and then `Change runtime type`. Then set the `hardware accelerator` to **GPU**."
   ]
  },
  {
   "cell_type": "markdown",
   "metadata": {
    "id": "67gOQITlCNQi"
   },
   "source": [
    "## Installation"
   ]
  },
  {
   "cell_type": "code",
   "execution_count": 2,
   "metadata": {
    "id": "J_m9l6OYCQZP"
   },
   "outputs": [],
   "source": [
    "# Install torch geometric\n",
    "import os\n",
    "import torch"
   ]
  },
  {
   "cell_type": "code",
   "execution_count": 3,
   "metadata": {},
   "outputs": [
    {
     "name": "stdout",
     "output_type": "stream",
     "text": [
      "True\n",
      "12.1\n",
      "90100\n"
     ]
    }
   ],
   "source": [
    "# Using Cuda\n",
    "\n",
    "import torch\n",
    "print(torch.cuda.is_available())  # Should print True if CUDA is available\n",
    "print(torch.version.cuda)  # Should print the CUDA version\n",
    "print(torch.backends.cudnn.version())  # Should print the cuDNN version\n"
   ]
  },
  {
   "cell_type": "code",
   "execution_count": 4,
   "metadata": {
    "colab": {
     "base_uri": "https://localhost:8080/",
     "height": 1000
    },
    "id": "-eVJWah1Mxwy",
    "outputId": "bdfdc944-9095-4d09-f282-b2e3930e24e6"
   },
   "outputs": [
    {
     "name": "stdout",
     "output_type": "stream",
     "text": [
      "Looking in indexes: https://download.pytorch.org/whl/cu121\n",
      "Collecting torch==2.4.0+cu121\n",
      "  Using cached https://download.pytorch.org/whl/cu121/torch-2.4.0%2Bcu121-cp311-cp311-win_amd64.whl (2442.0 MB)\n",
      "Collecting torchvision\n",
      "  Using cached https://download.pytorch.org/whl/cu121/torchvision-0.20.1%2Bcu121-cp311-cp311-win_amd64.whl (6.1 MB)\n",
      "Collecting torchaudio\n",
      "  Using cached https://download.pytorch.org/whl/cu121/torchaudio-2.5.1%2Bcu121-cp311-cp311-win_amd64.whl (4.1 MB)\n",
      "Collecting filelock (from torch==2.4.0+cu121)\n",
      "  Obtaining dependency information for filelock from https://download.pytorch.org/whl/filelock-3.13.1-py3-none-any.whl.metadata\n",
      "  Downloading https://download.pytorch.org/whl/filelock-3.13.1-py3-none-any.whl.metadata (2.8 kB)\n",
      "Requirement already satisfied: typing-extensions>=4.8.0 in c:\\study\\graph ml\\graphml\\graphmlvenv\\lib\\site-packages (from torch==2.4.0+cu121) (4.12.2)\n",
      "Collecting sympy (from torch==2.4.0+cu121)\n",
      "  Downloading https://download.pytorch.org/whl/sympy-1.13.1-py3-none-any.whl (6.2 MB)\n",
      "     ---------------------------------------- 0.0/6.2 MB ? eta -:--:--\n",
      "     - -------------------------------------- 0.3/6.2 MB 8.6 MB/s eta 0:00:01\n",
      "     ------- -------------------------------- 1.1/6.2 MB 14.3 MB/s eta 0:00:01\n",
      "     ----------------- ---------------------- 2.7/6.2 MB 21.9 MB/s eta 0:00:01\n",
      "     ------------------------------ --------- 4.8/6.2 MB 27.8 MB/s eta 0:00:01\n",
      "     ---------------------------------------  6.2/6.2 MB 30.4 MB/s eta 0:00:01\n",
      "     ---------------------------------------- 6.2/6.2 MB 23.2 MB/s eta 0:00:00\n",
      "Collecting networkx (from torch==2.4.0+cu121)\n",
      "  Obtaining dependency information for networkx from https://download.pytorch.org/whl/networkx-3.3-py3-none-any.whl.metadata\n",
      "  Downloading https://download.pytorch.org/whl/networkx-3.3-py3-none-any.whl.metadata (5.1 kB)\n",
      "Collecting jinja2 (from torch==2.4.0+cu121)\n",
      "  Obtaining dependency information for jinja2 from https://download.pytorch.org/whl/Jinja2-3.1.4-py3-none-any.whl.metadata\n",
      "  Downloading https://download.pytorch.org/whl/Jinja2-3.1.4-py3-none-any.whl.metadata (2.6 kB)\n",
      "Collecting fsspec (from torch==2.4.0+cu121)\n",
      "  Obtaining dependency information for fsspec from https://download.pytorch.org/whl/fsspec-2024.6.1-py3-none-any.whl.metadata\n",
      "  Downloading https://download.pytorch.org/whl/fsspec-2024.6.1-py3-none-any.whl.metadata (11 kB)\n",
      "Collecting numpy (from torchvision)\n",
      "  Obtaining dependency information for numpy from https://download.pytorch.org/whl/numpy-2.1.2-cp311-cp311-win_amd64.whl.metadata\n",
      "  Downloading https://download.pytorch.org/whl/numpy-2.1.2-cp311-cp311-win_amd64.whl.metadata (59 kB)\n",
      "     ---------------------------------------- 0.0/59.7 kB ? eta -:--:--\n",
      "     ---------------------------------------- 59.7/59.7 kB ? eta 0:00:00\n",
      "INFO: pip is looking at multiple versions of torchvision to determine which version is compatible with other requirements. This could take a while.\n",
      "Collecting torchvision\n",
      "  Using cached https://download.pytorch.org/whl/cu121/torchvision-0.20.0%2Bcu121-cp311-cp311-win_amd64.whl (6.1 MB)\n",
      "  Using cached https://download.pytorch.org/whl/cu121/torchvision-0.19.1%2Bcu121-cp311-cp311-win_amd64.whl (5.8 MB)\n",
      "  Using cached https://download.pytorch.org/whl/cu121/torchvision-0.19.0%2Bcu121-cp311-cp311-win_amd64.whl (5.8 MB)\n",
      "Collecting pillow!=8.3.*,>=5.3.0 (from torchvision)\n",
      "  Obtaining dependency information for pillow!=8.3.*,>=5.3.0 from https://download.pytorch.org/whl/pillow-11.0.0-cp311-cp311-win_amd64.whl.metadata\n",
      "  Downloading https://download.pytorch.org/whl/pillow-11.0.0-cp311-cp311-win_amd64.whl.metadata (9.3 kB)\n",
      "INFO: pip is looking at multiple versions of torchaudio to determine which version is compatible with other requirements. This could take a while.\n",
      "Collecting torchaudio\n",
      "  Using cached https://download.pytorch.org/whl/cu121/torchaudio-2.5.0%2Bcu121-cp311-cp311-win_amd64.whl (4.1 MB)\n",
      "  Using cached https://download.pytorch.org/whl/cu121/torchaudio-2.4.1%2Bcu121-cp311-cp311-win_amd64.whl (4.1 MB)\n",
      "  Using cached https://download.pytorch.org/whl/cu121/torchaudio-2.4.0%2Bcu121-cp311-cp311-win_amd64.whl (4.1 MB)\n",
      "Collecting MarkupSafe>=2.0 (from jinja2->torch==2.4.0+cu121)\n",
      "  Downloading https://download.pytorch.org/whl/MarkupSafe-2.1.5-cp311-cp311-win_amd64.whl (17 kB)\n",
      "Collecting mpmath<1.4,>=1.1.0 (from sympy->torch==2.4.0+cu121)\n",
      "  Downloading https://download.pytorch.org/whl/mpmath-1.3.0-py3-none-any.whl (536 kB)\n",
      "     ---------------------------------------- 0.0/536.2 kB ? eta -:--:--\n",
      "     ------------------------------------- 536.2/536.2 kB 32.9 MB/s eta 0:00:00\n",
      "Downloading https://download.pytorch.org/whl/pillow-11.0.0-cp311-cp311-win_amd64.whl (2.6 MB)\n",
      "   ---------------------------------------- 0.0/2.6 MB ? eta -:--:--\n",
      "   ---------------------------------------  2.6/2.6 MB 54.3 MB/s eta 0:00:01\n",
      "   ---------------------------------------- 2.6/2.6 MB 40.6 MB/s eta 0:00:00\n",
      "Downloading https://download.pytorch.org/whl/filelock-3.13.1-py3-none-any.whl (11 kB)\n",
      "Downloading https://download.pytorch.org/whl/fsspec-2024.6.1-py3-none-any.whl (177 kB)\n",
      "   ---------------------------------------- 0.0/177.6 kB ? eta -:--:--\n",
      "   ---------------------------------------- 177.6/177.6 kB ? eta 0:00:00\n",
      "Downloading https://download.pytorch.org/whl/Jinja2-3.1.4-py3-none-any.whl (133 kB)\n",
      "   ---------------------------------------- 0.0/133.3 kB ? eta -:--:--\n",
      "   ---------------------------------------- 133.3/133.3 kB ? eta 0:00:00\n",
      "Downloading https://download.pytorch.org/whl/networkx-3.3-py3-none-any.whl (1.7 MB)\n",
      "   ---------------------------------------- 0.0/1.7 MB ? eta -:--:--\n",
      "   ---------------------------------------  1.7/1.7 MB 54.5 MB/s eta 0:00:01\n",
      "   ---------------------------------------- 1.7/1.7 MB 54.6 MB/s eta 0:00:00\n",
      "Downloading https://download.pytorch.org/whl/numpy-2.1.2-cp311-cp311-win_amd64.whl (12.9 MB)\n",
      "   ---------------------------------------- 0.0/12.9 MB ? eta -:--:--\n",
      "   ------- -------------------------------- 2.3/12.9 MB 49.4 MB/s eta 0:00:01\n",
      "   -------------- ------------------------- 4.7/12.9 MB 50.3 MB/s eta 0:00:01\n",
      "   ----------------------- ---------------- 7.5/12.9 MB 53.6 MB/s eta 0:00:01\n",
      "   ------------------------------ --------- 10.0/12.9 MB 53.2 MB/s eta 0:00:01\n",
      "   ------------------------------------- -- 12.1/12.9 MB 50.4 MB/s eta 0:00:01\n",
      "   ---------------------------------------  12.9/12.9 MB 54.4 MB/s eta 0:00:01\n",
      "   ---------------------------------------- 12.9/12.9 MB 38.5 MB/s eta 0:00:00\n",
      "Installing collected packages: mpmath, sympy, pillow, numpy, networkx, MarkupSafe, fsspec, filelock, jinja2, torch, torchvision, torchaudio\n",
      "Successfully installed MarkupSafe-2.1.5 filelock-3.13.1 fsspec-2024.6.1 jinja2-3.1.4 mpmath-1.3.0 networkx-3.3 numpy-2.1.2 pillow-11.0.0 sympy-1.13.1 torch-2.4.0+cu121 torchaudio-2.4.0+cu121 torchvision-0.19.0+cu121\n"
     ]
    }
   ],
   "source": [
    "# Update environment to install torch geometric 2.4 for CUDA 12.1\n",
    "\n",
    "if 'IS_GRADESCOPE_ENV' not in os.environ:\n",
    "  !pip install torch==2.4.0+cu121 torchvision torchaudio --index-url https://download.pytorch.org/whl/cu121\n"
   ]
  },
  {
   "cell_type": "code",
   "execution_count": 5,
   "metadata": {
    "colab": {
     "base_uri": "https://localhost:8080/"
    },
    "id": "_eYkCT1vM6_2",
    "outputId": "11b9979e-2fcf-4a66-aab3-70c10f8ac3d1"
   },
   "outputs": [
    {
     "name": "stdout",
     "output_type": "stream",
     "text": [
      "Looking in links: https://data.pyg.org/whl/torch-2.4.0+cu121.html\n",
      "Collecting torch-scatter\n",
      "  Using cached https://data.pyg.org/whl/torch-2.4.0%2Bcu121/torch_scatter-2.1.2%2Bpt24cu121-cp311-cp311-win_amd64.whl (3.5 MB)\n",
      "Collecting torch-sparse\n",
      "  Using cached https://data.pyg.org/whl/torch-2.4.0%2Bcu121/torch_sparse-0.6.18%2Bpt24cu121-cp311-cp311-win_amd64.whl (2.1 MB)\n",
      "Collecting torch-cluster\n",
      "  Using cached https://data.pyg.org/whl/torch-2.4.0%2Bcu121/torch_cluster-1.6.3%2Bpt24cu121-cp311-cp311-win_amd64.whl (1.6 MB)\n",
      "Collecting torch-spline-conv\n",
      "  Using cached https://data.pyg.org/whl/torch-2.4.0%2Bcu121/torch_spline_conv-1.2.2%2Bpt24cu121-cp311-cp311-win_amd64.whl (518 kB)\n",
      "Collecting torch-geometric\n",
      "  Obtaining dependency information for torch-geometric from https://files.pythonhosted.org/packages/03/9f/157e913626c1acfb3b19ce000b1a6e4e4fb177c0bc0ea0c67ca5bd714b5a/torch_geometric-2.6.1-py3-none-any.whl.metadata\n",
      "  Using cached torch_geometric-2.6.1-py3-none-any.whl.metadata (63 kB)\n",
      "Collecting scipy (from torch-sparse)\n",
      "  Obtaining dependency information for scipy from https://files.pythonhosted.org/packages/b9/8b/7ec1832b09dbc88f3db411f8cdd47db04505c4b72c99b11c920a8f0479c3/scipy-1.15.2-cp311-cp311-win_amd64.whl.metadata\n",
      "  Downloading scipy-1.15.2-cp311-cp311-win_amd64.whl.metadata (60 kB)\n",
      "     ---------------------------------------- 0.0/60.8 kB ? eta -:--:--\n",
      "     ------------ ------------------------- 20.5/60.8 kB 330.3 kB/s eta 0:00:01\n",
      "     -------------------------------------- 60.8/60.8 kB 647.7 kB/s eta 0:00:00\n",
      "Collecting aiohttp (from torch-geometric)\n",
      "  Obtaining dependency information for aiohttp from https://files.pythonhosted.org/packages/29/23/d98d491ca073ee92cc6a741be97b6b097fb06dacc5f95c0c9350787db549/aiohttp-3.11.13-cp311-cp311-win_amd64.whl.metadata\n",
      "  Downloading aiohttp-3.11.13-cp311-cp311-win_amd64.whl.metadata (8.0 kB)\n",
      "Requirement already satisfied: fsspec in c:\\study\\graph ml\\graphml\\graphmlvenv\\lib\\site-packages (from torch-geometric) (2024.6.1)\n",
      "Requirement already satisfied: jinja2 in c:\\study\\graph ml\\graphml\\graphmlvenv\\lib\\site-packages (from torch-geometric) (3.1.4)\n",
      "Requirement already satisfied: numpy in c:\\study\\graph ml\\graphml\\graphmlvenv\\lib\\site-packages (from torch-geometric) (2.1.2)\n",
      "Requirement already satisfied: psutil>=5.8.0 in c:\\study\\graph ml\\graphml\\graphmlvenv\\lib\\site-packages (from torch-geometric) (7.0.0)\n",
      "Collecting pyparsing (from torch-geometric)\n",
      "  Obtaining dependency information for pyparsing from https://files.pythonhosted.org/packages/1c/a7/c8a2d361bf89c0d9577c934ebb7421b25dc84bf3a8e3ac0a40aed9acc547/pyparsing-3.2.1-py3-none-any.whl.metadata\n",
      "  Downloading pyparsing-3.2.1-py3-none-any.whl.metadata (5.0 kB)\n",
      "Collecting requests (from torch-geometric)\n",
      "  Obtaining dependency information for requests from https://files.pythonhosted.org/packages/f9/9b/335f9764261e915ed497fcdeb11df5dfd6f7bf257d4a6a2a686d80da4d54/requests-2.32.3-py3-none-any.whl.metadata\n",
      "  Downloading requests-2.32.3-py3-none-any.whl.metadata (4.6 kB)\n",
      "Collecting tqdm (from torch-geometric)\n",
      "  Obtaining dependency information for tqdm from https://files.pythonhosted.org/packages/d0/30/dc54f88dd4a2b5dc8a0279bdd7270e735851848b762aeb1c1184ed1f6b14/tqdm-4.67.1-py3-none-any.whl.metadata\n",
      "  Downloading tqdm-4.67.1-py3-none-any.whl.metadata (57 kB)\n",
      "     ---------------------------------------- 0.0/57.7 kB ? eta -:--:--\n",
      "     ---------------------------------------- 57.7/57.7 kB 3.0 MB/s eta 0:00:00\n",
      "Collecting aiohappyeyeballs>=2.3.0 (from aiohttp->torch-geometric)\n",
      "  Obtaining dependency information for aiohappyeyeballs>=2.3.0 from https://files.pythonhosted.org/packages/52/0e/b187e2bb3eeb2644515109657c4474d65a84e7123de249bf1e8467d04a65/aiohappyeyeballs-2.4.8-py3-none-any.whl.metadata\n",
      "  Downloading aiohappyeyeballs-2.4.8-py3-none-any.whl.metadata (5.9 kB)\n",
      "Collecting aiosignal>=1.1.2 (from aiohttp->torch-geometric)\n",
      "  Obtaining dependency information for aiosignal>=1.1.2 from https://files.pythonhosted.org/packages/ec/6a/bc7e17a3e87a2985d3e8f4da4cd0f481060eb78fb08596c42be62c90a4d9/aiosignal-1.3.2-py2.py3-none-any.whl.metadata\n",
      "  Downloading aiosignal-1.3.2-py2.py3-none-any.whl.metadata (3.8 kB)\n",
      "Collecting attrs>=17.3.0 (from aiohttp->torch-geometric)\n",
      "  Obtaining dependency information for attrs>=17.3.0 from https://files.pythonhosted.org/packages/fc/30/d4986a882011f9df997a55e6becd864812ccfcd821d64aac8570ee39f719/attrs-25.1.0-py3-none-any.whl.metadata\n",
      "  Downloading attrs-25.1.0-py3-none-any.whl.metadata (10 kB)\n",
      "Collecting frozenlist>=1.1.1 (from aiohttp->torch-geometric)\n",
      "  Obtaining dependency information for frozenlist>=1.1.1 from https://files.pythonhosted.org/packages/ca/8c/2ddffeb8b60a4bce3b196c32fcc30d8830d4615e7b492ec2071da801b8ad/frozenlist-1.5.0-cp311-cp311-win_amd64.whl.metadata\n",
      "  Downloading frozenlist-1.5.0-cp311-cp311-win_amd64.whl.metadata (14 kB)\n",
      "Collecting multidict<7.0,>=4.5 (from aiohttp->torch-geometric)\n",
      "  Obtaining dependency information for multidict<7.0,>=4.5 from https://files.pythonhosted.org/packages/9f/0b/ad879847ecbf6d27e90a6eabb7eff6b62c129eefe617ea45eae7c1f0aead/multidict-6.1.0-cp311-cp311-win_amd64.whl.metadata\n",
      "  Downloading multidict-6.1.0-cp311-cp311-win_amd64.whl.metadata (5.1 kB)\n",
      "Collecting propcache>=0.2.0 (from aiohttp->torch-geometric)\n",
      "  Obtaining dependency information for propcache>=0.2.0 from https://files.pythonhosted.org/packages/d8/35/57abeb6146fe3c19081eeaf3d9d4cfea256f87f1e5101acf80d3332c1820/propcache-0.3.0-cp311-cp311-win_amd64.whl.metadata\n",
      "  Downloading propcache-0.3.0-cp311-cp311-win_amd64.whl.metadata (10 kB)\n",
      "Collecting yarl<2.0,>=1.17.0 (from aiohttp->torch-geometric)\n",
      "  Obtaining dependency information for yarl<2.0,>=1.17.0 from https://files.pythonhosted.org/packages/ae/7b/8600250b3d89b625f1121d897062f629883c2f45339623b69b1747ec65fa/yarl-1.18.3-cp311-cp311-win_amd64.whl.metadata\n",
      "  Downloading yarl-1.18.3-cp311-cp311-win_amd64.whl.metadata (71 kB)\n",
      "     ---------------------------------------- 0.0/71.4 kB ? eta -:--:--\n",
      "     ---------------------------------------- 71.4/71.4 kB ? eta 0:00:00\n",
      "Requirement already satisfied: MarkupSafe>=2.0 in c:\\study\\graph ml\\graphml\\graphmlvenv\\lib\\site-packages (from jinja2->torch-geometric) (2.1.5)\n",
      "Collecting charset-normalizer<4,>=2 (from requests->torch-geometric)\n",
      "  Obtaining dependency information for charset-normalizer<4,>=2 from https://files.pythonhosted.org/packages/1e/ab/45b180e175de4402dcf7547e4fb617283bae54ce35c27930a6f35b6bef15/charset_normalizer-3.4.1-cp311-cp311-win_amd64.whl.metadata\n",
      "  Downloading charset_normalizer-3.4.1-cp311-cp311-win_amd64.whl.metadata (36 kB)\n",
      "Collecting idna<4,>=2.5 (from requests->torch-geometric)\n",
      "  Obtaining dependency information for idna<4,>=2.5 from https://files.pythonhosted.org/packages/76/c6/c88e154df9c4e1a2a66ccf0005a88dfb2650c1dffb6f5ce603dfbd452ce3/idna-3.10-py3-none-any.whl.metadata\n",
      "  Downloading idna-3.10-py3-none-any.whl.metadata (10 kB)\n",
      "Collecting urllib3<3,>=1.21.1 (from requests->torch-geometric)\n",
      "  Obtaining dependency information for urllib3<3,>=1.21.1 from https://files.pythonhosted.org/packages/c8/19/4ec628951a74043532ca2cf5d97b7b14863931476d117c471e8e2b1eb39f/urllib3-2.3.0-py3-none-any.whl.metadata\n",
      "  Downloading urllib3-2.3.0-py3-none-any.whl.metadata (6.5 kB)\n",
      "Collecting certifi>=2017.4.17 (from requests->torch-geometric)\n",
      "  Obtaining dependency information for certifi>=2017.4.17 from https://files.pythonhosted.org/packages/38/fc/bce832fd4fd99766c04d1ee0eead6b0ec6486fb100ae5e74c1d91292b982/certifi-2025.1.31-py3-none-any.whl.metadata\n",
      "  Downloading certifi-2025.1.31-py3-none-any.whl.metadata (2.5 kB)\n",
      "Requirement already satisfied: colorama in c:\\study\\graph ml\\graphml\\graphmlvenv\\lib\\site-packages (from tqdm->torch-geometric) (0.4.6)\n",
      "Using cached torch_geometric-2.6.1-py3-none-any.whl (1.1 MB)\n",
      "Downloading aiohttp-3.11.13-cp311-cp311-win_amd64.whl (442 kB)\n",
      "   ---------------------------------------- 0.0/442.9 kB ? eta -:--:--\n",
      "   --------------------------------- ------ 368.6/442.9 kB 7.6 MB/s eta 0:00:01\n",
      "   ---------------------------------------- 442.9/442.9 kB 9.2 MB/s eta 0:00:00\n",
      "Downloading pyparsing-3.2.1-py3-none-any.whl (107 kB)\n",
      "   ---------------------------------------- 0.0/107.7 kB ? eta -:--:--\n",
      "   ---------------------------------------- 107.7/107.7 kB ? eta 0:00:00\n",
      "Downloading requests-2.32.3-py3-none-any.whl (64 kB)\n",
      "   ---------------------------------------- 0.0/64.9 kB ? eta -:--:--\n",
      "   ---------------------------------------- 64.9/64.9 kB ? eta 0:00:00\n",
      "Downloading scipy-1.15.2-cp311-cp311-win_amd64.whl (41.2 MB)\n",
      "   ---------------------------------------- 0.0/41.2 MB ? eta -:--:--\n",
      "    --------------------------------------- 1.0/41.2 MB 20.7 MB/s eta 0:00:02\n",
      "   -- ------------------------------------- 2.1/41.2 MB 26.9 MB/s eta 0:00:02\n",
      "   --- ------------------------------------ 3.5/41.2 MB 24.7 MB/s eta 0:00:02\n",
      "   ----- ---------------------------------- 5.6/41.2 MB 29.5 MB/s eta 0:00:02\n",
      "   ----- ---------------------------------- 6.2/41.2 MB 30.3 MB/s eta 0:00:02\n",
      "   ------- -------------------------------- 8.0/41.2 MB 28.4 MB/s eta 0:00:02\n",
      "   --------- ------------------------------ 9.6/41.2 MB 29.2 MB/s eta 0:00:02\n",
      "   ---------- ----------------------------- 11.0/41.2 MB 32.7 MB/s eta 0:00:01\n",
      "   ------------ --------------------------- 12.4/41.2 MB 36.4 MB/s eta 0:00:01\n",
      "   ------------- -------------------------- 14.0/41.2 MB 32.8 MB/s eta 0:00:01\n",
      "   --------------- ------------------------ 15.9/41.2 MB 32.8 MB/s eta 0:00:01\n",
      "   ----------------- ---------------------- 17.6/41.2 MB 36.4 MB/s eta 0:00:01\n",
      "   ------------------- -------------------- 19.7/41.2 MB 36.4 MB/s eta 0:00:01\n",
      "   -------------------- ------------------- 21.6/41.2 MB 38.5 MB/s eta 0:00:01\n",
      "   ---------------------- ----------------- 23.6/41.2 MB 43.5 MB/s eta 0:00:01\n",
      "   ------------------------ --------------- 25.7/41.2 MB 43.5 MB/s eta 0:00:01\n",
      "   -------------------------- ------------- 27.6/41.2 MB 43.7 MB/s eta 0:00:01\n",
      "   ---------------------------- ----------- 29.8/41.2 MB 43.7 MB/s eta 0:00:01\n",
      "   ------------------------------- -------- 32.2/41.2 MB 46.7 MB/s eta 0:00:01\n",
      "   --------------------------------- ------ 34.8/41.2 MB 50.4 MB/s eta 0:00:01\n",
      "   ----------------------------------- ---- 36.5/41.2 MB 46.7 MB/s eta 0:00:01\n",
      "   ------------------------------------- -- 38.4/41.2 MB 46.7 MB/s eta 0:00:01\n",
      "   ---------------------------------------  40.7/41.2 MB 46.7 MB/s eta 0:00:01\n",
      "   ---------------------------------------  41.2/41.2 MB 46.9 MB/s eta 0:00:01\n",
      "   ---------------------------------------  41.2/41.2 MB 46.9 MB/s eta 0:00:01\n",
      "   ---------------------------------------- 41.2/41.2 MB 32.8 MB/s eta 0:00:00\n",
      "Downloading tqdm-4.67.1-py3-none-any.whl (78 kB)\n",
      "   ---------------------------------------- 0.0/78.5 kB ? eta -:--:--\n",
      "   ---------------------------------------- 78.5/78.5 kB 4.3 MB/s eta 0:00:00\n",
      "Downloading aiohappyeyeballs-2.4.8-py3-none-any.whl (15 kB)\n",
      "Downloading aiosignal-1.3.2-py2.py3-none-any.whl (7.6 kB)\n",
      "Downloading attrs-25.1.0-py3-none-any.whl (63 kB)\n",
      "   ---------------------------------------- 0.0/63.2 kB ? eta -:--:--\n",
      "   ---------------------------------------- 63.2/63.2 kB ? eta 0:00:00\n",
      "Downloading certifi-2025.1.31-py3-none-any.whl (166 kB)\n",
      "   ---------------------------------------- 0.0/166.4 kB ? eta -:--:--\n",
      "   ---------------------------------------- 166.4/166.4 kB 9.8 MB/s eta 0:00:00\n",
      "Downloading charset_normalizer-3.4.1-cp311-cp311-win_amd64.whl (102 kB)\n",
      "   ---------------------------------------- 0.0/102.4 kB ? eta -:--:--\n",
      "   ---------------------------------------- 102.4/102.4 kB ? eta 0:00:00\n",
      "Downloading frozenlist-1.5.0-cp311-cp311-win_amd64.whl (51 kB)\n",
      "   ---------------------------------------- 0.0/51.6 kB ? eta -:--:--\n",
      "   ---------------------------------------- 51.6/51.6 kB 2.6 MB/s eta 0:00:00\n",
      "Downloading idna-3.10-py3-none-any.whl (70 kB)\n",
      "   ---------------------------------------- 0.0/70.4 kB ? eta -:--:--\n",
      "   ---------------------------------------- 70.4/70.4 kB 3.8 MB/s eta 0:00:00\n",
      "Downloading multidict-6.1.0-cp311-cp311-win_amd64.whl (28 kB)\n",
      "Downloading propcache-0.3.0-cp311-cp311-win_amd64.whl (44 kB)\n",
      "   ---------------------------------------- 0.0/44.7 kB ? eta -:--:--\n",
      "   ---------------------------------------- 44.7/44.7 kB ? eta 0:00:00\n",
      "Downloading urllib3-2.3.0-py3-none-any.whl (128 kB)\n",
      "   ---------------------------------------- 0.0/128.4 kB ? eta -:--:--\n",
      "   ---------------------------------------- 128.4/128.4 kB ? eta 0:00:00\n",
      "Downloading yarl-1.18.3-cp311-cp311-win_amd64.whl (91 kB)\n",
      "   ---------------------------------------- 0.0/91.0 kB ? eta -:--:--\n",
      "   ---------------------------------------- 91.0/91.0 kB ? eta 0:00:00\n",
      "Installing collected packages: urllib3, tqdm, torch-spline-conv, torch-scatter, scipy, pyparsing, propcache, multidict, idna, frozenlist, charset-normalizer, certifi, attrs, aiohappyeyeballs, yarl, torch-sparse, torch-cluster, requests, aiosignal, aiohttp, torch-geometric\n",
      "Successfully installed aiohappyeyeballs-2.4.8 aiohttp-3.11.13 aiosignal-1.3.2 attrs-25.1.0 certifi-2025.1.31 charset-normalizer-3.4.1 frozenlist-1.5.0 idna-3.10 multidict-6.1.0 propcache-0.3.0 pyparsing-3.2.1 requests-2.32.3 scipy-1.15.2 torch-cluster-1.6.3+pt24cu121 torch-geometric-2.6.1 torch-scatter-2.1.2+pt24cu121 torch-sparse-0.6.18+pt24cu121 torch-spline-conv-1.2.2+pt24cu121 tqdm-4.67.1 urllib3-2.3.0 yarl-1.18.3\n"
     ]
    },
    {
     "name": "stderr",
     "output_type": "stream",
     "text": [
      "\n",
      "[notice] A new release of pip is available: 23.2.1 -> 25.0.1\n",
      "[notice] To update, run: python.exe -m pip install --upgrade pip\n",
      "\n",
      "[notice] A new release of pip is available: 23.2.1 -> 25.0.1\n",
      "[notice] To update, run: python.exe -m pip install --upgrade pip\n"
     ]
    }
   ],
   "source": [
    "if 'IS_GRADESCOPE_ENV' not in os.environ:\n",
    "  !pip install torch-scatter torch-sparse torch-cluster torch-spline-conv torch-geometric \\\n",
    "  -f https://data.pyg.org/whl/torch-2.4.0+cu121.html\n",
    "  !pip install -q git+https://github.com/snap-stanford/deepsnap.git\n"
   ]
  },
  {
   "cell_type": "code",
   "execution_count": 4,
   "metadata": {
    "colab": {
     "base_uri": "https://localhost:8080/",
     "height": 56
    },
    "id": "PRfgbfTjCRD_",
    "outputId": "264d8bdd-6949-41fa-a34f-020a19800239"
   },
   "outputs": [
    {
     "data": {
      "text/plain": [
       "'2.6.1'"
      ]
     },
     "execution_count": 4,
     "metadata": {},
     "output_type": "execute_result"
    }
   ],
   "source": [
    "import torch_geometric\n",
    "from torch_scatter import scatter\n",
    "\n",
    "torch_geometric.__version__"
   ]
  },
  {
   "cell_type": "markdown",
   "metadata": {
    "id": "ZoXlf4MtYrbz"
   },
   "source": [
    "# 1) GNN Layers"
   ]
  },
  {
   "cell_type": "markdown",
   "metadata": {
    "id": "TQy2RBfgYut4"
   },
   "source": [
    "## Implementing Layer Modules\n",
    "\n",
    "In Colab 3, we implemented a GCN model for node and graph classification tasks. However, for that notebook we took advantage of PyG's built in GCN module. For Colab 4, we provide a build upon a general Graph Neural Network Stack, into which we will be able to plugin our own module implementations of GraphSAGE.\n",
    "\n",
    "We will then use our layer implemenations to complete node classification on the CORA dataset, a standard citation network benchmark. In this dataset, nodes correspond to documents and edges correspond to undirected citations. Each node or document in the graph is assigned a class label and features based on the documents binarized bag-of-words representation. Specifically, the Cora graph has 2708 nodes, 5429 edges, 7 prediction classes, and 1433 features per node."
   ]
  },
  {
   "cell_type": "markdown",
   "metadata": {
    "id": "H4ne6Gw-CT5G"
   },
   "source": [
    "## GNN Stack Module\n",
    "\n",
    "Below is the implementation of a general GNN stack, where we can plugin any GNN layer, such as **GraphSage**, **GAT**, etc. This module is provided for you. Your implementations of the **GraphSage** layers will function as components in the GNNStack Module."
   ]
  },
  {
   "cell_type": "code",
   "execution_count": 5,
   "metadata": {
    "id": "Ys8vZAFPCWWe"
   },
   "outputs": [],
   "source": [
    "import torch\n",
    "import torch_scatter\n",
    "import torch.nn as nn\n",
    "import torch.nn.functional as F\n",
    "\n",
    "import torch_geometric.nn as pyg_nn\n",
    "import torch_geometric.utils as pyg_utils\n",
    "\n",
    "from torch import Tensor\n",
    "from typing import Union, Tuple, Optional\n",
    "from torch_geometric.typing import (OptPairTensor, Adj, Size, NoneType,\n",
    "                                    OptTensor)\n",
    "\n",
    "from torch.nn import Parameter, Linear\n",
    "from torch_sparse import SparseTensor, set_diag\n",
    "from torch_geometric.nn.conv import MessagePassing\n",
    "from torch_geometric.utils import remove_self_loops, add_self_loops, softmax, degree\n",
    "\n",
    "\n",
    "class GNNStack(torch.nn.Module):\n",
    "    def __init__(self, input_dim, hidden_dim, output_dim, args, emb=False):\n",
    "        super(GNNStack, self).__init__()\n",
    "        conv_model = self.build_conv_model(args.model_type)\n",
    "        self.convs = nn.ModuleList()\n",
    "        self.convs.append(conv_model(input_dim, hidden_dim))\n",
    "        assert (args.num_layers >= 1), 'Number of layers is not >=1'\n",
    "        for l in range(args.num_layers-1):\n",
    "            self.convs.append(conv_model(hidden_dim, hidden_dim))\n",
    "\n",
    "        # post-message-passing\n",
    "        self.post_mp = nn.Sequential(\n",
    "            nn.Linear(hidden_dim, hidden_dim), nn.Dropout(args.dropout),\n",
    "            nn.Linear(hidden_dim, output_dim))\n",
    "\n",
    "        self.dropout = args.dropout\n",
    "        self.num_layers = args.num_layers\n",
    "\n",
    "        self.emb = emb\n",
    "\n",
    "    def build_conv_model(self, model_type):\n",
    "        if model_type == 'GraphSage':\n",
    "            return GraphSage\n",
    "\n",
    "    def forward(self, data):\n",
    "        x, edge_index, batch = data.x, data.edge_index, data.batch\n",
    "\n",
    "        for i in range(self.num_layers):\n",
    "            x = self.convs[i](x, edge_index)\n",
    "            x = F.relu(x)\n",
    "            x = F.dropout(x, p=self.dropout,training=self.training)\n",
    "\n",
    "        x = self.post_mp(x)\n",
    "\n",
    "        if self.emb == True:\n",
    "            return x\n",
    "\n",
    "        return F.log_softmax(x, dim=1)\n",
    "\n",
    "    def loss(self, pred, label):\n",
    "        return F.nll_loss(pred, label)"
   ]
  },
  {
   "cell_type": "markdown",
   "metadata": {
    "id": "5nW_XpEwASNZ"
   },
   "source": [
    "## Creating Our Own Message Passing Layer\n",
    "\n",
    "Now let's start implementing our own message passing layers! Working through this part will help us become acutely familiar with the behind the scenes work of implementing Pytorch Message Passing Layers, allowing us to build our own GNN models. To do so, we will work with and implement 3 critcal functions needed to define a PyG Message Passing Layer: `forward`, `message`, and `aggregate`.\n",
    "\n",
    "Before diving head first into the coding details, let us quickly review the key components of the message passing process. To do so, we will focus on a single round of messsage passing with respect to a single central node $x$. Before message passing, $x$ is associated with a feature vector $x^{l-1}$, and the goal of message passing is to update this feature vector as $x^l$. To do so, we implement the following steps: 1) each neighboring node $v$ passes its current message $h_v^{l-1}$ across the edge $(x, v)$ - 2) for the node $x$, we aggregate all of the messages of the neighboring nodes (for example through a sum or mean) - and 3) we transform the aggregated information by for example applying linear and non-linear transformations. Altogether, the message passing process is applied such that every node $u$ in our graph updates its embedding by acting as the central node $x$ in step 1-3 described above.\n",
    "\n",
    "\n",
    "Now, extending this process to that of a single message passing layer, the job of a message passing layer is to update the current feature representation or embedding of _each node_ in a graph by propagating and transforming information within the graph. Overall, the general paradigm of a message passing layers is: 1) pre-processing -> 2) **message passing** / propagation -> 3) post-processing.\n",
    "\n",
    "The `forward` fuction that we will implement for our message passing layer captures this execution logic. Namely, the `forward` function handles the pre and post-processing of node features / embeddings, as well as initiates message passing by calling the `propagate` function.\n",
    "\n",
    "\n",
    "The `propagate` function encapsulates the message passing process! It does so by calling three important functions: 1) `message`, 2) `aggregate`, and 3) `update`. Our implementation will vary slightly from this, as we will not explicitly implement `update`, but instead place the logic for updating node embeddings after message passing and within the `forward` function. To be more specific, after information is propagated (message passing), we can further transform the node embeddings outputed by `propagate`. Therefore, the output of `forward` is exactly the node embeddings after one GNN layer.\n",
    "\n",
    "Lastly, before starting to implement our own layer, let us dig a bit deeper into each of the functions described above:\n",
    "\n",
    "1.\n",
    "\n",
    "```\n",
    "def propagate(edge_index, x=(x_i, x_j), extra=(extra_i, extra_j), size=size):\n",
    "```\n",
    "Calling `propagate` initiates the message passing process. Looking at the function parameters, we highlight a couple of key parameters.\n",
    "\n",
    "  - `edge_index` is passed to the forward function and captures the edge structure of the graph.\n",
    "  - `x=(x_i, x_j)` represents the node features that will be used in message passing. In order to explain why we pass the tuple `(x_i, x_j)`, we first look at how our edges are represented. For every edge $(i, j) \\in {E}$, we can differentiate $i$ as the source or central node ($x_{central}$) and j as the neighboring node ($x_{neighbor}$).\n",
    "  \n",
    "    Taking the example of message passing above, for a central node $u$ we will aggregate and transform all of the messages associated with the nodes $v$ s.t. $(u, v) \\in {E}$ (i.e. $v \\in \\mathscr{N}_{u}$). Thus we see, the subscripts `_i` and `_j` allow us to specifcally differenciate features associated with central nodes (i.e. nodes  recieving message information) and neighboring nodes (i.e. nodes passing messages).\n",
    "\n",
    "    This is definitely a somewhat confusing concept; however, one key thing to remember / wrap your head around is that depending on the perspective, a node $x$ acts as a central node or a neighboring node. In fact, in undirected graphs we store both edge directions (i.e. $(i, j)$ and $(j, i)$). From the central node perspective, `x_i`, x is collecting neighboring information to update its embedding. From a neighboring node perspective, `x_j`, x is passing its message information along the edge connecting it to a different central node.\n",
    "\n",
    "  - `extra=(extra_i, extra_j)` represents additional information that we can associate with each node beyond its current feature embedding. In fact, we can include as many additional parameters of the form `param=(param_i, param_j)` as we would like. Again, we highlight that indexing with `_i` and `_j` allows us to differentiate central and neighboring nodes.\n",
    "\n",
    "  The output of the `propagate` function is a matrix of node embeddings after the message passing process and has shape $[N, d]$.\n",
    "\n",
    "2.\n",
    "```\n",
    "def message(x_j, ...):\n",
    "```\n",
    "The `message` function is called by propagate and constructs the messages from\n",
    "neighboring nodes $j$ to central nodes $i$ for each edge $(i, j)$ in *edge_index*. This function can take any argument that was initially passed to `propagate`. Furthermore, we can again differentiate central nodes and neighboring nodes by appending `_i` or `_j` to the variable name, .e.g. `x_i` and `x_j`. Looking more specifically at the variables, we have:\n",
    "\n",
    "  - `x_j` represents a matrix of feature embeddings for all neighboring nodes passing their messages along their respective edge (i.e. all nodes $j$ for edges $(i, j) \\in {E}$). Thus, its shape is $[|{E}|, d]$!\n",
    "\n",
    "  Critically, we see that the output of the `message` function is a matrix of neighboring node embeddings ready to be aggregated, having shape $[|{E}|, d]$.\n",
    "\n",
    "3.\n",
    "```\n",
    "def aggregate(self, inputs, index, dim_size = None):\n",
    "```\n",
    "Lastly, the `aggregate` function is used to aggregate the messages from neighboring nodes. Looking at the parameters we highlight:\n",
    "\n",
    "  - `inputs` represents a matrix of the messages passed from neighboring nodes (i.e. the output of the `message` function).\n",
    "  - `index` has the same shape as `inputs` and tells us the central node that corresponds to each of the rows / messages $j$ in the `inputs` matrix. Thus, `index` tells us which rows / messages to aggregate for each central node.\n",
    "\n",
    "  The output of `aggregate` is of shape $[N, d]$.\n",
    "\n",
    "\n",
    "For additional resources refer to the PyG documentation for implementing custom message passing layers: https://pytorch-geometric.readthedocs.io/en/latest/notes/create_gnn.html"
   ]
  },
  {
   "cell_type": "markdown",
   "metadata": {
    "id": "syDtxjxoCZgq"
   },
   "source": [
    "# Question 1: GraphSage Implementation (8 points)\n",
    "\n",
    "For our first GNN layer, we will implement the well known GraphSage ([Hamilton et al. (2017)](https://arxiv.org/abs/1706.02216)) layer!\n",
    "\n",
    "For a given *central* node $v$ with current embedding $h_v^{l-1}$, the message passing update rule to tranform $h_v^{l-1} \\rightarrow h_v^l$ is as follows:\n",
    "\n",
    "\\begin{equation}\n",
    "h_v^{(l)} = W_l\\times h_v^{(l-1)} + W_r \\times AGG(\\{h_u^{(l-1)}, \\forall u \\in N(v) \\})\n",
    "\\end{equation}\n",
    "\n",
    "where $W_1$ and $W_2$ are learanble weight matrices and the nodes $u$ are *neighboring* nodes. Additionally, we use mean aggregation for simplicity:\n",
    "\n",
    "\\begin{equation}\n",
    "AGG(\\{h_u^{(l-1)}, \\forall u \\in N(v) \\}) = \\frac{1}{|N(v)|} \\sum_{u\\in N(v)} h_u^{(l-1)}\n",
    "\\end{equation}\n",
    "\n",
    "One thing to note is that we're adding a **skip connection** to our GraphSage implementation through the term $W_l\\times h_v^{(l-1)}$.\n",
    "\n",
    "Before implementing this update rule, we encourage you to think about how different parts of the formulas above correspond with the functions outlined earlier: 1) `forward`, 2) `message`, and 3) `aggregate`. As a hint, we are given what the aggregation function is (i.e. mean aggregation)! Now the question remains, what are the messages passed by each neighbor nodes and when do we call the `propagate` function?\n",
    "\n",
    "Note: in this case the message function or messages are actually quite simple. Additionally, remember that the `propagate` function encapsulates the operations of / the outputs of the combined `message` and `aggregate` functions.\n",
    "\n",
    "\n",
    "Lastly, $\\ell$-2 normalization of the node embeddings is applied after each iteration.\n",
    "\n",
    "\n",
    "<font color='red'>For the following questions, DON'T refer to any existing implementations online.</font>"
   ]
  },
  {
   "cell_type": "code",
   "execution_count": 8,
   "metadata": {
    "deletable": false,
    "id": "RwG4HqCFCaOD",
    "nbgrader": {
     "cell_type": "code",
     "checksum": "c741e07fb608841bd61be1d098473bea",
     "grade": true,
     "grade_id": "q1",
     "locked": false,
     "points": 8,
     "schema_version": 3,
     "solution": true,
     "task": false
    }
   },
   "outputs": [],
   "source": [
    "class GraphSage(MessagePassing):\n",
    "\n",
    "    def __init__(self, in_channels, out_channels, normalize = True,\n",
    "                 bias = True, **kwargs):\n",
    "        super(GraphSage, self).__init__(**kwargs)\n",
    "\n",
    "        self.in_channels = in_channels\n",
    "        self.out_channels = out_channels\n",
    "        self.normalize = normalize\n",
    "\n",
    "        self.lin_l = None\n",
    "        self.lin_r = None\n",
    "\n",
    "        ############################################################################\n",
    "        # TODO: Your code here!\n",
    "        # Define the (PyTorch) layers needed for the message and update functions below.\n",
    "        # self.lin_l is the linear transformation that you apply to embedding\n",
    "        #            for central node.\n",
    "        # self.lin_r is the linear transformation that you apply to aggregated\n",
    "        #            message from neighbors.\n",
    "        # Don't forget the bias as part of the linear layers!\n",
    "        # Our implementation is ~2 lines, but don't worry if you deviate from this.\n",
    "        # YOUR CODE HERE\n",
    "\n",
    "        self.lin_l = torch.nn.Linear(in_channels, out_channels, bias=bias)\n",
    "        self.lin_r = torch.nn.Linear(in_channels, out_channels, bias=bias)\n",
    "        \n",
    "        ############################################################################\n",
    "\n",
    "        self.reset_parameters()\n",
    "\n",
    "    def reset_parameters(self):\n",
    "        self.lin_l.reset_parameters()\n",
    "        self.lin_r.reset_parameters()\n",
    "\n",
    "    def forward(self, x, edge_index, size = None):\n",
    "        \"\"\"\"\"\"\n",
    "\n",
    "        out = None\n",
    "\n",
    "        ############################################################################\n",
    "        # TODO: Your code here!\n",
    "        # Implement message passing, as well as any post-processing (our update rule).\n",
    "        # 1. Call the propagate function to conduct the message passing.\n",
    "        #    1.1 See the description of propagate above or the following link for more information:\n",
    "        #        https://pytorch-geometric.readthedocs.io/en/latest/notes/create_gnn.html\n",
    "        #    1.2 We will only use the representation for neighbor nodes (x_j), so by default\n",
    "        #        we pass the same representation for central and neighbor nodes as x=(x, x).\n",
    "        # 2. Update our node embedding with skip connection from the previous layer.\n",
    "        # 3. If normalize is set, do L-2 normalization (defined in\n",
    "        #    torch.nn.functional)\n",
    "        #\n",
    "        # Our implementation is ~4-5 lines, but don't worry if you deviate from this.\n",
    "        # YOUR CODE HERE\n",
    "        \n",
    "        out = self.propagate(edge_index, x=(x, x), size=size)\n",
    "        out = self.lin_l(x) + self.lin_r(out)\n",
    "\n",
    "        if self.normalize:\n",
    "            out = F.normalize(out, p=2, dim=-1)\n",
    "        ############################################################################\n",
    "\n",
    "        return out\n",
    "\n",
    "    def message(self, x_j):\n",
    "\n",
    "        out = None\n",
    "\n",
    "        ############################################################################\n",
    "        # TODO: Your code here!\n",
    "        # Implement your message function here.\n",
    "        # Hint: Look at the formulation of the mean aggregation function, focusing on\n",
    "        # what message each neighboring node passes.\n",
    "        #\n",
    "        # Our implementation is ~1 lines, but don't worry if you deviate from this.\n",
    "        # YOUR CODE HERE\n",
    "        \n",
    "        out = x_j\n",
    "        ############################################################################\n",
    "\n",
    "        return out\n",
    "\n",
    "    def aggregate(self, inputs, index, dim_size = None):\n",
    "\n",
    "        out = None\n",
    "\n",
    "        # The axis along which to index number of nodes.\n",
    "        node_dim = self.node_dim\n",
    "\n",
    "        ############################################################################\n",
    "        # TODO: Your code here!\n",
    "        # Implement your aggregate function here.\n",
    "        # See here as how to use torch_scatter.scatter:\n",
    "        # https://pytorch-scatter.readthedocs.io/en/latest/functions/scatter.html#torch_scatter.scatter\n",
    "        #\n",
    "        # Our implementation is ~1 lines, but don't worry if you deviate from this.\n",
    "        # YOUR CODE HERE\n",
    "        \n",
    "        out = scatter(inputs, index, dim=0, dim_size=dim_size, reduce=\"mean\") \n",
    "        ############################################################################\n",
    "\n",
    "        return out\n"
   ]
  },
  {
   "cell_type": "markdown",
   "metadata": {
    "id": "Iemrwe5J61GV"
   },
   "source": [
    "# Question 2: Regarding `x_j`, answer the questions below. (4 points)\n",
    "\n",
    "1. How to interpret `x_j` in `message`?\n",
    "2. What is the shape of `x_j` (in general, don't answer with specific numbers)?"
   ]
  },
  {
   "cell_type": "markdown",
   "metadata": {
    "deletable": false,
    "id": "xl8IZneu8UbF",
    "nbgrader": {
     "cell_type": "markdown",
     "checksum": "55cd7e5440576072354fa134a3a157dd",
     "grade": true,
     "grade_id": "q2",
     "locked": false,
     "points": 4,
     "schema_version": 3,
     "solution": true,
     "task": false
    }
   },
   "source": [
    "YOUR ANSWER HERE\n",
    "\n",
    "1. x_j represents the feature embeddings of neighbor nodes that send messages to a central node during message passing. When the propagate function is called, it separates the features into two groups: x_i for the central nodes and x_j for their neighbors. Since mean aggregation is used, the message function simply returns x_j, meaning each neighbor contributes its embedding to be averaged.\n",
    "\n",
    "2. The shape of x_j is num_edges, in_channels. "
   ]
  },
  {
   "cell_type": "markdown",
   "metadata": {
    "id": "mlhgVN3E9Mhr"
   },
   "source": [
    "# Question 3: Regarding `aggregate`, answer the questions below. (8 points)\n",
    "\n",
    "1. How to interpret `inputs` in `aggregate`?\n",
    "2. What is the shape of `inputs` (in general, don't answer with specific numbers)?\n",
    "3. Why do we need `index` in `aggregate`?\n",
    "4. What is the shape of `index` (in general)?\n"
   ]
  },
  {
   "cell_type": "markdown",
   "metadata": {
    "deletable": false,
    "id": "5sbbvibC95xm",
    "nbgrader": {
     "cell_type": "markdown",
     "checksum": "8eafc255c2f62cf42fe923681ff81e90",
     "grade": true,
     "grade_id": "q3",
     "locked": false,
     "points": 8,
     "schema_version": 3,
     "solution": true,
     "task": false
    }
   },
   "source": [
    "YOUR ANSWER HERE\n",
    "\n",
    "1. inputs are the messages sent by neighbor nodes to be combined. Each message is a feature embedding of a neighbor, and the aggregate function merges them into a single vector representing the central node.\n",
    "\n",
    "2. The shape of inputs is (num_edges, in_channels), where num_edges is the total number of edges in the graph, and in_channels is the number of features each node has.\n",
    "\n",
    "3. index helps determine which central node each message belongs to. Since multiple neighbors send messages to the same node, index organizes these messages so they can be correctly combined using averaging.\n",
    "\n",
    "4. The shape of index is (num_edges,), meaning it is a one dim list where each value represents the central node receiving a message from a neighbor."
   ]
  },
  {
   "cell_type": "markdown",
   "metadata": {
    "id": "U1_21Pe0_epG"
   },
   "source": [
    "# [ISU Only] Question 4: Simplifying the code. (8 points)\n",
    "\n",
    "To answer the questions below, copy your code above and try the suggested modifications.\n",
    "\n",
    "1. Do we really need to pass `x=(x,x)` to propagate? Isn't it sufficient to use just the source node features `x=x`?\n",
    "2. When inheriting from `MessagePassing`, you can specify the aggregation scheme to use [see doc](https://pytorch-geometric.readthedocs.io/en/latest/notes/create_gnn.html). Modify the `__init__` to use \"sum\".\n",
    "3. For the implementation to be equivalent to the one before, you will need to modify `message` so as to normalize by the degree of the target node. Your task is very similar (but simpler) to that of implementing the GCN layer using the MessagePassing framework [see doc](https://pytorch-geometric.readthedocs.io/en/latest/notes/create_gnn.html#implementing-the-gcn-layer)."
   ]
  },
  {
   "cell_type": "code",
   "execution_count": null,
   "metadata": {
    "deletable": false,
    "id": "B_ak65_4EDDC",
    "nbgrader": {
     "cell_type": "code",
     "checksum": "99aadd6a61efdf9ac89c368bf5655d5f",
     "grade": true,
     "grade_id": "q4",
     "locked": false,
     "points": 8,
     "schema_version": 3,
     "solution": true,
     "task": false
    }
   },
   "outputs": [],
   "source": [
    "class GraphSage(MessagePassing):\n",
    "# YOUR CODE HERE\n",
    "raise NotImplementedError()"
   ]
  },
  {
   "cell_type": "markdown",
   "metadata": {
    "id": "V2dkgSuWCheU"
   },
   "source": [
    "## Building Optimizers\n",
    "\n",
    "This function has been implemented for you. **For grading purposes please use the default Adam optimizer**, but feel free to play with other types of optimizers on your own."
   ]
  },
  {
   "cell_type": "code",
   "execution_count": 9,
   "metadata": {
    "id": "f_TIQ8NPCjBP"
   },
   "outputs": [],
   "source": [
    "import torch.optim as optim\n",
    "\n",
    "def build_optimizer(args, params):\n",
    "    weight_decay = args.weight_decay\n",
    "    filter_fn = filter(lambda p : p.requires_grad, params)\n",
    "    if args.opt == 'adam':\n",
    "        optimizer = optim.Adam(filter_fn, lr=args.lr, weight_decay=weight_decay)\n",
    "    elif args.opt == 'sgd':\n",
    "        optimizer = optim.SGD(filter_fn, lr=args.lr, momentum=0.95, weight_decay=weight_decay)\n",
    "    elif args.opt == 'rmsprop':\n",
    "        optimizer = optim.RMSprop(filter_fn, lr=args.lr, weight_decay=weight_decay)\n",
    "    elif args.opt == 'adagrad':\n",
    "        optimizer = optim.Adagrad(filter_fn, lr=args.lr, weight_decay=weight_decay)\n",
    "    if args.opt_scheduler == 'none':\n",
    "        return None, optimizer\n",
    "    elif args.opt_scheduler == 'step':\n",
    "        scheduler = optim.lr_scheduler.StepLR(optimizer, step_size=args.opt_decay_step, gamma=args.opt_decay_rate)\n",
    "    elif args.opt_scheduler == 'cos':\n",
    "        scheduler = optim.lr_scheduler.CosineAnnealingLR(optimizer, T_max=args.opt_restart)\n",
    "    return scheduler, optimizer"
   ]
  },
  {
   "cell_type": "markdown",
   "metadata": {
    "id": "hBYdWFwYCkwY"
   },
   "source": [
    "## Training and Testing\n",
    "\n",
    "Here we provide you with the functions to train and test. **Please do not modify this part for grading purposes.**"
   ]
  },
  {
   "cell_type": "code",
   "execution_count": 10,
   "metadata": {
    "id": "_tZMWRc8CmGg"
   },
   "outputs": [],
   "source": [
    "import time\n",
    "\n",
    "import networkx as nx\n",
    "import numpy as np\n",
    "import torch\n",
    "import torch.optim as optim\n",
    "from tqdm import trange\n",
    "import pandas as pd\n",
    "import copy\n",
    "\n",
    "from torch_geometric.datasets import TUDataset\n",
    "from torch_geometric.datasets import Planetoid\n",
    "from torch_geometric.data import DataLoader\n",
    "\n",
    "import torch_geometric.nn as pyg_nn\n",
    "\n",
    "import matplotlib.pyplot as plt\n",
    "\n",
    "\n",
    "def train(dataset, args):\n",
    "\n",
    "    print(\"Node task. test set size:\", np.sum(dataset[0]['test_mask'].numpy()))\n",
    "    print()\n",
    "    test_loader = loader = DataLoader(dataset, batch_size=args.batch_size, shuffle=False)\n",
    "\n",
    "    # build model\n",
    "    model = GNNStack(dataset.num_node_features, args.hidden_dim, dataset.num_classes,\n",
    "                            args)\n",
    "    scheduler, opt = build_optimizer(args, model.parameters())\n",
    "\n",
    "    # train\n",
    "    losses = []\n",
    "    test_accs = []\n",
    "    best_acc = 0\n",
    "    best_model = None\n",
    "    for epoch in trange(args.epochs, desc=\"Training\", unit=\"Epochs\"):\n",
    "        total_loss = 0\n",
    "        model.train()\n",
    "        for batch in loader:\n",
    "            opt.zero_grad()\n",
    "            pred = model(batch)\n",
    "            label = batch.y\n",
    "            pred = pred[batch.train_mask]\n",
    "            label = label[batch.train_mask]\n",
    "            loss = model.loss(pred, label)\n",
    "            loss.backward()\n",
    "            opt.step()\n",
    "            total_loss += loss.item() * batch.num_graphs\n",
    "        total_loss /= len(loader.dataset)\n",
    "        losses.append(total_loss)\n",
    "\n",
    "        if epoch % 10 == 0:\n",
    "          test_acc = test(test_loader, model)\n",
    "          test_accs.append(test_acc)\n",
    "          if test_acc > best_acc:\n",
    "            best_acc = test_acc\n",
    "            best_model = copy.deepcopy(model)\n",
    "        else:\n",
    "          test_accs.append(test_accs[-1])\n",
    "\n",
    "    return test_accs, losses, best_model, best_acc, test_loader\n",
    "\n",
    "def test(loader, test_model, is_validation=False, save_model_preds=False, model_type=None):\n",
    "    test_model.eval()\n",
    "\n",
    "    correct = 0\n",
    "    # Note that Cora is only one graph!\n",
    "    for data in loader:\n",
    "        with torch.no_grad():\n",
    "            # max(dim=1) returns values, indices tuple; only need indices\n",
    "            pred = test_model(data).max(dim=1)[1]\n",
    "            label = data.y\n",
    "\n",
    "        mask = data.val_mask if is_validation else data.test_mask\n",
    "        # node classification: only evaluate on nodes in test set\n",
    "        pred = pred[mask]\n",
    "        label = label[mask]\n",
    "\n",
    "        if save_model_preds:\n",
    "          print (\"Saving Model Predictions for Model Type\", model_type)\n",
    "\n",
    "          data = {}\n",
    "          data['pred'] = pred.view(-1).cpu().detach().numpy()\n",
    "          data['label'] = label.view(-1).cpu().detach().numpy()\n",
    "\n",
    "          df = pd.DataFrame(data=data)\n",
    "          # Save locally as csv\n",
    "          df.to_csv('CORA-Node-' + model_type + '.csv', sep=',', index=False)\n",
    "\n",
    "        correct += pred.eq(label).sum().item()\n",
    "\n",
    "    total = 0\n",
    "    for data in loader.dataset:\n",
    "        total += torch.sum(data.val_mask if is_validation else data.test_mask).item()\n",
    "\n",
    "    return correct / total\n",
    "\n",
    "class objectview(object):\n",
    "    def __init__(self, d):\n",
    "        self.__dict__ = d\n"
   ]
  },
  {
   "cell_type": "markdown",
   "metadata": {
    "id": "Tc8X-QtRPo3d"
   },
   "source": [
    "# Question 5: Understanding training and evaluation. (6 points)\n",
    "\n",
    "1. Which learning paradigm is being used for training the GNN: supervised or unsupervised learning? Explain your answer (~2 sentences; 3 points).\n",
    "\n",
    "2. Explain this line in function `eval`. Why do we need `item()`? (2-3 sentences; 3 points)\n",
    "```\n",
    "correct += pred.eq(label).sum().item()\n",
    "```\n"
   ]
  },
  {
   "cell_type": "markdown",
   "metadata": {
    "deletable": false,
    "id": "xm6FFZfSS17x",
    "nbgrader": {
     "cell_type": "markdown",
     "checksum": "560cc257fe251396b254c1d7bf506f96",
     "grade": true,
     "grade_id": "q5",
     "locked": false,
     "points": 6,
     "schema_version": 3,
     "solution": true,
     "task": false
    }
   },
   "source": [
    "YOUR ANSWER HERE\n",
    "\n",
    "1. The model is trained using supervised learning because it learns from labeled data. It makes predictions and compares them with real labels (batch.y) to calculate the loss.\n",
    "\n",
    "2.  This line counts how many predictions are correct. eq(label) function checks which predictions match like a if else function. For sum() function we adding them up. item() is just makes sure we adding a simple number instead of a tensor which help prevent complicate such as adding nested vector."
   ]
  },
  {
   "cell_type": "markdown",
   "metadata": {
    "id": "laTCXhR7J4Cz"
   },
   "source": [
    "# Question 6: Train/Validation/Test splits. (6 points)\n",
    "\n",
    "1. If both `test_loader` and `loader` point to the entire data, how does it distinguish `test`, `validation` and `train` sets? (~2 sentences; 3 points)\n",
    "\n",
    "See the line:\n",
    "```\n",
    "test_loader = loader = DataLoader(dataset, batch_size=args.batch_size, shuffle=False)\n",
    "```\n",
    "\n",
    "2. Does the code above implement the transductive or the inductive setting? Explain your answer (2-3 sentences; 3 points)"
   ]
  },
  {
   "cell_type": "markdown",
   "metadata": {
    "deletable": false,
    "id": "32h3CYpfKmw4",
    "nbgrader": {
     "cell_type": "markdown",
     "checksum": "2d8c6ed040ea0cfeba17fa07e4dfd635",
     "grade": true,
     "grade_id": "q6",
     "locked": false,
     "points": 6,
     "schema_version": 3,
     "solution": true,
     "task": false
    }
   },
   "source": [
    "YOUR ANSWER HERE\n",
    "\n",
    "1. The code separates train, validation, and test sets using masks (train_mask, val_mask, test_mask). Even though test_loader and loader load the whole dataset, the model only trains on nodes where train_mask is True, and it checks accuracy using val_mask or test_mask for validation and testing.\n",
    "\n",
    "2. This code uses the transductive setting because the model is trained and tested on the same graph. It learns using the full graph structure, including nodes that don’t have labels."
   ]
  },
  {
   "cell_type": "markdown",
   "metadata": {
    "id": "3yzjzK_GK6bX"
   },
   "source": [
    "# [ISU ONLY] Question 7: What is inside a batch in `for batch in loader:`? Is it the entire CORA or just a subset of nodes? (1 sentence; 2 points)"
   ]
  },
  {
   "cell_type": "markdown",
   "metadata": {
    "deletable": false,
    "id": "w97_4DTbUGeS",
    "nbgrader": {
     "cell_type": "markdown",
     "checksum": "7dd668af8d18205bd5188dc8825fbc02",
     "grade": true,
     "grade_id": "q7",
     "locked": false,
     "points": 2,
     "schema_version": 3,
     "solution": true,
     "task": false
    }
   },
   "source": [
    "YOUR ANSWER HERE"
   ]
  },
  {
   "cell_type": "markdown",
   "metadata": {
    "id": "Hfuv4xmuMyMi"
   },
   "source": [
    "# [ISU ONLY] Question 8: Is the validation set being used? Explain for which purpose you could use the validation set and how you would change the code in function `train`. (3-4 sentences; 6 points)"
   ]
  },
  {
   "cell_type": "markdown",
   "metadata": {
    "deletable": false,
    "id": "31TChSuONMvs",
    "nbgrader": {
     "cell_type": "markdown",
     "checksum": "e4ed81e4e660bd81d5b04dacd41e259a",
     "grade": true,
     "grade_id": "q8",
     "locked": false,
     "points": 6,
     "schema_version": 3,
     "solution": true,
     "task": false
    }
   },
   "source": [
    "YOUR ANSWER HERE"
   ]
  },
  {
   "cell_type": "markdown",
   "metadata": {
    "id": "L7-h7jIsCns4"
   },
   "source": [
    "## Let's Start the Training!\n",
    "\n",
    "We will be working on the CORA dataset on node-level classification.\n",
    "\n",
    "This part is implemented for you. **For grading purposes, please do not modify the default parameters.** However, feel free to play with different configurations just for fun!\n",
    "\n",
    "**Submit your best accuracy and loss on Gradescope.**"
   ]
  },
  {
   "cell_type": "code",
   "execution_count": null,
   "metadata": {
    "colab": {
     "base_uri": "https://localhost:8080/",
     "height": 588
    },
    "id": "qe9B45l9Cpz2",
    "outputId": "f537cbbe-3ed4-4935-adf1-c824396126e7"
   },
   "outputs": [
    {
     "name": "stderr",
     "output_type": "stream",
     "text": [
      "c:\\Study\\Graph ML\\GraphML\\graphmlvenv\\Lib\\site-packages\\torch_geometric\\deprecation.py:26: UserWarning: 'data.DataLoader' is deprecated, use 'loader.DataLoader' instead\n",
      "  warnings.warn(out)\n"
     ]
    },
    {
     "name": "stdout",
     "output_type": "stream",
     "text": [
      "Node task. test set size: 1000\n",
      "\n"
     ]
    },
    {
     "name": "stderr",
     "output_type": "stream",
     "text": [
      "Training: 100%|██████████| 500/500 [00:23<00:00, 21.09Epochs/s]\n"
     ]
    },
    {
     "name": "stdout",
     "output_type": "stream",
     "text": [
      "Maximum test set accuracy: 0.689\n",
      "Minimum loss: 0.17649345099925995\n",
      "Saving Model Predictions for Model Type GraphSage\n",
      "\n"
     ]
    },
    {
     "data": {
      "image/png": "[encoded data removed]",
      "text/plain": [
       "<Figure size 640x480 with 1 Axes>"
      ]
     },
     "metadata": {},
     "output_type": "display_data"
    }
   ],
   "source": [
    "if 'IS_GRADESCOPE_ENV' not in os.environ:\n",
    "    for args in [\n",
    "        {'model_type': 'GraphSage', 'dataset': 'cora', 'num_layers': 2, 'batch_size': 32, 'hidden_dim': 32, 'dropout': 0.5, 'epochs': 500, 'opt': 'adam', 'opt_scheduler': 'none', 'opt_restart': 0, 'weight_decay': 5e-3, 'lr': 0.005},\n",
    "    ]:\n",
    "        args = objectview(args)\n",
    "        for model in ['GraphSage']:\n",
    "            args.model_type = model\n",
    "\n",
    "\n",
    "            if args.dataset == 'cora':\n",
    "                dataset = Planetoid(root='/tmp/cora', name='Cora')\n",
    "            else:\n",
    "                raise NotImplementedError(\"Unknown dataset\")\n",
    "            test_accs, losses, best_model, best_acc, test_loader = train(dataset, args)\n",
    "\n",
    "            print(\"Maximum test set accuracy: {0}\".format(max(test_accs)))\n",
    "            print(\"Minimum loss: {0}\".format(min(losses)))\n",
    "\n",
    "            # Run test for our best model to save the predictions!\n",
    "            test(test_loader, best_model, is_validation=False, save_model_preds=True, model_type=model)\n",
    "            print()\n",
    "\n",
    "            plt.title(dataset.name)\n",
    "            plt.plot(losses, label=\"training loss\" + \" - \" + args.model_type)\n",
    "            plt.plot(test_accs, label=\"test accuracy\" + \" - \" + args.model_type)\n",
    "        plt.legend()\n",
    "        plt.show()\n"
   ]
  },
  {
   "cell_type": "markdown",
   "metadata": {
    "id": "kxBc9CGjYijV"
   },
   "source": [
    "# [OPTIONAL CHALLENGE] Question 9: What is the maximum accuracy obtained on the test set for GraphSage? (the FABULOUS prize)\n",
    "\n",
    "Running the cell above will show the results of your best model and save your best model's predictions to a file named *CORA-Node-GraphSage.csv*.\n",
    "\n",
    "As we have seen before you can view this file by clicking on the *Folder* icon on the left side pannel. When you sumbit your assignment, you will have to download this file and attatch it to your submission. Please submit BOTH the ipynb file and the csv file, named as *CS4099_Colab_4.ipynb* and *CORA-Node-GraphSage.csv*.\n",
    "\n",
    "In this question, you are challenged to change the GNN architecture however you like in order to squeeze the best performance possible on the test data set. You are limited to use ONLY layers that we have discussed in class. You must be able to explain what you did.\n",
    "\n",
    "ATTENTION: To participate in this challenge, you must submit your solutions by 3:30 PM ET Thursday March 6, so that the winner can be revealed in our last lecture!\n",
    "\n",
    "\n"
   ]
  },
  {
   "cell_type": "code",
   "execution_count": 12,
   "metadata": {
    "deletable": false,
    "id": "-WFy73d_XGV4",
    "nbgrader": {
     "cell_type": "code",
     "checksum": "91f9c142731afa810b49d410187e3c71",
     "grade": true,
     "grade_id": "q9",
     "locked": false,
     "points": 0,
     "schema_version": 3,
     "solution": true,
     "task": false
    }
   },
   "outputs": [
    {
     "data": {
      "image/png": "[encoded data removed]",
      "text/plain": [
       "<Figure size 1000x800 with 1 Axes>"
      ]
     },
     "metadata": {},
     "output_type": "display_data"
    }
   ],
   "source": [
    "# Step 1: EDA Dataset\n",
    "\n",
    "# 1: Visualize the graph\n",
    "import networkx as nx\n",
    "import matplotlib.pyplot as plt\n",
    "from torch_geometric.utils import to_networkx\n",
    "\n",
    "dataset = Planetoid(root='/tmp/cora', name='Cora')\n",
    "data = dataset[0]  \n",
    "\n",
    "G = to_networkx(data, to_undirected=True)\n",
    "\n",
    "plt.figure(figsize=(10, 8))\n",
    "nx.draw(G, node_size=10, alpha=0.6, edge_color=\"gray\")\n",
    "plt.title(\"Cora Citation Network\")\n",
    "plt.show()\n"
   ]
  },
  {
   "cell_type": "code",
   "execution_count": 13,
   "metadata": {},
   "outputs": [
    {
     "name": "stdout",
     "output_type": "stream",
     "text": [
      "Total nodes in graph: 2708\n",
      "Nodes in largest component: 2485\n",
      "Outlier nodes: 223\n"
     ]
    }
   ],
   "source": [
    "# 2. Large connected component\n",
    "\n",
    "# Find all connected components\n",
    "components = list(nx.connected_components(G))\n",
    "\n",
    "# Identify the largest component\n",
    "largest_component = max(components, key=len)\n",
    "largest_component_nodes = set(largest_component)\n",
    "\n",
    "# Identify outlier nodes (nodes not in the largest component)\n",
    "outliers = [node for component in components if component != largest_component for node in component]\n",
    "\n",
    "print(f\"Total nodes in graph: {G.number_of_nodes()}\")\n",
    "print(f\"Nodes in largest component: {len(largest_component_nodes)}\")\n",
    "print(f\"Outlier nodes: {len(outliers)}\")"
   ]
  },
  {
   "cell_type": "code",
   "execution_count": 14,
   "metadata": {},
   "outputs": [
    {
     "data": {
      "image/png": "[encoded data removed]",
      "text/plain": [
       "<Figure size 800x500 with 1 Axes>"
      ]
     },
     "metadata": {},
     "output_type": "display_data"
    }
   ],
   "source": [
    "# 3. Node degree distribution\n",
    "\n",
    "degrees = [val for (node, val) in G.degree()]\n",
    "plt.figure(figsize=(8, 5))\n",
    "plt.hist(degrees, bins=30, color='blue', alpha=0.7)\n",
    "plt.xlabel(\"Node Degree\")\n",
    "plt.ylabel(\"Frequency\")\n",
    "plt.title(\"Degree Distribution of Cora Graph\")\n",
    "plt.show()\n"
   ]
  },
  {
   "cell_type": "markdown",
   "metadata": {},
   "source": [
    "### The plots above shows that nodes have very low degree and just only few nodes have high degree => Non-normality. \n",
    "### This is explainable since there in research paper lots of paper will have just 1-2 citations where the \"revolutionize\" research such as GPT model tend to have lots of citations.\n",
    "###     => For this dataset, we can see hubs nodes is very important since it help model generalization, aggregate information and message passing. However it may also cause to overfit if few high degree nodes dominate. Next, nodes with few neighbor have limited information flow. "
   ]
  },
  {
   "cell_type": "code",
   "execution_count": 23,
   "metadata": {},
   "outputs": [],
   "source": [
    "import torch\n",
    "import torch_scatter\n",
    "import torch.nn as nn\n",
    "import torch.nn.functional as F\n",
    "\n",
    "import torch_geometric.nn as pyg_nn\n",
    "import torch_geometric.utils as pyg_utils\n",
    "\n",
    "from torch import Tensor\n",
    "from typing import Union, Tuple, Optional\n",
    "from torch_geometric.typing import (OptPairTensor, Adj, Size, NoneType,\n",
    "                                    OptTensor)\n",
    "\n",
    "from torch.nn import Parameter, Linear\n",
    "from torch_sparse import SparseTensor, set_diag\n",
    "from torch_geometric.nn.conv import MessagePassing\n",
    "from torch_geometric.utils import remove_self_loops, add_self_loops, softmax, degree\n",
    "\n",
    "\n",
    "class GNNStack(torch.nn.Module):\n",
    "    def __init__(self, input_dim, hidden_dim, output_dim, args, emb=False):\n",
    "        super(GNNStack, self).__init__()\n",
    "        conv_model = self.build_conv_model(args.model_type)\n",
    "        self.convs = nn.ModuleList()\n",
    "        self.batch_norms = nn.ModuleList() \n",
    "\n",
    "        self.convs.append(conv_model(input_dim, hidden_dim))\n",
    "        self.batch_norms.append(nn.BatchNorm1d(hidden_dim))\n",
    "\n",
    "        \n",
    "        assert (args.num_layers >= 1), 'Number of layers is not >=1'\n",
    "        for l in range(args.num_layers-1):\n",
    "            self.convs.append(conv_model(hidden_dim, hidden_dim))\n",
    "            self.batch_norms.append(nn.BatchNorm1d(hidden_dim))\n",
    "\n",
    "\n",
    "        # post-message-passing\n",
    "        self.post_mp = nn.Sequential(\n",
    "            nn.Linear(hidden_dim, hidden_dim), nn.Dropout(args.dropout),\n",
    "            nn.Linear(hidden_dim, output_dim))\n",
    "\n",
    "        self.dropout = args.dropout\n",
    "        self.num_layers = args.num_layers\n",
    "\n",
    "        self.emb = emb\n",
    "\n",
    "    def build_conv_model(self, model_type):\n",
    "        if model_type == 'GraphSage':\n",
    "            return GraphSage\n",
    "\n",
    "    def forward(self, data):\n",
    "        x, edge_index, batch = data.x, data.edge_index, data.batch\n",
    "\n",
    "        for i in range(self.num_layers):\n",
    "            x = self.convs[i](x, edge_index)\n",
    "            x = self.batch_norms[i](x)  # Apply BatchNorm\n",
    "\n",
    "            x = F.relu(x)\n",
    "            x = F.dropout(x, p=self.dropout,training=self.training)\n",
    "\n",
    "        x = self.post_mp(x)\n",
    "\n",
    "        if self.emb == True:\n",
    "            return x\n",
    "\n",
    "        return F.log_softmax(x, dim=1)\n",
    "\n",
    "    def loss(self, pred, label):\n",
    "        return F.nll_loss(pred, label)"
   ]
  },
  {
   "cell_type": "code",
   "execution_count": 24,
   "metadata": {},
   "outputs": [],
   "source": [
    "class GraphSage(MessagePassing):\n",
    "\n",
    "    def __init__(self, in_channels, out_channels, normalize = True,\n",
    "                 bias = True, **kwargs):\n",
    "        super(GraphSage, self).__init__(**kwargs)\n",
    "\n",
    "        self.in_channels = in_channels\n",
    "        self.out_channels = out_channels\n",
    "        self.normalize = normalize\n",
    "\n",
    "        self.lin_l = None\n",
    "        self.lin_r = None\n",
    "\n",
    "        ############################################################################\n",
    "        # TODO: Your code here!\n",
    "        # Define the (PyTorch) layers needed for the message and update functions below.\n",
    "        # self.lin_l is the linear transformation that you apply to embedding\n",
    "        #            for central node.\n",
    "        # self.lin_r is the linear transformation that you apply to aggregated\n",
    "        #            message from neighbors.\n",
    "        # Don't forget the bias as part of the linear layers!\n",
    "        # Our implementation is ~2 lines, but don't worry if you deviate from this.\n",
    "        # YOUR CODE HERE\n",
    "\n",
    "        self.lin_l = torch.nn.Linear(in_channels, out_channels, bias=bias)\n",
    "        self.lin_r = torch.nn.Linear(in_channels, out_channels, bias=bias)\n",
    "        \n",
    "        ############################################################################\n",
    "\n",
    "        self.reset_parameters()\n",
    "\n",
    "    def reset_parameters(self):\n",
    "        self.lin_l.reset_parameters()\n",
    "        self.lin_r.reset_parameters()\n",
    "\n",
    "    def forward(self, x, edge_index, size = None):\n",
    "        \"\"\"\"\"\"\n",
    "\n",
    "        out = None\n",
    "\n",
    "        ############################################################################\n",
    "        # TODO: Your code here!\n",
    "        # Implement message passing, as well as any post-processing (our update rule).\n",
    "        # 1. Call the propagate function to conduct the message passing.\n",
    "        #    1.1 See the description of propagate above or the following link for more information:\n",
    "        #        https://pytorch-geometric.readthedocs.io/en/latest/notes/create_gnn.html\n",
    "        #    1.2 We will only use the representation for neighbor nodes (x_j), so by default\n",
    "        #        we pass the same representation for central and neighbor nodes as x=(x, x).\n",
    "        # 2. Update our node embedding with skip connection from the previous layer.\n",
    "        # 3. If normalize is set, do L-2 normalization (defined in\n",
    "        #    torch.nn.functional)\n",
    "        #\n",
    "        # Our implementation is ~4-5 lines, but don't worry if you deviate from this.\n",
    "        # YOUR CODE HERE\n",
    "        \n",
    "        \n",
    "        out = self.propagate(edge_index, x=(x, x), size=size)\n",
    "        out = self.lin_l(x) + self.lin_r(out)\n",
    "\n",
    "        if self.normalize:\n",
    "            out = F.normalize(out, p=2, dim=-1)\n",
    "        ############################################################################\n",
    "\n",
    "        return out\n",
    "\n",
    "    def message(self, x_j):\n",
    "\n",
    "        out = None\n",
    "\n",
    "        ############################################################################\n",
    "        # TODO: Your code here!\n",
    "        # Implement your message function here.\n",
    "        # Hint: Look at the formulation of the mean aggregation function, focusing on\n",
    "        # what message each neighboring node passes.\n",
    "        #\n",
    "        # Our implementation is ~1 lines, but don't worry if you deviate from this.\n",
    "        # YOUR CODE HERE\n",
    "        \n",
    "        out = x_j\n",
    "        ############################################################################\n",
    "\n",
    "        return out\n",
    "\n",
    "    def aggregate(self, inputs, index, dim_size = None):\n",
    "\n",
    "        out = None\n",
    "\n",
    "        # The axis along which to index number of nodes.\n",
    "        node_dim = self.node_dim\n",
    "\n",
    "        ############################################################################\n",
    "        # TODO: Your code here!\n",
    "        # Implement your aggregate function here.\n",
    "        # See here as how to use torch_scatter.scatter:\n",
    "        # https://pytorch-scatter.readthedocs.io/en/latest/functions/scatter.html#torch_scatter.scatter\n",
    "        #\n",
    "        # Our implementation is ~1 lines, but don't worry if you deviate from this.\n",
    "        # YOUR CODE HERE\n",
    "        \n",
    "        out = scatter(inputs, index, dim=0, dim_size=dim_size, reduce=\"max\") \n",
    "        ############################################################################\n",
    "\n",
    "        return out\n"
   ]
  },
  {
   "cell_type": "code",
   "execution_count": 25,
   "metadata": {},
   "outputs": [],
   "source": [
    "import torch.optim as optim\n",
    "\n",
    "def build_optimizer(args, params):\n",
    "    weight_decay = args.weight_decay\n",
    "    filter_fn = filter(lambda p : p.requires_grad, params)\n",
    "    if args.opt == 'adam':\n",
    "        optimizer = optim.Adam(filter_fn, lr=args.lr, weight_decay=weight_decay)\n",
    "    elif args.opt == 'sgd':\n",
    "        optimizer = optim.SGD(filter_fn, lr=args.lr, momentum=0.95, weight_decay=weight_decay)\n",
    "    elif args.opt == 'rmsprop':\n",
    "        optimizer = optim.RMSprop(filter_fn, lr=args.lr, weight_decay=weight_decay)\n",
    "    elif args.opt == 'adagrad':\n",
    "        optimizer = optim.Adagrad(filter_fn, lr=args.lr, weight_decay=weight_decay)\n",
    "    if args.opt_scheduler == 'none':\n",
    "        return None, optimizer\n",
    "    elif args.opt_scheduler == 'step':\n",
    "        scheduler = optim.lr_scheduler.StepLR(optimizer, step_size=args.opt_decay_step, gamma=args.opt_decay_rate)\n",
    "    elif args.opt_scheduler == 'cos':\n",
    "        scheduler = optim.lr_scheduler.CosineAnnealingLR(optimizer, T_max=args.opt_restart)\n",
    "    return scheduler, optimizer"
   ]
  },
  {
   "cell_type": "code",
   "execution_count": 26,
   "metadata": {},
   "outputs": [],
   "source": [
    "import time\n",
    "\n",
    "import networkx as nx\n",
    "import numpy as np\n",
    "import torch\n",
    "import torch.optim as optim\n",
    "from tqdm import trange\n",
    "import pandas as pd\n",
    "import copy\n",
    "\n",
    "from torch_geometric.datasets import TUDataset\n",
    "from torch_geometric.datasets import Planetoid\n",
    "from torch_geometric.data import DataLoader\n",
    "\n",
    "import torch_geometric.nn as pyg_nn\n",
    "\n",
    "import matplotlib.pyplot as plt\n",
    "\n",
    "\n",
    "def train(dataset, args):\n",
    "\n",
    "    print(\"Node task. test set size:\", np.sum(dataset[0]['test_mask'].numpy()))\n",
    "    print()\n",
    "    test_loader = loader = DataLoader(dataset, batch_size=args.batch_size, shuffle=False)\n",
    "\n",
    "    # build model\n",
    "    model = GNNStack(dataset.num_node_features, args.hidden_dim, dataset.num_classes,\n",
    "                            args)\n",
    "    scheduler, opt = build_optimizer(args, model.parameters())\n",
    "\n",
    "    # train\n",
    "    losses = []\n",
    "    test_accs = []\n",
    "    best_acc = 0\n",
    "    best_model = None\n",
    "    for epoch in trange(args.epochs, desc=\"Training\", unit=\"Epochs\"):\n",
    "        total_loss = 0\n",
    "        model.train()\n",
    "        for batch in loader:\n",
    "            opt.zero_grad()\n",
    "            pred = model(batch)\n",
    "            label = batch.y\n",
    "            pred = pred[batch.train_mask]\n",
    "            label = label[batch.train_mask]\n",
    "            loss = model.loss(pred, label)\n",
    "            loss.backward()\n",
    "            opt.step()\n",
    "            total_loss += loss.item() * batch.num_graphs\n",
    "        total_loss /= len(loader.dataset)\n",
    "        losses.append(total_loss)\n",
    "\n",
    "        if epoch % 10 == 0:\n",
    "          test_acc = test(test_loader, model)\n",
    "          test_accs.append(test_acc)\n",
    "          if test_acc > best_acc:\n",
    "            best_acc = test_acc\n",
    "            best_model = copy.deepcopy(model)\n",
    "        else:\n",
    "          test_accs.append(test_accs[-1])\n",
    "\n",
    "    return test_accs, losses, best_model, best_acc, test_loader\n",
    "\n",
    "def test(loader, test_model, is_validation=False, save_model_preds=False, model_type=None):\n",
    "    test_model.eval()\n",
    "\n",
    "    correct = 0\n",
    "    # Note that Cora is only one graph!\n",
    "    for data in loader:\n",
    "        with torch.no_grad():\n",
    "            # max(dim=1) returns values, indices tuple; only need indices\n",
    "            pred = test_model(data).max(dim=1)[1]\n",
    "            label = data.y\n",
    "\n",
    "        mask = data.val_mask if is_validation else data.test_mask\n",
    "        # node classification: only evaluate on nodes in test set\n",
    "        pred = pred[mask]\n",
    "        label = label[mask]\n",
    "\n",
    "        if save_model_preds:\n",
    "          print (\"Saving Model Predictions for Model Type\", model_type)\n",
    "\n",
    "          data = {}\n",
    "          data['pred'] = pred.view(-1).cpu().detach().numpy()\n",
    "          data['label'] = label.view(-1).cpu().detach().numpy()\n",
    "\n",
    "          df = pd.DataFrame(data=data)\n",
    "          # Save locally as csv\n",
    "          df.to_csv('CORA-Node-' + model_type + '.csv', sep=',', index=False)\n",
    "\n",
    "        correct += pred.eq(label).sum().item()\n",
    "\n",
    "    total = 0\n",
    "    for data in loader.dataset:\n",
    "        total += torch.sum(data.val_mask if is_validation else data.test_mask).item()\n",
    "\n",
    "    return correct / total\n",
    "\n",
    "class objectview(object):\n",
    "    def __init__(self, d):\n",
    "        self.__dict__ = d\n"
   ]
  },
  {
   "cell_type": "code",
   "execution_count": 28,
   "metadata": {},
   "outputs": [
    {
     "name": "stdout",
     "output_type": "stream",
     "text": [
      "Node task. test set size: 1000\n",
      "\n"
     ]
    },
    {
     "name": "stderr",
     "output_type": "stream",
     "text": [
      "Training: 100%|██████████| 500/500 [02:12<00:00,  3.76Epochs/s]\n"
     ]
    },
    {
     "name": "stdout",
     "output_type": "stream",
     "text": [
      "Maximum test set accuracy: 0.772\n",
      "Minimum loss: 0.0002651685499586165\n",
      "Saving Model Predictions for Model Type GraphSage\n",
      "\n"
     ]
    },
    {
     "data": {
      "image/png": "[encoded data removed]",
      "text/plain": [
       "<Figure size 640x480 with 1 Axes>"
      ]
     },
     "metadata": {},
     "output_type": "display_data"
    }
   ],
   "source": [
    "if 'IS_GRADESCOPE_ENV' not in os.environ:\n",
    "    for args in [\n",
    "        {'model_type': 'GraphSage', 'dataset': 'cora', 'num_layers': 2, 'batch_size': 128, 'hidden_dim': 128, 'dropout': 0.5, 'epochs': 500, 'opt': 'adam', 'opt_scheduler': 'none', 'opt_restart': 0, 'weight_decay': 5e-4, 'lr': 0.005},\n",
    "    ]:\n",
    "        args = objectview(args)\n",
    "        for model in ['GraphSage']:\n",
    "            args.model_type = model\n",
    "\n",
    "\n",
    "            if args.dataset == 'cora':\n",
    "                dataset = Planetoid(root='/tmp/cora', name='Cora')\n",
    "            else:\n",
    "                raise NotImplementedError(\"Unknown dataset\")\n",
    "            test_accs, losses, best_model, best_acc, test_loader = train(dataset, args)\n",
    "\n",
    "            print(\"Maximum test set accuracy: {0}\".format(max(test_accs)))\n",
    "            print(\"Minimum loss: {0}\".format(min(losses)))\n",
    "\n",
    "            # Run test for our best model to save the predictions!\n",
    "            test(test_loader, best_model, is_validation=False, save_model_preds=True, model_type=model)\n",
    "            print()\n",
    "\n",
    "            plt.title(dataset.name)\n",
    "            plt.plot(losses, label=\"training loss\" + \" - \" + args.model_type)\n",
    "            plt.plot(test_accs, label=\"test accuracy\" + \" - \" + args.model_type)\n",
    "        plt.legend()\n",
    "        plt.show()\n"
   ]
  },
  {
   "cell_type": "code",
   "execution_count": 83,
   "metadata": {},
   "outputs": [
    {
     "name": "stdout",
     "output_type": "stream",
     "text": [
      "Node task. test set size: 1000\n",
      "\n"
     ]
    },
    {
     "name": "stderr",
     "output_type": "stream",
     "text": [
      "Training: 100%|██████████| 300/300 [00:14<00:00, 20.54Epochs/s]\n"
     ]
    },
    {
     "name": "stdout",
     "output_type": "stream",
     "text": [
      "Params: {'num_layers': 2, 'hidden_dim': 32, 'dropout': 0.3, 'epochs': 300, 'lr': 0.005, 'weight_decay': 0.0005, 'batch_size': 128, 'opt': 'adam', 'opt_scheduler': 'none', 'opt_restart': 0, 'model_type': 'GraphSage', 'dataset': 'cora'}\n",
      "Max Test Accuracy: 0.5990\n",
      "Min Loss: 0.0053\n",
      "\n",
      "Node task. test set size: 1000\n",
      "\n"
     ]
    },
    {
     "name": "stderr",
     "output_type": "stream",
     "text": [
      "Training: 100%|██████████| 300/300 [00:13<00:00, 22.33Epochs/s]\n"
     ]
    },
    {
     "name": "stdout",
     "output_type": "stream",
     "text": [
      "Params: {'num_layers': 2, 'hidden_dim': 32, 'dropout': 0.3, 'epochs': 300, 'lr': 0.005, 'weight_decay': 0.001, 'batch_size': 128, 'opt': 'adam', 'opt_scheduler': 'none', 'opt_restart': 0, 'model_type': 'GraphSage', 'dataset': 'cora'}\n",
      "Max Test Accuracy: 0.5430\n",
      "Min Loss: 0.0048\n",
      "\n",
      "Node task. test set size: 1000\n",
      "\n"
     ]
    },
    {
     "name": "stderr",
     "output_type": "stream",
     "text": [
      "Training: 100%|██████████| 300/300 [00:13<00:00, 21.97Epochs/s]\n"
     ]
    },
    {
     "name": "stdout",
     "output_type": "stream",
     "text": [
      "Params: {'num_layers': 2, 'hidden_dim': 32, 'dropout': 0.3, 'epochs': 300, 'lr': 0.01, 'weight_decay': 0.0005, 'batch_size': 128, 'opt': 'adam', 'opt_scheduler': 'none', 'opt_restart': 0, 'model_type': 'GraphSage', 'dataset': 'cora'}\n",
      "Max Test Accuracy: 0.6280\n",
      "Min Loss: 0.0037\n",
      "\n",
      "Node task. test set size: 1000\n",
      "\n"
     ]
    },
    {
     "name": "stderr",
     "output_type": "stream",
     "text": [
      "Training: 100%|██████████| 300/300 [00:14<00:00, 20.36Epochs/s]\n"
     ]
    },
    {
     "name": "stdout",
     "output_type": "stream",
     "text": [
      "Params: {'num_layers': 2, 'hidden_dim': 32, 'dropout': 0.3, 'epochs': 300, 'lr': 0.01, 'weight_decay': 0.001, 'batch_size': 128, 'opt': 'adam', 'opt_scheduler': 'none', 'opt_restart': 0, 'model_type': 'GraphSage', 'dataset': 'cora'}\n",
      "Max Test Accuracy: 0.6230\n",
      "Min Loss: 0.0070\n",
      "\n",
      "Node task. test set size: 1000\n",
      "\n"
     ]
    },
    {
     "name": "stderr",
     "output_type": "stream",
     "text": [
      "Training: 100%|██████████| 500/500 [00:23<00:00, 20.93Epochs/s]\n"
     ]
    },
    {
     "name": "stdout",
     "output_type": "stream",
     "text": [
      "Params: {'num_layers': 2, 'hidden_dim': 32, 'dropout': 0.3, 'epochs': 500, 'lr': 0.005, 'weight_decay': 0.0005, 'batch_size': 128, 'opt': 'adam', 'opt_scheduler': 'none', 'opt_restart': 0, 'model_type': 'GraphSage', 'dataset': 'cora'}\n",
      "Max Test Accuracy: 0.6080\n",
      "Min Loss: 0.0027\n",
      "\n",
      "Node task. test set size: 1000\n",
      "\n"
     ]
    },
    {
     "name": "stderr",
     "output_type": "stream",
     "text": [
      "Training: 100%|██████████| 500/500 [00:24<00:00, 20.67Epochs/s]\n"
     ]
    },
    {
     "name": "stdout",
     "output_type": "stream",
     "text": [
      "Params: {'num_layers': 2, 'hidden_dim': 32, 'dropout': 0.3, 'epochs': 500, 'lr': 0.005, 'weight_decay': 0.001, 'batch_size': 128, 'opt': 'adam', 'opt_scheduler': 'none', 'opt_restart': 0, 'model_type': 'GraphSage', 'dataset': 'cora'}\n",
      "Max Test Accuracy: 0.5940\n",
      "Min Loss: 0.0047\n",
      "\n",
      "Node task. test set size: 1000\n",
      "\n"
     ]
    },
    {
     "name": "stderr",
     "output_type": "stream",
     "text": [
      "Training: 100%|██████████| 500/500 [00:23<00:00, 21.62Epochs/s]\n"
     ]
    },
    {
     "name": "stdout",
     "output_type": "stream",
     "text": [
      "Params: {'num_layers': 2, 'hidden_dim': 32, 'dropout': 0.3, 'epochs': 500, 'lr': 0.01, 'weight_decay': 0.0005, 'batch_size': 128, 'opt': 'adam', 'opt_scheduler': 'none', 'opt_restart': 0, 'model_type': 'GraphSage', 'dataset': 'cora'}\n",
      "Max Test Accuracy: 0.6870\n",
      "Min Loss: 0.0041\n",
      "\n",
      "Node task. test set size: 1000\n",
      "\n"
     ]
    },
    {
     "name": "stderr",
     "output_type": "stream",
     "text": [
      "Training: 100%|██████████| 500/500 [00:23<00:00, 21.10Epochs/s]\n"
     ]
    },
    {
     "name": "stdout",
     "output_type": "stream",
     "text": [
      "Params: {'num_layers': 2, 'hidden_dim': 32, 'dropout': 0.3, 'epochs': 500, 'lr': 0.01, 'weight_decay': 0.001, 'batch_size': 128, 'opt': 'adam', 'opt_scheduler': 'none', 'opt_restart': 0, 'model_type': 'GraphSage', 'dataset': 'cora'}\n",
      "Max Test Accuracy: 0.6100\n",
      "Min Loss: 0.0075\n",
      "\n",
      "Node task. test set size: 1000\n",
      "\n"
     ]
    },
    {
     "name": "stderr",
     "output_type": "stream",
     "text": [
      "Training: 100%|██████████| 300/300 [00:13<00:00, 21.53Epochs/s]\n"
     ]
    },
    {
     "name": "stdout",
     "output_type": "stream",
     "text": [
      "Params: {'num_layers': 2, 'hidden_dim': 32, 'dropout': 0.6, 'epochs': 300, 'lr': 0.005, 'weight_decay': 0.0005, 'batch_size': 128, 'opt': 'adam', 'opt_scheduler': 'none', 'opt_restart': 0, 'model_type': 'GraphSage', 'dataset': 'cora'}\n",
      "Max Test Accuracy: 0.6910\n",
      "Min Loss: 0.3559\n",
      "\n",
      "Node task. test set size: 1000\n",
      "\n"
     ]
    },
    {
     "name": "stderr",
     "output_type": "stream",
     "text": [
      "Training: 100%|██████████| 300/300 [00:13<00:00, 21.57Epochs/s]\n"
     ]
    },
    {
     "name": "stdout",
     "output_type": "stream",
     "text": [
      "Params: {'num_layers': 2, 'hidden_dim': 32, 'dropout': 0.6, 'epochs': 300, 'lr': 0.005, 'weight_decay': 0.001, 'batch_size': 128, 'opt': 'adam', 'opt_scheduler': 'none', 'opt_restart': 0, 'model_type': 'GraphSage', 'dataset': 'cora'}\n",
      "Max Test Accuracy: 0.6680\n",
      "Min Loss: 0.3561\n",
      "\n",
      "Node task. test set size: 1000\n",
      "\n"
     ]
    },
    {
     "name": "stderr",
     "output_type": "stream",
     "text": [
      "Training: 100%|██████████| 300/300 [00:14<00:00, 21.31Epochs/s]\n"
     ]
    },
    {
     "name": "stdout",
     "output_type": "stream",
     "text": [
      "Params: {'num_layers': 2, 'hidden_dim': 32, 'dropout': 0.6, 'epochs': 300, 'lr': 0.01, 'weight_decay': 0.0005, 'batch_size': 128, 'opt': 'adam', 'opt_scheduler': 'none', 'opt_restart': 0, 'model_type': 'GraphSage', 'dataset': 'cora'}\n",
      "Max Test Accuracy: 0.7070\n",
      "Min Loss: 0.3204\n",
      "\n",
      "Node task. test set size: 1000\n",
      "\n"
     ]
    },
    {
     "name": "stderr",
     "output_type": "stream",
     "text": [
      "Training: 100%|██████████| 300/300 [00:13<00:00, 21.58Epochs/s]\n"
     ]
    },
    {
     "name": "stdout",
     "output_type": "stream",
     "text": [
      "Params: {'num_layers': 2, 'hidden_dim': 32, 'dropout': 0.6, 'epochs': 300, 'lr': 0.01, 'weight_decay': 0.001, 'batch_size': 128, 'opt': 'adam', 'opt_scheduler': 'none', 'opt_restart': 0, 'model_type': 'GraphSage', 'dataset': 'cora'}\n",
      "Max Test Accuracy: 0.6930\n",
      "Min Loss: 0.4272\n",
      "\n",
      "Node task. test set size: 1000\n",
      "\n"
     ]
    },
    {
     "name": "stderr",
     "output_type": "stream",
     "text": [
      "Training: 100%|██████████| 500/500 [00:23<00:00, 21.04Epochs/s]\n"
     ]
    },
    {
     "name": "stdout",
     "output_type": "stream",
     "text": [
      "Params: {'num_layers': 2, 'hidden_dim': 32, 'dropout': 0.6, 'epochs': 500, 'lr': 0.005, 'weight_decay': 0.0005, 'batch_size': 128, 'opt': 'adam', 'opt_scheduler': 'none', 'opt_restart': 0, 'model_type': 'GraphSage', 'dataset': 'cora'}\n",
      "Max Test Accuracy: 0.6730\n",
      "Min Loss: 0.2671\n",
      "\n",
      "Node task. test set size: 1000\n",
      "\n"
     ]
    },
    {
     "name": "stderr",
     "output_type": "stream",
     "text": [
      "Training: 100%|██████████| 500/500 [00:25<00:00, 19.70Epochs/s]\n"
     ]
    },
    {
     "name": "stdout",
     "output_type": "stream",
     "text": [
      "Params: {'num_layers': 2, 'hidden_dim': 32, 'dropout': 0.6, 'epochs': 500, 'lr': 0.005, 'weight_decay': 0.001, 'batch_size': 128, 'opt': 'adam', 'opt_scheduler': 'none', 'opt_restart': 0, 'model_type': 'GraphSage', 'dataset': 'cora'}\n",
      "Max Test Accuracy: 0.6750\n",
      "Min Loss: 0.1979\n",
      "\n",
      "Node task. test set size: 1000\n",
      "\n"
     ]
    },
    {
     "name": "stderr",
     "output_type": "stream",
     "text": [
      "Training: 100%|██████████| 500/500 [00:31<00:00, 15.78Epochs/s]\n"
     ]
    },
    {
     "name": "stdout",
     "output_type": "stream",
     "text": [
      "Params: {'num_layers': 2, 'hidden_dim': 32, 'dropout': 0.6, 'epochs': 500, 'lr': 0.01, 'weight_decay': 0.0005, 'batch_size': 128, 'opt': 'adam', 'opt_scheduler': 'none', 'opt_restart': 0, 'model_type': 'GraphSage', 'dataset': 'cora'}\n",
      "Max Test Accuracy: 0.7440\n",
      "Min Loss: 0.3246\n",
      "\n",
      "Node task. test set size: 1000\n",
      "\n"
     ]
    },
    {
     "name": "stderr",
     "output_type": "stream",
     "text": [
      "Training: 100%|██████████| 500/500 [00:32<00:00, 15.52Epochs/s]\n"
     ]
    },
    {
     "name": "stdout",
     "output_type": "stream",
     "text": [
      "Params: {'num_layers': 2, 'hidden_dim': 32, 'dropout': 0.6, 'epochs': 500, 'lr': 0.01, 'weight_decay': 0.001, 'batch_size': 128, 'opt': 'adam', 'opt_scheduler': 'none', 'opt_restart': 0, 'model_type': 'GraphSage', 'dataset': 'cora'}\n",
      "Max Test Accuracy: 0.6880\n",
      "Min Loss: 0.3172\n",
      "\n",
      "Node task. test set size: 1000\n",
      "\n"
     ]
    },
    {
     "name": "stderr",
     "output_type": "stream",
     "text": [
      "Training: 100%|██████████| 300/300 [00:21<00:00, 13.73Epochs/s]\n"
     ]
    },
    {
     "name": "stdout",
     "output_type": "stream",
     "text": [
      "Params: {'num_layers': 2, 'hidden_dim': 64, 'dropout': 0.3, 'epochs': 300, 'lr': 0.005, 'weight_decay': 0.0005, 'batch_size': 128, 'opt': 'adam', 'opt_scheduler': 'none', 'opt_restart': 0, 'model_type': 'GraphSage', 'dataset': 'cora'}\n",
      "Max Test Accuracy: 0.6240\n",
      "Min Loss: 0.0002\n",
      "\n",
      "Node task. test set size: 1000\n",
      "\n"
     ]
    },
    {
     "name": "stderr",
     "output_type": "stream",
     "text": [
      "Training: 100%|██████████| 300/300 [00:25<00:00, 11.99Epochs/s]\n"
     ]
    },
    {
     "name": "stdout",
     "output_type": "stream",
     "text": [
      "Params: {'num_layers': 2, 'hidden_dim': 64, 'dropout': 0.3, 'epochs': 300, 'lr': 0.005, 'weight_decay': 0.001, 'batch_size': 128, 'opt': 'adam', 'opt_scheduler': 'none', 'opt_restart': 0, 'model_type': 'GraphSage', 'dataset': 'cora'}\n",
      "Max Test Accuracy: 0.5770\n",
      "Min Loss: 0.0004\n",
      "\n",
      "Node task. test set size: 1000\n",
      "\n"
     ]
    },
    {
     "name": "stderr",
     "output_type": "stream",
     "text": [
      "Training: 100%|██████████| 300/300 [00:26<00:00, 11.47Epochs/s]\n"
     ]
    },
    {
     "name": "stdout",
     "output_type": "stream",
     "text": [
      "Params: {'num_layers': 2, 'hidden_dim': 64, 'dropout': 0.3, 'epochs': 300, 'lr': 0.01, 'weight_decay': 0.0005, 'batch_size': 128, 'opt': 'adam', 'opt_scheduler': 'none', 'opt_restart': 0, 'model_type': 'GraphSage', 'dataset': 'cora'}\n",
      "Max Test Accuracy: 0.6060\n",
      "Min Loss: 0.0006\n",
      "\n",
      "Node task. test set size: 1000\n",
      "\n"
     ]
    },
    {
     "name": "stderr",
     "output_type": "stream",
     "text": [
      "Training: 100%|██████████| 300/300 [00:25<00:00, 11.85Epochs/s]\n"
     ]
    },
    {
     "name": "stdout",
     "output_type": "stream",
     "text": [
      "Params: {'num_layers': 2, 'hidden_dim': 64, 'dropout': 0.3, 'epochs': 300, 'lr': 0.01, 'weight_decay': 0.001, 'batch_size': 128, 'opt': 'adam', 'opt_scheduler': 'none', 'opt_restart': 0, 'model_type': 'GraphSage', 'dataset': 'cora'}\n",
      "Max Test Accuracy: 0.6180\n",
      "Min Loss: 0.0015\n",
      "\n",
      "Node task. test set size: 1000\n",
      "\n"
     ]
    },
    {
     "name": "stderr",
     "output_type": "stream",
     "text": [
      "Training: 100%|██████████| 500/500 [00:37<00:00, 13.37Epochs/s]\n"
     ]
    },
    {
     "name": "stdout",
     "output_type": "stream",
     "text": [
      "Params: {'num_layers': 2, 'hidden_dim': 64, 'dropout': 0.3, 'epochs': 500, 'lr': 0.005, 'weight_decay': 0.0005, 'batch_size': 128, 'opt': 'adam', 'opt_scheduler': 'none', 'opt_restart': 0, 'model_type': 'GraphSage', 'dataset': 'cora'}\n",
      "Max Test Accuracy: 0.5690\n",
      "Min Loss: 0.0003\n",
      "\n",
      "Node task. test set size: 1000\n",
      "\n"
     ]
    },
    {
     "name": "stderr",
     "output_type": "stream",
     "text": [
      "Training: 100%|██████████| 500/500 [00:31<00:00, 15.87Epochs/s]\n"
     ]
    },
    {
     "name": "stdout",
     "output_type": "stream",
     "text": [
      "Params: {'num_layers': 2, 'hidden_dim': 64, 'dropout': 0.3, 'epochs': 500, 'lr': 0.005, 'weight_decay': 0.001, 'batch_size': 128, 'opt': 'adam', 'opt_scheduler': 'none', 'opt_restart': 0, 'model_type': 'GraphSage', 'dataset': 'cora'}\n",
      "Max Test Accuracy: 0.6220\n",
      "Min Loss: 0.0005\n",
      "\n",
      "Node task. test set size: 1000\n",
      "\n"
     ]
    },
    {
     "name": "stderr",
     "output_type": "stream",
     "text": [
      "Training: 100%|██████████| 500/500 [00:31<00:00, 15.80Epochs/s]\n"
     ]
    },
    {
     "name": "stdout",
     "output_type": "stream",
     "text": [
      "Params: {'num_layers': 2, 'hidden_dim': 64, 'dropout': 0.3, 'epochs': 500, 'lr': 0.01, 'weight_decay': 0.0005, 'batch_size': 128, 'opt': 'adam', 'opt_scheduler': 'none', 'opt_restart': 0, 'model_type': 'GraphSage', 'dataset': 'cora'}\n",
      "Max Test Accuracy: 0.6670\n",
      "Min Loss: 0.0004\n",
      "\n",
      "Node task. test set size: 1000\n",
      "\n"
     ]
    },
    {
     "name": "stderr",
     "output_type": "stream",
     "text": [
      "Training: 100%|██████████| 500/500 [00:31<00:00, 15.63Epochs/s]\n"
     ]
    },
    {
     "name": "stdout",
     "output_type": "stream",
     "text": [
      "Params: {'num_layers': 2, 'hidden_dim': 64, 'dropout': 0.3, 'epochs': 500, 'lr': 0.01, 'weight_decay': 0.001, 'batch_size': 128, 'opt': 'adam', 'opt_scheduler': 'none', 'opt_restart': 0, 'model_type': 'GraphSage', 'dataset': 'cora'}\n",
      "Max Test Accuracy: 0.6190\n",
      "Min Loss: 0.0009\n",
      "\n",
      "Node task. test set size: 1000\n",
      "\n"
     ]
    },
    {
     "name": "stderr",
     "output_type": "stream",
     "text": [
      "Training: 100%|██████████| 300/300 [00:21<00:00, 14.18Epochs/s]\n"
     ]
    },
    {
     "name": "stdout",
     "output_type": "stream",
     "text": [
      "Params: {'num_layers': 2, 'hidden_dim': 64, 'dropout': 0.6, 'epochs': 300, 'lr': 0.005, 'weight_decay': 0.0005, 'batch_size': 128, 'opt': 'adam', 'opt_scheduler': 'none', 'opt_restart': 0, 'model_type': 'GraphSage', 'dataset': 'cora'}\n",
      "Max Test Accuracy: 0.7060\n",
      "Min Loss: 0.0337\n",
      "\n",
      "Node task. test set size: 1000\n",
      "\n"
     ]
    },
    {
     "name": "stderr",
     "output_type": "stream",
     "text": [
      "Training: 100%|██████████| 300/300 [00:21<00:00, 13.69Epochs/s]\n"
     ]
    },
    {
     "name": "stdout",
     "output_type": "stream",
     "text": [
      "Params: {'num_layers': 2, 'hidden_dim': 64, 'dropout': 0.6, 'epochs': 300, 'lr': 0.005, 'weight_decay': 0.001, 'batch_size': 128, 'opt': 'adam', 'opt_scheduler': 'none', 'opt_restart': 0, 'model_type': 'GraphSage', 'dataset': 'cora'}\n",
      "Max Test Accuracy: 0.6720\n",
      "Min Loss: 0.0311\n",
      "\n",
      "Node task. test set size: 1000\n",
      "\n"
     ]
    },
    {
     "name": "stderr",
     "output_type": "stream",
     "text": [
      "Training: 100%|██████████| 300/300 [00:21<00:00, 13.90Epochs/s]\n"
     ]
    },
    {
     "name": "stdout",
     "output_type": "stream",
     "text": [
      "Params: {'num_layers': 2, 'hidden_dim': 64, 'dropout': 0.6, 'epochs': 300, 'lr': 0.01, 'weight_decay': 0.0005, 'batch_size': 128, 'opt': 'adam', 'opt_scheduler': 'none', 'opt_restart': 0, 'model_type': 'GraphSage', 'dataset': 'cora'}\n",
      "Max Test Accuracy: 0.7280\n",
      "Min Loss: 0.0650\n",
      "\n",
      "Node task. test set size: 1000\n",
      "\n"
     ]
    },
    {
     "name": "stderr",
     "output_type": "stream",
     "text": [
      "Training: 100%|██████████| 300/300 [00:22<00:00, 13.47Epochs/s]\n"
     ]
    },
    {
     "name": "stdout",
     "output_type": "stream",
     "text": [
      "Params: {'num_layers': 2, 'hidden_dim': 64, 'dropout': 0.6, 'epochs': 300, 'lr': 0.01, 'weight_decay': 0.001, 'batch_size': 128, 'opt': 'adam', 'opt_scheduler': 'none', 'opt_restart': 0, 'model_type': 'GraphSage', 'dataset': 'cora'}\n",
      "Max Test Accuracy: 0.6660\n",
      "Min Loss: 0.0383\n",
      "\n",
      "Node task. test set size: 1000\n",
      "\n"
     ]
    },
    {
     "name": "stderr",
     "output_type": "stream",
     "text": [
      "Training: 100%|██████████| 500/500 [00:33<00:00, 14.73Epochs/s]\n"
     ]
    },
    {
     "name": "stdout",
     "output_type": "stream",
     "text": [
      "Params: {'num_layers': 2, 'hidden_dim': 64, 'dropout': 0.6, 'epochs': 500, 'lr': 0.005, 'weight_decay': 0.0005, 'batch_size': 128, 'opt': 'adam', 'opt_scheduler': 'none', 'opt_restart': 0, 'model_type': 'GraphSage', 'dataset': 'cora'}\n",
      "Max Test Accuracy: 0.6840\n",
      "Min Loss: 0.0336\n",
      "\n",
      "Node task. test set size: 1000\n",
      "\n"
     ]
    },
    {
     "name": "stderr",
     "output_type": "stream",
     "text": [
      "Training: 100%|██████████| 500/500 [00:41<00:00, 11.91Epochs/s]\n"
     ]
    },
    {
     "name": "stdout",
     "output_type": "stream",
     "text": [
      "Params: {'num_layers': 2, 'hidden_dim': 64, 'dropout': 0.6, 'epochs': 500, 'lr': 0.005, 'weight_decay': 0.001, 'batch_size': 128, 'opt': 'adam', 'opt_scheduler': 'none', 'opt_restart': 0, 'model_type': 'GraphSage', 'dataset': 'cora'}\n",
      "Max Test Accuracy: 0.6040\n",
      "Min Loss: 0.0342\n",
      "\n",
      "Node task. test set size: 1000\n",
      "\n"
     ]
    },
    {
     "name": "stderr",
     "output_type": "stream",
     "text": [
      "Training: 100%|██████████| 500/500 [00:33<00:00, 15.02Epochs/s]\n"
     ]
    },
    {
     "name": "stdout",
     "output_type": "stream",
     "text": [
      "Params: {'num_layers': 2, 'hidden_dim': 64, 'dropout': 0.6, 'epochs': 500, 'lr': 0.01, 'weight_decay': 0.0005, 'batch_size': 128, 'opt': 'adam', 'opt_scheduler': 'none', 'opt_restart': 0, 'model_type': 'GraphSage', 'dataset': 'cora'}\n",
      "Max Test Accuracy: 0.7300\n",
      "Min Loss: 0.0327\n",
      "\n",
      "Node task. test set size: 1000\n",
      "\n"
     ]
    },
    {
     "name": "stderr",
     "output_type": "stream",
     "text": [
      "Training: 100%|██████████| 500/500 [00:31<00:00, 15.89Epochs/s]\n"
     ]
    },
    {
     "name": "stdout",
     "output_type": "stream",
     "text": [
      "Params: {'num_layers': 2, 'hidden_dim': 64, 'dropout': 0.6, 'epochs': 500, 'lr': 0.01, 'weight_decay': 0.001, 'batch_size': 128, 'opt': 'adam', 'opt_scheduler': 'none', 'opt_restart': 0, 'model_type': 'GraphSage', 'dataset': 'cora'}\n",
      "Max Test Accuracy: 0.7270\n",
      "Min Loss: 0.0337\n",
      "\n",
      "Node task. test set size: 1000\n",
      "\n"
     ]
    },
    {
     "name": "stderr",
     "output_type": "stream",
     "text": [
      "Training: 100%|██████████| 300/300 [00:31<00:00,  9.45Epochs/s]\n"
     ]
    },
    {
     "name": "stdout",
     "output_type": "stream",
     "text": [
      "Params: {'num_layers': 2, 'hidden_dim': 128, 'dropout': 0.3, 'epochs': 300, 'lr': 0.005, 'weight_decay': 0.0005, 'batch_size': 128, 'opt': 'adam', 'opt_scheduler': 'none', 'opt_restart': 0, 'model_type': 'GraphSage', 'dataset': 'cora'}\n",
      "Max Test Accuracy: 0.6170\n",
      "Min Loss: 0.0000\n",
      "\n",
      "Node task. test set size: 1000\n",
      "\n"
     ]
    },
    {
     "name": "stderr",
     "output_type": "stream",
     "text": [
      "Training: 100%|██████████| 300/300 [00:30<00:00,  9.71Epochs/s]\n"
     ]
    },
    {
     "name": "stdout",
     "output_type": "stream",
     "text": [
      "Params: {'num_layers': 2, 'hidden_dim': 128, 'dropout': 0.3, 'epochs': 300, 'lr': 0.005, 'weight_decay': 0.001, 'batch_size': 128, 'opt': 'adam', 'opt_scheduler': 'none', 'opt_restart': 0, 'model_type': 'GraphSage', 'dataset': 'cora'}\n",
      "Max Test Accuracy: 0.5810\n",
      "Min Loss: 0.0000\n",
      "\n",
      "Node task. test set size: 1000\n",
      "\n"
     ]
    },
    {
     "name": "stderr",
     "output_type": "stream",
     "text": [
      "Training: 100%|██████████| 300/300 [00:30<00:00,  9.96Epochs/s]\n"
     ]
    },
    {
     "name": "stdout",
     "output_type": "stream",
     "text": [
      "Params: {'num_layers': 2, 'hidden_dim': 128, 'dropout': 0.3, 'epochs': 300, 'lr': 0.01, 'weight_decay': 0.0005, 'batch_size': 128, 'opt': 'adam', 'opt_scheduler': 'none', 'opt_restart': 0, 'model_type': 'GraphSage', 'dataset': 'cora'}\n",
      "Max Test Accuracy: 0.5930\n",
      "Min Loss: 0.0001\n",
      "\n",
      "Node task. test set size: 1000\n",
      "\n"
     ]
    },
    {
     "name": "stderr",
     "output_type": "stream",
     "text": [
      "Training: 100%|██████████| 300/300 [00:29<00:00, 10.01Epochs/s]\n"
     ]
    },
    {
     "name": "stdout",
     "output_type": "stream",
     "text": [
      "Params: {'num_layers': 2, 'hidden_dim': 128, 'dropout': 0.3, 'epochs': 300, 'lr': 0.01, 'weight_decay': 0.001, 'batch_size': 128, 'opt': 'adam', 'opt_scheduler': 'none', 'opt_restart': 0, 'model_type': 'GraphSage', 'dataset': 'cora'}\n",
      "Max Test Accuracy: 0.6100\n",
      "Min Loss: 0.0002\n",
      "\n",
      "Node task. test set size: 1000\n",
      "\n"
     ]
    },
    {
     "name": "stderr",
     "output_type": "stream",
     "text": [
      "Training: 100%|██████████| 500/500 [00:49<00:00, 10.04Epochs/s]\n"
     ]
    },
    {
     "name": "stdout",
     "output_type": "stream",
     "text": [
      "Params: {'num_layers': 2, 'hidden_dim': 128, 'dropout': 0.3, 'epochs': 500, 'lr': 0.005, 'weight_decay': 0.0005, 'batch_size': 128, 'opt': 'adam', 'opt_scheduler': 'none', 'opt_restart': 0, 'model_type': 'GraphSage', 'dataset': 'cora'}\n",
      "Max Test Accuracy: 0.6030\n",
      "Min Loss: 0.0001\n",
      "\n",
      "Node task. test set size: 1000\n",
      "\n"
     ]
    },
    {
     "name": "stderr",
     "output_type": "stream",
     "text": [
      "Training: 100%|██████████| 500/500 [00:50<00:00,  9.92Epochs/s]\n"
     ]
    },
    {
     "name": "stdout",
     "output_type": "stream",
     "text": [
      "Params: {'num_layers': 2, 'hidden_dim': 128, 'dropout': 0.3, 'epochs': 500, 'lr': 0.005, 'weight_decay': 0.001, 'batch_size': 128, 'opt': 'adam', 'opt_scheduler': 'none', 'opt_restart': 0, 'model_type': 'GraphSage', 'dataset': 'cora'}\n",
      "Max Test Accuracy: 0.6530\n",
      "Min Loss: 0.0000\n",
      "\n",
      "Node task. test set size: 1000\n",
      "\n"
     ]
    },
    {
     "name": "stderr",
     "output_type": "stream",
     "text": [
      "Training: 100%|██████████| 500/500 [00:50<00:00,  9.99Epochs/s]\n"
     ]
    },
    {
     "name": "stdout",
     "output_type": "stream",
     "text": [
      "Params: {'num_layers': 2, 'hidden_dim': 128, 'dropout': 0.3, 'epochs': 500, 'lr': 0.01, 'weight_decay': 0.0005, 'batch_size': 128, 'opt': 'adam', 'opt_scheduler': 'none', 'opt_restart': 0, 'model_type': 'GraphSage', 'dataset': 'cora'}\n",
      "Max Test Accuracy: 0.6100\n",
      "Min Loss: 0.0001\n",
      "\n",
      "Node task. test set size: 1000\n",
      "\n"
     ]
    },
    {
     "name": "stderr",
     "output_type": "stream",
     "text": [
      "Training: 100%|██████████| 500/500 [00:50<00:00,  9.83Epochs/s]\n"
     ]
    },
    {
     "name": "stdout",
     "output_type": "stream",
     "text": [
      "Params: {'num_layers': 2, 'hidden_dim': 128, 'dropout': 0.3, 'epochs': 500, 'lr': 0.01, 'weight_decay': 0.001, 'batch_size': 128, 'opt': 'adam', 'opt_scheduler': 'none', 'opt_restart': 0, 'model_type': 'GraphSage', 'dataset': 'cora'}\n",
      "Max Test Accuracy: 0.5790\n",
      "Min Loss: 0.0004\n",
      "\n",
      "Node task. test set size: 1000\n",
      "\n"
     ]
    },
    {
     "name": "stderr",
     "output_type": "stream",
     "text": [
      "Training: 100%|██████████| 300/300 [00:30<00:00,  9.95Epochs/s]\n"
     ]
    },
    {
     "name": "stdout",
     "output_type": "stream",
     "text": [
      "Params: {'num_layers': 2, 'hidden_dim': 128, 'dropout': 0.6, 'epochs': 300, 'lr': 0.005, 'weight_decay': 0.0005, 'batch_size': 128, 'opt': 'adam', 'opt_scheduler': 'none', 'opt_restart': 0, 'model_type': 'GraphSage', 'dataset': 'cora'}\n",
      "Max Test Accuracy: 0.7290\n",
      "Min Loss: 0.0035\n",
      "\n",
      "Node task. test set size: 1000\n",
      "\n"
     ]
    },
    {
     "name": "stderr",
     "output_type": "stream",
     "text": [
      "Training: 100%|██████████| 300/300 [00:30<00:00,  9.95Epochs/s]\n"
     ]
    },
    {
     "name": "stdout",
     "output_type": "stream",
     "text": [
      "Params: {'num_layers': 2, 'hidden_dim': 128, 'dropout': 0.6, 'epochs': 300, 'lr': 0.005, 'weight_decay': 0.001, 'batch_size': 128, 'opt': 'adam', 'opt_scheduler': 'none', 'opt_restart': 0, 'model_type': 'GraphSage', 'dataset': 'cora'}\n",
      "Max Test Accuracy: 0.6990\n",
      "Min Loss: 0.0034\n",
      "\n",
      "Node task. test set size: 1000\n",
      "\n"
     ]
    },
    {
     "name": "stderr",
     "output_type": "stream",
     "text": [
      "Training: 100%|██████████| 300/300 [00:30<00:00,  9.99Epochs/s]\n"
     ]
    },
    {
     "name": "stdout",
     "output_type": "stream",
     "text": [
      "Params: {'num_layers': 2, 'hidden_dim': 128, 'dropout': 0.6, 'epochs': 300, 'lr': 0.01, 'weight_decay': 0.0005, 'batch_size': 128, 'opt': 'adam', 'opt_scheduler': 'none', 'opt_restart': 0, 'model_type': 'GraphSage', 'dataset': 'cora'}\n",
      "Max Test Accuracy: 0.7200\n",
      "Min Loss: 0.0010\n",
      "\n",
      "Node task. test set size: 1000\n",
      "\n"
     ]
    },
    {
     "name": "stderr",
     "output_type": "stream",
     "text": [
      "Training: 100%|██████████| 300/300 [00:30<00:00,  9.96Epochs/s]\n"
     ]
    },
    {
     "name": "stdout",
     "output_type": "stream",
     "text": [
      "Params: {'num_layers': 2, 'hidden_dim': 128, 'dropout': 0.6, 'epochs': 300, 'lr': 0.01, 'weight_decay': 0.001, 'batch_size': 128, 'opt': 'adam', 'opt_scheduler': 'none', 'opt_restart': 0, 'model_type': 'GraphSage', 'dataset': 'cora'}\n",
      "Max Test Accuracy: 0.7040\n",
      "Min Loss: 0.0077\n",
      "\n",
      "Node task. test set size: 1000\n",
      "\n"
     ]
    },
    {
     "name": "stderr",
     "output_type": "stream",
     "text": [
      "Training: 100%|██████████| 500/500 [00:50<00:00,  9.86Epochs/s]\n"
     ]
    },
    {
     "name": "stdout",
     "output_type": "stream",
     "text": [
      "Params: {'num_layers': 2, 'hidden_dim': 128, 'dropout': 0.6, 'epochs': 500, 'lr': 0.005, 'weight_decay': 0.0005, 'batch_size': 128, 'opt': 'adam', 'opt_scheduler': 'none', 'opt_restart': 0, 'model_type': 'GraphSage', 'dataset': 'cora'}\n",
      "Max Test Accuracy: 0.7410\n",
      "Min Loss: 0.0016\n",
      "\n",
      "Node task. test set size: 1000\n",
      "\n"
     ]
    },
    {
     "name": "stderr",
     "output_type": "stream",
     "text": [
      "Training: 100%|██████████| 500/500 [00:50<00:00,  9.97Epochs/s]\n"
     ]
    },
    {
     "name": "stdout",
     "output_type": "stream",
     "text": [
      "Params: {'num_layers': 2, 'hidden_dim': 128, 'dropout': 0.6, 'epochs': 500, 'lr': 0.005, 'weight_decay': 0.001, 'batch_size': 128, 'opt': 'adam', 'opt_scheduler': 'none', 'opt_restart': 0, 'model_type': 'GraphSage', 'dataset': 'cora'}\n",
      "Max Test Accuracy: 0.7050\n",
      "Min Loss: 0.0032\n",
      "\n",
      "Node task. test set size: 1000\n",
      "\n"
     ]
    },
    {
     "name": "stderr",
     "output_type": "stream",
     "text": [
      "Training: 100%|██████████| 500/500 [00:50<00:00,  9.94Epochs/s]\n"
     ]
    },
    {
     "name": "stdout",
     "output_type": "stream",
     "text": [
      "Params: {'num_layers': 2, 'hidden_dim': 128, 'dropout': 0.6, 'epochs': 500, 'lr': 0.01, 'weight_decay': 0.0005, 'batch_size': 128, 'opt': 'adam', 'opt_scheduler': 'none', 'opt_restart': 0, 'model_type': 'GraphSage', 'dataset': 'cora'}\n",
      "Max Test Accuracy: 0.7160\n",
      "Min Loss: 0.0027\n",
      "\n",
      "Node task. test set size: 1000\n",
      "\n"
     ]
    },
    {
     "name": "stderr",
     "output_type": "stream",
     "text": [
      "Training: 100%|██████████| 500/500 [00:50<00:00,  9.97Epochs/s]\n"
     ]
    },
    {
     "name": "stdout",
     "output_type": "stream",
     "text": [
      "Params: {'num_layers': 2, 'hidden_dim': 128, 'dropout': 0.6, 'epochs': 500, 'lr': 0.01, 'weight_decay': 0.001, 'batch_size': 128, 'opt': 'adam', 'opt_scheduler': 'none', 'opt_restart': 0, 'model_type': 'GraphSage', 'dataset': 'cora'}\n",
      "Max Test Accuracy: 0.7170\n",
      "Min Loss: 0.0047\n",
      "\n",
      "Node task. test set size: 1000\n",
      "\n"
     ]
    },
    {
     "name": "stderr",
     "output_type": "stream",
     "text": [
      "Training: 100%|██████████| 300/300 [00:15<00:00, 19.18Epochs/s]\n"
     ]
    },
    {
     "name": "stdout",
     "output_type": "stream",
     "text": [
      "Params: {'num_layers': 3, 'hidden_dim': 32, 'dropout': 0.3, 'epochs': 300, 'lr': 0.005, 'weight_decay': 0.0005, 'batch_size': 128, 'opt': 'adam', 'opt_scheduler': 'none', 'opt_restart': 0, 'model_type': 'GraphSage', 'dataset': 'cora'}\n",
      "Max Test Accuracy: 0.6530\n",
      "Min Loss: 0.0147\n",
      "\n",
      "Node task. test set size: 1000\n",
      "\n"
     ]
    },
    {
     "name": "stderr",
     "output_type": "stream",
     "text": [
      "Training: 100%|██████████| 300/300 [00:15<00:00, 19.61Epochs/s]\n"
     ]
    },
    {
     "name": "stdout",
     "output_type": "stream",
     "text": [
      "Params: {'num_layers': 3, 'hidden_dim': 32, 'dropout': 0.3, 'epochs': 300, 'lr': 0.005, 'weight_decay': 0.001, 'batch_size': 128, 'opt': 'adam', 'opt_scheduler': 'none', 'opt_restart': 0, 'model_type': 'GraphSage', 'dataset': 'cora'}\n",
      "Max Test Accuracy: 0.6510\n",
      "Min Loss: 0.0240\n",
      "\n",
      "Node task. test set size: 1000\n",
      "\n"
     ]
    },
    {
     "name": "stderr",
     "output_type": "stream",
     "text": [
      "Training: 100%|██████████| 300/300 [00:15<00:00, 19.79Epochs/s]\n"
     ]
    },
    {
     "name": "stdout",
     "output_type": "stream",
     "text": [
      "Params: {'num_layers': 3, 'hidden_dim': 32, 'dropout': 0.3, 'epochs': 300, 'lr': 0.01, 'weight_decay': 0.0005, 'batch_size': 128, 'opt': 'adam', 'opt_scheduler': 'none', 'opt_restart': 0, 'model_type': 'GraphSage', 'dataset': 'cora'}\n",
      "Max Test Accuracy: 0.7400\n",
      "Min Loss: 0.0071\n",
      "\n",
      "Node task. test set size: 1000\n",
      "\n"
     ]
    },
    {
     "name": "stderr",
     "output_type": "stream",
     "text": [
      "Training: 100%|██████████| 300/300 [00:15<00:00, 19.93Epochs/s]\n"
     ]
    },
    {
     "name": "stdout",
     "output_type": "stream",
     "text": [
      "Params: {'num_layers': 3, 'hidden_dim': 32, 'dropout': 0.3, 'epochs': 300, 'lr': 0.01, 'weight_decay': 0.001, 'batch_size': 128, 'opt': 'adam', 'opt_scheduler': 'none', 'opt_restart': 0, 'model_type': 'GraphSage', 'dataset': 'cora'}\n",
      "Max Test Accuracy: 0.7150\n",
      "Min Loss: 0.0104\n",
      "\n",
      "Node task. test set size: 1000\n",
      "\n"
     ]
    },
    {
     "name": "stderr",
     "output_type": "stream",
     "text": [
      "Training: 100%|██████████| 500/500 [00:26<00:00, 19.08Epochs/s]\n"
     ]
    },
    {
     "name": "stdout",
     "output_type": "stream",
     "text": [
      "Params: {'num_layers': 3, 'hidden_dim': 32, 'dropout': 0.3, 'epochs': 500, 'lr': 0.005, 'weight_decay': 0.0005, 'batch_size': 128, 'opt': 'adam', 'opt_scheduler': 'none', 'opt_restart': 0, 'model_type': 'GraphSage', 'dataset': 'cora'}\n",
      "Max Test Accuracy: 0.6530\n",
      "Min Loss: 0.0113\n",
      "\n",
      "Node task. test set size: 1000\n",
      "\n"
     ]
    },
    {
     "name": "stderr",
     "output_type": "stream",
     "text": [
      "Training: 100%|██████████| 500/500 [00:27<00:00, 18.49Epochs/s]\n"
     ]
    },
    {
     "name": "stdout",
     "output_type": "stream",
     "text": [
      "Params: {'num_layers': 3, 'hidden_dim': 32, 'dropout': 0.3, 'epochs': 500, 'lr': 0.005, 'weight_decay': 0.001, 'batch_size': 128, 'opt': 'adam', 'opt_scheduler': 'none', 'opt_restart': 0, 'model_type': 'GraphSage', 'dataset': 'cora'}\n",
      "Max Test Accuracy: 0.6870\n",
      "Min Loss: 0.0199\n",
      "\n",
      "Node task. test set size: 1000\n",
      "\n"
     ]
    },
    {
     "name": "stderr",
     "output_type": "stream",
     "text": [
      "Training: 100%|██████████| 500/500 [00:27<00:00, 18.49Epochs/s]\n"
     ]
    },
    {
     "name": "stdout",
     "output_type": "stream",
     "text": [
      "Params: {'num_layers': 3, 'hidden_dim': 32, 'dropout': 0.3, 'epochs': 500, 'lr': 0.01, 'weight_decay': 0.0005, 'batch_size': 128, 'opt': 'adam', 'opt_scheduler': 'none', 'opt_restart': 0, 'model_type': 'GraphSage', 'dataset': 'cora'}\n",
      "Max Test Accuracy: 0.6590\n",
      "Min Loss: 0.0072\n",
      "\n",
      "Node task. test set size: 1000\n",
      "\n"
     ]
    },
    {
     "name": "stderr",
     "output_type": "stream",
     "text": [
      "Training: 100%|██████████| 500/500 [00:25<00:00, 19.39Epochs/s]\n"
     ]
    },
    {
     "name": "stdout",
     "output_type": "stream",
     "text": [
      "Params: {'num_layers': 3, 'hidden_dim': 32, 'dropout': 0.3, 'epochs': 500, 'lr': 0.01, 'weight_decay': 0.001, 'batch_size': 128, 'opt': 'adam', 'opt_scheduler': 'none', 'opt_restart': 0, 'model_type': 'GraphSage', 'dataset': 'cora'}\n",
      "Max Test Accuracy: 0.7250\n",
      "Min Loss: 0.0152\n",
      "\n",
      "Node task. test set size: 1000\n",
      "\n"
     ]
    },
    {
     "name": "stderr",
     "output_type": "stream",
     "text": [
      "Training: 100%|██████████| 300/300 [00:15<00:00, 19.32Epochs/s]\n"
     ]
    },
    {
     "name": "stdout",
     "output_type": "stream",
     "text": [
      "Params: {'num_layers': 3, 'hidden_dim': 32, 'dropout': 0.6, 'epochs': 300, 'lr': 0.005, 'weight_decay': 0.0005, 'batch_size': 128, 'opt': 'adam', 'opt_scheduler': 'none', 'opt_restart': 0, 'model_type': 'GraphSage', 'dataset': 'cora'}\n",
      "Max Test Accuracy: 0.5860\n",
      "Min Loss: 0.7999\n",
      "\n",
      "Node task. test set size: 1000\n",
      "\n"
     ]
    },
    {
     "name": "stderr",
     "output_type": "stream",
     "text": [
      "Training: 100%|██████████| 300/300 [00:15<00:00, 19.21Epochs/s]\n"
     ]
    },
    {
     "name": "stdout",
     "output_type": "stream",
     "text": [
      "Params: {'num_layers': 3, 'hidden_dim': 32, 'dropout': 0.6, 'epochs': 300, 'lr': 0.005, 'weight_decay': 0.001, 'batch_size': 128, 'opt': 'adam', 'opt_scheduler': 'none', 'opt_restart': 0, 'model_type': 'GraphSage', 'dataset': 'cora'}\n",
      "Max Test Accuracy: 0.5080\n",
      "Min Loss: 0.9955\n",
      "\n",
      "Node task. test set size: 1000\n",
      "\n"
     ]
    },
    {
     "name": "stderr",
     "output_type": "stream",
     "text": [
      "Training: 100%|██████████| 300/300 [00:16<00:00, 18.21Epochs/s]\n"
     ]
    },
    {
     "name": "stdout",
     "output_type": "stream",
     "text": [
      "Params: {'num_layers': 3, 'hidden_dim': 32, 'dropout': 0.6, 'epochs': 300, 'lr': 0.01, 'weight_decay': 0.0005, 'batch_size': 128, 'opt': 'adam', 'opt_scheduler': 'none', 'opt_restart': 0, 'model_type': 'GraphSage', 'dataset': 'cora'}\n",
      "Max Test Accuracy: 0.4760\n",
      "Min Loss: 0.9998\n",
      "\n",
      "Node task. test set size: 1000\n",
      "\n"
     ]
    },
    {
     "name": "stderr",
     "output_type": "stream",
     "text": [
      "Training: 100%|██████████| 300/300 [00:19<00:00, 15.73Epochs/s]\n"
     ]
    },
    {
     "name": "stdout",
     "output_type": "stream",
     "text": [
      "Params: {'num_layers': 3, 'hidden_dim': 32, 'dropout': 0.6, 'epochs': 300, 'lr': 0.01, 'weight_decay': 0.001, 'batch_size': 128, 'opt': 'adam', 'opt_scheduler': 'none', 'opt_restart': 0, 'model_type': 'GraphSage', 'dataset': 'cora'}\n",
      "Max Test Accuracy: 0.5450\n",
      "Min Loss: 0.7857\n",
      "\n",
      "Node task. test set size: 1000\n",
      "\n"
     ]
    },
    {
     "name": "stderr",
     "output_type": "stream",
     "text": [
      "Training: 100%|██████████| 500/500 [00:26<00:00, 18.79Epochs/s]\n"
     ]
    },
    {
     "name": "stdout",
     "output_type": "stream",
     "text": [
      "Params: {'num_layers': 3, 'hidden_dim': 32, 'dropout': 0.6, 'epochs': 500, 'lr': 0.005, 'weight_decay': 0.0005, 'batch_size': 128, 'opt': 'adam', 'opt_scheduler': 'none', 'opt_restart': 0, 'model_type': 'GraphSage', 'dataset': 'cora'}\n",
      "Max Test Accuracy: 0.5350\n",
      "Min Loss: 0.7270\n",
      "\n",
      "Node task. test set size: 1000\n",
      "\n"
     ]
    },
    {
     "name": "stderr",
     "output_type": "stream",
     "text": [
      "Training: 100%|██████████| 500/500 [00:26<00:00, 18.83Epochs/s]\n"
     ]
    },
    {
     "name": "stdout",
     "output_type": "stream",
     "text": [
      "Params: {'num_layers': 3, 'hidden_dim': 32, 'dropout': 0.6, 'epochs': 500, 'lr': 0.005, 'weight_decay': 0.001, 'batch_size': 128, 'opt': 'adam', 'opt_scheduler': 'none', 'opt_restart': 0, 'model_type': 'GraphSage', 'dataset': 'cora'}\n",
      "Max Test Accuracy: 0.4690\n",
      "Min Loss: 0.6875\n",
      "\n",
      "Node task. test set size: 1000\n",
      "\n"
     ]
    },
    {
     "name": "stderr",
     "output_type": "stream",
     "text": [
      "Training: 100%|██████████| 500/500 [00:25<00:00, 19.83Epochs/s]\n"
     ]
    },
    {
     "name": "stdout",
     "output_type": "stream",
     "text": [
      "Params: {'num_layers': 3, 'hidden_dim': 32, 'dropout': 0.6, 'epochs': 500, 'lr': 0.01, 'weight_decay': 0.0005, 'batch_size': 128, 'opt': 'adam', 'opt_scheduler': 'none', 'opt_restart': 0, 'model_type': 'GraphSage', 'dataset': 'cora'}\n",
      "Max Test Accuracy: 0.4900\n",
      "Min Loss: 0.7136\n",
      "\n",
      "Node task. test set size: 1000\n",
      "\n"
     ]
    },
    {
     "name": "stderr",
     "output_type": "stream",
     "text": [
      "Training: 100%|██████████| 500/500 [00:25<00:00, 19.61Epochs/s]\n"
     ]
    },
    {
     "name": "stdout",
     "output_type": "stream",
     "text": [
      "Params: {'num_layers': 3, 'hidden_dim': 32, 'dropout': 0.6, 'epochs': 500, 'lr': 0.01, 'weight_decay': 0.001, 'batch_size': 128, 'opt': 'adam', 'opt_scheduler': 'none', 'opt_restart': 0, 'model_type': 'GraphSage', 'dataset': 'cora'}\n",
      "Max Test Accuracy: 0.6140\n",
      "Min Loss: 0.6321\n",
      "\n",
      "Node task. test set size: 1000\n",
      "\n"
     ]
    },
    {
     "name": "stderr",
     "output_type": "stream",
     "text": [
      "Training: 100%|██████████| 300/300 [00:21<00:00, 14.19Epochs/s]\n"
     ]
    },
    {
     "name": "stdout",
     "output_type": "stream",
     "text": [
      "Params: {'num_layers': 3, 'hidden_dim': 64, 'dropout': 0.3, 'epochs': 300, 'lr': 0.005, 'weight_decay': 0.0005, 'batch_size': 128, 'opt': 'adam', 'opt_scheduler': 'none', 'opt_restart': 0, 'model_type': 'GraphSage', 'dataset': 'cora'}\n",
      "Max Test Accuracy: 0.7010\n",
      "Min Loss: 0.0010\n",
      "\n",
      "Node task. test set size: 1000\n",
      "\n"
     ]
    },
    {
     "name": "stderr",
     "output_type": "stream",
     "text": [
      "Training: 100%|██████████| 300/300 [00:21<00:00, 14.19Epochs/s]\n"
     ]
    },
    {
     "name": "stdout",
     "output_type": "stream",
     "text": [
      "Params: {'num_layers': 3, 'hidden_dim': 64, 'dropout': 0.3, 'epochs': 300, 'lr': 0.005, 'weight_decay': 0.001, 'batch_size': 128, 'opt': 'adam', 'opt_scheduler': 'none', 'opt_restart': 0, 'model_type': 'GraphSage', 'dataset': 'cora'}\n",
      "Max Test Accuracy: 0.6770\n",
      "Min Loss: 0.0016\n",
      "\n",
      "Node task. test set size: 1000\n",
      "\n"
     ]
    },
    {
     "name": "stderr",
     "output_type": "stream",
     "text": [
      "Training: 100%|██████████| 300/300 [00:21<00:00, 14.21Epochs/s]\n"
     ]
    },
    {
     "name": "stdout",
     "output_type": "stream",
     "text": [
      "Params: {'num_layers': 3, 'hidden_dim': 64, 'dropout': 0.3, 'epochs': 300, 'lr': 0.01, 'weight_decay': 0.0005, 'batch_size': 128, 'opt': 'adam', 'opt_scheduler': 'none', 'opt_restart': 0, 'model_type': 'GraphSage', 'dataset': 'cora'}\n",
      "Max Test Accuracy: 0.6790\n",
      "Min Loss: 0.0014\n",
      "\n",
      "Node task. test set size: 1000\n",
      "\n"
     ]
    },
    {
     "name": "stderr",
     "output_type": "stream",
     "text": [
      "Training: 100%|██████████| 300/300 [00:21<00:00, 14.26Epochs/s]\n"
     ]
    },
    {
     "name": "stdout",
     "output_type": "stream",
     "text": [
      "Params: {'num_layers': 3, 'hidden_dim': 64, 'dropout': 0.3, 'epochs': 300, 'lr': 0.01, 'weight_decay': 0.001, 'batch_size': 128, 'opt': 'adam', 'opt_scheduler': 'none', 'opt_restart': 0, 'model_type': 'GraphSage', 'dataset': 'cora'}\n",
      "Max Test Accuracy: 0.6760\n",
      "Min Loss: 0.0036\n",
      "\n",
      "Node task. test set size: 1000\n",
      "\n"
     ]
    },
    {
     "name": "stderr",
     "output_type": "stream",
     "text": [
      "Training: 100%|██████████| 500/500 [00:37<00:00, 13.25Epochs/s]\n"
     ]
    },
    {
     "name": "stdout",
     "output_type": "stream",
     "text": [
      "Params: {'num_layers': 3, 'hidden_dim': 64, 'dropout': 0.3, 'epochs': 500, 'lr': 0.005, 'weight_decay': 0.0005, 'batch_size': 128, 'opt': 'adam', 'opt_scheduler': 'none', 'opt_restart': 0, 'model_type': 'GraphSage', 'dataset': 'cora'}\n",
      "Max Test Accuracy: 0.7190\n",
      "Min Loss: 0.0009\n",
      "\n",
      "Node task. test set size: 1000\n",
      "\n"
     ]
    },
    {
     "name": "stderr",
     "output_type": "stream",
     "text": [
      "Training: 100%|██████████| 500/500 [00:39<00:00, 12.57Epochs/s]\n"
     ]
    },
    {
     "name": "stdout",
     "output_type": "stream",
     "text": [
      "Params: {'num_layers': 3, 'hidden_dim': 64, 'dropout': 0.3, 'epochs': 500, 'lr': 0.005, 'weight_decay': 0.001, 'batch_size': 128, 'opt': 'adam', 'opt_scheduler': 'none', 'opt_restart': 0, 'model_type': 'GraphSage', 'dataset': 'cora'}\n",
      "Max Test Accuracy: 0.6810\n",
      "Min Loss: 0.0013\n",
      "\n",
      "Node task. test set size: 1000\n",
      "\n"
     ]
    },
    {
     "name": "stderr",
     "output_type": "stream",
     "text": [
      "Training: 100%|██████████| 500/500 [00:39<00:00, 12.50Epochs/s]\n"
     ]
    },
    {
     "name": "stdout",
     "output_type": "stream",
     "text": [
      "Params: {'num_layers': 3, 'hidden_dim': 64, 'dropout': 0.3, 'epochs': 500, 'lr': 0.01, 'weight_decay': 0.0005, 'batch_size': 128, 'opt': 'adam', 'opt_scheduler': 'none', 'opt_restart': 0, 'model_type': 'GraphSage', 'dataset': 'cora'}\n",
      "Max Test Accuracy: 0.6770\n",
      "Min Loss: 0.0004\n",
      "\n",
      "Node task. test set size: 1000\n",
      "\n"
     ]
    },
    {
     "name": "stderr",
     "output_type": "stream",
     "text": [
      "Training: 100%|██████████| 500/500 [00:41<00:00, 12.16Epochs/s]\n"
     ]
    },
    {
     "name": "stdout",
     "output_type": "stream",
     "text": [
      "Params: {'num_layers': 3, 'hidden_dim': 64, 'dropout': 0.3, 'epochs': 500, 'lr': 0.01, 'weight_decay': 0.001, 'batch_size': 128, 'opt': 'adam', 'opt_scheduler': 'none', 'opt_restart': 0, 'model_type': 'GraphSage', 'dataset': 'cora'}\n",
      "Max Test Accuracy: 0.7090\n",
      "Min Loss: 0.0028\n",
      "\n",
      "Node task. test set size: 1000\n",
      "\n"
     ]
    },
    {
     "name": "stderr",
     "output_type": "stream",
     "text": [
      "Training: 100%|██████████| 300/300 [00:24<00:00, 12.17Epochs/s]\n"
     ]
    },
    {
     "name": "stdout",
     "output_type": "stream",
     "text": [
      "Params: {'num_layers': 3, 'hidden_dim': 64, 'dropout': 0.6, 'epochs': 300, 'lr': 0.005, 'weight_decay': 0.0005, 'batch_size': 128, 'opt': 'adam', 'opt_scheduler': 'none', 'opt_restart': 0, 'model_type': 'GraphSage', 'dataset': 'cora'}\n",
      "Max Test Accuracy: 0.7330\n",
      "Min Loss: 0.1894\n",
      "\n",
      "Node task. test set size: 1000\n",
      "\n"
     ]
    },
    {
     "name": "stderr",
     "output_type": "stream",
     "text": [
      "Training: 100%|██████████| 300/300 [00:25<00:00, 11.84Epochs/s]\n"
     ]
    },
    {
     "name": "stdout",
     "output_type": "stream",
     "text": [
      "Params: {'num_layers': 3, 'hidden_dim': 64, 'dropout': 0.6, 'epochs': 300, 'lr': 0.005, 'weight_decay': 0.001, 'batch_size': 128, 'opt': 'adam', 'opt_scheduler': 'none', 'opt_restart': 0, 'model_type': 'GraphSage', 'dataset': 'cora'}\n",
      "Max Test Accuracy: 0.6900\n",
      "Min Loss: 0.2019\n",
      "\n",
      "Node task. test set size: 1000\n",
      "\n"
     ]
    },
    {
     "name": "stderr",
     "output_type": "stream",
     "text": [
      "Training: 100%|██████████| 300/300 [00:22<00:00, 13.06Epochs/s]\n"
     ]
    },
    {
     "name": "stdout",
     "output_type": "stream",
     "text": [
      "Params: {'num_layers': 3, 'hidden_dim': 64, 'dropout': 0.6, 'epochs': 300, 'lr': 0.01, 'weight_decay': 0.0005, 'batch_size': 128, 'opt': 'adam', 'opt_scheduler': 'none', 'opt_restart': 0, 'model_type': 'GraphSage', 'dataset': 'cora'}\n",
      "Max Test Accuracy: 0.6280\n",
      "Min Loss: 0.3226\n",
      "\n",
      "Node task. test set size: 1000\n",
      "\n"
     ]
    },
    {
     "name": "stderr",
     "output_type": "stream",
     "text": [
      "Training: 100%|██████████| 300/300 [00:26<00:00, 11.34Epochs/s]\n"
     ]
    },
    {
     "name": "stdout",
     "output_type": "stream",
     "text": [
      "Params: {'num_layers': 3, 'hidden_dim': 64, 'dropout': 0.6, 'epochs': 300, 'lr': 0.01, 'weight_decay': 0.001, 'batch_size': 128, 'opt': 'adam', 'opt_scheduler': 'none', 'opt_restart': 0, 'model_type': 'GraphSage', 'dataset': 'cora'}\n",
      "Max Test Accuracy: 0.6740\n",
      "Min Loss: 0.1819\n",
      "\n",
      "Node task. test set size: 1000\n",
      "\n"
     ]
    },
    {
     "name": "stderr",
     "output_type": "stream",
     "text": [
      "Training: 100%|██████████| 500/500 [00:41<00:00, 12.11Epochs/s]\n"
     ]
    },
    {
     "name": "stdout",
     "output_type": "stream",
     "text": [
      "Params: {'num_layers': 3, 'hidden_dim': 64, 'dropout': 0.6, 'epochs': 500, 'lr': 0.005, 'weight_decay': 0.0005, 'batch_size': 128, 'opt': 'adam', 'opt_scheduler': 'none', 'opt_restart': 0, 'model_type': 'GraphSage', 'dataset': 'cora'}\n",
      "Max Test Accuracy: 0.7320\n",
      "Min Loss: 0.0890\n",
      "\n",
      "Node task. test set size: 1000\n",
      "\n"
     ]
    },
    {
     "name": "stderr",
     "output_type": "stream",
     "text": [
      "Training: 100%|██████████| 500/500 [00:46<00:00, 10.76Epochs/s]\n"
     ]
    },
    {
     "name": "stdout",
     "output_type": "stream",
     "text": [
      "Params: {'num_layers': 3, 'hidden_dim': 64, 'dropout': 0.6, 'epochs': 500, 'lr': 0.005, 'weight_decay': 0.001, 'batch_size': 128, 'opt': 'adam', 'opt_scheduler': 'none', 'opt_restart': 0, 'model_type': 'GraphSage', 'dataset': 'cora'}\n",
      "Max Test Accuracy: 0.6960\n",
      "Min Loss: 0.0956\n",
      "\n",
      "Node task. test set size: 1000\n",
      "\n"
     ]
    },
    {
     "name": "stderr",
     "output_type": "stream",
     "text": [
      "Training: 100%|██████████| 500/500 [00:41<00:00, 12.01Epochs/s]\n"
     ]
    },
    {
     "name": "stdout",
     "output_type": "stream",
     "text": [
      "Params: {'num_layers': 3, 'hidden_dim': 64, 'dropout': 0.6, 'epochs': 500, 'lr': 0.01, 'weight_decay': 0.0005, 'batch_size': 128, 'opt': 'adam', 'opt_scheduler': 'none', 'opt_restart': 0, 'model_type': 'GraphSage', 'dataset': 'cora'}\n",
      "Max Test Accuracy: 0.7140\n",
      "Min Loss: 0.1001\n",
      "\n",
      "Node task. test set size: 1000\n",
      "\n"
     ]
    },
    {
     "name": "stderr",
     "output_type": "stream",
     "text": [
      "Training: 100%|██████████| 500/500 [00:41<00:00, 12.00Epochs/s]\n"
     ]
    },
    {
     "name": "stdout",
     "output_type": "stream",
     "text": [
      "Params: {'num_layers': 3, 'hidden_dim': 64, 'dropout': 0.6, 'epochs': 500, 'lr': 0.01, 'weight_decay': 0.001, 'batch_size': 128, 'opt': 'adam', 'opt_scheduler': 'none', 'opt_restart': 0, 'model_type': 'GraphSage', 'dataset': 'cora'}\n",
      "Max Test Accuracy: 0.7210\n",
      "Min Loss: 0.0925\n",
      "\n",
      "Node task. test set size: 1000\n",
      "\n"
     ]
    },
    {
     "name": "stderr",
     "output_type": "stream",
     "text": [
      "Training: 100%|██████████| 300/300 [00:40<00:00,  7.46Epochs/s]\n"
     ]
    },
    {
     "name": "stdout",
     "output_type": "stream",
     "text": [
      "Params: {'num_layers': 3, 'hidden_dim': 128, 'dropout': 0.3, 'epochs': 300, 'lr': 0.005, 'weight_decay': 0.0005, 'batch_size': 128, 'opt': 'adam', 'opt_scheduler': 'none', 'opt_restart': 0, 'model_type': 'GraphSage', 'dataset': 'cora'}\n",
      "Max Test Accuracy: 0.5480\n",
      "Min Loss: 0.0002\n",
      "\n",
      "Node task. test set size: 1000\n",
      "\n"
     ]
    },
    {
     "name": "stderr",
     "output_type": "stream",
     "text": [
      "Training: 100%|██████████| 300/300 [00:37<00:00,  7.90Epochs/s]\n"
     ]
    },
    {
     "name": "stdout",
     "output_type": "stream",
     "text": [
      "Params: {'num_layers': 3, 'hidden_dim': 128, 'dropout': 0.3, 'epochs': 300, 'lr': 0.005, 'weight_decay': 0.001, 'batch_size': 128, 'opt': 'adam', 'opt_scheduler': 'none', 'opt_restart': 0, 'model_type': 'GraphSage', 'dataset': 'cora'}\n",
      "Max Test Accuracy: 0.6120\n",
      "Min Loss: 0.0003\n",
      "\n",
      "Node task. test set size: 1000\n",
      "\n"
     ]
    },
    {
     "name": "stderr",
     "output_type": "stream",
     "text": [
      "Training: 100%|██████████| 300/300 [00:36<00:00,  8.31Epochs/s]\n"
     ]
    },
    {
     "name": "stdout",
     "output_type": "stream",
     "text": [
      "Params: {'num_layers': 3, 'hidden_dim': 128, 'dropout': 0.3, 'epochs': 300, 'lr': 0.01, 'weight_decay': 0.0005, 'batch_size': 128, 'opt': 'adam', 'opt_scheduler': 'none', 'opt_restart': 0, 'model_type': 'GraphSage', 'dataset': 'cora'}\n",
      "Max Test Accuracy: 0.6640\n",
      "Min Loss: 0.0003\n",
      "\n",
      "Node task. test set size: 1000\n",
      "\n"
     ]
    },
    {
     "name": "stderr",
     "output_type": "stream",
     "text": [
      "Training: 100%|██████████| 300/300 [00:38<00:00,  7.70Epochs/s]\n"
     ]
    },
    {
     "name": "stdout",
     "output_type": "stream",
     "text": [
      "Params: {'num_layers': 3, 'hidden_dim': 128, 'dropout': 0.3, 'epochs': 300, 'lr': 0.01, 'weight_decay': 0.001, 'batch_size': 128, 'opt': 'adam', 'opt_scheduler': 'none', 'opt_restart': 0, 'model_type': 'GraphSage', 'dataset': 'cora'}\n",
      "Max Test Accuracy: 0.6520\n",
      "Min Loss: 0.0011\n",
      "\n",
      "Node task. test set size: 1000\n",
      "\n"
     ]
    },
    {
     "name": "stderr",
     "output_type": "stream",
     "text": [
      "Training: 100%|██████████| 500/500 [00:59<00:00,  8.45Epochs/s]\n"
     ]
    },
    {
     "name": "stdout",
     "output_type": "stream",
     "text": [
      "Params: {'num_layers': 3, 'hidden_dim': 128, 'dropout': 0.3, 'epochs': 500, 'lr': 0.005, 'weight_decay': 0.0005, 'batch_size': 128, 'opt': 'adam', 'opt_scheduler': 'none', 'opt_restart': 0, 'model_type': 'GraphSage', 'dataset': 'cora'}\n",
      "Max Test Accuracy: 0.6640\n",
      "Min Loss: 0.0001\n",
      "\n",
      "Node task. test set size: 1000\n",
      "\n"
     ]
    },
    {
     "name": "stderr",
     "output_type": "stream",
     "text": [
      "Training: 100%|██████████| 500/500 [01:04<00:00,  7.78Epochs/s]\n"
     ]
    },
    {
     "name": "stdout",
     "output_type": "stream",
     "text": [
      "Params: {'num_layers': 3, 'hidden_dim': 128, 'dropout': 0.3, 'epochs': 500, 'lr': 0.005, 'weight_decay': 0.001, 'batch_size': 128, 'opt': 'adam', 'opt_scheduler': 'none', 'opt_restart': 0, 'model_type': 'GraphSage', 'dataset': 'cora'}\n",
      "Max Test Accuracy: 0.6930\n",
      "Min Loss: 0.0003\n",
      "\n",
      "Node task. test set size: 1000\n",
      "\n"
     ]
    },
    {
     "name": "stderr",
     "output_type": "stream",
     "text": [
      "Training: 100%|██████████| 500/500 [01:02<00:00,  7.94Epochs/s]\n"
     ]
    },
    {
     "name": "stdout",
     "output_type": "stream",
     "text": [
      "Params: {'num_layers': 3, 'hidden_dim': 128, 'dropout': 0.3, 'epochs': 500, 'lr': 0.01, 'weight_decay': 0.0005, 'batch_size': 128, 'opt': 'adam', 'opt_scheduler': 'none', 'opt_restart': 0, 'model_type': 'GraphSage', 'dataset': 'cora'}\n",
      "Max Test Accuracy: 0.6320\n",
      "Min Loss: 0.0003\n",
      "\n",
      "Node task. test set size: 1000\n",
      "\n"
     ]
    },
    {
     "name": "stderr",
     "output_type": "stream",
     "text": [
      "Training: 100%|██████████| 500/500 [01:06<00:00,  7.50Epochs/s]\n"
     ]
    },
    {
     "name": "stdout",
     "output_type": "stream",
     "text": [
      "Params: {'num_layers': 3, 'hidden_dim': 128, 'dropout': 0.3, 'epochs': 500, 'lr': 0.01, 'weight_decay': 0.001, 'batch_size': 128, 'opt': 'adam', 'opt_scheduler': 'none', 'opt_restart': 0, 'model_type': 'GraphSage', 'dataset': 'cora'}\n",
      "Max Test Accuracy: 0.6290\n",
      "Min Loss: 0.0008\n",
      "\n",
      "Node task. test set size: 1000\n",
      "\n"
     ]
    },
    {
     "name": "stderr",
     "output_type": "stream",
     "text": [
      "Training: 100%|██████████| 300/300 [00:38<00:00,  7.72Epochs/s]\n"
     ]
    },
    {
     "name": "stdout",
     "output_type": "stream",
     "text": [
      "Params: {'num_layers': 3, 'hidden_dim': 128, 'dropout': 0.6, 'epochs': 300, 'lr': 0.005, 'weight_decay': 0.0005, 'batch_size': 128, 'opt': 'adam', 'opt_scheduler': 'none', 'opt_restart': 0, 'model_type': 'GraphSage', 'dataset': 'cora'}\n",
      "Max Test Accuracy: 0.7370\n",
      "Min Loss: 0.0100\n",
      "\n",
      "Node task. test set size: 1000\n",
      "\n"
     ]
    },
    {
     "name": "stderr",
     "output_type": "stream",
     "text": [
      "Training: 100%|██████████| 300/300 [00:37<00:00,  8.00Epochs/s]\n"
     ]
    },
    {
     "name": "stdout",
     "output_type": "stream",
     "text": [
      "Params: {'num_layers': 3, 'hidden_dim': 128, 'dropout': 0.6, 'epochs': 300, 'lr': 0.005, 'weight_decay': 0.001, 'batch_size': 128, 'opt': 'adam', 'opt_scheduler': 'none', 'opt_restart': 0, 'model_type': 'GraphSage', 'dataset': 'cora'}\n",
      "Max Test Accuracy: 0.7110\n",
      "Min Loss: 0.0138\n",
      "\n",
      "Node task. test set size: 1000\n",
      "\n"
     ]
    },
    {
     "name": "stderr",
     "output_type": "stream",
     "text": [
      "Training: 100%|██████████| 300/300 [00:36<00:00,  8.31Epochs/s]\n"
     ]
    },
    {
     "name": "stdout",
     "output_type": "stream",
     "text": [
      "Params: {'num_layers': 3, 'hidden_dim': 128, 'dropout': 0.6, 'epochs': 300, 'lr': 0.01, 'weight_decay': 0.0005, 'batch_size': 128, 'opt': 'adam', 'opt_scheduler': 'none', 'opt_restart': 0, 'model_type': 'GraphSage', 'dataset': 'cora'}\n",
      "Max Test Accuracy: 0.7250\n",
      "Min Loss: 0.0165\n",
      "\n",
      "Node task. test set size: 1000\n",
      "\n"
     ]
    },
    {
     "name": "stderr",
     "output_type": "stream",
     "text": [
      "Training: 100%|██████████| 300/300 [00:40<00:00,  7.44Epochs/s]\n"
     ]
    },
    {
     "name": "stdout",
     "output_type": "stream",
     "text": [
      "Params: {'num_layers': 3, 'hidden_dim': 128, 'dropout': 0.6, 'epochs': 300, 'lr': 0.01, 'weight_decay': 0.001, 'batch_size': 128, 'opt': 'adam', 'opt_scheduler': 'none', 'opt_restart': 0, 'model_type': 'GraphSage', 'dataset': 'cora'}\n",
      "Max Test Accuracy: 0.7220\n",
      "Min Loss: 0.0311\n",
      "\n",
      "Node task. test set size: 1000\n",
      "\n"
     ]
    },
    {
     "name": "stderr",
     "output_type": "stream",
     "text": [
      "Training: 100%|██████████| 500/500 [01:12<00:00,  6.93Epochs/s]\n"
     ]
    },
    {
     "name": "stdout",
     "output_type": "stream",
     "text": [
      "Params: {'num_layers': 3, 'hidden_dim': 128, 'dropout': 0.6, 'epochs': 500, 'lr': 0.005, 'weight_decay': 0.0005, 'batch_size': 128, 'opt': 'adam', 'opt_scheduler': 'none', 'opt_restart': 0, 'model_type': 'GraphSage', 'dataset': 'cora'}\n",
      "Max Test Accuracy: 0.6490\n",
      "Min Loss: 0.0045\n",
      "\n",
      "Node task. test set size: 1000\n",
      "\n"
     ]
    },
    {
     "name": "stderr",
     "output_type": "stream",
     "text": [
      "Training: 100%|██████████| 500/500 [01:07<00:00,  7.36Epochs/s]\n"
     ]
    },
    {
     "name": "stdout",
     "output_type": "stream",
     "text": [
      "Params: {'num_layers': 3, 'hidden_dim': 128, 'dropout': 0.6, 'epochs': 500, 'lr': 0.005, 'weight_decay': 0.001, 'batch_size': 128, 'opt': 'adam', 'opt_scheduler': 'none', 'opt_restart': 0, 'model_type': 'GraphSage', 'dataset': 'cora'}\n",
      "Max Test Accuracy: 0.6850\n",
      "Min Loss: 0.0074\n",
      "\n",
      "Node task. test set size: 1000\n",
      "\n"
     ]
    },
    {
     "name": "stderr",
     "output_type": "stream",
     "text": [
      "Training: 100%|██████████| 500/500 [01:06<00:00,  7.49Epochs/s]\n"
     ]
    },
    {
     "name": "stdout",
     "output_type": "stream",
     "text": [
      "Params: {'num_layers': 3, 'hidden_dim': 128, 'dropout': 0.6, 'epochs': 500, 'lr': 0.01, 'weight_decay': 0.0005, 'batch_size': 128, 'opt': 'adam', 'opt_scheduler': 'none', 'opt_restart': 0, 'model_type': 'GraphSage', 'dataset': 'cora'}\n",
      "Max Test Accuracy: 0.6770\n",
      "Min Loss: 0.0095\n",
      "\n",
      "Node task. test set size: 1000\n",
      "\n"
     ]
    },
    {
     "name": "stderr",
     "output_type": "stream",
     "text": [
      "Training: 100%|██████████| 500/500 [01:06<00:00,  7.57Epochs/s]"
     ]
    },
    {
     "name": "stdout",
     "output_type": "stream",
     "text": [
      "Params: {'num_layers': 3, 'hidden_dim': 128, 'dropout': 0.6, 'epochs': 500, 'lr': 0.01, 'weight_decay': 0.001, 'batch_size': 128, 'opt': 'adam', 'opt_scheduler': 'none', 'opt_restart': 0, 'model_type': 'GraphSage', 'dataset': 'cora'}\n",
      "Max Test Accuracy: 0.6870\n",
      "Min Loss: 0.0180\n",
      "\n",
      "Best Hyperparameters Found:\n",
      "{'num_layers': 2, 'hidden_dim': 32, 'dropout': 0.6, 'epochs': 500, 'lr': 0.01, 'weight_decay': 0.0005, 'batch_size': 128, 'opt': 'adam', 'opt_scheduler': 'none', 'opt_restart': 0, 'model_type': 'GraphSage', 'dataset': 'cora'}\n",
      "Best Accuracy: 0.7440\n"
     ]
    },
    {
     "name": "stderr",
     "output_type": "stream",
     "text": [
      "\n"
     ]
    }
   ],
   "source": [
    "import os\n",
    "import itertools\n",
    "import torch\n",
    "import matplotlib.pyplot as plt\n",
    "from torch_geometric.datasets import Planetoid\n",
    "\n",
    "# Define object view to convert dict to object attributes\n",
    "class objectview:\n",
    "    def __init__(self, d):\n",
    "        self.__dict__ = d\n",
    "\n",
    "# Define hyperparameter grid\n",
    "param_grid = {\n",
    "    'num_layers': [2, 3],  # Test different numbers of layers\n",
    "    'hidden_dim': [32, 64, 128],  # Vary hidden dimensions\n",
    "    'dropout': [0.3, 0.6],  # Experiment with dropout rates\n",
    "    'epochs': [300, 500],  # Number of training epochs\n",
    "    'lr': [0.005, 0.01],  # Learning rates\n",
    "    'weight_decay': [5e-4, 1e-3],  # Regularization\n",
    "    'batch_size': [128],  # Keeping fixed for now\n",
    "    'opt': ['adam'],  # Using Adam optimizer\n",
    "    'opt_scheduler': ['none'],  # No scheduler for now\n",
    "    'opt_restart': [0],  # No restart\n",
    "}\n",
    "\n",
    "# Generate all possible hyperparameter combinations\n",
    "hyperparameter_combinations = list(itertools.product(*param_grid.values()))\n",
    "\n",
    "best_acc = 0.0\n",
    "best_params = None\n",
    "\n",
    "# Iterate through each hyperparameter combination\n",
    "for param_set in hyperparameter_combinations:\n",
    "    args_dict = {key: value for key, value in zip(param_grid.keys(), param_set)}\n",
    "    args_dict.update({'model_type': 'GraphSage', 'dataset': 'cora'})  # Fixed parameters\n",
    "    args = objectview(args_dict)\n",
    "\n",
    "    # Load dataset\n",
    "    if args.dataset == 'cora':\n",
    "        dataset = Planetoid(root='/tmp/cora', name='Cora')\n",
    "    else:\n",
    "        raise NotImplementedError(\"Unknown dataset\")\n",
    "\n",
    "    # Train model\n",
    "    test_accs, losses, best_model, acc, test_loader = train(dataset, args)\n",
    "\n",
    "    # Track best model\n",
    "    if max(test_accs) > best_acc:\n",
    "        best_acc = max(test_accs)\n",
    "        best_params = args_dict\n",
    "\n",
    "    # Print results for this configuration\n",
    "    print(f\"Params: {args_dict}\")\n",
    "    print(f\"Max Test Accuracy: {max(test_accs):.4f}\")\n",
    "    print(f\"Min Loss: {min(losses):.4f}\")\n",
    "    print()\n",
    "\n",
    "# Display the best hyperparameter configuration\n",
    "print(\"Best Hyperparameters Found:\")\n",
    "print(best_params)\n",
    "print(f\"Best Accuracy: {best_acc:.4f}\")\n"
   ]
  }
 ],
 "metadata": {
  "colab": {
   "machine_shape": "hm",
   "provenance": []
  },
  "kernelspec": {
   "display_name": "graphmlvenv",
   "language": "python",
   "name": "python3"
  },
  "language_info": {
   "codemirror_mode": {
    "name": "ipython",
    "version": 3
   },
   "file_extension": ".py",
   "mimetype": "text/x-python",
   "name": "python",
   "nbconvert_exporter": "python",
   "pygments_lexer": "ipython3",
   "version": "3.11.5"
  }
 },
 "nbformat": 4,
 "nbformat_minor": 4
}
