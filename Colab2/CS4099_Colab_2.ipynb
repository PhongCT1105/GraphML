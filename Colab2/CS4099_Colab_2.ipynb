{
 "cells": [
  {
   "cell_type": "markdown",
   "metadata": {},
   "source": [
    "**CS 4099: ST: Graph Machine Learning**\n",
    "\n",
    "Before you turn this problem in, make sure everything runs as expected. First, **restart the kernel** (in the menubar, select Kernel $\\rightarrow$ Restart) and then **run all cells** (in the menubar, select Cell $\\rightarrow$ Run All).\n",
    "\n",
    "Make sure you fill in any place that says `YOUR CODE HERE` or \"YOUR ANSWER HERE\", and to delete the line `raise NotImplementedError()` (which are included to remind you in case you forget to solve one of the coding questions).\n",
    "\n",
    "Do not forget to include your name below:"
   ]
  },
  {
   "cell_type": "code",
   "execution_count": 4,
   "metadata": {},
   "outputs": [],
   "source": [
    "NAME = \"Phong Cao\""
   ]
  },
  {
   "cell_type": "markdown",
   "metadata": {},
   "source": [
    "---"
   ]
  },
  {
   "cell_type": "markdown",
   "metadata": {
    "id": "JZ_iB7fxfEYA"
   },
   "source": [
    "# CS4099: Colab 2\n",
    "\n",
    "<font color='fucsia'>DUE: 11:59pm ET Thursday February 13</font>"
   ]
  },
  {
   "cell_type": "markdown",
   "metadata": {
    "id": "Vx_APzIMgYvN"
   },
   "source": [
    "# Network Models (9 questions + 4 ISU only)"
   ]
  },
  {
   "cell_type": "code",
   "execution_count": 5,
   "metadata": {
    "id": "eeGWEN3eiGGD"
   },
   "outputs": [],
   "source": [
    "import numpy as np\n",
    "import matplotlib.pyplot as plt\n",
    "import seaborn as sns\n",
    "import networkx as nx\n",
    "from collections import Counter"
   ]
  },
  {
   "cell_type": "markdown",
   "metadata": {
    "id": "DxyzW53kgc0l"
   },
   "source": [
    "## The $G(n,p)$ model\n",
    "\n",
    "The $G(n,p)$ model -- a.k.a. Erdős–Rényi model -- can exhbit two of the non-trivial properties discussed above, when adequately parameterized:\n",
    "-  short distances and\n",
    "-  the giant component.\n",
    "\n",
    "Let's look at these two properties for graphs generated from $G(n,p)$ with the same number of nodes ($n=10,697$) and edges ($m=31,992$) as the AS graph in the slides."
   ]
  },
  {
   "cell_type": "code",
   "execution_count": 6,
   "metadata": {
    "colab": {
     "base_uri": "https://localhost:8080/"
    },
    "id": "jQdBgYO7fDa4",
    "outputId": "2ad1c66d-2095-4215-c1bd-d071a19f50aa"
   },
   "outputs": [
    {
     "name": "stdout",
     "output_type": "stream",
     "text": [
      "p = 5.6e-04, z = 5.981\n"
     ]
    }
   ],
   "source": [
    "n = 10697\n",
    "m = 31992\n",
    "\n",
    "# compute p and the average degree z\n",
    "p = m/(n*(n-1)/2)\n",
    "z = 2*m/n   # this is more precise than z = p*(n-1)\n",
    "\n",
    "print(f\"p = {p:.1e}, z = {z:.3f}\")"
   ]
  },
  {
   "cell_type": "markdown",
   "metadata": {
    "id": "IEA7ojOig7fa"
   },
   "source": [
    "The theory states that, when $z > 1$, the average distance is $O(\\log n/\\log z)$. Note that this doesn't account for constants, but rather tell us tha tthe average distance grows no faster than $\\log n/\\log z$."
   ]
  },
  {
   "cell_type": "code",
   "execution_count": 7,
   "metadata": {
    "colab": {
     "base_uri": "https://localhost:8080/"
    },
    "id": "CdZ_58ceg3hw",
    "outputId": "645d7c98-4558-4a4e-ac8c-baf44204b40f"
   },
   "outputs": [
    {
     "name": "stdout",
     "output_type": "stream",
     "text": [
      "log n / log z = 5.187\n"
     ]
    }
   ],
   "source": [
    "print(f'log n / log z = {np.log(n)/np.log(z):.3f}')"
   ]
  },
  {
   "cell_type": "markdown",
   "metadata": {
    "id": "WwlhTM-PhGBI"
   },
   "source": [
    "Let's generate a synthetic network that has the same number of nodes and edges.\n",
    "\n",
    "Q1. Generate one network `G` from the $G(n,p)$ model using the parameters above. You are allowed to use functions from `networkx`."
   ]
  },
  {
   "cell_type": "code",
   "execution_count": 8,
   "metadata": {
    "id": "RkyiETSYi9xy"
   },
   "outputs": [],
   "source": [
    "np.random.seed(123)"
   ]
  },
  {
   "cell_type": "code",
   "execution_count": 9,
   "metadata": {
    "deletable": false,
    "id": "9dNB80Boh-Ds",
    "nbgrader": {
     "cell_type": "code",
     "checksum": "013cd1aab5b452900842e318c75d45d9",
     "grade": true,
     "grade_id": "gnp_1",
     "locked": false,
     "points": 1,
     "schema_version": 3,
     "solution": true,
     "task": false
    }
   },
   "outputs": [],
   "source": [
    "# A1. (1 line)\n",
    "# YOUR CODE HERE\n",
    "\n",
    "# Generate a random graph using the G(n, p) model\n",
    "G = nx.erdos_renyi_graph(n, p, seed=42)"
   ]
  },
  {
   "cell_type": "markdown",
   "metadata": {
    "id": "L7PqicF5iVAS"
   },
   "source": [
    "Q2. Get the size `max_size` (in number of nodes) of the largest connected component in G."
   ]
  },
  {
   "cell_type": "code",
   "execution_count": 10,
   "metadata": {
    "deletable": false,
    "id": "12iPHxLyiUXp",
    "nbgrader": {
     "cell_type": "code",
     "checksum": "4ad3931ab7a3e1912a8e22b0115c339c",
     "grade": true,
     "grade_id": "gnp_2",
     "locked": false,
     "points": 1,
     "schema_version": 3,
     "solution": true,
     "task": false
    }
   },
   "outputs": [
    {
     "data": {
      "text/plain": [
       "10668"
      ]
     },
     "execution_count": 10,
     "metadata": {},
     "output_type": "execute_result"
    }
   ],
   "source": [
    "# A2. (~2-6 lines)\n",
    "\n",
    "# YOUR CODE HERE\n",
    "# Find the largest connected component in G\n",
    "largest_cc = max(nx.connected_components(G), key=len)\n",
    "max_size = len(largest_cc)\n",
    "\n",
    "max_size\n"
   ]
  },
  {
   "cell_type": "markdown",
   "metadata": {
    "id": "E_3onI_MjNPs"
   },
   "source": [
    "\n",
    "\n",
    "Q3. So, would you say that this graph has a giant component? Did you expect this to be the case? Why?"
   ]
  },
  {
   "cell_type": "markdown",
   "metadata": {
    "deletable": false,
    "id": "aPBgcPqqjlJb",
    "nbgrader": {
     "cell_type": "markdown",
     "checksum": "47c1024cf405f04e11ea7a5a9c5caae1",
     "grade": true,
     "grade_id": "gnp_3",
     "locked": false,
     "points": 2,
     "schema_version": 3,
     "solution": true,
     "task": false
    }
   },
   "source": [
    "Yes the largest components contain 10668 nodes in 10697 nodes which is almost of the total nodes available. Yes, I did expect this because with z > 1, the G(n, p) has a giant component. In this case z = 5.981 which is much more than 1 so it have a giant component. This is the supercritical regiem case."
   ]
  },
  {
   "cell_type": "markdown",
   "metadata": {
    "id": "0IDo9zOHj_J1"
   },
   "source": [
    "Q4. We now want to study the distribution of distances in the graph. Since some nodes are unreachable, let's focus on the largest connected component (LCC). One issue is that, depending on number of nodes in the LCC, computing the distance between all pairs can be very expensive.\n",
    "\n",
    "Instead, sample a bunch `nbunch` of 100 nodes from the LCC containing only 5 nodes. Next, compute the distances between each node in `nbunch` and all the other nodes in the LCC, saving the results to `all_dist`."
   ]
  },
  {
   "cell_type": "code",
   "execution_count": 11,
   "metadata": {
    "deletable": false,
    "id": "vuexBmKNjEb4",
    "nbgrader": {
     "cell_type": "code",
     "checksum": "005f02b11bc8eef70440ac38c7bc001b",
     "grade": true,
     "grade_id": "gnp_4",
     "locked": false,
     "points": 5,
     "schema_version": 3,
     "solution": true,
     "task": false
    }
   },
   "outputs": [
    {
     "data": {
      "text/plain": [
       "[0,\n",
       " 1,\n",
       " 1,\n",
       " 1,\n",
       " 1,\n",
       " 1,\n",
       " 2,\n",
       " 2,\n",
       " 2,\n",
       " 2,\n",
       " 2,\n",
       " 2,\n",
       " 2,\n",
       " 2,\n",
       " 2,\n",
       " 2,\n",
       " 2,\n",
       " 2,\n",
       " 2,\n",
       " 2,\n",
       " 2,\n",
       " 2,\n",
       " 2,\n",
       " 2,\n",
       " 2,\n",
       " 2,\n",
       " 2,\n",
       " 2,\n",
       " 2,\n",
       " 2,\n",
       " 2,\n",
       " 2,\n",
       " 2,\n",
       " 2,\n",
       " 2,\n",
       " 3,\n",
       " 3,\n",
       " 3,\n",
       " 3,\n",
       " 3,\n",
       " 3,\n",
       " 3,\n",
       " 3,\n",
       " 3,\n",
       " 3,\n",
       " 3,\n",
       " 3,\n",
       " 3,\n",
       " 3,\n",
       " 3,\n",
       " 3,\n",
       " 3,\n",
       " 3,\n",
       " 3,\n",
       " 3,\n",
       " 3,\n",
       " 3,\n",
       " 3,\n",
       " 3,\n",
       " 3,\n",
       " 3,\n",
       " 3,\n",
       " 3,\n",
       " 3,\n",
       " 3,\n",
       " 3,\n",
       " 3,\n",
       " 3,\n",
       " 3,\n",
       " 3,\n",
       " 3,\n",
       " 3,\n",
       " 3,\n",
       " 3,\n",
       " 3,\n",
       " 3,\n",
       " 3,\n",
       " 3,\n",
       " 3,\n",
       " 3,\n",
       " 3,\n",
       " 3,\n",
       " 3,\n",
       " 3,\n",
       " 3,\n",
       " 3,\n",
       " 3,\n",
       " 3,\n",
       " 3,\n",
       " 3,\n",
       " 3,\n",
       " 3,\n",
       " 3,\n",
       " 3,\n",
       " 3,\n",
       " 3,\n",
       " 3,\n",
       " 3,\n",
       " 3,\n",
       " 3,\n",
       " 3,\n",
       " 3,\n",
       " 3,\n",
       " 3,\n",
       " 3,\n",
       " 3,\n",
       " 3,\n",
       " 3,\n",
       " 3,\n",
       " 3,\n",
       " 3,\n",
       " 3,\n",
       " 3,\n",
       " 3,\n",
       " 3,\n",
       " 3,\n",
       " 3,\n",
       " 3,\n",
       " 3,\n",
       " 3,\n",
       " 3,\n",
       " 3,\n",
       " 3,\n",
       " 3,\n",
       " 3,\n",
       " 3,\n",
       " 3,\n",
       " 3,\n",
       " 3,\n",
       " 3,\n",
       " 3,\n",
       " 3,\n",
       " 3,\n",
       " 3,\n",
       " 3,\n",
       " 3,\n",
       " 3,\n",
       " 3,\n",
       " 3,\n",
       " 3,\n",
       " 3,\n",
       " 3,\n",
       " 3,\n",
       " 3,\n",
       " 3,\n",
       " 3,\n",
       " 3,\n",
       " 3,\n",
       " 3,\n",
       " 3,\n",
       " 3,\n",
       " 3,\n",
       " 3,\n",
       " 3,\n",
       " 3,\n",
       " 3,\n",
       " 3,\n",
       " 3,\n",
       " 3,\n",
       " 3,\n",
       " 3,\n",
       " 3,\n",
       " 3,\n",
       " 3,\n",
       " 3,\n",
       " 3,\n",
       " 3,\n",
       " 3,\n",
       " 3,\n",
       " 3,\n",
       " 3,\n",
       " 3,\n",
       " 3,\n",
       " 3,\n",
       " 3,\n",
       " 3,\n",
       " 3,\n",
       " 3,\n",
       " 3,\n",
       " 3,\n",
       " 3,\n",
       " 3,\n",
       " 3,\n",
       " 3,\n",
       " 3,\n",
       " 3,\n",
       " 3,\n",
       " 3,\n",
       " 3,\n",
       " 3,\n",
       " 3,\n",
       " 3,\n",
       " 4,\n",
       " 4,\n",
       " 4,\n",
       " 4,\n",
       " 4,\n",
       " 4,\n",
       " 4,\n",
       " 4,\n",
       " 4,\n",
       " 4,\n",
       " 4,\n",
       " 4,\n",
       " 4,\n",
       " 4,\n",
       " 4,\n",
       " 4,\n",
       " 4,\n",
       " 4,\n",
       " 4,\n",
       " 4,\n",
       " 4,\n",
       " 4,\n",
       " 4,\n",
       " 4,\n",
       " 4,\n",
       " 4,\n",
       " 4,\n",
       " 4,\n",
       " 4,\n",
       " 4,\n",
       " 4,\n",
       " 4,\n",
       " 4,\n",
       " 4,\n",
       " 4,\n",
       " 4,\n",
       " 4,\n",
       " 4,\n",
       " 4,\n",
       " 4,\n",
       " 4,\n",
       " 4,\n",
       " 4,\n",
       " 4,\n",
       " 4,\n",
       " 4,\n",
       " 4,\n",
       " 4,\n",
       " 4,\n",
       " 4,\n",
       " 4,\n",
       " 4,\n",
       " 4,\n",
       " 4,\n",
       " 4,\n",
       " 4,\n",
       " 4,\n",
       " 4,\n",
       " 4,\n",
       " 4,\n",
       " 4,\n",
       " 4,\n",
       " 4,\n",
       " 4,\n",
       " 4,\n",
       " 4,\n",
       " 4,\n",
       " 4,\n",
       " 4,\n",
       " 4,\n",
       " 4,\n",
       " 4,\n",
       " 4,\n",
       " 4,\n",
       " 4,\n",
       " 4,\n",
       " 4,\n",
       " 4,\n",
       " 4,\n",
       " 4,\n",
       " 4,\n",
       " 4,\n",
       " 4,\n",
       " 4,\n",
       " 4,\n",
       " 4,\n",
       " 4,\n",
       " 4,\n",
       " 4,\n",
       " 4,\n",
       " 4,\n",
       " 4,\n",
       " 4,\n",
       " 4,\n",
       " 4,\n",
       " 4,\n",
       " 4,\n",
       " 4,\n",
       " 4,\n",
       " 4,\n",
       " 4,\n",
       " 4,\n",
       " 4,\n",
       " 4,\n",
       " 4,\n",
       " 4,\n",
       " 4,\n",
       " 4,\n",
       " 4,\n",
       " 4,\n",
       " 4,\n",
       " 4,\n",
       " 4,\n",
       " 4,\n",
       " 4,\n",
       " 4,\n",
       " 4,\n",
       " 4,\n",
       " 4,\n",
       " 4,\n",
       " 4,\n",
       " 4,\n",
       " 4,\n",
       " 4,\n",
       " 4,\n",
       " 4,\n",
       " 4,\n",
       " 4,\n",
       " 4,\n",
       " 4,\n",
       " 4,\n",
       " 4,\n",
       " 4,\n",
       " 4,\n",
       " 4,\n",
       " 4,\n",
       " 4,\n",
       " 4,\n",
       " 4,\n",
       " 4,\n",
       " 4,\n",
       " 4,\n",
       " 4,\n",
       " 4,\n",
       " 4,\n",
       " 4,\n",
       " 4,\n",
       " 4,\n",
       " 4,\n",
       " 4,\n",
       " 4,\n",
       " 4,\n",
       " 4,\n",
       " 4,\n",
       " 4,\n",
       " 4,\n",
       " 4,\n",
       " 4,\n",
       " 4,\n",
       " 4,\n",
       " 4,\n",
       " 4,\n",
       " 4,\n",
       " 4,\n",
       " 4,\n",
       " 4,\n",
       " 4,\n",
       " 4,\n",
       " 4,\n",
       " 4,\n",
       " 4,\n",
       " 4,\n",
       " 4,\n",
       " 4,\n",
       " 4,\n",
       " 4,\n",
       " 4,\n",
       " 4,\n",
       " 4,\n",
       " 4,\n",
       " 4,\n",
       " 4,\n",
       " 4,\n",
       " 4,\n",
       " 4,\n",
       " 4,\n",
       " 4,\n",
       " 4,\n",
       " 4,\n",
       " 4,\n",
       " 4,\n",
       " 4,\n",
       " 4,\n",
       " 4,\n",
       " 4,\n",
       " 4,\n",
       " 4,\n",
       " 4,\n",
       " 4,\n",
       " 4,\n",
       " 4,\n",
       " 4,\n",
       " 4,\n",
       " 4,\n",
       " 4,\n",
       " 4,\n",
       " 4,\n",
       " 4,\n",
       " 4,\n",
       " 4,\n",
       " 4,\n",
       " 4,\n",
       " 4,\n",
       " 4,\n",
       " 4,\n",
       " 4,\n",
       " 4,\n",
       " 4,\n",
       " 4,\n",
       " 4,\n",
       " 4,\n",
       " 4,\n",
       " 4,\n",
       " 4,\n",
       " 4,\n",
       " 4,\n",
       " 4,\n",
       " 4,\n",
       " 4,\n",
       " 4,\n",
       " 4,\n",
       " 4,\n",
       " 4,\n",
       " 4,\n",
       " 4,\n",
       " 4,\n",
       " 4,\n",
       " 4,\n",
       " 4,\n",
       " 4,\n",
       " 4,\n",
       " 4,\n",
       " 4,\n",
       " 4,\n",
       " 4,\n",
       " 4,\n",
       " 4,\n",
       " 4,\n",
       " 4,\n",
       " 4,\n",
       " 4,\n",
       " 4,\n",
       " 4,\n",
       " 4,\n",
       " 4,\n",
       " 4,\n",
       " 4,\n",
       " 4,\n",
       " 4,\n",
       " 4,\n",
       " 4,\n",
       " 4,\n",
       " 4,\n",
       " 4,\n",
       " 4,\n",
       " 4,\n",
       " 4,\n",
       " 4,\n",
       " 4,\n",
       " 4,\n",
       " 4,\n",
       " 4,\n",
       " 4,\n",
       " 4,\n",
       " 4,\n",
       " 4,\n",
       " 4,\n",
       " 4,\n",
       " 4,\n",
       " 4,\n",
       " 4,\n",
       " 4,\n",
       " 4,\n",
       " 4,\n",
       " 4,\n",
       " 4,\n",
       " 4,\n",
       " 4,\n",
       " 4,\n",
       " 4,\n",
       " 4,\n",
       " 4,\n",
       " 4,\n",
       " 4,\n",
       " 4,\n",
       " 4,\n",
       " 4,\n",
       " 4,\n",
       " 4,\n",
       " 4,\n",
       " 4,\n",
       " 4,\n",
       " 4,\n",
       " 4,\n",
       " 4,\n",
       " 4,\n",
       " 4,\n",
       " 4,\n",
       " 4,\n",
       " 4,\n",
       " 4,\n",
       " 4,\n",
       " 4,\n",
       " 4,\n",
       " 4,\n",
       " 4,\n",
       " 4,\n",
       " 4,\n",
       " 4,\n",
       " 4,\n",
       " 4,\n",
       " 4,\n",
       " 4,\n",
       " 4,\n",
       " 4,\n",
       " 4,\n",
       " 4,\n",
       " 4,\n",
       " 4,\n",
       " 4,\n",
       " 4,\n",
       " 4,\n",
       " 4,\n",
       " 4,\n",
       " 4,\n",
       " 4,\n",
       " 4,\n",
       " 4,\n",
       " 4,\n",
       " 4,\n",
       " 4,\n",
       " 4,\n",
       " 4,\n",
       " 4,\n",
       " 4,\n",
       " 4,\n",
       " 4,\n",
       " 4,\n",
       " 4,\n",
       " 4,\n",
       " 4,\n",
       " 4,\n",
       " 4,\n",
       " 4,\n",
       " 4,\n",
       " 4,\n",
       " 4,\n",
       " 4,\n",
       " 4,\n",
       " 4,\n",
       " 4,\n",
       " 4,\n",
       " 4,\n",
       " 4,\n",
       " 4,\n",
       " 4,\n",
       " 4,\n",
       " 4,\n",
       " 4,\n",
       " 4,\n",
       " 4,\n",
       " 4,\n",
       " 4,\n",
       " 4,\n",
       " 4,\n",
       " 4,\n",
       " 4,\n",
       " 4,\n",
       " 4,\n",
       " 4,\n",
       " 4,\n",
       " 4,\n",
       " 4,\n",
       " 4,\n",
       " 4,\n",
       " 4,\n",
       " 4,\n",
       " 4,\n",
       " 4,\n",
       " 4,\n",
       " 4,\n",
       " 4,\n",
       " 4,\n",
       " 4,\n",
       " 4,\n",
       " 4,\n",
       " 4,\n",
       " 4,\n",
       " 4,\n",
       " 4,\n",
       " 4,\n",
       " 4,\n",
       " 4,\n",
       " 4,\n",
       " 4,\n",
       " 4,\n",
       " 4,\n",
       " 4,\n",
       " 4,\n",
       " 4,\n",
       " 4,\n",
       " 4,\n",
       " 4,\n",
       " 4,\n",
       " 4,\n",
       " 4,\n",
       " 4,\n",
       " 4,\n",
       " 4,\n",
       " 4,\n",
       " 4,\n",
       " 4,\n",
       " 4,\n",
       " 4,\n",
       " 4,\n",
       " 4,\n",
       " 4,\n",
       " 4,\n",
       " 4,\n",
       " 4,\n",
       " 4,\n",
       " 4,\n",
       " 4,\n",
       " 4,\n",
       " 4,\n",
       " 4,\n",
       " 4,\n",
       " 4,\n",
       " 4,\n",
       " 4,\n",
       " 4,\n",
       " 4,\n",
       " 4,\n",
       " 4,\n",
       " 4,\n",
       " 4,\n",
       " 4,\n",
       " 4,\n",
       " 4,\n",
       " 4,\n",
       " 4,\n",
       " 4,\n",
       " 4,\n",
       " 4,\n",
       " 4,\n",
       " 4,\n",
       " 4,\n",
       " 4,\n",
       " 4,\n",
       " 4,\n",
       " 4,\n",
       " 4,\n",
       " 4,\n",
       " 4,\n",
       " 4,\n",
       " 4,\n",
       " 4,\n",
       " 4,\n",
       " 4,\n",
       " 4,\n",
       " 4,\n",
       " 4,\n",
       " 4,\n",
       " 4,\n",
       " 4,\n",
       " 4,\n",
       " 4,\n",
       " 4,\n",
       " 4,\n",
       " 4,\n",
       " 4,\n",
       " 4,\n",
       " 4,\n",
       " 4,\n",
       " 4,\n",
       " 4,\n",
       " 4,\n",
       " 4,\n",
       " 4,\n",
       " 4,\n",
       " 4,\n",
       " 4,\n",
       " 4,\n",
       " 4,\n",
       " 4,\n",
       " 4,\n",
       " 4,\n",
       " 4,\n",
       " 4,\n",
       " 4,\n",
       " 4,\n",
       " 4,\n",
       " 4,\n",
       " 4,\n",
       " 4,\n",
       " 4,\n",
       " 4,\n",
       " 4,\n",
       " 4,\n",
       " 4,\n",
       " 4,\n",
       " 4,\n",
       " 4,\n",
       " 4,\n",
       " 4,\n",
       " 4,\n",
       " 4,\n",
       " 4,\n",
       " 4,\n",
       " 4,\n",
       " 4,\n",
       " 4,\n",
       " 4,\n",
       " 4,\n",
       " 4,\n",
       " 4,\n",
       " 4,\n",
       " 4,\n",
       " 4,\n",
       " 4,\n",
       " 4,\n",
       " 4,\n",
       " 4,\n",
       " 4,\n",
       " 4,\n",
       " 4,\n",
       " 4,\n",
       " 4,\n",
       " 4,\n",
       " 4,\n",
       " 4,\n",
       " 4,\n",
       " 4,\n",
       " 4,\n",
       " 4,\n",
       " 4,\n",
       " 4,\n",
       " 4,\n",
       " 4,\n",
       " 4,\n",
       " 4,\n",
       " 4,\n",
       " 4,\n",
       " 4,\n",
       " 4,\n",
       " 4,\n",
       " 4,\n",
       " 4,\n",
       " 4,\n",
       " 4,\n",
       " 4,\n",
       " 4,\n",
       " 4,\n",
       " 4,\n",
       " 4,\n",
       " 4,\n",
       " 4,\n",
       " 4,\n",
       " 4,\n",
       " 4,\n",
       " 4,\n",
       " 4,\n",
       " 4,\n",
       " 4,\n",
       " 4,\n",
       " 4,\n",
       " 4,\n",
       " 4,\n",
       " 4,\n",
       " 4,\n",
       " 4,\n",
       " 4,\n",
       " 4,\n",
       " 4,\n",
       " 4,\n",
       " 4,\n",
       " 4,\n",
       " 4,\n",
       " 4,\n",
       " 4,\n",
       " 4,\n",
       " 4,\n",
       " 4,\n",
       " 4,\n",
       " 4,\n",
       " 4,\n",
       " 4,\n",
       " 4,\n",
       " 4,\n",
       " 4,\n",
       " 4,\n",
       " 4,\n",
       " 4,\n",
       " 4,\n",
       " 4,\n",
       " 4,\n",
       " 4,\n",
       " 4,\n",
       " 4,\n",
       " 4,\n",
       " 4,\n",
       " 4,\n",
       " 4,\n",
       " 4,\n",
       " 4,\n",
       " 4,\n",
       " 4,\n",
       " 4,\n",
       " 4,\n",
       " 4,\n",
       " 4,\n",
       " 4,\n",
       " 4,\n",
       " 4,\n",
       " 4,\n",
       " 4,\n",
       " 4,\n",
       " 4,\n",
       " 4,\n",
       " 4,\n",
       " 4,\n",
       " 4,\n",
       " 4,\n",
       " 4,\n",
       " 4,\n",
       " 4,\n",
       " 4,\n",
       " 4,\n",
       " 4,\n",
       " 4,\n",
       " 4,\n",
       " 4,\n",
       " 4,\n",
       " 4,\n",
       " 4,\n",
       " 4,\n",
       " 4,\n",
       " 4,\n",
       " 4,\n",
       " 4,\n",
       " 4,\n",
       " 4,\n",
       " 4,\n",
       " 4,\n",
       " 4,\n",
       " 4,\n",
       " 4,\n",
       " 4,\n",
       " 4,\n",
       " 4,\n",
       " 4,\n",
       " 4,\n",
       " 4,\n",
       " 4,\n",
       " 4,\n",
       " 4,\n",
       " 4,\n",
       " 4,\n",
       " 4,\n",
       " 4,\n",
       " 4,\n",
       " 4,\n",
       " 4,\n",
       " 4,\n",
       " 4,\n",
       " 4,\n",
       " 4,\n",
       " 4,\n",
       " 4,\n",
       " 4,\n",
       " 4,\n",
       " 4,\n",
       " 4,\n",
       " 4,\n",
       " 4,\n",
       " 4,\n",
       " 4,\n",
       " 4,\n",
       " 4,\n",
       " 4,\n",
       " 4,\n",
       " 4,\n",
       " 4,\n",
       " 4,\n",
       " 4,\n",
       " 4,\n",
       " 4,\n",
       " 4,\n",
       " 4,\n",
       " 4,\n",
       " 4,\n",
       " 4,\n",
       " 4,\n",
       " 4,\n",
       " 4,\n",
       " 4,\n",
       " 4,\n",
       " 4,\n",
       " 4,\n",
       " 4,\n",
       " 4,\n",
       " 4,\n",
       " 4,\n",
       " 4,\n",
       " 4,\n",
       " 4,\n",
       " 4,\n",
       " 4,\n",
       " 4,\n",
       " 4,\n",
       " 4,\n",
       " 4,\n",
       " 4,\n",
       " 4,\n",
       " 4,\n",
       " 4,\n",
       " 4,\n",
       " 4,\n",
       " 4,\n",
       " 4,\n",
       " 4,\n",
       " 4,\n",
       " 4,\n",
       " 4,\n",
       " 4,\n",
       " 4,\n",
       " 4,\n",
       " 4,\n",
       " 4,\n",
       " 4,\n",
       " 4,\n",
       " 4,\n",
       " 4,\n",
       " 4,\n",
       " 4,\n",
       " 4,\n",
       " 4,\n",
       " 4,\n",
       " 4,\n",
       " 4,\n",
       " 4,\n",
       " 4,\n",
       " 4,\n",
       " 4,\n",
       " 4,\n",
       " 4,\n",
       " 4,\n",
       " 4,\n",
       " 4,\n",
       " 4,\n",
       " 4,\n",
       " 4,\n",
       " 4,\n",
       " 4,\n",
       " 4,\n",
       " 4,\n",
       " 4,\n",
       " 4,\n",
       " 4,\n",
       " 4,\n",
       " 4,\n",
       " 4,\n",
       " 4,\n",
       " 4,\n",
       " 4,\n",
       " 4,\n",
       " 4,\n",
       " 4,\n",
       " 4,\n",
       " 4,\n",
       " 4,\n",
       " 4,\n",
       " 4,\n",
       " 4,\n",
       " 4,\n",
       " 4,\n",
       " 4,\n",
       " 4,\n",
       " 4,\n",
       " 4,\n",
       " 4,\n",
       " 4,\n",
       " 4,\n",
       " 4,\n",
       " 4,\n",
       " 4,\n",
       " 4,\n",
       " 4,\n",
       " 4,\n",
       " 4,\n",
       " 4,\n",
       " 4,\n",
       " 4,\n",
       " 4,\n",
       " 4,\n",
       " 4,\n",
       " 4,\n",
       " 4,\n",
       " ...]"
      ]
     },
     "execution_count": 11,
     "metadata": {},
     "output_type": "execute_result"
    }
   ],
   "source": [
    "# A4. (~5-6 lines)\n",
    "# YOUR CODE HERE\n",
    "import random\n",
    "\n",
    "# Sample 100 nodes from the LCC\n",
    "nbunch = random.sample(sorted(largest_cc), 100)\n",
    "\n",
    "# Compute shortest path lengths from each sampled node to all other nodes in LCC\n",
    "all_dist = {node: nx.single_source_shortest_path_length(G, node) for node in nbunch}\n",
    "all_dist = [dist for dists in all_dist.values() for dist in dists.values()]\n",
    "\n",
    "all_dist"
   ]
  },
  {
   "cell_type": "code",
   "execution_count": 12,
   "metadata": {
    "colab": {
     "base_uri": "https://localhost:8080/"
    },
    "id": "ZdWvxChWliav",
    "outputId": "2dc1dc38-3802-4644-a00d-a12fc34b37f3"
   },
   "outputs": [
    {
     "name": "stdout",
     "output_type": "stream",
     "text": [
      "The average distance is 5.426\n"
     ]
    }
   ],
   "source": [
    "print(f\"The average distance is {np.mean(all_dist):.3f}\") # is this close to what the theory suggests?"
   ]
  },
  {
   "cell_type": "markdown",
   "metadata": {
    "id": "jw4Fmq3dob5v"
   },
   "source": [
    "Below we compute the empirical pmf (probability mass function) of distances in the LCC, storing the distance values in `dist` and the respective relative frequencies in `prob`."
   ]
  },
  {
   "cell_type": "code",
   "execution_count": 13,
   "metadata": {
    "colab": {
     "base_uri": "https://localhost:8080/",
     "height": 386
    },
    "id": "4BRdK13om_hQ",
    "outputId": "b6fc4b93-5a42-4d53-84c7-13b256ce5363"
   },
   "outputs": [
    {
     "name": "stdout",
     "output_type": "stream",
     "text": [
      "Average distance: 5.426\n"
     ]
    },
    {
     "data": {
      "text/plain": [
       "<matplotlib.legend.Legend at 0x3f93b8c0>"
      ]
     },
     "execution_count": 13,
     "metadata": {},
     "output_type": "execute_result"
    },
    {
     "data": {
      "image/png": "[encoded data removed]",
      "text/plain": [
       "<Figure size 400x300 with 1 Axes>"
      ]
     },
     "metadata": {},
     "output_type": "display_data"
    }
   ],
   "source": [
    "# get distance distribution\n",
    "dist_count = Counter(all_dist)\n",
    "dist, cnt = zip(*dist_count.items())\n",
    "\n",
    "# convert counts to probability (relative frequency)\n",
    "prob = np.array(cnt) / len(all_dist)\n",
    "\n",
    "# compute average\n",
    "avg_dist = np.sum(np.array(dist) * prob)\n",
    "print(f\"Average distance: {avg_dist:.3f}\")\n",
    "\n",
    "fig, ax = plt.subplots(1, 1, figsize=(4, 3))\n",
    "ax.plot(dist, prob, label=f'Avg dist: {avg_dist:.3f}') # nicer to plot lines than points here\n",
    "ax.set_title(\"G(n,p): LCC distance distribution\")\n",
    "ax.set_ylabel(\"P(distance = d)\")\n",
    "ax.set_xlabel(\"distance d\")\n",
    "ax.legend()"
   ]
  },
  {
   "cell_type": "markdown",
   "metadata": {
    "id": "Ondy5Se-qPXe"
   },
   "source": [
    "A5. [ISU STUDENTS ONLY] You will now implement a graph generator based on the $G(n,p)$ model. To keep things simple, you will iterate over all pairs of nodes and randomly determine the existence of the edge."
   ]
  },
  {
   "cell_type": "code",
   "execution_count": null,
   "metadata": {
    "deletable": false,
    "id": "oHIdkRMguoaa",
    "nbgrader": {
     "cell_type": "code",
     "checksum": "6206d417d4d718592762d2f1ff016377",
     "grade": true,
     "grade_id": "gnp_5",
     "locked": false,
     "points": 5,
     "schema_version": 3,
     "solution": true,
     "task": false
    }
   },
   "outputs": [],
   "source": [
    "# A5. (5 lines)\n",
    "def gen_gnp(n, p):\n",
    "  G = nx.Graph()\n",
    "\n",
    "# YOUR CODE HERE\n",
    "raise NotImplementedError()\n",
    "  return G"
   ]
  },
  {
   "cell_type": "code",
   "execution_count": null,
   "metadata": {
    "id": "TEv-hdCYvUmq"
   },
   "outputs": [],
   "source": [
    "n = 10000\n",
    "p = 0.1\n",
    "G = gen_gnp(n, p)"
   ]
  },
  {
   "cell_type": "markdown",
   "metadata": {
    "id": "a1Krb0pOvQsm"
   },
   "source": [
    "A6. [ISU STUDENTS ONLY] The code above should take 30--60s to run. Can you think of one way to make that code more efficient? (Needs to run in less than 30s; it is OK if it ends up generating self-loops)."
   ]
  },
  {
   "cell_type": "code",
   "execution_count": null,
   "metadata": {
    "deletable": false,
    "id": "_JovqgG4v3Wu",
    "nbgrader": {
     "cell_type": "code",
     "checksum": "328db036908f1d1ab78a818464bce31a",
     "grade": true,
     "grade_id": "gnp_6",
     "locked": false,
     "points": 5,
     "schema_version": 3,
     "solution": true,
     "task": false
    }
   },
   "outputs": [],
   "source": [
    "# A6. (5 lines)\n",
    "def gen_gnp(n, p):\n",
    "  G = nx.Graph()\n",
    "\n",
    "# YOUR CODE HERE\n",
    "raise NotImplementedError()\n",
    "  return G"
   ]
  },
  {
   "cell_type": "code",
   "execution_count": null,
   "metadata": {
    "id": "CRCm6uyFv3zs"
   },
   "outputs": [],
   "source": [
    "n = 10000\n",
    "p = 0.1\n",
    "G = gen_gnp(n, p)"
   ]
  },
  {
   "cell_type": "markdown",
   "metadata": {
    "id": "NwRbODSFqBTz"
   },
   "source": [
    "## The Preferential Attachment model"
   ]
  },
  {
   "cell_type": "markdown",
   "metadata": {
    "id": "nrw38SsEqGuX"
   },
   "source": [
    "The PA model - a.k.a. Barabási-Albert model - has two parameters:\n",
    "- the size of the initial clique (not too important)\n",
    "- the number of edges $m$ added with each node\n",
    "\n",
    "Since it is a generative model, we can keep growing the graph until a desired $n$.\n",
    "\n",
    "Graphs generated from the PA model can exhibit three of the non-trivial structural properties we discussed in the lecture:\n",
    "- Short distances\n",
    "- Heavy-tailed degree distribution\n",
    "- Giant component\n",
    "\n",
    "A7. Generate a graph from the PA model with the same number of nodes ($n=10,697$) and approximately the same average degree ($m=6$) as the AS graph. (Think about what the initial graph should look like)."
   ]
  },
  {
   "cell_type": "code",
   "execution_count": 14,
   "metadata": {
    "id": "Ktm7um1jpMOB"
   },
   "outputs": [],
   "source": [
    "# generate a graph from the Barabási-Albert model\n",
    "n = 10697\n",
    "m = 6\n",
    "\n",
    "np.random.seed(123)"
   ]
  },
  {
   "cell_type": "code",
   "execution_count": 15,
   "metadata": {
    "deletable": false,
    "id": "tebAdTaCzO0j",
    "nbgrader": {
     "cell_type": "code",
     "checksum": "2c059823e1ceab1f14ba0aa956a8a3b7",
     "grade": true,
     "grade_id": "gnp_7",
     "locked": false,
     "points": 1,
     "schema_version": 3,
     "solution": true,
     "task": false
    }
   },
   "outputs": [],
   "source": [
    "# A7. (1 line)\n",
    "# YOUR CODE HERE\n",
    "G_pa = nx.barabasi_albert_graph(n, m, seed=123)"
   ]
  },
  {
   "cell_type": "markdown",
   "metadata": {
    "id": "yyJ2fCx7zg7G"
   },
   "source": [
    "The following code computes the empirical pmf (probability mass function) of the node degrees."
   ]
  },
  {
   "cell_type": "code",
   "execution_count": 16,
   "metadata": {
    "id": "zTB7822r0OV5"
   },
   "outputs": [],
   "source": [
    "from collections import Counter\n",
    "\n",
    "# get degree distribution\n",
    "degree_sequence = sorted([d for n, d in G.degree()]) # sorting is optional here\n",
    "degree_count = Counter(degree_sequence)\n",
    "deg, cnt = zip(*degree_count.items())\n",
    "\n",
    "# convert counts to probability (relative frequency)\n",
    "prob = np.array(cnt) / G.number_of_nodes()"
   ]
  },
  {
   "cell_type": "markdown",
   "metadata": {
    "id": "zUJQ4ynt0fKy"
   },
   "source": [
    "Q8. Plot the empirical CCDF (completementary cumulative distribution function), which is defined as $P(D > k)$. Set both the axes to log scale."
   ]
  },
  {
   "cell_type": "code",
   "execution_count": 17,
   "metadata": {
    "colab": {
     "base_uri": "https://localhost:8080/",
     "height": 359
    },
    "deletable": false,
    "id": "UnRt_5020y4h",
    "nbgrader": {
     "cell_type": "code",
     "checksum": "2e271b8e127d9775fac1de9220d1bf5e",
     "grade": true,
     "grade_id": "gnp_8",
     "locked": false,
     "points": 6,
     "schema_version": 3,
     "solution": true,
     "task": false
    },
    "outputId": "13487f0c-4408-42c4-ff7b-48afaabfbf28"
   },
   "outputs": [
    {
     "data": {
      "image/png": "[encoded data removed]",
      "text/plain": [
       "<Figure size 640x480 with 1 Axes>"
      ]
     },
     "metadata": {},
     "output_type": "display_data"
    }
   ],
   "source": [
    "# A8. (6-8 lines)\n",
    "# YOUR CODE HERE\n",
    "\n",
    "ccdf = 1 - np.cumsum(prob)\n",
    "\n",
    "# Plot CCDF on log-log scale\n",
    "plt.loglog(deg, ccdf, marker=\"o\", label=\"Empirical CCDF\")\n",
    "\n",
    "plt.xlabel(\"Degree (k)\")\n",
    "plt.ylabel(\"P(D > k)\")\n",
    "plt.title(\"Empirical CCDF of Degree Distribution (PA Model)\")\n",
    "plt.legend()\n",
    "plt.show()"
   ]
  },
  {
   "cell_type": "markdown",
   "metadata": {
    "id": "xzEzBO8r1DgL"
   },
   "source": [
    "Next we generate a plot where the function decreases exponentially (e.g., $y = \\exp(-x)$ and use the log-log scale, as you did above. (Does the plot look like a straight line? Which function decreases faster?)"
   ]
  },
  {
   "cell_type": "code",
   "execution_count": 18,
   "metadata": {
    "colab": {
     "base_uri": "https://localhost:8080/",
     "height": 359
    },
    "id": "_fBRwJ5o1Cx9",
    "outputId": "23d203fd-fc7b-4f36-a396-00cbe44fcd28"
   },
   "outputs": [
    {
     "data": {
      "image/png": "[encoded data removed]",
      "text/plain": [
       "<Figure size 400x300 with 1 Axes>"
      ]
     },
     "metadata": {},
     "output_type": "display_data"
    }
   ],
   "source": [
    "x = np.exp(np.linspace(1, 7, 100))\n",
    "y = np.exp(-x)\n",
    "\n",
    "fig, ax = plt.subplots(1, 1, figsize=(4, 3))\n",
    "ax.plot(x,y)\n",
    "ax.set_title(\"exponential function\")\n",
    "ax.set_ylabel(r\"exp(-x)\")\n",
    "ax.set_xlabel(\"x\")\n",
    "ax.set_xscale('log')\n",
    "ax.set_yscale('log')"
   ]
  },
  {
   "cell_type": "markdown",
   "metadata": {
    "id": "lTtvaMZvWvzd"
   },
   "source": [
    "Q9. [ISU STUDENTS ONLY] The following code shows, when adding a new node in the PA model, how to sample the nodes to connect the new edges.\n",
    "\n",
    "The idea is that nodes should be sampled in proportion to their degrees. Suppose the network have 3 nodes, indexed from 'A' to 'C'. We denote the degree of node $v$ by $d(v)$.\n",
    "\n",
    "By creating a list containing $d(v)$ copies of each node $v \\in V$ and sampling from that list uniformly at random, the probability of sampling a node $u$ will be $d(u) / \\sum_{v \\in V} d(v)$."
   ]
  },
  {
   "cell_type": "code",
   "execution_count": 19,
   "metadata": {
    "colab": {
     "base_uri": "https://localhost:8080/"
    },
    "id": "g9xaY6aNUyWT",
    "outputId": "590badc4-dd4c-4031-c284-7958d377595f"
   },
   "outputs": [
    {
     "name": "stdout",
     "output_type": "stream",
     "text": [
      "['A', 'A', 'A', 'B', 'B', 'C', 'C', 'C', 'C']\n"
     ]
    }
   ],
   "source": [
    "def create_list_node_labels(node_labels, degrees):\n",
    "  return [label for label, degree in zip(node_labels, degrees) for _ in range(degree)]\n",
    "\n",
    "node_labels = ['A', 'B', 'C']\n",
    "degrees = [3, 2, 4]\n",
    "\n",
    "result = create_list_node_labels(node_labels, degrees)\n",
    "print(result)"
   ]
  },
  {
   "cell_type": "markdown",
   "metadata": {
    "id": "u53qhJI-ZGfY"
   },
   "source": [
    "(a) [ISU STUDENTS ONLY] Show how to sample $m$ nodes from that list. Save the result in variable `sampled_nodes`. It is fine to have parallel edges."
   ]
  },
  {
   "cell_type": "code",
   "execution_count": 20,
   "metadata": {
    "id": "Nmqz2RPYZitQ"
   },
   "outputs": [],
   "source": [
    "m = 2"
   ]
  },
  {
   "cell_type": "code",
   "execution_count": null,
   "metadata": {
    "deletable": false,
    "id": "CVm9s6a4ZFud",
    "nbgrader": {
     "cell_type": "code",
     "checksum": "170117909e54846fd843ef5c83ccc739",
     "grade": true,
     "grade_id": "gnp_9a",
     "locked": false,
     "points": 1,
     "schema_version": 3,
     "solution": true,
     "task": false
    }
   },
   "outputs": [],
   "source": [
    "# A9a. (1 line)\n",
    "# YOUR CODE HERE\n",
    "raise NotImplementedError()"
   ]
  },
  {
   "cell_type": "code",
   "execution_count": null,
   "metadata": {
    "colab": {
     "base_uri": "https://localhost:8080/"
    },
    "id": "vdC7ky80Y-JP",
    "outputId": "38f842cc-8eab-4458-c335-6fca484aeffb"
   },
   "outputs": [],
   "source": [
    "print(sampled_nodes)"
   ]
  },
  {
   "cell_type": "markdown",
   "metadata": {
    "id": "WvHnmis6Zs6o"
   },
   "source": [
    "(b) [ISU STUDENTS ONLY] Show how to update the list `result` based on the sampled nodes without recreating the list from scratch."
   ]
  },
  {
   "cell_type": "code",
   "execution_count": null,
   "metadata": {
    "deletable": false,
    "id": "FDEGvdrEZnW7",
    "nbgrader": {
     "cell_type": "code",
     "checksum": "d4f7709cd00b9945734f569c325602e0",
     "grade": true,
     "grade_id": "gnp_9b",
     "locked": false,
     "points": 1,
     "schema_version": 3,
     "solution": true,
     "task": false
    }
   },
   "outputs": [],
   "source": [
    "# A9b. (1 line)\n",
    "# YOUR CODE HERE\n",
    "raise NotImplementedError()"
   ]
  },
  {
   "cell_type": "code",
   "execution_count": null,
   "metadata": {
    "colab": {
     "base_uri": "https://localhost:8080/"
    },
    "id": "Vq5KEwnAaAuf",
    "outputId": "68444ead-7101-4a3c-faca-fc3e067b3d36"
   },
   "outputs": [],
   "source": [
    "print(result)"
   ]
  },
  {
   "cell_type": "markdown",
   "metadata": {
    "id": "v_NRBiXpaP-2"
   },
   "source": [
    "## The Small World model"
   ]
  },
  {
   "cell_type": "markdown",
   "metadata": {
    "id": "oLjJ9zQFaiiY"
   },
   "source": [
    "The Small World model a.k.a. Watts-Strogatz model - has three parameters:\n",
    "- number of nodes $n$\n",
    "- number of nearest neighbors $k$ to which a node is joined\n",
    "- probability of rewiring $p$\n",
    "\n",
    "There is a range of values $p$ that can lead to both:\n",
    "- high clustering\n",
    "- short distances\n",
    "\n",
    "We will generate a few networks from the Small World model. Next, we will compute distances and the clustering for each network."
   ]
  },
  {
   "cell_type": "markdown",
   "metadata": {
    "id": "0V-NZwTnakHy"
   },
   "source": [
    "Q10. Generate networks from the WS model using $n=10697$ and $k=6$ while varying $p$ in $\\{10^{-3}, 10^{-2}, 10^{-1}\\}$."
   ]
  },
  {
   "cell_type": "code",
   "execution_count": 21,
   "metadata": {
    "id": "j0gWonmjajkT"
   },
   "outputs": [],
   "source": [
    "n=10697\n",
    "\n",
    "p_list = [1e-3, 1e-2, 1e-1]\n",
    "n = 10697\n",
    "k = 2*3\n",
    "\n",
    "G_list = []\n",
    "np.random.seed(4099)"
   ]
  },
  {
   "cell_type": "code",
   "execution_count": 22,
   "metadata": {
    "deletable": false,
    "id": "8nFu6n5vab1s",
    "nbgrader": {
     "cell_type": "code",
     "checksum": "d8c47284a9cf7a107a393010946d5542",
     "grade": true,
     "grade_id": "ws_10",
     "locked": false,
     "points": 2,
     "schema_version": 3,
     "solution": true,
     "task": false
    }
   },
   "outputs": [],
   "source": [
    "# A10. (~1-3 lines)\n",
    "# YOUR CODE HERE\n",
    "G_list = [nx.watts_strogatz_graph(n, k, p, seed=4099) for p in p_list]"
   ]
  },
  {
   "cell_type": "markdown",
   "metadata": {
    "id": "_w-kOiKsxjzA"
   },
   "source": [
    "Q11. Compute the (i) average clustering coefficient `avg_clust` for each graph and the (ii) density `density` of any of the three graphs.\n",
    "\n",
    "Think about whether it matters which graph you pick."
   ]
  },
  {
   "cell_type": "code",
   "execution_count": 23,
   "metadata": {
    "id": "XZhN_aTT0L1f"
   },
   "outputs": [],
   "source": [
    "avg_clust = []"
   ]
  },
  {
   "cell_type": "code",
   "execution_count": 24,
   "metadata": {
    "id": "ooxzI9jN0_cZ"
   },
   "outputs": [],
   "source": [
    "def get_approx_avg_dist(G, nsample=100):\n",
    "  nbunch = np.random.choice(list(G.nodes()), nsample, replace=False)\n",
    "  all_dist = []\n",
    "  for src in nbunch:\n",
    "    # compute shortest paths lengths from src to all reachable nodes\n",
    "    paths = nx.shortest_path_length(G, src)\n",
    "    all_dist += paths.values()\n",
    "\n",
    "  return np.mean(all_dist)"
   ]
  },
  {
   "cell_type": "code",
   "execution_count": 25,
   "metadata": {
    "colab": {
     "base_uri": "https://localhost:8080/"
    },
    "deletable": false,
    "id": "SMpg_vB9xg-Y",
    "nbgrader": {
     "cell_type": "code",
     "checksum": "44a0b9880072f46875028ad65b0e1e42",
     "grade": true,
     "grade_id": "ws_11",
     "locked": false,
     "points": 2,
     "schema_version": 3,
     "solution": true,
     "task": false
    },
    "outputId": "ccb346c5-796d-40f7-9cae-bf2551782a03"
   },
   "outputs": [],
   "source": [
    "# A11. (2-3 lines)\n",
    "# YOUR CODE HERE\n",
    "avg_clust = [nx.average_clustering(G) for G in G_list]\n",
    "\n",
    "density = nx.density(G_list[0])"
   ]
  },
  {
   "cell_type": "code",
   "execution_count": 26,
   "metadata": {
    "colab": {
     "base_uri": "https://localhost:8080/"
    },
    "id": "M9iNcnrnyoGe",
    "outputId": "ecded0ae-0fd0-4f43-cb59-5ee637bdb6a6"
   },
   "outputs": [
    {
     "name": "stdout",
     "output_type": "stream",
     "text": [
      "p = 1.0e-03, avg_clust = 5.985e-01\n",
      "p = 1.0e-02, avg_clust = 5.833e-01\n",
      "p = 1.0e-01, avg_clust = 4.435e-01\n",
      "Density: 5.610e-04\n"
     ]
    }
   ],
   "source": [
    "for p, avg_clust in zip(p_list, avg_clust):\n",
    "  print(f\"p = {p:.1e}, avg_clust = {avg_clust:.3e}\")\n",
    "print(f'Density: {density:.3e}')"
   ]
  },
  {
   "cell_type": "markdown",
   "metadata": {
    "id": "bi1L6P32zHxJ"
   },
   "source": [
    "Q12. Based on the above, can we conclude that some of these networks have high clustering (compared with, for example, a G(n,p) model? (2 sentences)"
   ]
  },
  {
   "cell_type": "markdown",
   "metadata": {
    "deletable": false,
    "id": "dTMUyhb6zae9",
    "nbgrader": {
     "cell_type": "markdown",
     "checksum": "977dca60010d0c06c70cb3ef6780bf6f",
     "grade": true,
     "grade_id": "ws_12",
     "locked": false,
     "points": 2,
     "schema_version": 3,
     "solution": true,
     "task": false
    }
   },
   "source": [
    "Yes, the WS model graphs with low p values show high clustering much higher then G(n, p) model, which usually have very low clustering. As p increase, clustering decrease but it still stays higher than in random graphs, meaning WS network can keep high clustering while also having shorter distances."
   ]
  },
  {
   "cell_type": "markdown",
   "metadata": {
    "id": "VQQw7u8f0ys6"
   },
   "source": [
    "Q13. [ISU STUDENTS ONLY] Knowing that the average distance in these examples is, respectively, $\\approx 155$, $\\approx 27$ and $\\approx 9$, does any of these graphs possess both the clustering and distance properties we were trying to achieve? If so, which one? Why? (~2 sentences)."
   ]
  },
  {
   "cell_type": "markdown",
   "metadata": {
    "deletable": false,
    "id": "J6kutCpR1mEH",
    "nbgrader": {
     "cell_type": "markdown",
     "checksum": "3247eb1e1f7c5584d3413e9d7adb119f",
     "grade": true,
     "grade_id": "ws_13",
     "locked": false,
     "points": 2,
     "schema_version": 3,
     "solution": true,
     "task": false
    }
   },
   "source": [
    "YOUR ANSWER HERE"
   ]
  },
  {
   "cell_type": "markdown",
   "metadata": {
    "id": "gyuEKF5F2l33"
   },
   "source": [
    "# Clustering and Community Detection (3 questions)"
   ]
  },
  {
   "cell_type": "markdown",
   "metadata": {
    "id": "qyZcmN0d6A3F"
   },
   "source": [
    "In this problem, we will use networkx to create a 16-node graph and run the Louvain algorithm for detecting communities.\n",
    "\n",
    "Q1. Use networkx functions to create the graph a graph $G$ shown in the picture below, consisting of 4 cliques of 4 nodes each, arranged in a ring."
   ]
  },
  {
   "cell_type": "markdown",
   "metadata": {
    "id": "QOil7NnR6PA4"
   },
   "source": [
    "\n",
    "\n",
    "![image.png](data:image/png;base64,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)"
   ]
  },
  {
   "cell_type": "markdown",
   "metadata": {
    "id": "LmEG8O_D9u3u"
   },
   "source": [
    "HINT 1: Build cliques of 4 nodes and use `nx.relabel_nodes` before you add edges from the clique to the graph.\n",
    "\n",
    "HINT 2: All the nodes in a clique are identical until you choose which two nodes will connect to other cliques. Hence, you can choose any two nodes.\n",
    "\n",
    "HINT 3: There are only 4 connections between cliques. It is easier to think that each clique connects to the \"next\" one (in a cycle)."
   ]
  },
  {
   "cell_type": "code",
   "execution_count": 27,
   "metadata": {
    "id": "ayJ64jBHzwGT"
   },
   "outputs": [],
   "source": [
    "import networkx as nx"
   ]
  },
  {
   "cell_type": "code",
   "execution_count": 28,
   "metadata": {
    "deletable": false,
    "id": "OTGHMfdV6lWQ",
    "nbgrader": {
     "cell_type": "code",
     "checksum": "7444d74f537406f48889f64c253139ab",
     "grade": true,
     "grade_id": "community_1",
     "locked": false,
     "points": 7,
     "schema_version": 3,
     "solution": true,
     "task": false
    }
   },
   "outputs": [],
   "source": [
    "# A1. (~7-10 lines)\n",
    "# YOUR CODE HERE\n",
    "G = nx.Graph()\n",
    "\n",
    "# Create 4 cliques of 4 nodes each and relabel them uniquely\n",
    "cliques = []\n",
    "for i in range(4):\n",
    "    clique = nx.complete_graph(4)\n",
    "    mapping = {j: i * 4 + j for j in range(4)}\n",
    "    clique = nx.relabel_nodes(clique, mapping)\n",
    "    cliques.append(clique)\n",
    "\n",
    "    G.add_nodes_from(clique.nodes)\n",
    "    G.add_edges_from(clique.edges)\n",
    "\n",
    "connections = [\n",
    "    (3, 4),   \n",
    "    (7, 8),   \n",
    "    (11, 12), \n",
    "    (15, 0)   \n",
    "]\n",
    "\n",
    "G.add_edges_from(connections)"
   ]
  },
  {
   "cell_type": "code",
   "execution_count": 29,
   "metadata": {
    "colab": {
     "base_uri": "https://localhost:8080/",
     "height": 537
    },
    "id": "IWYQIMKa7voM",
    "outputId": "77494fe2-4a80-48b9-90ed-029da7c6f423"
   },
   "outputs": [
    {
     "data": {
      "image/png": "[encoded data removed]",
      "text/plain": [
       "<Figure size 640x480 with 1 Axes>"
      ]
     },
     "metadata": {},
     "output_type": "display_data"
    }
   ],
   "source": [
    "nx.draw(G)"
   ]
  },
  {
   "cell_type": "markdown",
   "metadata": {
    "id": "ECdtVGB0-sgQ"
   },
   "source": [
    "Q2. Run the Louvain algorithm on this network."
   ]
  },
  {
   "cell_type": "code",
   "execution_count": 30,
   "metadata": {
    "deletable": false,
    "id": "urHuRCI39YV5",
    "nbgrader": {
     "cell_type": "code",
     "checksum": "e290337229719c501a355eee8bfd3b0f",
     "grade": true,
     "grade_id": "community_2",
     "locked": false,
     "points": 1,
     "schema_version": 3,
     "solution": true,
     "task": false
    }
   },
   "outputs": [],
   "source": [
    "# A2. (1 line)\n",
    "# YOUR CODE HERE\n",
    "comms = list(nx.community.greedy_modularity_communities(G))"
   ]
  },
  {
   "cell_type": "code",
   "execution_count": 31,
   "metadata": {
    "colab": {
     "base_uri": "https://localhost:8080/"
    },
    "id": "qN8j5ebJ_fXI",
    "outputId": "b9132dcb-5950-4d1f-886e-a512d7eed2f4"
   },
   "outputs": [
    {
     "name": "stdout",
     "output_type": "stream",
     "text": [
      "[frozenset({0, 1, 2, 3}), frozenset({4, 5, 6, 7}), frozenset({8, 9, 10, 11}), frozenset({12, 13, 14, 15})]\n"
     ]
    }
   ],
   "source": [
    "print(comms)"
   ]
  },
  {
   "cell_type": "markdown",
   "metadata": {
    "id": "XQ_fYj_n_UB8"
   },
   "source": [
    "We can plot the graph now using different colors for each community."
   ]
  },
  {
   "cell_type": "code",
   "execution_count": 33,
   "metadata": {
    "colab": {
     "base_uri": "https://localhost:8080/",
     "height": 537
    },
    "id": "fTYWzrhN_Lk1",
    "outputId": "0dd9c76b-8987-48b4-fc61-f3fe4142c94b"
   },
   "outputs": [
    {
     "data": {
      "image/png": "[encoded data removed]",
      "text/plain": [
       "<Figure size 640x480 with 1 Axes>"
      ]
     },
     "metadata": {},
     "output_type": "display_data"
    }
   ],
   "source": [
    "pos = nx.spring_layout(G) #calculate position for each node\n",
    "# pos is needed because we are going to draw a few nodes at a time,\n",
    "# pos fixes their positions.\n",
    "\n",
    "# Notice that the pos dict is passed to each call to draw below\n",
    "\n",
    "# Draw the graph, but don't color the nodes\n",
    "nx.draw(G, pos, edge_color='k',  with_labels=True,\n",
    "         font_weight='light', node_size= 280, width= 0.9)\n",
    "\n",
    "#For each community list, draw the nodes, giving it a specific color.\n",
    "for idx, node_lists_community in enumerate(comms):\n",
    "  nx.draw_networkx_nodes(G, pos, nodelist=node_lists_community, node_color=f'C{idx}')"
   ]
  },
  {
   "cell_type": "markdown",
   "metadata": {
    "id": "HKIBy6gBAZxO"
   },
   "source": [
    "Q3. Now consider a larger version of the same network, with 32 cliques of 4 nodes each (arranged in a ring as earlier); call this network Gbig. Again, assume all the edges have same weight value 1, and there exists exactly one edge between any two adjacent cliques. The first phase of modularity optimization, as expected, detects each clique as a single community. After aggregation, this forms a new network Hbig with 32 nodes.\n",
    "\n",
    "Your task is to generate network Gbig, then return the results obtained when running a single iteration of Phase 1 from the Louvain Algorithm. You can use the method implemented in `networkx`. Check which additional parameters you need to use."
   ]
  },
  {
   "cell_type": "code",
   "execution_count": 34,
   "metadata": {
    "colab": {
     "base_uri": "https://localhost:8080/"
    },
    "deletable": false,
    "id": "z73M6pzeARCW",
    "nbgrader": {
     "cell_type": "code",
     "checksum": "0e2a2cee66a94e33563245ce59b3f395",
     "grade": true,
     "grade_id": "community_3",
     "locked": false,
     "points": 2,
     "schema_version": 3,
     "solution": true,
     "task": false
    },
    "outputId": "7ac7ab43-f681-47b3-dc5f-133aa9c1be82"
   },
   "outputs": [
    {
     "name": "stdout",
     "output_type": "stream",
     "text": [
      "Community 1: [0, 1, 2, 3, 4, 5, 6, 7]\n",
      "Community 2: [8, 9, 10, 11, 12, 13, 14, 15, 16, 17, 18, 19]\n",
      "Community 3: [20, 21, 22, 23, 24, 25, 26, 27]\n",
      "Community 4: [28, 29, 30, 31, 32, 33, 34, 35]\n",
      "Community 5: [36, 37, 38, 39, 40, 41, 42, 43]\n",
      "Community 6: [44, 45, 46, 47, 48, 49, 50, 51]\n",
      "Community 7: [52, 53, 54, 55, 56, 57, 58, 59]\n",
      "Community 8: [60, 61, 62, 63, 64, 65, 66, 67]\n",
      "Community 9: [68, 69, 70, 71, 72, 73, 74, 75]\n",
      "Community 10: [76, 77, 78, 79, 80, 81, 82, 83, 84, 85, 86, 87]\n",
      "Community 11: [88, 89, 90, 91, 92, 93, 94, 95]\n",
      "Community 12: [96, 97, 98, 99, 100, 101, 102, 103]\n",
      "Community 13: [104, 105, 106, 107, 108, 109, 110, 111]\n",
      "Community 14: [112, 113, 114, 115, 116, 117, 118, 119]\n",
      "Community 15: [120, 121, 122, 123, 124, 125, 126, 127]\n"
     ]
    }
   ],
   "source": [
    "# A3. (2 lines, if you write the graph generation as a function)\n",
    "# YOUR CODE HERE\n",
    "import networkx as nx\n",
    "\n",
    "# Step 1: Generate Gbig (32 cliques of 4 nodes each, arranged in a ring)\n",
    "def generate_gbig():\n",
    "    Gbig = nx.Graph()\n",
    "    num_cliques = 32  # Total cliques\n",
    "    clique_size = 4  # Each clique has 4 nodes\n",
    "\n",
    "    # Step 1: Create 32 cliques\n",
    "    cliques = []\n",
    "    for i in range(num_cliques):\n",
    "        clique = nx.complete_graph(clique_size)  # Create a clique\n",
    "        mapping = {j: i * clique_size + j for j in range(clique_size)}  # Relabel uniquely\n",
    "        clique = nx.relabel_nodes(clique, mapping)\n",
    "        cliques.append(clique)\n",
    "        Gbig.add_nodes_from(clique.nodes)\n",
    "        Gbig.add_edges_from(clique.edges)\n",
    "\n",
    "    # Step 2: Connect each clique to the next in a ring\n",
    "    for i in range(num_cliques):\n",
    "        Gbig.add_edge(i * clique_size + (clique_size - 1), (i + 1) % num_cliques * clique_size)\n",
    "\n",
    "    return Gbig\n",
    "\n",
    "# Step 3: Run Phase 1 of Louvain Algorithm\n",
    "Gbig = generate_gbig()\n",
    "communities_phase1 = nx.community.louvain_communities(Gbig, resolution=1, weight='weight')\n",
    "\n",
    "# Output the detected communities after Phase 1\n",
    "for i, community in enumerate(communities_phase1):\n",
    "    print(f\"Community {i+1}: {sorted(community)}\")"
   ]
  },
  {
   "cell_type": "markdown",
   "metadata": {
    "id": "wk78RzzFBiX7"
   },
   "source": [
    "# Random Walk & PageRank (6 questions + 4 ISU only)"
   ]
  },
  {
   "cell_type": "markdown",
   "metadata": {
    "id": "UKkycYjAr5xS"
   },
   "source": [
    "We saw in class that a random walk on a graph is a stochastic process that uses the structure to determine the order in which nodes are visited.\n",
    "\n",
    "The simplest random walk is sometimes called the uniform random walk since it chooses the next node to visit uniformly at random from the set of neighbors of the current node."
   ]
  },
  {
   "cell_type": "code",
   "execution_count": 35,
   "metadata": {
    "id": "FCR0Mp5ftv4J"
   },
   "outputs": [],
   "source": [
    "# load Zachary's karate club network\n",
    "G = nx.karate_club_graph()"
   ]
  },
  {
   "cell_type": "code",
   "execution_count": 36,
   "metadata": {
    "colab": {
     "base_uri": "https://localhost:8080/",
     "height": 537
    },
    "id": "_JARa_6IvoCo",
    "outputId": "598699a0-ecfe-4b6d-e81d-d95dc733cb87"
   },
   "outputs": [
    {
     "data": {
      "image/png": "[encoded data removed]",
      "text/plain": [
       "<Figure size 640x480 with 1 Axes>"
      ]
     },
     "metadata": {},
     "output_type": "display_data"
    }
   ],
   "source": [
    "# plot G with node labels\n",
    "pos = nx.spring_layout(G)\n",
    "nx.draw(G, pos, with_labels=True, font_weight='bold')"
   ]
  },
  {
   "cell_type": "markdown",
   "metadata": {
    "id": "L_CrQrtSv9rQ"
   },
   "source": [
    "We saw that the random walk is an **ergodic** Markov Chain (i.e., will converge to a unique steady state solution) if and only if the graph satisfies two conditions."
   ]
  },
  {
   "cell_type": "markdown",
   "metadata": {
    "id": "0AbM0sH2wNS8"
   },
   "source": [
    "Q1. Use the graph visualization above to argue that the karate club network satisfies the two conditions. (~2-4 sentences)"
   ]
  },
  {
   "cell_type": "markdown",
   "metadata": {
    "deletable": false,
    "id": "DHbuZ4nzwzbZ",
    "nbgrader": {
     "cell_type": "markdown",
     "checksum": "c84609d02909f3f65d436639fd6ae795",
     "grade": true,
     "grade_id": "rw_1",
     "locked": false,
     "points": 3,
     "schema_version": 3,
     "solution": true,
     "task": false
    }
   },
   "source": [
    "- Irreducibility: The Markov Convergence Theorem states that a Markov Chain must be irreducible, meaning every state (node) is accessible from any other. The karate club network is a single connected component, meaning a random walker can eventually reach any node from any other node. \n",
    "- Aperiodicity: A Markov Chain is aperiodic if it does not get trapped in cycles of fixed length. The karate club network is not bipartite, as it contains nodes with different path lengths and varying degrees, breaking rigid periodic cycles."
   ]
  },
  {
   "cell_type": "markdown",
   "metadata": {
    "id": "cBry8A6urouG"
   },
   "source": [
    "The following code implements a uniform random walk from scratch."
   ]
  },
  {
   "cell_type": "code",
   "execution_count": 37,
   "metadata": {
    "id": "d87KvqihrXat"
   },
   "outputs": [],
   "source": [
    "def random_walk(G, start_node, num_steps):\n",
    "  current_node = start_node\n",
    "  for step in range(num_steps):\n",
    "    neighbors = list(G.neighbors(current_node))\n",
    "    next_node = np.random.choice(neighbors)\n",
    "    yield next_node\n",
    "    current_node = next_node"
   ]
  },
  {
   "cell_type": "markdown",
   "metadata": {
    "id": "iR_D4FVutX_q"
   },
   "source": [
    "Below we run a random walk for $T=1000$ steps, starting from a node chosen uniformly at random."
   ]
  },
  {
   "cell_type": "code",
   "execution_count": 38,
   "metadata": {
    "colab": {
     "base_uri": "https://localhost:8080/"
    },
    "id": "MNhj_hM3tscD",
    "outputId": "7988814e-2831-4a5a-f4f6-b2bf06117b5f"
   },
   "outputs": [
    {
     "name": "stdout",
     "output_type": "stream",
     "text": [
      "initial_node: 23\n",
      "[np.int64(25), np.int64(31), np.int64(33), np.int64(29), np.int64(26), np.int64(33), np.int64(22), np.int64(32), np.int64(18), np.int64(33)]\n"
     ]
    }
   ],
   "source": [
    "np.random.seed(4099)\n",
    "T = 1000\n",
    "\n",
    "# select initial node (seed)\n",
    "seed_node = np.random.choice(G.nodes())\n",
    "visited = list(random_walk(G, seed_node, T))\n",
    "\n",
    "# print seed and first 10 visited nodes\n",
    "print(f'initial_node: {seed_node}')\n",
    "print(visited[:10])"
   ]
  },
  {
   "cell_type": "markdown",
   "metadata": {
    "id": "rB95fE-fuxC5"
   },
   "source": [
    "Q2. Use bar plots to indicate the fraction of visits the RW makes to each node (the x-axis should be the node label). On the same plot, add points to show the expected value based on the steady state distribution:\n",
    "$$\n",
    "\\pi_x = \\frac{\\textrm{deg}(x)}{2M}.\n",
    "$$"
   ]
  },
  {
   "cell_type": "code",
   "execution_count": 39,
   "metadata": {
    "colab": {
     "base_uri": "https://localhost:8080/",
     "height": 348
    },
    "deletable": false,
    "id": "Vj-vuq3yucht",
    "nbgrader": {
     "cell_type": "code",
     "checksum": "9459da323d0352520168dc2f7a9739cf",
     "grade": true,
     "grade_id": "rw_2",
     "locked": false,
     "points": 10,
     "schema_version": 3,
     "solution": true,
     "task": false
    },
    "outputId": "71d3e0cc-9071-4ad0-a18d-d137d7dde07d"
   },
   "outputs": [
    {
     "data": {
      "image/png": "[encoded data removed]",
      "text/plain": [
       "<Figure size 1200x600 with 1 Axes>"
      ]
     },
     "metadata": {},
     "output_type": "display_data"
    }
   ],
   "source": [
    "# A2. (10+ lines)\n",
    "# YOUR CODE HERE\n",
    "visit_counts = {node: visited.count(node) / T for node in G.nodes()}\n",
    "\n",
    "M = G.number_of_edges()\n",
    "steady_state = {node: G.degree[node] / (2 * M) for node in G.nodes()}\n",
    "\n",
    "plt.figure(figsize=(12, 6))\n",
    "plt.bar(visit_counts.keys(), visit_counts.values(), label=\"Random Walk Visits\")\n",
    "plt.scatter(steady_state.keys(), steady_state.values(), color='red', label=\"Steady State Distribution\")\n",
    "plt.legend()\n",
    "plt.show()\n"
   ]
  },
  {
   "cell_type": "markdown",
   "metadata": {
    "id": "Nj3O-rOJ06zW"
   },
   "source": [
    "Q3. [ISU STUDENTS ONLY] Do you expect to get very different results for the blue bars starting from a different node? Why? (~2 sentences).\n",
    "\n",
    "Hint: It is OK to try this out and conclude something based on the results, but you don't have to."
   ]
  },
  {
   "cell_type": "markdown",
   "metadata": {
    "deletable": false,
    "id": "jERPRmCn1TSR",
    "nbgrader": {
     "cell_type": "markdown",
     "checksum": "42b0f774ec7323fdcdd00b0cee08d57c",
     "grade": true,
     "grade_id": "rw_3",
     "locked": false,
     "points": 2,
     "schema_version": 3,
     "solution": true,
     "task": false
    }
   },
   "source": [
    "YOUR ANSWER HERE"
   ]
  },
  {
   "cell_type": "markdown",
   "metadata": {
    "id": "V0MYh02X0ID9"
   },
   "source": [
    "Now we will consider a different network, define the transition probability $P$ and use it for iterating an initial state until convergence."
   ]
  },
  {
   "cell_type": "code",
   "execution_count": 40,
   "metadata": {
    "colab": {
     "base_uri": "https://localhost:8080/",
     "height": 537
    },
    "id": "2XCDeT_Ny9h7",
    "outputId": "c9a4ae04-01c8-45f7-b51c-8f34bf3ae273"
   },
   "outputs": [
    {
     "data": {
      "image/png": "[encoded data removed]",
      "text/plain": [
       "<Figure size 640x480 with 1 Axes>"
      ]
     },
     "metadata": {},
     "output_type": "display_data"
    }
   ],
   "source": [
    "nodes_per_component = 8\n",
    "sizes = [nodes_per_component, nodes_per_component]\n",
    "probs = [[.6, .0],[.0, .5]]\n",
    "G = nx.stochastic_block_model(sizes, probs, seed=4099)\n",
    "\n",
    "nx.draw(G, node_color=['C0']*nodes_per_component+['C1']*nodes_per_component)"
   ]
  },
  {
   "cell_type": "markdown",
   "metadata": {
    "id": "qLo_CpQU17Rk"
   },
   "source": [
    "Q4. Determine the transition probability matrix $P$ for a random walk, where $P_{ji}$ is the probability of transitioning from $i$ to $j$.\n",
    "\n",
    "Hint: Think whether you need to normalize the rows or the columns."
   ]
  },
  {
   "cell_type": "code",
   "execution_count": null,
   "metadata": {
    "deletable": false,
    "id": "ZsONqEF4An0g",
    "nbgrader": {
     "cell_type": "code",
     "checksum": "d126b6c5390d5169f1022c6480f1f55a",
     "grade": true,
     "grade_id": "pagerank_4",
     "locked": false,
     "points": 2,
     "schema_version": 3,
     "solution": true,
     "task": false
    }
   },
   "outputs": [
    {
     "name": "stdout",
     "output_type": "stream",
     "text": [
      "         0         1         2         3         4         5         6   \\\n",
      "0  0.000000  0.200000  0.200000  0.200000  0.000000  0.200000  0.000000   \n",
      "1  0.166667  0.000000  0.166667  0.166667  0.166667  0.166667  0.000000   \n",
      "2  0.250000  0.250000  0.000000  0.250000  0.000000  0.250000  0.000000   \n",
      "3  0.200000  0.200000  0.200000  0.000000  0.000000  0.200000  0.200000   \n",
      "4  0.000000  0.250000  0.000000  0.000000  0.000000  0.250000  0.250000   \n",
      "5  0.166667  0.166667  0.166667  0.166667  0.166667  0.000000  0.166667   \n",
      "6  0.000000  0.000000  0.000000  0.333333  0.333333  0.333333  0.000000   \n",
      "7  0.333333  0.333333  0.000000  0.000000  0.333333  0.000000  0.000000   \n",
      "8  0.000000  0.000000  0.000000  0.000000  0.000000  0.000000  0.000000   \n",
      "9  0.000000  0.000000  0.000000  0.000000  0.000000  0.000000  0.000000   \n",
      "\n",
      "         7    8    9         10   11        12        13        14        15  \n",
      "0  0.200000  0.0  0.0  0.000000  0.0  0.000000  0.000000  0.000000  0.000000  \n",
      "1  0.166667  0.0  0.0  0.000000  0.0  0.000000  0.000000  0.000000  0.000000  \n",
      "2  0.000000  0.0  0.0  0.000000  0.0  0.000000  0.000000  0.000000  0.000000  \n",
      "3  0.000000  0.0  0.0  0.000000  0.0  0.000000  0.000000  0.000000  0.000000  \n",
      "4  0.250000  0.0  0.0  0.000000  0.0  0.000000  0.000000  0.000000  0.000000  \n",
      "5  0.000000  0.0  0.0  0.000000  0.0  0.000000  0.000000  0.000000  0.000000  \n",
      "6  0.000000  0.0  0.0  0.000000  0.0  0.000000  0.000000  0.000000  0.000000  \n",
      "7  0.000000  0.0  0.0  0.000000  0.0  0.000000  0.000000  0.000000  0.000000  \n",
      "8  0.000000  0.0  0.0  0.333333  0.0  0.000000  0.333333  0.000000  0.333333  \n",
      "9  0.000000  0.0  0.0  0.000000  0.0  0.333333  0.333333  0.333333  0.000000  \n"
     ]
    }
   ],
   "source": [
    "# A4. (~2-4 lines)\n",
    "# YOUR CODE HERE\n",
    "import pandas as pd\n",
    "\n",
    "num_nodes = len(G.nodes)\n",
    "P = np.zeros((num_nodes, num_nodes))\n",
    "\n",
    "for i in G.nodes:\n",
    "    neighbors = list(G.neighbors(i))\n",
    "    if neighbors:\n",
    "        P[i, neighbors] = 1 / len(neighbors)\n",
    "\n",
    "P_df = pd.DataFrame(P, index=G.nodes, columns=G.nodes)\n",
    "\n",
    "print(P_df.head(10))\n",
    "\n"
   ]
  },
  {
   "cell_type": "code",
   "execution_count": 43,
   "metadata": {
    "colab": {
     "base_uri": "https://localhost:8080/"
    },
    "id": "7ivz_OglJkoB",
    "outputId": "e127fda8-ebe8-427b-d8e9-d5db8fd09a67"
   },
   "outputs": [
    {
     "name": "stdout",
     "output_type": "stream",
     "text": [
      "[[0.  0.2 0.2 0.2 0.  0.2 0.  0.2 0.  0.  0.  0.  0.  0.  0.  0. ]\n",
      " [0.2 0.  0.2 0.2 0.2 0.2 0.  0.2 0.  0.  0.  0.  0.  0.  0.  0. ]\n",
      " [0.2 0.2 0.  0.2 0.  0.2 0.  0.  0.  0.  0.  0.  0.  0.  0.  0. ]\n",
      " [0.2 0.2 0.2 0.  0.  0.2 0.2 0.  0.  0.  0.  0.  0.  0.  0.  0. ]\n",
      " [0.  0.2 0.  0.  0.  0.2 0.2 0.2 0.  0.  0.  0.  0.  0.  0.  0. ]\n",
      " [0.2 0.2 0.2 0.2 0.2 0.  0.2 0.  0.  0.  0.  0.  0.  0.  0.  0. ]\n",
      " [0.  0.  0.  0.3 0.3 0.3 0.  0.  0.  0.  0.  0.  0.  0.  0.  0. ]\n",
      " [0.3 0.3 0.  0.  0.3 0.  0.  0.  0.  0.  0.  0.  0.  0.  0.  0. ]\n",
      " [0.  0.  0.  0.  0.  0.  0.  0.  0.  0.  0.3 0.  0.  0.3 0.  0.3]\n",
      " [0.  0.  0.  0.  0.  0.  0.  0.  0.  0.  0.  0.  0.3 0.3 0.3 0. ]\n",
      " [0.  0.  0.  0.  0.  0.  0.  0.  0.2 0.  0.  0.  0.2 0.2 0.2 0. ]\n",
      " [0.  0.  0.  0.  0.  0.  0.  0.  0.  0.  0.  0.  0.  0.  0.  1. ]\n",
      " [0.  0.  0.  0.  0.  0.  0.  0.  0.  0.5 0.5 0.  0.  0.  0.  0. ]\n",
      " [0.  0.  0.  0.  0.  0.  0.  0.  0.2 0.2 0.2 0.  0.  0.  0.2 0. ]\n",
      " [0.  0.  0.  0.  0.  0.  0.  0.  0.  0.3 0.3 0.  0.  0.3 0.  0. ]\n",
      " [0.  0.  0.  0.  0.  0.  0.  0.  0.5 0.  0.  0.5 0.  0.  0.  0. ]]\n"
     ]
    }
   ],
   "source": [
    "print(np.round(P,1))"
   ]
  },
  {
   "cell_type": "markdown",
   "metadata": {
    "id": "M4j7qshMK2Id"
   },
   "source": [
    "Q5. Now we will use $P$ to obtain the state probabilities $\\pi_t$ for $t=1,\\ldots$ starting from a single node.\n",
    "\n",
    "(a) First, you will define $\\pi_0$ (i.e., the distribution at time $t=0$) so that the random walk will necessarily start from node $3$ (indexes start from 0)."
   ]
  },
  {
   "cell_type": "code",
   "execution_count": 51,
   "metadata": {
    "deletable": false,
    "id": "tUvfHaBALelU",
    "nbgrader": {
     "cell_type": "code",
     "checksum": "84a343a8b16c32a787be82811484b22d",
     "grade": true,
     "grade_id": "pagerank_5a",
     "locked": false,
     "points": 2,
     "schema_version": 3,
     "solution": true,
     "task": false
    }
   },
   "outputs": [],
   "source": [
    "# A5a. (~2 lines)\n",
    "# YOUR CODE HERE\n",
    "num_nodes = len(G.nodes)\n",
    "\n",
    "# Initialize π_0 with all zeros\n",
    "pi = np.zeros(num_nodes)\n",
    "\n",
    "# Set probability of starting at node 3 to 1\n",
    "pi[3] = 1.0\n",
    "\n",
    "# Convert to DataFrame for display\n",
    "pi_0_df = pd.DataFrame(pi, index=G.nodes, columns=[\"pi\"])"
   ]
  },
  {
   "cell_type": "code",
   "execution_count": 53,
   "metadata": {
    "colab": {
     "base_uri": "https://localhost:8080/"
    },
    "id": "_lcw8jIeNDzr",
    "outputId": "109ae9bc-8e37-4324-94b6-ac2e263dcaf9"
   },
   "outputs": [
    {
     "name": "stdout",
     "output_type": "stream",
     "text": [
      "[0. 0. 0. 1. 0. 0. 0. 0. 0. 0. 0. 0. 0. 0. 0. 0.]\n"
     ]
    }
   ],
   "source": [
    "print(pi)"
   ]
  },
  {
   "cell_type": "markdown",
   "metadata": {
    "id": "q8BhaLARMT92"
   },
   "source": [
    "(b) Define a function `compute_state_distribution(P, pi, T)` that takes as input the initial state distribution `pi` and iterates `T` times using matrix `P`.\n",
    "\n",
    "Perform $T = 10$ iterations from $\\pi_0$ determine $\\pi_{10}$.\n",
    "\n",
    "PRO TIP: To avoid issues with numpy's broadcasting, make $\\pi$ a 2D array of shape (n,1)."
   ]
  },
  {
   "cell_type": "code",
   "execution_count": 54,
   "metadata": {
    "id": "UQBpONxyMmRk"
   },
   "outputs": [],
   "source": [
    "T = 10"
   ]
  },
  {
   "cell_type": "code",
   "execution_count": 55,
   "metadata": {
    "deletable": false,
    "id": "F5RJoLCaMTY8",
    "nbgrader": {
     "cell_type": "code",
     "checksum": "e9c30ff3bf3bc225ec5c8b401c2a2bf3",
     "grade": true,
     "grade_id": "pagerank_5b",
     "locked": false,
     "points": 6,
     "schema_version": 3,
     "solution": true,
     "task": false
    }
   },
   "outputs": [],
   "source": [
    "# A5b. (~6 lines)\n",
    "# YOUR CODE HERE\n",
    "def compute_state_distribution(P, pi, T):\n",
    "    pi_t = pi.reshape(-1, 1) \n",
    "    for _ in range(T):\n",
    "        pi_t = P.T @ pi_t  \n",
    "    \n",
    "    return pi_t\n",
    "\n",
    "pi = compute_state_distribution(P, pi, T)"
   ]
  },
  {
   "cell_type": "code",
   "execution_count": 56,
   "metadata": {
    "colab": {
     "base_uri": "https://localhost:8080/"
    },
    "id": "89nD-otmNPxB",
    "outputId": "9808b1ae-00f1-4e08-d074-b530d85127c0"
   },
   "outputs": [
    {
     "name": "stdout",
     "output_type": "stream",
     "text": [
      "[[0.13889477]\n",
      " [0.16655669]\n",
      " [0.11108035]\n",
      " [0.13903902]\n",
      " [0.11126516]\n",
      " [0.16668429]\n",
      " [0.08318518]\n",
      " [0.08329455]\n",
      " [0.        ]\n",
      " [0.        ]\n",
      " [0.        ]\n",
      " [0.        ]\n",
      " [0.        ]\n",
      " [0.        ]\n",
      " [0.        ]\n",
      " [0.        ]]\n"
     ]
    }
   ],
   "source": [
    "print(pi)"
   ]
  },
  {
   "cell_type": "markdown",
   "metadata": {
    "id": "CQLrZMWxNeRI"
   },
   "source": [
    "(c) Now compute $\\pi_{10}$, but this time start the random walk from node 15."
   ]
  },
  {
   "cell_type": "code",
   "execution_count": 57,
   "metadata": {
    "deletable": false,
    "id": "byhpcXXROcwS",
    "nbgrader": {
     "cell_type": "code",
     "checksum": "d13d841cb4881082adf041e52dc74fa4",
     "grade": true,
     "grade_id": "pagerank_5c",
     "locked": false,
     "points": 3,
     "schema_version": 3,
     "solution": true,
     "task": false
    }
   },
   "outputs": [],
   "source": [
    "# YOUR CODE HERE\n",
    "pi = np.zeros(num_nodes)\n",
    "pi[15] = 1.0 \n",
    "\n",
    "pi = compute_state_distribution(P, pi, T)"
   ]
  },
  {
   "cell_type": "code",
   "execution_count": 58,
   "metadata": {
    "colab": {
     "base_uri": "https://localhost:8080/"
    },
    "id": "F-Wr7WcrPX4Q",
    "outputId": "ccb38b49-340e-4cd8-cde8-368f95a023ab"
   },
   "outputs": [
    {
     "name": "stdout",
     "output_type": "stream",
     "text": [
      "[[0.        ]\n",
      " [0.        ]\n",
      " [0.        ]\n",
      " [0.        ]\n",
      " [0.        ]\n",
      " [0.        ]\n",
      " [0.        ]\n",
      " [0.        ]\n",
      " [0.08296712]\n",
      " [0.12666983]\n",
      " [0.204094  ]\n",
      " [0.01561981]\n",
      " [0.06729303]\n",
      " [0.19086445]\n",
      " [0.10265697]\n",
      " [0.20983479]]\n"
     ]
    }
   ],
   "source": [
    "print(pi)"
   ]
  },
  {
   "cell_type": "markdown",
   "metadata": {
    "id": "jl26bx0vOdzC"
   },
   "source": [
    "(d) Is the steady state distribution unique, regardless of the initial node? Why? (~2 sentences)"
   ]
  },
  {
   "cell_type": "markdown",
   "metadata": {
    "deletable": false,
    "id": "mLrbb2fGPdJg",
    "nbgrader": {
     "cell_type": "markdown",
     "checksum": "ce9ba5291903ab638998300915ad800d",
     "grade": true,
     "grade_id": "pagerank_5d",
     "locked": false,
     "points": 2,
     "schema_version": 3,
     "solution": true,
     "task": false
    }
   },
   "source": [
    "No, the steady-state distribution is not unique in this case because the graph consists of two disconnected components. Since a random walker cannot move between these components, the steady-state distribution depends on the initial node's component—if the walk starts in one component, it will never reach nodes in the other."
   ]
  },
  {
   "cell_type": "markdown",
   "metadata": {
    "id": "j7i0YlufP8mt"
   },
   "source": [
    "Q6. [ISU STUDENTS ONLY] Modify $P$ so that this new RW:\n",
    "* behaves as the uniform RW with probability 0.6,\n",
    "* transitions to node 0 with probability 0.2,\n",
    "* transitions to node 8 with probability 0.2;\n",
    "\n",
    "HINT 1: note that $P_{0,i}$ will be larger than 0.2 if $i$ is connected to 0. (The same is true for node 8).\n",
    "\n",
    "HINT 2: make sure that you have valid probability distributions."
   ]
  },
  {
   "cell_type": "code",
   "execution_count": null,
   "metadata": {
    "deletable": false,
    "id": "RWrruRCgNWGM",
    "nbgrader": {
     "cell_type": "code",
     "checksum": "91c42835faac73d64d6668b64d023ab4",
     "grade": true,
     "grade_id": "pagerank_6",
     "locked": false,
     "points": 3,
     "schema_version": 3,
     "solution": true,
     "task": false
    }
   },
   "outputs": [],
   "source": [
    "# A6. (~3-4 lines)\n",
    "# YOUR CODE HERE\n",
    "raise NotImplementedError()"
   ]
  },
  {
   "cell_type": "code",
   "execution_count": null,
   "metadata": {
    "colab": {
     "base_uri": "https://localhost:8080/"
    },
    "id": "SFNyayF7Ndts",
    "outputId": "2df6fdeb-e7f4-4a43-8d1b-8471ea30ba07"
   },
   "outputs": [],
   "source": [
    "print(P[0,1])"
   ]
  },
  {
   "cell_type": "markdown",
   "metadata": {
    "id": "JeuAjee1UZnk"
   },
   "source": [
    "Now we use the PageRank algorithm to rank not pages, but [Wikipedia editors](http://snap.stanford.edu/data/wiki-Vote.html) based on how they vote on each other."
   ]
  },
  {
   "cell_type": "markdown",
   "metadata": {
    "id": "22tsusjoXCgF"
   },
   "source": [
    "Q7. Download the Wikipedia vote network, load it using networkx and run the PageRank algorithm from the library.\n",
    "\n",
    "HINT 1: You can use library `urllib` to download the dataset from http://snap.stanford.edu/data/wiki-Vote.txt.gz. Check function `urllib.request.urlretrieve`.\n",
    "\n",
    "HINT 2: networkx has a function that allows you to read edgelists without uncompressing the file.\n",
    "\n",
    "HINT 3: make sure that you are reading it as a directed graph."
   ]
  },
  {
   "cell_type": "code",
   "execution_count": 63,
   "metadata": {
    "deletable": false,
    "id": "OeHFcJ8TXPWu",
    "nbgrader": {
     "cell_type": "code",
     "checksum": "3b9375442ff8efd97b20dacbd10d0427",
     "grade": true,
     "grade_id": "pagerank_7",
     "locked": false,
     "points": 2,
     "schema_version": 3,
     "solution": true,
     "task": false
    }
   },
   "outputs": [
    {
     "name": "stdout",
     "output_type": "stream",
     "text": [
      "{'30': 0.00017349553934328338, '1412': 0.0008141761230496596, '3352': 0.0017851250122027217, '5254': 0.0021500675059293226, '5543': 0.0010508052619841283, '7478': 0.000812430352613478, '3': 0.00020539498232448021, '28': 0.0016986730322136935, '39': 0.0003439790689580259, '54': 0.00034765464971898025, '108': 0.0004398371153454517, '152': 0.0005817197428805889, '178': 0.00029758488331950184, '182': 0.00016083873728146714, '214': 0.0016599199669365457, '271': 0.0013349240914416604, '286': 0.00017367757770305088, '300': 0.00015065607046072744, '348': 0.00017393564565284635, '349': 9.460415271381966e-05, '371': 0.0002892903392357495, '567': 0.00033152691295165287, '581': 0.00010905154270480289, '584': 0.00022615441013923313, '586': 0.00010518825019481072, '590': 0.00019458075864204938, '604': 0.00018151640169193398, '611': 0.0002164090559846353, '8283': 0.0003287923832617068, '25': 5.0487823458630175e-05, '6': 0.00031183250978437466, '8': 0.00032663557615950425, '19': 0.00013112179292607275, '23': 0.0001712239063742033, '29': 0.00018490986415744417, '33': 0.0003386160040196026, '35': 0.0007007673625519547, '50': 0.00040784053278751845, '55': 0.0009495051440874037, '75': 0.000479382955791831, '80': 0.0002831018285651443, '86': 0.0008513640893173855, '94': 0.0002738669766492548, '127': 9.816867983077857e-05, '154': 0.00011657540422981118, '192': 0.00023696930657024585, '224': 0.00010737291762504586, '226': 0.00018632856798393794, '246': 0.0001397464696216348, '252': 0.00017693558073974, '255': 0.00016496664840568207, '257': 0.00017660864590929976, '261': 0.00014828212153625845, '273': 0.00011576263040134176, '280': 0.00021388151591968753, '282': 0.0010828961137115444, '299': 0.001111572236198922, '302': 0.00017448484875268083, '306': 9.712342096658833e-05, '308': 0.00018140383955900965, '310': 0.0002879791021770649, '322': 0.00030999428223364787, '325': 0.00020042296035987264, '339': 0.00013270127106662598, '356': 0.00035770673812582685, '358': 0.00010765458423263136, '363': 0.0002897276440484437, '370': 0.00044807025055352683, '373': 0.00017604318569267916, '377': 0.00017137439056381863, '379': 0.00010226684535647772, '407': 0.0009321590642571336, '415': 0.0003924598829695656, '422': 0.00014939508244790067, '428': 0.00015736396959121953, '439': 0.000430292854569774, '488': 0.00010721356495180244, '514': 0.00027388368569639826, '545': 0.00044268309340101997, '549': 0.0005821674764842345, '560': 0.00041481310982103176, '592': 0.00012236748661421704, '600': 0.0007331339106458741, '645': 6.997563942485008e-05, '650': 6.766389861048441e-05, '659': 0.00020396625735167142, '664': 0.00014705861862734077, '667': 0.00042673136969066596, '673': 0.00023324579985905083, '675': 0.00011918372261819618, '696': 0.0002827552343057353, '706': 9.743865687052646e-05, '723': 0.00015545631135223913, '739': 0.0004863886423818306, '756': 0.000599591872290229, '857': 0.00047928124901166526, '864': 9.448462172656751e-05, '893': 0.0003531787194821059, '959': 0.0005157729567889809, '994': 0.00013485359193883613, '1131': 0.00018425366268540156, '3755': 0.001064328972994103, '8282': 7.55314521027557e-05, '8284': 0.00016424524204940803, '4': 5.0487823458630175e-05, '10': 0.0004213996615598799, '38': 0.00016519399800671061, '56': 0.000916041669228302, '130': 9.571900499208367e-05, '140': 0.00017782545502729766, '147': 0.00014192049378810773, '151': 0.00030297174644720306, '232': 0.0001967262550177801, '243': 0.0005818585824085621, '341': 8.781814134416319e-05, '606': 0.00013381930365561145, '5': 5.0487823458630175e-05, '61': 0.00021508864714877977, '89': 0.0001131594382148423, '93': 0.00012296226524326226, '153': 0.00027520482618477877, '163': 9.553360472363267e-05, '167': 8.519606296775292e-05, '168': 0.00011824328109330082, '175': 0.00020397898730008682, '34': 0.000260688653847685, '132': 0.00017738177851023718, '135': 0.00031002553855235073, '171': 0.00031340407644990726, '183': 0.00012070690254376315, '216': 0.0001296989039951812, '219': 0.00014360419800730196, '227': 0.00033204388971413355, '228': 0.00018316930606201504, '236': 0.00013810446219604452, '250': 0.0003704756229963375, '258': 0.0001021856163532881, '259': 0.0004940474346471421, '274': 0.00012403948740393288, '285': 0.0003704876932980772, '290': 0.0006582816231966973, '298': 0.0002600565106352666, '301': 8.706306072948801e-05, '304': 0.00023834640992262968, '317': 0.00016222083499758264, '319': 0.0001104357957512885, '359': 7.211277906089701e-05, '362': 0.00022867685064903147, '378': 8.154289895912817e-05, '390': 7.654500355274065e-05, '391': 0.0001775340354606607, '392': 6.890773173491178e-05, '394': 0.00019827780228349855, '396': 0.0001152064277137535, '402': 0.0004945466011707246, '405': 0.0002009935076687256, '406': 0.0001168294309571967, '421': 6.411804641293473e-05, '427': 0.00010539499389883797, '431': 0.00016127717870621693, '432': 0.00027756394516523035, '433': 0.00014076088206169222, '435': 0.0001778316728998161, '440': 0.00014712619954442322, '447': 0.00013310820349363126, '538': 9.277526256605027e-05, '564': 9.865138081018169e-05, '566': 9.288890510597561e-05, '579': 0.0003785419341156827, '589': 0.0002171879444174545, '609': 0.0002632569077904933, '613': 0.00020573406349929803, '616': 9.587823450585155e-05, '617': 6.442362192162725e-05, '619': 8.152852778324885e-05, '643': 0.00015477330122582776, '656': 0.0004068861721770797, '665': 0.0016523142774243057, '668': 7.38610242096484e-05, '691': 0.0001202255976214575, '694': 9.74299512139645e-05, '700': 7.416443354652284e-05, '704': 0.0002458988674796404, '717': 7.852939179717902e-05, '730': 0.0001912794618034088, '733': 0.00025423640052616656, '741': 0.00019480863303386367, '761': 0.0003741503663766589, '765': 0.0004925293030406183, '779': 7.843794865035678e-05, '789': 0.00044818183209151155, '791': 7.64452393416404e-05, '798': 0.00015970874147398382, '802': 0.00017294929212793202, '813': 0.00020718521235985472, '820': 9.734905637469717e-05, '826': 0.00010550045199416126, '863': 0.0005031261013833063, '871': 0.0001939990406335625, '881': 0.0001571826620384653, '885': 8.356578230972623e-05, '895': 0.0002414136048174648, '897': 0.0002143057964999314, '904': 0.0003154904809515898, '906': 0.0002142838617115259, '907': 0.00020143902012685402, '913': 0.0001490298111338812, '922': 0.0011102332549468266, '932': 0.00014675114282338645, '936': 0.00010564745073975372, '955': 0.00011083387963017537, '960': 0.0003132369734427782, '963': 0.00018324171778045967, '966': 0.0003473542192979211, '971': 0.00015946842300158811, '972': 0.0002576317933144449, '978': 0.0006086390750651234, '979': 0.00018656669911038635, '983': 6.745170513835722e-05, '991': 0.00014913007269820962, '993': 0.0012035351707928498, '995': 8.52434142019669e-05, '1007': 0.00010891329069533516, '1014': 0.0002927748895751095, '1022': 0.0002448118022459652, '1026': 0.001175321411285121, '1032': 0.00018471970275472802, '1035': 0.0004058165271260642, '1043': 0.00015573827460601628, '1055': 9.474087916136447e-05, '1062': 0.0004041269987992578, '1125': 0.00023764696963117613, '1144': 9.500182562764784e-05, '1152': 0.00011696700966124483, '1156': 0.00043176502350049443, '1160': 0.00011446487882341682, '1167': 0.00045793094724974034, '1168': 8.345707453673999e-05, '1218': 0.0001957419162465837, '1220': 0.00011575089983039786, '1221': 9.263371899632067e-05, '1222': 0.00019521930727441005, '1234': 0.0002771556824641267, '1241': 0.0002407901504327928, '1248': 0.00021746495582986977, '1253': 0.0002918958251652078, '1261': 0.0003746996258511037, '1297': 0.001951860821612229, '1321': 0.00010438978933806987, '1326': 0.00012709998571190922, '1377': 0.00021391754229209967, '1389': 0.00021888113061306814, '1390': 0.00031350474267953125, '1394': 0.00022334351902743478, '1396': 0.00011588542160906109, '1428': 0.0004178249925080926, '1439': 0.00022047387748145097, '1441': 0.00021921225269784376, '1442': 0.0003619979370251128, '1446': 0.00027248165753695043, '1453': 0.0007697508705739885, '1464': 0.0005529028492584115, '1465': 0.00028234564584384724, '1468': 0.00013248995156812707, '1471': 0.00026226766488779006, '1472': 7.46027852698309e-05, '1476': 0.000182506039257765, '1478': 7.118953846502124e-05, '1484': 0.0003773178884136855, '1485': 8.441652150265403e-05, '1487': 0.00018399409111361054, '1489': 0.00036610873724383697, '1490': 0.00010292007254096126, '1497': 0.0004297023245692822, '1501': 0.0001815089964276049, '1506': 0.0001706022694830497, '1507': 6.741808805341194e-05, '1513': 0.00016225618792648896, '1514': 0.0004485583771731461, '1518': 0.00013532517222163452, '1524': 0.00016141562360360193, '1525': 0.00029642388456684667, '1531': 0.00014368140442616955, '1532': 6.52024198631059e-05, '1533': 6.600532774327238e-05, '1538': 0.00036943446890333025, '1549': 0.0012421979673656227, '1555': 0.0001728290044088943, '1556': 0.00012199624197826786, '1557': 7.829661505451769e-05, '1563': 0.00021281058566104686, '1569': 0.0002433507693254805, '1573': 0.0001990905844498844, '1587': 0.00017359318069793195, '1597': 0.00013922469947483544, '1610': 0.00019330693494587668, '1619': 7.472116681663474e-05, '1641': 0.000251341107270634, '1648': 0.00035123793255403005, '1652': 0.0001823380962302122, '1654': 0.00020491708656669851, '1657': 6.279037213552163e-05, '1662': 0.0001283056555350225, '1669': 0.00010834612237518702, '1679': 0.0005071313832162692, '1689': 7.038642360560971e-05, '1692': 0.00013826524666417478, '1701': 0.0004907550472529876, '1716': 0.0001049918892214354, '1718': 0.00047187956401443496, '1752': 0.0001283607149736302, '1758': 0.00026754710073279106, '1768': 0.0001130359263336734, '1774': 0.0002337698975075476, '1783': 0.00024050608523452834, '1787': 0.0003161536839565357, '1788': 0.00025747090699973534, '1798': 0.00022881573610154652, '1861': 0.0001470301709795125, '1864': 0.00025972044684383853, '1982': 0.0008075779697471245, '2409': 0.0002086088618223289, '2651': 0.0010996260440959374, '2843': 6.703628310329765e-05, '2909': 0.0004025218101113245, '3892': 0.0006550278293514919, '4037': 0.004612715891167545, '4134': 0.00024248512288868428, '4792': 0.0006280237287669604, '4942': 6.729404417273262e-05, '5323': 0.00017057388605216264, '5697': 0.000684473308727245, '6227': 0.0003234577586384576, '6330': 0.0006786160016035912, '6624': 0.00031411590285948033, '6765': 0.00032833016687856066, '6790': 0.0005162157332439998, '6965': 5.75126867906928e-05, '7161': 7.267768545758138e-05, '7632': 0.0019037739909136611, '8290': 0.0005069324864598211, '7': 5.0487823458630175e-05, '32': 0.00019385458408414878, '105': 0.00032596058462083317, '524': 0.0003379138241721569, '1190': 0.00027112601923888046, '1193': 0.0006911485066391526, '1425': 0.0002566102927272505, '1919': 0.0006612504287867396, '8287': 0.0005117251710434227, '36': 0.0001385730293934265, '49': 0.000281010891921214, '144': 0.00027118189241555324, '150': 0.00013539492563036657, '389': 8.17441942142292e-05, '506': 0.0001963476909139275, '587': 0.00023562901295241047, '607': 0.00014965734898887524, '622': 0.00012768183067587055, '624': 8.401279813126325e-05, '627': 0.0001255828729472473, '628': 0.0001279951306122505, '631': 8.836071385278335e-05, '636': 0.00020117227482976916, '637': 0.00020506487614876446, '657': 9.810700481043158e-05, '658': 0.00013878747043725106, '674': 7.988317167066462e-05, '677': 0.00032509727240978933, '681': 0.00013120509863560797, '687': 7.082297508702753e-05, '715': 0.00041924024187317826, '719': 0.0002549213426259578, '725': 0.0001167782400732048, '749': 0.00016331563878312826, '760': 0.00028644442005746923, '778': 0.00011588806123388438, '806': 0.00014991327221485396, '810': 9.720975977851721e-05, '817': 0.0004484930677253751, '822': 0.000198646969887514, '844': 0.00014875170911464575, '866': 8.988055813386868e-05, '868': 0.00014907830116497577, '875': 0.00017878072468490266, '878': 0.00019212587020883925, '882': 8.060049160561755e-05, '938': 0.00017085063553237806, '977': 0.00022018422585896345, '1092': 7.227399476368777e-05, '9': 5.0487823458630175e-05, '517': 0.00021857855931438385, '559': 0.0003253527840915181, '626': 0.00043942551874421025, '918': 0.0001708292630458711, '982': 0.00014352765573030635, '1049': 0.0005785960097010074, '1103': 0.000455607665106618, '1384': 0.0004359104808517047, '1580': 0.00026820701028519903, '1618': 0.0001753474825730294, '1717': 0.0008301830701370565, '1855': 0.001106975703933988, '1966': 0.000356248707976787, '743': 8.80019590680573e-05, '746': 0.00020526730845001588, '748': 0.00012717091815136962, '750': 0.0002179163675558295, '11': 5.0487823458630175e-05, '15': 0.0036812207295292714, '72': 0.0007778819412063818, '95': 0.0007907971001829109, '204': 0.0005633238613354887, '230': 0.0005571370771172268, '313': 0.0002515563893345185, '332': 0.0002541174072790974, '334': 0.00030189605628330545, '338': 7.933188625687289e-05, '350': 0.00022686455718015435, '372': 0.00018842613370204133, '429': 0.00010433913081059417, '465': 0.0004669793964082203, '575': 6.606067489123722e-05, '608': 0.0004886509080135774, '644': 0.0007547637870328852, '647': 0.00017001093774506805, '684': 0.0001620383266800598, '705': 7.56775781626783e-05, '707': 0.00011348029915626132, '710': 0.00019514441720282926, '722': 0.00020354238094464556, '744': 6.772921010740413e-05, '762': 0.0017478626294191988, '763': 0.0003283433762114829, '764': 0.0002735548662894973, '771': 0.00038606550496098817, '793': 9.813552166792097e-05, '803': 0.00015603282096049328, '805': 0.00017707796350620991, '825': 0.000961320038864033, '829': 0.0003019074579538549, '836': 0.0001067650299421108, '837': 0.00015125303863269772, '838': 0.0002272685708248933, '839': 0.00011628939315372558, '849': 0.00028568015901428835, '853': 0.00013406405695105708, '859': 0.0003051709881684317, '873': 0.0001720915750297699, '887': 0.00023818207919021805, '908': 0.00023387533018446514, '929': 0.00011119525896455475, '934': 7.979982191278864e-05, '935': 0.00034321026570382563, '937': 0.00035852301905242703, '941': 0.0007817176421452652, '942': 8.090952272382312e-05, '943': 0.0001409944562092328, '945': 0.00011258431556706664, '946': 0.00020786041791419227, '947': 0.00015901512304146697, '956': 0.00010581664468106875, '958': 0.00020252717892291143, '968': 0.00018335382755343006, '975': 0.0002111285579068213, '985': 0.00017024047611602944, '989': 0.00022873003240227437, '999': 0.0001560793083228042, '1000': 0.0002313968021019893, '1006': 0.00021721948259525954, '1012': 0.0002484407606869409, '1018': 0.00028692095893047466, '1031': 0.0010703596945955875, '1034': 0.00013816779919988487, '1061': 0.00015466359931414557, '1075': 0.000194389118784624, '1080': 0.0007448609147219632, '1097': 0.00017436151977716512, '1111': 0.0005858402012206208, '1124': 0.00011663737497318125, '1127': 0.00021478131438574507, '1128': 7.608457623371402e-05, '1137': 0.00014847522100526112, '1151': 0.0004748593289712713, '1154': 0.00032560944612776107, '1164': 0.00026758775914714094, '1165': 0.00044378691751424145, '1185': 0.00020243191721620472, '1186': 0.0020438936876029136, '1191': 0.0002830689742475822, '1196': 0.00015210848818233765, '1199': 0.0005685945332332672, '1200': 0.000357848495184088, '1201': 0.0004268035604023933, '1203': 0.0002855901139011467, '1211': 0.0014177146901320054, '1230': 0.0002059579709079015, '1239': 0.0003125338959318167, '1243': 0.0001815976230260245, '1250': 0.00021903619479281166, '1259': 0.00019803405890564955, '1260': 0.0001321258815392752, '1279': 0.00033284463178081186, '1282': 0.0001072987142067132, '1284': 0.0003280268095095688, '1285': 0.00026283958084722357, '1286': 0.00023165118927959545, '1296': 0.0002757289873174512, '1305': 0.0003741209351644782, '1307': 0.0005530343196102557, '1310': 0.0007222644093887794, '1319': 0.0005086508582796598, '1322': 0.0002974068810708324, '1330': 0.0003062229342057324, '1353': 0.00019047800717976156, '1360': 0.00029308407563103685, '1372': 0.00014152627748829103, '1374': 0.0005408913563724193, '1375': 0.00015537221360944115, '1378': 0.00030519978294190557, '1382': 0.0002079703041060735, '1385': 0.0010579341179430093, '1402': 0.00028739201719134056, '1407': 0.00021790569499362272, '1411': 0.0002764121497555481, '1413': 0.0002321197403609111, '1418': 0.00013035923159214463, '1420': 0.00012874325506472808, '1435': 0.00010710115496568929, '1437': 0.0006396285064826301, '1444': 0.0002943270406325088, '1482': 0.000362551333729333, '1486': 7.387111044756614e-05, '1492': 0.00048755357917043806, '1496': 0.00042139539961360883, '1520': 0.00021567715144508873, '1521': 0.0002611944935727472, '1534': 0.00023796092879124048, '1542': 0.0002520946016819508, '1547': 0.00019336966596958133, '1550': 0.00024518215206985837, '1565': 0.00024936317481119254, '1566': 0.00028731264695519673, '1583': 0.0001109913761688962, '1585': 0.000555853794118739, '1592': 0.00024466697165526725, '1608': 0.00033878386782028585, '1613': 0.00019622527825750158, '1621': 0.0003249335115440926, '1622': 0.0005028131225905317, '1628': 0.00010410725109988464, '1629': 9.130316191521153e-05, '1633': 0.0010204970358821555, '1637': 0.00045463369877733094, '1638': 0.0007088859208279408, '1646': 0.0005478926509254258, '1649': 9.826870584777567e-05, '1653': 0.0001629040686624874, '1658': 0.00025988086792059345, '1661': 0.0005388978910479575, '1672': 0.00010797424210610843, '1680': 0.0003481824203197554, '1687': 0.00012834429229176028, '1688': 0.0005630126167804346, '1697': 0.0004845577237694659, '1700': 0.00038244937247275255, '1706': 0.00035322211223761654, '1707': 0.0001970138293186287, '1714': 0.0001614570959059182, '1726': 0.000998653947111157, '1729': 0.0005425386850843638, '1730': 0.00013567112203084693, '1732': 0.00012737285531923338, '1746': 0.00026233684200935385, '1747': 0.0001252300952025256, '1749': 0.000208566796400809, '1757': 0.0001349677538220075, '1769': 0.00035212558226731337, '1771': 0.00014407730464519012, '1772': 0.00037554986015270105, '1780': 0.00017543618761616905, '1791': 0.0001221112925789063, '1802': 0.0003135028753159754, '1805': 0.00017201844047279565, '1811': 0.00044479028257574685, '1816': 0.0002829943366511181, '1835': 0.00048118480231915096, '1836': 0.0005421551888823856, '1842': 0.0012397030472697543, '1847': 0.0003744935296013583, '1848': 0.00017094924271097083, '1849': 0.00045013581844889855, '1857': 0.000174927175785529, '1858': 0.00017581953808620208, '1859': 0.000607829166504085, '1880': 0.00011429316503075767, '1884': 0.00015583761195845993, '1888': 0.0004192165733882471, '1893': 0.000615945938290607, '1901': 0.00016074089606589342, '1903': 0.0002418234655558276, '1908': 0.00046981764387228685, '1920': 0.00014724872684469245, '1927': 0.0003009432130849841, '1953': 0.0002176249343562221, '1956': 0.0008071271433024499, '1963': 0.00040365905969438535, '1964': 0.0002779991839025719, '1965': 0.00021968074247314605, '1969': 0.00021086122090755238, '1973': 0.00018634422755717462, '1977': 0.0004748895121216, '1979': 0.00012721810354795224, '1983': 9.130473448736766e-05, '1985': 0.00018523985705086105, '1987': 0.00014071262990077553, '1990': 0.0005158029983421631, '1991': 0.0001356141952557887, '1992': 0.000483724680502899, '1997': 0.00031616587774757426, '2004': 0.0002139343316139517, '2007': 0.00010871479258368608, '2014': 0.0005633802367722012, '2055': 0.00010633712464664516, '2060': 0.00012689611043996323, '2062': 0.0004592604556167494, '2066': 0.0017190133175865345, '2071': 0.0002997298280418323, '2073': 0.00023989181069030444, '2076': 0.00022313493278605095, '2079': 0.0002994044839850466, '2085': 0.00023481421087031575, '2091': 0.00021198304461580417, '2095': 0.000362068062707472, '2097': 0.00011413073696964818, '2101': 0.00013346810426655527, '2109': 0.00011115320219425027, '2114': 0.0006299229972140328, '2117': 0.000641133136024158, '2119': 0.00012102675901312876, '2128': 0.00029293461604479527, '2134': 0.0006905183876977218, '2137': 0.00018065934151752474, '2144': 0.0008268976434248615, '2145': 0.0005906695223674783, '2151': 0.0006818937105327741, '2157': 0.0003147016825571534, '2168': 0.00014266571829418736, '2178': 0.00011370716662024259, '2181': 0.00019359480302747116, '2182': 0.00041304970779337797, '2193': 0.0004372404561927044, '2202': 0.0001408809342655917, '2205': 0.0001082527091703336, '2206': 0.00010675280128723511, '2210': 0.0008462057494015232, '2237': 0.002504703800483991, '2240': 0.0005732007611261847, '2241': 0.00016613941554513098, '2246': 0.00025608472708250196, '2252': 0.0004408427220410188, '2253': 0.00019669077660991856, '2257': 0.0002928639273932053, '2273': 0.00029309153815263936, '2289': 0.0004936643393979938, '2294': 0.00022121329619558176, '2328': 0.0020416288860889173, '2329': 0.00016120981741331306, '2332': 0.00016325813264747596, '2333': 0.00023419990919059817, '2339': 0.00044231843192127655, '2341': 0.00021987509046019832, '2345': 0.00019512399867099143, '2350': 0.00017100145392842067, '2362': 0.00011674858751408855, '2364': 0.000370418108384681, '2381': 0.0004064869894573438, '2384': 0.0003398508450146334, '2385': 0.0001847759122321115, '2397': 0.000450442418903012, '2400': 0.00026046560759674026, '2410': 0.00033331123443845854, '2411': 0.0006756053327394741, '2426': 0.00012081980130247778, '2435': 0.0004380244507373233, '2456': 0.0004431312984386403, '2470': 0.0025301053283849502, '2475': 0.00024536087680566277, '2479': 0.00020119355374055044, '2484': 0.00010171141124317848, '2485': 0.0010286924805163497, '2490': 0.00039041153759065636, '2499': 0.0002718774931591206, '2504': 0.0007828882145835109, '2506': 0.0005690764029008624, '2508': 0.0008232639154905049, '2517': 0.0006626451259848336, '2535': 0.0016682067978015195, '2544': 0.0004254930769858048, '2565': 0.0015503503379620098, '2570': 0.0002141093187743974, '2575': 0.00020928491236233017, '2579': 0.00024062546348516982, '2580': 0.00018269974971497826, '2585': 0.0007455334991006784, '2587': 0.0003633339931279962, '2593': 0.0005935693937947998, '2595': 0.0003491697480664108, '2604': 0.0001517930052122494, '2612': 0.0002749444105055786, '2619': 0.0005953157895509863, '2625': 0.0032863743692308997, '2643': 0.0011230140418049847, '2646': 0.0003551025631359345, '2653': 0.0007307046493685503, '2655': 0.0003778979081512654, '2657': 0.0013631759714335006, '2665': 0.0005158125694320293, '2669': 0.0002474000033884176, '2685': 0.00031414847693990233, '2686': 0.000490235622860983, '2696': 0.00027461769154622545, '2720': 0.00011864172481917818, '2727': 0.0005026266433502654, '2746': 0.001056249596500724, '2754': 0.0002511587161229904, '2760': 0.00034794920721689193, '2763': 0.0004202157636817801, '2775': 0.0007837419521595396, '2777': 0.00021356023455097202, '2787': 0.00031998070532118225, '2794': 0.00032665544783563026, '2811': 0.0002697239088371082, '2859': 0.0009617028036139837, '2871': 0.0010634725736072082, '2900': 0.0005199672566986814, '2923': 0.0005283691224561313, '2932': 0.0003150669882902655, '2958': 0.001158896046276573, '2981': 0.0002660647038803455, '3002': 0.0002801436223233974, '3005': 0.0008570591731587602, '3007': 0.0003825786368952977, '3010': 0.0007342242479797896, '3014': 0.0005472092628436339, '3024': 0.0007810786876400262, '3026': 0.0008055145576674707, '3028': 0.0004576414581343707, '3034': 0.0009797286227845605, '3059': 0.00048013429828917034, '3073': 0.00014461054642248862, '3084': 0.0011782972236993026, '3092': 0.0003405539353280161, '3114': 0.0002491046222481882, '3117': 0.0011452508166489293, '3125': 0.0005839337954928279, '3136': 0.0006508945276952393, '3140': 0.0007662084951221139, '3144': 0.0003193701780373307, '3180': 0.00029055837270648694, '3192': 0.0009769172831431254, '3258': 0.0003439878256600781, '3260': 0.0007418131845891699, '3284': 0.0004857299833282484, '3291': 0.0004977200937088909, '3309': 0.0003012139947344729, '3321': 0.0007937681210111562, '3334': 0.0016535779185613182, '3394': 0.0006469115897930876, '3404': 0.00038168458236806135, '3433': 0.0002715358122885759, '3439': 0.0007451807039611521, '3443': 0.0010631946352370558, '3447': 0.0003652244125764492, '3452': 0.0003674616312414218, '3453': 0.0005226553484799139, '3454': 0.0007303232828996702, '3458': 0.00028181155799736856, '3463': 0.00013622648274654256, '3464': 0.0001691500046910848, '3480': 0.0005736590922312361, '3529': 0.0005065996333424629, '3537': 0.001143441013542154, '3557': 0.0003500815741772621, '3562': 0.0011818300897048903, '3568': 0.0010498975127616172, '3607': 0.0004380192987326975, '3615': 0.000670185328816928, '3631': 0.0005131168971589021, '3635': 0.00039156107226151027, '3645': 0.0006494493455030733, '3650': 0.0008202387518971379, '3660': 0.0002984339520788323, '3661': 0.0002386209944249689, '3680': 0.0003794893448134567, '3748': 0.0005428188946814418, '3787': 0.00029462564344174104, '3800': 0.00037496890341074426, '3806': 0.00035947677463221234, '3807': 0.00029391768871637715, '3812': 0.0004831159457716167, '3830': 0.00043367908454009375, '3843': 0.0003686835309234465, '3847': 0.0004340403213782654, '3871': 0.00027796746882797997, '3903': 0.0003883160422804259, '3926': 0.00028995648567172144, '3937': 0.0003154530288856379, '3956': 0.00027395595356197774, '3958': 0.0005134589168961439, '3967': 0.00024584447532684554, '3970': 0.0004973811683734449, '4011': 0.0007215737986462949, '4013': 0.0002593629147682867, '4021': 0.00045601494623811805, '4024': 0.00023397915207434283, '4040': 0.000622089687693132, '4043': 0.0002933209448430175, '4044': 0.00030699239434512786, '4055': 0.0004299256534850587, '4058': 8.919328787746039e-05, '4065': 0.00020888044189134485, '4072': 0.0003972505909390325, '4088': 0.00010946821806872104, '4103': 0.00033344773854344977, '4124': 0.0006527660609782774, '4162': 0.00036187430002256786, '4179': 0.0006747833277642649, '4201': 0.0006433326597366533, '4212': 0.0004511854922934796, '4231': 0.00011117440118549282, '4247': 0.0009659593834602982, '4256': 0.001013118348989186, '4261': 0.0012876727534924758, '4263': 0.00040185028192756683, '4266': 0.0005763891750044589, '4269': 0.00039106468167038577, '4289': 0.0002620018311775308, '4290': 0.00042126034827819926, '4297': 0.00038793602799442353, '4299': 0.0005133166022698446, '4335': 0.0019353014475784864, '4384': 0.0005145224577446955, '4417': 0.000303300737940395, '4422': 0.00020982297055135963, '4424': 0.00040095793238343404, '4463': 0.0005495627789034812, '4485': 0.0005230511022987324, '4510': 0.0005684397524144883, '4528': 0.0003818455711878265, '4531': 0.0007923535429372404, '4547': 0.00029214598693650637, '4578': 0.0006025995217219913, '4613': 0.000211544035265519, '4661': 0.0008864540298583887, '4662': 0.0002548465512481981, '4706': 0.0003183221646118978, '4709': 0.0007511228336291309, '4719': 0.000431925157384903, '4796': 0.0009426472563404763, '4808': 0.0004131201065820818, '4811': 0.00041792887067523615, '4814': 0.00017501395691485965, '4820': 0.00031352887633242344, '4827': 0.0006653543448433921, '4938': 0.00019543402503381083, '4962': 0.0002980291277413958, '5026': 0.0002717552289936464, '5037': 0.0005147957533939921, '5055': 0.000688570236331199, '5073': 0.0003851306558498627, '5092': 0.0004199660016059706, '5100': 0.0004583907860100439, '5106': 0.0003988033795885038, '5130': 0.0005547194712037456, '5132': 0.00011390359521944629, '5144': 0.0005040281354984446, '5802': 0.00022043597073061064, '6170': 0.0001576783993527482, '6496': 0.0006402739991620895, '6715': 0.00047051356138186194, '6739': 0.0005387725535819955, '8286': 9.642709023730132e-05, '8291': 0.0005201278350376627, '8293': 0.0017044691035007064, '12': 5.0487823458630175e-05, '663': 0.000279487720308565, '697': 0.00025859336006987804, '2708': 0.00030583945262577337, '3371': 0.0005233674330495655, '4233': 0.0004169021002479442, '13': 5.0487823458630175e-05, '14': 5.0487823458630175e-05, '324': 0.0001408535466699706, '368': 0.00022563359586339675, '477': 0.0003078183489187505, '797': 0.00016639818815922881, '1053': 0.0002878168195759778, '1123': 0.00032064962908837997, '2016': 0.00029797009102902416, '8285': 8.35143813460483e-05, '417': 0.0007316747975975323, '737': 0.0017365555312247151, '974': 0.0007711693155141759, '2229': 0.0001283018147771485, '2398': 0.002605333171725021, '4561': 0.00014165194426212584, '4600': 0.001071032708025259, '4645': 0.0002793784826844848, '4658': 0.00011432390998339541, '7871': 0.00047459942170492486, '8292': 0.0003210921764836692, '16': 5.0487823458630175e-05, '17': 5.0487823458630175e-05, '18': 5.0487823458630175e-05, '20': 5.0487823458630175e-05, '321': 0.00017443321253485188, '425': 0.00019266607908433178, '861': 0.0001380329550364934, '896': 0.0006124756152042594, '981': 0.00011497276302777797, '1044': 0.00037183318614097374, '1352': 0.00043795907300998545, '1604': 0.00010676984230440088, '2165': 0.00013055647907352013, '2281': 9.740673828491632e-05, '2285': 0.0012443777169158046, '2324': 0.0004004627596383006, '2348': 0.000127436916601179, '2693': 0.0005376798710692033, '2774': 0.000661980295476124, '2828': 0.00019431178655095275, '2877': 0.0007295626247051831, '3027': 0.0005531342842534586, '3456': 0.0014108878727557004, '3516': 0.000706228507500175, '3614': 0.00021679347956982727, '4373': 0.0005359035690033951, '5327': 0.0002710075475562266, '5714': 0.0007027293054642879, '5775': 0.00037572569393476776, '5780': 0.0003313729709753908, '5814': 0.0006411433547874221, '5818': 0.0006044957008480287, '6229': 0.0006076925581037548, '6262': 0.00034623200801054115, '6780': 0.0006121431328794814, '7726': 0.00023399559313003906, '8288': 0.00017255202638346065, '21': 5.0487823458630175e-05, '794': 0.00019443036301971945, '2814': 0.00039929757173992565, '22': 5.0487823458630175e-05, '601': 9.085647014138588e-05, '670': 0.000115379822101417, '1029': 0.0001722208560783937, '1039': 0.00010397634895305467, '1593': 0.00038340035220332726, '24': 5.0487823458630175e-05, '311': 0.00022084771935117008, '633': 0.0002747815267490076, '742': 0.00017669326780979478, '769': 0.0004829166224544633, '856': 0.000326654847878437, '1100': 0.00014613625103918607, '1267': 0.0004802023433916766, '1315': 0.00030534291790762003, '1357': 0.0004996113837134112, '1416': 0.00035760302485316934, '1419': 0.0001774901940879044, '1473': 0.0005497030965572309, '1548': 0.0005479773925586304, '1705': 0.0005142138597174579, '1723': 0.0006487868063620591, '1734': 0.00043384717832145765, '1754': 0.0008589038949423089, '1781': 0.0003135388476436206, '1808': 0.00034951090187607017, '1814': 0.00027857719235064346, '1837': 0.00012092250361784584, '2209': 0.00027149464807516623, '2225': 0.00034724665153184275, '2264': 0.0004416103071896232, '2276': 0.0004359014715672533, '2323': 0.0009896478018814423, '2354': 0.0006822810646468761, '2371': 0.0004668727596023672, '2375': 0.0003524801548269692, '2516': 0.0008047378251214227, '2542': 0.0004460763984553472, '2560': 0.0003022514735056721, '2660': 0.000674779113110591, '2667': 0.0004790497516292551, '2697': 0.00042082847428275244, '2707': 0.00045644273875209166, '2815': 0.00024601922351025495, '2819': 0.0002543317972795491, '2822': 0.0005698257517675595, '2830': 0.0003076495587983724, '2922': 0.0002875141944282518, '2926': 0.00011888640724750224, '2955': 0.0004385574711307286, '2963': 0.00047907301869261056, '2999': 0.0003153250236697901, '3018': 0.00043737254823331123, '3089': 0.0016993720805897228, '3164': 0.0004392745774188929, '3351': 0.0003259900280690543, '3408': 0.0009076825837745699, '3410': 9.23625260245267e-05, '3473': 0.00043383134348543224, '3586': 0.0007128364204687787, '3643': 0.000632146748683581, '3792': 0.0005875441818462087, '3854': 0.0002625061256768735, '3898': 0.000956964104515678, '3910': 0.0005028055176424482, '4276': 0.00020032620176390484, '4310': 0.0014598839350747042, '4338': 0.00046623949504363577, '4349': 0.0006764718030568079, '4712': 0.0013347959975447956, '4944': 0.00023098655378612368, '4953': 0.00029921621137415455, '4999': 0.0004926336549282188, '5123': 0.0011612834308386253, '5162': 0.0006220390030138896, '5341': 0.000352869152599225, '5412': 0.0019167080775239903, '5423': 0.0014139627646056576, '5484': 0.0015430456206335548, '5511': 0.00024142838887909493, '5596': 0.0006526155263281318, '5863': 0.00025297615874247215, '6097': 0.0002501236813674059, '6272': 0.0002412870999413891, '6441': 0.0003170995469495395, '6566': 0.00036372655636650726, '6833': 0.000766398429606617, '6855': 0.0003767356965726228, '6869': 0.0003947503238421082, '6948': 0.0001981511928468588, '6955': 0.0003983530636249833, '7119': 0.0002895676081098534, '7143': 0.00027174031850049873, '7144': 0.00042291741166884905, '1030': 0.0001047617646857203, '1077': 0.00016163185160560363, '2801': 0.00025901779126398777, '6251': 0.00021820214275313572, '1023': 0.00014015732427930653, '1038': 0.00011124921969440083, '1166': 0.0005700765950669339, '2120': 0.00053889012175858, '2135': 0.0004142837404612635, '2297': 0.0006471357495068874, '2594': 0.0008829911436402511, '2599': 0.00015887049294574022, '2620': 0.00036232496436396696, '2689': 0.00023068239910946006, '2831': 0.0004233166943051403, '2834': 0.0002158343468868251, '3150': 0.00021565626563317336, '3274': 0.00023676035799854084, '3489': 0.0003041912433818701, '4099': 0.0009539603159666117, '4303': 5.589550841767525e-05, '4483': 0.0004339150522064346, '4574': 0.000393782536460999, '4717': 0.0004222246592869316, '4781': 0.0004720587101675682, '4929': 0.0002779919941198559, '5022': 0.0011058798871145426, '5459': 0.001048042911380927, '5529': 0.00048436405843146695, '5605': 0.000813297027252694, '5799': 0.0004023117987310657, '5804': 0.00039946909078356324, '5822': 0.0005160538467341618, '5897': 0.0004143701112318992, '6006': 0.0009665296566127801, '6044': 0.0008273239171943463, '6151': 0.0003043453881802931, '6437': 0.0003010169710545857, '7115': 0.0006734539680456954, '7289': 7.149616764178375e-05, '7908': 0.0007215366450786465, '8174': 0.0006457452492788422, '37': 5.0487823458630175e-05, '3976': 0.001011010420126329, '4735': 0.0016209567580411316, '6123': 0.000737492618181087, '40': 5.0487823458630175e-05, '26': 5.0487823458630175e-05, '419': 6.632764658784918e-05, '41': 5.0487823458630175e-05, '42': 5.0487823458630175e-05, '823': 6.496538753985611e-05, '1024': 0.00023356535556831503, '6458': 0.0006826331773454253, '7108': 0.0003933727687551923, '43': 5.0487823458630175e-05, '44': 5.0487823458630175e-05, '2652': 0.00018157615010773353, '3813': 0.00036413530320073846, '4687': 0.001069221410988325, '4795': 0.0005085704830244999, '4875': 0.0018675748225119072, '5439': 0.00025247863747199966, '6306': 0.00036587559405497913, '6432': 0.00035030841479279394, '7092': 0.001597387253434404, '8295': 0.0007536026809319522, '45': 5.0487823458630175e-05, '46': 5.0487823458630175e-05, '3435': 0.00023155498811472538, '3506': 0.00013487456757522212, '47': 5.0487823458630175e-05, '1236': 0.00017419821276871413, '1300': 5.078243845050416e-05, '1564': 0.00041087436025571104, '1603': 0.00025681843831458636, '2185': 0.0005976139974618202, '3720': 0.00043894703845552156, '3803': 0.00031663278860779166, '3897': 0.0010969509274752274, '3946': 0.00040483712837047144, '4189': 0.00024964461393964574, '5922': 0.00021583168000072217, '6875': 0.0003971748158437478, '8212': 0.0005171108601965611, '8294': 0.0009103607925256625, '48': 5.0487823458630175e-05, '51': 5.0487823458630175e-05, '52': 5.0487823458630175e-05, '53': 5.0487823458630175e-05, '1744': 0.0005707137147528228, '3276': 0.0005544526228157742, '3646': 0.00016645142625178807, '3717': 0.0005399780279904298, '4183': 0.00011493238470650055, '4191': 0.0022662633042363433, '4235': 0.00011077470489799737, '4389': 5.159074112051738e-05, '4666': 0.0012102604198827058, '4764': 0.0002247744680314622, '5079': 0.0012961508663821581, '5640': 0.00018455633281791984, '5998': 0.00025229049244748894, '840': 0.0005996521742482143, '5404': 0.001357657455276512, '5545': 0.0005394327758745509, '5582': 0.000232446697807878, '6198': 0.00011290975772676696, '6498': 0.0003603995504051716, '6503': 0.00027197960285087766, '6913': 0.0006079536137541281, '6946': 0.0017404328450373549, '7040': 0.00019591500894711444, '7052': 0.0004050431025965104, '7295': 0.00037249569314289305, '682': 0.00016119178894466224, '714': 0.0004109097976193538, '784': 0.00022001375766408606, '795': 0.00011281950117027534, '1020': 8.751259246338238e-05, '1432': 0.00012450386198050153, '515': 0.00015906255706450194, '2211': 0.000341545770366686, '57': 5.0487823458630175e-05, '58': 5.0487823458630175e-05, '5378': 0.00046266452186286764, '8237': 0.0002095738750750335, '59': 5.0487823458630175e-05, '928': 0.00020111922329503335, '1595': 0.0001106946103845304, '1918': 0.0004869154822087192, '2174': 0.00045340115708307303, '2547': 0.0003204578460059303, '2550': 0.0003445682291639366, '2724': 0.00023528233103830865, '2946': 0.00026195828064562036, '2966': 0.00019786295246271624, '2972': 0.00030703468520405585, '2977': 0.00019996358872735164, '2979': 0.00011348019052459362, '3015': 0.000259708354460205, '5624': 0.00041129303572948493, '6166': 0.00013948258938245586, '60': 5.0487823458630175e-05, '7624': 0.0004408806844240057, '62': 5.0487823458630175e-05, '2092': 5.927459743017857e-05, '2247': 0.0001145018664939453, '27': 5.0487823458630175e-05, '2369': 0.00028123508587544067, '2917': 0.00024219795517611492, '4400': 0.001038758194748274, '4448': 0.0005767620399660523, '4715': 0.000279022106187134, '4828': 0.001295652931927357, '5210': 0.0012812378374335918, '5743': 0.0004404036788898662, '5844': 0.0002703574406067307, '6246': 0.00033070140483272776, '63': 5.0487823458630175e-05, '64': 8.271314316735402e-05, '65': 5.0487823458630175e-05, '66': 5.0487823458630175e-05, '2799': 0.0002864618568859325, '4588': 0.00030482971857260534, '5614': 0.0001675463183461583, '7961': 0.0008481573281050892, '3238': 0.0009886363378648795, '3459': 0.001254456521317543, '3479': 0.0003120836804544927, '3498': 0.0009437634117415145, '4098': 0.0003822023980553948, '4994': 0.0003353873628733707, '5061': 0.0004446453703728767, '5321': 0.0006644870209843759, '5524': 0.000866705211992657, '5683': 0.0004795195223239794, '6004': 0.0008510894736785142, '6774': 0.001615901009929993, '6832': 0.0017646895191923723, '6979': 0.0006992704702515241, '7050': 0.0004175926248849639, '7279': 0.0004626314610964169, '7620': 0.0019301193957548775, '8042': 0.001408019073042443, '8128': 0.00018788694203474902, '73': 5.0487823458630175e-05, '76': 5.0487823458630175e-05, '78': 5.0487823458630175e-05, '1192': 0.00015961292760482265, '79': 5.0487823458630175e-05, '930': 0.0005831286583409469, '77': 5.0487823458630175e-05, '81': 5.0487823458630175e-05, '1157': 0.0005162208478547966, '83': 5.0487823458630175e-05, '91': 5.0487823458630175e-05, '67': 5.0487823458630175e-05, '84': 5.0487823458630175e-05, '85': 5.0487823458630175e-05, '2160': 0.0007094267520467316, '2576': 0.0011406284132013619, '2809': 0.00029700299881473306, '3050': 0.00020006046553895955, '3310': 0.00020964767133339177, '3576': 0.00017846362272554877, '3681': 0.0001816063247983471, '5028': 0.0005189737610448193, '5421': 0.0002606485828623314, '5449': 0.00045160502871306393, '5936': 0.0003204015015059327, '6094': 0.00030550997626037227, '6327': 0.0009664338854599459, '6914': 0.0012617583332444008, '6930': 0.00046728803738970684, '7553': 0.0021701850491959583, '71': 5.0487823458630175e-05, '1636': 6.637207977018915e-05, '1915': 0.000188998759913638, '2106': 0.00021563090546814417, '3804': 0.00015969314030211363, '4780': 0.00038670154336669705, '5058': 0.00018482204637000805, '5671': 0.000527312847347437, '7809': 0.0008930316411830106, '7921': 0.00020443558670519337, '87': 5.0487823458630175e-05, '2053': 0.00022146039297229537, '2256': 0.0008688422725943215, '2623': 0.00024080925522704314, '2764': 0.0003229291813696653, '2790': 0.0008120499905815792, '2925': 0.00015979971597675344, '3460': 0.00047282476974999194, '3873': 0.0007189456797854508, '3912': 7.623540077597548e-05, '3962': 0.0008319402691903038, '4078': 0.00015669342486000488, '4110': 0.0011074368341412327, '4332': 7.58760137916104e-05, '4453': 0.00033450993708038245, '4632': 0.0004019170195506966, '4748': 0.00023838658689546727, '5020': 0.000688077081712306, '5072': 0.0004676927970713862, '5200': 0.0007838125344891972, '5308': 0.00011197444154550603, '5392': 0.0002561252512323197, '5415': 0.00026899630763112497, '5584': 0.00023875009287524146, '5630': 8.419302147104879e-05, '5684': 0.00037996431251070037, '5732': 0.0002638138990095537, '5737': 0.0002346705555588416, '5790': 0.0002503702238435139, '5798': 0.00028457021132805314, '5963': 0.0008005311568552275, '6156': 0.0007009658299773497, '6174': 0.0003584582662062295, '6296': 0.000498974495050712, '6337': 0.00040697655606755607, '6400': 0.0005176128305865766, '6407': 0.00022803661423168384, '6553': 0.00012465623942214908, '6737': 0.0002779583482594988, '7381': 0.0004348454581559684, '7649': 0.0006303057637600923, '7662': 0.0003959337045813063, '8141': 0.00038231178701036414, '88': 5.0487823458630175e-05, '1270': 6.446113799566712e-05, '1612': 7.765038805249684e-05, '2991': 0.00043227299988529195, '3921': 7.290029687544996e-05, '3974': 6.728152963651986e-05, '90': 5.0487823458630175e-05, '1596': 0.00025488634518617317, '92': 5.0487823458630175e-05, '82': 5.0487823458630175e-05, '99': 5.0487823458630175e-05, '1498': 0.0002733506190001239, '3293': 0.0004024645791236693, '4071': 0.0007766383800004973, '5812': 0.00036217296759723233, '6560': 0.0009270301686011994, '6592': 5.969852576663887e-05, '6634': 0.003524813657640258, '6918': 0.0002990025509240001, '7574': 0.0001411494668752568, '7588': 0.00016521061749029978, '7803': 0.0007732970409065089, '8132': 9.394258773171597e-05, '96': 5.0487823458630175e-05, '100': 5.0487823458630175e-05, '98': 5.0487823458630175e-05, '31': 5.0487823458630175e-05, '102': 5.0487823458630175e-05, '1232': 8.977166377599668e-05, '103': 5.0487823458630175e-05, '2589': 0.00015468286516730223, '2851': 0.0005170863790840721, '4536': 0.001063455378816112, '5452': 0.0005142907843421557, '5503': 5.2603978692097875e-05, '5800': 0.0007738680758408575, '5872': 0.0005037077081840194, '6589': 0.00011555324162278371, '6665': 0.0007232860712060703, '6967': 6.812163849280873e-05, '7074': 0.00011588884862666709, '7618': 0.00026104859983581573, '115': 5.0487823458630175e-05, '116': 5.0487823458630175e-05, '104': 5.0487823458630175e-05, '106': 5.0487823458630175e-05, '3033': 0.0002897471152840261, '68': 5.0487823458630175e-05, '1159': 0.000384949532495367, '1792': 0.0002038898002516921, '2001': 0.00027803544279528497, '2072': 0.00020487499482272928, '2102': 0.0003139172473828105, '2307': 0.0003716607500086562, '2325': 0.0003720539950052638, '2338': 0.0002692038038756321, '2440': 0.00039387652243630833, '2597': 0.00019296170661701323, '2618': 0.00020687540484439434, '2654': 0.001769320714348241, '2765': 0.00021669022151517712, '2912': 0.00023405385622869828, '2951': 0.000185411745155139, '2973': 0.0003973321935995423, '3021': 0.0002352065075504548, '3056': 0.00030998251227055983, '3145': 0.00019981061923213164, '3307': 0.0006278991399339457, '3313': 0.0001269825885367934, '3376': 0.00015076860717838495, '3634': 0.0006771396693692119, '3691': 0.0002503875960064496, '3816': 0.00012254266121753597, '3949': 6.994679651028889e-05, '3980': 8.375199854929186e-05, '4051': 0.0002375495438884583, '4111': 8.903137800169129e-05, '4211': 7.656987324373429e-05, '4351': 0.00012038844663454674, '4584': 0.00012526602413419886, '4587': 0.0005045819688432686, '4604': 0.000202378518145988, '4631': 0.00011036210356994534, '4791': 0.0004896408680114644, '4884': 0.0004568373165528692, '4896': 5.064423723613418e-05, '4981': 0.0009393509940000795, '5002': 0.0008033973873987777, '5096': 0.000467414960065104, '5179': 0.0009121234462045714, '5188': 0.0003587909148452628, '5226': 0.0008121226689824339, '5233': 0.001357976923532472, '5245': 0.00023447779789171786, '5262': 0.0004999326512138794, '5288': 0.0008705804392766963, '5351': 6.467103110050247e-05, '5430': 0.00031379807796066674, '5437': 0.0002429563856695474, '5445': 0.0007289244333560133, '5457': 0.00029064087909975127, '5463': 0.00034526284912267846, '5527': 0.0003015596842356627, '5620': 0.00013590120393083696, '5637': 0.00019071845327057172, '5639': 0.0001192132679667299, '5655': 0.00011041045589725432, '5680': 0.0004392223585670833, '5721': 0.00024267635276214124, '5745': 0.0002262968312721248, '5806': 0.0005804618009688894, '5839': 0.0007735075262321924, '5848': 0.0003099266115075939, '5860': 9.539162909549007e-05, '5886': 0.000509609182711119, '5902': 0.0005203963173906429, '5925': 0.0005023689272194698, '5933': 0.00016736560002824532, '5972': 0.00013324868304858257, '5994': 0.0002739686571369053, '6083': 8.219671751232729e-05, '6098': 0.0003271070078098388, '6124': 0.0006669484685027021, '6130': 6.112244322882889e-05, '6505': 0.00025408108449709267, '6599': 0.00030819439878124953, '6682': 0.00018860521028676868, '6784': 0.0009810281906291, '7063': 0.00047714922857682404, '7094': 0.00018732615091808738, '7168': 0.00041354428517026334, '7233': 0.0005425327810224183, '7341': 0.00012985025838218017, '7544': 0.00023628255353792704, '7795': 0.00028981234228867675, '7839': 0.0005933695364007961, '8051': 0.0003398456921716311, '8178': 0.0006737043113256207, '117': 5.0487823458630175e-05, '118': 5.0487823458630175e-05, '119': 5.0487823458630175e-05, '107': 5.0487823458630175e-05, '109': 5.0487823458630175e-05, '1074': 0.00014086320284188318, '2511': 0.0002639330474808264, '3752': 0.00036400102589153927, '4361': 0.000581936012139671, '4401': 0.00043413528214462997, '4441': 0.00012146872333844269, '4786': 0.0001638579184482768, '4798': 0.0006834201569245148, '4940': 0.0006907274119551339, '5140': 0.0002874132206270922, '5273': 0.00035353745188761545, '5295': 0.00030321228796587513, '5465': 0.00025700998955389254, '5479': 0.0006279854685393889, '5563': 0.0008512629017280493, '5626': 0.00017531843373993673, '5739': 0.00037353344030491265, '5760': 0.0005902091098966121, '5819': 0.00048650067676934565, '5824': 0.0002945211684483901, '5827': 0.00026340455874796246, '5829': 0.0005284761975286525, '5871': 0.0005859860800988121, '6001': 0.0003332089033853528, '6043': 0.00029352200067942516, '6328': 0.0003561144384726838, '6344': 5.517865004599084e-05, '6376': 5.653601070702999e-05, '6417': 0.0005019710353047945, '6442': 0.0004068660143168896, '6464': 6.65843817308492e-05, '6481': 0.00048654497079907605, '6511': 0.00013405944306852852, '6523': 0.000620608585948825, '6528': 0.00020788839772351692, '6529': 8.268862420073364e-05, '6552': 0.00014752289673902651, '6555': 0.0008776446354529007, '6567': 0.0001224414441264719, '6576': 0.00031837622314721825, '6596': 0.00027203631903427135, '6600': 0.000498487256132549, '6699': 0.0002905033695616372, '6770': 0.0005271200825680433, '6788': 0.0001323914008099554, '6860': 0.00026228169043501104, '6901': 0.00019131536779408537, '6934': 0.00036306924640137775, '6951': 5.5919269191059395e-05, '6980': 0.0005604889989690492, '7005': 0.00039075297142356124, '7021': 0.0009434511090520828, '7047': 0.0003027107320123428, '7101': 0.0002648094729501555, '7185': 0.00022515720226049004, '7225': 0.0005845140873337323, '7280': 0.00035706962030009726, '7373': 0.00021872434048775843, '7393': 0.00015117396124584315, '7400': 0.00025680014625665594, '7414': 0.0007969609085520466, '7668': 0.00011928704150088236, '7694': 0.00022885171773964302, '7757': 0.0005817147322849335, '7763': 0.0005402589420811037, '7788': 0.00024167751728738554, '7810': 0.0002425156902978531, '7924': 0.00032828126885884115, '8297': 0.00035554959249973453, '110': 5.0487823458630175e-05, '4435': 0.00034637678329686825, '7855': 0.0003541783873615314, '7862': 0.000827175980882605, '111': 5.0487823458630175e-05, '120': 5.0487823458630175e-05, '112': 5.0487823458630175e-05, '121': 5.0487823458630175e-05, '122': 5.0487823458630175e-05, '403': 0.00020096189342330833, '1247': 0.00040311785277109444, '1291': 0.000261984945689334, '1393': 0.0002303311763112064, '1777': 0.00032240259793899693, '1984': 0.00018833692630641823, '2322': 0.0004361492527594029, '2474': 0.0005580254674335256, '2700': 0.00025065313664229393, '2747': 0.0004919340279504552, '2768': 0.00019797357732216663, '2805': 0.0002762564594139696, '2968': 0.0002398519824863863, '3029': 0.00026580969707366066, '3106': 0.00035453585142056665, '3148': 0.0003252046415346503, '3173': 0.0003221034506310427, '3251': 0.00020999239023253736, '3253': 0.00039620820763739046, '3393': 0.00029730146264709845, '3520': 0.00014730958696836476, '3541': 0.00031350125114180076, '3580': 0.0004673162929011146, '3587': 0.000456493368925599, '3772': 0.00013835072550093564, '3776': 0.00037776579539574293, '3887': 0.0003556273416783379, '4117': 9.756562967175788e-05, '4365': 0.0004504249235345363, '4530': 0.00047815952800136607, '4964': 0.00037876469450440805, '4977': 0.00032093319003829047, '5155': 0.00025137526535523824, '5335': 0.0005008885956372853, '5454': 0.00032256099082244487, '5506': 0.00028345977980698, '5509': 0.0002737506089357191, '5592': 0.00019308555278576783, '5651': 0.00023503596273732912, '5947': 0.00044412685487487557, '7699': 0.0010608267960310676, '113': 5.0487823458630175e-05, '686': 0.00011705534233512909, '5178': 0.000667123446334516, '7651': 0.0003411701501694097, '123': 5.0487823458630175e-05, '124': 5.0487823458630175e-05, '114': 5.0487823458630175e-05, '126': 5.0487823458630175e-05, '346': 0.00021741845281659727, '2290': 0.00037850725101421087, '2687': 0.00021470843743485972, '2928': 0.00015118707243133431, '3009': 0.0002594035093596494, '3265': 0.0007329317385540162, '3549': 7.874363296929921e-05, '3567': 0.00013847994803725322, '3713': 0.00014894641398612824, '3769': 0.0002297233126525368, '4234': 0.00024522351757055036, '5928': 0.000264286897678301, '7012': 0.0004479333184682365, '128': 5.0487823458630175e-05, '1950': 6.220886634320529e-05, '2069': 0.00011620663559011669, '2340': 0.00022905440732703383, '2366': 8.955013794965994e-05, '2386': 0.00014362710326858033, '3126': 0.00018995969928365224, '129': 5.0487823458630175e-05, '133': 5.0487823458630175e-05, '134': 5.0487823458630175e-05, '136': 5.0487823458630175e-05, '1493': 0.0001432422984240604, '3297': 0.00014428301347249554, '3346': 0.0002882573224424336, '3919': 0.0002732648759820219, '4412': 0.00018024828295728462, '4713': 0.0003266999456036271, '5482': 0.0005728740424643156, '5738': 0.0003935821764460255, '5950': 0.0002702236872065607, '5980': 0.00015537452695282895, '6000': 0.00038233621348465275, '6299': 0.000869234007376253, '6472': 0.0001399240551696581, '6628': 0.00020132908721996994, '6670': 8.734630890758771e-05, '6707': 0.0001391636326002208, '6725': 0.0002073171809501695, '6777': 7.348755457839397e-05, '6805': 0.00011020833891456258, '6938': 8.47961790452899e-05, '6953': 0.0001876668665916394, '6997': 0.0001009555208987645, '7054': 0.0002851570277388245, '7301': 0.0005922419501794348, '7442': 0.00025175958605844575, '137': 5.0487823458630175e-05, '138': 5.0487823458630175e-05, '139': 5.0487823458630175e-05, '141': 5.0487823458630175e-05, '142': 5.0487823458630175e-05, '143': 5.0487823458630175e-05, '1678': 9.096834496173671e-05, '1955': 6.627803415054257e-05, '145': 5.0487823458630175e-05, '5189': 0.00041753431716385605, '6720': 0.00032146297878238355, '146': 5.0487823458630175e-05, '1140': 0.00023579495127902254, '1141': 8.922193886145155e-05, '149': 5.0487823458630175e-05, '155': 0.0003677961573201536, '6923': 8.171400842866624e-05, '6993': 0.0002346938937142312, '7116': 0.00031229416145709695, '7493': 0.00026195774335569525, '7587': 0.0006520298003961494, '7604': 0.00015127290560764282, '7647': 0.00015481156489755184, '7648': 0.00010515554530997889, '7652': 0.00011651476478912891, '7672': 6.160657046036309e-05, '7701': 0.00014480626067736054, '7927': 0.0005215783320176968, '156': 5.0487823458630175e-05, '157': 5.0487823458630175e-05, '1114': 6.287342268951789e-05, '158': 5.0487823458630175e-05, '159': 5.0487823458630175e-05, '160': 5.0487823458630175e-05, '161': 5.0487823458630175e-05, '1240': 7.059710184972154e-05, '3429': 6.72844688939354e-05, '162': 5.0487823458630175e-05, '6691': 0.00023157408764864097, '165': 5.0487823458630175e-05, '4689': 0.00038411547851873053, '172': 5.0487823458630175e-05, '1571': 0.0003358382917523104, '1972': 0.0002147367611611018, '2356': 0.0002198573643375056, '2510': 0.0003498568066040195, '2662': 0.0003502301972863397, '3020': 0.00034509242785914614, '3030': 0.000662794652320594, '3099': 0.0003191251378122205, '3243': 0.00029161732427370927, '3338': 0.00018422544325531957, '3670': 0.00016814870877619707, '173': 5.0487823458630175e-05, '314': 9.551463520537504e-05, '948': 0.00014346421328497678, '1537': 0.00015758372606878028, '6269': 7.770539097107964e-05, '6414': 0.0007633979768521914, '6606': 0.0001452098365384894, '6994': 0.00024076917142438418, '7813': 0.0003562296755996565, '174': 5.0487823458630175e-05, '74': 5.0487823458630175e-05, '176': 5.0487823458630175e-05, '177': 5.0487823458630175e-05, '1733': 0.00012814102875926745, '1799': 0.00030844009867644364, '4646': 0.0003737440844900375, '179': 5.0487823458630175e-05, '180': 5.0487823458630175e-05, '181': 5.0487823458630175e-05, '166': 5.0487823458630175e-05, '1935': 0.00041232035027889344, '5246': 0.0002164343817235686, '6305': 0.00033011025673056947, '6945': 0.0001167167132689659, '7695': 0.0001530686767473558, '8079': 0.0001059833830175557, '8083': 0.0002896631520384974, '8134': 0.00045994226554934013, '8163': 0.0011948936565061821, '8198': 0.00033283004265541706, '185': 5.0487823458630175e-05, '194': 5.0487823458630175e-05, '187': 5.0487823458630175e-05, '188': 5.0698675364579204e-05, '2713': 0.00025396674016812265, '189': 5.0487823458630175e-05, '196': 5.0487823458630175e-05, '190': 5.0487823458630175e-05, '197': 5.0487823458630175e-05, '195': 5.0487823458630175e-05, '198': 5.0487823458630175e-05, '199': 5.0487823458630175e-05, '2721': 0.0001654991851420823, '191': 5.0487823458630175e-05, '200': 5.0487823458630175e-05, '201': 5.0487823458630175e-05, '202': 5.0487823458630175e-05, '203': 5.0487823458630175e-05, '3835': 0.00028082385897269937, '205': 5.0487823458630175e-05, '206': 5.0487823458630175e-05, '207': 5.0487823458630175e-05, '208': 5.0487823458630175e-05, '209': 5.0487823458630175e-05, '210': 5.0487823458630175e-05, '125': 5.0487823458630175e-05, '215': 5.0487823458630175e-05, '2195': 0.00024253644151553185, '2234': 0.00012722031060132137, '2242': 0.00013336492718270344, '2378': 6.528765820659295e-05, '2736': 0.00013388071626611422, '217': 5.0487823458630175e-05, '221': 5.0487823458630175e-05, '222': 7.158317430767761e-05, '223': 5.0487823458630175e-05, '1793': 0.00020605450015272436, '225': 5.0487823458630175e-05, '240': 5.0487823458630175e-05, '242': 5.0487823458630175e-05, '244': 5.0487823458630175e-05, '245': 5.0487823458630175e-05, '247': 5.0487823458630175e-05, '231': 5.0487823458630175e-05, '5263': 0.00038346777099835394, '233': 5.0487823458630175e-05, '234': 5.0487823458630175e-05, '235': 5.0487823458630175e-05, '237': 5.0487823458630175e-05, '2838': 0.00015852734258294348, '8121': 0.0005184284290623583, '248': 5.0487823458630175e-05, '238': 5.0487823458630175e-05, '239': 5.0487823458630175e-05, '169': 5.0487823458630175e-05, '253': 5.0487823458630175e-05, '254': 5.0487823458630175e-05, '1287': 6.321985876575751e-05, '256': 5.0487823458630175e-05, '260': 5.0487823458630175e-05, '2770': 0.00036430852765415635, '5773': 0.0006226883939193942, '5828': 0.00039347862244419564, '6840': 0.0001997281422489658, '263': 5.0487823458630175e-05, '3726': 0.00021489483793371407, '5222': 0.0004312547627949571, '264': 5.0487823458630175e-05, '265': 5.0487823458630175e-05, '827': 0.00016454286056699502, '5083': 0.0003879040634342525, '266': 5.0487823458630175e-05, '267': 5.0487823458630175e-05, '268': 5.0487823458630175e-05, '269': 5.0487823458630175e-05, '270': 5.0487823458630175e-05, '4432': 0.00036398443132331656, '276': 5.0487823458630175e-05, '277': 5.0487823458630175e-05, '275': 5.0487823458630175e-05, '2844': 0.00012209320104574647, '241': 5.0487823458630175e-05, '2785': 0.0006894374095305491, '283': 5.0487823458630175e-05, '284': 5.0487823458630175e-05, '287': 5.0487823458630175e-05, '288': 5.0487823458630175e-05, '289': 5.0487823458630175e-05, '291': 6.0345150061747024e-05, '2326': 0.00028336732305359584, '3455': 0.00020470880509057903, '4466': 0.00010526134109515298, '4776': 0.00013916862618539402, '294': 5.0487823458630175e-05, '292': 5.0487823458630175e-05, '293': 5.0487823458630175e-05, '295': 5.0487823458630175e-05, '296': 5.0487823458630175e-05, '297': 5.0487823458630175e-05, '4983': 0.0009372579470656606, '5793': 0.00019882639092272855, '3724': 0.00031031412650959285, '4557': 0.00059567754030015, '249': 5.0487823458630175e-05, '303': 5.0487823458630175e-05, '1833': 0.000138809163946104, '903': 9.373036344804114e-05, '1277': 0.000368640875730444, '3191': 0.00026693547672998794, '4041': 0.0007510025694653555, '4138': 0.0006227552839026308, '5176': 0.00025435766812109694, '5182': 0.00030919079025119834, '5969': 0.00032333545961497407, '6029': 0.000250994359308695, '307': 5.0487823458630175e-05, '320': 5.0487823458630175e-05, '309': 5.0487823458630175e-05, '2121': 6.934750717927214e-05, '3417': 0.00037053489257581133, '3664': 0.0002739892134111332, '4471': 0.00010825031078400919, '4482': 0.0001368688519514876, '5239': 0.0002707112173728373, '5753': 0.0002225851850658421, '2425': 0.00010687405357763752, '2605': 0.00017940634366110504, '2672': 5.769093089334835e-05, '2918': 0.00021077939598047565, '2940': 0.0006289670010018135, '3068': 0.00014391744060610463, '3969': 0.00015850205939875505, '4534': 0.00041555175084539373, '4650': 6.506333538710166e-05, '6595': 0.00018513032056867803, '7833': 0.000446963249464206, '312': 5.0487823458630175e-05, '315': 5.0487823458630175e-05, '316': 5.0487823458630175e-05, '305': 5.0487823458630175e-05, '318': 5.0487823458630175e-05, '967': 0.00031356796960013044, '2592': 0.0002744145677590884, '2629': 9.714812460653322e-05, '3547': 7.602867810449267e-05, '3796': 0.000718359859475627, '4527': 0.00019988517822737105, '4551': 0.0002995359942939887, '4954': 6.563772905441399e-05, '5075': 6.362713778827744e-05, '6110': 6.373477745487825e-05, '6347': 0.0005001054605639593, '6570': 0.00015167334899149186, '7910': 0.000513449739011582, '8037': 0.0001216187761665516, '329': 5.0487823458630175e-05, '330': 5.0487823458630175e-05, '323': 5.0487823458630175e-05, '326': 5.0487823458630175e-05, '331': 5.0487823458630175e-05, '327': 5.0487823458630175e-05, '251': 5.0487823458630175e-05, '328': 5.0487823458630175e-05, '333': 5.0487823458630175e-05, '335': 5.0487823458630175e-05, '5887': 0.00011248817014589057, '7443': 0.00028636531158645966, '7497': 0.0001731765702369198, '7688': 0.00016808685333947064, '4403': 9.313651792808633e-05, '336': 5.0487823458630175e-05, '6221': 0.0003150558523362525, '7450': 0.00046900783220114064, '337': 5.0487823458630175e-05, '340': 5.0487823458630175e-05, '1266': 8.436503854068038e-05, '2163': 0.00011105679396155834, '2670': 7.514998125243614e-05, '342': 5.0487823458630175e-05, '343': 5.0487823458630175e-05, '344': 5.0487823458630175e-05, '2501': 0.0001639352451969713, '345': 5.0487823458630175e-05, '2251': 0.0006128891249862004, '2416': 0.00022675338348503916, '3104': 0.0002701100182692733, '3446': 0.00010104997716889352, '3483': 0.00021990690409254098, '3971': 7.591330324150956e-05, '4822': 6.635673151395365e-05, '351': 5.0487823458630175e-05, '355': 5.0487823458630175e-05, '352': 5.0487823458630175e-05, '353': 5.0487823458630175e-05, '357': 5.0487823458630175e-05, '193': 5.0487823458630175e-05, '364': 5.0487823458630175e-05, '365': 5.0487823458630175e-05, '366': 5.0487823458630175e-05, '369': 5.0487823458630175e-05, '367': 5.0487823458630175e-05, '6388': 0.00043880426466359084, '7277': 0.0003938237978448915, '7422': 0.00020006875545112968, '374': 5.0487823458630175e-05, '375': 5.0487823458630175e-05, '376': 5.0487823458630175e-05, '386': 5.0487823458630175e-05, '381': 5.0487823458630175e-05, '382': 5.0487823458630175e-05, '387': 5.0487823458630175e-05, '101': 5.0487823458630175e-05, '383': 5.0487823458630175e-05, '2674': 0.0003274502450376553, '384': 5.0487823458630175e-05, '393': 5.0487823458630175e-05, '395': 5.0487823458630175e-05, '4175': 0.0005281163373183663, '4341': 0.00028093539123791615, '5199': 0.00039491759568026195, '6904': 9.452575010112621e-05, '6976': 0.00032362424449335905, '7512': 0.00016257678128270186, '7890': 0.001012204286946771, '397': 5.0487823458630175e-05, '398': 5.0487823458630175e-05, '6890': 9.125968836558857e-05, '399': 5.0487823458630175e-05, '400': 5.0487823458630175e-05, '401': 5.0487823458630175e-05, '404': 5.0487823458630175e-05, '2433': 0.0006479860100099794, '2617': 0.00019581373291237142, '3130': 0.0007159955083493168, '4846': 0.000437057218208451, '4980': 0.00034585113687229864, '5559': 0.00014727356570184996, '5568': 0.00025111327188022376, '5817': 0.0004312998442481042, '7306': 0.0003650206221874061, '408': 5.0487823458630175e-05, '409': 5.0487823458630175e-05, '410': 5.0487823458630175e-05, '411': 5.0487823458630175e-05, '413': 5.0487823458630175e-05, '414': 5.0487823458630175e-05, '416': 5.0487823458630175e-05, '418': 5.0487823458630175e-05, '423': 5.0487823458630175e-05, '424': 5.0487823458630175e-05, '2231': 0.00030902902520546104, '2880': 0.00041689536497906056, '5384': 0.0002992116732806833, '5487': 0.0001976074864750435, '5811': 0.00033197535938787957, '5835': 0.00016509202877244047, '6241': 0.00015218876841706288, '6255': 0.00030715281510848775, '6323': 0.00037385470679427053, '6424': 0.00035237770845790407, '6447': 0.00012316879606986958, '6613': 0.0003007263239567558, '6803': 0.00014855679985222573, '6809': 0.00015950128384628883, '6813': 9.242148701697886e-05, '6982': 0.00014756407191011527, '7131': 0.000770232755483352, '7351': 0.00031561302175406205, '7707': 0.00031742561843011574, '426': 5.0487823458630175e-05, '430': 5.0487823458630175e-05, '618': 5.3512241326818106e-05, '4653': 0.0007237919653723675, '5466': 0.0003639640005280527, '5693': 0.0006022971092773957, '434': 5.0487823458630175e-05, '436': 5.0487823458630175e-05, '437': 5.0487823458630175e-05, '438': 5.0487823458630175e-05, '412': 5.0487823458630175e-05, '441': 5.0487823458630175e-05, '443': 5.0487823458630175e-05, '7992': 0.00036688822421427817, '444': 5.0487823458630175e-05, '451': 5.0487823458630175e-05, '448': 5.0487823458630175e-05, '449': 5.0487823458630175e-05, '3548': 0.00022188864199831633, '4402': 0.0009062861925952245, '446': 5.0487823458630175e-05, '450': 5.0487823458630175e-05, '211': 5.0487823458630175e-05, '453': 5.0487823458630175e-05, '454': 5.0487823458630175e-05, '455': 5.0487823458630175e-05, '456': 5.0487823458630175e-05, '457': 5.0487823458630175e-05, '1600': 0.00013625909215213272, '2277': 9.049999624342477e-05, '2818': 9.355402700633634e-05, '2996': 0.00025721309176374483, '3200': 0.00023661968641732462, '3324': 0.00011776494538831134, '3409': 7.263754438397875e-05, '3849': 0.00012170263401517034, '3911': 8.366652999708605e-05, '3922': 0.00017465390597946366, '4173': 0.00016525878686288648, '4315': 0.0004094725036640841, '4488': 0.00021817707153687482, '4507': 0.0003720475361774151, '4621': 8.62106406583374e-05, '4797': 0.00023581713644573298, '4824': 0.0004092725908483664, '4831': 0.00013252452041975289, '4879': 0.00010390468542081546, '4899': 0.0001866215470694174, '4986': 0.00037570978969361123, '5012': 0.0002432885169190308, '5045': 8.692521458422962e-05, '5121': 0.0003482685633301049, '5148': 0.00036032472051719373, '5204': 0.0005261127309745896, '5285': 0.00037659550131705625, '5289': 0.00043806959695793726, '5305': 0.0004911960263871142, '5513': 9.304368096572247e-05, '5623': 0.00019462949330548875, '5631': 6.258175667870857e-05, '5638': 0.00021586231854895885, '5663': 7.47461363068414e-05, '5705': 0.00012864316987626842, '5757': 0.00011673257311188577, '5776': 0.00022638359386311917, '5792': 5.626496935821169e-05, '5801': 0.00012616186243574295, '5809': 9.112337126801363e-05, '5830': 0.00011404432702998905, '5832': 6.200646798572216e-05, '5850': 0.00024658808515083224, '5891': 0.0004733005060914466, '5931': 8.89957398548043e-05, '5932': 0.00017360203848756315, '5973': 0.00021294206575148218, '5991': 0.00011906124508947282, '6009': 0.00010222211438343383, '6010': 6.091487999917197e-05, '6021': 0.00011386865698037805, '6032': 0.0003339330791447176, '6106': 6.889283132149876e-05, '6149': 5.682577025245027e-05, '6161': 0.00021793303941347134, '6218': 0.000444000035491264, '6243': 0.00033293231219598546, '6261': 9.978537535534352e-05, '6270': 0.00027034073389855596, '6302': 0.0001307436352091419, '6334': 0.0008803445706687381, '6409': 0.00015278221303339815, '6422': 0.00045990318324634605, '6474': 0.00014294335453929235, '6491': 0.00010719077159797655, '6554': 0.0003008770944888893, '6571': 0.00014054740929426572, '6594': 0.00017223160491847394, '6632': 0.00013969864048153904, '6663': 0.0001191651602132123, '6668': 7.49656980648347e-05, '6685': 0.00012858452031002472, '6686': 0.00011549491275471255, '6783': 0.00020797665000103337, '6873': 0.00015107088087362966, '6897': 0.00025855479700926396, '6907': 0.0005377503309214858, '7034': 5.054658546520614e-05, '7073': 0.00027216267912248064, '7237': 0.0002410635910157214, '7238': 0.00040976963376459846, '7389': 0.00023474836431926045, '7491': 7.493074896635335e-05, '7529': 0.0002931663752436414, '7561': 0.00026380688836658814, '7791': 0.00013871467355829474, '7835': 0.0004339140306621268, '7860': 0.0006303545546214531, '7946': 0.0001796396295350097, '7957': 5.054658546520614e-05, '7965': 0.00023353650772324995, '7979': 0.00034397528887851253, '8044': 0.000232675075106496, '8050': 6.38741459558616e-05, '8209': 0.00016377992193810585, '8219': 0.00024500524188666507, '8224': 0.0002750037086250577, '8226': 8.968223603467129e-05, '8249': 0.0004206830623791444, '458': 5.0487823458630175e-05, '460': 5.0487823458630175e-05, '461': 5.0487823458630175e-05, '462': 5.0487823458630175e-05, '463': 5.0487823458630175e-05, '3939': 0.00010242162029977101, '3942': 0.00016624346374375038, '467': 5.0487823458630175e-05, '468': 5.0487823458630175e-05, '164': 5.0487823458630175e-05, '472': 5.0487823458630175e-05, '476': 5.0487823458630175e-05, '479': 5.0487823458630175e-05, '480': 5.0487823458630175e-05, '481': 5.0487823458630175e-05, '486': 5.0487823458630175e-05, '473': 5.0487823458630175e-05, '489': 5.0487823458630175e-05, '490': 5.0487823458630175e-05, '492': 5.0487823458630175e-05, '493': 5.0487823458630175e-05, '494': 5.0487823458630175e-05, '497': 5.0487823458630175e-05, '498': 5.0487823458630175e-05, '499': 5.0487823458630175e-05, '501': 5.0487823458630175e-05, '502': 5.0487823458630175e-05, '504': 5.0487823458630175e-05, '507': 5.0487823458630175e-05, '513': 5.0487823458630175e-05, '511': 5.0487823458630175e-05, '509': 5.0487823458630175e-05, '516': 5.0487823458630175e-05, '519': 5.0487823458630175e-05, '520': 5.0487823458630175e-05, '525': 7.674770265405997e-05, '521': 5.0487823458630175e-05, '522': 5.0487823458630175e-05, '523': 5.0487823458630175e-05, '445': 5.0487823458630175e-05, '527': 5.0487823458630175e-05, '528': 5.0487823458630175e-05, '531': 5.0487823458630175e-05, '530': 5.0487823458630175e-05, '529': 5.0487823458630175e-05, '534': 5.0487823458630175e-05, '536': 5.0487823458630175e-05, '539': 5.0487823458630175e-05, '540': 5.0487823458630175e-05, '541': 5.0487823458630175e-05, '542': 5.0487823458630175e-05, '543': 5.0487823458630175e-05, '544': 5.0487823458630175e-05, '7646': 0.00034199855709073746, '546': 5.0487823458630175e-05, '3811': 0.0001865964980885211, '4199': 0.00043307540060945977, '5298': 9.761135481787304e-05, '5807': 0.0003428552559238982, '6421': 0.00011461999415454296, '6590': 6.626317845493837e-05, '551': 5.0487823458630175e-05, '218': 5.0487823458630175e-05, '547': 5.0487823458630175e-05, '548': 5.0487823458630175e-05, '550': 5.0487823458630175e-05, '552': 5.0487823458630175e-05, '553': 5.0487823458630175e-05, '554': 8.081805916052816e-05, '555': 5.0487823458630175e-05, '556': 5.0487823458630175e-05, '557': 5.0487823458630175e-05, '558': 5.0487823458630175e-05, '561': 5.0487823458630175e-05, '562': 5.0487823458630175e-05, '563': 5.0487823458630175e-05, '565': 0.00031121875693201385, '568': 5.0487823458630175e-05, '569': 5.0487823458630175e-05, '570': 5.0487823458630175e-05, '571': 5.0487823458630175e-05, '572': 5.0487823458630175e-05, '573': 5.0487823458630175e-05, '574': 5.0487823458630175e-05, '576': 5.0487823458630175e-05, '577': 5.0487823458630175e-05, '578': 5.0487823458630175e-05, '580': 5.0487823458630175e-05, '2258': 0.0002131114157416442, '5103': 0.0003424491751533692, '5500': 0.00016856303141997973, '583': 5.0487823458630175e-05, '582': 5.0487823458630175e-05, '4562': 0.00013409007453400482, '4605': 0.0001588542839688023, '4728': 0.00019775784394966721, '585': 5.0487823458630175e-05, '588': 5.0487823458630175e-05, '591': 5.0487823458630175e-05, '595': 5.0487823458630175e-05, '593': 5.0487823458630175e-05, '596': 5.0487823458630175e-05, '594': 5.0487823458630175e-05, '597': 5.0487823458630175e-05, '598': 5.0487823458630175e-05, '599': 5.0487823458630175e-05, '6892': 9.452950738423375e-05, '7912': 0.00048367907271251736, '602': 5.0487823458630175e-05, '605': 5.0487823458630175e-05, '610': 5.0487823458630175e-05, '612': 5.0487823458630175e-05, '614': 5.0487823458630175e-05, '615': 5.0487823458630175e-05, '495': 5.0487823458630175e-05, '620': 5.0487823458630175e-05, '8289': 5.854445130328172e-05, '621': 5.0487823458630175e-05, '625': 5.0487823458630175e-05, '632': 5.0487823458630175e-05, '5469': 5.579043401746584e-05, '634': 5.0487823458630175e-05, '1403': 0.0004367040809872337, '3554': 0.0001700004106741679, '4323': 0.0002466356471461744, '5539': 0.00013154727129894298, '6148': 0.0007199433714564831, '646': 5.0487823458630175e-05, '635': 5.0487823458630175e-05, '638': 5.0487823458630175e-05, '640': 5.0487823458630175e-05, '641': 5.0487823458630175e-05, '642': 5.0487823458630175e-05, '648': 5.0487823458630175e-05, '649': 5.0487823458630175e-05, '3082': 0.00010500943339287992, '3256': 6.57954615357686e-05, '651': 5.0487823458630175e-05, '655': 5.0487823458630175e-05, '652': 5.0487823458630175e-05, '653': 5.0487823458630175e-05, '654': 5.0487823458630175e-05, '661': 5.0487823458630175e-05, '662': 5.0487823458630175e-05, '1961': 0.00021768474300869884, '2223': 0.00037360296945131497, '4480': 0.0004038892875068579, '666': 5.0487823458630175e-05, '639': 5.0487823458630175e-05, '669': 5.0487823458630175e-05, '672': 5.0487823458630175e-05, '4049': 0.00024190663022113844, '676': 5.0487823458630175e-05, '678': 5.0487823458630175e-05, '683': 5.0487823458630175e-05, '688': 5.0487823458630175e-05, '689': 5.0487823458630175e-05, '690': 5.0487823458630175e-05, '692': 5.0487823458630175e-05, '693': 5.0487823458630175e-05, '695': 5.0487823458630175e-05, '4639': 0.00010659578947359436, '699': 5.0487823458630175e-05, '701': 5.0487823458630175e-05, '703': 5.0487823458630175e-05, '1819': 0.00012699137544860194, '708': 5.0487823458630175e-05, '2993': 0.00028731075193470134, '709': 5.0487823458630175e-05, '3671': 7.854402739054777e-05, '711': 5.0487823458630175e-05, '712': 5.0487823458630175e-05, '713': 5.0487823458630175e-05, '716': 5.0487823458630175e-05, '718': 5.0487823458630175e-05, '3808': 0.00013762831906717046, '720': 5.0487823458630175e-05, '721': 5.0487823458630175e-05, '2571': 0.00013945964879425658, '2591': 0.00010970896343034055, '2607': 0.00011952808925143838, '2647': 9.673579050661235e-05, '2797': 0.00012188077577077586, '2821': 0.00019192977887674457, '2825': 0.0002473595500753651, '2856': 0.0004756126138590227, '2902': 0.00022197841300272545, '3255': 7.138683953937768e-05, '3609': 0.00013031038762854628, '5326': 0.0001096320959188837, '6714': 0.0004063444313043362, '724': 5.0487823458630175e-05, '726': 5.0487823458630175e-05, '727': 5.0487823458630175e-05, '728': 5.0487823458630175e-05, '729': 5.0487823458630175e-05, '731': 5.0487823458630175e-05, '732': 5.0487823458630175e-05, '1823': 0.00016113158218393134, '1865': 0.00020390291937558662, '3842': 0.0001627144681612915, '4298': 0.0003271564263615077, '5064': 0.00026189918276326216, '5772': 0.00014997845456556276, '6047': 7.8369832552631e-05, '6280': 0.00014387309236457523, '6320': 0.00021327705026594928, '6618': 0.0006138658264467909, '6700': 0.00014655638951118865, '6736': 0.0003280494262700694, '6759': 0.00012708389468445825, '6772': 8.878839721807072e-05, '6789': 0.00035848908834636915, '6917': 8.50782530717084e-05, '6924': 0.00017714723289244985, '6933': 8.212962616130933e-05, '7162': 0.00011184212727849019, '7186': 8.347740069045602e-05, '7323': 8.438502365024394e-05, '7386': 0.0004940003798168929, '7391': 0.0003732698532869474, '7397': 0.00011698183593929485, '7449': 0.00011122780470795203, '7517': 0.0001638852225314928, '7567': 0.0002107786105825812, '7593': 8.769411102401994e-05, '7658': 8.60888787643428e-05, '7666': 0.00013532749400174213, '7669': 0.00014216217018168917, '7673': 8.611410337662369e-05, '7675': 7.368698722060908e-05, '7730': 0.00011820899594275202, '7778': 0.0002475230418588996, '7799': 6.142485505094782e-05, '7819': 6.826499377950409e-05, '7874': 0.00015850037662681868, '8168': 0.00026109178647960505, '8192': 0.0006240591872105939, '8204': 7.566776256022356e-05, '738': 5.0487823458630175e-05, '5301': 0.0005218194594737017, '734': 5.0487823458630175e-05, '735': 5.0487823458630175e-05, '4385': 0.00011227069374945965, '4386': 0.00012014685848981043, '6712': 0.00020253983006897786, '7214': 0.0007764349716381366, '7691': 9.194017056754588e-05, '745': 5.0487823458630175e-05, '2116': 0.00019037210650805076, '5215': 0.00031974763073298505, '7683': 0.00025895185642086456, '751': 5.0487823458630175e-05, '754': 5.0487823458630175e-05, '752': 5.0487823458630175e-05, '753': 5.0487823458630175e-05, '755': 5.0487823458630175e-05, '758': 5.0487823458630175e-05, '759': 5.0487823458630175e-05, '4777': 0.0003578504425942895, '5673': 5.8808313552489565e-05, '766': 5.0487823458630175e-05, '1971': 5.0543468722295895e-05, '2507': 0.00025945690444057634, '2658': 0.000622708027154752, '3000': 0.00016161914834397163, '3103': 0.00038750882567476066, '3271': 7.280295092700352e-05, '3319': 0.0001428197781250421, '3320': 0.00028941149255331915, '3348': 0.0004352073286638285, '3381': 0.00021928515766735833, '3486': 9.80633841155091e-05, '3555': 0.00014372998179892178, '3616': 0.00015644392361199454, '3856': 0.00010650763109293693, '4219': 0.0004299019915526841, '4500': 0.00032596912332917924, '4529': 0.0001953345555413986, '4583': 0.0001321203212906302, '5033': 0.00012690119844585652, '5432': 0.00042237323042782794, '5650': 0.0002020841695340164, '5837': 0.00014983690611437676, '6501': 0.00018749920212502962, '7510': 0.00042223488185173807, '7879': 0.0002986703517848674, '7882': 0.0007273122302058439, '8073': 0.0001930101861082026, '7378': 0.0004926545148342316, '767': 5.0487823458630175e-05, '768': 5.0487823458630175e-05, '770': 5.0487823458630175e-05, '772': 5.0487823458630175e-05, '773': 5.0487823458630175e-05, '774': 5.0487823458630175e-05, '736': 5.0487823458630175e-05, '775': 5.0487823458630175e-05, '776': 5.0487823458630175e-05, '786': 5.0487823458630175e-05, '788': 5.0487823458630175e-05, '2914': 0.00010543803818588744, '5709': 9.893953000473686e-05, '6360': 0.00010071705422187478, '780': 5.0487823458630175e-05, '781': 5.0487823458630175e-05, '782': 5.0487823458630175e-05, '783': 5.0487823458630175e-05, '4355': 0.00011607853407794033, '5120': 8.18003920946851e-05, '5470': 6.528550345038626e-05, '785': 5.0487823458630175e-05, '792': 5.0487823458630175e-05, '7899': 8.369437780553392e-05, '796': 5.0487823458630175e-05, '799': 5.0487823458630175e-05, '800': 5.0487823458630175e-05, '801': 5.0487823458630175e-05, '804': 5.0487823458630175e-05, '807': 5.0487823458630175e-05, '808': 5.0487823458630175e-05, '811': 5.0487823458630175e-05, '812': 5.0487823458630175e-05, '3875': 0.00011777382595071007, '4181': 0.0002093600094532107, '814': 5.0487823458630175e-05, '815': 5.0487823458630175e-05, '816': 5.0487823458630175e-05, '819': 5.0487823458630175e-05, '821': 5.0487823458630175e-05, '818': 5.0487823458630175e-05, '3465': 6.611568964931656e-05, '824': 5.0487823458630175e-05, '1970': 5.084657354657886e-05, '2638': 0.0001354302486693747, '3105': 5.084657354657886e-05, '3235': 0.0003272230187613927, '3822': 0.00012511179778162878, '3908': 5.584224474311756e-05, '4030': 0.00011831493789862589, '4678': 0.0001284666181779057, '4783': 6.311922577635757e-05, '5426': 6.950214819007996e-05, '5740': 6.708183902319427e-05, '7250': 7.246572775575412e-05, '8246': 0.00022869805778343407, '830': 5.0487823458630175e-05, '832': 5.0487823458630175e-05, '831': 5.0487823458630175e-05, '835': 5.0487823458630175e-05, '841': 5.0487823458630175e-05, '3914': 0.00013129426313214423, '842': 5.0487823458630175e-05, '843': 5.0487823458630175e-05, '845': 5.0487823458630175e-05, '847': 5.0487823458630175e-05, '848': 5.0487823458630175e-05, '851': 5.0487823458630175e-05, '854': 5.0487823458630175e-05, '1770': 0.00010024914458052547, '2112': 8.224289086997529e-05, '855': 5.0487823458630175e-05, '4014': 6.99712331686647e-05, '852': 5.098798379367205e-05, '2910': 8.156815494095868e-05, '860': 5.0487823458630175e-05, '862': 5.0487823458630175e-05, '865': 5.0487823458630175e-05, '867': 5.0487823458630175e-05, '869': 5.0487823458630175e-05, '870': 5.0487823458630175e-05, '2990': 0.00010661654818148368, '3023': 6.282366455332016e-05, '874': 5.0487823458630175e-05, '876': 5.0487823458630175e-05, '877': 5.0487823458630175e-05, '879': 5.0487823458630175e-05, '3745': 0.00011617716694041353, '4359': 6.39311952349173e-05, '4550': 5.76676015917185e-05, '880': 5.0487823458630175e-05, '883': 5.0487823458630175e-05, '886': 5.0487823458630175e-05, '888': 5.0487823458630175e-05, '889': 5.0487823458630175e-05, '890': 5.0487823458630175e-05, '891': 5.0487823458630175e-05, '892': 5.0487823458630175e-05, '469': 5.0487823458630175e-05, '898': 5.0487823458630175e-05, '900': 5.0487823458630175e-05, '1323': 0.00016097125594202765, '902': 5.0487823458630175e-05, '2751': 0.00011742813815966252, '905': 5.0487823458630175e-05, '909': 5.0487823458630175e-05, '7407': 8.432085256431955e-05, '7439': 9.09989368460947e-05, '910': 5.0487823458630175e-05, '911': 5.0487823458630175e-05, '912': 5.0487823458630175e-05, '914': 5.0487823458630175e-05, '923': 5.0487823458630175e-05, '915': 5.0487823458630175e-05, '916': 5.0487823458630175e-05, '917': 5.0487823458630175e-05, '919': 5.0487823458630175e-05, '920': 5.0487823458630175e-05, '921': 5.0487823458630175e-05, '924': 5.0487823458630175e-05, '787': 5.0487823458630175e-05, '927': 5.0487823458630175e-05, '926': 5.0487823458630175e-05, '931': 5.0487823458630175e-05, '940': 5.0487823458630175e-05, '944': 5.0487823458630175e-05, '2083': 5.613513590273616e-05, '3629': 0.00020851490972351386, '5253': 0.00014724962626778832, '949': 5.0487823458630175e-05, '950': 5.0487823458630175e-05, '951': 5.0487823458630175e-05, '954': 5.0487823458630175e-05, '957': 5.0487823458630175e-05, '961': 5.0487823458630175e-05, '965': 5.0487823458630175e-05, '962': 5.0487823458630175e-05, '964': 5.0487823458630175e-05, '933': 5.0487823458630175e-05, '969': 5.0487823458630175e-05, '970': 5.0487823458630175e-05, '973': 5.0487823458630175e-05, '3205': 6.671518088399604e-05, '976': 5.0487823458630175e-05, '980': 5.0487823458630175e-05, '984': 5.0487823458630175e-05, '986': 5.0487823458630175e-05, '988': 5.0487823458630175e-05, '2974': 0.00023731962967681882, '3538': 0.00012072478486155886, '3809': 0.0001520944877603925, '3825': 5.4086346424742744e-05, '5417': 0.00013471174873059638, '8122': 0.00010204831742756234, '8124': 0.0001532794281965335, '8130': 9.306889302536077e-05, '987': 5.0487823458630175e-05, '990': 5.0487823458630175e-05, '992': 5.0487823458630175e-05, '3888': 8.997230270245216e-05, '3885': 0.000245166385529267, '996': 5.0487823458630175e-05, '5784': 0.00012993157651322422, '998': 5.0487823458630175e-05, '1005': 5.0487823458630175e-05, '6027': 8.364261184486631e-05, '7436': 9.397718498887927e-05, '1001': 5.0487823458630175e-05, '1002': 5.0487823458630175e-05, '1003': 5.0487823458630175e-05, '1004': 5.0487823458630175e-05, '1008': 5.0487823458630175e-05, '1011': 5.0487823458630175e-05, '3301': 0.00011591977278041693, '1013': 5.0487823458630175e-05, '1016': 5.0487823458630175e-05, '1017': 5.0487823458630175e-05, '1019': 5.0487823458630175e-05, '1009': 5.0487823458630175e-05, '1021': 5.0487823458630175e-05, '1025': 5.0487823458630175e-05, '1027': 5.0487823458630175e-05, '1028': 5.0487823458630175e-05, '1033': 5.0487823458630175e-05, '1037': 5.0487823458630175e-05, '1040': 5.0487823458630175e-05, '1041': 5.0487823458630175e-05, '4127': 0.0001646759502286048, '4468': 0.00018242620983405575, '5309': 7.470506445382108e-05, '6311': 8.199889278526261e-05, '1042': 5.0487823458630175e-05, '1045': 5.0487823458630175e-05, '1046': 5.0487823458630175e-05, '1047': 5.0487823458630175e-05, '1048': 5.0487823458630175e-05, '1050': 5.0487823458630175e-05, '1052': 5.0487823458630175e-05, '1051': 5.0487823458630175e-05, '1058': 5.0487823458630175e-05, '1059': 5.0487823458630175e-05, '1060': 7.74348693015472e-05, '1063': 5.0487823458630175e-05, '1064': 5.0487823458630175e-05, '1067': 5.0487823458630175e-05, '1065': 5.0487823458630175e-05, '1066': 5.0487823458630175e-05, '1070': 5.0487823458630175e-05, '1071': 5.0487823458630175e-05, '1072': 5.0487823458630175e-05, '872': 5.0487823458630175e-05, '5499': 0.0003170352081390558, '6755': 0.00016685561574116993, '6769': 6.574564109582333e-05, '6850': 0.000250956320839959, '1084': 5.0487823458630175e-05, '1078': 5.0487823458630175e-05, '1079': 5.0487823458630175e-05, '1081': 5.0487823458630175e-05, '1082': 5.0487823458630175e-05, '1083': 5.0487823458630175e-05, '1085': 5.0487823458630175e-05, '1086': 5.0487823458630175e-05, '1089': 5.0487823458630175e-05, '1087': 5.0487823458630175e-05, '1088': 5.0487823458630175e-05, '1093': 5.0487823458630175e-05, '1094': 5.0487823458630175e-05, '1095': 5.0487823458630175e-05, '1096': 5.0487823458630175e-05, '3155': 8.516850202469363e-05, '1098': 5.0487823458630175e-05, '2650': 0.00013070416911440573, '2781': 0.00033884777595242756, '6568': 7.681096439593252e-05, '6806': 6.499280321194806e-05, '7059': 0.00022368270510564483, '7060': 8.02613545134663e-05, '7110': 7.920669098351197e-05, '7120': 0.0002650616800869848, '7201': 0.00014816054112041136, '7262': 8.937627536479652e-05, '7634': 8.299521640969152e-05, '8002': 0.0003497135562863182, '1099': 5.0487823458630175e-05, '1104': 5.0487823458630175e-05, '1105': 5.0487823458630175e-05, '1106': 5.0487823458630175e-05, '1101': 5.0487823458630175e-05, '1107': 5.0487823458630175e-05, '1108': 5.0487823458630175e-05, '1109': 5.0487823458630175e-05, '1110': 5.0487823458630175e-05, '1112': 5.0487823458630175e-05, '1113': 5.0487823458630175e-05, '1102': 5.0487823458630175e-05, '1115': 5.0487823458630175e-05, '1120': 5.0487823458630175e-05, '1126': 5.0487823458630175e-05, '1129': 5.0487823458630175e-05, '1130': 5.0487823458630175e-05, '1132': 5.0487823458630175e-05, '1133': 5.0487823458630175e-05, '2129': 0.00010909174754820804, '4047': 7.415046364982128e-05, '4188': 5.7914918580342936e-05, '4254': 7.318063315597895e-05, '4311': 6.665766718230407e-05, '4331': 9.185324739980498e-05, '4558': 0.00019211741551308147, '4620': 0.0001304431001679101, '4648': 0.00010718023814210138, '4677': 0.00013567732100645344, '4946': 5.969326175985053e-05, '5043': 0.00010045476467336662, '5044': 8.920545143067053e-05, '5635': 8.7970425263454e-05, '5977': 8.369540488093845e-05, '6226': 7.662292501021842e-05, '1134': 5.0487823458630175e-05, '1135': 5.0487823458630175e-05, '1664': 9.387564521843617e-05, '5141': 0.00013074677082495063, '1138': 5.0487823458630175e-05, '1139': 5.0487823458630175e-05, '1142': 5.0487823458630175e-05, '1143': 5.0487823458630175e-05, '1068': 5.0487823458630175e-05, '1145': 5.0487823458630175e-05, '1146': 5.0487823458630175e-05, '1147': 5.0487823458630175e-05, '1148': 5.0487823458630175e-05, '1150': 5.0487823458630175e-05, '1155': 5.0487823458630175e-05, '1158': 5.0487823458630175e-05, '1161': 5.0487823458630175e-05, '2376': 8.010403759090652e-05, '3266': 6.73891985531911e-05, '3893': 7.257537461767606e-05, '6023': 0.0002189032624024028, '6164': 8.994613954527431e-05, '1177': 5.0487823458630175e-05, '1178': 5.0487823458630175e-05, '1179': 5.0487823458630175e-05, '1169': 5.0487823458630175e-05, '1170': 5.0487823458630175e-05, '1180': 5.0487823458630175e-05, '1171': 5.0487823458630175e-05, '1090': 5.0487823458630175e-05, '1172': 5.0487823458630175e-05, '1173': 5.0487823458630175e-05, '1174': 5.0487823458630175e-05, '1175': 5.0487823458630175e-05, '1182': 5.0487823458630175e-05, '1183': 5.0487823458630175e-05, '1176': 5.0487823458630175e-05, '1187': 5.0487823458630175e-05, '1188': 5.0487823458630175e-05, '1189': 5.0487823458630175e-05, '3193': 0.00010889872882528218, '1194': 5.0487823458630175e-05, '1195': 5.0487823458630175e-05, '1197': 5.0487823458630175e-05, '1198': 5.0487823458630175e-05, '3138': 6.582699034438127e-05, '1202': 5.0487823458630175e-05, '1204': 5.0487823458630175e-05, '1205': 5.0487823458630175e-05, '1206': 5.0487823458630175e-05, '1207': 5.0487823458630175e-05, '1208': 5.0487823458630175e-05, '1209': 5.0487823458630175e-05, '1210': 5.0487823458630175e-05, '1212': 5.0487823458630175e-05, '1213': 5.0487823458630175e-05, '1214': 5.0487823458630175e-05, '1215': 5.0487823458630175e-05, '1216': 5.0487823458630175e-05, '1219': 5.0487823458630175e-05, '1223': 5.0487823458630175e-05, '1224': 5.0487823458630175e-05, '1225': 5.0487823458630175e-05, '1226': 5.0487823458630175e-05, '1227': 5.0487823458630175e-05, '1228': 5.0487823458630175e-05, '1229': 5.0487823458630175e-05, '1231': 5.0487823458630175e-05, '1233': 5.0487823458630175e-05, '1235': 5.0487823458630175e-05, '1237': 5.0487823458630175e-05, '1238': 5.0487823458630175e-05, '1242': 5.0487823458630175e-05, '1244': 5.0487823458630175e-05, '1245': 5.0487823458630175e-05, '1246': 5.0487823458630175e-05, '3171': 0.0001366736167931006, '1252': 5.0487823458630175e-05, '1254': 5.0487823458630175e-05, '1255': 5.0487823458630175e-05, '1256': 5.0487823458630175e-05, '1257': 5.0487823458630175e-05, '1258': 5.0487823458630175e-05, '1262': 5.0487823458630175e-05, '1264': 5.0487823458630175e-05, '1268': 5.0487823458630175e-05, '1269': 5.0487823458630175e-05, '1271': 5.0487823458630175e-05, '1272': 5.0487823458630175e-05, '1273': 5.0487823458630175e-05, '1274': 5.0487823458630175e-05, '1275': 5.0487823458630175e-05, '1278': 5.0487823458630175e-05, '1276': 5.0487823458630175e-05, '1280': 5.0487823458630175e-05, '1281': 5.0487823458630175e-05, '2956': 6.06962864654885e-05, '1290': 5.0487823458630175e-05, '1292': 5.0487823458630175e-05, '1293': 5.0487823458630175e-05, '1294': 5.0487823458630175e-05, '1295': 5.0487823458630175e-05, '1298': 5.0487823458630175e-05, '1299': 5.0487823458630175e-05, '1301': 5.0487823458630175e-05, '1302': 5.0487823458630175e-05, '1303': 5.0487823458630175e-05, '1304': 5.0487823458630175e-05, '3461': 0.00016034422295372824, '3973': 0.00011951469018285906, '4993': 0.00012160062794981716, '1306': 5.0487823458630175e-05, '3867': 8.543032512936966e-05, '1308': 5.0487823458630175e-05, '1309': 5.0487823458630175e-05, '1313': 5.0487823458630175e-05, '1311': 5.0487823458630175e-05, '1312': 5.0487823458630175e-05, '1314': 5.0487823458630175e-05, '1316': 5.0487823458630175e-05, '1317': 5.0487823458630175e-05, '1318': 5.0487823458630175e-05, '3237': 5.850834039061308e-05, '1320': 5.0487823458630175e-05, '1324': 5.0487823458630175e-05, '1327': 5.0487823458630175e-05, '1328': 5.0487823458630175e-05, '1325': 5.0487823458630175e-05, '1329': 5.0487823458630175e-05, '1331': 5.0487823458630175e-05, '1332': 5.0487823458630175e-05, '1333': 5.0487823458630175e-05, '1334': 5.0487823458630175e-05, '1335': 5.0487823458630175e-05, '1336': 5.0487823458630175e-05, '1337': 5.0487823458630175e-05, '1338': 5.0487823458630175e-05, '1339': 5.0487823458630175e-05, '1340': 5.0487823458630175e-05, '1341': 5.0487823458630175e-05, '1342': 5.0487823458630175e-05, '1343': 5.0487823458630175e-05, '1344': 5.0487823458630175e-05, '1345': 5.0487823458630175e-05, '1346': 5.0487823458630175e-05, '1349': 5.0487823458630175e-05, '1350': 5.0487823458630175e-05, '1351': 5.0487823458630175e-05, '1359': 5.0487823458630175e-05, '1354': 5.0487823458630175e-05, '1355': 5.0487823458630175e-05, '1361': 5.0487823458630175e-05, '1356': 5.0487823458630175e-05, '1362': 5.0487823458630175e-05, '1358': 5.0487823458630175e-05, '1365': 5.0487823458630175e-05, '1366': 5.0487823458630175e-05, '1367': 5.0487823458630175e-05, '1368': 5.0487823458630175e-05, '3785': 0.000123566086039232, '1369': 5.0487823458630175e-05, '1370': 5.0487823458630175e-05, '1373': 5.0487823458630175e-05, '7088': 0.00023785554998353116, '1376': 5.0487823458630175e-05, '1379': 5.0487823458630175e-05, '1380': 5.0487823458630175e-05, '1381': 5.0487823458630175e-05, '1383': 5.0487823458630175e-05, '1386': 5.0487823458630175e-05, '1387': 5.0487823458630175e-05, '1388': 5.0487823458630175e-05, '1391': 5.0487823458630175e-05, '1392': 5.0487823458630175e-05, '1395': 5.0487823458630175e-05, '1397': 5.0487823458630175e-05, '1398': 5.0487823458630175e-05, '1399': 5.0487823458630175e-05, '1400': 5.0487823458630175e-05, '1401': 5.0487823458630175e-05, '1404': 5.0487823458630175e-05, '1405': 5.0487823458630175e-05, '1406': 5.0487823458630175e-05, '1408': 5.0487823458630175e-05, '1409': 5.0487823458630175e-05, '1410': 5.0487823458630175e-05, '1421': 5.0487823458630175e-05, '1422': 5.0487823458630175e-05, '1423': 5.0487823458630175e-05, '1424': 5.0487823458630175e-05, '1426': 5.0487823458630175e-05, '1427': 5.0487823458630175e-05, '2679': 5.243589329323319e-05, '3080': 7.354612938370437e-05, '1429': 5.0487823458630175e-05, '1430': 5.0487823458630175e-05, '1431': 5.0487823458630175e-05, '1433': 5.0487823458630175e-05, '1434': 5.0487823458630175e-05, '1436': 5.0487823458630175e-05, '1184': 5.0487823458630175e-05, '4809': 5.9790659947099784e-05, '1438': 5.0487823458630175e-05, '1440': 5.0487823458630175e-05, '1443': 5.0487823458630175e-05, '1445': 5.0487823458630175e-05, '1447': 5.0487823458630175e-05, '1448': 5.0487823458630175e-05, '1449': 5.0487823458630175e-05, '1450': 5.0487823458630175e-05, '1451': 5.0487823458630175e-05, '1452': 5.0487823458630175e-05, '1454': 5.0487823458630175e-05, '1455': 5.0487823458630175e-05, '1456': 5.0487823458630175e-05, '1457': 5.0487823458630175e-05, '1458': 5.0487823458630175e-05, '1459': 5.0487823458630175e-05, '1460': 5.0487823458630175e-05, '1461': 5.0487823458630175e-05, '1462': 5.0487823458630175e-05, '1463': 5.0487823458630175e-05, '1466': 5.0487823458630175e-05, '1467': 5.0487823458630175e-05, '1469': 5.0487823458630175e-05, '1470': 5.0487823458630175e-05, '3285': 8.527952218400522e-05, '5706': 6.656435254335411e-05, '1581': 7.507472807316417e-05, '1474': 5.0487823458630175e-05, '1480': 5.0487823458630175e-05, '1481': 5.0487823458630175e-05, '1483': 5.0487823458630175e-05, '1488': 5.0487823458630175e-05, '1494': 5.0487823458630175e-05, '1495': 5.0487823458630175e-05, '4411': 7.491510772045292e-05, '1499': 5.0487823458630175e-05, '1500': 5.0487823458630175e-05, '1502': 5.0487823458630175e-05, '1503': 5.0487823458630175e-05, '1504': 5.0487823458630175e-05, '1505': 5.0487823458630175e-05, '1511': 5.0487823458630175e-05, '1510': 6.408379239601953e-05, '1512': 5.0487823458630175e-05, '1515': 5.0487823458630175e-05, '1516': 5.0487823458630175e-05, '1517': 5.0487823458630175e-05, '1519': 5.0487823458630175e-05, '1522': 5.0487823458630175e-05, '4012': 7.423557950578088e-05, '6462': 0.00011335321492645953, '1523': 5.0487823458630175e-05, '1527': 5.0487823458630175e-05, '1526': 5.0487823458630175e-05, '1528': 5.0487823458630175e-05, '1535': 5.0487823458630175e-05, '1536': 5.0487823458630175e-05, '1539': 5.0487823458630175e-05, '1540': 5.0487823458630175e-05, '1541': 5.0487823458630175e-05, '1543': 5.0487823458630175e-05, '1545': 5.0487823458630175e-05, '1546': 5.0487823458630175e-05, '2423': 5.453936137655833e-05, '5115': 9.817345391718652e-05, '6059': 0.00022136893364129156, '6096': 7.214027322022422e-05, '1552': 5.0487823458630175e-05, '1553': 5.0487823458630175e-05, '2233': 7.102719265354781e-05, '3880': 5.674370792585857e-05, '4009': 7.850913543930951e-05, '4272': 6.063808439086239e-05, '5312': 8.930444308684011e-05, '1551': 5.0487823458630175e-05, '1554': 5.0487823458630175e-05, '1558': 5.0487823458630175e-05, '1559': 5.0487823458630175e-05, '1560': 5.0487823458630175e-05, '3933': 0.00011109551074677032, '1568': 5.0487823458630175e-05, '1570': 5.0487823458630175e-05, '1572': 5.0487823458630175e-05, '1574': 5.0487823458630175e-05, '1575': 5.0487823458630175e-05, '1576': 5.0487823458630175e-05, '1578': 5.0487823458630175e-05, '1579': 5.0487823458630175e-05, '1010': 5.0487823458630175e-05, '1582': 5.0487823458630175e-05, '1584': 5.0487823458630175e-05, '1588': 5.0487823458630175e-05, '1589': 5.0487823458630175e-05, '1590': 5.0487823458630175e-05, '1591': 5.0487823458630175e-05, '1594': 5.0487823458630175e-05, '1599': 5.0487823458630175e-05, '1601': 5.0487823458630175e-05, '1602': 5.0487823458630175e-05, '1605': 5.0487823458630175e-05, '1606': 5.0487823458630175e-05, '1607': 5.0487823458630175e-05, '1609': 5.0487823458630175e-05, '1611': 5.0487823458630175e-05, '7042': 9.671079282642785e-05, '8149': 0.00012322009614687792, '8235': 8.40832638437083e-05, '8148': 0.00018411565752906588, '1614': 5.0487823458630175e-05, '1615': 5.0487823458630175e-05, '1616': 5.0487823458630175e-05, '1617': 5.0487823458630175e-05, '1530': 5.0487823458630175e-05, '1620': 5.0487823458630175e-05, '1623': 5.0487823458630175e-05, '1625': 5.0487823458630175e-05, '1627': 5.0487823458630175e-05, '1626': 5.0487823458630175e-05, '1630': 5.0487823458630175e-05, '1631': 5.0487823458630175e-05, '1632': 5.0487823458630175e-05, '1634': 5.0487823458630175e-05, '1635': 5.0487823458630175e-05, '1639': 5.0487823458630175e-05, '1642': 5.0487823458630175e-05, '1643': 5.0487823458630175e-05, '1644': 5.0487823458630175e-05, '1645': 5.0487823458630175e-05, '1650': 5.0487823458630175e-05, '1651': 5.0487823458630175e-05, '1655': 5.0487823458630175e-05, '1656': 5.0487823458630175e-05, '4580': 5.7254431343272804e-05, '1659': 5.0487823458630175e-05, '1660': 5.0487823458630175e-05, '1663': 5.0487823458630175e-05, '1665': 5.0487823458630175e-05, '1666': 5.0487823458630175e-05, '1667': 5.0487823458630175e-05, '8019': 0.000109777422974988, '1668': 5.0487823458630175e-05, '1670': 5.0487823458630175e-05, '1671': 5.0487823458630175e-05, '1647': 5.0487823458630175e-05, '1674': 5.0487823458630175e-05, '1675': 5.0487823458630175e-05, '1676': 5.0487823458630175e-05, '1677': 5.0487823458630175e-05, '4654': 0.000384548130438661, '1681': 5.0487823458630175e-05, '1682': 5.0487823458630175e-05, '1683': 5.0487823458630175e-05, '1685': 5.0487823458630175e-05, '1684': 5.0487823458630175e-05, '1686': 5.0487823458630175e-05, '1690': 5.0487823458630175e-05, '1691': 5.0487823458630175e-05, '1693': 5.0487823458630175e-05, '6723': 8.989947904796868e-05, '1694': 5.0487823458630175e-05, '1695': 5.0487823458630175e-05, '1696': 5.0487823458630175e-05, '2552': 7.659751299143565e-05, '1698': 5.0487823458630175e-05, '1699': 5.0487823458630175e-05, '2244': 6.026345327146713e-05, '1711': 5.0487823458630175e-05, '1703': 5.0487823458630175e-05, '1704': 5.0487823458630175e-05, '1708': 5.0487823458630175e-05, '1709': 5.0487823458630175e-05, '1710': 5.0487823458630175e-05, '1712': 5.0487823458630175e-05, '1713': 5.0487823458630175e-05, '1715': 5.0487823458630175e-05, '1719': 5.0487823458630175e-05, '1720': 5.0487823458630175e-05, '1721': 5.0487823458630175e-05, '1722': 5.0487823458630175e-05, '1724': 5.0487823458630175e-05, '1725': 5.0487823458630175e-05, '1728': 5.0487823458630175e-05, '1731': 5.0487823458630175e-05, '1735': 5.0487823458630175e-05, '1736': 5.0487823458630175e-05, '1737': 5.0487823458630175e-05, '6340': 7.827801453436447e-05, '1740': 5.0487823458630175e-05, '1738': 5.0487823458630175e-05, '1739': 5.0487823458630175e-05, '1741': 5.0487823458630175e-05, '1742': 5.0487823458630175e-05, '1743': 5.0487823458630175e-05, '1745': 5.0487823458630175e-05, '1748': 5.0487823458630175e-05, '4815': 6.895115686337123e-05, '8275': 0.0001670643102259093, '1753': 5.0487823458630175e-05, '1755': 5.0487823458630175e-05, '1756': 5.0487823458630175e-05, '1760': 5.0487823458630175e-05, '1761': 5.0487823458630175e-05, '1762': 5.0487823458630175e-05, '1763': 5.0487823458630175e-05, '1764': 5.0487823458630175e-05, '1765': 5.0487823458630175e-05, '1766': 5.0487823458630175e-05, '1767': 5.0487823458630175e-05, '2678': 5.0931264580419874e-05, '2798': 5.276655773671578e-05, '3999': 0.00011272922103765451, '1759': 5.0487823458630175e-05, '1773': 5.0487823458630175e-05, '1775': 5.0487823458630175e-05, '1778': 5.0487823458630175e-05, '1782': 5.0487823458630175e-05, '1751': 5.0487823458630175e-05, '1784': 5.0487823458630175e-05, '1785': 5.0487823458630175e-05, '1789': 5.0487823458630175e-05, '1790': 5.0487823458630175e-05, '1795': 5.0487823458630175e-05, '679': 5.0487823458630175e-05, '1796': 5.0487823458630175e-05, '1797': 5.0487823458630175e-05, '5569': 6.791013925220637e-05, '1800': 5.0487823458630175e-05, '1803': 5.0487823458630175e-05, '1804': 5.0487823458630175e-05, '1806': 5.0487823458630175e-05, '1807': 5.0487823458630175e-05, '2645': 9.895573664062349e-05, '5271': 8.104957847631938e-05, '5296': 7.240559349590407e-05, '1809': 5.0487823458630175e-05, '1810': 5.0487823458630175e-05, '1812': 5.0487823458630175e-05, '1813': 5.0487823458630175e-05, '4552': 0.00014349396684857962, '8186': 6.834848084556657e-05, '5146': 9.134321635388611e-05, '1820': 5.0487823458630175e-05, '1821': 5.0487823458630175e-05, '3669': 0.00010985343907974685, '1822': 5.0487823458630175e-05, '1825': 5.0487823458630175e-05, '1826': 5.0487823458630175e-05, '1827': 5.0487823458630175e-05, '347': 5.0487823458630175e-05, '1828': 5.0487823458630175e-05, '1829': 5.0487823458630175e-05, '1838': 5.0487823458630175e-05, '1830': 5.0487823458630175e-05, '1831': 5.0487823458630175e-05, '1832': 5.0487823458630175e-05, '1834': 5.0487823458630175e-05, '1839': 5.0487823458630175e-05, '1840': 5.0487823458630175e-05, '1841': 5.0487823458630175e-05, '1844': 5.0487823458630175e-05, '1845': 5.0487823458630175e-05, '1846': 5.0487823458630175e-05, '5208': 0.00010315340254106264, '7146': 0.00011225162236536163, '1852': 5.0487823458630175e-05, '1853': 5.0487823458630175e-05, '1856': 5.0487823458630175e-05, '1860': 5.0487823458630175e-05, '1862': 5.0487823458630175e-05, '1866': 5.0487823458630175e-05, '1867': 5.0487823458630175e-05, '1868': 5.0487823458630175e-05, '1869': 5.0487823458630175e-05, '1870': 5.0487823458630175e-05, '1874': 5.0487823458630175e-05, '1875': 5.0487823458630175e-05, '1871': 5.0487823458630175e-05, '1872': 5.0487823458630175e-05, '1876': 5.0487823458630175e-05, '1873': 5.0487823458630175e-05, '1879': 5.0487823458630175e-05, '1881': 5.0487823458630175e-05, '1882': 5.0487823458630175e-05, '1883': 5.0487823458630175e-05, '1885': 5.0487823458630175e-05, '1886': 5.0487823458630175e-05, '1887': 5.0487823458630175e-05, '1889': 5.0487823458630175e-05, '1891': 5.0487823458630175e-05, '1892': 5.0487823458630175e-05, '1894': 5.0487823458630175e-05, '1895': 5.0487823458630175e-05, '1896': 5.0487823458630175e-05, '1897': 5.0487823458630175e-05, '1899': 5.0487823458630175e-05, '1900': 5.0487823458630175e-05, '1902': 5.0487823458630175e-05, '1905': 5.0487823458630175e-05, '1906': 5.0487823458630175e-05, '1907': 5.0487823458630175e-05, '1909': 5.0487823458630175e-05, '1911': 5.0487823458630175e-05, '1912': 5.0487823458630175e-05, '1913': 5.0487823458630175e-05, '1914': 5.0487823458630175e-05, '1916': 5.0487823458630175e-05, '1917': 5.0487823458630175e-05, '1921': 5.0487823458630175e-05, '1922': 5.0487823458630175e-05, '3201': 0.00037424644429370497, '1923': 5.0487823458630175e-05, '1924': 5.0487823458630175e-05, '1925': 5.0487823458630175e-05, '1928': 5.0487823458630175e-05, '1890': 5.0487823458630175e-05, '1926': 5.0487823458630175e-05, '1929': 5.0487823458630175e-05, '1930': 5.0487823458630175e-05, '1931': 5.0487823458630175e-05, '1937': 5.0487823458630175e-05, '1932': 5.0487823458630175e-05, '1933': 5.0487823458630175e-05, '1938': 5.0487823458630175e-05, '1934': 5.0487823458630175e-05, '1939': 5.0487823458630175e-05, '1940': 5.0487823458630175e-05, '1941': 5.0487823458630175e-05, '1943': 5.0487823458630175e-05, '1944': 5.0487823458630175e-05, '1945': 5.0487823458630175e-05, '1946': 5.0487823458630175e-05, '1947': 5.0487823458630175e-05, '4031': 9.161717806417431e-05, '1948': 5.0487823458630175e-05, '1951': 5.0487823458630175e-05, '1958': 5.0487823458630175e-05, '1959': 5.0487823458630175e-05, '1960': 5.0487823458630175e-05, '1962': 5.0487823458630175e-05, '6621': 9.544504768028091e-05, '6762': 0.00012018462215862236, '1967': 5.0487823458630175e-05, '1968': 5.0487823458630175e-05, '1975': 5.0487823458630175e-05, '1976': 5.0487823458630175e-05, '1978': 5.0487823458630175e-05, '1952': 5.0487823458630175e-05, '1980': 5.0487823458630175e-05, '1981': 5.0487823458630175e-05, '1986': 5.0487823458630175e-05, '1988': 5.0487823458630175e-05, '1989': 5.0487823458630175e-05, '1993': 5.0487823458630175e-05, '1994': 5.0487823458630175e-05, '1995': 5.0487823458630175e-05, '1996': 5.0487823458630175e-05, '1794': 5.0487823458630175e-05, '2000': 5.0487823458630175e-05, '2002': 5.0487823458630175e-05, '2005': 5.0487823458630175e-05, '2008': 5.0487823458630175e-05, '2009': 5.0487823458630175e-05, '2040': 5.0487823458630175e-05, '2010': 5.0487823458630175e-05, '2011': 5.0487823458630175e-05, '2012': 5.0487823458630175e-05, '2013': 5.0487823458630175e-05, '2042': 5.0487823458630175e-05, '2015': 5.0487823458630175e-05, '2017': 5.0487823458630175e-05, '2018': 5.0487823458630175e-05, '2019': 5.0487823458630175e-05, '2020': 5.0487823458630175e-05, '2021': 5.0487823458630175e-05, '2044': 5.0487823458630175e-05, '2023': 5.0487823458630175e-05, '2024': 5.0487823458630175e-05, '2025': 5.0487823458630175e-05, '2026': 5.0487823458630175e-05, '2027': 5.0487823458630175e-05, '2045': 5.0487823458630175e-05, '2029': 5.0487823458630175e-05, '2030': 5.0487823458630175e-05, '2031': 5.0487823458630175e-05, '2032': 5.0487823458630175e-05, '2033': 5.0487823458630175e-05, '2034': 5.0487823458630175e-05, '2035': 5.0487823458630175e-05, '2036': 5.0487823458630175e-05, '2037': 5.0487823458630175e-05, '6111': 7.744906064061325e-05, '698': 5.0487823458630175e-05, '4216': 0.0003621991215874128, '2038': 5.0487823458630175e-05, '2049': 5.0487823458630175e-05, '2050': 5.0487823458630175e-05, '2051': 5.0487823458630175e-05, '2052': 5.0487823458630175e-05, '2054': 5.0487823458630175e-05, '2056': 5.0487823458630175e-05, '2057': 5.0487823458630175e-05, '2058': 5.0487823458630175e-05, '2059': 5.0487823458630175e-05, '2061': 5.0487823458630175e-05, '2063': 5.0487823458630175e-05, '2064': 5.0487823458630175e-05, '2065': 5.0487823458630175e-05, '2068': 5.0487823458630175e-05, '2070': 5.0487823458630175e-05, '2077': 5.0487823458630175e-05, '2081': 5.0487823458630175e-05, '2082': 5.0487823458630175e-05, '2084': 5.0487823458630175e-05, '2086': 5.0487823458630175e-05, '2087': 5.0487823458630175e-05, '2088': 5.0487823458630175e-05, '2089': 5.0487823458630175e-05, '2090': 5.0487823458630175e-05, '2093': 5.0487823458630175e-05, '2096': 5.0487823458630175e-05, '2422': 8.160306711566785e-05, '2100': 5.0487823458630175e-05, '2099': 5.0487823458630175e-05, '2104': 5.0487823458630175e-05, '2103': 5.0487823458630175e-05, '2105': 5.0487823458630175e-05, '2108': 5.0487823458630175e-05, '2110': 5.0487823458630175e-05, '2111': 5.0487823458630175e-05, '2115': 5.0487823458630175e-05, '2118': 5.0487823458630175e-05, '6321': 6.476264281469642e-05, '7994': 8.771457288441197e-05, '8225': 6.59385585410443e-05, '2125': 5.0487823458630175e-05, '2126': 5.0487823458630175e-05, '2127': 5.0487823458630175e-05, '2130': 5.0487823458630175e-05, '2131': 5.0487823458630175e-05, '2132': 5.0487823458630175e-05, '2133': 5.1956667757756725e-05, '2136': 5.0487823458630175e-05, '2138': 5.0487823458630175e-05, '2139': 5.0487823458630175e-05, '2141': 5.0487823458630175e-05, '2142': 5.0487823458630175e-05, '2143': 5.0487823458630175e-05, '4218': 0.00022745538403190482, '2146': 5.0487823458630175e-05, '2147': 5.0487823458630175e-05, '2148': 5.0487823458630175e-05, '2149': 5.0487823458630175e-05, '2150': 5.0487823458630175e-05, '2152': 5.0487823458630175e-05, '2156': 5.0487823458630175e-05, '2155': 5.0487823458630175e-05, '2159': 5.0487823458630175e-05, '2161': 5.0487823458630175e-05, '2164': 5.0487823458630175e-05, '2167': 5.0487823458630175e-05, '2169': 5.0487823458630175e-05, '2170': 5.0487823458630175e-05, '2171': 5.0487823458630175e-05, '2172': 5.0487823458630175e-05, '2173': 5.0487823458630175e-05, '2175': 5.0487823458630175e-05, '2176': 5.0487823458630175e-05, '2177': 5.0487823458630175e-05, '2179': 5.0487823458630175e-05, '2180': 5.0487823458630175e-05, '2183': 5.0487823458630175e-05, '2184': 5.0487823458630175e-05, '2186': 5.0487823458630175e-05, '2187': 5.0487823458630175e-05, '2188': 5.0487823458630175e-05, '2189': 5.0487823458630175e-05, '2190': 5.0487823458630175e-05, '2191': 5.0487823458630175e-05, '2192': 5.0487823458630175e-05, '2194': 5.0487823458630175e-05, '2196': 5.0487823458630175e-05, '2197': 5.0487823458630175e-05, '2198': 5.0487823458630175e-05, '2199': 5.0487823458630175e-05, '2200': 5.0487823458630175e-05, '2201': 5.0487823458630175e-05, '2203': 5.0487823458630175e-05, '2204': 5.0487823458630175e-05, '2212': 5.0487823458630175e-05, '2213': 5.0487823458630175e-05, '2214': 5.0487823458630175e-05, '2215': 5.0487823458630175e-05, '2216': 5.0487823458630175e-05, '2217': 5.0487823458630175e-05, '2218': 5.0487823458630175e-05, '2219': 5.0487823458630175e-05, '2221': 5.0487823458630175e-05, '2222': 5.0487823458630175e-05, '8033': 0.0001840659342810355, '2224': 5.0487823458630175e-05, '2226': 5.0487823458630175e-05, '2227': 5.0487823458630175e-05, '2228': 5.0487823458630175e-05, '2230': 5.0487823458630175e-05, '3623': 6.660596399073358e-05, '2232': 5.0487823458630175e-05, '2235': 5.0487823458630175e-05, '2236': 5.0487823458630175e-05, '2238': 5.0487823458630175e-05, '2239': 5.0487823458630175e-05, '2041': 5.0487823458630175e-05, '2243': 5.0487823458630175e-05, '2249': 5.0487823458630175e-05, '2250': 5.0487823458630175e-05, '2254': 5.0487823458630175e-05, '2255': 5.0487823458630175e-05, '3737': 6.784440448366807e-05, '2259': 5.0487823458630175e-05, '2260': 5.0487823458630175e-05, '2261': 5.0487823458630175e-05, '2262': 5.0487823458630175e-05, '2153': 5.0487823458630175e-05, '2266': 5.0487823458630175e-05, '2267': 5.0487823458630175e-05, '2268': 5.0487823458630175e-05, '2269': 5.0487823458630175e-05, '2270': 5.0487823458630175e-05, '2274': 5.0487823458630175e-05, '5393': 0.00015147532849742765, '7490': 6.817414596801273e-05, '8175': 6.012446195061869e-05, '2278': 5.0487823458630175e-05, '2280': 5.0487823458630175e-05, '2282': 5.0487823458630175e-05, '2283': 5.0487823458630175e-05, '2286': 5.0487823458630175e-05, '2287': 5.0487823458630175e-05, '3556': 0.00010037032088242018, '6055': 5.6065287454672085e-05, '2288': 5.0487823458630175e-05, '4876': 0.00011736811875048123, '2291': 5.0487823458630175e-05, '2292': 5.0487823458630175e-05, '2265': 5.0487823458630175e-05, '2293': 5.0487823458630175e-05, '2295': 5.0487823458630175e-05, '2296': 5.0487823458630175e-05, '3770': 0.0002252275074822675, '2298': 5.0487823458630175e-05, '2299': 5.0487823458630175e-05, '2300': 5.0487823458630175e-05, '2301': 5.0487823458630175e-05, '2302': 5.0487823458630175e-05, '2304': 5.0487823458630175e-05, '2305': 9.350161227223095e-05, '2308': 5.0487823458630175e-05, '2310': 5.0487823458630175e-05, '2311': 5.0487823458630175e-05, '2312': 5.0487823458630175e-05, '2313': 5.0487823458630175e-05, '2314': 5.0487823458630175e-05, '2315': 5.0487823458630175e-05, '2309': 5.0487823458630175e-05, '2316': 5.0487823458630175e-05, '5375': 0.00040188933446104003, '2317': 5.0487823458630175e-05, '2318': 5.0487823458630175e-05, '2319': 5.0487823458630175e-05, '2320': 5.0487823458630175e-05, '2321': 5.0487823458630175e-05, '2330': 5.0487823458630175e-05, '1561': 5.0487823458630175e-05, '2331': 5.0487823458630175e-05, '2334': 5.0487823458630175e-05, '2335': 5.0487823458630175e-05, '2336': 5.0487823458630175e-05, '2337': 5.0487823458630175e-05, '2342': 9.774030403830172e-05, '2343': 5.0487823458630175e-05, '2344': 5.0487823458630175e-05, '2349': 5.0487823458630175e-05, '2351': 5.0487823458630175e-05, '2352': 5.0487823458630175e-05, '2353': 5.0487823458630175e-05, '2272': 5.0487823458630175e-05, '2357': 5.0487823458630175e-05, '2359': 5.0487823458630175e-05, '2360': 5.0487823458630175e-05, '2361': 5.0487823458630175e-05, '2363': 5.0487823458630175e-05, '2365': 9.350161227223095e-05, '2367': 5.0487823458630175e-05, '2368': 5.0487823458630175e-05, '5231': 0.0003616315344196736, '5255': 0.0001385612985395141, '5303': 5.92349266336368e-05, '5467': 7.213829093452702e-05, '5564': 8.030242392253087e-05, '5664': 7.46960543685143e-05, '6041': 7.550122014308899e-05, '6107': 5.448549178352638e-05, '6235': 6.342651734299026e-05, '7928': 0.0002820947585713293, '2370': 5.0487823458630175e-05, '2372': 5.0487823458630175e-05, '2374': 5.0487823458630175e-05, '2379': 5.0487823458630175e-05, '2380': 5.0487823458630175e-05, '2382': 5.0487823458630175e-05, '2387': 5.0487823458630175e-05, '5354': 0.00010726815303053222, '2388': 5.0487823458630175e-05, '2389': 5.0487823458630175e-05, '2390': 5.0487823458630175e-05, '2392': 5.0487823458630175e-05, '2391': 5.0487823458630175e-05, '2394': 5.0487823458630175e-05, '2395': 5.0487823458630175e-05, '2396': 5.0487823458630175e-05, '2393': 5.0487823458630175e-05, '2399': 5.0487823458630175e-05, '2401': 5.0487823458630175e-05, '2402': 5.0487823458630175e-05, '2403': 5.0487823458630175e-05, '2404': 5.0487823458630175e-05, '2405': 5.0487823458630175e-05, '2406': 5.0487823458630175e-05, '2407': 5.0487823458630175e-05, '2306': 5.0487823458630175e-05, '7304': 6.656264904926806e-05, '2412': 5.0487823458630175e-05, '2413': 5.0487823458630175e-05, '2414': 5.0487823458630175e-05, '2417': 5.0487823458630175e-05, '2418': 5.0487823458630175e-05, '2113': 5.0487823458630175e-05, '2420': 9.964643924560248e-05, '2419': 5.0487823458630175e-05, '2424': 5.0487823458630175e-05, '2428': 5.0487823458630175e-05, '2429': 5.0487823458630175e-05, '2427': 5.0487823458630175e-05, '2434': 5.0487823458630175e-05, '2437': 5.0487823458630175e-05, '2373': 5.0487823458630175e-05, '2438': 5.0487823458630175e-05, '2462': 5.0487823458630175e-05, '2463': 5.0487823458630175e-05, '2439': 5.0487823458630175e-05, '2441': 5.0487823458630175e-05, '2442': 5.0487823458630175e-05, '2443': 5.0487823458630175e-05, '2444': 5.0487823458630175e-05, '2445': 5.0487823458630175e-05, '2446': 5.0487823458630175e-05, '2094': 5.0487823458630175e-05, '2447': 5.0487823458630175e-05, '2448': 5.0487823458630175e-05, '2449': 5.0487823458630175e-05, '2450': 5.0487823458630175e-05, '2451': 5.0487823458630175e-05, '2452': 5.0487823458630175e-05, '2453': 5.0487823458630175e-05, '2454': 5.0487823458630175e-05, '2455': 5.0487823458630175e-05, '2465': 5.0487823458630175e-05, '2457': 5.0487823458630175e-05, '2466': 5.0487823458630175e-05, '2458': 5.0487823458630175e-05, '2459': 5.0487823458630175e-05, '2460': 5.0487823458630175e-05, '2461': 5.0487823458630175e-05, '2471': 5.0487823458630175e-05, '2472': 5.0487823458630175e-05, '2473': 5.0487823458630175e-05, '2476': 5.0487823458630175e-05, '2477': 5.0487823458630175e-05, '2478': 5.0487823458630175e-05, '2480': 5.0487823458630175e-05, '2481': 5.0487823458630175e-05, '2482': 5.0487823458630175e-05, '2487': 5.0487823458630175e-05, '2488': 5.0487823458630175e-05, '2489': 5.0487823458630175e-05, '2491': 5.0487823458630175e-05, '2492': 5.0487823458630175e-05, '2493': 5.0487823458630175e-05, '2494': 5.0487823458630175e-05, '2495': 5.0487823458630175e-05, '2496': 5.0487823458630175e-05, '2497': 5.0487823458630175e-05, '2500': 5.0487823458630175e-05, '2502': 5.0487823458630175e-05, '2503': 5.0487823458630175e-05, '8296': 8.647942643048504e-05, '2505': 5.0487823458630175e-05, '5311': 0.00010601545572891967, '2509': 5.0487823458630175e-05, '2512': 5.0487823458630175e-05, '2514': 5.0487823458630175e-05, '2513': 5.0487823458630175e-05, '2515': 5.0487823458630175e-05, '5926': 8.245478213748093e-05, '6532': 0.00012454804216107697, '2518': 5.0487823458630175e-05, '2519': 5.0487823458630175e-05, '2355': 5.0487823458630175e-05, '2520': 5.0487823458630175e-05, '2530': 5.0487823458630175e-05, '2531': 5.0487823458630175e-05, '2521': 5.0487823458630175e-05, '2522': 5.0487823458630175e-05, '2523': 5.0487823458630175e-05, '2534': 5.0487823458630175e-05, '2526': 5.0487823458630175e-05, '2527': 5.0487823458630175e-05, '2528': 5.0487823458630175e-05, '2536': 5.0487823458630175e-05, '2537': 5.0487823458630175e-05, '2538': 5.0487823458630175e-05, '2529': 5.0487823458630175e-05, '2540': 5.0487823458630175e-05, '1181': 5.0487823458630175e-05, '2541': 5.0487823458630175e-05, '2543': 5.0487823458630175e-05, '2498': 5.0487823458630175e-05, '2545': 5.0487823458630175e-05, '2546': 5.0487823458630175e-05, '6435': 9.958755931079025e-05, '2548': 5.0487823458630175e-05, '2549': 5.0487823458630175e-05, '2551': 5.0487823458630175e-05, '899': 5.0487823458630175e-05, '2555': 5.0487823458630175e-05, '2556': 5.0487823458630175e-05, '2566': 5.0487823458630175e-05, '2557': 5.0487823458630175e-05, '4220': 0.00016891897081584384, '2469': 5.0487823458630175e-05, '2567': 5.0487823458630175e-05, '2558': 5.0487823458630175e-05, '2559': 5.0487823458630175e-05, '5406': 9.498330015110401e-05, '2561': 5.0487823458630175e-05, '2562': 5.0487823458630175e-05, '2563': 5.0487823458630175e-05, '2564': 5.0487823458630175e-05, '4778': 0.00024304773058838428, '5364': 7.029978856362546e-05, '6942': 9.807159445303103e-05, '7319': 0.00011585280524320233, '7362': 9.906766827852002e-05, '7857': 0.00011410997205395297, '7996': 0.000130059809238781, '8068': 7.020689187402506e-05, '8169': 0.00010559907968927507, '2569': 5.0487823458630175e-05, '2572': 5.0487823458630175e-05, '2573': 5.0487823458630175e-05, '2574': 5.0487823458630175e-05, '5713': 8.235006523520085e-05, '2577': 5.0487823458630175e-05, '2578': 5.0487823458630175e-05, '2581': 5.0487823458630175e-05, '2582': 5.0487823458630175e-05, '2583': 5.0487823458630175e-05, '2584': 5.0487823458630175e-05, '2586': 5.0487823458630175e-05, '4625': 0.00015287644011312645, '2596': 5.0487823458630175e-05, '2598': 5.0487823458630175e-05, '2603': 5.0487823458630175e-05, '6080': 0.0001171273302687813, '2606': 5.0487823458630175e-05, '2608': 5.0487823458630175e-05, '2609': 5.0487823458630175e-05, '2610': 5.0487823458630175e-05, '2611': 5.0487823458630175e-05, '5387': 0.00024060873729815635, '2613': 5.0487823458630175e-05, '2614': 5.0487823458630175e-05, '2615': 5.0487823458630175e-05, '2616': 5.0487823458630175e-05, '5240': 6.538215957124137e-05, '5533': 5.672955182740798e-05, '5956': 6.254887662976286e-05, '6109': 6.372637393128182e-05, '6279': 5.2384724674519006e-05, '2627': 5.0487823458630175e-05, '2626': 5.0487823458630175e-05, '2630': 5.0487823458630175e-05, '2631': 5.0487823458630175e-05, '2632': 5.0487823458630175e-05, '2633': 5.0487823458630175e-05, '1863': 5.0487823458630175e-05, '2634': 5.0487823458630175e-05, '2635': 5.0487823458630175e-05, '2636': 5.0487823458630175e-05, '2637': 5.0487823458630175e-05, '2639': 5.0487823458630175e-05, '2640': 5.0487823458630175e-05, '2641': 5.0487823458630175e-05, '2642': 5.0487823458630175e-05, '2644': 5.0487823458630175e-05, '2628': 5.0487823458630175e-05, '2648': 5.0487823458630175e-05, '2649': 5.0487823458630175e-05, '6543': 7.768171121918354e-05, '2656': 5.0487823458630175e-05, '5260': 7.743673715133431e-05, '8024': 0.00012601336911793873, '2659': 5.0487823458630175e-05, '2661': 5.0487823458630175e-05, '2663': 5.0487823458630175e-05, '2664': 5.0487823458630175e-05, '2668': 5.0487823458630175e-05, '2671': 5.0487823458630175e-05, '2673': 5.0487823458630175e-05, '2675': 5.0487823458630175e-05, '2676': 5.0487823458630175e-05, '2677': 5.0487823458630175e-05, '2680': 5.0487823458630175e-05, '2682': 5.0487823458630175e-05, '2683': 5.0487823458630175e-05, '2684': 5.0487823458630175e-05, '2699': 5.0487823458630175e-05, '2701': 5.0487823458630175e-05, '6105': 7.614881151757822e-05, '2702': 5.0487823458630175e-05, '2703': 5.0487823458630175e-05, '2688': 5.0487823458630175e-05, '5368': 6.387987449149169e-05, '5514': 7.201341238685274e-05, '5756': 0.00014117774573565818, '2704': 5.0487823458630175e-05, '6078': 0.0001403399144075011, '2690': 5.0487823458630175e-05, '2691': 5.0487823458630175e-05, '2692': 5.0487823458630175e-05, '2705': 5.0487823458630175e-05, '2706': 5.0487823458630175e-05, '2694': 5.0487823458630175e-05, '2695': 5.0487823458630175e-05, '2698': 5.0487823458630175e-05, '2709': 5.0487823458630175e-05, '2711': 5.0487823458630175e-05, '2715': 5.0487823458630175e-05, '2716': 5.0487823458630175e-05, '2717': 5.0487823458630175e-05, '2718': 5.0487823458630175e-05, '2719': 5.0487823458630175e-05, '2722': 5.0487823458630175e-05, '2723': 5.0487823458630175e-05, '2725': 5.0487823458630175e-05, '2728': 5.0487823458630175e-05, '2730': 5.0487823458630175e-05, '2731': 5.0487823458630175e-05, '2733': 5.0487823458630175e-05, '2729': 5.0487823458630175e-05, '2734': 5.0487823458630175e-05, '2737': 5.0487823458630175e-05, '2738': 5.0487823458630175e-05, '7423': 0.00010309515792015413, '2739': 5.0487823458630175e-05, '2740': 5.0487823458630175e-05, '2741': 5.0487823458630175e-05, '2744': 5.0487823458630175e-05, '2748': 5.0487823458630175e-05, '2749': 5.0487823458630175e-05, '2752': 5.0487823458630175e-05, '2753': 5.0487823458630175e-05, '2755': 5.0487823458630175e-05, '2757': 5.0487823458630175e-05, '2759': 5.0487823458630175e-05, '2761': 5.0487823458630175e-05, '2762': 5.0487823458630175e-05, '2766': 5.0487823458630175e-05, '2767': 5.0487823458630175e-05, '2771': 5.0487823458630175e-05, '2769': 5.0487823458630175e-05, '2772': 5.0487823458630175e-05, '2773': 5.0487823458630175e-05, '2776': 5.0487823458630175e-05, '2778': 5.0487823458630175e-05, '2779': 5.0487823458630175e-05, '2780': 5.0487823458630175e-05, '2782': 5.0487823458630175e-05, '2783': 5.0487823458630175e-05, '2784': 5.0487823458630175e-05, '2786': 5.0487823458630175e-05, '2788': 5.0487823458630175e-05, '2789': 5.0487823458630175e-05, '3036': 5.446240070099895e-05, '2791': 5.0487823458630175e-05, '2792': 5.0487823458630175e-05, '2793': 5.0487823458630175e-05, '2796': 5.0487823458630175e-05, '2802': 5.0487823458630175e-05, '2803': 5.0487823458630175e-05, '2804': 5.0487823458630175e-05, '2807': 5.0487823458630175e-05, '2808': 5.0487823458630175e-05, '2813': 5.0487823458630175e-05, '2817': 5.0487823458630175e-05, '2823': 5.0487823458630175e-05, '3109': 7.917658597323906e-05, '2824': 5.0487823458630175e-05, '2826': 5.0487823458630175e-05, '2758': 5.0487823458630175e-05, '2827': 5.0487823458630175e-05, '2832': 5.0487823458630175e-05, '4264': 5.1348099234902194e-05, '2833': 5.0487823458630175e-05, '2835': 5.0487823458630175e-05, '2839': 5.0487823458630175e-05, '2840': 5.0487823458630175e-05, '2845': 5.0487823458630175e-05, '2846': 5.0487823458630175e-05, '2847': 5.0487823458630175e-05, '2848': 5.0487823458630175e-05, '2849': 5.0487823458630175e-05, '2850': 5.0487823458630175e-05, '2852': 5.0487823458630175e-05, '2853': 5.0487823458630175e-05, '2855': 5.0487823458630175e-05, '2857': 5.0487823458630175e-05, '2858': 5.0487823458630175e-05, '4171': 0.00012729677955952728, '2860': 5.0487823458630175e-05, '2866': 5.0487823458630175e-05, '2867': 5.0487823458630175e-05, '2861': 5.0487823458630175e-05, '2868': 5.0487823458630175e-05, '2869': 5.0487823458630175e-05, '2862': 5.0487823458630175e-05, '2863': 5.0487823458630175e-05, '2870': 5.0487823458630175e-05, '2864': 5.0487823458630175e-05, '2865': 5.0487823458630175e-05, '2872': 5.0487823458630175e-05, '2875': 5.0487823458630175e-05, '2876': 5.0487823458630175e-05, '2879': 5.0487823458630175e-05, '2881': 5.0487823458630175e-05, '2882': 5.0487823458630175e-05, '2883': 5.0487823458630175e-05, '4068': 6.053816435333305e-05, '2884': 5.0487823458630175e-05, '2885': 5.0487823458630175e-05, '2467': 5.0487823458630175e-05, '2896': 5.0487823458630175e-05, '2568': 5.0487823458630175e-05, '2886': 5.0487823458630175e-05, '2887': 5.0487823458630175e-05, '2888': 5.0487823458630175e-05, '2464': 5.0487823458630175e-05, '2889': 5.0487823458630175e-05, '2890': 5.0487823458630175e-05, '2891': 5.0487823458630175e-05, '2892': 5.0487823458630175e-05, '2893': 5.0487823458630175e-05, '2894': 5.0487823458630175e-05, '2895': 5.0487823458630175e-05, '2898': 5.0487823458630175e-05, '2901': 5.0487823458630175e-05, '2899': 5.0487823458630175e-05, '2905': 5.0487823458630175e-05, '2903': 5.0487823458630175e-05, '2904': 5.0487823458630175e-05, '2906': 5.0487823458630175e-05, '2907': 5.0487823458630175e-05, '2908': 5.0487823458630175e-05, '2913': 5.0487823458630175e-05, '2916': 5.0487823458630175e-05, '2919': 5.0487823458630175e-05, '2921': 5.0487823458630175e-05, '2924': 5.0487823458630175e-05, '2929': 5.0487823458630175e-05, '2930': 5.0487823458630175e-05, '2931': 5.0487823458630175e-05, '7316': 0.0001017148232339906, '2933': 5.0487823458630175e-05, '2935': 5.0487823458630175e-05, '2939': 5.0487823458630175e-05, '2938': 5.0487823458630175e-05, '7254': 0.00011439347036533114, '2941': 5.0487823458630175e-05, '2936': 5.0487823458630175e-05, '2944': 5.0487823458630175e-05, '2945': 5.0487823458630175e-05, '2947': 5.0487823458630175e-05, '2948': 5.0487823458630175e-05, '2949': 5.0487823458630175e-05, '2950': 5.0487823458630175e-05, '2952': 5.0487823458630175e-05, '2953': 5.0487823458630175e-05, '2954': 5.0487823458630175e-05, '2957': 5.0487823458630175e-05, '2960': 5.0487823458630175e-05, '2961': 5.0487823458630175e-05, '2962': 5.0487823458630175e-05, '2964': 5.0487823458630175e-05, '2965': 5.0487823458630175e-05, '2967': 5.0487823458630175e-05, '4086': 9.368234247733011e-05, '4866': 7.132282130820528e-05, '4934': 9.627766000010933e-05, '4987': 0.00019524739893741233, '4992': 0.00011417813718388262, '5694': 0.00015570262023886525, '6611': 5.121628738639929e-05, '7023': 0.00015433799803904683, '7734': 0.00010410133604531678, '2971': 5.0487823458630175e-05, '2969': 5.0487823458630175e-05, '2970': 5.0487823458630175e-05, '2978': 5.0487823458630175e-05, '2980': 5.0487823458630175e-05, '2982': 5.0487823458630175e-05, '2983': 5.0487823458630175e-05, '2985': 5.0487823458630175e-05, '2986': 5.0487823458630175e-05, '2987': 5.0487823458630175e-05, '2988': 5.0487823458630175e-05, '2989': 5.0487823458630175e-05, '2992': 5.0487823458630175e-05, '2994': 5.0487823458630175e-05, '2995': 5.0487823458630175e-05, '2998': 5.0487823458630175e-05, '3001': 5.0487823458630175e-05, '3008': 5.0487823458630175e-05, '3003': 5.0487823458630175e-05, '3004': 5.0487823458630175e-05, '3006': 5.0487823458630175e-05, '3011': 5.0487823458630175e-05, '3012': 5.0487823458630175e-05, '3013': 5.0487823458630175e-05, '3016': 5.0487823458630175e-05, '3017': 5.0487823458630175e-05, '3019': 5.0487823458630175e-05, '3363': 5.611383760449799e-05, '3022': 5.0487823458630175e-05, '3025': 5.0487823458630175e-05, '4684': 5.8844743487375026e-05, '4779': 8.281607653874824e-05, '4887': 5.8553092907389335e-05, '5267': 5.93409096405044e-05, '5350': 7.981990818400775e-05, '5442': 5.738754831353764e-05, '6427': 0.00013117223843474757, '6475': 5.265353322226602e-05, '3031': 5.0487823458630175e-05, '3032': 5.0487823458630175e-05, '3035': 5.0487823458630175e-05, '3037': 5.0487823458630175e-05, '3038': 5.0487823458630175e-05, '3039': 5.0487823458630175e-05, '3040': 5.0487823458630175e-05, '3041': 5.0487823458630175e-05, '3042': 5.0487823458630175e-05, '3043': 5.0487823458630175e-05, '3044': 5.0487823458630175e-05, '3048': 5.0487823458630175e-05, '3049': 5.0487823458630175e-05, '3046': 5.0487823458630175e-05, '3051': 5.0487823458630175e-05, '3052': 5.0487823458630175e-05, '3053': 5.0487823458630175e-05, '3054': 5.0487823458630175e-05, '3055': 5.0487823458630175e-05, '3057': 5.0487823458630175e-05, '3047': 5.0487823458630175e-05, '3060': 5.0487823458630175e-05, '3061': 5.0487823458630175e-05, '3062': 5.0487823458630175e-05, '2976': 5.0487823458630175e-05, '3066': 5.0487823458630175e-05, '3070': 5.0487823458630175e-05, '3071': 5.0487823458630175e-05, '3072': 5.0487823458630175e-05, '7290': 7.15465057697426e-05, '3074': 5.0487823458630175e-05, '3075': 5.0487823458630175e-05, '3076': 5.0487823458630175e-05, '3077': 5.0487823458630175e-05, '3078': 5.0487823458630175e-05, '3063': 5.0487823458630175e-05, '7735': 7.386972813595688e-05, '3081': 5.0487823458630175e-05, '3083': 5.0487823458630175e-05, '3085': 5.0487823458630175e-05, '3086': 5.0487823458630175e-05, '3087': 5.0487823458630175e-05, '3088': 5.0487823458630175e-05, '3090': 5.0487823458630175e-05, '6530': 9.523436751563701e-05, '3091': 5.0487823458630175e-05, '3093': 5.0487823458630175e-05, '3094': 5.0487823458630175e-05, '3097': 5.0487823458630175e-05, '3098': 5.0487823458630175e-05, '3095': 5.0487823458630175e-05, '3096': 5.0487823458630175e-05, '3101': 5.0487823458630175e-05, '3102': 5.0487823458630175e-05, '3107': 5.0487823458630175e-05, '2842': 5.0487823458630175e-05, '3617': 5.083470885228825e-05, '3108': 5.0487823458630175e-05, '8227': 9.839540351862406e-05, '3110': 5.0487823458630175e-05, '3111': 5.0487823458630175e-05, '3112': 5.0487823458630175e-05, '3113': 5.0487823458630175e-05, '2003': 5.0487823458630175e-05, '7440': 9.068160922394453e-05, '3115': 5.0487823458630175e-05, '3118': 5.0487823458630175e-05, '3119': 5.0487823458630175e-05, '3120': 5.0487823458630175e-05, '3123': 5.0487823458630175e-05, '3124': 5.0487823458630175e-05, '3127': 5.0487823458630175e-05, '3701': 7.486230378633727e-05, '3128': 5.0487823458630175e-05, '3129': 5.0487823458630175e-05, '3131': 5.0487823458630175e-05, '3132': 5.0487823458630175e-05, '3135': 5.0487823458630175e-05, '3133': 5.0487823458630175e-05, '3134': 5.0487823458630175e-05, '3137': 5.0487823458630175e-05, '3143': 5.0487823458630175e-05, '3142': 5.0487823458630175e-05, '3146': 5.0487823458630175e-05, '3147': 5.0487823458630175e-05, '3149': 5.0487823458630175e-05, '3151': 5.0487823458630175e-05, '3152': 5.0487823458630175e-05, '3153': 5.0487823458630175e-05, '3154': 5.0487823458630175e-05, '3156': 5.0487823458630175e-05, '3158': 5.0487823458630175e-05, '3159': 5.0487823458630175e-05, '3160': 5.0487823458630175e-05, '3162': 5.0487823458630175e-05, '3163': 5.0487823458630175e-05, '3165': 5.0487823458630175e-05, '3166': 5.0487823458630175e-05, '3167': 5.0487823458630175e-05, '3169': 5.0487823458630175e-05, '3168': 5.0487823458630175e-05, '3172': 5.0487823458630175e-05, '3174': 5.0487823458630175e-05, '3175': 5.0487823458630175e-05, '3176': 5.0487823458630175e-05, '3181': 5.0487823458630175e-05, '3190': 5.0487823458630175e-05, '3182': 5.0487823458630175e-05, '3183': 5.0487823458630175e-05, '3184': 5.0487823458630175e-05, '3185': 5.0487823458630175e-05, '3186': 5.0487823458630175e-05, '3187': 5.0487823458630175e-05, '3188': 5.0487823458630175e-05, '3189': 5.0487823458630175e-05, '3194': 5.0487823458630175e-05, '3195': 9.350161227223095e-05, '3196': 5.0487823458630175e-05, '3197': 5.0487823458630175e-05, '3198': 5.0487823458630175e-05, '3199': 5.0487823458630175e-05, '3202': 5.0487823458630175e-05, '3203': 5.0487823458630175e-05, '3204': 5.0487823458630175e-05, '3206': 5.0487823458630175e-05, '3207': 5.0487823458630175e-05, '3208': 5.0487823458630175e-05, '3209': 5.0487823458630175e-05, '3212': 5.0487823458630175e-05, '3213': 5.0487823458630175e-05, '3215': 5.0487823458630175e-05, '3214': 5.0487823458630175e-05, '3216': 5.0487823458630175e-05, '3210': 5.0487823458630175e-05, '3217': 5.0487823458630175e-05, '532': 5.0487823458630175e-05, '3219': 5.0487823458630175e-05, '3220': 5.0487823458630175e-05, '3221': 5.0487823458630175e-05, '1509': 5.0487823458630175e-05, '3211': 5.0487823458630175e-05, '3218': 5.0487823458630175e-05, '3222': 5.0487823458630175e-05, '3223': 5.0487823458630175e-05, '3224': 5.0487823458630175e-05, '3225': 5.0487823458630175e-05, '3226': 5.0487823458630175e-05, '3227': 5.0487823458630175e-05, '3228': 5.0487823458630175e-05, '3229': 5.0487823458630175e-05, '3230': 5.0487823458630175e-05, '3231': 5.0487823458630175e-05, '3232': 5.0487823458630175e-05, '3234': 5.0487823458630175e-05, '3233': 5.0487823458630175e-05, '3239': 5.0487823458630175e-05, '3240': 5.0487823458630175e-05, '3241': 5.0487823458630175e-05, '3242': 5.0487823458630175e-05, '3244': 5.0487823458630175e-05, '3245': 9.350161227223095e-05, '3246': 5.0487823458630175e-05, '3247': 5.0487823458630175e-05, '3248': 5.0487823458630175e-05, '3249': 5.0487823458630175e-05, '3250': 5.0487823458630175e-05, '3252': 5.0487823458630175e-05, '3257': 5.0487823458630175e-05, '3263': 5.0487823458630175e-05, '3264': 5.0487823458630175e-05, '3259': 5.0487823458630175e-05, '3261': 5.0487823458630175e-05, '3262': 5.0487823458630175e-05, '3267': 5.0487823458630175e-05, '3268': 5.0487823458630175e-05, '212': 5.0487823458630175e-05, '3269': 5.0487823458630175e-05, '3270': 5.0487823458630175e-05, '2624': 5.0487823458630175e-05, '3272': 5.0487823458630175e-05, '3280': 5.0487823458630175e-05, '3281': 5.0487823458630175e-05, '3273': 5.0487823458630175e-05, '3275': 5.0487823458630175e-05, '3277': 5.0487823458630175e-05, '3278': 5.0487823458630175e-05, '3279': 5.0487823458630175e-05, '3288': 5.0487823458630175e-05, '3292': 5.0487823458630175e-05, '3294': 5.0487823458630175e-05, '3296': 5.0487823458630175e-05, '3298': 5.0487823458630175e-05, '3299': 5.0487823458630175e-05, '3300': 5.0487823458630175e-05, '3302': 5.0487823458630175e-05, '3303': 5.0487823458630175e-05, '1529': 5.0487823458630175e-05, '3304': 5.0487823458630175e-05, '3305': 5.0487823458630175e-05, '3311': 5.0487823458630175e-05, '3312': 5.0487823458630175e-05, '3282': 5.0487823458630175e-05, '3314': 5.0487823458630175e-05, '3315': 5.0487823458630175e-05, '3290': 5.0487823458630175e-05, '3318': 5.0487823458630175e-05, '3316': 5.0487823458630175e-05, '3317': 5.0487823458630175e-05, '3322': 5.0487823458630175e-05, '3323': 5.0487823458630175e-05, '3325': 5.0487823458630175e-05, '3326': 5.0487823458630175e-05, '3335': 5.0487823458630175e-05, '3331': 5.0487823458630175e-05, '3332': 5.0487823458630175e-05, '3333': 5.0487823458630175e-05, '3339': 5.0487823458630175e-05, '3340': 5.0487823458630175e-05, '3341': 5.0487823458630175e-05, '3342': 5.0487823458630175e-05, '3343': 5.0487823458630175e-05, '3344': 5.0487823458630175e-05, '3345': 5.0487823458630175e-05, '3349': 5.0487823458630175e-05, '3350': 5.0487823458630175e-05, '3353': 5.0487823458630175e-05, '3354': 5.0487823458630175e-05, '3355': 5.0487823458630175e-05, '3360': 5.0487823458630175e-05, '3356': 5.0487823458630175e-05, '3357': 5.0487823458630175e-05, '3358': 5.0487823458630175e-05, '3359': 5.0487823458630175e-05, '3306': 5.0487823458630175e-05, '3361': 5.0487823458630175e-05, '3362': 5.0487823458630175e-05, '3368': 5.0487823458630175e-05, '3369': 5.0487823458630175e-05, '3370': 5.0487823458630175e-05, '3366': 5.0487823458630175e-05, '3367': 5.0487823458630175e-05, '3373': 5.0487823458630175e-05, '3374': 5.0487823458630175e-05, '3375': 5.0487823458630175e-05, '3377': 5.0487823458630175e-05, '3378': 5.0487823458630175e-05, '3379': 5.0487823458630175e-05, '3380': 5.0487823458630175e-05, '3382': 5.0487823458630175e-05, '3383': 5.0487823458630175e-05, '3384': 5.0487823458630175e-05, '3385': 5.0487823458630175e-05, '3388': 5.0487823458630175e-05, '3389': 5.0487823458630175e-05, '3391': 5.0487823458630175e-05, '3392': 5.0487823458630175e-05, '5882': 6.040816207927591e-05, '3395': 5.0487823458630175e-05, '3396': 5.0487823458630175e-05, '3397': 5.0487823458630175e-05, '3398': 5.0487823458630175e-05, '3399': 5.0487823458630175e-05, '3400': 5.0487823458630175e-05, '3401': 5.0487823458630175e-05, '3403': 5.0487823458630175e-05, '3402': 5.0487823458630175e-05, '3592': 5.711627155347555e-05, '6307': 7.405172940104573e-05, '8263': 7.464948141610084e-05, '3405': 5.0487823458630175e-05, '3390': 5.0487823458630175e-05, '5388': 5.72768356257619e-05, '3407': 5.0487823458630175e-05, '3406': 5.0487823458630175e-05, '3411': 5.0487823458630175e-05, '3412': 5.0487823458630175e-05, '3422': 5.0487823458630175e-05, '3423': 5.0487823458630175e-05, '3416': 5.0487823458630175e-05, '3424': 5.0487823458630175e-05, '3425': 5.0487823458630175e-05, '3418': 5.0487823458630175e-05, '3426': 5.0487823458630175e-05, '3434': 5.0487823458630175e-05, '3436': 5.0487823458630175e-05, '3437': 5.0487823458630175e-05, '3440': 5.0487823458630175e-05, '3441': 5.0487823458630175e-05, '3438': 5.0487823458630175e-05, '3444': 5.0487823458630175e-05, '3445': 5.0487823458630175e-05, '6225': 5.469283006685157e-05, '6724': 6.899285738428932e-05, '6920': 7.518790847315313e-05, '7222': 8.800929639982246e-05, '3448': 5.0487823458630175e-05, '3449': 5.0487823458630175e-05, '3450': 5.0487823458630175e-05, '3451': 5.0487823458630175e-05, '4880': 5.1943730328162936e-05, '5306': 6.616046901061598e-05, '5471': 5.3075937825730556e-05, '6054': 5.874405446933501e-05, '6826': 6.0546488090883085e-05, '3457': 5.0487823458630175e-05, '5363': 7.6314939809509e-05, '3462': 5.0487823458630175e-05, '3466': 5.0487823458630175e-05, '3467': 5.0487823458630175e-05, '3468': 5.0487823458630175e-05, '3469': 5.0487823458630175e-05, '3470': 5.0487823458630175e-05, '3472': 5.0487823458630175e-05, '3471': 5.0487823458630175e-05, '3475': 5.0487823458630175e-05, '3481': 5.0487823458630175e-05, '3482': 5.0487823458630175e-05, '3477': 5.0487823458630175e-05, '3478': 5.0487823458630175e-05, '3487': 5.0487823458630175e-05, '3488': 5.0487823458630175e-05, '3492': 5.0487823458630175e-05, '3493': 5.0487823458630175e-05, '3490': 5.0487823458630175e-05, '3494': 5.0487823458630175e-05, '3495': 5.0487823458630175e-05, '3427': 5.0487823458630175e-05, '3496': 5.0487823458630175e-05, '3491': 5.0487823458630175e-05, '2524': 5.0487823458630175e-05, '3497': 5.0487823458630175e-05, '3499': 5.0487823458630175e-05, '3500': 5.0487823458630175e-05, '3504': 5.0487823458630175e-05, '3509': 5.0487823458630175e-05, '3510': 5.0487823458630175e-05, '3515': 5.0487823458630175e-05, '3511': 5.0487823458630175e-05, '3512': 5.0487823458630175e-05, '3513': 5.0487823458630175e-05, '3514': 5.0487823458630175e-05, '3518': 5.0487823458630175e-05, '3519': 5.0487823458630175e-05, '3521': 5.0487823458630175e-05, '3522': 5.0487823458630175e-05, '3523': 5.0487823458630175e-05, '3524': 5.0487823458630175e-05, '3525': 5.0487823458630175e-05, '3526': 5.0487823458630175e-05, '3527': 5.0487823458630175e-05, '3386': 5.0487823458630175e-05, '3530': 5.0487823458630175e-05, '3531': 5.0487823458630175e-05, '3532': 5.0487823458630175e-05, '3535': 5.0487823458630175e-05, '3536': 5.0487823458630175e-05, '3539': 5.0487823458630175e-05, '3540': 5.0487823458630175e-05, '3542': 5.0487823458630175e-05, '3543': 5.0487823458630175e-05, '3508': 5.0487823458630175e-05, '3544': 5.0487823458630175e-05, '3545': 5.0487823458630175e-05, '3550': 5.0487823458630175e-05, '3551': 5.0487823458630175e-05, '3552': 5.0487823458630175e-05, '3553': 5.0487823458630175e-05, '3558': 5.0487823458630175e-05, '3560': 5.0487823458630175e-05, '4481': 5.540971147695451e-05, '3561': 5.0487823458630175e-05, '3563': 5.0487823458630175e-05, '3564': 5.0487823458630175e-05, '3565': 5.0487823458630175e-05, '3566': 5.0487823458630175e-05, '4265': 6.656812811986054e-05, '6162': 7.341833383756052e-05, '3569': 5.0487823458630175e-05, '3577': 5.0487823458630175e-05, '3579': 5.0487823458630175e-05, '3578': 5.0487823458630175e-05, '3708': 7.199471786543057e-05, '7708': 7.628672357597055e-05, '3581': 5.0487823458630175e-05, '3582': 5.0487823458630175e-05, '3583': 5.0487823458630175e-05, '3584': 5.0487823458630175e-05, '3585': 5.0487823458630175e-05, '6680': 5.435013806487631e-05, '3589': 5.0487823458630175e-05, '3528': 5.0487823458630175e-05, '3591': 9.350161227223095e-05, '3590': 5.0487823458630175e-05, '3593': 5.0487823458630175e-05, '3594': 5.0487823458630175e-05, '3598': 5.0487823458630175e-05, '3595': 5.0487823458630175e-05, '3599': 5.0487823458630175e-05, '3600': 5.0487823458630175e-05, '3601': 5.0487823458630175e-05, '3596': 5.0487823458630175e-05, '3597': 5.0487823458630175e-05, '3602': 5.0487823458630175e-05, '3603': 5.0487823458630175e-05, '3605': 5.0487823458630175e-05, '3606': 5.0487823458630175e-05, '3610': 5.0487823458630175e-05, '3611': 5.0487823458630175e-05, '3613': 5.0487823458630175e-05, '3618': 5.0487823458630175e-05, '3619': 5.0487823458630175e-05, '3620': 5.0487823458630175e-05, '3621': 5.0487823458630175e-05, '3622': 5.0487823458630175e-05, '3624': 5.0487823458630175e-05, '3625': 5.0487823458630175e-05, '3604': 5.0487823458630175e-05, '3628': 5.0487823458630175e-05, '3630': 5.0487823458630175e-05, '3632': 5.0487823458630175e-05, '3633': 5.0487823458630175e-05, '3636': 5.0487823458630175e-05, '3637': 5.0487823458630175e-05, '3638': 5.0487823458630175e-05, '3639': 5.0487823458630175e-05, '3640': 5.0487823458630175e-05, '3641': 5.0487823458630175e-05, '3642': 5.0487823458630175e-05, '6721': 6.054992316030992e-05, '3649': 5.0487823458630175e-05, '3647': 5.0487823458630175e-05, '3651': 5.0487823458630175e-05, '3652': 5.0487823458630175e-05, '3654': 5.0487823458630175e-05, '3653': 5.0487823458630175e-05, '3655': 5.0487823458630175e-05, '3656': 5.0487823458630175e-05, '3657': 5.0487823458630175e-05, '3658': 5.0487823458630175e-05, '3659': 5.0487823458630175e-05, '3662': 5.0487823458630175e-05, '3663': 5.0487823458630175e-05, '3665': 5.0487823458630175e-05, '3666': 5.0487823458630175e-05, '3667': 5.0487823458630175e-05, '3668': 5.0487823458630175e-05, '3673': 5.0487823458630175e-05, '3674': 5.0487823458630175e-05, '3675': 5.0487823458630175e-05, '3676': 5.0487823458630175e-05, '3677': 5.0487823458630175e-05, '3678': 5.0487823458630175e-05, '3682': 5.0487823458630175e-05, '3683': 5.0487823458630175e-05, '3684': 5.0487823458630175e-05, '3685': 5.0487823458630175e-05, '3686': 5.0487823458630175e-05, '3692': 5.0487823458630175e-05, '3687': 5.0487823458630175e-05, '3688': 5.0487823458630175e-05, '3689': 5.0487823458630175e-05, '3690': 5.0487823458630175e-05, '3832': 5.2721349676104463e-05, '5481': 6.688565887217236e-05, '7387': 7.293817056038566e-05, '3693': 5.0487823458630175e-05, '3694': 5.0487823458630175e-05, '3695': 5.0487823458630175e-05, '3696': 5.0487823458630175e-05, '3697': 5.0487823458630175e-05, '3698': 5.0487823458630175e-05, '3700': 5.0487823458630175e-05, '3702': 5.0487823458630175e-05, '3703': 5.0487823458630175e-05, '3704': 5.0487823458630175e-05, '3705': 5.0487823458630175e-05, '3706': 5.0487823458630175e-05, '3707': 5.0487823458630175e-05, '3709': 5.0487823458630175e-05, '2067': 5.0487823458630175e-05, '3711': 5.0487823458630175e-05, '3712': 5.0487823458630175e-05, '3714': 5.0487823458630175e-05, '3715': 5.0487823458630175e-05, '3718': 5.0487823458630175e-05, '3719': 5.0487823458630175e-05, '3723': 5.0487823458630175e-05, '3722': 5.0487823458630175e-05, '3733': 5.0487823458630175e-05, '3571': 5.0487823458630175e-05, '3725': 5.0487823458630175e-05, '3727': 5.0487823458630175e-05, '3728': 5.0487823458630175e-05, '3729': 5.0487823458630175e-05, '3735': 5.0487823458630175e-05, '3730': 5.0487823458630175e-05, '3731': 5.0487823458630175e-05, '3742': 5.0487823458630175e-05, '3743': 5.0487823458630175e-05, '5133': 7.275305114229445e-05, '3744': 5.0487823458630175e-05, '3746': 5.0487823458630175e-05, '3747': 5.0487823458630175e-05, '3749': 5.0487823458630175e-05, '3750': 5.0487823458630175e-05, '3751': 5.0487823458630175e-05, '3753': 5.0487823458630175e-05, '3754': 5.0487823458630175e-05, '3679': 5.0487823458630175e-05, '3757': 5.0487823458630175e-05, '3758': 5.0487823458630175e-05, '3759': 5.0487823458630175e-05, '3760': 5.0487823458630175e-05, '3761': 5.0487823458630175e-05, '3762': 5.0487823458630175e-05, '3763': 5.0487823458630175e-05, '3764': 5.0487823458630175e-05, '3765': 5.0487823458630175e-05, '3766': 5.0487823458630175e-05, '3767': 5.0487823458630175e-05, '3771': 5.0487823458630175e-05, '3774': 5.0487823458630175e-05, '3775': 5.0487823458630175e-05, '3777': 5.0487823458630175e-05, '4413': 5.439816789623025e-05, '3779': 5.0487823458630175e-05, '3780': 5.0487823458630175e-05, '3781': 5.0487823458630175e-05, '3782': 5.0487823458630175e-05, '3784': 5.0487823458630175e-05, '3783': 5.0487823458630175e-05, '3786': 5.0487823458630175e-05, '5778': 6.893357523800126e-05, '2975': 5.0487823458630175e-05, '3791': 5.0487823458630175e-05, '3797': 9.983990800845763e-05, '3795': 5.0487823458630175e-05, '3794': 5.0487823458630175e-05, '3798': 5.0487823458630175e-05, '3799': 5.0487823458630175e-05, '3801': 5.0487823458630175e-05, '3802': 5.0487823458630175e-05, '3805': 5.0487823458630175e-05, '3810': 5.0487823458630175e-05, '3814': 5.0487823458630175e-05, '3815': 5.0487823458630175e-05, '3817': 5.0487823458630175e-05, '3823': 5.0487823458630175e-05, '3824': 5.0487823458630175e-05, '3827': 5.0487823458630175e-05, '3829': 5.0487823458630175e-05, '3821': 5.0487823458630175e-05, '3833': 5.0487823458630175e-05, '3834': 5.0487823458630175e-05, '3836': 5.0487823458630175e-05, '3837': 5.0487823458630175e-05, '3841': 5.0487823458630175e-05, '3839': 5.0487823458630175e-05, '3840': 5.0487823458630175e-05, '3844': 5.0487823458630175e-05, '3845': 5.0487823458630175e-05, '3848': 5.0487823458630175e-05, '3850': 5.0487823458630175e-05, '3851': 5.0487823458630175e-05, '3855': 5.0487823458630175e-05, '3858': 5.0487823458630175e-05, '3862': 5.0487823458630175e-05, '3863': 5.0487823458630175e-05, '3864': 5.0487823458630175e-05, '3865': 5.0487823458630175e-05, '3869': 5.0487823458630175e-05, '3870': 5.0487823458630175e-05, '3872': 5.0487823458630175e-05, '8038': 0.00021595148022544527, '3648': 5.0487823458630175e-05, '3876': 5.0487823458630175e-05, '3878': 5.0487823458630175e-05, '3877': 5.0487823458630175e-05, '3881': 5.0487823458630175e-05, '3882': 5.0487823458630175e-05, '3883': 5.0487823458630175e-05, '3886': 5.0487823458630175e-05, '3889': 5.0487823458630175e-05, '3890': 5.0487823458630175e-05, '3891': 5.0487823458630175e-05, '3894': 5.0487823458630175e-05, '3895': 5.0487823458630175e-05, '3896': 5.0487823458630175e-05, '3900': 5.0487823458630175e-05, '3901': 5.0487823458630175e-05, '3902': 5.0487823458630175e-05, '3904': 5.0487823458630175e-05, '3905': 5.0487823458630175e-05, '3906': 5.0487823458630175e-05, '3907': 5.0487823458630175e-05, '3909': 5.0487823458630175e-05, '5588': 0.00011258233656890565, '3916': 5.0487823458630175e-05, '3917': 5.0487823458630175e-05, '3918': 5.0487823458630175e-05, '3920': 5.0487823458630175e-05, '3923': 5.0487823458630175e-05, '3924': 5.0487823458630175e-05, '3925': 5.0487823458630175e-05, '3927': 5.0487823458630175e-05, '3928': 5.0487823458630175e-05, '3929': 5.0487823458630175e-05, '3930': 5.0487823458630175e-05, '3931': 5.0487823458630175e-05, '3932': 5.0487823458630175e-05, '3935': 5.0487823458630175e-05, '3936': 5.0487823458630175e-05, '3941': 5.0487823458630175e-05, '3943': 5.0487823458630175e-05, '3944': 5.0487823458630175e-05, '3947': 5.0487823458630175e-05, '3945': 5.0487823458630175e-05, '3948': 5.0487823458630175e-05, '3952': 5.0487823458630175e-05, '3953': 5.0487823458630175e-05, '3954': 5.0487823458630175e-05, '3955': 5.0487823458630175e-05, '3959': 5.0487823458630175e-05, '3960': 5.0487823458630175e-05, '3961': 5.0487823458630175e-05, '4886': 0.0002263443989422292, '3964': 5.0487823458630175e-05, '3965': 5.0487823458630175e-05, '3963': 5.0487823458630175e-05, '3966': 5.0487823458630175e-05, '3957': 5.0487823458630175e-05, '3968': 5.0487823458630175e-05, '7062': 5.390108148624948e-05, '4966': 9.705380503345317e-05, '6257': 6.364705670422111e-05, '6278': 6.871720589226484e-05, '3977': 5.0487823458630175e-05, '3978': 5.0487823458630175e-05, '3979': 5.0487823458630175e-05, '3981': 5.0487823458630175e-05, '3987': 5.0487823458630175e-05, '3982': 5.0487823458630175e-05, '3989': 5.0487823458630175e-05, '3983': 5.0487823458630175e-05, '3984': 5.0487823458630175e-05, '3990': 5.0487823458630175e-05, '3985': 5.0487823458630175e-05, '3986': 5.0487823458630175e-05, '3991': 5.0487823458630175e-05, '3992': 5.0487823458630175e-05, '3997': 5.0487823458630175e-05, '3998': 5.0487823458630175e-05, '4000': 5.0487823458630175e-05, '4001': 5.0487823458630175e-05, '4005': 5.0487823458630175e-05, '4006': 5.0487823458630175e-05, '4007': 5.0487823458630175e-05, '4008': 5.0487823458630175e-05, '4010': 5.0487823458630175e-05, '4016': 5.0487823458630175e-05, '4015': 5.0487823458630175e-05, '4019': 5.0487823458630175e-05, '4020': 5.0487823458630175e-05, '4023': 5.0487823458630175e-05, '4025': 5.0487823458630175e-05, '4026': 5.0487823458630175e-05, '4027': 5.0487823458630175e-05, '4028': 5.0487823458630175e-05, '4034': 5.0487823458630175e-05, '4035': 5.0487823458630175e-05, '4036': 5.0487823458630175e-05, '4038': 5.0487823458630175e-05, '6709': 0.00022532451853529296, '4039': 5.0487823458630175e-05, '4042': 5.0487823458630175e-05, '7149': 0.00010451127038258087, '4991': 6.956263438891158e-05, '4045': 5.0487823458630175e-05, '4521': 5.065519228669866e-05, '4046': 5.0487823458630175e-05, '7257': 7.466072735534192e-05, '4048': 5.0487823458630175e-05, '4050': 5.0487823458630175e-05, '4053': 5.0487823458630175e-05, '4056': 5.0487823458630175e-05, '4057': 5.0487823458630175e-05, '4059': 5.0487823458630175e-05, '4061': 5.0487823458630175e-05, '4062': 5.0487823458630175e-05, '4063': 5.0487823458630175e-05, '4077': 5.0487823458630175e-05, '4064': 5.0487823458630175e-05, '4066': 5.0487823458630175e-05, '4067': 5.0487823458630175e-05, '4069': 5.0487823458630175e-05, '4079': 5.0487823458630175e-05, '4070': 5.0487823458630175e-05, '4073': 5.0487823458630175e-05, '5274': 0.00014851901159175764, '4074': 5.0487823458630175e-05, '4075': 5.0487823458630175e-05, '4080': 5.0487823458630175e-05, '4083': 5.0487823458630175e-05, '4082': 5.0487823458630175e-05, '4085': 5.0487823458630175e-05, '4089': 5.0487823458630175e-05, '4090': 5.0487823458630175e-05, '4091': 5.0487823458630175e-05, '4092': 5.0487823458630175e-05, '4095': 5.0487823458630175e-05, '4096': 5.0487823458630175e-05, '4097': 5.0487823458630175e-05, '4100': 5.0487823458630175e-05, '4108': 5.0487823458630175e-05, '4104': 5.0487823458630175e-05, '4105': 5.0487823458630175e-05, '4109': 5.0487823458630175e-05, '4106': 5.0487823458630175e-05, '4107': 5.0487823458630175e-05, '4116': 5.0487823458630175e-05, '4119': 5.0487823458630175e-05, '4120': 5.0487823458630175e-05, '4121': 5.0487823458630175e-05, '4076': 5.0487823458630175e-05, '6858': 5.423809282740244e-05, '4122': 5.0487823458630175e-05, '4123': 5.0487823458630175e-05, '4125': 5.0487823458630175e-05, '4126': 5.0487823458630175e-05, '4128': 5.0487823458630175e-05, '4237': 9.828092214040882e-05, '4129': 5.0487823458630175e-05, '4130': 5.0487823458630175e-05, '4131': 5.0487823458630175e-05, '4132': 5.0487823458630175e-05, '4133': 5.0487823458630175e-05, '4135': 5.0487823458630175e-05, '4136': 5.0487823458630175e-05, '4137': 5.0487823458630175e-05, '4139': 5.0487823458630175e-05, '4140': 5.0487823458630175e-05, '4141': 5.0487823458630175e-05, '4142': 5.0487823458630175e-05, '4143': 5.0487823458630175e-05, '4144': 5.0487823458630175e-05, '4145': 5.0487823458630175e-05, '4146': 5.0487823458630175e-05, '4147': 5.0487823458630175e-05, '4148': 5.0487823458630175e-05, '4149': 5.0487823458630175e-05, '4150': 5.0487823458630175e-05, '4151': 5.0487823458630175e-05, '4152': 5.0487823458630175e-05, '4153': 5.0487823458630175e-05, '4154': 5.0487823458630175e-05, '4159': 5.0487823458630175e-05, '4163': 5.0487823458630175e-05, '4164': 5.0487823458630175e-05, '4165': 5.0487823458630175e-05, '4166': 5.0487823458630175e-05, '4155': 5.0487823458630175e-05, '4167': 5.0487823458630175e-05, '4168': 9.350161227223095e-05, '4169': 5.0487823458630175e-05, '4170': 5.0487823458630175e-05, '4174': 5.0487823458630175e-05, '4176': 5.0487823458630175e-05, '4177': 5.0487823458630175e-05, '4178': 5.0487823458630175e-05, '4180': 5.0487823458630175e-05, '3819': 5.0487823458630175e-05, '4184': 5.0487823458630175e-05, '4185': 5.0487823458630175e-05, '4186': 5.0487823458630175e-05, '4187': 5.0487823458630175e-05, '4190': 5.0487823458630175e-05, '4194': 5.0487823458630175e-05, '4192': 5.0487823458630175e-05, '4195': 5.0487823458630175e-05, '4197': 5.0487823458630175e-05, '4198': 5.0487823458630175e-05, '4200': 5.0487823458630175e-05, '4207': 5.0487823458630175e-05, '4208': 5.0487823458630175e-05, '4202': 5.0487823458630175e-05, '4203': 5.0487823458630175e-05, '4204': 5.0487823458630175e-05, '3995': 5.0487823458630175e-05, '4209': 5.0487823458630175e-05, '4205': 5.0487823458630175e-05, '4210': 5.0487823458630175e-05, '4206': 5.0487823458630175e-05, '5362': 5.787833322436308e-05, '4215': 5.0487823458630175e-05, '4213': 5.0487823458630175e-05, '4214': 5.0487823458630175e-05, '4217': 5.0487823458630175e-05, '4222': 5.0487823458630175e-05, '4223': 5.0487823458630175e-05, '4224': 5.0487823458630175e-05, '4221': 5.0487823458630175e-05, '4225': 5.0487823458630175e-05, '4228': 5.0487823458630175e-05, '4232': 5.0487823458630175e-05, '4093': 5.0487823458630175e-05, '4236': 5.0487823458630175e-05, '4238': 5.0487823458630175e-05, '4240': 5.0487823458630175e-05, '4243': 5.0487823458630175e-05, '4244': 5.0487823458630175e-05, '4241': 5.0487823458630175e-05, '4242': 5.0487823458630175e-05, '4245': 5.0487823458630175e-05, '4246': 5.0487823458630175e-05, '4248': 5.0487823458630175e-05, '4249': 5.0487823458630175e-05, '4250': 5.0487823458630175e-05, '4251': 5.0487823458630175e-05, '4252': 5.0487823458630175e-05, '4229': 5.0487823458630175e-05, '4255': 5.0487823458630175e-05, '4257': 5.0487823458630175e-05, '4259': 5.0487823458630175e-05, '4260': 5.0487823458630175e-05, '4267': 5.0487823458630175e-05, '4275': 5.0487823458630175e-05, '4273': 5.0487823458630175e-05, '7315': 9.458357997077227e-05, '213': 5.0487823458630175e-05, '4277': 5.0487823458630175e-05, '4274': 5.0487823458630175e-05, '4278': 5.0487823458630175e-05, '4279': 5.0487823458630175e-05, '4280': 5.0487823458630175e-05, '4282': 5.0487823458630175e-05, '4283': 5.0487823458630175e-05, '4284': 5.0487823458630175e-05, '4285': 5.0487823458630175e-05, '4291': 5.0487823458630175e-05, '4292': 5.0487823458630175e-05, '4295': 5.0487823458630175e-05, '4296': 5.0487823458630175e-05, '4304': 5.0487823458630175e-05, '4305': 5.0487823458630175e-05, '4308': 5.0487823458630175e-05, '4306': 5.0487823458630175e-05, '4307': 5.0487823458630175e-05, '4312': 5.0487823458630175e-05, '4313': 5.0487823458630175e-05, '4314': 5.0487823458630175e-05, '4316': 5.0487823458630175e-05, '4317': 5.0487823458630175e-05, '4318': 5.0487823458630175e-05, '4319': 5.0487823458630175e-05, '4320': 5.0487823458630175e-05, '4321': 5.0487823458630175e-05, '4324': 5.0487823458630175e-05, '4325': 5.0487823458630175e-05, '4326': 5.0487823458630175e-05, '4327': 5.0487823458630175e-05, '4328': 5.0487823458630175e-05, '4329': 5.0487823458630175e-05, '4333': 5.0487823458630175e-05, '4334': 5.0487823458630175e-05, '4336': 5.0487823458630175e-05, '4337': 5.0487823458630175e-05, '4345': 5.0487823458630175e-05, '4346': 5.0487823458630175e-05, '4340': 5.0487823458630175e-05, '4342': 5.0487823458630175e-05, '4343': 5.0487823458630175e-05, '4347': 5.0487823458630175e-05, '7952': 9.63440651404149e-05, '8090': 8.346453395323606e-05, '4344': 5.0487823458630175e-05, '4348': 5.0487823458630175e-05, '4352': 5.0487823458630175e-05, '4353': 5.0487823458630175e-05, '4354': 5.0487823458630175e-05, '4357': 5.0487823458630175e-05, '4358': 5.0487823458630175e-05, '4360': 5.0487823458630175e-05, '4364': 5.0487823458630175e-05, '4362': 5.0487823458630175e-05, '4363': 5.0487823458630175e-05, '4366': 5.0487823458630175e-05, '2028': 5.0487823458630175e-05, '4368': 5.0487823458630175e-05, '4369': 5.0487823458630175e-05, '4371': 5.0487823458630175e-05, '4370': 5.0487823458630175e-05, '4372': 5.0487823458630175e-05, '4375': 5.0487823458630175e-05, '4377': 5.0487823458630175e-05, '4378': 5.0487823458630175e-05, '4383': 5.0487823458630175e-05, '4379': 5.0487823458630175e-05, '4380': 5.0487823458630175e-05, '4381': 5.0487823458630175e-05, '4382': 5.0487823458630175e-05, '4393': 5.0487823458630175e-05, '4394': 5.0487823458630175e-05, '4399': 5.0487823458630175e-05, '4322': 5.0487823458630175e-05, '4395': 5.0487823458630175e-05, '4396': 5.0487823458630175e-05, '4397': 5.0487823458630175e-05, '4398': 5.0487823458630175e-05, '4404': 5.0487823458630175e-05, '4408': 5.0487823458630175e-05, '4405': 5.0487823458630175e-05, '4414': 5.0487823458630175e-05, '4415': 5.0487823458630175e-05, '4416': 5.0487823458630175e-05, '4423': 5.0487823458630175e-05, '4425': 5.0487823458630175e-05, '4426': 5.0487823458630175e-05, '4427': 5.0487823458630175e-05, '4428': 5.0487823458630175e-05, '4429': 5.0487823458630175e-05, '4430': 5.0487823458630175e-05, '4431': 5.0487823458630175e-05, '4433': 5.0487823458630175e-05, '4434': 5.0487823458630175e-05, '4436': 5.0487823458630175e-05, '4437': 5.0487823458630175e-05, '4438': 5.0487823458630175e-05, '4439': 5.0487823458630175e-05, '4440': 5.0487823458630175e-05, '4442': 5.0487823458630175e-05, '4443': 5.0487823458630175e-05, '4444': 5.0487823458630175e-05, '4445': 5.0487823458630175e-05, '4446': 5.0487823458630175e-05, '4447': 5.0487823458630175e-05, '4449': 5.0487823458630175e-05, '4451': 5.0487823458630175e-05, '4452': 5.0487823458630175e-05, '4450': 5.0487823458630175e-05, '4454': 5.0487823458630175e-05, '4455': 5.0487823458630175e-05, '4539': 5.244299567743022e-05, '4456': 5.0487823458630175e-05, '4457': 5.0487823458630175e-05, '4458': 5.0487823458630175e-05, '4459': 5.0487823458630175e-05, '4460': 5.0487823458630175e-05, '4461': 5.0487823458630175e-05, '2047': 5.0487823458630175e-05, '4462': 5.0487823458630175e-05, '4464': 5.0487823458630175e-05, '4465': 5.0487823458630175e-05, '4467': 5.0487823458630175e-05, '4469': 5.0487823458630175e-05, '4470': 5.0487823458630175e-05, '4473': 5.0487823458630175e-05, '4474': 5.0487823458630175e-05, '4477': 5.0487823458630175e-05, '4476': 5.0487823458630175e-05, '8139': 9.66344920320441e-05, '4478': 5.0487823458630175e-05, '4475': 5.0487823458630175e-05, '4479': 5.0487823458630175e-05, '7292': 0.000130361514138904, '4493': 5.0487823458630175e-05, '4486': 5.0487823458630175e-05, '5726': 5.2638512899310215e-05, '4494': 5.0487823458630175e-05, '4495': 5.0487823458630175e-05, '5955': 6.094643762981305e-05, '4489': 5.0487823458630175e-05, '4490': 5.0487823458630175e-05, '4496': 5.0487823458630175e-05, '4491': 5.0487823458630175e-05, '4497': 5.0487823458630175e-05, '4504': 5.0487823458630175e-05, '4502': 5.0487823458630175e-05, '4503': 5.0487823458630175e-05, '4492': 5.0487823458630175e-05, '4508': 5.0487823458630175e-05, '4509': 5.0487823458630175e-05, '4511': 5.0487823458630175e-05, '4498': 5.0487823458630175e-05, '4516': 5.0487823458630175e-05, '4523': 5.0487823458630175e-05, '4524': 5.0487823458630175e-05, '4526': 5.0487823458630175e-05, '4533': 5.0487823458630175e-05, '4535': 5.0487823458630175e-05, '4538': 5.0487823458630175e-05, '4540': 5.0487823458630175e-05, '4541': 9.350161227223095e-05, '4542': 5.0487823458630175e-05, '4544': 7.677402773360843e-05, '7434': 0.00013393147906645797, '4543': 5.0487823458630175e-05, '4545': 5.0487823458630175e-05, '5434': 6.531543884339344e-05, '5570': 6.112038437841206e-05, '4553': 5.0487823458630175e-05, '4554': 5.0487823458630175e-05, '4555': 5.0487823458630175e-05, '4556': 5.0487823458630175e-05, '4560': 5.0487823458630175e-05, '4563': 5.0487823458630175e-05, '4564': 5.0487823458630175e-05, '4565': 5.0487823458630175e-05, '4566': 5.0487823458630175e-05, '4567': 5.0487823458630175e-05, '4568': 5.0487823458630175e-05, '4569': 5.0487823458630175e-05, '4575': 5.0487823458630175e-05, '4576': 5.0487823458630175e-05, '4577': 5.0487823458630175e-05, '4581': 5.0487823458630175e-05, '4582': 5.0487823458630175e-05, '4586': 5.0487823458630175e-05, '4592': 5.0487823458630175e-05, '4593': 5.0487823458630175e-05, '4594': 5.0487823458630175e-05, '4595': 5.0487823458630175e-05, '4596': 5.0487823458630175e-05, '4597': 5.0487823458630175e-05, '4598': 5.0487823458630175e-05, '4599': 5.0487823458630175e-05, '4602': 5.0487823458630175e-05, '4601': 5.0487823458630175e-05, '4603': 5.0487823458630175e-05, '4608': 5.0487823458630175e-05, '4607': 5.0487823458630175e-05, '4609': 5.0487823458630175e-05, '2841': 5.0487823458630175e-05, '4611': 5.0487823458630175e-05, '4612': 5.0487823458630175e-05, '4615': 5.0487823458630175e-05, '4616': 5.0487823458630175e-05, '4617': 5.0487823458630175e-05, '4618': 5.0487823458630175e-05, '4619': 5.0487823458630175e-05, '4622': 5.0487823458630175e-05, '4623': 5.0487823458630175e-05, '4624': 5.0487823458630175e-05, '4629': 5.0487823458630175e-05, '4626': 5.0487823458630175e-05, '4627': 5.0487823458630175e-05, '4630': 5.0487823458630175e-05, '4487': 5.0487823458630175e-05, '4633': 5.0487823458630175e-05, '4636': 5.0487823458630175e-05, '4638': 5.0487823458630175e-05, '4640': 5.0487823458630175e-05, '4641': 5.0487823458630175e-05, '4644': 5.0487823458630175e-05, '4649': 5.0487823458630175e-05, '4651': 5.0487823458630175e-05, '4652': 5.0487823458630175e-05, '4655': 5.0487823458630175e-05, '4635': 5.0487823458630175e-05, '4659': 5.0487823458630175e-05, '4660': 5.0487823458630175e-05, '4663': 5.0487823458630175e-05, '4664': 5.0487823458630175e-05, '4647': 5.0487823458630175e-05, '4665': 5.0487823458630175e-05, '8043': 0.00016453383816632827, '4672': 5.0487823458630175e-05, '4667': 5.0487823458630175e-05, '4673': 5.0487823458630175e-05, '4668': 5.0487823458630175e-05, '4669': 5.0487823458630175e-05, '4670': 5.0487823458630175e-05, '4671': 5.0487823458630175e-05, '4674': 5.0487823458630175e-05, '4681': 5.0487823458630175e-05, '4683': 5.0487823458630175e-05, '4682': 5.0487823458630175e-05, '4686': 5.0487823458630175e-05, '4688': 5.0487823458630175e-05, '4693': 5.0487823458630175e-05, '4692': 5.0487823458630175e-05, '4694': 5.0487823458630175e-05, '4695': 5.0487823458630175e-05, '4696': 5.0487823458630175e-05, '4697': 5.0487823458630175e-05, '4698': 5.0487823458630175e-05, '4699': 5.0487823458630175e-05, '4700': 5.0487823458630175e-05, '4701': 5.0487823458630175e-05, '4702': 5.0487823458630175e-05, '4703': 5.0487823458630175e-05, '4704': 5.0487823458630175e-05, '4705': 5.0487823458630175e-05, '4707': 5.0487823458630175e-05, '4708': 5.0487823458630175e-05, '4710': 5.0487823458630175e-05, '4711': 5.0487823458630175e-05, '4714': 5.0487823458630175e-05, '4716': 5.0487823458630175e-05, '2621': 5.0487823458630175e-05, '4718': 5.0487823458630175e-05, '4721': 5.0487823458630175e-05, '4720': 5.0487823458630175e-05, '4723': 5.0487823458630175e-05, '4725': 5.0487823458630175e-05, '4726': 5.0487823458630175e-05, '4727': 5.0487823458630175e-05, '4733': 5.0487823458630175e-05, '4736': 5.0487823458630175e-05, '4675': 5.0487823458630175e-05, '4742': 5.0487823458630175e-05, '4737': 5.0487823458630175e-05, '5838': 9.309833574025761e-05, '4738': 5.0487823458630175e-05, '4739': 5.0487823458630175e-05, '4743': 5.0487823458630175e-05, '4745': 5.0487823458630175e-05, '4740': 5.0487823458630175e-05, '4744': 5.0487823458630175e-05, '4746': 5.0487823458630175e-05, '4741': 5.0487823458630175e-05, '4749': 5.0487823458630175e-05, '4750': 5.0487823458630175e-05, '4751': 5.0487823458630175e-05, '4754': 5.0487823458630175e-05, '4752': 5.0487823458630175e-05, '4753': 5.0487823458630175e-05, '4755': 5.0487823458630175e-05, '4756': 5.0487823458630175e-05, '4757': 5.0487823458630175e-05, '4759': 5.0487823458630175e-05, '4760': 5.0487823458630175e-05, '4761': 5.0487823458630175e-05, '4762': 5.0487823458630175e-05, '4763': 5.0487823458630175e-05, '4765': 5.0487823458630175e-05, '4771': 5.0487823458630175e-05, '4766': 5.0487823458630175e-05, '4773': 5.0487823458630175e-05, '4774': 5.0487823458630175e-05, '4782': 5.0487823458630175e-05, '4785': 5.0487823458630175e-05, '4787': 5.0487823458630175e-05, '4788': 5.0487823458630175e-05, '4789': 5.0487823458630175e-05, '4790': 5.0487823458630175e-05, '7909': 5.995931002409696e-05, '4793': 5.0487823458630175e-05, '4794': 5.0487823458630175e-05, '4799': 5.0487823458630175e-05, '4800': 5.0487823458630175e-05, '4803': 5.0487823458630175e-05, '4804': 5.0487823458630175e-05, '4805': 5.0487823458630175e-05, '4806': 5.0487823458630175e-05, '4807': 5.0487823458630175e-05, '4810': 5.0487823458630175e-05, '4813': 5.0487823458630175e-05, '4816': 5.0487823458630175e-05, '4817': 5.0487823458630175e-05, '4818': 5.0487823458630175e-05, '4819': 5.0487823458630175e-05, '4821': 5.0487823458630175e-05, '4823': 5.0487823458630175e-05, '5310': 5.8003176595242614e-05, '4825': 5.0487823458630175e-05, '4826': 5.0487823458630175e-05, '4829': 5.0487823458630175e-05, '6856': 5.103928228957378e-05, '4830': 5.0487823458630175e-05, '4832': 5.0487823458630175e-05, '4857': 5.0487823458630175e-05, '4833': 5.0487823458630175e-05, '4834': 5.0487823458630175e-05, '4835': 5.0487823458630175e-05, '4836': 5.0487823458630175e-05, '4837': 5.0487823458630175e-05, '4838': 5.0487823458630175e-05, '4839': 5.0487823458630175e-05, '4840': 5.0487823458630175e-05, '4858': 5.0487823458630175e-05, '4841': 5.0487823458630175e-05, '4842': 5.0487823458630175e-05, '4843': 5.0487823458630175e-05, '4844': 5.0487823458630175e-05, '4859': 5.0487823458630175e-05, '4860': 5.0487823458630175e-05, '4845': 5.0487823458630175e-05, '4847': 5.0487823458630175e-05, '4848': 5.0487823458630175e-05, '4849': 5.0487823458630175e-05, '4850': 5.0487823458630175e-05, '4861': 5.0487823458630175e-05, '4862': 5.0487823458630175e-05, '4851': 5.0487823458630175e-05, '4852': 5.0487823458630175e-05, '4863': 5.0487823458630175e-05, '4853': 5.0487823458630175e-05, '4854': 5.0487823458630175e-05, '4855': 5.0487823458630175e-05, '4856': 5.0487823458630175e-05, '4867': 5.0487823458630175e-05, '4868': 5.0487823458630175e-05, '4873': 5.0487823458630175e-05, '4801': 5.0487823458630175e-05, '4871': 5.0487823458630175e-05, '4869': 5.0487823458630175e-05, '4874': 5.0487823458630175e-05, '4870': 5.0487823458630175e-05, '4872': 5.0487823458630175e-05, '7557': 0.00010892208277204357, '4881': 5.0487823458630175e-05, '4882': 5.0487823458630175e-05, '4883': 5.0487823458630175e-05, '4885': 5.0487823458630175e-05, '4889': 5.0487823458630175e-05, '4890': 5.0487823458630175e-05, '4891': 5.0487823458630175e-05, '4893': 5.0487823458630175e-05, '4894': 5.0487823458630175e-05, '6088': 0.00014023421824680015, '4898': 5.0487823458630175e-05, '4900': 5.0487823458630175e-05, '4901': 5.0487823458630175e-05, '4903': 5.0487823458630175e-05, '4904': 5.0487823458630175e-05, '4905': 5.0487823458630175e-05, '4923': 5.0487823458630175e-05, '4906': 5.0487823458630175e-05, '4908': 5.0487823458630175e-05, '4924': 5.0487823458630175e-05, '4909': 5.0487823458630175e-05, '4910': 5.0487823458630175e-05, '4911': 5.0487823458630175e-05, '4912': 5.0487823458630175e-05, '4913': 5.0487823458630175e-05, '4914': 5.0487823458630175e-05, '4915': 5.0487823458630175e-05, '4916': 5.0487823458630175e-05, '4917': 5.0487823458630175e-05, '4918': 5.0487823458630175e-05, '4925': 5.0487823458630175e-05, '4919': 5.0487823458630175e-05, '4920': 5.0487823458630175e-05, '4926': 5.0487823458630175e-05, '4921': 5.0487823458630175e-05, '4922': 5.0487823458630175e-05, '4931': 5.0487823458630175e-05, '4932': 5.0487823458630175e-05, '4933': 5.0487823458630175e-05, '8028': 0.00013315260482736323, '4935': 5.0487823458630175e-05, '4936': 5.0487823458630175e-05, '4937': 5.0487823458630175e-05, '4943': 5.0487823458630175e-05, '4945': 5.0487823458630175e-05, '4947': 5.0487823458630175e-05, '4948': 5.0487823458630175e-05, '4950': 5.0487823458630175e-05, '4951': 5.0487823458630175e-05, '4952': 5.0487823458630175e-05, '4957': 5.0487823458630175e-05, '4960': 5.0487823458630175e-05, '4963': 5.0487823458630175e-05, '7204': 9.217533371941068e-05, '7243': 0.00013623055955392407, '4965': 5.0487823458630175e-05, '4967': 5.0487823458630175e-05, '5880': 6.814648761891876e-05, '6661': 0.0001235619888979104, '6950': 8.1506549504685e-05, '4969': 5.0487823458630175e-05, '4970': 5.0487823458630175e-05, '4971': 5.0487823458630175e-05, '4972': 5.0487823458630175e-05, '4973': 5.0487823458630175e-05, '4974': 5.0487823458630175e-05, '7642': 8.546420982099494e-05, '4975': 5.0487823458630175e-05, '4976': 5.0487823458630175e-05, '2346': 5.0487823458630175e-05, '4978': 5.0487823458630175e-05, '4979': 5.0487823458630175e-05, '4982': 5.0487823458630175e-05, '4985': 5.0487823458630175e-05, '4988': 5.0487823458630175e-05, '4989': 5.0487823458630175e-05, '4995': 5.0487823458630175e-05, '4996': 5.0487823458630175e-05, '4864': 5.0487823458630175e-05, '5000': 5.0487823458630175e-05, '5001': 5.0487823458630175e-05, '5003': 5.0487823458630175e-05, '5005': 5.0487823458630175e-05, '4897': 5.0487823458630175e-05, '5006': 5.0487823458630175e-05, '5008': 5.0487823458630175e-05, '5009': 5.0487823458630175e-05, '5010': 5.0487823458630175e-05, '5011': 5.0487823458630175e-05, '5013': 5.0487823458630175e-05, '5016': 5.0487823458630175e-05, '5017': 5.0487823458630175e-05, '5018': 5.0487823458630175e-05, '5019': 5.0487823458630175e-05, '5024': 5.0487823458630175e-05, '5029': 5.0487823458630175e-05, '5031': 5.0487823458630175e-05, '5032': 5.0487823458630175e-05, '5035': 5.0487823458630175e-05, '5036': 5.0487823458630175e-05, '5038': 5.0487823458630175e-05, '5039': 5.0487823458630175e-05, '5040': 5.0487823458630175e-05, '5046': 5.0487823458630175e-05, '5047': 5.0487823458630175e-05, '5048': 5.0487823458630175e-05, '5051': 5.0487823458630175e-05, '5052': 5.0487823458630175e-05, '5053': 5.0487823458630175e-05, '5054': 5.0487823458630175e-05, '5057': 5.0487823458630175e-05, '5059': 5.0487823458630175e-05, '7318': 6.0732496640567756e-05, '5060': 5.0487823458630175e-05, '5062': 5.0487823458630175e-05, '5063': 5.0487823458630175e-05, '5065': 5.0487823458630175e-05, '5069': 5.0487823458630175e-05, '5067': 5.0487823458630175e-05, '5068': 5.0487823458630175e-05, '5071': 5.0487823458630175e-05, '5077': 5.0487823458630175e-05, '5078': 5.0487823458630175e-05, '5145': 5.455564930838047e-05, '6778': 6.76987514458696e-05, '8277': 7.970682554702463e-05, '5080': 5.0487823458630175e-05, '5081': 5.0487823458630175e-05, '5084': 5.0487823458630175e-05, '5085': 5.0487823458630175e-05, '5086': 5.0487823458630175e-05, '5087': 5.0487823458630175e-05, '5088': 5.0487823458630175e-05, '5089': 5.0487823458630175e-05, '5090': 5.0487823458630175e-05, '5091': 5.0487823458630175e-05, '5095': 5.0487823458630175e-05, '5097': 5.0487823458630175e-05, '5099': 5.0487823458630175e-05, '5098': 5.0487823458630175e-05, '7297': 6.078586683229996e-05, '7365': 6.469034934411137e-05, '5102': 5.0487823458630175e-05, '6681': 5.163694714278223e-05, '5104': 5.0487823458630175e-05, '5105': 5.0487823458630175e-05, '5109': 5.0487823458630175e-05, '5111': 5.0487823458630175e-05, '5110': 5.0487823458630175e-05, '5112': 5.0487823458630175e-05, '5114': 5.0487823458630175e-05, '5665': 5.7111136123203085e-05, '5116': 5.0487823458630175e-05, '5117': 5.0487823458630175e-05, '5118': 5.0487823458630175e-05, '5119': 5.0487823458630175e-05, '5122': 5.0487823458630175e-05, '5127': 5.0487823458630175e-05, '5128': 5.0487823458630175e-05, '5129': 5.0487823458630175e-05, '5124': 5.0487823458630175e-05, '5125': 5.0487823458630175e-05, '5050': 5.0487823458630175e-05, '5126': 5.0487823458630175e-05, '5135': 5.0487823458630175e-05, '5136': 5.0487823458630175e-05, '5138': 5.0487823458630175e-05, '5139': 5.0487823458630175e-05, '5142': 5.0487823458630175e-05, '5150': 5.0487823458630175e-05, '5151': 5.0487823458630175e-05, '5152': 5.0487823458630175e-05, '5153': 5.0487823458630175e-05, '5154': 5.0487823458630175e-05, '5158': 5.0487823458630175e-05, '5159': 5.0487823458630175e-05, '5160': 5.0487823458630175e-05, '5161': 5.0487823458630175e-05, '5167': 5.0487823458630175e-05, '5163': 5.0487823458630175e-05, '5164': 5.0487823458630175e-05, '5166': 5.0487823458630175e-05, '5171': 5.0487823458630175e-05, '5172': 5.0487823458630175e-05, '5173': 5.0487823458630175e-05, '5174': 5.0487823458630175e-05, '5175': 5.0487823458630175e-05, '5177': 5.287747839271912e-05, '7653': 0.00011420893498394996, '5180': 5.0487823458630175e-05, '5181': 5.0487823458630175e-05, '5183': 5.0487823458630175e-05, '5184': 5.0487823458630175e-05, '5185': 5.0487823458630175e-05, '5186': 5.0487823458630175e-05, '5187': 5.0487823458630175e-05, '5754': 5.8820202503977e-05, '7498': 0.00011316074396723068, '7913': 6.167175836863223e-05, '5190': 5.0487823458630175e-05, '5191': 5.0487823458630175e-05, '5192': 5.0487823458630175e-05, '5194': 5.0487823458630175e-05, '5195': 5.0487823458630175e-05, '5196': 5.0487823458630175e-05, '5197': 5.0487823458630175e-05, '5198': 5.0487823458630175e-05, '5201': 5.0487823458630175e-05, '7520': 8.73689440377837e-05, '5202': 5.0487823458630175e-05, '5203': 5.0487823458630175e-05, '5207': 5.0487823458630175e-05, '5209': 5.0487823458630175e-05, '5213': 5.0487823458630175e-05, '5214': 5.0487823458630175e-05, '5216': 5.0487823458630175e-05, '5217': 5.0487823458630175e-05, '5218': 5.0487823458630175e-05, '5219': 5.0487823458630175e-05, '5220': 5.0487823458630175e-05, '5221': 5.0487823458630175e-05, '5224': 5.0487823458630175e-05, '8058': 9.478278765252284e-05, '5227': 5.0487823458630175e-05, '5228': 5.0487823458630175e-05, '5225': 5.0487823458630175e-05, '5229': 5.0487823458630175e-05, '5230': 5.0487823458630175e-05, '5232': 5.0487823458630175e-05, '5238': 5.0487823458630175e-05, '5242': 5.0487823458630175e-05, '5244': 5.0487823458630175e-05, '5241': 5.0487823458630175e-05, '5243': 5.0487823458630175e-05, '5250': 5.0487823458630175e-05, '5247': 5.0487823458630175e-05, '5248': 5.0487823458630175e-05, '5249': 5.0487823458630175e-05, '5252': 5.0487823458630175e-05, '5251': 5.0487823458630175e-05, '5261': 5.0487823458630175e-05, '4407': 5.0487823458630175e-05, '5265': 5.0487823458630175e-05, '5275': 5.0487823458630175e-05, '5276': 5.0487823458630175e-05, '5277': 5.0487823458630175e-05, '5278': 5.0487823458630175e-05, '5280': 5.0487823458630175e-05, '5281': 5.0487823458630175e-05, '5282': 5.0487823458630175e-05, '5283': 5.0487823458630175e-05, '5287': 5.0487823458630175e-05, '5284': 5.0487823458630175e-05, '5286': 5.0487823458630175e-05, '5290': 5.0487823458630175e-05, '5291': 5.0487823458630175e-05, '5294': 5.0487823458630175e-05, '5299': 5.0487823458630175e-05, '5300': 5.0487823458630175e-05, '5313': 5.0487823458630175e-05, '5314': 5.0487823458630175e-05, '5315': 5.0487823458630175e-05, '5316': 5.0487823458630175e-05, '5317': 5.0487823458630175e-05, '5320': 5.0487823458630175e-05, '5322': 5.0487823458630175e-05, '5324': 5.0487823458630175e-05, '5328': 5.0487823458630175e-05, '5329': 5.0487823458630175e-05, '5330': 5.0487823458630175e-05, '5333': 5.0487823458630175e-05, '5332': 5.0487823458630175e-05, '5334': 5.0487823458630175e-05, '5336': 5.0487823458630175e-05, '5339': 5.0487823458630175e-05, '5337': 5.0487823458630175e-05, '5342': 5.0487823458630175e-05, '5343': 5.0487823458630175e-05, '5344': 5.0487823458630175e-05, '5345': 5.0487823458630175e-05, '5346': 5.0487823458630175e-05, '5347': 5.0487823458630175e-05, '5348': 5.0487823458630175e-05, '5352': 5.0487823458630175e-05, '5353': 5.0487823458630175e-05, '5355': 5.0487823458630175e-05, '4591': 5.0487823458630175e-05, '5356': 5.0487823458630175e-05, '5357': 5.0487823458630175e-05, '5358': 5.0487823458630175e-05, '5264': 5.0487823458630175e-05, '5360': 5.0487823458630175e-05, '5361': 5.0487823458630175e-05, '5365': 5.0487823458630175e-05, '5366': 5.0487823458630175e-05, '5367': 5.0487823458630175e-05, '5370': 5.0487823458630175e-05, '5371': 5.0487823458630175e-05, '5372': 5.0487823458630175e-05, '5373': 5.0487823458630175e-05, '5374': 5.0487823458630175e-05, '5376': 5.0487823458630175e-05, '5377': 5.0487823458630175e-05, '5380': 5.0487823458630175e-05, '5381': 5.0487823458630175e-05, '5382': 5.0487823458630175e-05, '5385': 5.0487823458630175e-05, '5386': 5.0487823458630175e-05, '5390': 5.0487823458630175e-05, '5391': 5.0487823458630175e-05, '5395': 5.0487823458630175e-05, '5397': 5.0487823458630175e-05, '5398': 5.0487823458630175e-05, '5405': 5.0487823458630175e-05, '5399': 5.0487823458630175e-05, '5400': 5.0487823458630175e-05, '5401': 5.0487823458630175e-05, '5413': 5.0487823458630175e-05, '5414': 9.350161227223095e-05, '5416': 5.0487823458630175e-05, '5418': 5.0487823458630175e-05, '5424': 5.0487823458630175e-05, '5419': 5.0487823458630175e-05, '5422': 5.0487823458630175e-05, '5427': 5.0487823458630175e-05, '5428': 5.0487823458630175e-05, '5429': 5.0487823458630175e-05, '5431': 5.0487823458630175e-05, '5435': 5.0487823458630175e-05, '5436': 5.0487823458630175e-05, '5438': 5.0487823458630175e-05, '5440': 5.0487823458630175e-05, '5643': 9.888658672418148e-05, '7359': 0.00011092144207035088, '5446': 5.0487823458630175e-05, '5447': 5.0487823458630175e-05, '5448': 5.0487823458630175e-05, '5456': 5.0487823458630175e-05, '5455': 5.0487823458630175e-05, '5460': 5.0487823458630175e-05, '5461': 5.0487823458630175e-05, '5468': 5.0487823458630175e-05, '5472': 5.0487823458630175e-05, '5473': 5.0487823458630175e-05, '5474': 5.0487823458630175e-05, '5475': 5.0487823458630175e-05, '5476': 5.0487823458630175e-05, '5477': 5.0487823458630175e-05, '5478': 5.0487823458630175e-05, '5480': 5.0487823458630175e-05, '5483': 5.0487823458630175e-05, '5485': 5.0487823458630175e-05, '5486': 5.0487823458630175e-05, '5488': 5.0487823458630175e-05, '5489': 5.0487823458630175e-05, '5490': 5.0487823458630175e-05, '5491': 5.0487823458630175e-05, '5494': 5.0487823458630175e-05, '5495': 5.0487823458630175e-05, '5496': 5.0487823458630175e-05, '5462': 5.0487823458630175e-05, '5497': 5.0487823458630175e-05, '5501': 5.0487823458630175e-05, '5504': 5.0487823458630175e-05, '5505': 5.0487823458630175e-05, '5507': 5.0487823458630175e-05, '5508': 5.0487823458630175e-05, '5510': 5.0487823458630175e-05, '5512': 5.0487823458630175e-05, '5515': 5.0487823458630175e-05, '5516': 5.0487823458630175e-05, '5517': 5.0487823458630175e-05, '5518': 5.0487823458630175e-05, '5519': 5.0487823458630175e-05, '5520': 5.0487823458630175e-05, '5521': 5.0487823458630175e-05, '5522': 5.0487823458630175e-05, '5523': 5.0487823458630175e-05, '7740': 9.759656664397967e-05, '5525': 5.0487823458630175e-05, '5526': 5.0487823458630175e-05, '5530': 5.0487823458630175e-05, '5531': 5.0487823458630175e-05, '5528': 5.0487823458630175e-05, '5532': 5.0487823458630175e-05, '5534': 5.0487823458630175e-05, '5535': 5.0487823458630175e-05, '5536': 5.0487823458630175e-05, '5537': 5.0487823458630175e-05, '5193': 5.0487823458630175e-05, '5540': 5.0487823458630175e-05, '5541': 5.0487823458630175e-05, '5542': 5.0487823458630175e-05, '5544': 5.0487823458630175e-05, '5548': 5.0487823458630175e-05, '5549': 5.0487823458630175e-05, '5550': 5.0487823458630175e-05, '5551': 5.0487823458630175e-05, '5554': 5.0487823458630175e-05, '5552': 5.0487823458630175e-05, '5553': 5.0487823458630175e-05, '5555': 5.0487823458630175e-05, '5558': 5.0487823458630175e-05, '5561': 5.0487823458630175e-05, '5562': 5.0487823458630175e-05, '5565': 5.0487823458630175e-05, '5566': 5.0487823458630175e-05, '5567': 5.0487823458630175e-05, '5571': 5.0487823458630175e-05, '5572': 5.0487823458630175e-05, '5573': 5.0487823458630175e-05, '5577': 5.0487823458630175e-05, '5576': 5.0487823458630175e-05, '5578': 5.0487823458630175e-05, '5579': 5.0487823458630175e-05, '5580': 5.0487823458630175e-05, '5581': 5.0487823458630175e-05, '5583': 5.0487823458630175e-05, '5587': 5.0487823458630175e-05, '5589': 5.0487823458630175e-05, '5591': 5.0487823458630175e-05, '5594': 5.0487823458630175e-05, '5595': 5.0487823458630175e-05, '5598': 5.0487823458630175e-05, '5599': 5.0487823458630175e-05, '5600': 5.0487823458630175e-05, '5601': 5.0487823458630175e-05, '5602': 5.0487823458630175e-05, '5603': 5.0487823458630175e-05, '5604': 5.0487823458630175e-05, '5606': 5.0487823458630175e-05, '5607': 5.0487823458630175e-05, '5608': 5.0487823458630175e-05, '5612': 5.0487823458630175e-05, '5609': 5.0487823458630175e-05, '5610': 5.0487823458630175e-05, '5611': 5.0487823458630175e-05, '5613': 5.0487823458630175e-05, '5615': 5.0487823458630175e-05, '5616': 5.0487823458630175e-05, '5617': 5.0487823458630175e-05, '5622': 5.0487823458630175e-05, '5396': 5.0487823458630175e-05, '5627': 5.0487823458630175e-05, '5782': 6.297966760912127e-05, '5625': 5.0487823458630175e-05, '5628': 5.0487823458630175e-05, '5629': 5.0487823458630175e-05, '5633': 5.0487823458630175e-05, '5644': 5.0487823458630175e-05, '5636': 5.0487823458630175e-05, '5645': 5.0487823458630175e-05, '5646': 5.0487823458630175e-05, '5648': 5.0487823458630175e-05, '5649': 5.0487823458630175e-05, '5652': 5.0487823458630175e-05, '5653': 5.0487823458630175e-05, '7246': 9.04555416739792e-05, '7273': 7.536303233008595e-05, '7534': 6.217253278758383e-05, '5656': 5.0487823458630175e-05, '5657': 5.0487823458630175e-05, '5658': 5.0487823458630175e-05, '5659': 5.0487823458630175e-05, '5660': 5.0487823458630175e-05, '5661': 5.0487823458630175e-05, '5662': 5.0487823458630175e-05, '5668': 5.0487823458630175e-05, '5647': 5.0487823458630175e-05, '5666': 5.0487823458630175e-05, '5667': 5.0487823458630175e-05, '5669': 5.0487823458630175e-05, '5670': 5.0487823458630175e-05, '5674': 5.0487823458630175e-05, '5675': 5.0487823458630175e-05, '5676': 5.0487823458630175e-05, '5678': 5.0487823458630175e-05, '5679': 9.350161227223095e-05, '5682': 5.0487823458630175e-05, '5686': 5.0487823458630175e-05, '5685': 5.0487823458630175e-05, '5687': 5.0487823458630175e-05, '5688': 5.0487823458630175e-05, '5689': 5.0487823458630175e-05, '5690': 5.0487823458630175e-05, '5691': 5.0487823458630175e-05, '5692': 5.0487823458630175e-05, '5695': 5.0487823458630175e-05, '5698': 5.0487823458630175e-05, '5696': 5.0487823458630175e-05, '5702': 5.0487823458630175e-05, '5703': 5.0487823458630175e-05, '5704': 5.0487823458630175e-05, '5708': 5.0487823458630175e-05, '5707': 5.0487823458630175e-05, '5710': 5.0487823458630175e-05, '5711': 5.0487823458630175e-05, '5712': 5.0487823458630175e-05, '5717': 5.0487823458630175e-05, '5718': 5.0487823458630175e-05, '5720': 5.0487823458630175e-05, '5722': 5.0487823458630175e-05, '5729': 5.0487823458630175e-05, '5730': 5.0487823458630175e-05, '5731': 5.0487823458630175e-05, '5733': 5.0487823458630175e-05, '5735': 5.0487823458630175e-05, '5741': 5.0487823458630175e-05, '4418': 5.0487823458630175e-05, '5744': 5.0487823458630175e-05, '5746': 5.0487823458630175e-05, '5750': 5.0487823458630175e-05, '5747': 5.0487823458630175e-05, '5748': 5.0487823458630175e-05, '5749': 5.0487823458630175e-05, '5751': 5.0487823458630175e-05, '5752': 5.0487823458630175e-05, '5755': 5.0487823458630175e-05, '5761': 5.0487823458630175e-05, '5763': 5.0487823458630175e-05, '5764': 5.0487823458630175e-05, '5765': 5.0487823458630175e-05, '5766': 5.0487823458630175e-05, '5767': 9.350161227223095e-05, '5768': 5.0487823458630175e-05, '5769': 5.0487823458630175e-05, '5770': 5.0487823458630175e-05, '5771': 5.0487823458630175e-05, '5774': 5.0487823458630175e-05, '5781': 5.0487823458630175e-05, '5783': 5.0487823458630175e-05, '5785': 5.0487823458630175e-05, '5786': 5.0487823458630175e-05, '5787': 5.0487823458630175e-05, '5788': 5.0487823458630175e-05, '5789': 5.0487823458630175e-05, '5794': 5.0487823458630175e-05, '5796': 5.0487823458630175e-05, '5797': 5.0487823458630175e-05, '7583': 6.742110832344993e-05, '8271': 5.9593537620525745e-05, '5803': 5.0487823458630175e-05, '6756': 5.645938504473752e-05, '7533': 0.00010801918553989085, '5805': 5.0487823458630175e-05, '5808': 5.0487823458630175e-05, '5810': 5.0487823458630175e-05, '5813': 5.0487823458630175e-05, '6987': 5.429843616576224e-05, '7508': 6.759327703920637e-05, '5815': 5.0487823458630175e-05, '6871': 5.909058122135034e-05, '5816': 5.0487823458630175e-05, '5820': 5.0487823458630175e-05, '5821': 5.0487823458630175e-05, '7690': 5.491875043116696e-05, '5823': 5.0487823458630175e-05, '5833': 5.0487823458630175e-05, '5834': 5.0487823458630175e-05, '5842': 5.0487823458630175e-05, '5840': 5.0487823458630175e-05, '5841': 5.0487823458630175e-05, '5836': 5.0487823458630175e-05, '5846': 5.0487823458630175e-05, '5852': 5.0487823458630175e-05, '5853': 5.0487823458630175e-05, '5854': 5.0487823458630175e-05, '3788': 5.0487823458630175e-05, '5855': 5.0487823458630175e-05, '5856': 5.0487823458630175e-05, '5857': 5.0487823458630175e-05, '5859': 5.0487823458630175e-05, '5861': 5.0487823458630175e-05, '5862': 5.0487823458630175e-05, '5864': 5.0487823458630175e-05, '5866': 5.0487823458630175e-05, '5868': 5.0487823458630175e-05, '7506': 6.638147158651212e-05, '5873': 5.0487823458630175e-05, '5874': 5.0487823458630175e-05, '5875': 5.0487823458630175e-05, '5876': 5.0487823458630175e-05, '5877': 5.0487823458630175e-05, '5878': 5.0487823458630175e-05, '5883': 5.0487823458630175e-05, '5884': 5.0487823458630175e-05, '5885': 5.0487823458630175e-05, '5888': 5.0487823458630175e-05, '5889': 5.0487823458630175e-05, '5890': 5.0487823458630175e-05, '5590': 5.0487823458630175e-05, '5892': 5.0487823458630175e-05, '5895': 5.0487823458630175e-05, '5896': 5.0487823458630175e-05, '5899': 5.0487823458630175e-05, '5070': 5.0487823458630175e-05, '5903': 5.0487823458630175e-05, '4767': 5.0487823458630175e-05, '5907': 5.0487823458630175e-05, '5911': 5.0487823458630175e-05, '5908': 5.0487823458630175e-05, '5909': 5.0487823458630175e-05, '5913': 5.0487823458630175e-05, '5915': 5.0487823458630175e-05, '5916': 5.0487823458630175e-05, '4927': 5.0487823458630175e-05, '5914': 5.0487823458630175e-05, '5917': 5.0487823458630175e-05, '5919': 5.0487823458630175e-05, '5920': 5.0487823458630175e-05, '5921': 5.0487823458630175e-05, '5923': 5.0487823458630175e-05, '5924': 5.0487823458630175e-05, '5927': 5.0487823458630175e-05, '5930': 5.0487823458630175e-05, '5934': 5.0487823458630175e-05, '5935': 5.0487823458630175e-05, '5937': 5.0487823458630175e-05, '5938': 5.0487823458630175e-05, '5942': 5.0487823458630175e-05, '5939': 5.0487823458630175e-05, '5940': 5.0487823458630175e-05, '5941': 5.0487823458630175e-05, '5944': 5.0487823458630175e-05, '5945': 5.0487823458630175e-05, '5946': 5.0487823458630175e-05, '5952': 5.0487823458630175e-05, '5962': 5.0487823458630175e-05, '5964': 5.0487823458630175e-05, '5958': 5.0487823458630175e-05, '5966': 5.0487823458630175e-05, '5959': 5.0487823458630175e-05, '5960': 5.0487823458630175e-05, '5093': 5.0487823458630175e-05, '5961': 5.0487823458630175e-05, '5970': 5.0487823458630175e-05, '5971': 9.350161227223095e-05, '5981': 5.0487823458630175e-05, '5982': 5.0487823458630175e-05, '5983': 5.0487823458630175e-05, '5984': 5.0487823458630175e-05, '5985': 5.0487823458630175e-05, '5986': 5.0487823458630175e-05, '5987': 5.0487823458630175e-05, '5988': 5.0487823458630175e-05, '5989': 5.0487823458630175e-05, '5990': 5.0487823458630175e-05, '5992': 5.0487823458630175e-05, '5993': 5.0487823458630175e-05, '5997': 5.0487823458630175e-05, '6791': 7.199471786543057e-05, '5967': 5.0487823458630175e-05, '5999': 5.0487823458630175e-05, '8276': 0.00014039047712631174, '6005': 5.0487823458630175e-05, '6003': 5.0487823458630175e-05, '6641': 0.00010539350501049703, '6007': 5.0487823458630175e-05, '6013': 5.0487823458630175e-05, '4409': 5.0487823458630175e-05, '6014': 5.0487823458630175e-05, '6015': 5.0487823458630175e-05, '6016': 5.0487823458630175e-05, '6017': 5.0487823458630175e-05, '6018': 5.0487823458630175e-05, '6019': 5.0487823458630175e-05, '6020': 5.0487823458630175e-05, '6024': 5.0487823458630175e-05, '6022': 5.0487823458630175e-05, '6002': 5.0487823458630175e-05, '6025': 9.350161227223095e-05, '6026': 5.0487823458630175e-05, '6028': 5.0487823458630175e-05, '6030': 5.0487823458630175e-05, '6031': 5.0487823458630175e-05, '5978': 5.0487823458630175e-05, '6033': 5.0487823458630175e-05, '6034': 5.0487823458630175e-05, '6036': 5.0487823458630175e-05, '6037': 5.0487823458630175e-05, '6035': 5.0487823458630175e-05, '6038': 5.0487823458630175e-05, '6039': 5.0487823458630175e-05, '6042': 5.0487823458630175e-05, '6045': 5.0487823458630175e-05, '6046': 5.0487823458630175e-05, '6048': 5.0487823458630175e-05, '6049': 5.0487823458630175e-05, '6050': 5.0487823458630175e-05, '6051': 5.0487823458630175e-05, '6052': 5.0487823458630175e-05, '6053': 5.0487823458630175e-05, '6056': 5.0487823458630175e-05, '6057': 5.0487823458630175e-05, '6058': 5.0487823458630175e-05, '6060': 5.0487823458630175e-05, '6061': 5.0487823458630175e-05, '6062': 5.0487823458630175e-05, '6063': 5.0487823458630175e-05, '6064': 5.0487823458630175e-05, '6066': 5.0487823458630175e-05, '6070': 5.0487823458630175e-05, '6071': 5.0487823458630175e-05, '6072': 5.0487823458630175e-05, '6067': 5.0487823458630175e-05, '6068': 5.0487823458630175e-05, '6069': 5.0487823458630175e-05, '6073': 5.0487823458630175e-05, '6074': 5.0487823458630175e-05, '6075': 5.0487823458630175e-05, '6077': 5.0487823458630175e-05, '6079': 5.0487823458630175e-05, '6081': 5.0487823458630175e-05, '6082': 5.0487823458630175e-05, '6089': 5.0487823458630175e-05, '6090': 9.350161227223095e-05, '6091': 5.0487823458630175e-05, '6092': 5.0487823458630175e-05, '6093': 5.0487823458630175e-05, '6100': 5.0487823458630175e-05, '6101': 9.350161227223095e-05, '6108': 5.0487823458630175e-05, '6116': 5.0487823458630175e-05, '6112': 5.0487823458630175e-05, '6113': 5.0487823458630175e-05, '6114': 5.0487823458630175e-05, '6118': 5.0487823458630175e-05, '6119': 5.0487823458630175e-05, '6120': 5.0487823458630175e-05, '6121': 5.0487823458630175e-05, '6126': 5.0487823458630175e-05, '6129': 5.0487823458630175e-05, '6128': 5.0487823458630175e-05, '6127': 5.0487823458630175e-05, '6133': 5.0487823458630175e-05, '6134': 5.0487823458630175e-05, '6135': 5.0487823458630175e-05, '6141': 5.0487823458630175e-05, '6142': 5.0487823458630175e-05, '6143': 5.0487823458630175e-05, '6144': 5.0487823458630175e-05, '6145': 5.0487823458630175e-05, '6146': 5.0487823458630175e-05, '6147': 5.0487823458630175e-05, '6150': 5.0487823458630175e-05, '6152': 5.0487823458630175e-05, '6153': 5.0487823458630175e-05, '6155': 5.0487823458630175e-05, '6158': 5.0487823458630175e-05, '6157': 5.0487823458630175e-05, '6160': 5.0487823458630175e-05, '6165': 5.0487823458630175e-05, '6168': 5.0487823458630175e-05, '6169': 5.0487823458630175e-05, '6175': 5.0487823458630175e-05, '6176': 5.0487823458630175e-05, '6177': 5.0487823458630175e-05, '6178': 5.0487823458630175e-05, '6179': 5.0487823458630175e-05, '6180': 5.0487823458630175e-05, '6196': 5.0487823458630175e-05, '6197': 5.0487823458630175e-05, '6181': 5.0487823458630175e-05, '6182': 5.0487823458630175e-05, '6183': 5.0487823458630175e-05, '6184': 5.0487823458630175e-05, '6185': 5.0487823458630175e-05, '6186': 5.0487823458630175e-05, '6187': 5.0487823458630175e-05, '388': 5.0487823458630175e-05, '6188': 5.0487823458630175e-05, '6199': 5.0487823458630175e-05, '6200': 5.0487823458630175e-05, '6201': 5.0487823458630175e-05, '6202': 5.0487823458630175e-05, '6203': 5.0487823458630175e-05, '6204': 5.0487823458630175e-05, '6190': 5.0487823458630175e-05, '6205': 5.0487823458630175e-05, '6206': 5.0487823458630175e-05, '6207': 5.0487823458630175e-05, '6191': 5.0487823458630175e-05, '6192': 5.0487823458630175e-05, '6208': 5.0487823458630175e-05, '6193': 5.0487823458630175e-05, '6212': 5.0487823458630175e-05, '6213': 5.0487823458630175e-05, '6214': 5.0487823458630175e-05, '6215': 5.0487823458630175e-05, '6216': 5.0487823458630175e-05, '6217': 5.0487823458630175e-05, '6219': 5.0487823458630175e-05, '6220': 5.0487823458630175e-05, '6224': 5.0487823458630175e-05, '6222': 5.0487823458630175e-05, '6223': 5.0487823458630175e-05, '6230': 5.0487823458630175e-05, '6228': 5.0487823458630175e-05, '6232': 5.0487823458630175e-05, '6236': 5.0487823458630175e-05, '6239': 5.0487823458630175e-05, '6240': 5.0487823458630175e-05, '7590': 7.739553553729151e-05, '6242': 5.0487823458630175e-05, '6244': 5.0487823458630175e-05, '6245': 5.0487823458630175e-05, '6247': 5.0487823458630175e-05, '6248': 5.0487823458630175e-05, '6252': 5.0487823458630175e-05, '6253': 5.0487823458630175e-05, '6254': 5.0487823458630175e-05, '6258': 5.0487823458630175e-05, '6259': 9.350161227223095e-05, '6263': 5.0487823458630175e-05, '6264': 5.0487823458630175e-05, '6265': 5.0487823458630175e-05, '6266': 5.0487823458630175e-05, '6267': 9.350161227223095e-05, '6271': 5.0487823458630175e-05, '6273': 5.0487823458630175e-05, '6274': 5.0487823458630175e-05, '6275': 5.0487823458630175e-05, '6276': 5.0487823458630175e-05, '6282': 5.0487823458630175e-05, '6281': 5.0487823458630175e-05, '6286': 5.0487823458630175e-05, '6287': 5.0487823458630175e-05, '6288': 5.0487823458630175e-05, '6291': 5.0487823458630175e-05, '6292': 5.0487823458630175e-05, '6293': 5.0487823458630175e-05, '6294': 5.0487823458630175e-05, '6297': 5.0487823458630175e-05, '6295': 5.0487823458630175e-05, '6301': 5.0487823458630175e-05, '6304': 5.0487823458630175e-05, '6312': 5.0487823458630175e-05, '6313': 5.0487823458630175e-05, '6314': 5.0487823458630175e-05, '6315': 5.0487823458630175e-05, '6319': 5.0487823458630175e-05, '6132': 5.0487823458630175e-05, '6317': 5.0487823458630175e-05, '6324': 5.0487823458630175e-05, '6325': 5.0487823458630175e-05, '6326': 5.0487823458630175e-05, '6331': 5.0487823458630175e-05, '6332': 5.0487823458630175e-05, '6333': 5.0487823458630175e-05, '6339': 5.0487823458630175e-05, '6346': 5.0487823458630175e-05, '6348': 5.0487823458630175e-05, '6349': 5.0487823458630175e-05, '6350': 5.0487823458630175e-05, '4406': 5.0487823458630175e-05, '5995': 5.0487823458630175e-05, '6355': 5.0487823458630175e-05, '6356': 5.0487823458630175e-05, '6359': 5.0487823458630175e-05, '6298': 5.0487823458630175e-05, '6366': 5.0487823458630175e-05, '6351': 5.0487823458630175e-05, '6371': 5.0487823458630175e-05, '6374': 5.0487823458630175e-05, '6375': 5.0487823458630175e-05, '6377': 5.0487823458630175e-05, '6378': 5.0487823458630175e-05, '6379': 5.0487823458630175e-05, '6380': 5.0487823458630175e-05, '6381': 5.0487823458630175e-05, '7215': 7.722366044804225e-05, '6383': 5.0487823458630175e-05, '6387': 5.0487823458630175e-05, '5965': 5.0487823458630175e-05, '6389': 5.0487823458630175e-05, '6391': 5.0487823458630175e-05, '6392': 5.0487823458630175e-05, '6393': 5.0487823458630175e-05, '6394': 5.0487823458630175e-05, '6399': 5.0487823458630175e-05, '6395': 5.0487823458630175e-05, '6396': 5.0487823458630175e-05, '6397': 5.0487823458630175e-05, '6398': 5.0487823458630175e-05, '6406': 5.0487823458630175e-05, '6408': 5.0487823458630175e-05, '6410': 5.0487823458630175e-05, '6411': 5.0487823458630175e-05, '6412': 5.0487823458630175e-05, '6413': 5.0487823458630175e-05, '6415': 5.0487823458630175e-05, '6416': 5.0487823458630175e-05, '6983': 8.58096267083812e-05, '6423': 5.0487823458630175e-05, '6426': 5.0487823458630175e-05, '6429': 5.0487823458630175e-05, '6428': 5.0487823458630175e-05, '6430': 5.0487823458630175e-05, '6431': 5.0487823458630175e-05, '6436': 5.0487823458630175e-05, '6439': 5.0487823458630175e-05, '6440': 5.0487823458630175e-05, '6443': 5.0487823458630175e-05, '6444': 5.0487823458630175e-05, '6448': 5.0487823458630175e-05, '6445': 5.0487823458630175e-05, '850': 5.0487823458630175e-05, '6446': 5.0487823458630175e-05, '6450': 5.0487823458630175e-05, '6451': 5.0487823458630175e-05, '6452': 5.0487823458630175e-05, '6453': 5.0487823458630175e-05, '6454': 5.0487823458630175e-05, '6455': 5.0487823458630175e-05, '6456': 5.0487823458630175e-05, '6457': 5.0487823458630175e-05, '6459': 5.0487823458630175e-05, '6461': 5.0487823458630175e-05, '6466': 5.0487823458630175e-05, '6467': 5.0487823458630175e-05, '6468': 5.0487823458630175e-05, '6469': 5.0487823458630175e-05, '6470': 5.0487823458630175e-05, '6471': 5.0487823458630175e-05, '6477': 5.0487823458630175e-05, '6479': 5.0487823458630175e-05, '6478': 5.0487823458630175e-05, '6480': 5.0487823458630175e-05, '6483': 5.0487823458630175e-05, '6484': 5.0487823458630175e-05, '6485': 5.0487823458630175e-05, '6486': 5.0487823458630175e-05, '6487': 5.0487823458630175e-05, '6488': 5.0487823458630175e-05, '6489': 5.0487823458630175e-05, '6490': 5.0487823458630175e-05, '6492': 5.0487823458630175e-05, '6493': 5.0487823458630175e-05, '6494': 5.0487823458630175e-05, '8025': 7.671959643291233e-05, '6495': 5.0487823458630175e-05, '6497': 5.0487823458630175e-05, '6500': 5.0487823458630175e-05, '6502': 5.0487823458630175e-05, '6504': 5.0487823458630175e-05, '6506': 5.0487823458630175e-05, '6507': 5.0487823458630175e-05, '6508': 5.0487823458630175e-05, '6509': 5.0487823458630175e-05, '6510': 5.0487823458630175e-05, '6513': 5.0487823458630175e-05, '6514': 5.0487823458630175e-05, '6515': 5.0487823458630175e-05, '6516': 5.0487823458630175e-05, '6517': 5.0487823458630175e-05, '6518': 5.0487823458630175e-05, '6519': 5.0487823458630175e-05, '6520': 5.0487823458630175e-05, '6521': 5.0487823458630175e-05, '6522': 5.0487823458630175e-05, '6524': 5.0487823458630175e-05, '6525': 5.0487823458630175e-05, '6526': 5.0487823458630175e-05, '6527': 5.0487823458630175e-05, '6460': 5.0487823458630175e-05, '7765': 5.6952151275340595e-05, '6533': 5.0487823458630175e-05, '6534': 5.0487823458630175e-05, '6537': 5.0487823458630175e-05, '6535': 5.0487823458630175e-05, '6538': 5.0487823458630175e-05, '6539': 5.0487823458630175e-05, '6536': 5.0487823458630175e-05, '6541': 5.0487823458630175e-05, '6542': 5.0487823458630175e-05, '6544': 5.0487823458630175e-05, '6545': 5.0487823458630175e-05, '6546': 5.0487823458630175e-05, '6547': 5.0487823458630175e-05, '6548': 5.0487823458630175e-05, '6550': 5.0487823458630175e-05, '6561': 5.0487823458630175e-05, '6565': 5.0487823458630175e-05, '6572': 5.0487823458630175e-05, '6573': 5.0487823458630175e-05, '6574': 5.0487823458630175e-05, '6575': 5.0487823458630175e-05, '6563': 5.0487823458630175e-05, '7840': 7.519883438645841e-05, '6577': 5.0487823458630175e-05, '6578': 5.0487823458630175e-05, '6579': 5.0487823458630175e-05, '6580': 5.0487823458630175e-05, '6586': 5.0487823458630175e-05, '6581': 5.0487823458630175e-05, '6582': 5.0487823458630175e-05, '6583': 5.0487823458630175e-05, '6587': 5.0487823458630175e-05, '6584': 5.0487823458630175e-05, '6588': 5.0487823458630175e-05, '6585': 5.0487823458630175e-05, '6598': 5.0487823458630175e-05, '6601': 5.0487823458630175e-05, '6602': 5.0487823458630175e-05, '6603': 5.0487823458630175e-05, '6604': 5.0487823458630175e-05, '6605': 5.0487823458630175e-05, '6607': 5.0487823458630175e-05, '6608': 5.0487823458630175e-05, '6612': 5.0487823458630175e-05, '6619': 5.0487823458630175e-05, '6614': 5.0487823458630175e-05, '6615': 5.0487823458630175e-05, '6616': 5.0487823458630175e-05, '6617': 5.0487823458630175e-05, '6622': 5.0487823458630175e-05, '6623': 5.909058122135034e-05, '6625': 5.0487823458630175e-05, '6627': 5.0487823458630175e-05, '6626': 5.0487823458630175e-05, '6630': 5.0487823458630175e-05, '5943': 5.0487823458630175e-05, '6636': 5.0487823458630175e-05, '6633': 5.0487823458630175e-05, '6635': 5.0487823458630175e-05, '6639': 5.0487823458630175e-05, '6643': 5.0487823458630175e-05, '6644': 5.0487823458630175e-05, '6645': 5.0487823458630175e-05, '6646': 5.0487823458630175e-05, '6647': 5.0487823458630175e-05, '6655': 5.0487823458630175e-05, '6648': 5.0487823458630175e-05, '6649': 5.0487823458630175e-05, '6650': 5.0487823458630175e-05, '6651': 5.0487823458630175e-05, '6652': 5.0487823458630175e-05, '6653': 5.0487823458630175e-05, '6654': 5.0487823458630175e-05, '6656': 5.0487823458630175e-05, '6657': 5.0487823458630175e-05, '6658': 5.0487823458630175e-05, '6609': 5.0487823458630175e-05, '6660': 5.0487823458630175e-05, '6551': 5.0487823458630175e-05, '6666': 5.0487823458630175e-05, '6671': 5.0487823458630175e-05, '6672': 5.0487823458630175e-05, '6673': 5.0487823458630175e-05, '6674': 5.0487823458630175e-05, '6675': 5.0487823458630175e-05, '6676': 5.0487823458630175e-05, '6677': 5.0487823458630175e-05, '6678': 5.0487823458630175e-05, '6679': 5.0487823458630175e-05, '6683': 5.0487823458630175e-05, '6684': 5.0487823458630175e-05, '6687': 5.0487823458630175e-05, '6688': 5.0487823458630175e-05, '6689': 5.0487823458630175e-05, '6690': 5.0487823458630175e-05, '6695': 5.0487823458630175e-05, '6696': 5.0487823458630175e-05, '6697': 5.0487823458630175e-05, '6698': 5.0487823458630175e-05, '6701': 5.0487823458630175e-05, '6702': 5.0487823458630175e-05, '6703': 5.0487823458630175e-05, '6705': 5.0487823458630175e-05, '6706': 5.0487823458630175e-05, '6710': 5.0487823458630175e-05, '6711': 5.0487823458630175e-05, '6713': 5.0487823458630175e-05, '6718': 5.0487823458630175e-05, '6717': 5.0487823458630175e-05, '6719': 5.0487823458630175e-05, '6727': 5.0487823458630175e-05, '6728': 5.0487823458630175e-05, '6729': 5.0487823458630175e-05, '6730': 5.0487823458630175e-05, '6731': 5.0487823458630175e-05, '6732': 5.0487823458630175e-05, '6734': 5.0487823458630175e-05, '6735': 5.0487823458630175e-05, '6738': 5.0487823458630175e-05, '6744': 5.0487823458630175e-05, '6745': 5.0487823458630175e-05, '6746': 5.0487823458630175e-05, '6749': 5.0487823458630175e-05, '6751': 5.0487823458630175e-05, '6757': 7.199471786543057e-05, '6726': 5.0487823458630175e-05, '6752': 5.0487823458630175e-05, '6753': 5.0487823458630175e-05, '6758': 5.0487823458630175e-05, '6760': 5.0487823458630175e-05, '6761': 5.0487823458630175e-05, '6764': 5.0487823458630175e-05, '6766': 5.0487823458630175e-05, '6767': 5.0487823458630175e-05, '6768': 5.0487823458630175e-05, '6771': 5.0487823458630175e-05, '8021': 9.447975009547793e-05, '6775': 5.0487823458630175e-05, '6773': 5.0487823458630175e-05, '6779': 5.0487823458630175e-05, '6781': 5.0487823458630175e-05, '6782': 5.0487823458630175e-05, '6787': 5.0487823458630175e-05, '6793': 5.0487823458630175e-05, '6794': 5.0487823458630175e-05, '6795': 5.0487823458630175e-05, '6797': 5.0487823458630175e-05, '6798': 5.0487823458630175e-05, '6800': 5.0487823458630175e-05, '6801': 5.0487823458630175e-05, '6802': 5.0487823458630175e-05, '6804': 5.0487823458630175e-05, '6808': 5.0487823458630175e-05, '6807': 5.0487823458630175e-05, '6810': 5.0487823458630175e-05, '6812': 5.0487823458630175e-05, '6811': 5.0487823458630175e-05, '6815': 5.0487823458630175e-05, '6816': 5.0487823458630175e-05, '6818': 5.0487823458630175e-05, '6819': 5.0487823458630175e-05, '5269': 5.0487823458630175e-05, '6821': 5.0487823458630175e-05, '6822': 5.0487823458630175e-05, '6824': 5.0487823458630175e-05, '6776': 5.0487823458630175e-05, '6828': 5.0487823458630175e-05, '6829': 5.0487823458630175e-05, '6834': 5.0487823458630175e-05, '6835': 5.0487823458630175e-05, '6836': 5.0487823458630175e-05, '6837': 5.0487823458630175e-05, '6841': 5.0487823458630175e-05, '6842': 5.0487823458630175e-05, '6843': 5.0487823458630175e-05, '6844': 5.0487823458630175e-05, '6845': 5.0487823458630175e-05, '6846': 5.0487823458630175e-05, '6848': 5.0487823458630175e-05, '6847': 5.0487823458630175e-05, '6852': 5.0487823458630175e-05, '6854': 5.0487823458630175e-05, '6859': 5.0487823458630175e-05, '6620': 5.0487823458630175e-05, '6861': 5.0487823458630175e-05, '6862': 5.0487823458630175e-05, '6863': 5.0487823458630175e-05, '6864': 5.0487823458630175e-05, '6866': 5.0487823458630175e-05, '6867': 5.0487823458630175e-05, '6865': 5.0487823458630175e-05, '6870': 5.0487823458630175e-05, '6876': 5.0487823458630175e-05, '6877': 5.0487823458630175e-05, '6878': 5.0487823458630175e-05, '6880': 5.0487823458630175e-05, '6881': 5.0487823458630175e-05, '6883': 5.0487823458630175e-05, '6884': 5.0487823458630175e-05, '6885': 5.0487823458630175e-05, '6747': 5.0487823458630175e-05, '6886': 5.0487823458630175e-05, '5410': 5.0487823458630175e-05, '6895': 5.0487823458630175e-05, '6896': 5.0487823458630175e-05, '6899': 5.0487823458630175e-05, '6900': 5.0487823458630175e-05, '6902': 5.0487823458630175e-05, '6903': 5.0487823458630175e-05, '6905': 5.0487823458630175e-05, '6915': 5.0487823458630175e-05, '6906': 5.0487823458630175e-05, '6908': 5.0487823458630175e-05, '6909': 5.0487823458630175e-05, '2415': 5.0487823458630175e-05, '6910': 5.0487823458630175e-05, '6916': 5.0487823458630175e-05, '6911': 5.0487823458630175e-05, '6912': 5.0487823458630175e-05, '6921': 5.0487823458630175e-05, '6922': 5.0487823458630175e-05, '6926': 5.0487823458630175e-05, '6927': 5.0487823458630175e-05, '6928': 5.0487823458630175e-05, '6929': 5.0487823458630175e-05, '6935': 5.0487823458630175e-05, '6936': 5.0487823458630175e-05, '6940': 5.0487823458630175e-05, '6941': 5.0487823458630175e-05, '6943': 5.0487823458630175e-05, '6949': 5.0487823458630175e-05, '6947': 5.0487823458630175e-05, '6954': 5.0487823458630175e-05, '7636': 5.1503183657922236e-05, '7881': 5.26980111249667e-05, '7991': 5.3095406391826704e-05, '8007': 0.00012032286634864078, '6959': 5.0487823458630175e-05, '6692': 5.0487823458630175e-05, '6958': 5.0487823458630175e-05, '6960': 5.0487823458630175e-05, '6961': 5.0487823458630175e-05, '6962': 5.0487823458630175e-05, '6963': 5.0487823458630175e-05, '6968': 5.0487823458630175e-05, '6969': 5.0487823458630175e-05, '6316': 5.0487823458630175e-05, '6971': 5.0487823458630175e-05, '6972': 5.0487823458630175e-05, '6974': 5.0487823458630175e-05, '6975': 5.0487823458630175e-05, '6978': 5.0487823458630175e-05, '6981': 5.0487823458630175e-05, '6984': 5.0487823458630175e-05, '6985': 5.0487823458630175e-05, '6990': 5.0487823458630175e-05, '6991': 5.0487823458630175e-05, '6995': 5.0487823458630175e-05, '6996': 5.0487823458630175e-05, '6998': 5.0487823458630175e-05, '6999': 5.0487823458630175e-05, '7000': 5.0487823458630175e-05, '7001': 5.0487823458630175e-05, '7002': 5.0487823458630175e-05, '7003': 5.0487823458630175e-05, '7004': 5.0487823458630175e-05, '7006': 5.0487823458630175e-05, '7007': 5.0487823458630175e-05, '7008': 5.0487823458630175e-05, '7009': 5.0487823458630175e-05, '7010': 5.0487823458630175e-05, '7011': 5.0487823458630175e-05, '7013': 5.0487823458630175e-05, '7014': 5.0487823458630175e-05, '7015': 5.0487823458630175e-05, '7016': 5.0487823458630175e-05, '7017': 5.0487823458630175e-05, '7018': 5.0487823458630175e-05, '7019': 5.0487823458630175e-05, '7020': 5.0487823458630175e-05, '7022': 5.0487823458630175e-05, '7024': 5.0487823458630175e-05, '7025': 5.0487823458630175e-05, '7026': 5.0487823458630175e-05, '7027': 5.0487823458630175e-05, '7028': 5.0487823458630175e-05, '7029': 5.0487823458630175e-05, '7031': 5.0487823458630175e-05, '7033': 0.00013651540108583173, '7032': 5.0487823458630175e-05, '7035': 5.0487823458630175e-05, '7036': 5.0487823458630175e-05, '7037': 5.0487823458630175e-05, '7041': 5.0487823458630175e-05, '7043': 5.0487823458630175e-05, '7044': 5.0487823458630175e-05, '7051': 5.0487823458630175e-05, '7045': 5.0487823458630175e-05, '7053': 5.0487823458630175e-05, '7046': 5.0487823458630175e-05, '7055': 5.0487823458630175e-05, '7048': 5.0487823458630175e-05, '7056': 5.0487823458630175e-05, '7049': 5.0487823458630175e-05, '7057': 5.0487823458630175e-05, '7030': 5.0487823458630175e-05, '7061': 5.0487823458630175e-05, '7064': 5.0487823458630175e-05, '7065': 5.0487823458630175e-05, '7038': 5.0487823458630175e-05, '7072': 5.0487823458630175e-05, '7070': 5.0487823458630175e-05, '7071': 5.0487823458630175e-05, '7079': 5.0487823458630175e-05, '7080': 5.0487823458630175e-05, '7797': 5.110230615596733e-05, '7082': 5.0487823458630175e-05, '7085': 5.0487823458630175e-05, '7087': 5.0487823458630175e-05, '7086': 5.0487823458630175e-05, '7084': 5.0487823458630175e-05, '7090': 5.0487823458630175e-05, '5015': 5.0487823458630175e-05, '7089': 5.0487823458630175e-05, '7096': 5.0487823458630175e-05, '7095': 5.0487823458630175e-05, '7098': 5.0487823458630175e-05, '7099': 5.0487823458630175e-05, '7100': 5.0487823458630175e-05, '7103': 5.0487823458630175e-05, '7104': 5.0487823458630175e-05, '7106': 5.0487823458630175e-05, '7107': 5.0487823458630175e-05, '7109': 5.0487823458630175e-05, '7111': 5.0487823458630175e-05, '7112': 5.0487823458630175e-05, '7113': 5.0487823458630175e-05, '7114': 5.0487823458630175e-05, '7118': 5.0487823458630175e-05, '7117': 5.0487823458630175e-05, '7121': 5.0487823458630175e-05, '7123': 5.0487823458630175e-05, '7122': 5.0487823458630175e-05, '7124': 5.0487823458630175e-05, '7125': 5.0487823458630175e-05, '7127': 5.0487823458630175e-05, '7128': 5.0487823458630175e-05, '7129': 5.0487823458630175e-05, '7136': 5.0487823458630175e-05, '7130': 5.0487823458630175e-05, '7137': 5.0487823458630175e-05, '7126': 5.0487823458630175e-05, '7132': 5.0487823458630175e-05, '7133': 5.0487823458630175e-05, '7138': 5.0487823458630175e-05, '7134': 5.0487823458630175e-05, '7139': 5.0487823458630175e-05, '7140': 5.0487823458630175e-05, '7135': 5.0487823458630175e-05, '6986': 5.0487823458630175e-05, '7142': 5.0487823458630175e-05, '7145': 5.0487823458630175e-05, '7151': 5.0487823458630175e-05, '7153': 5.0487823458630175e-05, '7154': 5.0487823458630175e-05, '7155': 5.0487823458630175e-05, '7156': 5.0487823458630175e-05, '7157': 5.0487823458630175e-05, '7160': 5.0487823458630175e-05, '7158': 5.0487823458630175e-05, '7159': 5.0487823458630175e-05, '7163': 5.0487823458630175e-05, '7164': 5.0487823458630175e-05, '7165': 5.0487823458630175e-05, '7166': 5.0487823458630175e-05, '7167': 5.0487823458630175e-05, '7172': 5.0487823458630175e-05, '7173': 5.0487823458630175e-05, '7174': 5.0487823458630175e-05, '7175': 5.0487823458630175e-05, '7178': 5.0487823458630175e-05, '7179': 5.0487823458630175e-05, '7176': 5.0487823458630175e-05, '7177': 5.0487823458630175e-05, '7183': 5.0487823458630175e-05, '7184': 5.0487823458630175e-05, '7187': 5.0487823458630175e-05, '7188': 5.0487823458630175e-05, '7189': 5.0487823458630175e-05, '7190': 5.0487823458630175e-05, '7191': 9.350161227223095e-05, '7192': 5.0487823458630175e-05, '7193': 5.0487823458630175e-05, '6889': 5.0487823458630175e-05, '7194': 5.0487823458630175e-05, '7195': 9.350161227223095e-05, '7197': 5.0487823458630175e-05, '7198': 5.0487823458630175e-05, '7203': 5.0487823458630175e-05, '7205': 5.0487823458630175e-05, '7206': 5.0487823458630175e-05, '7210': 5.0487823458630175e-05, '7211': 5.0487823458630175e-05, '7212': 5.0487823458630175e-05, '7217': 5.0487823458630175e-05, '7219': 5.0487823458630175e-05, '7218': 5.0487823458630175e-05, '7220': 5.0487823458630175e-05, '7221': 5.0487823458630175e-05, '7223': 5.0487823458630175e-05, '7226': 5.0487823458630175e-05, '7227': 5.0487823458630175e-05, '7228': 5.0487823458630175e-05, '7229': 5.0487823458630175e-05, '5143': 5.0487823458630175e-05, '7230': 5.0487823458630175e-05, '7231': 5.0487823458630175e-05, '7232': 5.0487823458630175e-05, '7234': 5.0487823458630175e-05, '7235': 5.0487823458630175e-05, '7236': 5.0487823458630175e-05, '7239': 5.0487823458630175e-05, '7240': 5.0487823458630175e-05, '7241': 5.0487823458630175e-05, '7245': 5.0487823458630175e-05, '7251': 5.0487823458630175e-05, '7252': 5.0487823458630175e-05, '7253': 5.0487823458630175e-05, '7255': 5.0487823458630175e-05, '7260': 5.0487823458630175e-05, '7265': 5.0487823458630175e-05, '7266': 5.0487823458630175e-05, '7267': 5.0487823458630175e-05, '7268': 5.0487823458630175e-05, '7269': 5.0487823458630175e-05, '7270': 5.0487823458630175e-05, '7271': 5.0487823458630175e-05, '7276': 5.0487823458630175e-05, '7278': 5.0487823458630175e-05, '7282': 5.0487823458630175e-05, '7283': 5.0487823458630175e-05, '7284': 5.0487823458630175e-05, '7285': 5.0487823458630175e-05, '7286': 5.0487823458630175e-05, '7287': 5.0487823458630175e-05, '7291': 5.0487823458630175e-05, '7293': 5.0487823458630175e-05, '5949': 5.0487823458630175e-05, '7296': 5.0487823458630175e-05, '7298': 5.0487823458630175e-05, '7299': 5.0487823458630175e-05, '7300': 5.0487823458630175e-05, '7302': 5.0487823458630175e-05, '7305': 5.0487823458630175e-05, '7171': 5.0487823458630175e-05, '7309': 5.0487823458630175e-05, '7310': 5.0487823458630175e-05, '7317': 5.0487823458630175e-05, '7320': 5.0487823458630175e-05, '7294': 5.0487823458630175e-05, '7326': 5.0487823458630175e-05, '7327': 5.0487823458630175e-05, '7281': 5.0487823458630175e-05, '7329': 5.0487823458630175e-05, '7333': 5.0487823458630175e-05, '7330': 5.0487823458630175e-05, '7332': 5.0487823458630175e-05, '7335': 5.0487823458630175e-05, '7336': 5.0487823458630175e-05, '7337': 5.0487823458630175e-05, '7342': 5.0487823458630175e-05, '7345': 5.0487823458630175e-05, '7343': 5.0487823458630175e-05, '7344': 5.0487823458630175e-05, '7347': 5.0487823458630175e-05, '7348': 5.0487823458630175e-05, '7349': 5.0487823458630175e-05, '7350': 5.0487823458630175e-05, '7352': 5.0487823458630175e-05, '7353': 5.0487823458630175e-05, '7354': 5.0487823458630175e-05, '7355': 5.0487823458630175e-05, '7360': 5.0487823458630175e-05, '7363': 5.0487823458630175e-05, '7371': 5.0487823458630175e-05, '7374': 5.0487823458630175e-05, '7377': 5.0487823458630175e-05, '7379': 5.0487823458630175e-05, '7380': 5.0487823458630175e-05, '7357': 5.0487823458630175e-05, '7199': 5.0487823458630175e-05, '7382': 5.0487823458630175e-05, '7383': 5.0487823458630175e-05, '7390': 5.0487823458630175e-05, '7392': 5.0487823458630175e-05, '7321': 5.0487823458630175e-05, '7394': 5.0487823458630175e-05, '7170': 5.0487823458630175e-05, '7401': 5.0487823458630175e-05, '7402': 5.0487823458630175e-05, '7403': 5.0487823458630175e-05, '7404': 5.0487823458630175e-05, '7405': 5.0487823458630175e-05, '7409': 5.0487823458630175e-05, '7413': 5.0487823458630175e-05, '7416': 5.0487823458630175e-05, '7417': 5.0487823458630175e-05, '7418': 5.0487823458630175e-05, '7419': 5.0487823458630175e-05, '7420': 5.0487823458630175e-05, '7421': 5.0487823458630175e-05, '7424': 5.0487823458630175e-05, '7425': 5.0487823458630175e-05, '7426': 5.0487823458630175e-05, '7427': 5.0487823458630175e-05, '7428': 5.0487823458630175e-05, '7429': 5.0487823458630175e-05, '7430': 5.0487823458630175e-05, '7431': 5.0487823458630175e-05, '7441': 5.0487823458630175e-05, '7444': 5.0487823458630175e-05, '6139': 5.0487823458630175e-05, '7448': 5.0487823458630175e-05, '7445': 5.0487823458630175e-05, '7446': 5.0487823458630175e-05, '7447': 5.0487823458630175e-05, '7451': 5.0487823458630175e-05, '7452': 5.0487823458630175e-05, '7453': 5.0487823458630175e-05, '7181': 5.0487823458630175e-05, '7180': 5.0487823458630175e-05, '7454': 5.0487823458630175e-05, '7455': 5.0487823458630175e-05, '7456': 5.0487823458630175e-05, '7457': 5.0487823458630175e-05, '7458': 5.0487823458630175e-05, '7459': 5.0487823458630175e-05, '7461': 5.0487823458630175e-05, '7462': 5.0487823458630175e-05, '7465': 5.0487823458630175e-05, '7467': 0.00013651540108583173, '7466': 5.0487823458630175e-05, '7473': 5.0487823458630175e-05, '7474': 5.0487823458630175e-05, '7468': 5.0487823458630175e-05, '7469': 5.0487823458630175e-05, '7476': 5.0487823458630175e-05, '7477': 5.0487823458630175e-05, '7470': 5.0487823458630175e-05, '4532': 5.0487823458630175e-05, '7480': 5.0487823458630175e-05, '7481': 5.0487823458630175e-05, '7482': 5.0487823458630175e-05, '7483': 5.0487823458630175e-05, '7484': 5.0487823458630175e-05, '7485': 5.0487823458630175e-05, '7486': 5.0487823458630175e-05, '7487': 5.0487823458630175e-05, '7492': 5.0487823458630175e-05, '7494': 5.0487823458630175e-05, '7495': 9.350161227223095e-05, '7501': 5.0487823458630175e-05, '7502': 5.0487823458630175e-05, '7503': 5.0487823458630175e-05, '7505': 5.0487823458630175e-05, '7509': 5.0487823458630175e-05, '7471': 5.0487823458630175e-05, '7511': 5.0487823458630175e-05, '7514': 5.0487823458630175e-05, '7515': 5.0487823458630175e-05, '7513': 5.0487823458630175e-05, '7518': 5.0487823458630175e-05, '7376': 5.0487823458630175e-05, '7522': 5.0487823458630175e-05, '7523': 5.0487823458630175e-05, '7524': 5.0487823458630175e-05, '7525': 5.0487823458630175e-05, '7527': 5.0487823458630175e-05, '7528': 5.0487823458630175e-05, '7531': 5.0487823458630175e-05, '7538': 5.0487823458630175e-05, '7540': 5.0487823458630175e-05, '7535': 5.0487823458630175e-05, '7536': 5.0487823458630175e-05, '7537': 5.0487823458630175e-05, '7549': 5.0487823458630175e-05, '7545': 5.0487823458630175e-05, '7546': 5.0487823458630175e-05, '7550': 5.0487823458630175e-05, '7554': 5.0487823458630175e-05, '7563': 5.0487823458630175e-05, '7564': 5.0487823458630175e-05, '7415': 5.0487823458630175e-05, '7150': 5.0487823458630175e-05, '7565': 5.0487823458630175e-05, '7569': 5.0487823458630175e-05, '7570': 5.0487823458630175e-05, '7571': 5.0487823458630175e-05, '7572': 5.0487823458630175e-05, '7576': 5.0487823458630175e-05, '7577': 5.0487823458630175e-05, '7578': 5.0487823458630175e-05, '8165': 5.202403020197307e-05, '7579': 5.0487823458630175e-05, '7580': 5.0487823458630175e-05, '7581': 5.0487823458630175e-05, '7585': 5.0487823458630175e-05, '7586': 5.0487823458630175e-05, '7594': 5.0487823458630175e-05, '7595': 5.0487823458630175e-05, '7597': 5.0487823458630175e-05, '7598': 5.0487823458630175e-05, '7599': 5.0487823458630175e-05, '7600': 5.0487823458630175e-05, '7602': 5.0487823458630175e-05, '7605': 5.0487823458630175e-05, '5910': 5.0487823458630175e-05, '7608': 5.0487823458630175e-05, '7610': 5.0487823458630175e-05, '7611': 5.0487823458630175e-05, '7613': 5.0487823458630175e-05, '7609': 5.0487823458630175e-05, '7614': 5.0487823458630175e-05, '7615': 5.0487823458630175e-05, '7616': 5.0487823458630175e-05, '7617': 5.0487823458630175e-05, '7619': 5.0487823458630175e-05, '7623': 5.0487823458630175e-05, '7625': 5.0487823458630175e-05, '7626': 5.0487823458630175e-05, '7630': 5.0487823458630175e-05, '7629': 5.0487823458630175e-05, '7639': 5.0487823458630175e-05, '7638': 5.0487823458630175e-05, '7601': 5.0487823458630175e-05, '7644': 5.0487823458630175e-05, '7645': 5.0487823458630175e-05, '7986': 0.0001450624401751604, '7659': 5.0487823458630175e-05, '7660': 5.0487823458630175e-05, '7650': 5.0487823458630175e-05, '7661': 5.0487823458630175e-05, '7663': 5.0487823458630175e-05, '7664': 5.0487823458630175e-05, '7665': 5.0487823458630175e-05, '7670': 5.0487823458630175e-05, '7676': 5.0487823458630175e-05, '7677': 5.0487823458630175e-05, '7678': 5.0487823458630175e-05, '7679': 5.0487823458630175e-05, '7682': 5.0487823458630175e-05, '7684': 5.0487823458630175e-05, '7685': 5.0487823458630175e-05, '7687': 5.0487823458630175e-05, '7686': 5.0487823458630175e-05, '7696': 5.0487823458630175e-05, '7697': 5.0487823458630175e-05, '7698': 5.0487823458630175e-05, '7703': 5.0487823458630175e-05, '7704': 5.0487823458630175e-05, '7705': 5.0487823458630175e-05, '7706': 5.0487823458630175e-05, '7715': 5.0487823458630175e-05, '7716': 5.0487823458630175e-05, '7719': 5.0487823458630175e-05, '6367': 5.0487823458630175e-05, '7717': 5.0487823458630175e-05, '7720': 5.0487823458630175e-05, '7721': 5.0487823458630175e-05, '7724': 5.0487823458630175e-05, '7728': 5.0487823458630175e-05, '7727': 5.0487823458630175e-05, '7729': 5.0487823458630175e-05, '7732': 5.0487823458630175e-05, '7733': 5.0487823458630175e-05, '7736': 5.0487823458630175e-05, '7737': 5.0487823458630175e-05, '7738': 5.0487823458630175e-05, '7741': 5.0487823458630175e-05, '7742': 5.0487823458630175e-05, '7743': 5.0487823458630175e-05, '7744': 5.0487823458630175e-05, '7745': 5.0487823458630175e-05, '7747': 5.0487823458630175e-05, '7750': 5.0487823458630175e-05, '7751': 5.0487823458630175e-05, '7752': 5.0487823458630175e-05, '7753': 5.0487823458630175e-05, '7755': 5.0487823458630175e-05, '7756': 5.0487823458630175e-05, '7758': 5.0487823458630175e-05, '7759': 5.0487823458630175e-05, '7760': 5.0487823458630175e-05, '7761': 5.0487823458630175e-05, '7762': 5.0487823458630175e-05, '7766': 5.0487823458630175e-05, '7767': 5.0487823458630175e-05, '7768': 5.0487823458630175e-05, '7769': 5.0487823458630175e-05, '7770': 5.0487823458630175e-05, '7771': 5.0487823458630175e-05, '7772': 5.0487823458630175e-05, '7773': 5.0487823458630175e-05, '7774': 5.0487823458630175e-05, '7775': 5.0487823458630175e-05, '7777': 5.0487823458630175e-05, '7779': 5.0487823458630175e-05, '7780': 5.0487823458630175e-05, '7781': 5.0487823458630175e-05, '7782': 5.0487823458630175e-05, '7783': 5.0487823458630175e-05, '7789': 5.0487823458630175e-05, '7790': 5.0487823458630175e-05, '7792': 5.0487823458630175e-05, '7796': 5.0487823458630175e-05, '7800': 5.0487823458630175e-05, '7804': 5.0487823458630175e-05, '7801': 5.0487823458630175e-05, '7805': 5.0487823458630175e-05, '7802': 5.0487823458630175e-05, '7806': 5.0487823458630175e-05, '7808': 5.0487823458630175e-05, '7812': 5.0487823458630175e-05, '7814': 5.0487823458630175e-05, '7815': 5.0487823458630175e-05, '7818': 5.0487823458630175e-05, '7821': 5.0487823458630175e-05, '7822': 5.0487823458630175e-05, '7826': 5.0487823458630175e-05, '7827': 5.0487823458630175e-05, '7828': 5.0487823458630175e-05, '7829': 5.0487823458630175e-05, '7830': 5.0487823458630175e-05, '7831': 5.0487823458630175e-05, '7832': 5.0487823458630175e-05, '7834': 5.0487823458630175e-05, '7836': 5.0487823458630175e-05, '7837': 5.0487823458630175e-05, '7841': 5.0487823458630175e-05, '7842': 5.0487823458630175e-05, '7843': 5.0487823458630175e-05, '7844': 5.0487823458630175e-05, '7845': 5.0487823458630175e-05, '7848': 5.0487823458630175e-05, '7849': 5.0487823458630175e-05, '7852': 5.0487823458630175e-05, '7850': 5.0487823458630175e-05, '7851': 5.0487823458630175e-05, '6638': 5.0487823458630175e-05, '7853': 5.0487823458630175e-05, '7854': 5.0487823458630175e-05, '7856': 5.0487823458630175e-05, '7754': 5.0487823458630175e-05, '7863': 5.0487823458630175e-05, '7864': 5.0487823458630175e-05, '7865': 5.0487823458630175e-05, '7866': 5.0487823458630175e-05, '7867': 5.0487823458630175e-05, '7868': 5.0487823458630175e-05, '7870': 5.0487823458630175e-05, '7873': 5.0487823458630175e-05, '7875': 5.0487823458630175e-05, '7877': 5.0487823458630175e-05, '7878': 5.0487823458630175e-05, '7885': 5.0487823458630175e-05, '7883': 5.0487823458630175e-05, '7884': 5.0487823458630175e-05, '7886': 5.0487823458630175e-05, '7887': 5.0487823458630175e-05, '7888': 5.0487823458630175e-05, '7889': 5.0487823458630175e-05, '7891': 5.0487823458630175e-05, '7892': 5.0487823458630175e-05, '7893': 5.0487823458630175e-05, '7372': 5.0487823458630175e-05, '7894': 5.0487823458630175e-05, '7900': 5.0487823458630175e-05, '7901': 5.0487823458630175e-05, '7902': 5.0487823458630175e-05, '7903': 5.0487823458630175e-05, '7904': 5.0487823458630175e-05, '7905': 5.0487823458630175e-05, '7906': 5.0487823458630175e-05, '7907': 5.0487823458630175e-05, '7911': 5.0487823458630175e-05, '7869': 5.0487823458630175e-05, '7914': 5.0487823458630175e-05, '7915': 5.0487823458630175e-05, '7916': 5.0487823458630175e-05, '7919': 5.0487823458630175e-05, '7920': 5.0487823458630175e-05, '7922': 5.0487823458630175e-05, '7923': 5.0487823458630175e-05, '7925': 5.0487823458630175e-05, '7930': 5.0487823458630175e-05, '7929': 5.0487823458630175e-05, '7932': 5.0487823458630175e-05, '7933': 5.0487823458630175e-05, '7931': 5.0487823458630175e-05, '7934': 5.0487823458630175e-05, '7935': 5.0487823458630175e-05, '7937': 5.0487823458630175e-05, '7938': 5.0487823458630175e-05, '7939': 5.0487823458630175e-05, '7940': 5.0487823458630175e-05, '7941': 5.0487823458630175e-05, '7942': 5.0487823458630175e-05, '7944': 5.0487823458630175e-05, '7945': 5.0487823458630175e-05, '7948': 5.0487823458630175e-05, '7949': 5.0487823458630175e-05, '7950': 5.0487823458630175e-05, '7953': 5.0487823458630175e-05, '7954': 5.0487823458630175e-05, '7955': 5.0487823458630175e-05, '7956': 5.0487823458630175e-05, '7959': 5.0487823458630175e-05, '7960': 5.0487823458630175e-05, '7964': 5.0487823458630175e-05, '7966': 5.0487823458630175e-05, '7968': 5.0487823458630175e-05, '7969': 5.0487823458630175e-05, '7967': 5.0487823458630175e-05, '7970': 5.0487823458630175e-05, '7972': 5.0487823458630175e-05, '7973': 9.350161227223095e-05, '7974': 5.0487823458630175e-05, '7975': 5.0487823458630175e-05, '7976': 5.0487823458630175e-05, '7978': 5.0487823458630175e-05, '7980': 5.0487823458630175e-05, '7981': 5.0487823458630175e-05, '7982': 9.350161227223095e-05, '7985': 5.0487823458630175e-05, '7993': 5.0487823458630175e-05, '7995': 5.0487823458630175e-05, '7998': 5.0487823458630175e-05, '7999': 5.0487823458630175e-05, '8000': 5.0487823458630175e-05, '8001': 5.0487823458630175e-05, '8005': 5.0487823458630175e-05, '8006': 5.0487823458630175e-05, '8009': 5.0487823458630175e-05, '8010': 5.0487823458630175e-05, '8011': 5.0487823458630175e-05, '8012': 5.0487823458630175e-05, '8013': 5.0487823458630175e-05, '8014': 5.0487823458630175e-05, '8015': 9.350161227223095e-05, '8020': 5.0487823458630175e-05, '8027': 5.0487823458630175e-05, '8035': 5.0487823458630175e-05, '8036': 5.0487823458630175e-05, '8040': 5.0487823458630175e-05, '8041': 5.0487823458630175e-05, '8045': 5.0487823458630175e-05, '8046': 5.0487823458630175e-05, '8047': 5.0487823458630175e-05, '8048': 5.0487823458630175e-05, '8049': 5.0487823458630175e-05, '8052': 5.0487823458630175e-05, '8053': 5.0487823458630175e-05, '8054': 5.0487823458630175e-05, '8055': 5.0487823458630175e-05, '8056': 5.0487823458630175e-05, '8057': 5.0487823458630175e-05, '8060': 5.0487823458630175e-05, '8061': 5.0487823458630175e-05, '8062': 5.0487823458630175e-05, '8063': 5.0487823458630175e-05, '8064': 5.0487823458630175e-05, '8065': 5.0487823458630175e-05, '8066': 5.0487823458630175e-05, '8069': 5.0487823458630175e-05, '8070': 5.0487823458630175e-05, '8071': 5.0487823458630175e-05, '8072': 5.0487823458630175e-05, '8074': 5.0487823458630175e-05, '8076': 0.00013651540108583173, '8075': 5.0487823458630175e-05, '8077': 5.0487823458630175e-05, '8080': 5.0487823458630175e-05, '8081': 5.0487823458630175e-05, '8023': 5.0487823458630175e-05, '8084': 5.0487823458630175e-05, '8085': 5.0487823458630175e-05, '8086': 5.0487823458630175e-05, '8087': 5.0487823458630175e-05, '8088': 5.0487823458630175e-05, '8089': 7.199471786543057e-05, '8091': 5.0487823458630175e-05, '8092': 5.0487823458630175e-05, '8093': 5.0487823458630175e-05, '8094': 5.0487823458630175e-05, '8095': 5.0487823458630175e-05, '8096': 5.0487823458630175e-05, '8098': 5.0487823458630175e-05, '8099': 5.0487823458630175e-05, '8100': 5.0487823458630175e-05, '8101': 5.0487823458630175e-05, '8102': 5.0487823458630175e-05, '8108': 5.0487823458630175e-05, '8103': 5.0487823458630175e-05, '8104': 5.0487823458630175e-05, '8105': 5.0487823458630175e-05, '8111': 5.0487823458630175e-05, '8112': 5.0487823458630175e-05, '8106': 5.0487823458630175e-05, '8107': 5.0487823458630175e-05, '8114': 5.0487823458630175e-05, '8115': 5.0487823458630175e-05, '8109': 5.0487823458630175e-05, '8110': 5.0487823458630175e-05, '8118': 5.0487823458630175e-05, '8119': 5.0487823458630175e-05, '8120': 5.0487823458630175e-05, '8126': 5.0487823458630175e-05, '8131': 5.0487823458630175e-05, '8133': 5.0487823458630175e-05, '8135': 5.0487823458630175e-05, '8138': 5.0487823458630175e-05, '8136': 5.0487823458630175e-05, '8097': 5.0487823458630175e-05, '8137': 5.0487823458630175e-05, '8140': 5.0487823458630175e-05, '8142': 5.0487823458630175e-05, '8144': 5.0487823458630175e-05, '8145': 5.0487823458630175e-05, '8146': 5.0487823458630175e-05, '8147': 5.0487823458630175e-05, '8152': 5.0487823458630175e-05, '8153': 5.0487823458630175e-05, '8155': 5.0487823458630175e-05, '8156': 5.0487823458630175e-05, '8158': 5.0487823458630175e-05, '8159': 5.0487823458630175e-05, '8157': 5.0487823458630175e-05, '8161': 5.0487823458630175e-05, '8162': 5.0487823458630175e-05, '8166': 5.0487823458630175e-05, '8167': 5.0487823458630175e-05, '8170': 5.0487823458630175e-05, '8171': 5.0487823458630175e-05, '8172': 5.0487823458630175e-05, '8173': 5.0487823458630175e-05, '8177': 5.0487823458630175e-05, '7472': 5.0487823458630175e-05, '8179': 5.0487823458630175e-05, '8184': 5.0487823458630175e-05, '8180': 5.0487823458630175e-05, '8181': 5.0487823458630175e-05, '8182': 5.0487823458630175e-05, '8183': 5.0487823458630175e-05, '8187': 5.0487823458630175e-05, '8189': 5.0487823458630175e-05, '7861': 5.0487823458630175e-05, '8190': 5.0487823458630175e-05, '8193': 5.0487823458630175e-05, '8194': 5.0487823458630175e-05, '8195': 5.0487823458630175e-05, '8196': 5.0487823458630175e-05, '8197': 5.0487823458630175e-05, '8199': 5.0487823458630175e-05, '8202': 5.0487823458630175e-05, '8203': 5.0487823458630175e-05, '8206': 5.0487823458630175e-05, '8205': 5.0487823458630175e-05, '8211': 5.0487823458630175e-05, '8213': 5.0487823458630175e-05, '8215': 5.0487823458630175e-05, '8216': 5.0487823458630175e-05, '8221': 5.0487823458630175e-05, '8222': 5.0487823458630175e-05, '8231': 5.0487823458630175e-05, '8232': 5.0487823458630175e-05, '8233': 5.0487823458630175e-05, '8236': 5.0487823458630175e-05, '8214': 5.0487823458630175e-05, '8238': 5.0487823458630175e-05, '8241': 5.0487823458630175e-05, '8242': 5.0487823458630175e-05, '8243': 5.0487823458630175e-05, '8244': 5.0487823458630175e-05, '8245': 5.0487823458630175e-05, '8248': 5.0487823458630175e-05, '8229': 5.0487823458630175e-05, '8251': 5.0487823458630175e-05, '8252': 5.0487823458630175e-05, '8253': 5.0487823458630175e-05, '8254': 5.0487823458630175e-05, '8255': 5.0487823458630175e-05, '8256': 5.0487823458630175e-05, '8260': 5.0487823458630175e-05, '8261': 5.0487823458630175e-05, '8262': 5.0487823458630175e-05, '8264': 5.0487823458630175e-05, '8265': 5.0487823458630175e-05, '8266': 5.0487823458630175e-05, '7637': 5.0487823458630175e-05, '8270': 5.0487823458630175e-05, '8272': 5.0487823458630175e-05, '8273': 5.0487823458630175e-05, '8150': 5.0487823458630175e-05, '8274': 5.0487823458630175e-05}\n"
     ]
    }
   ],
   "source": [
    "# A7. (~2-3 lines)\n",
    "# YOUR CODE HERE\n",
    "import urllib.request\n",
    "import gzip\n",
    "import networkx as nx\n",
    "import pandas as pd\n",
    "\n",
    "url = \"http://snap.stanford.edu/data/wiki-Vote.txt.gz\"\n",
    "file_path, _ = urllib.request.urlretrieve(url)\n",
    "\n",
    "with gzip.open(file_path, \"rt\", encoding=\"utf-8\") as f:\n",
    "    G = nx.read_edgelist(f, create_using=nx.DiGraph(), comments='#')\n",
    "\n",
    "pagerank_scores = nx.pagerank(G)\n",
    "print(pagerank_scores)\n"
   ]
  },
  {
   "cell_type": "code",
   "execution_count": 64,
   "metadata": {
    "colab": {
     "base_uri": "https://localhost:8080/"
    },
    "id": "nM9rIxS-W8u0",
    "outputId": "71f71a08-c786-4824-9bb7-b6eee6e0158f"
   },
   "outputs": [
    {
     "name": "stdout",
     "output_type": "stream",
     "text": [
      "7115\n",
      "103689\n"
     ]
    }
   ],
   "source": [
    "print(G.number_of_nodes())\n",
    "print(G.number_of_edges())"
   ]
  },
  {
   "cell_type": "markdown",
   "metadata": {
    "id": "CRCc2w5mZFzs"
   },
   "source": [
    "Q8. Run the pagerank algorithm setting the probability of teleporting to 0.2, then determine the highest ranked editor."
   ]
  },
  {
   "cell_type": "code",
   "execution_count": null,
   "metadata": {
    "id": "CH0l8bRooXDM"
   },
   "outputs": [],
   "source": [
    "top_ranked_editor = None"
   ]
  },
  {
   "cell_type": "code",
   "execution_count": null,
   "metadata": {
    "deletable": false,
    "id": "Z9YeSlJCS62o",
    "nbgrader": {
     "cell_type": "code",
     "checksum": "764463d90d589e38d6dee388690d83da",
     "grade": true,
     "grade_id": "pagerank_8",
     "locked": false,
     "points": 2,
     "schema_version": 3,
     "solution": true,
     "task": false
    }
   },
   "outputs": [
    {
     "data": {
      "text/html": [
       "<div>\n",
       "<style scoped>\n",
       "    .dataframe tbody tr th:only-of-type {\n",
       "        vertical-align: middle;\n",
       "    }\n",
       "\n",
       "    .dataframe tbody tr th {\n",
       "        vertical-align: top;\n",
       "    }\n",
       "\n",
       "    .dataframe thead th {\n",
       "        text-align: right;\n",
       "    }\n",
       "</style>\n",
       "<table border=\"1\" class=\"dataframe\">\n",
       "  <thead>\n",
       "    <tr style=\"text-align: right;\">\n",
       "      <th></th>\n",
       "      <th>Top Ranked Editor</th>\n",
       "      <th>PageRank Score</th>\n",
       "    </tr>\n",
       "  </thead>\n",
       "  <tbody>\n",
       "    <tr>\n",
       "      <th>0</th>\n",
       "      <td>4037</td>\n",
       "      <td>0.004519</td>\n",
       "    </tr>\n",
       "  </tbody>\n",
       "</table>\n",
       "</div>"
      ],
      "text/plain": [
       "  Top Ranked Editor  PageRank Score\n",
       "0              4037        0.004519"
      ]
     },
     "execution_count": 65,
     "metadata": {},
     "output_type": "execute_result"
    }
   ],
   "source": [
    "# A8. (~2-4 lines)\n",
    "# YOUR CODE HERE\n",
    "pagerank_scores_teleport = nx.pagerank(G, alpha=0.8)\n",
    "\n",
    "top_ranked_editor = max(pagerank_scores_teleport, key=pagerank_scores_teleport.get)\n",
    "\n",
    "top_ranked_editor_df = pd.DataFrame([[top_ranked_editor, pagerank_scores_teleport[top_ranked_editor]]], \n",
    "                                    columns=[\"Top Ranked Editor\", \"PageRank Score\"])\n",
    "top_ranked_editor_df\n"
   ]
  },
  {
   "cell_type": "code",
   "execution_count": 66,
   "metadata": {
    "colab": {
     "base_uri": "https://localhost:8080/"
    },
    "id": "e3GLY0-HZcSI",
    "outputId": "f6c3daeb-34c0-4512-867f-976f9c0e6fc2"
   },
   "outputs": [
    {
     "name": "stdout",
     "output_type": "stream",
     "text": [
      "The top ranked editor is: 4037\n"
     ]
    }
   ],
   "source": [
    "print(f\"The top ranked editor is: {top_ranked_editor}\")"
   ]
  },
  {
   "cell_type": "markdown",
   "metadata": {
    "id": "fBV28rOhZ48T"
   },
   "source": [
    "Side note: in reality, some of the votes are neutral or negative. The 'sign' of the vote would have to be factored in to get a more accurate ranking."
   ]
  },
  {
   "cell_type": "markdown",
   "metadata": {
    "id": "z5hFKIfkbESH"
   },
   "source": [
    "The PageRank algorithm can slightly modified in order to compute the relative importance of other nodes for a given node $v$. The only change required is to force all teleportations to go back to node $v$.\n",
    "\n",
    "The ranking is then determined by the fraction of times a node was visited (the more times, the more important).\n",
    "\n",
    "Q9. [ISU STUDENTS ONLY] Starting from the implementation of the function `random_walk` provided above, add the teleportation step to implement `custom_pagerank`.\n",
    "\n",
    "HINT: If the current_node has no outgoing neighbors, the walker MUST teleport."
   ]
  },
  {
   "cell_type": "code",
   "execution_count": null,
   "metadata": {
    "id": "yjjezS4adw_d"
   },
   "outputs": [],
   "source": [
    "np.random.seed(4099)"
   ]
  },
  {
   "cell_type": "code",
   "execution_count": null,
   "metadata": {
    "deletable": false,
    "id": "fDMEznDubDwx",
    "nbgrader": {
     "cell_type": "code",
     "checksum": "68027eee682f859b5f8184a0f2471d28",
     "grade": true,
     "grade_id": "pagerank_9",
     "locked": false,
     "points": 4,
     "schema_version": 3,
     "solution": true,
     "task": false
    }
   },
   "outputs": [],
   "source": [
    "# A9. (~3-4 new lines)\n",
    "# YOUR CODE HERE\n",
    "raise NotImplementedError()"
   ]
  },
  {
   "cell_type": "markdown",
   "metadata": {
    "id": "ysKyfREZeEFN"
   },
   "source": [
    "Q10. [ISU STUDENTS ONLY] Use your code to find the 10 `most_important_editors` from the perspective of editor '4037' (label is a string!). Use a teleportation probability of 0.5.\n",
    "\n",
    "Note: The page rank seems to take a really long time to converge in this case. As long as your answer contains one of the top 10 from our answers, it will be considered correct.\n",
    "\n",
    "HINT: If you are using `Counter`, making the labels and counts as separate `np.arrays` is a good idea if you plan to slice them later. For instance:\n",
    "\n",
    "`labels = np.array(list(counter.keys()))`\n",
    "\n",
    "`counts = np.array(list(counter.values()))`\n"
   ]
  },
  {
   "cell_type": "code",
   "execution_count": null,
   "metadata": {
    "id": "iIp7aI7ggFIe"
   },
   "outputs": [],
   "source": [
    "start_node = '4037'\n",
    "teleport_prob = 0.5\n",
    "most_important_editors = []"
   ]
  },
  {
   "cell_type": "code",
   "execution_count": null,
   "metadata": {
    "deletable": false,
    "id": "pklR1slcZjAr",
    "nbgrader": {
     "cell_type": "code",
     "checksum": "b3eae60412bc941a82712a4660c31158",
     "grade": true,
     "grade_id": "pagerank_10",
     "locked": false,
     "points": 8,
     "schema_version": 3,
     "solution": true,
     "task": false
    }
   },
   "outputs": [],
   "source": [
    "# A10. (~8 lines)\n",
    "# YOUR CODE HERE\n",
    "raise NotImplementedError()"
   ]
  },
  {
   "cell_type": "code",
   "execution_count": null,
   "metadata": {
    "colab": {
     "base_uri": "https://localhost:8080/"
    },
    "id": "AelmusqtjCpB",
    "outputId": "61687941-8fb5-4ab0-cb21-aa556d3921a4"
   },
   "outputs": [],
   "source": [
    "print(f'Most important editors relative to {start_node}:\\n{most_important_editors}')"
   ]
  }
 ],
 "metadata": {
  "colab": {
   "provenance": [],
   "toc_visible": true
  },
  "kernelspec": {
   "display_name": ".venv",
   "language": "python",
   "name": "python3"
  },
  "language_info": {
   "codemirror_mode": {
    "name": "ipython",
    "version": 3
   },
   "file_extension": ".py",
   "mimetype": "text/x-python",
   "name": "python",
   "nbconvert_exporter": "python",
   "pygments_lexer": "ipython3",
   "version": "3.13.1"
  }
 },
 "nbformat": 4,
 "nbformat_minor": 4
}
