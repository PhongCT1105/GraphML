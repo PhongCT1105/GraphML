{
 "cells": [
  {
   "cell_type": "markdown",
   "metadata": {},
   "source": [
    "**CS 4099: ST: Graph Machine Learning**\n",
    "\n",
    "Before you turn this problem in, make sure everything runs as expected. First, **restart the kernel** (in the menubar, select Kernel $\\rightarrow$ Restart) and then **run all cells** (in the menubar, select Cell $\\rightarrow$ Run All).\n",
    "\n",
    "Make sure you fill in any place that says `YOUR CODE HERE` or \"YOUR ANSWER HERE\", and to delete the line `raise NotImplementedError()` (which are included to remind you in case you forget to solve one of the coding questions).\n",
    "\n",
    "Do not forget to include your name below:"
   ]
  },
  {
   "cell_type": "code",
   "execution_count": null,
   "metadata": {},
   "outputs": [],
   "source": [
    "NAME = \"Phong Cao\""
   ]
  },
  {
   "cell_type": "markdown",
   "metadata": {},
   "source": [
    "---"
   ]
  },
  {
   "cell_type": "markdown",
   "metadata": {
    "id": "JZ_iB7fxfEYA"
   },
   "source": [
    "# CS4099: Colab 2\n",
    "\n",
    "<font color='fucsia'>DUE: 11:59pm ET Thursday February 13</font>"
   ]
  },
  {
   "cell_type": "markdown",
   "metadata": {
    "id": "Vx_APzIMgYvN"
   },
   "source": [
    "# Network Models (9 questions + 4 ISU only)"
   ]
  },
  {
   "cell_type": "code",
   "execution_count": 3,
   "metadata": {
    "id": "eeGWEN3eiGGD"
   },
   "outputs": [],
   "source": [
    "import numpy as np\n",
    "import matplotlib.pyplot as plt\n",
    "import seaborn as sns\n",
    "import networkx as nx\n",
    "from collections import Counter"
   ]
  },
  {
   "cell_type": "markdown",
   "metadata": {
    "id": "DxyzW53kgc0l"
   },
   "source": [
    "## The $G(n,p)$ model\n",
    "\n",
    "The $G(n,p)$ model -- a.k.a. Erdős–Rényi model -- can exhbit two of the non-trivial properties discussed above, when adequately parameterized:\n",
    "-  short distances and\n",
    "-  the giant component.\n",
    "\n",
    "Let's look at these two properties for graphs generated from $G(n,p)$ with the same number of nodes ($n=10,697$) and edges ($m=31,992$) as the AS graph in the slides."
   ]
  },
  {
   "cell_type": "code",
   "execution_count": 15,
   "metadata": {
    "colab": {
     "base_uri": "https://localhost:8080/"
    },
    "id": "jQdBgYO7fDa4",
    "outputId": "2ad1c66d-2095-4215-c1bd-d071a19f50aa"
   },
   "outputs": [
    {
     "name": "stdout",
     "output_type": "stream",
     "text": [
      "p = 5.6e-04, z = 5.981\n"
     ]
    }
   ],
   "source": [
    "n = 10697\n",
    "m = 31992\n",
    "\n",
    "# compute p and the average degree z\n",
    "p = m/(n*(n-1)/2)\n",
    "z = 2*m/n   # this is more precise than z = p*(n-1)\n",
    "\n",
    "print(f\"p = {p:.1e}, z = {z:.3f}\")"
   ]
  },
  {
   "cell_type": "markdown",
   "metadata": {
    "id": "IEA7ojOig7fa"
   },
   "source": [
    "The theory states that, when $z > 1$, the average distance is $O(\\log n/\\log z)$. Note that this doesn't account for constants, but rather tell us tha tthe average distance grows no faster than $\\log n/\\log z$."
   ]
  },
  {
   "cell_type": "code",
   "execution_count": 16,
   "metadata": {
    "colab": {
     "base_uri": "https://localhost:8080/"
    },
    "id": "CdZ_58ceg3hw",
    "outputId": "645d7c98-4558-4a4e-ac8c-baf44204b40f"
   },
   "outputs": [
    {
     "name": "stdout",
     "output_type": "stream",
     "text": [
      "log n / log z = 5.187\n"
     ]
    }
   ],
   "source": [
    "print(f'log n / log z = {np.log(n)/np.log(z):.3f}')"
   ]
  },
  {
   "cell_type": "markdown",
   "metadata": {
    "id": "WwlhTM-PhGBI"
   },
   "source": [
    "Let's generate a synthetic network that has the same number of nodes and edges.\n",
    "\n",
    "Q1. Generate one network `G` from the $G(n,p)$ model using the parameters above. You are allowed to use functions from `networkx`."
   ]
  },
  {
   "cell_type": "code",
   "execution_count": 17,
   "metadata": {
    "id": "RkyiETSYi9xy"
   },
   "outputs": [],
   "source": [
    "np.random.seed(123)"
   ]
  },
  {
   "cell_type": "code",
   "execution_count": 18,
   "metadata": {
    "deletable": false,
    "id": "9dNB80Boh-Ds",
    "nbgrader": {
     "cell_type": "code",
     "checksum": "013cd1aab5b452900842e318c75d45d9",
     "grade": true,
     "grade_id": "gnp_1",
     "locked": false,
     "points": 1,
     "schema_version": 3,
     "solution": true,
     "task": false
    }
   },
   "outputs": [],
   "source": [
    "# A1. (1 line)\n",
    "# YOUR CODE HERE\n",
    "\n",
    "# Generate a random graph using the G(n, p) model\n",
    "G = nx.erdos_renyi_graph(n, p, seed=42)"
   ]
  },
  {
   "cell_type": "markdown",
   "metadata": {
    "id": "L7PqicF5iVAS"
   },
   "source": [
    "Q2. Get the size `max_size` (in number of nodes) of the largest connected component in G."
   ]
  },
  {
   "cell_type": "code",
   "execution_count": 23,
   "metadata": {
    "deletable": false,
    "id": "12iPHxLyiUXp",
    "nbgrader": {
     "cell_type": "code",
     "checksum": "4ad3931ab7a3e1912a8e22b0115c339c",
     "grade": true,
     "grade_id": "gnp_2",
     "locked": false,
     "points": 1,
     "schema_version": 3,
     "solution": true,
     "task": false
    }
   },
   "outputs": [
    {
     "data": {
      "text/plain": [
       "10668"
      ]
     },
     "execution_count": 23,
     "metadata": {},
     "output_type": "execute_result"
    }
   ],
   "source": [
    "# A2. (~2-6 lines)\n",
    "\n",
    "# YOUR CODE HERE\n",
    "# Find the largest connected component in G\n",
    "largest_cc = max(nx.connected_components(G), key=len)\n",
    "max_size = len(largest_cc)\n",
    "\n",
    "max_size\n"
   ]
  },
  {
   "cell_type": "markdown",
   "metadata": {
    "id": "E_3onI_MjNPs"
   },
   "source": [
    "\n",
    "\n",
    "Q3. So, would you say that this graph has a giant component? Did you expect this to be the case? Why?"
   ]
  },
  {
   "cell_type": "markdown",
   "metadata": {
    "deletable": false,
    "id": "aPBgcPqqjlJb",
    "nbgrader": {
     "cell_type": "markdown",
     "checksum": "47c1024cf405f04e11ea7a5a9c5caae1",
     "grade": true,
     "grade_id": "gnp_3",
     "locked": false,
     "points": 2,
     "schema_version": 3,
     "solution": true,
     "task": false
    }
   },
   "source": [
    "Yes the largest components contain 10668 nodes in 10697 nodes which is almost of the total nodes available. Yes, I did expect this because with z > 1, the G(n, p) has a giant component. In this case z = 5.981 which is much more than 1 so it have a giant component. This is the supercritical regiem case."
   ]
  },
  {
   "cell_type": "markdown",
   "metadata": {
    "id": "0IDo9zOHj_J1"
   },
   "source": [
    "Q4. We now want to study the distribution of distances in the graph. Since some nodes are unreachable, let's focus on the largest connected component (LCC). One issue is that, depending on number of nodes in the LCC, computing the distance between all pairs can be very expensive.\n",
    "\n",
    "Instead, sample a bunch `nbunch` of 100 nodes from the LCC containing only 5 nodes. Next, compute the distances between each node in `nbunch` and all the other nodes in the LCC, saving the results to `all_dist`."
   ]
  },
  {
   "cell_type": "code",
   "execution_count": 28,
   "metadata": {
    "deletable": false,
    "id": "vuexBmKNjEb4",
    "nbgrader": {
     "cell_type": "code",
     "checksum": "005f02b11bc8eef70440ac38c7bc001b",
     "grade": true,
     "grade_id": "gnp_4",
     "locked": false,
     "points": 5,
     "schema_version": 3,
     "solution": true,
     "task": false
    }
   },
   "outputs": [
    {
     "data": {
      "text/plain": [
       "[0,\n",
       " 1,\n",
       " 1,\n",
       " 1,\n",
       " 1,\n",
       " 1,\n",
       " 2,\n",
       " 2,\n",
       " 2,\n",
       " 2,\n",
       " 2,\n",
       " 2,\n",
       " 2,\n",
       " 2,\n",
       " 2,\n",
       " 2,\n",
       " 2,\n",
       " 2,\n",
       " 2,\n",
       " 2,\n",
       " 2,\n",
       " 2,\n",
       " 2,\n",
       " 2,\n",
       " 2,\n",
       " 2,\n",
       " 2,\n",
       " 2,\n",
       " 2,\n",
       " 2,\n",
       " 2,\n",
       " 2,\n",
       " 2,\n",
       " 2,\n",
       " 2,\n",
       " 2,\n",
       " 2,\n",
       " 2,\n",
       " 2,\n",
       " 3,\n",
       " 3,\n",
       " 3,\n",
       " 3,\n",
       " 3,\n",
       " 3,\n",
       " 3,\n",
       " 3,\n",
       " 3,\n",
       " 3,\n",
       " 3,\n",
       " 3,\n",
       " 3,\n",
       " 3,\n",
       " 3,\n",
       " 3,\n",
       " 3,\n",
       " 3,\n",
       " 3,\n",
       " 3,\n",
       " 3,\n",
       " 3,\n",
       " 3,\n",
       " 3,\n",
       " 3,\n",
       " 3,\n",
       " 3,\n",
       " 3,\n",
       " 3,\n",
       " 3,\n",
       " 3,\n",
       " 3,\n",
       " 3,\n",
       " 3,\n",
       " 3,\n",
       " 3,\n",
       " 3,\n",
       " 3,\n",
       " 3,\n",
       " 3,\n",
       " 3,\n",
       " 3,\n",
       " 3,\n",
       " 3,\n",
       " 3,\n",
       " 3,\n",
       " 3,\n",
       " 3,\n",
       " 3,\n",
       " 3,\n",
       " 3,\n",
       " 3,\n",
       " 3,\n",
       " 3,\n",
       " 3,\n",
       " 3,\n",
       " 3,\n",
       " 3,\n",
       " 3,\n",
       " 3,\n",
       " 3,\n",
       " 3,\n",
       " 3,\n",
       " 3,\n",
       " 3,\n",
       " 3,\n",
       " 3,\n",
       " 3,\n",
       " 3,\n",
       " 3,\n",
       " 3,\n",
       " 3,\n",
       " 3,\n",
       " 3,\n",
       " 3,\n",
       " 3,\n",
       " 3,\n",
       " 3,\n",
       " 3,\n",
       " 3,\n",
       " 3,\n",
       " 3,\n",
       " 3,\n",
       " 3,\n",
       " 3,\n",
       " 3,\n",
       " 3,\n",
       " 3,\n",
       " 3,\n",
       " 3,\n",
       " 3,\n",
       " 3,\n",
       " 3,\n",
       " 3,\n",
       " 3,\n",
       " 3,\n",
       " 3,\n",
       " 3,\n",
       " 3,\n",
       " 3,\n",
       " 3,\n",
       " 3,\n",
       " 3,\n",
       " 3,\n",
       " 3,\n",
       " 3,\n",
       " 3,\n",
       " 3,\n",
       " 3,\n",
       " 3,\n",
       " 3,\n",
       " 3,\n",
       " 3,\n",
       " 3,\n",
       " 3,\n",
       " 3,\n",
       " 3,\n",
       " 3,\n",
       " 3,\n",
       " 3,\n",
       " 3,\n",
       " 3,\n",
       " 3,\n",
       " 3,\n",
       " 3,\n",
       " 3,\n",
       " 3,\n",
       " 3,\n",
       " 3,\n",
       " 3,\n",
       " 3,\n",
       " 3,\n",
       " 3,\n",
       " 3,\n",
       " 3,\n",
       " 3,\n",
       " 3,\n",
       " 3,\n",
       " 3,\n",
       " 3,\n",
       " 3,\n",
       " 3,\n",
       " 3,\n",
       " 3,\n",
       " 3,\n",
       " 3,\n",
       " 3,\n",
       " 3,\n",
       " 3,\n",
       " 3,\n",
       " 3,\n",
       " 3,\n",
       " 3,\n",
       " 3,\n",
       " 3,\n",
       " 3,\n",
       " 3,\n",
       " 3,\n",
       " 3,\n",
       " 3,\n",
       " 3,\n",
       " 3,\n",
       " 3,\n",
       " 3,\n",
       " 3,\n",
       " 3,\n",
       " 3,\n",
       " 3,\n",
       " 3,\n",
       " 3,\n",
       " 3,\n",
       " 3,\n",
       " 3,\n",
       " 3,\n",
       " 3,\n",
       " 3,\n",
       " 3,\n",
       " 3,\n",
       " 3,\n",
       " 3,\n",
       " 3,\n",
       " 3,\n",
       " 3,\n",
       " 3,\n",
       " 3,\n",
       " 3,\n",
       " 3,\n",
       " 3,\n",
       " 3,\n",
       " 3,\n",
       " 3,\n",
       " 3,\n",
       " 3,\n",
       " 3,\n",
       " 3,\n",
       " 3,\n",
       " 3,\n",
       " 3,\n",
       " 3,\n",
       " 3,\n",
       " 3,\n",
       " 3,\n",
       " 3,\n",
       " 3,\n",
       " 3,\n",
       " 4,\n",
       " 4,\n",
       " 4,\n",
       " 4,\n",
       " 4,\n",
       " 4,\n",
       " 4,\n",
       " 4,\n",
       " 4,\n",
       " 4,\n",
       " 4,\n",
       " 4,\n",
       " 4,\n",
       " 4,\n",
       " 4,\n",
       " 4,\n",
       " 4,\n",
       " 4,\n",
       " 4,\n",
       " 4,\n",
       " 4,\n",
       " 4,\n",
       " 4,\n",
       " 4,\n",
       " 4,\n",
       " 4,\n",
       " 4,\n",
       " 4,\n",
       " 4,\n",
       " 4,\n",
       " 4,\n",
       " 4,\n",
       " 4,\n",
       " 4,\n",
       " 4,\n",
       " 4,\n",
       " 4,\n",
       " 4,\n",
       " 4,\n",
       " 4,\n",
       " 4,\n",
       " 4,\n",
       " 4,\n",
       " 4,\n",
       " 4,\n",
       " 4,\n",
       " 4,\n",
       " 4,\n",
       " 4,\n",
       " 4,\n",
       " 4,\n",
       " 4,\n",
       " 4,\n",
       " 4,\n",
       " 4,\n",
       " 4,\n",
       " 4,\n",
       " 4,\n",
       " 4,\n",
       " 4,\n",
       " 4,\n",
       " 4,\n",
       " 4,\n",
       " 4,\n",
       " 4,\n",
       " 4,\n",
       " 4,\n",
       " 4,\n",
       " 4,\n",
       " 4,\n",
       " 4,\n",
       " 4,\n",
       " 4,\n",
       " 4,\n",
       " 4,\n",
       " 4,\n",
       " 4,\n",
       " 4,\n",
       " 4,\n",
       " 4,\n",
       " 4,\n",
       " 4,\n",
       " 4,\n",
       " 4,\n",
       " 4,\n",
       " 4,\n",
       " 4,\n",
       " 4,\n",
       " 4,\n",
       " 4,\n",
       " 4,\n",
       " 4,\n",
       " 4,\n",
       " 4,\n",
       " 4,\n",
       " 4,\n",
       " 4,\n",
       " 4,\n",
       " 4,\n",
       " 4,\n",
       " 4,\n",
       " 4,\n",
       " 4,\n",
       " 4,\n",
       " 4,\n",
       " 4,\n",
       " 4,\n",
       " 4,\n",
       " 4,\n",
       " 4,\n",
       " 4,\n",
       " 4,\n",
       " 4,\n",
       " 4,\n",
       " 4,\n",
       " 4,\n",
       " 4,\n",
       " 4,\n",
       " 4,\n",
       " 4,\n",
       " 4,\n",
       " 4,\n",
       " 4,\n",
       " 4,\n",
       " 4,\n",
       " 4,\n",
       " 4,\n",
       " 4,\n",
       " 4,\n",
       " 4,\n",
       " 4,\n",
       " 4,\n",
       " 4,\n",
       " 4,\n",
       " 4,\n",
       " 4,\n",
       " 4,\n",
       " 4,\n",
       " 4,\n",
       " 4,\n",
       " 4,\n",
       " 4,\n",
       " 4,\n",
       " 4,\n",
       " 4,\n",
       " 4,\n",
       " 4,\n",
       " 4,\n",
       " 4,\n",
       " 4,\n",
       " 4,\n",
       " 4,\n",
       " 4,\n",
       " 4,\n",
       " 4,\n",
       " 4,\n",
       " 4,\n",
       " 4,\n",
       " 4,\n",
       " 4,\n",
       " 4,\n",
       " 4,\n",
       " 4,\n",
       " 4,\n",
       " 4,\n",
       " 4,\n",
       " 4,\n",
       " 4,\n",
       " 4,\n",
       " 4,\n",
       " 4,\n",
       " 4,\n",
       " 4,\n",
       " 4,\n",
       " 4,\n",
       " 4,\n",
       " 4,\n",
       " 4,\n",
       " 4,\n",
       " 4,\n",
       " 4,\n",
       " 4,\n",
       " 4,\n",
       " 4,\n",
       " 4,\n",
       " 4,\n",
       " 4,\n",
       " 4,\n",
       " 4,\n",
       " 4,\n",
       " 4,\n",
       " 4,\n",
       " 4,\n",
       " 4,\n",
       " 4,\n",
       " 4,\n",
       " 4,\n",
       " 4,\n",
       " 4,\n",
       " 4,\n",
       " 4,\n",
       " 4,\n",
       " 4,\n",
       " 4,\n",
       " 4,\n",
       " 4,\n",
       " 4,\n",
       " 4,\n",
       " 4,\n",
       " 4,\n",
       " 4,\n",
       " 4,\n",
       " 4,\n",
       " 4,\n",
       " 4,\n",
       " 4,\n",
       " 4,\n",
       " 4,\n",
       " 4,\n",
       " 4,\n",
       " 4,\n",
       " 4,\n",
       " 4,\n",
       " 4,\n",
       " 4,\n",
       " 4,\n",
       " 4,\n",
       " 4,\n",
       " 4,\n",
       " 4,\n",
       " 4,\n",
       " 4,\n",
       " 4,\n",
       " 4,\n",
       " 4,\n",
       " 4,\n",
       " 4,\n",
       " 4,\n",
       " 4,\n",
       " 4,\n",
       " 4,\n",
       " 4,\n",
       " 4,\n",
       " 4,\n",
       " 4,\n",
       " 4,\n",
       " 4,\n",
       " 4,\n",
       " 4,\n",
       " 4,\n",
       " 4,\n",
       " 4,\n",
       " 4,\n",
       " 4,\n",
       " 4,\n",
       " 4,\n",
       " 4,\n",
       " 4,\n",
       " 4,\n",
       " 4,\n",
       " 4,\n",
       " 4,\n",
       " 4,\n",
       " 4,\n",
       " 4,\n",
       " 4,\n",
       " 4,\n",
       " 4,\n",
       " 4,\n",
       " 4,\n",
       " 4,\n",
       " 4,\n",
       " 4,\n",
       " 4,\n",
       " 4,\n",
       " 4,\n",
       " 4,\n",
       " 4,\n",
       " 4,\n",
       " 4,\n",
       " 4,\n",
       " 4,\n",
       " 4,\n",
       " 4,\n",
       " 4,\n",
       " 4,\n",
       " 4,\n",
       " 4,\n",
       " 4,\n",
       " 4,\n",
       " 4,\n",
       " 4,\n",
       " 4,\n",
       " 4,\n",
       " 4,\n",
       " 4,\n",
       " 4,\n",
       " 4,\n",
       " 4,\n",
       " 4,\n",
       " 4,\n",
       " 4,\n",
       " 4,\n",
       " 4,\n",
       " 4,\n",
       " 4,\n",
       " 4,\n",
       " 4,\n",
       " 4,\n",
       " 4,\n",
       " 4,\n",
       " 4,\n",
       " 4,\n",
       " 4,\n",
       " 4,\n",
       " 4,\n",
       " 4,\n",
       " 4,\n",
       " 4,\n",
       " 4,\n",
       " 4,\n",
       " 4,\n",
       " 4,\n",
       " 4,\n",
       " 4,\n",
       " 4,\n",
       " 4,\n",
       " 4,\n",
       " 4,\n",
       " 4,\n",
       " 4,\n",
       " 4,\n",
       " 4,\n",
       " 4,\n",
       " 4,\n",
       " 4,\n",
       " 4,\n",
       " 4,\n",
       " 4,\n",
       " 4,\n",
       " 4,\n",
       " 4,\n",
       " 4,\n",
       " 4,\n",
       " 4,\n",
       " 4,\n",
       " 4,\n",
       " 4,\n",
       " 4,\n",
       " 4,\n",
       " 4,\n",
       " 4,\n",
       " 4,\n",
       " 4,\n",
       " 4,\n",
       " 4,\n",
       " 4,\n",
       " 4,\n",
       " 4,\n",
       " 4,\n",
       " 4,\n",
       " 4,\n",
       " 4,\n",
       " 4,\n",
       " 4,\n",
       " 4,\n",
       " 4,\n",
       " 4,\n",
       " 4,\n",
       " 4,\n",
       " 4,\n",
       " 4,\n",
       " 4,\n",
       " 4,\n",
       " 4,\n",
       " 4,\n",
       " 4,\n",
       " 4,\n",
       " 4,\n",
       " 4,\n",
       " 4,\n",
       " 4,\n",
       " 4,\n",
       " 4,\n",
       " 4,\n",
       " 4,\n",
       " 4,\n",
       " 4,\n",
       " 4,\n",
       " 4,\n",
       " 4,\n",
       " 4,\n",
       " 4,\n",
       " 4,\n",
       " 4,\n",
       " 4,\n",
       " 4,\n",
       " 4,\n",
       " 4,\n",
       " 4,\n",
       " 4,\n",
       " 4,\n",
       " 4,\n",
       " 4,\n",
       " 4,\n",
       " 4,\n",
       " 4,\n",
       " 4,\n",
       " 4,\n",
       " 4,\n",
       " 4,\n",
       " 4,\n",
       " 4,\n",
       " 4,\n",
       " 4,\n",
       " 4,\n",
       " 4,\n",
       " 4,\n",
       " 4,\n",
       " 4,\n",
       " 4,\n",
       " 4,\n",
       " 4,\n",
       " 4,\n",
       " 4,\n",
       " 4,\n",
       " 4,\n",
       " 4,\n",
       " 4,\n",
       " 4,\n",
       " 4,\n",
       " 4,\n",
       " 4,\n",
       " 4,\n",
       " 4,\n",
       " 4,\n",
       " 4,\n",
       " 4,\n",
       " 4,\n",
       " 4,\n",
       " 4,\n",
       " 4,\n",
       " 4,\n",
       " 4,\n",
       " 4,\n",
       " 4,\n",
       " 4,\n",
       " 4,\n",
       " 4,\n",
       " 4,\n",
       " 4,\n",
       " 4,\n",
       " 4,\n",
       " 4,\n",
       " 4,\n",
       " 4,\n",
       " 4,\n",
       " 4,\n",
       " 4,\n",
       " 4,\n",
       " 4,\n",
       " 4,\n",
       " 4,\n",
       " 4,\n",
       " 4,\n",
       " 4,\n",
       " 4,\n",
       " 4,\n",
       " 4,\n",
       " 4,\n",
       " 4,\n",
       " 4,\n",
       " 4,\n",
       " 4,\n",
       " 4,\n",
       " 4,\n",
       " 4,\n",
       " 4,\n",
       " 4,\n",
       " 4,\n",
       " 4,\n",
       " 4,\n",
       " 4,\n",
       " 4,\n",
       " 4,\n",
       " 4,\n",
       " 4,\n",
       " 4,\n",
       " 4,\n",
       " 4,\n",
       " 4,\n",
       " 4,\n",
       " 4,\n",
       " 4,\n",
       " 4,\n",
       " 4,\n",
       " 4,\n",
       " 4,\n",
       " 4,\n",
       " 4,\n",
       " 4,\n",
       " 4,\n",
       " 4,\n",
       " 4,\n",
       " 4,\n",
       " 4,\n",
       " 4,\n",
       " 4,\n",
       " 4,\n",
       " 4,\n",
       " 4,\n",
       " 4,\n",
       " 4,\n",
       " 4,\n",
       " 4,\n",
       " 4,\n",
       " 4,\n",
       " 4,\n",
       " 4,\n",
       " 4,\n",
       " 4,\n",
       " 4,\n",
       " 4,\n",
       " 4,\n",
       " 4,\n",
       " 4,\n",
       " 4,\n",
       " 4,\n",
       " 4,\n",
       " 4,\n",
       " 4,\n",
       " 4,\n",
       " 4,\n",
       " 4,\n",
       " 4,\n",
       " 4,\n",
       " 4,\n",
       " 4,\n",
       " 4,\n",
       " 4,\n",
       " 4,\n",
       " 4,\n",
       " 4,\n",
       " 4,\n",
       " 4,\n",
       " 4,\n",
       " 4,\n",
       " 4,\n",
       " 4,\n",
       " 4,\n",
       " 4,\n",
       " 4,\n",
       " 4,\n",
       " 4,\n",
       " 4,\n",
       " 4,\n",
       " 4,\n",
       " 4,\n",
       " 4,\n",
       " 4,\n",
       " 4,\n",
       " 4,\n",
       " 4,\n",
       " 4,\n",
       " 4,\n",
       " 4,\n",
       " 4,\n",
       " 4,\n",
       " 4,\n",
       " 4,\n",
       " 4,\n",
       " 4,\n",
       " 4,\n",
       " 4,\n",
       " 4,\n",
       " 4,\n",
       " 4,\n",
       " 4,\n",
       " 4,\n",
       " 4,\n",
       " 4,\n",
       " 4,\n",
       " 4,\n",
       " 4,\n",
       " 4,\n",
       " 4,\n",
       " 4,\n",
       " 4,\n",
       " 4,\n",
       " 4,\n",
       " 4,\n",
       " 4,\n",
       " 4,\n",
       " 4,\n",
       " 4,\n",
       " 4,\n",
       " 4,\n",
       " 4,\n",
       " 4,\n",
       " 4,\n",
       " 4,\n",
       " 4,\n",
       " 4,\n",
       " 4,\n",
       " 4,\n",
       " 4,\n",
       " 4,\n",
       " 4,\n",
       " 4,\n",
       " 4,\n",
       " 4,\n",
       " 4,\n",
       " 4,\n",
       " 4,\n",
       " 4,\n",
       " 4,\n",
       " 4,\n",
       " 4,\n",
       " 4,\n",
       " 4,\n",
       " 4,\n",
       " 4,\n",
       " 4,\n",
       " 4,\n",
       " 4,\n",
       " 4,\n",
       " 4,\n",
       " 4,\n",
       " 4,\n",
       " 4,\n",
       " 4,\n",
       " 4,\n",
       " 4,\n",
       " 4,\n",
       " 4,\n",
       " 4,\n",
       " 4,\n",
       " 4,\n",
       " 4,\n",
       " 4,\n",
       " 4,\n",
       " 4,\n",
       " 4,\n",
       " 4,\n",
       " 4,\n",
       " 4,\n",
       " 4,\n",
       " 4,\n",
       " 4,\n",
       " 4,\n",
       " 4,\n",
       " 4,\n",
       " 4,\n",
       " 4,\n",
       " 4,\n",
       " 4,\n",
       " 4,\n",
       " 4,\n",
       " 4,\n",
       " 4,\n",
       " 4,\n",
       " 4,\n",
       " 4,\n",
       " 4,\n",
       " 4,\n",
       " 4,\n",
       " 4,\n",
       " 4,\n",
       " 4,\n",
       " 4,\n",
       " 4,\n",
       " 4,\n",
       " 4,\n",
       " 4,\n",
       " 4,\n",
       " 4,\n",
       " 4,\n",
       " 4,\n",
       " 4,\n",
       " 4,\n",
       " 4,\n",
       " 4,\n",
       " 4,\n",
       " 4,\n",
       " 4,\n",
       " 4,\n",
       " 4,\n",
       " 4,\n",
       " 4,\n",
       " 4,\n",
       " 4,\n",
       " 4,\n",
       " 4,\n",
       " 4,\n",
       " 4,\n",
       " 4,\n",
       " 4,\n",
       " 4,\n",
       " 4,\n",
       " 4,\n",
       " 4,\n",
       " 4,\n",
       " 4,\n",
       " 4,\n",
       " 4,\n",
       " 4,\n",
       " 4,\n",
       " 4,\n",
       " 4,\n",
       " 4,\n",
       " 4,\n",
       " 4,\n",
       " 4,\n",
       " 4,\n",
       " 4,\n",
       " 4,\n",
       " 4,\n",
       " 4,\n",
       " 4,\n",
       " 4,\n",
       " 4,\n",
       " 4,\n",
       " 4,\n",
       " 4,\n",
       " 4,\n",
       " 4,\n",
       " 4,\n",
       " 4,\n",
       " 4,\n",
       " 4,\n",
       " 4,\n",
       " 4,\n",
       " 4,\n",
       " 4,\n",
       " 4,\n",
       " 4,\n",
       " 4,\n",
       " 4,\n",
       " 4,\n",
       " 4,\n",
       " 4,\n",
       " 4,\n",
       " 4,\n",
       " 4,\n",
       " 4,\n",
       " 4,\n",
       " 4,\n",
       " 4,\n",
       " 4,\n",
       " 4,\n",
       " 4,\n",
       " 4,\n",
       " 4,\n",
       " 4,\n",
       " 4,\n",
       " 4,\n",
       " ...]"
      ]
     },
     "execution_count": 28,
     "metadata": {},
     "output_type": "execute_result"
    }
   ],
   "source": [
    "# A4. (~5-6 lines)\n",
    "# YOUR CODE HERE\n",
    "import random\n",
    "\n",
    "# Sample 100 nodes from the LCC\n",
    "nbunch = random.sample(sorted(largest_cc), 100)\n",
    "\n",
    "# Compute shortest path lengths from each sampled node to all other nodes in LCC\n",
    "all_dist = {node: nx.single_source_shortest_path_length(G, node) for node in nbunch}\n",
    "all_dist = [dist for dists in all_dist.values() for dist in dists.values()]\n",
    "\n",
    "all_dist"
   ]
  },
  {
   "cell_type": "code",
   "execution_count": 29,
   "metadata": {
    "colab": {
     "base_uri": "https://localhost:8080/"
    },
    "id": "ZdWvxChWliav",
    "outputId": "2dc1dc38-3802-4644-a00d-a12fc34b37f3"
   },
   "outputs": [
    {
     "name": "stdout",
     "output_type": "stream",
     "text": [
      "The average distance is 5.428\n"
     ]
    }
   ],
   "source": [
    "print(f\"The average distance is {np.mean(all_dist):.3f}\") # is this close to what the theory suggests?"
   ]
  },
  {
   "cell_type": "markdown",
   "metadata": {
    "id": "jw4Fmq3dob5v"
   },
   "source": [
    "Below we compute the empirical pmf (probability mass function) of distances in the LCC, storing the distance values in `dist` and the respective relative frequencies in `prob`."
   ]
  },
  {
   "cell_type": "code",
   "execution_count": 30,
   "metadata": {
    "colab": {
     "base_uri": "https://localhost:8080/",
     "height": 386
    },
    "id": "4BRdK13om_hQ",
    "outputId": "b6fc4b93-5a42-4d53-84c7-13b256ce5363"
   },
   "outputs": [
    {
     "name": "stdout",
     "output_type": "stream",
     "text": [
      "Average distance: 5.428\n"
     ]
    },
    {
     "data": {
      "text/plain": [
       "<matplotlib.legend.Legend at 0x5b6b230>"
      ]
     },
     "execution_count": 30,
     "metadata": {},
     "output_type": "execute_result"
    },
    {
     "data": {
      "image/png": "[encoded data removed]",
      "text/plain": [
       "<Figure size 400x300 with 1 Axes>"
      ]
     },
     "metadata": {},
     "output_type": "display_data"
    }
   ],
   "source": [
    "# get distance distribution\n",
    "dist_count = Counter(all_dist)\n",
    "dist, cnt = zip(*dist_count.items())\n",
    "\n",
    "# convert counts to probability (relative frequency)\n",
    "prob = np.array(cnt) / len(all_dist)\n",
    "\n",
    "# compute average\n",
    "avg_dist = np.sum(np.array(dist) * prob)\n",
    "print(f\"Average distance: {avg_dist:.3f}\")\n",
    "\n",
    "fig, ax = plt.subplots(1, 1, figsize=(4, 3))\n",
    "ax.plot(dist, prob, label=f'Avg dist: {avg_dist:.3f}') # nicer to plot lines than points here\n",
    "ax.set_title(\"G(n,p): LCC distance distribution\")\n",
    "ax.set_ylabel(\"P(distance = d)\")\n",
    "ax.set_xlabel(\"distance d\")\n",
    "ax.legend()"
   ]
  },
  {
   "cell_type": "markdown",
   "metadata": {
    "id": "Ondy5Se-qPXe"
   },
   "source": [
    "A5. [ISU STUDENTS ONLY] You will now implement a graph generator based on the $G(n,p)$ model. To keep things simple, you will iterate over all pairs of nodes and randomly determine the existence of the edge."
   ]
  },
  {
   "cell_type": "code",
   "execution_count": null,
   "metadata": {
    "deletable": false,
    "id": "oHIdkRMguoaa",
    "nbgrader": {
     "cell_type": "code",
     "checksum": "6206d417d4d718592762d2f1ff016377",
     "grade": true,
     "grade_id": "gnp_5",
     "locked": false,
     "points": 5,
     "schema_version": 3,
     "solution": true,
     "task": false
    }
   },
   "outputs": [],
   "source": [
    "# A5. (5 lines)\n",
    "def gen_gnp(n, p):\n",
    "  G = nx.Graph()\n",
    "\n",
    "# YOUR CODE HERE\n",
    "raise NotImplementedError()\n",
    "  return G"
   ]
  },
  {
   "cell_type": "code",
   "execution_count": null,
   "metadata": {
    "id": "TEv-hdCYvUmq"
   },
   "outputs": [],
   "source": [
    "n = 10000\n",
    "p = 0.1\n",
    "G = gen_gnp(n, p)"
   ]
  },
  {
   "cell_type": "markdown",
   "metadata": {
    "id": "a1Krb0pOvQsm"
   },
   "source": [
    "A6. [ISU STUDENTS ONLY] The code above should take 30--60s to run. Can you think of one way to make that code more efficient? (Needs to run in less than 30s; it is OK if it ends up generating self-loops)."
   ]
  },
  {
   "cell_type": "code",
   "execution_count": null,
   "metadata": {
    "deletable": false,
    "id": "_JovqgG4v3Wu",
    "nbgrader": {
     "cell_type": "code",
     "checksum": "328db036908f1d1ab78a818464bce31a",
     "grade": true,
     "grade_id": "gnp_6",
     "locked": false,
     "points": 5,
     "schema_version": 3,
     "solution": true,
     "task": false
    }
   },
   "outputs": [],
   "source": [
    "# A6. (5 lines)\n",
    "def gen_gnp(n, p):\n",
    "  G = nx.Graph()\n",
    "\n",
    "# YOUR CODE HERE\n",
    "raise NotImplementedError()\n",
    "  return G"
   ]
  },
  {
   "cell_type": "code",
   "execution_count": null,
   "metadata": {
    "id": "CRCm6uyFv3zs"
   },
   "outputs": [],
   "source": [
    "n = 10000\n",
    "p = 0.1\n",
    "G = gen_gnp(n, p)"
   ]
  },
  {
   "cell_type": "markdown",
   "metadata": {
    "id": "NwRbODSFqBTz"
   },
   "source": [
    "## The Preferential Attachment model"
   ]
  },
  {
   "cell_type": "markdown",
   "metadata": {
    "id": "nrw38SsEqGuX"
   },
   "source": [
    "The PA model - a.k.a. Barabási-Albert model - has two parameters:\n",
    "- the size of the initial clique (not too important)\n",
    "- the number of edges $m$ added with each node\n",
    "\n",
    "Since it is a generative model, we can keep growing the graph until a desired $n$.\n",
    "\n",
    "Graphs generated from the PA model can exhibit three of the non-trivial structural properties we discussed in the lecture:\n",
    "- Short distances\n",
    "- Heavy-tailed degree distribution\n",
    "- Giant component\n",
    "\n",
    "A7. Generate a graph from the PA model with the same number of nodes ($n=10,697$) and approximately the same average degree ($m=6$) as the AS graph. (Think about what the initial graph should look like)."
   ]
  },
  {
   "cell_type": "code",
   "execution_count": 31,
   "metadata": {
    "id": "Ktm7um1jpMOB"
   },
   "outputs": [],
   "source": [
    "# generate a graph from the Barabási-Albert model\n",
    "n = 10697\n",
    "m = 6\n",
    "\n",
    "np.random.seed(123)"
   ]
  },
  {
   "cell_type": "code",
   "execution_count": 32,
   "metadata": {
    "deletable": false,
    "id": "tebAdTaCzO0j",
    "nbgrader": {
     "cell_type": "code",
     "checksum": "2c059823e1ceab1f14ba0aa956a8a3b7",
     "grade": true,
     "grade_id": "gnp_7",
     "locked": false,
     "points": 1,
     "schema_version": 3,
     "solution": true,
     "task": false
    }
   },
   "outputs": [],
   "source": [
    "# A7. (1 line)\n",
    "# YOUR CODE HERE\n",
    "G_pa = nx.barabasi_albert_graph(n, m, seed=123)"
   ]
  },
  {
   "cell_type": "markdown",
   "metadata": {
    "id": "yyJ2fCx7zg7G"
   },
   "source": [
    "The following code computes the empirical pmf (probability mass function) of the node degrees."
   ]
  },
  {
   "cell_type": "code",
   "execution_count": 33,
   "metadata": {
    "id": "zTB7822r0OV5"
   },
   "outputs": [],
   "source": [
    "from collections import Counter\n",
    "\n",
    "# get degree distribution\n",
    "degree_sequence = sorted([d for n, d in G.degree()]) # sorting is optional here\n",
    "degree_count = Counter(degree_sequence)\n",
    "deg, cnt = zip(*degree_count.items())\n",
    "\n",
    "# convert counts to probability (relative frequency)\n",
    "prob = np.array(cnt) / G.number_of_nodes()"
   ]
  },
  {
   "cell_type": "markdown",
   "metadata": {
    "id": "zUJQ4ynt0fKy"
   },
   "source": [
    "Q8. Plot the empirical CCDF (completementary cumulative distribution function), which is defined as $P(D > k)$. Set both the axes to log scale."
   ]
  },
  {
   "cell_type": "code",
   "execution_count": 39,
   "metadata": {
    "colab": {
     "base_uri": "https://localhost:8080/",
     "height": 359
    },
    "deletable": false,
    "id": "UnRt_5020y4h",
    "nbgrader": {
     "cell_type": "code",
     "checksum": "2e271b8e127d9775fac1de9220d1bf5e",
     "grade": true,
     "grade_id": "gnp_8",
     "locked": false,
     "points": 6,
     "schema_version": 3,
     "solution": true,
     "task": false
    },
    "outputId": "13487f0c-4408-42c4-ff7b-48afaabfbf28"
   },
   "outputs": [
    {
     "data": {
      "image/png": "[encoded data removed]",
      "text/plain": [
       "<Figure size 640x480 with 1 Axes>"
      ]
     },
     "metadata": {},
     "output_type": "display_data"
    }
   ],
   "source": [
    "# A8. (6-8 lines)\n",
    "# YOUR CODE HERE\n",
    "\n",
    "ccdf = 1 - np.cumsum(prob)\n",
    "\n",
    "# Plot CCDF on log-log scale\n",
    "plt.loglog(deg, ccdf, marker=\"o\", label=\"Empirical CCDF\")\n",
    "\n",
    "plt.xlabel(\"Degree (k)\")\n",
    "plt.ylabel(\"P(D > k)\")\n",
    "plt.title(\"Empirical CCDF of Degree Distribution (PA Model)\")\n",
    "plt.legend()\n",
    "plt.show()"
   ]
  },
  {
   "cell_type": "markdown",
   "metadata": {
    "id": "xzEzBO8r1DgL"
   },
   "source": [
    "Next we generate a plot where the function decreases exponentially (e.g., $y = \\exp(-x)$ and use the log-log scale, as you did above. (Does the plot look like a straight line? Which function decreases faster?)"
   ]
  },
  {
   "cell_type": "code",
   "execution_count": 40,
   "metadata": {
    "colab": {
     "base_uri": "https://localhost:8080/",
     "height": 359
    },
    "id": "_fBRwJ5o1Cx9",
    "outputId": "23d203fd-fc7b-4f36-a396-00cbe44fcd28"
   },
   "outputs": [
    {
     "data": {
      "image/png": "[encoded data removed]",
      "text/plain": [
       "<Figure size 400x300 with 1 Axes>"
      ]
     },
     "metadata": {},
     "output_type": "display_data"
    }
   ],
   "source": [
    "x = np.exp(np.linspace(1, 7, 100))\n",
    "y = np.exp(-x)\n",
    "\n",
    "fig, ax = plt.subplots(1, 1, figsize=(4, 3))\n",
    "ax.plot(x,y)\n",
    "ax.set_title(\"exponential function\")\n",
    "ax.set_ylabel(r\"exp(-x)\")\n",
    "ax.set_xlabel(\"x\")\n",
    "ax.set_xscale('log')\n",
    "ax.set_yscale('log')"
   ]
  },
  {
   "cell_type": "markdown",
   "metadata": {
    "id": "lTtvaMZvWvzd"
   },
   "source": [
    "Q9. [ISU STUDENTS ONLY] The following code shows, when adding a new node in the PA model, how to sample the nodes to connect the new edges.\n",
    "\n",
    "The idea is that nodes should be sampled in proportion to their degrees. Suppose the network have 3 nodes, indexed from 'A' to 'C'. We denote the degree of node $v$ by $d(v)$.\n",
    "\n",
    "By creating a list containing $d(v)$ copies of each node $v \\in V$ and sampling from that list uniformly at random, the probability of sampling a node $u$ will be $d(u) / \\sum_{v \\in V} d(v)$."
   ]
  },
  {
   "cell_type": "code",
   "execution_count": null,
   "metadata": {
    "colab": {
     "base_uri": "https://localhost:8080/"
    },
    "id": "g9xaY6aNUyWT",
    "outputId": "590badc4-dd4c-4031-c284-7958d377595f"
   },
   "outputs": [],
   "source": [
    "def create_list_node_labels(node_labels, degrees):\n",
    "  return [label for label, degree in zip(node_labels, degrees) for _ in range(degree)]\n",
    "\n",
    "node_labels = ['A', 'B', 'C']\n",
    "degrees = [3, 2, 4]\n",
    "\n",
    "result = create_list_node_labels(node_labels, degrees)\n",
    "print(result)"
   ]
  },
  {
   "cell_type": "markdown",
   "metadata": {
    "id": "u53qhJI-ZGfY"
   },
   "source": [
    "(a) [ISU STUDENTS ONLY] Show how to sample $m$ nodes from that list. Save the result in variable `sampled_nodes`. It is fine to have parallel edges."
   ]
  },
  {
   "cell_type": "code",
   "execution_count": null,
   "metadata": {
    "id": "Nmqz2RPYZitQ"
   },
   "outputs": [],
   "source": [
    "m = 2"
   ]
  },
  {
   "cell_type": "code",
   "execution_count": null,
   "metadata": {
    "deletable": false,
    "id": "CVm9s6a4ZFud",
    "nbgrader": {
     "cell_type": "code",
     "checksum": "170117909e54846fd843ef5c83ccc739",
     "grade": true,
     "grade_id": "gnp_9a",
     "locked": false,
     "points": 1,
     "schema_version": 3,
     "solution": true,
     "task": false
    }
   },
   "outputs": [],
   "source": [
    "# A9a. (1 line)\n",
    "# YOUR CODE HERE\n",
    "raise NotImplementedError()"
   ]
  },
  {
   "cell_type": "code",
   "execution_count": null,
   "metadata": {
    "colab": {
     "base_uri": "https://localhost:8080/"
    },
    "id": "vdC7ky80Y-JP",
    "outputId": "38f842cc-8eab-4458-c335-6fca484aeffb"
   },
   "outputs": [],
   "source": [
    "print(sampled_nodes)"
   ]
  },
  {
   "cell_type": "markdown",
   "metadata": {
    "id": "WvHnmis6Zs6o"
   },
   "source": [
    "(b) [ISU STUDENTS ONLY] Show how to update the list `result` based on the sampled nodes without recreating the list from scratch."
   ]
  },
  {
   "cell_type": "code",
   "execution_count": null,
   "metadata": {
    "deletable": false,
    "id": "FDEGvdrEZnW7",
    "nbgrader": {
     "cell_type": "code",
     "checksum": "d4f7709cd00b9945734f569c325602e0",
     "grade": true,
     "grade_id": "gnp_9b",
     "locked": false,
     "points": 1,
     "schema_version": 3,
     "solution": true,
     "task": false
    }
   },
   "outputs": [],
   "source": [
    "# A9b. (1 line)\n",
    "# YOUR CODE HERE\n",
    "raise NotImplementedError()"
   ]
  },
  {
   "cell_type": "code",
   "execution_count": null,
   "metadata": {
    "colab": {
     "base_uri": "https://localhost:8080/"
    },
    "id": "Vq5KEwnAaAuf",
    "outputId": "68444ead-7101-4a3c-faca-fc3e067b3d36"
   },
   "outputs": [],
   "source": [
    "print(result)"
   ]
  },
  {
   "cell_type": "markdown",
   "metadata": {
    "id": "v_NRBiXpaP-2"
   },
   "source": [
    "## The Small World model"
   ]
  },
  {
   "cell_type": "markdown",
   "metadata": {
    "id": "oLjJ9zQFaiiY"
   },
   "source": [
    "The Small World model a.k.a. Watts-Strogatz model - has three parameters:\n",
    "- number of nodes $n$\n",
    "- number of nearest neighbors $k$ to which a node is joined\n",
    "- probability of rewiring $p$\n",
    "\n",
    "There is a range of values $p$ that can lead to both:\n",
    "- high clustering\n",
    "- short distances\n",
    "\n",
    "We will generate a few networks from the Small World model. Next, we will compute distances and the clustering for each network."
   ]
  },
  {
   "cell_type": "markdown",
   "metadata": {
    "id": "0V-NZwTnakHy"
   },
   "source": [
    "Q10. Generate networks from the WS model using $n=10697$ and $k=6$ while varying $p$ in $\\{10^{-3}, 10^{-2}, 10^{-1}\\}$."
   ]
  },
  {
   "cell_type": "code",
   "execution_count": 41,
   "metadata": {
    "id": "j0gWonmjajkT"
   },
   "outputs": [],
   "source": [
    "n=10697\n",
    "\n",
    "p_list = [1e-3, 1e-2, 1e-1]\n",
    "n = 10697\n",
    "k = 2*3\n",
    "\n",
    "G_list = []\n",
    "np.random.seed(4099)"
   ]
  },
  {
   "cell_type": "code",
   "execution_count": null,
   "metadata": {
    "deletable": false,
    "id": "8nFu6n5vab1s",
    "nbgrader": {
     "cell_type": "code",
     "checksum": "d8c47284a9cf7a107a393010946d5542",
     "grade": true,
     "grade_id": "ws_10",
     "locked": false,
     "points": 2,
     "schema_version": 3,
     "solution": true,
     "task": false
    }
   },
   "outputs": [],
   "source": [
    "# A10. (~1-3 lines)\n",
    "# YOUR CODE HERE\n",
    "G_list = [nx.watts_strogatz_graph(n, k, p, seed=4099) for p in p_list]"
   ]
  },
  {
   "cell_type": "markdown",
   "metadata": {
    "id": "_w-kOiKsxjzA"
   },
   "source": [
    "Q11. Compute the (i) average clustering coefficient `avg_clust` for each graph and the (ii) density `density` of any of the three graphs.\n",
    "\n",
    "Think about whether it matters which graph you pick."
   ]
  },
  {
   "cell_type": "code",
   "execution_count": 46,
   "metadata": {
    "id": "XZhN_aTT0L1f"
   },
   "outputs": [],
   "source": [
    "avg_clust = []"
   ]
  },
  {
   "cell_type": "code",
   "execution_count": 47,
   "metadata": {
    "id": "ooxzI9jN0_cZ"
   },
   "outputs": [],
   "source": [
    "def get_approx_avg_dist(G, nsample=100):\n",
    "  nbunch = np.random.choice(list(G.nodes()), nsample, replace=False)\n",
    "  all_dist = []\n",
    "  for src in nbunch:\n",
    "    # compute shortest paths lengths from src to all reachable nodes\n",
    "    paths = nx.shortest_path_length(G, src)\n",
    "    all_dist += paths.values()\n",
    "\n",
    "  return np.mean(all_dist)"
   ]
  },
  {
   "cell_type": "code",
   "execution_count": 48,
   "metadata": {
    "colab": {
     "base_uri": "https://localhost:8080/"
    },
    "deletable": false,
    "id": "SMpg_vB9xg-Y",
    "nbgrader": {
     "cell_type": "code",
     "checksum": "44a0b9880072f46875028ad65b0e1e42",
     "grade": true,
     "grade_id": "ws_11",
     "locked": false,
     "points": 2,
     "schema_version": 3,
     "solution": true,
     "task": false
    },
    "outputId": "ccb346c5-796d-40f7-9cae-bf2551782a03"
   },
   "outputs": [],
   "source": [
    "# A11. (2-3 lines)\n",
    "# YOUR CODE HERE\n",
    "avg_clust = [nx.average_clustering(G) for G in G_list]\n",
    "\n",
    "density = nx.density(G_list[0])"
   ]
  },
  {
   "cell_type": "code",
   "execution_count": 49,
   "metadata": {
    "colab": {
     "base_uri": "https://localhost:8080/"
    },
    "id": "M9iNcnrnyoGe",
    "outputId": "ecded0ae-0fd0-4f43-cb59-5ee637bdb6a6"
   },
   "outputs": [
    {
     "name": "stdout",
     "output_type": "stream",
     "text": [
      "p = 1.0e-03, avg_clust = 5.985e-01\n",
      "p = 1.0e-02, avg_clust = 5.833e-01\n",
      "p = 1.0e-01, avg_clust = 4.435e-01\n",
      "Density: 5.610e-04\n"
     ]
    }
   ],
   "source": [
    "for p, avg_clust in zip(p_list, avg_clust):\n",
    "  print(f\"p = {p:.1e}, avg_clust = {avg_clust:.3e}\")\n",
    "print(f'Density: {density:.3e}')"
   ]
  },
  {
   "cell_type": "markdown",
   "metadata": {
    "id": "bi1L6P32zHxJ"
   },
   "source": [
    "Q12. Based on the above, can we conclude that some of these networks have high clustering (compared with, for example, a G(n,p) model? (2 sentences)"
   ]
  },
  {
   "cell_type": "markdown",
   "metadata": {
    "deletable": false,
    "id": "dTMUyhb6zae9",
    "nbgrader": {
     "cell_type": "markdown",
     "checksum": "977dca60010d0c06c70cb3ef6780bf6f",
     "grade": true,
     "grade_id": "ws_12",
     "locked": false,
     "points": 2,
     "schema_version": 3,
     "solution": true,
     "task": false
    }
   },
   "source": [
    "Yes, the WS model graphs with low p values show high clustering much higher then G(n, p) model, which usually have very low clustering. As p increase, clustering decrease but it still stays higher than in random graphs, meaning WS network can keep high clustering while also having shorter distances."
   ]
  },
  {
   "cell_type": "markdown",
   "metadata": {
    "id": "VQQw7u8f0ys6"
   },
   "source": [
    "Q13. [ISU STUDENTS ONLY] Knowing that the average distance in these examples is, respectively, $\\approx 155$, $\\approx 27$ and $\\approx 9$, does any of these graphs possess both the clustering and distance properties we were trying to achieve? If so, which one? Why? (~2 sentences)."
   ]
  },
  {
   "cell_type": "markdown",
   "metadata": {
    "deletable": false,
    "id": "J6kutCpR1mEH",
    "nbgrader": {
     "cell_type": "markdown",
     "checksum": "3247eb1e1f7c5584d3413e9d7adb119f",
     "grade": true,
     "grade_id": "ws_13",
     "locked": false,
     "points": 2,
     "schema_version": 3,
     "solution": true,
     "task": false
    }
   },
   "source": [
    "YOUR ANSWER HERE"
   ]
  },
  {
   "cell_type": "markdown",
   "metadata": {
    "id": "gyuEKF5F2l33"
   },
   "source": [
    "# Clustering and Community Detection (3 questions)"
   ]
  },
  {
   "cell_type": "markdown",
   "metadata": {
    "id": "qyZcmN0d6A3F"
   },
   "source": [
    "In this problem, we will use networkx to create a 16-node graph and run the Louvain algorithm for detecting communities.\n",
    "\n",
    "Q1. Use networkx functions to create the graph a graph $G$ shown in the picture below, consisting of 4 cliques of 4 nodes each, arranged in a ring."
   ]
  },
  {
   "cell_type": "markdown",
   "metadata": {
    "id": "QOil7NnR6PA4"
   },
   "source": [
    "\n",
    "\n",
    "![image.png](data:image/png;base64,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)"
   ]
  },
  {
   "cell_type": "markdown",
   "metadata": {
    "id": "LmEG8O_D9u3u"
   },
   "source": [
    "HINT 1: Build cliques of 4 nodes and use `nx.relabel_nodes` before you add edges from the clique to the graph.\n",
    "\n",
    "HINT 2: All the nodes in a clique are identical until you choose which two nodes will connect to other cliques. Hence, you can choose any two nodes.\n",
    "\n",
    "HINT 3: There are only 4 connections between cliques. It is easier to think that each clique connects to the \"next\" one (in a cycle)."
   ]
  },
  {
   "cell_type": "code",
   "execution_count": null,
   "metadata": {
    "id": "ayJ64jBHzwGT"
   },
   "outputs": [],
   "source": [
    "import networkx as nx"
   ]
  },
  {
   "cell_type": "code",
   "execution_count": null,
   "metadata": {
    "deletable": false,
    "id": "OTGHMfdV6lWQ",
    "nbgrader": {
     "cell_type": "code",
     "checksum": "7444d74f537406f48889f64c253139ab",
     "grade": true,
     "grade_id": "community_1",
     "locked": false,
     "points": 7,
     "schema_version": 3,
     "solution": true,
     "task": false
    }
   },
   "outputs": [],
   "source": [
    "# A1. (~7-10 lines)\n",
    "# YOUR CODE HERE\n",
    "raise NotImplementedError()"
   ]
  },
  {
   "cell_type": "code",
   "execution_count": null,
   "metadata": {
    "colab": {
     "base_uri": "https://localhost:8080/",
     "height": 537
    },
    "id": "IWYQIMKa7voM",
    "outputId": "77494fe2-4a80-48b9-90ed-029da7c6f423"
   },
   "outputs": [],
   "source": [
    "nx.draw(G)"
   ]
  },
  {
   "cell_type": "markdown",
   "metadata": {
    "id": "ECdtVGB0-sgQ"
   },
   "source": [
    "Q2. Run the Louvain algorithm on this network."
   ]
  },
  {
   "cell_type": "code",
   "execution_count": null,
   "metadata": {
    "deletable": false,
    "id": "urHuRCI39YV5",
    "nbgrader": {
     "cell_type": "code",
     "checksum": "e290337229719c501a355eee8bfd3b0f",
     "grade": true,
     "grade_id": "community_2",
     "locked": false,
     "points": 1,
     "schema_version": 3,
     "solution": true,
     "task": false
    }
   },
   "outputs": [],
   "source": [
    "# A2. (1 line)\n",
    "# YOUR CODE HERE\n",
    "raise NotImplementedError()"
   ]
  },
  {
   "cell_type": "code",
   "execution_count": null,
   "metadata": {
    "colab": {
     "base_uri": "https://localhost:8080/"
    },
    "id": "qN8j5ebJ_fXI",
    "outputId": "b9132dcb-5950-4d1f-886e-a512d7eed2f4"
   },
   "outputs": [],
   "source": [
    "print(comms)"
   ]
  },
  {
   "cell_type": "markdown",
   "metadata": {
    "id": "XQ_fYj_n_UB8"
   },
   "source": [
    "We can plot the graph now using different colors for each community."
   ]
  },
  {
   "cell_type": "code",
   "execution_count": null,
   "metadata": {
    "colab": {
     "base_uri": "https://localhost:8080/",
     "height": 537
    },
    "id": "fTYWzrhN_Lk1",
    "outputId": "0dd9c76b-8987-48b4-fc61-f3fe4142c94b"
   },
   "outputs": [],
   "source": [
    "pos = nx.spring_layout(G) #calculate position for each node\n",
    "# pos is needed because we are going to draw a few nodes at a time,\n",
    "# pos fixes their positions.\n",
    "\n",
    "# Notice that the pos dict is passed to each call to draw below\n",
    "\n",
    "# Draw the graph, but don't color the nodes\n",
    "nx.draw(G, pos, edge_color='k',  with_labels=True,\n",
    "         font_weight='light', node_size= 280, width= 0.9)\n",
    "\n",
    "#For each community list, draw the nodes, giving it a specific color.\n",
    "for idx, node_lists_community in enumerate(comms):\n",
    "  nx.draw_networkx_nodes(G, pos, nodelist=node_lists_community, node_color=f'C{idx}')"
   ]
  },
  {
   "cell_type": "markdown",
   "metadata": {
    "id": "HKIBy6gBAZxO"
   },
   "source": [
    "Q3. Now consider a larger version of the same network, with 32 cliques of 4 nodes each (arranged in a ring as earlier); call this network Gbig. Again, assume all the edges have same weight value 1, and there exists exactly one edge between any two adjacent cliques. The first phase of modularity optimization, as expected, detects each clique as a single community. After aggregation, this forms a new network Hbig with 32 nodes.\n",
    "\n",
    "Your task is to generate network Gbig, then return the results obtained when running a single iteration of Phase 1 from the Louvain Algorithm. You can use the method implemented in `networkx`. Check which additional parameters you need to use."
   ]
  },
  {
   "cell_type": "code",
   "execution_count": null,
   "metadata": {
    "colab": {
     "base_uri": "https://localhost:8080/"
    },
    "deletable": false,
    "id": "z73M6pzeARCW",
    "nbgrader": {
     "cell_type": "code",
     "checksum": "0e2a2cee66a94e33563245ce59b3f395",
     "grade": true,
     "grade_id": "community_3",
     "locked": false,
     "points": 2,
     "schema_version": 3,
     "solution": true,
     "task": false
    },
    "outputId": "7ac7ab43-f681-47b3-dc5f-133aa9c1be82"
   },
   "outputs": [],
   "source": [
    "# A3. (2 lines, if you write the graph generation as a function)\n",
    "# YOUR CODE HERE\n",
    "raise NotImplementedError()\n",
    "print(len(comms))"
   ]
  },
  {
   "cell_type": "markdown",
   "metadata": {
    "id": "wk78RzzFBiX7"
   },
   "source": [
    "# Random Walk & PageRank (6 questions + 4 ISU only)"
   ]
  },
  {
   "cell_type": "markdown",
   "metadata": {
    "id": "UKkycYjAr5xS"
   },
   "source": [
    "We saw in class that a random walk on a graph is a stochastic process that uses the structure to determine the order in which nodes are visited.\n",
    "\n",
    "The simplest random walk is sometimes called the uniform random walk since it chooses the next node to visit uniformly at random from the set of neighbors of the current node."
   ]
  },
  {
   "cell_type": "code",
   "execution_count": null,
   "metadata": {
    "id": "FCR0Mp5ftv4J"
   },
   "outputs": [],
   "source": [
    "# load Zachary's karate club network\n",
    "G = nx.karate_club_graph()"
   ]
  },
  {
   "cell_type": "code",
   "execution_count": null,
   "metadata": {
    "colab": {
     "base_uri": "https://localhost:8080/",
     "height": 537
    },
    "id": "_JARa_6IvoCo",
    "outputId": "598699a0-ecfe-4b6d-e81d-d95dc733cb87"
   },
   "outputs": [],
   "source": [
    "# plot G with node labels\n",
    "pos = nx.spring_layout(G)\n",
    "nx.draw(G, pos, with_labels=True, font_weight='bold')"
   ]
  },
  {
   "cell_type": "markdown",
   "metadata": {
    "id": "L_CrQrtSv9rQ"
   },
   "source": [
    "We saw that the random walk is an **ergodic** Markov Chain (i.e., will converge to a unique steady state solution) if and only if the graph satisfies two conditions."
   ]
  },
  {
   "cell_type": "markdown",
   "metadata": {
    "id": "0AbM0sH2wNS8"
   },
   "source": [
    "Q1. Use the graph visualization above to argue that the karate club network satisfies the two conditions. (~2-4 sentences)"
   ]
  },
  {
   "cell_type": "markdown",
   "metadata": {
    "deletable": false,
    "id": "DHbuZ4nzwzbZ",
    "nbgrader": {
     "cell_type": "markdown",
     "checksum": "c84609d02909f3f65d436639fd6ae795",
     "grade": true,
     "grade_id": "rw_1",
     "locked": false,
     "points": 3,
     "schema_version": 3,
     "solution": true,
     "task": false
    }
   },
   "source": [
    "YOUR ANSWER HERE"
   ]
  },
  {
   "cell_type": "markdown",
   "metadata": {
    "id": "cBry8A6urouG"
   },
   "source": [
    "The following code implements a uniform random walk from scratch."
   ]
  },
  {
   "cell_type": "code",
   "execution_count": null,
   "metadata": {
    "id": "d87KvqihrXat"
   },
   "outputs": [],
   "source": [
    "def random_walk(G, start_node, num_steps):\n",
    "  current_node = start_node\n",
    "  for step in range(num_steps):\n",
    "    neighbors = list(G.neighbors(current_node))\n",
    "    next_node = np.random.choice(neighbors)\n",
    "    yield next_node\n",
    "    current_node = next_node"
   ]
  },
  {
   "cell_type": "markdown",
   "metadata": {
    "id": "iR_D4FVutX_q"
   },
   "source": [
    "Below we run a random walk for $T=1000$ steps, starting from a node chosen uniformly at random."
   ]
  },
  {
   "cell_type": "code",
   "execution_count": null,
   "metadata": {
    "colab": {
     "base_uri": "https://localhost:8080/"
    },
    "id": "MNhj_hM3tscD",
    "outputId": "7988814e-2831-4a5a-f4f6-b2bf06117b5f"
   },
   "outputs": [],
   "source": [
    "np.random.seed(4099)\n",
    "T = 1000\n",
    "\n",
    "# select initial node (seed)\n",
    "seed_node = np.random.choice(G.nodes())\n",
    "visited = list(random_walk(G, seed_node, T))\n",
    "\n",
    "# print seed and first 10 visited nodes\n",
    "print(f'initial_node: {seed_node}')\n",
    "print(visited[:10])"
   ]
  },
  {
   "cell_type": "markdown",
   "metadata": {
    "id": "rB95fE-fuxC5"
   },
   "source": [
    "Q2. Use bar plots to indicate the fraction of visits the RW makes to each node (the x-axis should be the node label). On the same plot, add points to show the expected value based on the steady state distribution:\n",
    "$$\n",
    "\\pi_x = \\frac{\\textrm{deg}(x)}{2M}.\n",
    "$$"
   ]
  },
  {
   "cell_type": "code",
   "execution_count": null,
   "metadata": {
    "colab": {
     "base_uri": "https://localhost:8080/",
     "height": 348
    },
    "deletable": false,
    "id": "Vj-vuq3yucht",
    "nbgrader": {
     "cell_type": "code",
     "checksum": "9459da323d0352520168dc2f7a9739cf",
     "grade": true,
     "grade_id": "rw_2",
     "locked": false,
     "points": 10,
     "schema_version": 3,
     "solution": true,
     "task": false
    },
    "outputId": "71d3e0cc-9071-4ad0-a18d-d137d7dde07d"
   },
   "outputs": [],
   "source": [
    "# A2. (10+ lines)\n",
    "# YOUR CODE HERE\n",
    "raise NotImplementedError()"
   ]
  },
  {
   "cell_type": "markdown",
   "metadata": {
    "id": "Nj3O-rOJ06zW"
   },
   "source": [
    "Q3. [ISU STUDENTS ONLY] Do you expect to get very different results for the blue bars starting from a different node? Why? (~2 sentences).\n",
    "\n",
    "Hint: It is OK to try this out and conclude something based on the results, but you don't have to."
   ]
  },
  {
   "cell_type": "markdown",
   "metadata": {
    "deletable": false,
    "id": "jERPRmCn1TSR",
    "nbgrader": {
     "cell_type": "markdown",
     "checksum": "42b0f774ec7323fdcdd00b0cee08d57c",
     "grade": true,
     "grade_id": "rw_3",
     "locked": false,
     "points": 2,
     "schema_version": 3,
     "solution": true,
     "task": false
    }
   },
   "source": [
    "YOUR ANSWER HERE"
   ]
  },
  {
   "cell_type": "markdown",
   "metadata": {
    "id": "V0MYh02X0ID9"
   },
   "source": [
    "Now we will consider a different network, define the transition probability $P$ and use it for iterating an initial state until convergence."
   ]
  },
  {
   "cell_type": "code",
   "execution_count": null,
   "metadata": {
    "colab": {
     "base_uri": "https://localhost:8080/",
     "height": 537
    },
    "id": "2XCDeT_Ny9h7",
    "outputId": "c9a4ae04-01c8-45f7-b51c-8f34bf3ae273"
   },
   "outputs": [],
   "source": [
    "nodes_per_component = 8\n",
    "sizes = [nodes_per_component, nodes_per_component]\n",
    "probs = [[.6, .0],[.0, .5]]\n",
    "G = nx.stochastic_block_model(sizes, probs, seed=4099)\n",
    "\n",
    "nx.draw(G, node_color=['C0']*nodes_per_component+['C1']*nodes_per_component)"
   ]
  },
  {
   "cell_type": "markdown",
   "metadata": {
    "id": "qLo_CpQU17Rk"
   },
   "source": [
    "Q4. Determine the transition probability matrix $P$ for a random walk, where $P_{ji}$ is the probability of transitioning from $i$ to $j$.\n",
    "\n",
    "Hint: Think whether you need to normalize the rows or the columns."
   ]
  },
  {
   "cell_type": "code",
   "execution_count": null,
   "metadata": {
    "deletable": false,
    "id": "ZsONqEF4An0g",
    "nbgrader": {
     "cell_type": "code",
     "checksum": "d126b6c5390d5169f1022c6480f1f55a",
     "grade": true,
     "grade_id": "pagerank_4",
     "locked": false,
     "points": 2,
     "schema_version": 3,
     "solution": true,
     "task": false
    }
   },
   "outputs": [],
   "source": [
    "# A4. (~2-4 lines)\n",
    "# YOUR CODE HERE\n",
    "raise NotImplementedError()"
   ]
  },
  {
   "cell_type": "code",
   "execution_count": null,
   "metadata": {
    "colab": {
     "base_uri": "https://localhost:8080/"
    },
    "id": "7ivz_OglJkoB",
    "outputId": "e127fda8-ebe8-427b-d8e9-d5db8fd09a67"
   },
   "outputs": [],
   "source": [
    "print(np.round(P,1))"
   ]
  },
  {
   "cell_type": "markdown",
   "metadata": {
    "id": "M4j7qshMK2Id"
   },
   "source": [
    "Q5. Now we will use $P$ to obtain the state probabilities $\\pi_t$ for $t=1,\\ldots$ starting from a single node.\n",
    "\n",
    "(a) First, you will define $\\pi_0$ (i.e., the distribution at time $t=0$) so that the random walk will necessarily start from node $3$ (indexes start from 0)."
   ]
  },
  {
   "cell_type": "code",
   "execution_count": null,
   "metadata": {
    "deletable": false,
    "id": "tUvfHaBALelU",
    "nbgrader": {
     "cell_type": "code",
     "checksum": "84a343a8b16c32a787be82811484b22d",
     "grade": true,
     "grade_id": "pagerank_5a",
     "locked": false,
     "points": 2,
     "schema_version": 3,
     "solution": true,
     "task": false
    }
   },
   "outputs": [],
   "source": [
    "# A5a. (~2 lines)\n",
    "# YOUR CODE HERE\n",
    "raise NotImplementedError()"
   ]
  },
  {
   "cell_type": "code",
   "execution_count": null,
   "metadata": {
    "colab": {
     "base_uri": "https://localhost:8080/"
    },
    "id": "_lcw8jIeNDzr",
    "outputId": "109ae9bc-8e37-4324-94b6-ac2e263dcaf9"
   },
   "outputs": [],
   "source": [
    "print(pi)"
   ]
  },
  {
   "cell_type": "markdown",
   "metadata": {
    "id": "q8BhaLARMT92"
   },
   "source": [
    "(b) Define a function `compute_state_distribution(P, pi, T)` that takes as input the initial state distribution `pi` and iterates `T` times using matrix `P`.\n",
    "\n",
    "Perform $T = 10$ iterations from $\\pi_0$ determine $\\pi_{10}$.\n",
    "\n",
    "PRO TIP: To avoid issues with numpy's broadcasting, make $\\pi$ a 2D array of shape (n,1)."
   ]
  },
  {
   "cell_type": "code",
   "execution_count": null,
   "metadata": {
    "id": "UQBpONxyMmRk"
   },
   "outputs": [],
   "source": [
    "T = 10"
   ]
  },
  {
   "cell_type": "code",
   "execution_count": null,
   "metadata": {
    "deletable": false,
    "id": "F5RJoLCaMTY8",
    "nbgrader": {
     "cell_type": "code",
     "checksum": "e9c30ff3bf3bc225ec5c8b401c2a2bf3",
     "grade": true,
     "grade_id": "pagerank_5b",
     "locked": false,
     "points": 6,
     "schema_version": 3,
     "solution": true,
     "task": false
    }
   },
   "outputs": [],
   "source": [
    "# A5b. (~6 lines)\n",
    "# YOUR CODE HERE\n",
    "raise NotImplementedError()"
   ]
  },
  {
   "cell_type": "code",
   "execution_count": null,
   "metadata": {
    "colab": {
     "base_uri": "https://localhost:8080/"
    },
    "id": "89nD-otmNPxB",
    "outputId": "9808b1ae-00f1-4e08-d074-b530d85127c0"
   },
   "outputs": [],
   "source": [
    "print(pi)"
   ]
  },
  {
   "cell_type": "markdown",
   "metadata": {
    "id": "CQLrZMWxNeRI"
   },
   "source": [
    "(c) Now compute $\\pi_{10}$, but this time start the random walk from node 15."
   ]
  },
  {
   "cell_type": "code",
   "execution_count": null,
   "metadata": {
    "deletable": false,
    "id": "byhpcXXROcwS",
    "nbgrader": {
     "cell_type": "code",
     "checksum": "d13d841cb4881082adf041e52dc74fa4",
     "grade": true,
     "grade_id": "pagerank_5c",
     "locked": false,
     "points": 3,
     "schema_version": 3,
     "solution": true,
     "task": false
    }
   },
   "outputs": [],
   "source": [
    "# YOUR CODE HERE\n",
    "raise NotImplementedError()"
   ]
  },
  {
   "cell_type": "code",
   "execution_count": null,
   "metadata": {
    "colab": {
     "base_uri": "https://localhost:8080/"
    },
    "id": "F-Wr7WcrPX4Q",
    "outputId": "ccb38b49-340e-4cd8-cde8-368f95a023ab"
   },
   "outputs": [],
   "source": [
    "print(pi)"
   ]
  },
  {
   "cell_type": "markdown",
   "metadata": {
    "id": "jl26bx0vOdzC"
   },
   "source": [
    "(d) Is the steady state distribution unique, regardless of the initial node? Why? (~2 sentences)"
   ]
  },
  {
   "cell_type": "markdown",
   "metadata": {
    "deletable": false,
    "id": "mLrbb2fGPdJg",
    "nbgrader": {
     "cell_type": "markdown",
     "checksum": "ce9ba5291903ab638998300915ad800d",
     "grade": true,
     "grade_id": "pagerank_5d",
     "locked": false,
     "points": 2,
     "schema_version": 3,
     "solution": true,
     "task": false
    }
   },
   "source": [
    "YOUR ANSWER HERE"
   ]
  },
  {
   "cell_type": "markdown",
   "metadata": {
    "id": "j7i0YlufP8mt"
   },
   "source": [
    "Q6. [ISU STUDENTS ONLY] Modify $P$ so that this new RW:\n",
    "* behaves as the uniform RW with probability 0.6,\n",
    "* transitions to node 0 with probability 0.2,\n",
    "* transitions to node 8 with probability 0.2;\n",
    "\n",
    "HINT 1: note that $P_{0,i}$ will be larger than 0.2 if $i$ is connected to 0. (The same is true for node 8).\n",
    "\n",
    "HINT 2: make sure that you have valid probability distributions."
   ]
  },
  {
   "cell_type": "code",
   "execution_count": null,
   "metadata": {
    "deletable": false,
    "id": "RWrruRCgNWGM",
    "nbgrader": {
     "cell_type": "code",
     "checksum": "91c42835faac73d64d6668b64d023ab4",
     "grade": true,
     "grade_id": "pagerank_6",
     "locked": false,
     "points": 3,
     "schema_version": 3,
     "solution": true,
     "task": false
    }
   },
   "outputs": [],
   "source": [
    "# A6. (~3-4 lines)\n",
    "# YOUR CODE HERE\n",
    "raise NotImplementedError()"
   ]
  },
  {
   "cell_type": "code",
   "execution_count": null,
   "metadata": {
    "colab": {
     "base_uri": "https://localhost:8080/"
    },
    "id": "SFNyayF7Ndts",
    "outputId": "2df6fdeb-e7f4-4a43-8d1b-8471ea30ba07"
   },
   "outputs": [],
   "source": [
    "print(P[0,1])"
   ]
  },
  {
   "cell_type": "markdown",
   "metadata": {
    "id": "JeuAjee1UZnk"
   },
   "source": [
    "Now we use the PageRank algorithm to rank not pages, but [Wikipedia editors](http://snap.stanford.edu/data/wiki-Vote.html) based on how they vote on each other."
   ]
  },
  {
   "cell_type": "markdown",
   "metadata": {
    "id": "22tsusjoXCgF"
   },
   "source": [
    "Q7. Download the Wikipedia vote network, load it using networkx and run the PageRank algorithm from the library.\n",
    "\n",
    "HINT 1: You can use library `urllib` to download the dataset from http://snap.stanford.edu/data/wiki-Vote.txt.gz. Check function `urllib.request.urlretrieve`.\n",
    "\n",
    "HINT 2: networkx has a function that allows you to read edgelists without uncompressing the file.\n",
    "\n",
    "HINT 3: make sure that you are reading it as a directed graph."
   ]
  },
  {
   "cell_type": "code",
   "execution_count": null,
   "metadata": {
    "deletable": false,
    "id": "OeHFcJ8TXPWu",
    "nbgrader": {
     "cell_type": "code",
     "checksum": "3b9375442ff8efd97b20dacbd10d0427",
     "grade": true,
     "grade_id": "pagerank_7",
     "locked": false,
     "points": 2,
     "schema_version": 3,
     "solution": true,
     "task": false
    }
   },
   "outputs": [],
   "source": [
    "# A7. (~2-3 lines)\n",
    "# YOUR CODE HERE\n",
    "raise NotImplementedError()"
   ]
  },
  {
   "cell_type": "code",
   "execution_count": null,
   "metadata": {
    "colab": {
     "base_uri": "https://localhost:8080/"
    },
    "id": "nM9rIxS-W8u0",
    "outputId": "71f71a08-c786-4824-9bb7-b6eee6e0158f"
   },
   "outputs": [],
   "source": [
    "print(G.number_of_nodes())\n",
    "print(G.number_of_edges())"
   ]
  },
  {
   "cell_type": "markdown",
   "metadata": {
    "id": "CRCc2w5mZFzs"
   },
   "source": [
    "Q8. Run the pagerank algorithm setting the probability of teleporting to 0.2, then determine the highest ranked editor."
   ]
  },
  {
   "cell_type": "code",
   "execution_count": null,
   "metadata": {
    "id": "CH0l8bRooXDM"
   },
   "outputs": [],
   "source": [
    "top_ranked_editor = None"
   ]
  },
  {
   "cell_type": "code",
   "execution_count": null,
   "metadata": {
    "deletable": false,
    "id": "Z9YeSlJCS62o",
    "nbgrader": {
     "cell_type": "code",
     "checksum": "764463d90d589e38d6dee388690d83da",
     "grade": true,
     "grade_id": "pagerank_8",
     "locked": false,
     "points": 2,
     "schema_version": 3,
     "solution": true,
     "task": false
    }
   },
   "outputs": [],
   "source": [
    "# A8. (~2-4 lines)\n",
    "# YOUR CODE HERE\n",
    "raise NotImplementedError()"
   ]
  },
  {
   "cell_type": "code",
   "execution_count": null,
   "metadata": {
    "colab": {
     "base_uri": "https://localhost:8080/"
    },
    "id": "e3GLY0-HZcSI",
    "outputId": "f6c3daeb-34c0-4512-867f-976f9c0e6fc2"
   },
   "outputs": [],
   "source": [
    "print(f\"The top ranked editor is: {top_ranked_editor}\")"
   ]
  },
  {
   "cell_type": "markdown",
   "metadata": {
    "id": "fBV28rOhZ48T"
   },
   "source": [
    "Side note: in reality, some of the votes are neutral or negative. The 'sign' of the vote would have to be factored in to get a more accurate ranking."
   ]
  },
  {
   "cell_type": "markdown",
   "metadata": {
    "id": "z5hFKIfkbESH"
   },
   "source": [
    "The PageRank algorithm can slightly modified in order to compute the relative importance of other nodes for a given node $v$. The only change required is to force all teleportations to go back to node $v$.\n",
    "\n",
    "The ranking is then determined by the fraction of times a node was visited (the more times, the more important).\n",
    "\n",
    "Q9. [ISU STUDENTS ONLY] Starting from the implementation of the function `random_walk` provided above, add the teleportation step to implement `custom_pagerank`.\n",
    "\n",
    "HINT: If the current_node has no outgoing neighbors, the walker MUST teleport."
   ]
  },
  {
   "cell_type": "code",
   "execution_count": null,
   "metadata": {
    "id": "yjjezS4adw_d"
   },
   "outputs": [],
   "source": [
    "np.random.seed(4099)"
   ]
  },
  {
   "cell_type": "code",
   "execution_count": null,
   "metadata": {
    "deletable": false,
    "id": "fDMEznDubDwx",
    "nbgrader": {
     "cell_type": "code",
     "checksum": "68027eee682f859b5f8184a0f2471d28",
     "grade": true,
     "grade_id": "pagerank_9",
     "locked": false,
     "points": 4,
     "schema_version": 3,
     "solution": true,
     "task": false
    }
   },
   "outputs": [],
   "source": [
    "# A9. (~3-4 new lines)\n",
    "# YOUR CODE HERE\n",
    "raise NotImplementedError()"
   ]
  },
  {
   "cell_type": "markdown",
   "metadata": {
    "id": "ysKyfREZeEFN"
   },
   "source": [
    "Q10. [ISU STUDENTS ONLY] Use your code to find the 10 `most_important_editors` from the perspective of editor '4037' (label is a string!). Use a teleportation probability of 0.5.\n",
    "\n",
    "Note: The page rank seems to take a really long time to converge in this case. As long as your answer contains one of the top 10 from our answers, it will be considered correct.\n",
    "\n",
    "HINT: If you are using `Counter`, making the labels and counts as separate `np.arrays` is a good idea if you plan to slice them later. For instance:\n",
    "\n",
    "`labels = np.array(list(counter.keys()))`\n",
    "\n",
    "`counts = np.array(list(counter.values()))`\n"
   ]
  },
  {
   "cell_type": "code",
   "execution_count": null,
   "metadata": {
    "id": "iIp7aI7ggFIe"
   },
   "outputs": [],
   "source": [
    "start_node = '4037'\n",
    "teleport_prob = 0.5\n",
    "most_important_editors = []"
   ]
  },
  {
   "cell_type": "code",
   "execution_count": null,
   "metadata": {
    "deletable": false,
    "id": "pklR1slcZjAr",
    "nbgrader": {
     "cell_type": "code",
     "checksum": "b3eae60412bc941a82712a4660c31158",
     "grade": true,
     "grade_id": "pagerank_10",
     "locked": false,
     "points": 8,
     "schema_version": 3,
     "solution": true,
     "task": false
    }
   },
   "outputs": [],
   "source": [
    "# A10. (~8 lines)\n",
    "# YOUR CODE HERE\n",
    "raise NotImplementedError()"
   ]
  },
  {
   "cell_type": "code",
   "execution_count": null,
   "metadata": {
    "colab": {
     "base_uri": "https://localhost:8080/"
    },
    "id": "AelmusqtjCpB",
    "outputId": "61687941-8fb5-4ab0-cb21-aa556d3921a4"
   },
   "outputs": [],
   "source": [
    "print(f'Most important editors relative to {start_node}:\\n{most_important_editors}')"
   ]
  }
 ],
 "metadata": {
  "colab": {
   "provenance": [],
   "toc_visible": true
  },
  "kernelspec": {
   "display_name": ".venv",
   "language": "python",
   "name": "python3"
  },
  "language_info": {
   "codemirror_mode": {
    "name": "ipython",
    "version": 3
   },
   "file_extension": ".py",
   "mimetype": "text/x-python",
   "name": "python",
   "nbconvert_exporter": "python",
   "pygments_lexer": "ipython3",
   "version": "3.13.1"
  }
 },
 "nbformat": 4,
 "nbformat_minor": 4
}
